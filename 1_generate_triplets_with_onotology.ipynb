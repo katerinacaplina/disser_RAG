{
 "cells": [
  {
   "cell_type": "code",
   "execution_count": 1,
   "metadata": {},
   "outputs": [],
   "source": [
    "from typing import List\n",
    "from langchain_community.llms import LlamaCpp\n",
    "from langchain.prompts import PromptTemplate\n",
    "from langchain_core.output_parsers import JsonOutputParser\n",
    "from kor.extraction import create_extraction_chain\n",
    "from kor.nodes import Object, Text\n",
    "import os\n",
    "import json\n",
    "from tqdm import tqdm"
   ]
  },
  {
   "cell_type": "markdown",
   "metadata": {},
   "source": [
    "Онтология из репозитория"
   ]
  },
  {
   "cell_type": "code",
   "execution_count": 2,
   "metadata": {},
   "outputs": [],
   "source": [
    "ont = {\n",
    "\t\"title\": \"Movie Ontology\",\n",
    "\t\"id\": \"ont_1_movie\",\n",
    "\t\"concepts\": [\n",
    "\t\t{\"qid\": \"Q5\", \"label\": \"human\"},\n",
    "\t\t{\"qid\": \"Q515\", \"label\": \"city\"},\n",
    "\t\t{\"qid\": \"Q6256\", \"label\": \"country\"},\n",
    "\t\t{\"qid\": \"Q11424\", \"label\": \"film\"},\n",
    "\t\t{\"qid\": \"Q201658\", \"label\": \"film genre\"},\n",
    "\t\t{\"qid\": \"Q483394\", \"label\": \"genre\"},\n",
    "\t\t{\"qid\": \"Q1762059\", \"label\": \"film production company\"},\n",
    "\t\t{\"qid\": \"Q4220917\", \"label\": \"film award\"},\n",
    "\t\t{\"qid\": \"Q618779\", \"label\": \"award\"},\n",
    "\t\t{\"qid\": \"Q47461344\", \"label\": \"written work\"},\n",
    "\t\t{\"qid\": \"Q15773347\", \"label\": \"film character\"},\n",
    "\t\t{\"qid\": \"Q104649845\", \"label\": \"film organization\"}\n",
    "\t],\n",
    "\t\"relations\": [\n",
    "\t\t{\"pid\": \"P57\", \"label\": \"director\", \"domain\": \"Q11424\", \"range\": \"Q5\"},\n",
    "\t\t{\"pid\": \"P58\", \"label\": \"screenwriter\", \"domain\": \"Q11424\", \"range\": \"Q5\"},\n",
    "\t\t{\"pid\": \"P136\", \"label\": \"genre\", \"domain\": \"Q11424\", \"range\": \"Q483394\"},\n",
    "\t\t{\"pid\": \"P144\", \"label\": \"based on\", \"domain\": \"Q11424\", \"range\": \"Q47461344\"},\n",
    "\t\t{\"pid\": \"P161\", \"label\": \"cast member\", \"domain\": \"Q11424\", \"range\": \"Q5\"},\n",
    "\t\t{\"pid\": \"P166\", \"label\": \"award received\", \"domain\": \"Q11424\", \"range\": \"Q618779\"},\n",
    "\t\t{\"pid\": \"P272\", \"label\": \"production company\", \"domain\": \"Q11424\", \"range\": \"Q1762059\"},\n",
    "\t\t{\"pid\": \"P495\", \"label\": \"country of origin\", \"domain\": \"Q11424\", \"range\": \"Q6256\"},\n",
    "\t\t{\"pid\": \"P577\", \"label\": \"publication date\", \"domain\": \"Q11424\", \"range\": \"\"},\n",
    "\t\t{\"pid\": \"P674\", \"label\": \"characters\", \"domain\": \"Q11424\", \"range\": \"Q15773347\"},\n",
    "\t\t{\"pid\": \"P840\", \"label\": \"narrative location\", \"domain\": \"Q11424\", \"range\": \"Q515\"},\n",
    "\t\t{\"pid\": \"P915\", \"label\": \"filming location\", \"domain\": \"Q11424\", \"range\": \"Q515\"},\n",
    "\t\t{\"pid\": \"P921\", \"label\": \"main subject\", \"domain\": \"Q11424\", \"range\": \"\"},\n",
    "\t\t{\"pid\": \"P1411\", \"label\": \"nominated for\", \"domain\": \"Q11424\", \"range\": \"Q618779\"},\n",
    "\t\t{\"pid\": \"P2130\", \"label\": \"cost\", \"domain\": \"Q11424\", \"range\": \"\"}\n",
    "\t]\n",
    "}"
   ]
  },
  {
   "cell_type": "markdown",
   "metadata": {},
   "source": [
    "Возьмем онтологию из репозитория по кинофильмам. Если мы посмотрим на структуру, то заметим пустые значения в ключе relations. Что подразумевает некую вариантивность доступных типов значений для категории объекта в триплетах. Более того, если углубиться в содержание триплетов из указанного репозитория, то мы можем обнаружить некоторые несоответствия в эталонных данных, которые ставят под сомнение истинность в разметке. Например, для типа связи \"publication date\" эталонных триплеты содержат информацию, которая не была отражена в \"сыром\" тексте. Ниже несколько примеров таких коллизий:\n",
    "\n",
    "1. {\"id\": \"ont_1_movie_test_1\", \"sent\": \"Bleach: Hell Verse (Japanese: BLEACH , Hepburn: Bur\\u00c4\\u00abchi Jigoku-Hen) is a 2010 Japanese animated film directed by Noriyuki Abe.\", \"triples\": [{\"sub\": \"Bleach : Hell Verse\", \"rel\": \"director\", \"obj\": \"Noriyuki Abe\"}, {\"sub\": \"Bleach : Hell Verse\", \"rel\": \"publication date\", \"obj\": \"01 January 2010\"}]}\n",
    "\n",
    "В этом примере в изначальном тексте указан год, при этом в эталонном триплете дата расширена для формата дд-мм-гггг, и может не отражать фактическую дату выхода фильма.\n",
    "\n",
    "2. {\"id\": \"ont_1_movie_test_6\", \"sent\": \"The Life on the Earth - The Summer of Dioxin ( Inochi No Chikyuu - Dioxin No Natsu), also known as Tracing the Gray Summer, is a 2001 Japanese anime drama film by Satoshi Dezaki, a joint production between the Magic Bus and the GoGo Visual Planning which recounts the true story of the Seveso disaster, a chemical incident occurred over the Italian town of Seveso in 1976, which is still considered one of the worst ecological disasters in history.\", \"triples\": [{\"sub\": \"Inochi No Chikyuu : Dioxin No Natsu\", \"rel\": \"director\", \"obj\": \"Satoshi Dezaki\"}, {\"sub\": \"Inochi No Chikyuu : Dioxin No Natsu\", \"rel\": \"publication date\", \"obj\": \"00  2001\"}, {\"sub\": \"Inochi No Chikyuu : Dioxin No Natsu\", \"rel\": \"based on\", \"obj\": \"Seveso disaster\"}]}\n",
    "\n",
    "В этом примере дата в эталонном триплете сложно интерпретируема.\n",
    "\n",
    "3. {\"id\": \"ont_1_movie_test_17\", \"sent\": \"Who Framed Roger Rabbit is a 1988 American live-action/animated mystery comedy film directed by Robert Zemeckis, produced by Frank Marshall and Robert Watts, and written by Jeffrey Price and Peter S. Seaman.\", \"triples\": [{\"sub\": \"Who Framed Roger Rabbit\", \"rel\": \"director\", \"obj\": \"Robert Zemeckis\"}, {\"sub\": \"Who Framed Roger Rabbit\", \"rel\": \"publication date\", \"obj\": \"22 June 1988\"}, {\"sub\": \"Who Framed Roger Rabbit\", \"rel\": \"publication date\", \"obj\": \"02 December 1988\"}, {\"sub\": \"Who Framed Roger Rabbit\", \"rel\": \"publication date\", \"obj\": \"27 October 1988\"}, {\"sub\": \"Who Framed Roger Rabbit\", \"rel\": \"screenwriter\", \"obj\": \"Jeffrey Price\"}, {\"sub\": \"Who Framed Roger Rabbit\", \"rel\": \"screenwriter\", \"obj\": \"Peter S. Seaman\"}]}\n",
    "\n",
    "\n",
    "В этом примере для одной и той же сущности в эталонных триплетах указаны несколько связей с разными датами. При этом в изначальном тексте дата публикации не конкретизирована до дня и месяца.\n",
    "\n",
    "С учетом вышесказанного в рамках настоящего эксперимента мы исключим из онтологии и разменных данных те типы связей, которые подразумевают неоднозначность интерпретации для целей более качественной оценки экстракции информации при генерировании триплетов различными моделями."
   ]
  },
  {
   "cell_type": "code",
   "execution_count": 3,
   "metadata": {},
   "outputs": [],
   "source": [
    "ont = {\n",
    "\t\"title\": \"Movie Ontology\",\n",
    "\t\"id\": \"ont_1_movie\",\n",
    "\t\"concepts\": [\n",
    "\t\t{\"qid\": \"Q5\", \"label\": \"human\"},\n",
    "\t\t{\"qid\": \"Q515\", \"label\": \"city\"},\n",
    "\t\t{\"qid\": \"Q6256\", \"label\": \"country\"},\n",
    "\t\t{\"qid\": \"Q11424\", \"label\": \"film\"},\n",
    "\t\t# {\"qid\": \"Q201658\", \"label\": \"film genre\"},  Неиспользуемая сущность в онтологии\n",
    "\t\t{\"qid\": \"Q483394\", \"label\": \"genre\"},\n",
    "\t\t{\"qid\": \"Q1762059\", \"label\": \"film production company\"},\n",
    "\t\t# {\"qid\": \"Q4220917\", \"label\": \"film award\"}, Неиспользуемая сущность в онтологии\n",
    "\t\t{\"qid\": \"Q618779\", \"label\": \"award\"},\n",
    "\t\t{\"qid\": \"Q47461344\", \"label\": \"written work\"},\n",
    "\t\t{\"qid\": \"Q15773347\", \"label\": \"film character\"},\n",
    "\t\t# {\"qid\": \"Q104649845\", \"label\": \"film organization\"} Неиспользуемая сущность в онтологии\n",
    "\t],\n",
    "\t\"relations\": [\n",
    "\t\t{\"pid\": \"P57\", \"label\": \"director\", \"domain\": \"Q11424\", \"range\": \"Q5\"},\n",
    "\t\t{\"pid\": \"P58\", \"label\": \"screenwriter\", \"domain\": \"Q11424\", \"range\": \"Q5\"},\n",
    "\t\t{\"pid\": \"P136\", \"label\": \"genre\", \"domain\": \"Q11424\", \"range\": \"Q483394\"},\n",
    "\t\t{\"pid\": \"P144\", \"label\": \"based on\", \"domain\": \"Q11424\", \"range\": \"Q47461344\"},\n",
    "\t\t{\"pid\": \"P161\", \"label\": \"cast member\", \"domain\": \"Q11424\", \"range\": \"Q5\"},\n",
    "\t\t{\"pid\": \"P166\", \"label\": \"award received\", \"domain\": \"Q11424\", \"range\": \"Q618779\"},\n",
    "\t\t{\"pid\": \"P272\", \"label\": \"production company\", \"domain\": \"Q11424\", \"range\": \"Q1762059\"},\n",
    "\t\t{\"pid\": \"P495\", \"label\": \"country of origin\", \"domain\": \"Q11424\", \"range\": \"Q6256\"},\n",
    "\t\t{\"pid\": \"P674\", \"label\": \"characters\", \"domain\": \"Q11424\", \"range\": \"Q15773347\"},\n",
    "\t\t{\"pid\": \"P840\", \"label\": \"narrative location\", \"domain\": \"Q11424\", \"range\": \"Q515\"},\n",
    "\t\t{\"pid\": \"P915\", \"label\": \"filming location\", \"domain\": \"Q11424\", \"range\": \"Q515\"},\n",
    "\t\t{\"pid\": \"P1411\", \"label\": \"nominated for\", \"domain\": \"Q11424\", \"range\": \"Q618779\"},\n",
    "\t]\n",
    "}"
   ]
  },
  {
   "cell_type": "markdown",
   "metadata": {},
   "source": [
    "Объединяем типы данных в relations по id."
   ]
  },
  {
   "cell_type": "code",
   "execution_count": 4,
   "metadata": {},
   "outputs": [
    {
     "name": "stdout",
     "output_type": "stream",
     "text": [
      "[{'pid': 'P57', 'label': 'director', 'domain': 'Q11424', 'range': 'Q5', 'domain_label': 'film', 'range_label': 'human'}, {'pid': 'P58', 'label': 'screenwriter', 'domain': 'Q11424', 'range': 'Q5', 'domain_label': 'film', 'range_label': 'human'}, {'pid': 'P136', 'label': 'genre', 'domain': 'Q11424', 'range': 'Q483394', 'domain_label': 'film', 'range_label': 'genre'}, {'pid': 'P144', 'label': 'based on', 'domain': 'Q11424', 'range': 'Q47461344', 'domain_label': 'film', 'range_label': 'written work'}, {'pid': 'P161', 'label': 'cast member', 'domain': 'Q11424', 'range': 'Q5', 'domain_label': 'film', 'range_label': 'human'}, {'pid': 'P166', 'label': 'award received', 'domain': 'Q11424', 'range': 'Q618779', 'domain_label': 'film', 'range_label': 'award'}, {'pid': 'P272', 'label': 'production company', 'domain': 'Q11424', 'range': 'Q1762059', 'domain_label': 'film', 'range_label': 'film production company'}, {'pid': 'P495', 'label': 'country of origin', 'domain': 'Q11424', 'range': 'Q6256', 'domain_label': 'film', 'range_label': 'country'}, {'pid': 'P674', 'label': 'characters', 'domain': 'Q11424', 'range': 'Q15773347', 'domain_label': 'film', 'range_label': 'film character'}, {'pid': 'P840', 'label': 'narrative location', 'domain': 'Q11424', 'range': 'Q515', 'domain_label': 'film', 'range_label': 'city'}, {'pid': 'P915', 'label': 'filming location', 'domain': 'Q11424', 'range': 'Q515', 'domain_label': 'film', 'range_label': 'city'}, {'pid': 'P1411', 'label': 'nominated for', 'domain': 'Q11424', 'range': 'Q618779', 'domain_label': 'film', 'range_label': 'award'}]\n"
     ]
    }
   ],
   "source": [
    "concepts_dict = {x['qid']: x['label'] for x in ont['concepts']}\n",
    "relations_with_text = [{**relation, 'domain_label': concepts_dict.get(relation['domain']), 'range_label': concepts_dict.get(relation['range'])} for relation in ont['relations']]\n",
    "print(relations_with_text)"
   ]
  },
  {
   "cell_type": "markdown",
   "metadata": {},
   "source": [
    "Список именованных сущностей из онтологии"
   ]
  },
  {
   "cell_type": "code",
   "execution_count": 5,
   "metadata": {},
   "outputs": [
    {
     "data": {
      "text/plain": [
       "'human, city, country, film, genre, film production company, award, written work, film character'"
      ]
     },
     "execution_count": 5,
     "metadata": {},
     "output_type": "execute_result"
    }
   ],
   "source": [
    "concepts_list = [x['label'] for x in ont['concepts']]\n",
    "concepts = ', '.join(concepts_list)\n",
    "concepts"
   ]
  },
  {
   "cell_type": "markdown",
   "metadata": {},
   "source": [
    "Список комбинаций связей в именованных сущностях"
   ]
  },
  {
   "cell_type": "code",
   "execution_count": 6,
   "metadata": {},
   "outputs": [
    {
     "name": "stdout",
     "output_type": "stream",
     "text": [
      "sub: film, rel: director, obj: human\n",
      "sub: film, rel: screenwriter, obj: human\n",
      "sub: film, rel: genre, obj: genre\n",
      "sub: film, rel: based on, obj: written work\n",
      "sub: film, rel: cast member, obj: human\n",
      "sub: film, rel: award received, obj: award\n",
      "sub: film, rel: production company, obj: film production company\n",
      "sub: film, rel: country of origin, obj: country\n",
      "sub: film, rel: characters, obj: film character\n",
      "sub: film, rel: narrative location, obj: city\n",
      "sub: film, rel: filming location, obj: city\n",
      "sub: film, rel: nominated for, obj: award\n",
      "\n"
     ]
    }
   ],
   "source": [
    "relations_list = []\n",
    "for i in relations_with_text:\n",
    "    rel = f\"sub: {i['domain_label']}, rel: {i['label']}, obj: {i['range_label']}\\n\"\n",
    "    relations_list.append(rel)\n",
    "relations_schema = \"\".join(relations_list)\n",
    "print(relations_schema)"
   ]
  },
  {
   "cell_type": "markdown",
   "metadata": {},
   "source": [
    "Автор репозитория стремится получить ответ в формате relation(subject, object), что вынуждает добавить дополнительную предобработку выводов модели для дальнейшего использовании их при построении графа знаний. Модифицируем подход, чтобы модель возвращала триплеты в формале [subject, relation, object]. Более того, автор репозитория пытается за один проход решить комплексную задачу: определить сущности и определить тип связи. При решении комплексных задач слабые модели зачасую склонны к галлюцинациям и демонстрируют низкое качество генерации. В настоящем исследовании мы пойдем по пути декомпозиции задачи, предполагая, что слабые модели смогут демонстрировать более лучшее качество при решении отдельных небольших задач."
   ]
  },
  {
   "cell_type": "markdown",
   "metadata": {},
   "source": [
    "При этом автор репозитория использует динамическое промптирование, подставляя в промпт примеры из наиболее похожих примеров в обучающей выборке, что делает сам подход довольно негибким. В настоящем исследовании предлагаю использовать более универсальный подход. Он будет состоять из двух этапов:\n",
    "\n",
    "1. На первом этапе мы получаем из необработанного текста все именованные сущности из онтологии (схемы).\n",
    "2. Получаем через модель наиболее подходящие связи из найденных моделью именованных сущностей, формируя таким образом триплеты в соответствии с обозначенной онтологией.\n",
    "\n",
    "Референс: https://bratanic-tomaz.medium.com/constructing-knowledge-graphs-from-text-using-openai-functions-096a6d010c17\n",
    "\n",
    "В данной статье добавлен дополнительных шаг для поиска скрытых дубликатов в именованных сущностях. Для данных из репозитория это не особо релевантно, поскольку каждый текст обособлен и предположительно тексты не пересекаются по содержанию"
   ]
  },
  {
   "cell_type": "markdown",
   "metadata": {},
   "source": [
    "Создаем объект схемы для вычленения именованных сущностей из списка concepts. Для каждой сущности мы прописываем краткое описание и предоставляем пример подстроки, в которой содержится эта сущность. Более того, под капотом такого метода происходит парсинг вывода модели, что позволяет работать сразу с выводом модели, как со словарем. Такой подход предположительно должен хорошо работать на моделях OpenAI, которые обученые на большых корпусах данных и хорошо понимают промпты, предполагающие получение вывода в формате Json. Локальные модели могут демонстрировать посредственное качество особенно при определении связей между сущностями, но при проведении файнтьюнинга можно добавить более высокого качества генерации.\n",
    "\n",
    "Референс: https://medium.com/@Gouse_MG/streamline-your-data-extraction-and-analysis-with-langchain-kor-gpt-a962b4be05ca "
   ]
  },
  {
   "cell_type": "code",
   "execution_count": 7,
   "metadata": {},
   "outputs": [],
   "source": [
    "schema = Object(\n",
    "    id=\"movie\",\n",
    "    description=\"information about a movie\",\n",
    "    attributes=[\n",
    "        Text(\n",
    "            id=\"human\",\n",
    "            description=\"The name of the human: director, screenwriter, cast member, etc.\",\n",
    "            examples=[(\"film directed by Noriyuki Abe\", \"Noriyuki Abe\")],\n",
    "        ),\n",
    "        Text(\n",
    "            id=\"city\",\n",
    "            description=\"The city where the movie was filmed or the city in which the film takes place\",\n",
    "            examples=[(\"a Vienna-based company\", \"Vienna\")],\n",
    "        ),\n",
    "        Text(\n",
    "            id=\"country\",\n",
    "            description=\"The country where the movie was filmed or the country in which the film takes place\",\n",
    "            examples=[(\"The story takes place in Clairton, Pennsylvania,\", \"Pennsylvania\")],\n",
    "        ),\n",
    "        Text(\n",
    "            id=\"film\",\n",
    "            description=\"The name of the film\",\n",
    "            examples=[(\"Bleach: Hell Verse (Japanese: BLEACH\", \"Bleach: Hell Verse\")],\n",
    "        ),\n",
    "        Text(\n",
    "            id=\"genre\",\n",
    "            description=\"The genre of the film\",\n",
    "            examples=[(\"Japanese animated fantasy film\", \"fantasy film\")]\n",
    "        ),\n",
    "        Text(\n",
    "            id=\"film_production_company\",\n",
    "            description=\"The name of the film production company\",\n",
    "            examples=[(\"short film produced by Pixar\", \"Pixar\")]\n",
    "        ),\n",
    "        Text(\n",
    "            id=\"award\",\n",
    "            description=\"The name of the award\",\n",
    "            examples=[(\"The film won the National Film Award for Best Feature Film\", \"National Film Award for Best Feature Film\")]\n",
    "        ),\n",
    "        Text(\n",
    "            id=\"written_work\",\n",
    "            description=\"The written work on which the film is based\",\n",
    "            examples=[(\"Adventures of Nils Holgersson is based on the novel The Wonderful Adventures of Nils\", \"The Wonderful Adventures of Nils\")]\n",
    "        ),\n",
    "        Text(\n",
    "            id=\"film_character\",\n",
    "            description=\"The name of the film character\",\n",
    "            examples=[(\"the first creation of the character Mickey Mouse\", \"Mickey Mouse\")]\n",
    "        ),\n",
    "    ],\n",
    "    examples=[\n",
    "            (\n",
    "                \"Welcome to Eltingville was written by Dorkin and Chuck Sheetz and received a positive reception.\",\n",
    "                [\n",
    "                    {\"human\": \"Dorkin\", \"human\": \"Chuck Sheetz\", \"written work\": \"Welcome to Eltingville\"},\n",
    "                ],\n",
    "            ),\n",
    "            (\n",
    "                \"Mobile Suit Gundam F91 was Gundam creator Yoshiyuki Tomino's attempt to launch a new Gundam saga, set 30 years after Char's Counterattack and 27 years after the later published Gundam Unicorn.\",\n",
    "                [\n",
    "                    {\"human\": \"Yoshiyuki Tomino\", \"film\": \"Mobile Suit Gundam F91\"},\n",
    "                ],\n",
    "            )\n",
    "    ],\n",
    "    many=True,\n",
    ")"
   ]
  },
  {
   "cell_type": "markdown",
   "metadata": {},
   "source": [
    "## Инициализируем модель "
   ]
  },
  {
   "cell_type": "markdown",
   "metadata": {},
   "source": [
    "Первоначальная идея потестить разные модели разбилась о суровую реальность возможностей и времени\n",
    "\n",
    "Поэтому ниже просто изначальный пример - сама работа дальше по ноутбуками по номерам"
   ]
  },
  {
   "cell_type": "code",
   "execution_count": 1,
   "metadata": {},
   "outputs": [],
   "source": [
    "model_path = \"../models/zephyr-7b-beta.Q6_K.gguf\"\n",
    "model_path = \"../models/mistral-7b-v0.1.Q5_K_M.gguf\"\n",
    "model_path = \"../models/llama-2-13b-chat.Q5_K_M.gguf\"\n",
    "model_path = \"../models/openchat-3.5-0106.Q8_0.gguf\"\n",
    "# model_path = \"../models/mixtral-8x7b-v0.1.Q6_K.gguf\""
   ]
  },
  {
   "cell_type": "code",
   "execution_count": 9,
   "metadata": {},
   "outputs": [
    {
     "name": "stderr",
     "output_type": "stream",
     "text": [
      "llama_model_loader: loaded meta data with 23 key-value pairs and 291 tensors from ../models/openchat-3.5-0106.Q8_0.gguf (version GGUF V3 (latest))\n",
      "llama_model_loader: Dumping metadata keys/values. Note: KV overrides do not apply in this output.\n",
      "llama_model_loader: - kv   0:                       general.architecture str              = llama\n",
      "llama_model_loader: - kv   1:                               general.name str              = openchat_openchat-3.5-0106\n",
      "llama_model_loader: - kv   2:                       llama.context_length u32              = 8192\n",
      "llama_model_loader: - kv   3:                     llama.embedding_length u32              = 4096\n",
      "llama_model_loader: - kv   4:                          llama.block_count u32              = 32\n",
      "llama_model_loader: - kv   5:                  llama.feed_forward_length u32              = 14336\n",
      "llama_model_loader: - kv   6:                 llama.rope.dimension_count u32              = 128\n",
      "llama_model_loader: - kv   7:                 llama.attention.head_count u32              = 32\n",
      "llama_model_loader: - kv   8:              llama.attention.head_count_kv u32              = 8\n",
      "llama_model_loader: - kv   9:     llama.attention.layer_norm_rms_epsilon f32              = 0.000010\n",
      "llama_model_loader: - kv  10:                       llama.rope.freq_base f32              = 10000.000000\n",
      "llama_model_loader: - kv  11:                          general.file_type u32              = 7\n",
      "llama_model_loader: - kv  12:                       tokenizer.ggml.model str              = llama\n",
      "llama_model_loader: - kv  13:                      tokenizer.ggml.tokens arr[str,32002]   = [\"<unk>\", \"<s>\", \"</s>\", \"<0x00>\", \"<...\n",
      "llama_model_loader: - kv  14:                      tokenizer.ggml.scores arr[f32,32002]   = [0.000000, 0.000000, 0.000000, 0.0000...\n",
      "llama_model_loader: - kv  15:                  tokenizer.ggml.token_type arr[i32,32002]   = [2, 3, 3, 6, 6, 6, 6, 6, 6, 6, 6, 6, ...\n",
      "llama_model_loader: - kv  16:                tokenizer.ggml.bos_token_id u32              = 1\n",
      "llama_model_loader: - kv  17:                tokenizer.ggml.eos_token_id u32              = 32000\n",
      "llama_model_loader: - kv  18:            tokenizer.ggml.unknown_token_id u32              = 0\n",
      "llama_model_loader: - kv  19:               tokenizer.ggml.add_bos_token bool             = true\n",
      "llama_model_loader: - kv  20:               tokenizer.ggml.add_eos_token bool             = false\n",
      "llama_model_loader: - kv  21:                    tokenizer.chat_template str              = {{ bos_token }}{% for message in mess...\n",
      "llama_model_loader: - kv  22:               general.quantization_version u32              = 2\n",
      "llama_model_loader: - type  f32:   65 tensors\n",
      "llama_model_loader: - type q8_0:  226 tensors\n",
      "llm_load_vocab: special tokens definition check successful ( 261/32002 ).\n",
      "llm_load_print_meta: format           = GGUF V3 (latest)\n",
      "llm_load_print_meta: arch             = llama\n",
      "llm_load_print_meta: vocab type       = SPM\n",
      "llm_load_print_meta: n_vocab          = 32002\n",
      "llm_load_print_meta: n_merges         = 0\n",
      "llm_load_print_meta: n_ctx_train      = 8192\n",
      "llm_load_print_meta: n_embd           = 4096\n",
      "llm_load_print_meta: n_head           = 32\n",
      "llm_load_print_meta: n_head_kv        = 8\n",
      "llm_load_print_meta: n_layer          = 32\n",
      "llm_load_print_meta: n_rot            = 128\n",
      "llm_load_print_meta: n_embd_head_k    = 128\n",
      "llm_load_print_meta: n_embd_head_v    = 128\n",
      "llm_load_print_meta: n_gqa            = 4\n",
      "llm_load_print_meta: n_embd_k_gqa     = 1024\n",
      "llm_load_print_meta: n_embd_v_gqa     = 1024\n",
      "llm_load_print_meta: f_norm_eps       = 0.0e+00\n",
      "llm_load_print_meta: f_norm_rms_eps   = 1.0e-05\n",
      "llm_load_print_meta: f_clamp_kqv      = 0.0e+00\n",
      "llm_load_print_meta: f_max_alibi_bias = 0.0e+00\n",
      "llm_load_print_meta: n_ff             = 14336\n",
      "llm_load_print_meta: n_expert         = 0\n",
      "llm_load_print_meta: n_expert_used    = 0\n",
      "llm_load_print_meta: rope scaling     = linear\n",
      "llm_load_print_meta: freq_base_train  = 10000.0\n",
      "llm_load_print_meta: freq_scale_train = 1\n",
      "llm_load_print_meta: n_yarn_orig_ctx  = 8192\n",
      "llm_load_print_meta: rope_finetuned   = unknown\n",
      "llm_load_print_meta: model type       = 7B\n",
      "llm_load_print_meta: model ftype      = Q8_0\n",
      "llm_load_print_meta: model params     = 7.24 B\n",
      "llm_load_print_meta: model size       = 7.17 GiB (8.50 BPW) \n",
      "llm_load_print_meta: general.name     = openchat_openchat-3.5-0106\n",
      "llm_load_print_meta: BOS token        = 1 '<s>'\n",
      "llm_load_print_meta: EOS token        = 32000 '<|end_of_turn|>'\n",
      "llm_load_print_meta: UNK token        = 0 '<unk>'\n",
      "llm_load_print_meta: LF token         = 13 '<0x0A>'\n",
      "llm_load_tensors: ggml ctx size =    0.22 MiB\n",
      "ggml_backend_metal_buffer_from_ptr: allocated buffer, size =  7205.84 MiB, ( 7205.91 / 49152.00)\n",
      "llm_load_tensors: offloading 32 repeating layers to GPU\n",
      "llm_load_tensors: offloading non-repeating layers to GPU\n",
      "llm_load_tensors: offloaded 33/33 layers to GPU\n",
      "llm_load_tensors:        CPU buffer size =   132.82 MiB\n",
      "llm_load_tensors:      Metal buffer size =  7205.84 MiB\n",
      "...................................................................................................\n",
      "llama_new_context_with_model: n_ctx      = 2048\n",
      "llama_new_context_with_model: freq_base  = 10000.0\n",
      "llama_new_context_with_model: freq_scale = 1\n",
      "ggml_metal_init: allocating\n",
      "ggml_metal_init: found device: Apple M2 Max\n",
      "ggml_metal_init: picking default device: Apple M2 Max\n",
      "ggml_metal_init: default.metallib not found, loading from source\n",
      "ggml_metal_init: GGML_METAL_PATH_RESOURCES = nil\n",
      "ggml_metal_init: loading '/opt/homebrew/Caskroom/miniconda/base/lib/python3.11/site-packages/llama_cpp/ggml-metal.metal'\n",
      "ggml_metal_init: GPU name:   Apple M2 Max\n",
      "ggml_metal_init: GPU family: MTLGPUFamilyApple8  (1008)\n",
      "ggml_metal_init: GPU family: MTLGPUFamilyCommon3 (3003)\n",
      "ggml_metal_init: GPU family: MTLGPUFamilyMetal3  (5001)\n",
      "ggml_metal_init: simdgroup reduction support   = true\n",
      "ggml_metal_init: simdgroup matrix mul. support = true\n",
      "ggml_metal_init: hasUnifiedMemory              = true\n",
      "ggml_metal_init: recommendedMaxWorkingSetSize  = 51539.61 MB\n",
      "ggml_backend_metal_buffer_type_alloc_buffer: allocated buffer, size =   256.00 MiB, ( 7463.72 / 49152.00)\n",
      "llama_kv_cache_init:      Metal KV buffer size =   256.00 MiB\n",
      "llama_new_context_with_model: KV self size  =  256.00 MiB, K (f16):  128.00 MiB, V (f16):  128.00 MiB\n",
      "llama_new_context_with_model:        CPU input buffer size   =     0.39 MiB\n",
      "ggml_backend_metal_buffer_type_alloc_buffer: allocated buffer, size =     5.14 MiB, ( 7468.86 / 49152.00)\n",
      "llama_new_context_with_model:      Metal compute buffer size =     5.13 MiB\n",
      "llama_new_context_with_model:        CPU compute buffer size =     0.25 MiB\n",
      "llama_new_context_with_model: graph splits (measure): 3\n",
      "AVX = 0 | AVX_VNNI = 0 | AVX2 = 0 | AVX512 = 0 | AVX512_VBMI = 0 | AVX512_VNNI = 0 | FMA = 0 | NEON = 1 | ARM_FMA = 1 | F16C = 0 | FP16_VA = 1 | WASM_SIMD = 0 | BLAS = 1 | SSE3 = 0 | SSSE3 = 0 | VSX = 0 | MATMUL_INT8 = 0 | \n",
      "Model metadata: {'general.quantization_version': '2', 'tokenizer.chat_template': \"{{ bos_token }}{% for message in messages %}{{ 'GPT4 Correct ' + message['role'].title() + ': ' + message['content'] + '<|end_of_turn|>'}}{% endfor %}{% if add_generation_prompt %}{{ 'GPT4 Correct Assistant:' }}{% endif %}\", 'tokenizer.ggml.add_eos_token': 'false', 'tokenizer.ggml.add_bos_token': 'true', 'tokenizer.ggml.unknown_token_id': '0', 'tokenizer.ggml.eos_token_id': '32000', 'tokenizer.ggml.bos_token_id': '1', 'tokenizer.ggml.model': 'llama', 'llama.attention.head_count_kv': '8', 'llama.context_length': '8192', 'llama.attention.head_count': '32', 'llama.rope.freq_base': '10000.000000', 'llama.rope.dimension_count': '128', 'general.file_type': '7', 'llama.feed_forward_length': '14336', 'llama.embedding_length': '4096', 'llama.block_count': '32', 'general.architecture': 'llama', 'llama.attention.layer_norm_rms_epsilon': '0.000010', 'general.name': 'openchat_openchat-3.5-0106'}\n",
      "Using chat template: {{ bos_token }}{% for message in messages %}{{ 'GPT4 Correct ' + message['role'].title() + ': ' + message['content'] + '<|end_of_turn|>'}}{% endfor %}{% if add_generation_prompt %}{{ 'GPT4 Correct Assistant:' }}{% endif %}\n",
      "Using chat eos_token: <|end_of_turn|>\n",
      "Using chat bos_token: \n"
     ]
    }
   ],
   "source": [
    "llm = LlamaCpp(\n",
    "    model_path=model_path,\n",
    "    temperature=0,\n",
    "    max_tokens=256,\n",
    "    n_gpu_layers= 40,\n",
    "    n_batch = 16,\n",
    "    n_ctx=2048,\n",
    ")"
   ]
  },
  {
   "cell_type": "markdown",
   "metadata": {},
   "source": [
    "#### Создает цепочку для экстракции именованных сущностей"
   ]
  },
  {
   "cell_type": "code",
   "execution_count": 10,
   "metadata": {},
   "outputs": [],
   "source": [
    "ner_chain = create_extraction_chain(llm, schema, encoder_or_encoder_class='json')"
   ]
  },
  {
   "cell_type": "code",
   "execution_count": 11,
   "metadata": {},
   "outputs": [
    {
     "name": "stderr",
     "output_type": "stream",
     "text": [
      "\n",
      "llama_print_timings:        load time =    7967.55 ms\n",
      "llama_print_timings:      sample time =      20.34 ms /   256 runs   (    0.08 ms per token, 12586.04 tokens per second)\n",
      "llama_print_timings: prompt eval time =   12615.57 ms /   885 tokens (   14.25 ms per token,    70.15 tokens per second)\n",
      "llama_print_timings:        eval time =    6743.44 ms /   255 runs   (   26.44 ms per token,    37.81 tokens per second)\n",
      "llama_print_timings:       total time =   19731.07 ms /  1140 tokens\n"
     ]
    }
   ],
   "source": [
    "res = ner_chain.invoke(\"Mobile Suit Gundam F91 was Gundam creator Yoshiyuki Tomino's attempt to launch a new Gundam saga, set 30 years after Char's Counterattack and 27 years after the later published Gundam Unicorn.\")"
   ]
  },
  {
   "cell_type": "code",
   "execution_count": 12,
   "metadata": {},
   "outputs": [
    {
     "data": {
      "text/plain": [
       "[{'human': 'Yoshiyuki Tomino', 'film': 'Mobile Suit Gundam F91'}]"
      ]
     },
     "execution_count": 12,
     "metadata": {},
     "output_type": "execute_result"
    }
   ],
   "source": [
    "entities = res['text']['data']['movie']\n",
    "entities"
   ]
  },
  {
   "cell_type": "markdown",
   "metadata": {},
   "source": [
    "#### Создает собственный промпт для определения типа связи между сущностями"
   ]
  },
  {
   "cell_type": "code",
   "execution_count": 13,
   "metadata": {},
   "outputs": [],
   "source": [
    "GET_RELATIONS_TEMPLATE = \"\"\"You are a networked intelligence helping a human track knowledge triples.\n",
    "You are given a list of NAMED ENTITIES and a LIST OF POSIBLE RELATIONS. You are to identify the relations between the named entities. \n",
    "Do not use any other named entities or relations. You MUST use only provided NAMED ENTITIES and LIST OF POSIBLE RELATIONS. \n",
    "\n",
    "LIST OF POSIBLE RELATIONS: {relations}\n",
    "\n",
    "NAMED ENTITIES: {entities}\n",
    "\n",
    "To indetidy the relations between named entities, you can use the following context: {context}\n",
    "\n",
    "Format your response as a JSON. Do not add any attributes that do not appear in the schema shown below:\n",
    "\n",
    "    {{\n",
    "    \"triplets\": [\n",
    "        {{\n",
    "        \"sub\": \"string\",\n",
    "        \"rel\": \"string\",\n",
    "        \"obj\": \"string\"\n",
    "        }}\n",
    "    ]\n",
    "    }}\n",
    "\n",
    "Do NOT add any clarifying information. Output MUST follow the schema above. Do NOT add any additional columns that do not appear in the schema.\n",
    "Answer:\"\"\""
   ]
  },
  {
   "cell_type": "code",
   "execution_count": 14,
   "metadata": {},
   "outputs": [],
   "source": [
    "relation_prompt = PromptTemplate.from_template(GET_RELATIONS_TEMPLATE)"
   ]
  },
  {
   "cell_type": "code",
   "execution_count": 15,
   "metadata": {},
   "outputs": [],
   "source": [
    "rel_chain = relation_prompt | llm | JsonOutputParser()"
   ]
  },
  {
   "cell_type": "code",
   "execution_count": 16,
   "metadata": {},
   "outputs": [],
   "source": [
    "context = \"Mobile Suit Gundam F91 was Gundam creator Yoshiyuki Tomino's attempt to launch a new Gundam saga, set 30 years after Char's Counterattack and 27 years after the later published Gundam Unicorn.\""
   ]
  },
  {
   "cell_type": "code",
   "execution_count": 17,
   "metadata": {},
   "outputs": [
    {
     "name": "stderr",
     "output_type": "stream",
     "text": [
      "Llama.generate: prefix-match hit\n",
      "\n",
      "llama_print_timings:        load time =    7967.55 ms\n",
      "llama_print_timings:      sample time =      21.73 ms /   256 runs   (    0.08 ms per token, 11780.41 tokens per second)\n",
      "llama_print_timings: prompt eval time =    2684.05 ms /   489 tokens (    5.49 ms per token,   182.19 tokens per second)\n",
      "llama_print_timings:        eval time =    6520.89 ms /   255 runs   (   25.57 ms per token,    39.11 tokens per second)\n",
      "llama_print_timings:       total time =    9569.18 ms /   744 tokens\n"
     ]
    }
   ],
   "source": [
    "res = rel_chain.invoke({\"relations\": relations_schema, \"entities\": entities, \"context\": context})"
   ]
  },
  {
   "cell_type": "code",
   "execution_count": 18,
   "metadata": {},
   "outputs": [
    {
     "name": "stdout",
     "output_type": "stream",
     "text": [
      "{'triplets': [{'sub': 'Mobile Suit Gundam F91', 'rel': 'director', 'obj': 'Yoshiyuki Tomino'}, {'sub': 'Mobile Suit Gundam F91', 'rel': 'screenwriter', 'obj': 'Yoshiyuki Tomino'}, {'sub': 'Mobile Suit Gundam F91', 'rel': 'genre', 'obj': 'Gundam'}, {'sub': 'Mobile Suit Gundam F91', 'rel': 'based on', 'obj': \"Char's Counterattack\"}, {'sub': 'Mobile Suit Gundam F91', 'rel': 'cast member', 'obj': 'Yoshiyuki Tomino'}]}\n"
     ]
    }
   ],
   "source": [
    "print(res)"
   ]
  },
  {
   "cell_type": "markdown",
   "metadata": {},
   "source": [
    "Оформим обозначенные выше шаги в класс"
   ]
  },
  {
   "cell_type": "code",
   "execution_count": 36,
   "metadata": {},
   "outputs": [],
   "source": [
    "class TripletBuilder:\n",
    "    models_dict = {\n",
    "        1: \"../models/zephyr-7b-beta.Q6_K.gguf\",\n",
    "        2: \"../models/mistral-7b-v0.1.Q5_K_M.gguf\",\n",
    "        3: \"../models/llama-2-13b-chat.Q5_K_M.gguf\",\n",
    "        4: \"../models/openchat-3.5-0106.Q8_0.gguf\",\n",
    "        5: \"../models/mixtral-8x7b-v0.1.Q6_K.gguf\"\n",
    "    }    \n",
    "\n",
    "    def __init__(self, relations: str, models: int=5, n_gpu_layers: int = 50, model_path: str = None, schema=schema, relation_prompt=relation_prompt, n_runs: int =50):\n",
    "        \"\"\"\n",
    "        Initialize the TripletBuilder class.\n",
    "\n",
    "        Args:\n",
    "            relations (str): The relations to extract triplets for.\n",
    "            models (int, optional): The number of models to choose from. Defaults to 5.\n",
    "            n_gpu_layers (int, optional): The number of GPU layers. Defaults to 50.\n",
    "            model_path (str, optional): The path to the model. Defaults to None.\n",
    "            schema (str, optional): The schema for named entity recognition. Defaults to schema.\n",
    "            relation_prompt (str, optional): The prompt for relation extraction. Defaults to relation_prompt.\n",
    "            n_runs (int, optional): The number of runs to perform. Defaults to 50.\n",
    "        \"\"\"\n",
    "        if model_path:\n",
    "            self.model_path = model_path\n",
    "        else:\n",
    "            self.model_path = self.models_dict[models]\n",
    "        self.schema = schema\n",
    "        self.relations = relations\n",
    "        self.relation_prompt = relation_prompt\n",
    "        self.n_runs = n_runs\n",
    "\n",
    "        self.llm = LlamaCpp(\n",
    "            model_path=self.model_path,\n",
    "            temperature=0,\n",
    "            max_tokens=256,\n",
    "            n_gpu_layers= n_gpu_layers,\n",
    "            n_batch = 16,\n",
    "            n_ctx=2048,\n",
    "        )\n",
    "\n",
    "        self.ner_chain = create_extraction_chain(self.llm, self.schema, encoder_or_encoder_class='json')\n",
    "\n",
    "        self.relations_chain = self.relation_prompt | self.llm | JsonOutputParser()\n",
    "\n",
    "    def load_data(self, file_path: str):\n",
    "        \"\"\"\n",
    "        Load data from a file.\n",
    "\n",
    "        Args:\n",
    "            file_path (str): The path to the file.\n",
    "        \"\"\"\n",
    "        with open(file_path, 'r') as f:\n",
    "            self.data = f.readlines()\n",
    "\n",
    "    def get_triplets(self):\n",
    "        \"\"\"\n",
    "        Extract triplets from the data and return a list of dictionaries containing the model name, sentence, and triplets.\n",
    "\n",
    "        Returns:\n",
    "            list: A list of dictionaries, each containing the model name, sentence, and triplets.\n",
    "        \"\"\"\n",
    "        result = []\n",
    "\n",
    "        for i_text in tqdm(self.data[:self.n_runs]):\n",
    "            i_text = json.loads(i_text)\n",
    "            temp_dict = dict()\n",
    "\n",
    "            context = i_text['sent']\n",
    "            try:\n",
    "                entities = self.ner_chain.invoke(context)['text']['data']['movie']\n",
    "            except:\n",
    "                entities = []\n",
    "\n",
    "            print(context)\n",
    "            print(\"++++++++++++++++++++++++++++++++++++\")\n",
    "            print(entities)\n",
    "            print(\"++++++++++++++++++++++++++++++++++++\")\n",
    "\n",
    "            try:\n",
    "                if len(entities[0]) < 2:\n",
    "                    triplets= { \"triplets\": []}\n",
    "                else:\n",
    "                    try:\n",
    "                        triplets = self.relations_chain.invoke({\"relations\": self.relations, \"entities\": entities, \"context\": context})\n",
    "                    except:\n",
    "                        triplets= { \"triplets\": []}\n",
    "            except:\n",
    "                triplets= { \"triplets\": []}\n",
    "\n",
    "            print(triplets)\n",
    "\n",
    "            temp_dict['model'] = os.path.basename(self.model_path)\n",
    "            temp_dict['sent'] = context\n",
    "            temp_dict['triples'] = triplets['triplets']\n",
    "\n",
    "            print(\"====================================\")\n",
    "            print(temp_dict)\n",
    "            print(\"====================================\")\n",
    "\n",
    "            result.append(temp_dict)\n",
    "\n",
    "        return result\n"
   ]
  },
  {
   "cell_type": "code",
   "execution_count": 62,
   "metadata": {},
   "outputs": [
    {
     "name": "stderr",
     "output_type": "stream",
     "text": [
      "llama_model_loader: loaded meta data with 23 key-value pairs and 291 tensors from ../models/openchat-3.5-0106.Q8_0.gguf (version GGUF V3 (latest))\n",
      "llama_model_loader: Dumping metadata keys/values. Note: KV overrides do not apply in this output.\n",
      "llama_model_loader: - kv   0:                       general.architecture str              = llama\n",
      "llama_model_loader: - kv   1:                               general.name str              = openchat_openchat-3.5-0106\n",
      "llama_model_loader: - kv   2:                       llama.context_length u32              = 8192\n",
      "llama_model_loader: - kv   3:                     llama.embedding_length u32              = 4096\n",
      "llama_model_loader: - kv   4:                          llama.block_count u32              = 32\n",
      "llama_model_loader: - kv   5:                  llama.feed_forward_length u32              = 14336\n",
      "llama_model_loader: - kv   6:                 llama.rope.dimension_count u32              = 128\n",
      "llama_model_loader: - kv   7:                 llama.attention.head_count u32              = 32\n",
      "llama_model_loader: - kv   8:              llama.attention.head_count_kv u32              = 8\n",
      "llama_model_loader: - kv   9:     llama.attention.layer_norm_rms_epsilon f32              = 0.000010\n",
      "llama_model_loader: - kv  10:                       llama.rope.freq_base f32              = 10000.000000\n",
      "llama_model_loader: - kv  11:                          general.file_type u32              = 7\n",
      "llama_model_loader: - kv  12:                       tokenizer.ggml.model str              = llama\n",
      "llama_model_loader: - kv  13:                      tokenizer.ggml.tokens arr[str,32002]   = [\"<unk>\", \"<s>\", \"</s>\", \"<0x00>\", \"<...\n",
      "llama_model_loader: - kv  14:                      tokenizer.ggml.scores arr[f32,32002]   = [0.000000, 0.000000, 0.000000, 0.0000...\n",
      "llama_model_loader: - kv  15:                  tokenizer.ggml.token_type arr[i32,32002]   = [2, 3, 3, 6, 6, 6, 6, 6, 6, 6, 6, 6, ...\n",
      "llama_model_loader: - kv  16:                tokenizer.ggml.bos_token_id u32              = 1\n",
      "llama_model_loader: - kv  17:                tokenizer.ggml.eos_token_id u32              = 32000\n",
      "llama_model_loader: - kv  18:            tokenizer.ggml.unknown_token_id u32              = 0\n",
      "llama_model_loader: - kv  19:               tokenizer.ggml.add_bos_token bool             = true\n",
      "llama_model_loader: - kv  20:               tokenizer.ggml.add_eos_token bool             = false\n",
      "llama_model_loader: - kv  21:                    tokenizer.chat_template str              = {{ bos_token }}{% for message in mess...\n",
      "llama_model_loader: - kv  22:               general.quantization_version u32              = 2\n",
      "llama_model_loader: - type  f32:   65 tensors\n",
      "llama_model_loader: - type q8_0:  226 tensors\n",
      "llm_load_vocab: special tokens definition check successful ( 261/32002 ).\n",
      "llm_load_print_meta: format           = GGUF V3 (latest)\n",
      "llm_load_print_meta: arch             = llama\n",
      "llm_load_print_meta: vocab type       = SPM\n",
      "llm_load_print_meta: n_vocab          = 32002\n",
      "llm_load_print_meta: n_merges         = 0\n",
      "llm_load_print_meta: n_ctx_train      = 8192\n",
      "llm_load_print_meta: n_embd           = 4096\n",
      "llm_load_print_meta: n_head           = 32\n",
      "llm_load_print_meta: n_head_kv        = 8\n",
      "llm_load_print_meta: n_layer          = 32\n",
      "llm_load_print_meta: n_rot            = 128\n",
      "llm_load_print_meta: n_embd_head_k    = 128\n",
      "llm_load_print_meta: n_embd_head_v    = 128\n",
      "llm_load_print_meta: n_gqa            = 4\n",
      "llm_load_print_meta: n_embd_k_gqa     = 1024\n",
      "llm_load_print_meta: n_embd_v_gqa     = 1024\n",
      "llm_load_print_meta: f_norm_eps       = 0.0e+00\n",
      "llm_load_print_meta: f_norm_rms_eps   = 1.0e-05\n",
      "llm_load_print_meta: f_clamp_kqv      = 0.0e+00\n",
      "llm_load_print_meta: f_max_alibi_bias = 0.0e+00\n",
      "llm_load_print_meta: n_ff             = 14336\n",
      "llm_load_print_meta: n_expert         = 0\n",
      "llm_load_print_meta: n_expert_used    = 0\n",
      "llm_load_print_meta: rope scaling     = linear\n",
      "llm_load_print_meta: freq_base_train  = 10000.0\n",
      "llm_load_print_meta: freq_scale_train = 1\n",
      "llm_load_print_meta: n_yarn_orig_ctx  = 8192\n",
      "llm_load_print_meta: rope_finetuned   = unknown\n",
      "llm_load_print_meta: model type       = 7B\n",
      "llm_load_print_meta: model ftype      = Q8_0\n",
      "llm_load_print_meta: model params     = 7.24 B\n",
      "llm_load_print_meta: model size       = 7.17 GiB (8.50 BPW) \n",
      "llm_load_print_meta: general.name     = openchat_openchat-3.5-0106\n",
      "llm_load_print_meta: BOS token        = 1 '<s>'\n",
      "llm_load_print_meta: EOS token        = 32000 '<|end_of_turn|>'\n",
      "llm_load_print_meta: UNK token        = 0 '<unk>'\n",
      "llm_load_print_meta: LF token         = 13 '<0x0A>'\n",
      "llm_load_tensors: ggml ctx size =    0.22 MiB\n",
      "ggml_backend_metal_buffer_from_ptr: allocated buffer, size =  7205.84 MiB, (24979.31 / 49152.00)\n",
      "llm_load_tensors: offloading 32 repeating layers to GPU\n",
      "llm_load_tensors: offloading non-repeating layers to GPU\n",
      "llm_load_tensors: offloaded 33/33 layers to GPU\n",
      "llm_load_tensors:        CPU buffer size =   132.82 MiB\n",
      "llm_load_tensors:      Metal buffer size =  7205.84 MiB\n",
      "...................................................................................................\n",
      "llama_new_context_with_model: n_ctx      = 2048\n",
      "llama_new_context_with_model: freq_base  = 10000.0\n",
      "llama_new_context_with_model: freq_scale = 1\n",
      "ggml_metal_init: allocating\n",
      "ggml_metal_init: found device: Apple M2 Max\n",
      "ggml_metal_init: picking default device: Apple M2 Max\n",
      "ggml_metal_init: default.metallib not found, loading from source\n",
      "ggml_metal_init: GGML_METAL_PATH_RESOURCES = nil\n",
      "ggml_metal_init: loading '/opt/homebrew/Caskroom/miniconda/base/lib/python3.11/site-packages/llama_cpp/ggml-metal.metal'\n",
      "ggml_metal_init: GPU name:   Apple M2 Max\n",
      "ggml_metal_init: GPU family: MTLGPUFamilyApple8  (1008)\n",
      "ggml_metal_init: GPU family: MTLGPUFamilyCommon3 (3003)\n",
      "ggml_metal_init: GPU family: MTLGPUFamilyMetal3  (5001)\n",
      "ggml_metal_init: simdgroup reduction support   = true\n",
      "ggml_metal_init: simdgroup matrix mul. support = true\n",
      "ggml_metal_init: hasUnifiedMemory              = true\n",
      "ggml_metal_init: recommendedMaxWorkingSetSize  = 51539.61 MB\n",
      "ggml_backend_metal_buffer_type_alloc_buffer: allocated buffer, size =   256.00 MiB, (25235.31 / 49152.00)\n",
      "llama_kv_cache_init:      Metal KV buffer size =   256.00 MiB\n",
      "llama_new_context_with_model: KV self size  =  256.00 MiB, K (f16):  128.00 MiB, V (f16):  128.00 MiB\n",
      "llama_new_context_with_model:        CPU input buffer size   =     0.39 MiB\n",
      "ggml_backend_metal_buffer_type_alloc_buffer: allocated buffer, size =     5.14 MiB, (25240.45 / 49152.00)\n",
      "llama_new_context_with_model:      Metal compute buffer size =     5.13 MiB\n",
      "llama_new_context_with_model:        CPU compute buffer size =     0.25 MiB\n",
      "llama_new_context_with_model: graph splits (measure): 3\n",
      "AVX = 0 | AVX_VNNI = 0 | AVX2 = 0 | AVX512 = 0 | AVX512_VBMI = 0 | AVX512_VNNI = 0 | FMA = 0 | NEON = 1 | ARM_FMA = 1 | F16C = 0 | FP16_VA = 1 | WASM_SIMD = 0 | BLAS = 1 | SSE3 = 0 | SSSE3 = 0 | VSX = 0 | MATMUL_INT8 = 0 | \n",
      "Model metadata: {'general.quantization_version': '2', 'tokenizer.chat_template': \"{{ bos_token }}{% for message in messages %}{{ 'GPT4 Correct ' + message['role'].title() + ': ' + message['content'] + '<|end_of_turn|>'}}{% endfor %}{% if add_generation_prompt %}{{ 'GPT4 Correct Assistant:' }}{% endif %}\", 'tokenizer.ggml.add_eos_token': 'false', 'tokenizer.ggml.add_bos_token': 'true', 'tokenizer.ggml.unknown_token_id': '0', 'tokenizer.ggml.eos_token_id': '32000', 'tokenizer.ggml.bos_token_id': '1', 'tokenizer.ggml.model': 'llama', 'llama.attention.head_count_kv': '8', 'llama.context_length': '8192', 'llama.attention.head_count': '32', 'llama.rope.freq_base': '10000.000000', 'llama.rope.dimension_count': '128', 'general.file_type': '7', 'llama.feed_forward_length': '14336', 'llama.embedding_length': '4096', 'llama.block_count': '32', 'general.architecture': 'llama', 'llama.attention.layer_norm_rms_epsilon': '0.000010', 'general.name': 'openchat_openchat-3.5-0106'}\n",
      "Using chat template: {{ bos_token }}{% for message in messages %}{{ 'GPT4 Correct ' + message['role'].title() + ': ' + message['content'] + '<|end_of_turn|>'}}{% endfor %}{% if add_generation_prompt %}{{ 'GPT4 Correct Assistant:' }}{% endif %}\n",
      "Using chat eos_token: <|end_of_turn|>\n",
      "Using chat bos_token: \n",
      "ggml_metal_free: deallocating\n"
     ]
    }
   ],
   "source": [
    "builder = TripletBuilder(relations_schema, models=4, n_runs=100)"
   ]
  },
  {
   "cell_type": "markdown",
   "metadata": {},
   "source": [
    "Указывам путь к jsonl файлу из репозитория для получения из него текстов для экстракции данных"
   ]
  },
  {
   "cell_type": "code",
   "execution_count": 63,
   "metadata": {},
   "outputs": [],
   "source": [
    "builder.load_data('./movie_ground_truth.jsonl')"
   ]
  },
  {
   "cell_type": "code",
   "execution_count": 64,
   "metadata": {},
   "outputs": [
    {
     "name": "stderr",
     "output_type": "stream",
     "text": [
      "  0%|          | 0/100 [00:00<?, ?it/s]\n",
      "llama_print_timings:        load time =     194.16 ms\n",
      "llama_print_timings:      sample time =      25.72 ms /   256 runs   (    0.10 ms per token,  9953.34 tokens per second)\n",
      "llama_print_timings: prompt eval time =    4723.60 ms /   871 tokens (    5.42 ms per token,   184.39 tokens per second)\n",
      "llama_print_timings:        eval time =    6791.33 ms /   255 runs   (   26.63 ms per token,    37.55 tokens per second)\n",
      "llama_print_timings:       total time =   12055.91 ms /  1126 tokens\n",
      "Llama.generate: prefix-match hit\n"
     ]
    },
    {
     "name": "stdout",
     "output_type": "stream",
     "text": [
      "Bleach: Hell Verse (Japanese: BLEACH , Hepburn: BurÄ«chi Jigoku-Hen) is a 2010 Japanese animated film directed by Noriyuki Abe.\n",
      "++++++++++++++++++++++++++++++++++++\n",
      "[{'film': 'Bleach: Hell Verse', 'human': 'Noriyuki Abe'}]\n",
      "++++++++++++++++++++++++++++++++++++\n"
     ]
    },
    {
     "name": "stderr",
     "output_type": "stream",
     "text": [
      "\n",
      "llama_print_timings:        load time =     194.16 ms\n",
      "llama_print_timings:      sample time =      21.27 ms /   256 runs   (    0.08 ms per token, 12034.60 tokens per second)\n",
      "llama_print_timings: prompt eval time =    2491.22 ms /   473 tokens (    5.27 ms per token,   189.87 tokens per second)\n",
      "llama_print_timings:        eval time =    6513.35 ms /   255 runs   (   25.54 ms per token,    39.15 tokens per second)\n",
      "llama_print_timings:       total time =    9372.03 ms /   728 tokens\n",
      "  1%|          | 1/100 [00:21<35:22, 21.44s/it]Llama.generate: prefix-match hit\n"
     ]
    },
    {
     "name": "stdout",
     "output_type": "stream",
     "text": [
      "{'triplets': [{'sub': 'Bleach: Hell Verse', 'rel': 'director', 'obj': 'Noriyuki Abe'}]}\n",
      "====================================\n",
      "{'model': 'openchat-3.5-0106.Q8_0.gguf', 'sent': 'Bleach: Hell Verse (Japanese: BLEACH , Hepburn: BurÄ«chi Jigoku-Hen) is a 2010 Japanese animated film directed by Noriyuki Abe.', 'triples': [{'sub': 'Bleach: Hell Verse', 'rel': 'director', 'obj': 'Noriyuki Abe'}]}\n",
      "====================================\n"
     ]
    },
    {
     "name": "stderr",
     "output_type": "stream",
     "text": [
      "\n",
      "llama_print_timings:        load time =     194.16 ms\n",
      "llama_print_timings:      sample time =      21.89 ms /   256 runs   (    0.09 ms per token, 11695.37 tokens per second)\n",
      "llama_print_timings: prompt eval time =    4603.79 ms /   870 tokens (    5.29 ms per token,   188.97 tokens per second)\n",
      "llama_print_timings:        eval time =    6745.21 ms /   255 runs   (   26.45 ms per token,    37.80 tokens per second)\n",
      "llama_print_timings:       total time =   11730.66 ms /  1125 tokens\n",
      "Llama.generate: prefix-match hit\n"
     ]
    },
    {
     "name": "stdout",
     "output_type": "stream",
     "text": [
      "Keyboard Cat's original form was a video originally made in 1984 by Charlie Schmidt of his cat Fatso seemingly playing a piano (though manipulated by Schmidt off-camera) to a cheery tune.\n",
      "++++++++++++++++++++++++++++++++++++\n",
      "[{'human': 'Charlie Schmidt', 'film': 'Keyboard Cat'}]\n",
      "++++++++++++++++++++++++++++++++++++\n"
     ]
    },
    {
     "name": "stderr",
     "output_type": "stream",
     "text": [
      "\n",
      "llama_print_timings:        load time =     194.16 ms\n",
      "llama_print_timings:      sample time =      22.23 ms /   256 runs   (    0.09 ms per token, 11517.01 tokens per second)\n",
      "llama_print_timings: prompt eval time =    2485.17 ms /   467 tokens (    5.32 ms per token,   187.91 tokens per second)\n",
      "llama_print_timings:        eval time =    6511.46 ms /   255 runs   (   25.54 ms per token,    39.16 tokens per second)\n",
      "llama_print_timings:       total time =    9339.66 ms /   722 tokens\n",
      "  2%|▏         | 2/100 [00:42<34:40, 21.23s/it]Llama.generate: prefix-match hit\n"
     ]
    },
    {
     "name": "stdout",
     "output_type": "stream",
     "text": [
      "{'triplets': [{'sub': 'Keyboard Cat', 'rel': 'director', 'obj': 'Charlie Schmidt'}, {'sub': 'Keyboard Cat', 'rel': 'screenwriter', 'obj': 'Charlie Schmidt'}, {'sub': 'Keyboard Cat', 'rel': 'genre', 'obj': 'comedy'}, {'sub': 'Keyboard Cat', 'rel': 'based on', 'obj': 'real life'}, {'sub': 'Keyboard Cat', 'rel': 'cast member', 'obj': 'Fatso'}, {'sub': 'Keyboard Cat', 'rel': 'production company', 'obj': 'Charlie Schmidt'}, {'sub': 'Keyboard Cat', 'rel': 'country of origin', 'obj': 'United States'}]}\n",
      "====================================\n",
      "{'model': 'openchat-3.5-0106.Q8_0.gguf', 'sent': \"Keyboard Cat's original form was a video originally made in 1984 by Charlie Schmidt of his cat Fatso seemingly playing a piano (though manipulated by Schmidt off-camera) to a cheery tune.\", 'triples': [{'sub': 'Keyboard Cat', 'rel': 'director', 'obj': 'Charlie Schmidt'}, {'sub': 'Keyboard Cat', 'rel': 'screenwriter', 'obj': 'Charlie Schmidt'}, {'sub': 'Keyboard Cat', 'rel': 'genre', 'obj': 'comedy'}, {'sub': 'Keyboard Cat', 'rel': 'based on', 'obj': 'real life'}, {'sub': 'Keyboard Cat', 'rel': 'cast member', 'obj': 'Fatso'}, {'sub': 'Keyboard Cat', 'rel': 'production company', 'obj': 'Charlie Schmidt'}, {'sub': 'Keyboard Cat', 'rel': 'country of origin', 'obj': 'United States'}]}\n",
      "====================================\n"
     ]
    },
    {
     "name": "stderr",
     "output_type": "stream",
     "text": [
      "\n",
      "llama_print_timings:        load time =     194.16 ms\n",
      "llama_print_timings:      sample time =      21.50 ms /   256 runs   (    0.08 ms per token, 11908.08 tokens per second)\n",
      "llama_print_timings: prompt eval time =    4520.03 ms /   858 tokens (    5.27 ms per token,   189.82 tokens per second)\n",
      "llama_print_timings:        eval time =    6742.76 ms /   255 runs   (   26.44 ms per token,    37.82 tokens per second)\n",
      "llama_print_timings:       total time =   11629.30 ms /  1113 tokens\n",
      "  3%|▎         | 3/100 [00:54<27:14, 16.85s/it]Llama.generate: prefix-match hit\n"
     ]
    },
    {
     "name": "stdout",
     "output_type": "stream",
     "text": [
      "The series was directed by Mitsuko Kase (episodes 1-7) and Takashi Imanishi (episodes 8-13).\n",
      "++++++++++++++++++++++++++++++++++++\n",
      "[{'human': 'Takashi Imanishi'}]\n",
      "++++++++++++++++++++++++++++++++++++\n",
      "{'triplets': []}\n",
      "====================================\n",
      "{'model': 'openchat-3.5-0106.Q8_0.gguf', 'sent': 'The series was directed by Mitsuko Kase (episodes 1-7) and Takashi Imanishi (episodes 8-13).', 'triples': []}\n",
      "====================================\n"
     ]
    },
    {
     "name": "stderr",
     "output_type": "stream",
     "text": [
      "\n",
      "llama_print_timings:        load time =     194.16 ms\n",
      "llama_print_timings:      sample time =      21.82 ms /   256 runs   (    0.09 ms per token, 11730.74 tokens per second)\n",
      "llama_print_timings: prompt eval time =     680.89 ms /   115 tokens (    5.92 ms per token,   168.90 tokens per second)\n",
      "llama_print_timings:        eval time =    6791.85 ms /   255 runs   (   26.63 ms per token,    37.54 tokens per second)\n",
      "llama_print_timings:       total time =    7800.56 ms /   370 tokens\n",
      "Llama.generate: prefix-match hit\n"
     ]
    },
    {
     "name": "stdout",
     "output_type": "stream",
     "text": [
      "Spirited Away (Japanese: , Hepburn: Sen to Chihiro no Kamikakushi, \"Sen and Chihiros Spiriting Away\") is a 2001 Japanese animated fantasy film written and directed by Hayao Miyazaki, animated by Studio Ghibli for Tokuma Shoten, Nippon Television Network, Dentsu, Buena Vista Home Entertainment, Tohokushinsha Film and Mitsubishi, and distributed by Toho.\n",
      "++++++++++++++++++++++++++++++++++++\n",
      "[{'film': 'Spirited Away', 'human': 'Hayao Miyazaki', 'film_production_company': 'Studio Ghibli', 'city': 'Japan', 'country': 'Japan', 'genre': 'animated fantasy'}]\n",
      "++++++++++++++++++++++++++++++++++++\n"
     ]
    },
    {
     "name": "stderr",
     "output_type": "stream",
     "text": [
      "\n",
      "llama_print_timings:        load time =     194.16 ms\n",
      "llama_print_timings:      sample time =      22.02 ms /   256 runs   (    0.09 ms per token, 11624.21 tokens per second)\n",
      "llama_print_timings: prompt eval time =    2995.29 ms /   573 tokens (    5.23 ms per token,   191.30 tokens per second)\n",
      "llama_print_timings:        eval time =    6571.05 ms /   255 runs   (   25.77 ms per token,    38.81 tokens per second)\n",
      "llama_print_timings:       total time =    9927.34 ms /   828 tokens\n",
      "  4%|▍         | 4/100 [01:11<27:31, 17.20s/it]Llama.generate: prefix-match hit\n"
     ]
    },
    {
     "name": "stdout",
     "output_type": "stream",
     "text": [
      "{'triplets': [{'sub': 'Spirited Away', 'rel': 'director', 'obj': 'Hayao Miyazaki'}, {'sub': 'Spirited Away', 'rel': 'screenwriter', 'obj': 'Hayao Miyazaki'}, {'sub': 'Spirited Away', 'rel': 'genre', 'obj': 'animated fantasy'}, {'sub': 'Spirited Away', 'rel': 'based on', 'obj': 'written work'}, {'sub': 'Spirited Away', 'rel': 'production company', 'obj': 'Studio Ghibli'}, {'sub': 'Spirited Away', 'rel': 'country of origin', 'obj': 'Japan'}, {'sub': 'Spirited Away'}]}\n",
      "====================================\n",
      "{'model': 'openchat-3.5-0106.Q8_0.gguf', 'sent': 'Spirited Away (Japanese: , Hepburn: Sen to Chihiro no Kamikakushi, \"Sen and Chihiros Spiriting Away\") is a 2001 Japanese animated fantasy film written and directed by Hayao Miyazaki, animated by Studio Ghibli for Tokuma Shoten, Nippon Television Network, Dentsu, Buena Vista Home Entertainment, Tohokushinsha Film and Mitsubishi, and distributed by Toho.', 'triples': [{'sub': 'Spirited Away', 'rel': 'director', 'obj': 'Hayao Miyazaki'}, {'sub': 'Spirited Away', 'rel': 'screenwriter', 'obj': 'Hayao Miyazaki'}, {'sub': 'Spirited Away', 'rel': 'genre', 'obj': 'animated fantasy'}, {'sub': 'Spirited Away', 'rel': 'based on', 'obj': 'written work'}, {'sub': 'Spirited Away', 'rel': 'production company', 'obj': 'Studio Ghibli'}, {'sub': 'Spirited Away', 'rel': 'country of origin', 'obj': 'Japan'}, {'sub': 'Spirited Away'}]}\n",
      "====================================\n"
     ]
    },
    {
     "name": "stderr",
     "output_type": "stream",
     "text": [
      "\n",
      "llama_print_timings:        load time =     194.16 ms\n",
      "llama_print_timings:      sample time =      21.53 ms /   256 runs   (    0.08 ms per token, 11892.60 tokens per second)\n",
      "llama_print_timings: prompt eval time =    4520.66 ms /   858 tokens (    5.27 ms per token,   189.80 tokens per second)\n",
      "llama_print_timings:        eval time =    6748.57 ms /   255 runs   (   26.46 ms per token,    37.79 tokens per second)\n",
      "llama_print_timings:       total time =   11663.03 ms /  1113 tokens\n",
      "Llama.generate: prefix-match hit\n"
     ]
    },
    {
     "name": "stdout",
     "output_type": "stream",
     "text": [
      "Looney Tunes: Back in Action is a 2003 American live-action/animated comedy film directed by Joe Dante and written by Larry Doyle.\n",
      "++++++++++++++++++++++++++++++++++++\n",
      "[{'human': 'Larry Doyle', 'film': 'Looney Tunes: Back in Action'}]\n",
      "++++++++++++++++++++++++++++++++++++\n"
     ]
    },
    {
     "name": "stderr",
     "output_type": "stream",
     "text": [
      "\n",
      "llama_print_timings:        load time =     194.16 ms\n",
      "llama_print_timings:      sample time =      21.82 ms /   256 runs   (    0.09 ms per token, 11734.51 tokens per second)\n",
      "llama_print_timings: prompt eval time =    2406.21 ms /   460 tokens (    5.23 ms per token,   191.17 tokens per second)\n",
      "llama_print_timings:        eval time =    6512.18 ms /   255 runs   (   25.54 ms per token,    39.16 tokens per second)\n",
      "llama_print_timings:       total time =    9279.71 ms /   715 tokens\n",
      "  5%|▌         | 5/100 [01:32<29:22, 18.55s/it]Llama.generate: prefix-match hit\n"
     ]
    },
    {
     "name": "stdout",
     "output_type": "stream",
     "text": [
      "{'triplets': [{'sub': 'Looney Tunes: Back in Action', 'rel': 'director', 'obj': 'Joe Dante'}, {'sub': 'Looney Tunes: Back in Action', 'rel': 'screenwriter', 'obj': 'Larry Doyle'}, {'sub': 'Looney Tunes: Back in Action', 'rel': 'genre', 'obj': 'comedy'}, {'sub': 'Looney Tunes: Back in Action', 'rel': 'based on', 'obj': 'written work'}, {'sub': 'Looney Tunes: Back in Action', 'rel': 'cast member', 'obj': 'Larry Doyle'}, {'sub': 'Looney Tunes: Back in Action', 'rel': 'award received', 'obj': 'award'}, {}]}\n",
      "====================================\n",
      "{'model': 'openchat-3.5-0106.Q8_0.gguf', 'sent': 'Looney Tunes: Back in Action is a 2003 American live-action/animated comedy film directed by Joe Dante and written by Larry Doyle.', 'triples': [{'sub': 'Looney Tunes: Back in Action', 'rel': 'director', 'obj': 'Joe Dante'}, {'sub': 'Looney Tunes: Back in Action', 'rel': 'screenwriter', 'obj': 'Larry Doyle'}, {'sub': 'Looney Tunes: Back in Action', 'rel': 'genre', 'obj': 'comedy'}, {'sub': 'Looney Tunes: Back in Action', 'rel': 'based on', 'obj': 'written work'}, {'sub': 'Looney Tunes: Back in Action', 'rel': 'cast member', 'obj': 'Larry Doyle'}, {'sub': 'Looney Tunes: Back in Action', 'rel': 'award received', 'obj': 'award'}, {}]}\n",
      "====================================\n"
     ]
    },
    {
     "name": "stderr",
     "output_type": "stream",
     "text": [
      "\n",
      "llama_print_timings:        load time =     194.16 ms\n",
      "llama_print_timings:      sample time =      21.72 ms /   256 runs   (    0.08 ms per token, 11784.20 tokens per second)\n",
      "llama_print_timings: prompt eval time =    4939.81 ms /   941 tokens (    5.25 ms per token,   190.49 tokens per second)\n",
      "llama_print_timings:        eval time =    6804.66 ms /   255 runs   (   26.68 ms per token,    37.47 tokens per second)\n",
      "llama_print_timings:       total time =   12146.94 ms /  1196 tokens\n",
      "Llama.generate: prefix-match hit\n"
     ]
    },
    {
     "name": "stdout",
     "output_type": "stream",
     "text": [
      "The Life on the Earth - The Summer of Dioxin ( Inochi No Chikyuu - Dioxin No Natsu), also known as Tracing the Gray Summer, is a 2001 Japanese anime drama film by Satoshi Dezaki, a joint production between the Magic Bus and the GoGo Visual Planning which recounts the true story of the Seveso disaster, a chemical incident occurred over the Italian town of Seveso in 1976, which is still considered one of the worst ecological disasters in history.\n",
      "++++++++++++++++++++++++++++++++++++\n",
      "[{'human': 'Satoshi Dezaki', 'city': 'Italian', 'country': 'Japan', 'film': 'The Life on the Earth - The Summer of Dioxin', 'genre': 'anime drama', 'film_production_company': 'Magic Bus', 'written_work': 'Seveso disaster'}]\n",
      "++++++++++++++++++++++++++++++++++++\n"
     ]
    },
    {
     "name": "stderr",
     "output_type": "stream",
     "text": [
      "\n",
      "llama_print_timings:        load time =     194.16 ms\n",
      "llama_print_timings:      sample time =      21.75 ms /   256 runs   (    0.08 ms per token, 11772.82 tokens per second)\n",
      "llama_print_timings: prompt eval time =    3162.20 ms /   596 tokens (    5.31 ms per token,   188.48 tokens per second)\n",
      "llama_print_timings:        eval time =    6594.42 ms /   255 runs   (   25.86 ms per token,    38.67 tokens per second)\n",
      "llama_print_timings:       total time =   10130.49 ms /   851 tokens\n",
      "  6%|▌         | 6/100 [01:55<31:03, 19.82s/it]Llama.generate: prefix-match hit\n"
     ]
    },
    {
     "name": "stdout",
     "output_type": "stream",
     "text": [
      "{'triplets': [{'sub': 'The Life on the Earth - The Summer of Dioxin', 'rel': 'director', 'obj': 'Satoshi Dezaki'}, {'sub': 'The Life on the Earth - The Summer of Dioxin', 'rel': 'screenwriter', 'obj': 'Satoshi Dezaki'}, {'sub': 'The Life on the Earth - The Summer of Dioxin', 'rel': 'genre', 'obj': 'anime drama'}, {'sub': 'The Life on the Earth - The Summer of Dioxin', 'rel': 'based on', 'obj': 'Seveso disaster'}, {'sub': 'The Life on the Earth - The Summer of Dioxin', 'rel': 'production company', 'obj': 'Magic Bus'}, {'sub': 'The Life on the Earth - The'}]}\n",
      "====================================\n",
      "{'model': 'openchat-3.5-0106.Q8_0.gguf', 'sent': 'The Life on the Earth - The Summer of Dioxin ( Inochi No Chikyuu - Dioxin No Natsu), also known as Tracing the Gray Summer, is a 2001 Japanese anime drama film by Satoshi Dezaki, a joint production between the Magic Bus and the GoGo Visual Planning which recounts the true story of the Seveso disaster, a chemical incident occurred over the Italian town of Seveso in 1976, which is still considered one of the worst ecological disasters in history.', 'triples': [{'sub': 'The Life on the Earth - The Summer of Dioxin', 'rel': 'director', 'obj': 'Satoshi Dezaki'}, {'sub': 'The Life on the Earth - The Summer of Dioxin', 'rel': 'screenwriter', 'obj': 'Satoshi Dezaki'}, {'sub': 'The Life on the Earth - The Summer of Dioxin', 'rel': 'genre', 'obj': 'anime drama'}, {'sub': 'The Life on the Earth - The Summer of Dioxin', 'rel': 'based on', 'obj': 'Seveso disaster'}, {'sub': 'The Life on the Earth - The Summer of Dioxin', 'rel': 'production company', 'obj': 'Magic Bus'}, {'sub': 'The Life on the Earth - The'}]}\n",
      "====================================\n"
     ]
    },
    {
     "name": "stderr",
     "output_type": "stream",
     "text": [
      "\n",
      "llama_print_timings:        load time =     194.16 ms\n",
      "llama_print_timings:      sample time =      22.05 ms /   256 runs   (    0.09 ms per token, 11607.87 tokens per second)\n",
      "llama_print_timings: prompt eval time =    4521.06 ms /   858 tokens (    5.27 ms per token,   189.78 tokens per second)\n",
      "llama_print_timings:        eval time =    6754.52 ms /   255 runs   (   26.49 ms per token,    37.75 tokens per second)\n",
      "llama_print_timings:       total time =   11673.48 ms /  1113 tokens\n",
      "Llama.generate: prefix-match hit\n"
     ]
    },
    {
     "name": "stdout",
     "output_type": "stream",
     "text": [
      "Directed by Richard Eichberg and Walter Summers The Flame of Love stars Anna May Wong and John Longden and has a running time of 74 minutes.\n",
      "++++++++++++++++++++++++++++++++++++\n",
      "[{'human': 'Walter Summers', 'film': 'The Flame of Love', 'city': 'unknown', 'country': 'unknown', 'film_character': 'John Longden'}]\n",
      "++++++++++++++++++++++++++++++++++++\n"
     ]
    },
    {
     "name": "stderr",
     "output_type": "stream",
     "text": [
      "\n",
      "llama_print_timings:        load time =     194.16 ms\n",
      "llama_print_timings:      sample time =      22.02 ms /   256 runs   (    0.09 ms per token, 11628.44 tokens per second)\n",
      "llama_print_timings: prompt eval time =    2492.43 ms /   479 tokens (    5.20 ms per token,   192.18 tokens per second)\n",
      "llama_print_timings:        eval time =    6532.44 ms /   255 runs   (   25.62 ms per token,    39.04 tokens per second)\n",
      "llama_print_timings:       total time =    9363.13 ms /   734 tokens\n",
      "  7%|▋         | 7/100 [02:16<31:20, 20.22s/it]Llama.generate: prefix-match hit\n"
     ]
    },
    {
     "name": "stdout",
     "output_type": "stream",
     "text": [
      "{'triplets': [{'sub': 'The Flame of Love', 'rel': 'director', 'obj': 'Walter Summers'}, {'sub': 'The Flame of Love', 'rel': 'screenwriter', 'obj': 'unknown'}, {'sub': 'The Flame of Love', 'rel': 'genre', 'obj': 'unknown'}, {'sub': 'The Flame of Love', 'rel': 'based on', 'obj': 'unknown'}, {'sub': 'The Flame of Love', 'rel': 'cast member', 'obj': 'John Longden'}, {'sub': 'The Flame of Love', 'rel': 'award received', 'obj': 'unknown'}, {'sub': 'The Flame of Love', 'rel': 'production company', 'obj': ''}]}\n",
      "====================================\n",
      "{'model': 'openchat-3.5-0106.Q8_0.gguf', 'sent': 'Directed by Richard Eichberg and Walter Summers The Flame of Love stars Anna May Wong and John Longden and has a running time of 74 minutes.', 'triples': [{'sub': 'The Flame of Love', 'rel': 'director', 'obj': 'Walter Summers'}, {'sub': 'The Flame of Love', 'rel': 'screenwriter', 'obj': 'unknown'}, {'sub': 'The Flame of Love', 'rel': 'genre', 'obj': 'unknown'}, {'sub': 'The Flame of Love', 'rel': 'based on', 'obj': 'unknown'}, {'sub': 'The Flame of Love', 'rel': 'cast member', 'obj': 'John Longden'}, {'sub': 'The Flame of Love', 'rel': 'award received', 'obj': 'unknown'}, {'sub': 'The Flame of Love', 'rel': 'production company', 'obj': ''}]}\n",
      "====================================\n"
     ]
    },
    {
     "name": "stderr",
     "output_type": "stream",
     "text": [
      "\n",
      "llama_print_timings:        load time =     194.16 ms\n",
      "llama_print_timings:      sample time =      21.80 ms /   256 runs   (    0.09 ms per token, 11745.27 tokens per second)\n",
      "llama_print_timings: prompt eval time =    4437.41 ms /   846 tokens (    5.25 ms per token,   190.65 tokens per second)\n",
      "llama_print_timings:        eval time =    6750.54 ms /   255 runs   (   26.47 ms per token,    37.77 tokens per second)\n",
      "llama_print_timings:       total time =   11551.36 ms /  1101 tokens\n",
      "Llama.generate: prefix-match hit\n"
     ]
    },
    {
     "name": "stdout",
     "output_type": "stream",
     "text": [
      "Metal Skin Panic MADOX-01 was directed and written by Shinji Aramaki.\n",
      "++++++++++++++++++++++++++++++++++++\n",
      "[{'human': 'Shinji Aramaki', 'film': 'Metal Skin Panic MADOX-01'}]\n",
      "++++++++++++++++++++++++++++++++++++\n"
     ]
    },
    {
     "name": "stderr",
     "output_type": "stream",
     "text": [
      "\n",
      "llama_print_timings:        load time =     194.16 ms\n",
      "llama_print_timings:      sample time =      21.59 ms /   256 runs   (    0.08 ms per token, 11858.44 tokens per second)\n",
      "llama_print_timings: prompt eval time =    2406.72 ms /   455 tokens (    5.29 ms per token,   189.05 tokens per second)\n",
      "llama_print_timings:        eval time =    6518.74 ms /   255 runs   (   25.56 ms per token,    39.12 tokens per second)\n",
      "llama_print_timings:       total time =    9260.66 ms /   710 tokens\n",
      "  8%|▊         | 8/100 [02:37<31:18, 20.41s/it]Llama.generate: prefix-match hit\n"
     ]
    },
    {
     "name": "stdout",
     "output_type": "stream",
     "text": [
      "{'triplets': [{'sub': 'Metal Skin Panic MADOX-01', 'rel': 'director', 'obj': 'Shinji Aramaki'}, {'sub': 'Metal Skin Panic MADOX-01', 'rel': 'screenwriter', 'obj': 'Shinji Aramaki'}]}\n",
      "====================================\n",
      "{'model': 'openchat-3.5-0106.Q8_0.gguf', 'sent': 'Metal Skin Panic MADOX-01 was directed and written by Shinji Aramaki.', 'triples': [{'sub': 'Metal Skin Panic MADOX-01', 'rel': 'director', 'obj': 'Shinji Aramaki'}, {'sub': 'Metal Skin Panic MADOX-01', 'rel': 'screenwriter', 'obj': 'Shinji Aramaki'}]}\n",
      "====================================\n"
     ]
    },
    {
     "name": "stderr",
     "output_type": "stream",
     "text": [
      "\n",
      "llama_print_timings:        load time =     194.16 ms\n",
      "llama_print_timings:      sample time =      21.25 ms /   256 runs   (    0.08 ms per token, 12047.06 tokens per second)\n",
      "llama_print_timings: prompt eval time =    4520.48 ms /   856 tokens (    5.28 ms per token,   189.36 tokens per second)\n",
      "llama_print_timings:        eval time =    6757.87 ms /   255 runs   (   26.50 ms per token,    37.73 tokens per second)\n",
      "llama_print_timings:       total time =   11646.59 ms /  1111 tokens\n",
      "  9%|▉         | 9/100 [02:48<26:48, 17.67s/it]Llama.generate: prefix-match hit\n"
     ]
    },
    {
     "name": "stdout",
     "output_type": "stream",
     "text": [
      "Directed by Noriyuki Abe, the film was released December 13, 2008 in Japan, later to be released in the US.\n",
      "++++++++++++++++++++++++++++++++++++\n",
      "[{'human': 'Noriyuki Abe'}]\n",
      "++++++++++++++++++++++++++++++++++++\n",
      "{'triplets': []}\n",
      "====================================\n",
      "{'model': 'openchat-3.5-0106.Q8_0.gguf', 'sent': 'Directed by Noriyuki Abe, the film was released December 13, 2008 in Japan, later to be released in the US.', 'triples': []}\n",
      "====================================\n"
     ]
    },
    {
     "name": "stderr",
     "output_type": "stream",
     "text": [
      "\n",
      "llama_print_timings:        load time =     194.16 ms\n",
      "llama_print_timings:      sample time =      21.42 ms /   256 runs   (    0.08 ms per token, 11950.89 tokens per second)\n",
      "llama_print_timings: prompt eval time =     426.31 ms /    80 tokens (    5.33 ms per token,   187.66 tokens per second)\n",
      "llama_print_timings:        eval time =    6811.26 ms /   256 runs   (   26.61 ms per token,    37.58 tokens per second)\n",
      "llama_print_timings:       total time =    7560.70 ms /   336 tokens\n",
      "Llama.generate: prefix-match hit\n"
     ]
    },
    {
     "name": "stdout",
     "output_type": "stream",
     "text": [
      "Fullmetal Alchemist the Movie: Conqueror of Shamballa (Japanese: , Hepburn: GekijÅban Hagane no Renkinjutsushi: Shanbara o Yuku Mono) is a 2005 Japanese animated film directed by Seiji Mizushima and written by Sho Aikawa.\n",
      "++++++++++++++++++++++++++++++++++++\n",
      "[{'human': 'Sho Aikawa', 'film': 'Fullmetal Alchemist the Movie: Conqueror of Shamballa'}]\n",
      "++++++++++++++++++++++++++++++++++++\n"
     ]
    },
    {
     "name": "stderr",
     "output_type": "stream",
     "text": [
      "\n",
      "llama_print_timings:        load time =     194.16 ms\n",
      "llama_print_timings:      sample time =      22.36 ms /   256 runs   (    0.09 ms per token, 11449.02 tokens per second)\n",
      "llama_print_timings: prompt eval time =    2658.77 ms /   511 tokens (    5.20 ms per token,   192.19 tokens per second)\n",
      "llama_print_timings:        eval time =    6554.13 ms /   255 runs   (   25.70 ms per token,    38.91 tokens per second)\n",
      "llama_print_timings:       total time =    9566.47 ms /   766 tokens\n",
      " 10%|█         | 10/100 [03:05<26:15, 17.51s/it]Llama.generate: prefix-match hit\n"
     ]
    },
    {
     "name": "stdout",
     "output_type": "stream",
     "text": [
      "{'triplets': [{'sub': 'Fullmetal Alchemist the Movie: Conqueror of Shamballa', 'rel': 'director', 'obj': 'Seiji Mizushima'}, {'sub': 'Fullmetal Alchemist the Movie: Conqueror of Shamballa', 'rel': 'screenwriter', 'obj': 'Sho Aikawa'}, {'sub': 'Fullmetal Alchemist the Movie: Conqueror of Shamballa', 'rel': 'genre', 'obj': 'animated'}, {'sub': 'Fullmetal Alchemist the Movie: Conqueror of Shamballa', 'rel': 'based on', 'obj': 'Fullmetal Alchemist'}, {'sub': 'Fullmetal Alchemist the Movie: Conqueror of Shamballa', 'rel': 'cast member', 'obj': 'Sho Aikawa'}]}\n",
      "====================================\n",
      "{'model': 'openchat-3.5-0106.Q8_0.gguf', 'sent': 'Fullmetal Alchemist the Movie: Conqueror of Shamballa (Japanese: , Hepburn: GekijÅ\\x8dban Hagane no Renkinjutsushi: Shanbara o Yuku Mono) is a 2005 Japanese animated film directed by Seiji Mizushima and written by Sho Aikawa.', 'triples': [{'sub': 'Fullmetal Alchemist the Movie: Conqueror of Shamballa', 'rel': 'director', 'obj': 'Seiji Mizushima'}, {'sub': 'Fullmetal Alchemist the Movie: Conqueror of Shamballa', 'rel': 'screenwriter', 'obj': 'Sho Aikawa'}, {'sub': 'Fullmetal Alchemist the Movie: Conqueror of Shamballa', 'rel': 'genre', 'obj': 'animated'}, {'sub': 'Fullmetal Alchemist the Movie: Conqueror of Shamballa', 'rel': 'based on', 'obj': 'Fullmetal Alchemist'}, {'sub': 'Fullmetal Alchemist the Movie: Conqueror of Shamballa', 'rel': 'cast member', 'obj': 'Sho Aikawa'}]}\n",
      "====================================\n"
     ]
    },
    {
     "name": "stderr",
     "output_type": "stream",
     "text": [
      "\n",
      "llama_print_timings:        load time =     194.16 ms\n",
      "llama_print_timings:      sample time =      22.04 ms /   256 runs   (    0.09 ms per token, 11616.30 tokens per second)\n",
      "llama_print_timings: prompt eval time =    4436.52 ms /   847 tokens (    5.24 ms per token,   190.92 tokens per second)\n",
      "llama_print_timings:        eval time =    6754.84 ms /   255 runs   (   26.49 ms per token,    37.75 tokens per second)\n",
      "llama_print_timings:       total time =   11587.52 ms /  1102 tokens\n",
      "Llama.generate: prefix-match hit\n"
     ]
    },
    {
     "name": "stdout",
     "output_type": "stream",
     "text": [
      "Alice's Wonderland is a 1923 Walt Disney short silent film, produced in Kansas City, Missouri.\n",
      "++++++++++++++++++++++++++++++++++++\n",
      "[{'film': \"Alice's Wonderland\", 'city': 'Kansas City', 'country': 'Missouri'}]\n",
      "++++++++++++++++++++++++++++++++++++\n"
     ]
    },
    {
     "name": "stderr",
     "output_type": "stream",
     "text": [
      "\n",
      "llama_print_timings:        load time =     194.16 ms\n",
      "llama_print_timings:      sample time =      21.39 ms /   256 runs   (    0.08 ms per token, 11968.77 tokens per second)\n",
      "llama_print_timings: prompt eval time =    2407.35 ms /   453 tokens (    5.31 ms per token,   188.17 tokens per second)\n",
      "llama_print_timings:        eval time =    6523.09 ms /   255 runs   (   25.58 ms per token,    39.09 tokens per second)\n",
      "llama_print_timings:       total time =    9296.41 ms /   708 tokens\n",
      " 11%|█         | 11/100 [03:26<27:30, 18.55s/it]Llama.generate: prefix-match hit\n"
     ]
    },
    {
     "name": "stdout",
     "output_type": "stream",
     "text": [
      "{'triplets': [{'sub': \"Alice's Wonderland\", 'rel': 'film', 'obj': 'Walt Disney'}, {'sub': \"Alice's Wonderland\", 'rel': 'production company', 'obj': 'Walt Disney'}, {'sub': \"Alice's Wonderland\", 'rel': 'narrative location', 'obj': 'Kansas City'}, {'sub': \"Alice's Wonderland\", 'rel': 'filming location', 'obj': 'Kansas City'}, {'sub': \"Alice's Wonderland\", 'rel': 'country of origin', 'obj': 'Missouri'}]}\n",
      "====================================\n",
      "{'model': 'openchat-3.5-0106.Q8_0.gguf', 'sent': \"Alice's Wonderland is a 1923 Walt Disney short silent film, produced in Kansas City, Missouri.\", 'triples': [{'sub': \"Alice's Wonderland\", 'rel': 'film', 'obj': 'Walt Disney'}, {'sub': \"Alice's Wonderland\", 'rel': 'production company', 'obj': 'Walt Disney'}, {'sub': \"Alice's Wonderland\", 'rel': 'narrative location', 'obj': 'Kansas City'}, {'sub': \"Alice's Wonderland\", 'rel': 'filming location', 'obj': 'Kansas City'}, {'sub': \"Alice's Wonderland\", 'rel': 'country of origin', 'obj': 'Missouri'}]}\n",
      "====================================\n"
     ]
    },
    {
     "name": "stderr",
     "output_type": "stream",
     "text": [
      "\n",
      "llama_print_timings:        load time =     194.16 ms\n",
      "llama_print_timings:      sample time =      21.83 ms /   256 runs   (    0.09 ms per token, 11726.44 tokens per second)\n",
      "llama_print_timings: prompt eval time =    4436.56 ms /   843 tokens (    5.26 ms per token,   190.01 tokens per second)\n",
      "llama_print_timings:        eval time =    6754.94 ms /   255 runs   (   26.49 ms per token,    37.75 tokens per second)\n",
      "llama_print_timings:       total time =   11585.77 ms /  1098 tokens\n",
      "Llama.generate: prefix-match hit\n"
     ]
    },
    {
     "name": "stdout",
     "output_type": "stream",
     "text": [
      "Welcome to Eltingville was written by Dorkin and Chuck Sheetz and received a positive reception.\n",
      "++++++++++++++++++++++++++++++++++++\n",
      "[{'human': 'Chuck Sheetz', 'written work': 'Welcome to Eltingville'}]\n",
      "++++++++++++++++++++++++++++++++++++\n"
     ]
    },
    {
     "name": "stderr",
     "output_type": "stream",
     "text": [
      "\n",
      "llama_print_timings:        load time =     194.16 ms\n",
      "llama_print_timings:      sample time =      21.40 ms /   256 runs   (    0.08 ms per token, 11964.85 tokens per second)\n",
      "llama_print_timings: prompt eval time =    2324.99 ms /   444 tokens (    5.24 ms per token,   190.97 tokens per second)\n",
      "llama_print_timings:        eval time =    6516.52 ms /   255 runs   (   25.55 ms per token,    39.13 tokens per second)\n",
      "llama_print_timings:       total time =    9221.23 ms /   699 tokens\n",
      " 12%|█▏        | 12/100 [03:47<28:12, 19.24s/it]Llama.generate: prefix-match hit\n"
     ]
    },
    {
     "name": "stdout",
     "output_type": "stream",
     "text": [
      "{'triplets': [{'sub': 'Welcome to Eltingville', 'rel': 'director', 'obj': 'Chuck Sheetz'}, {'sub': 'Welcome to Eltingville', 'rel': 'screenwriter', 'obj': 'Chuck Sheetz'}, {'sub': 'Welcome to Eltingville', 'rel': 'based on', 'obj': 'Welcome to Eltingville'}]}\n",
      "====================================\n",
      "{'model': 'openchat-3.5-0106.Q8_0.gguf', 'sent': 'Welcome to Eltingville was written by Dorkin and Chuck Sheetz and received a positive reception.', 'triples': [{'sub': 'Welcome to Eltingville', 'rel': 'director', 'obj': 'Chuck Sheetz'}, {'sub': 'Welcome to Eltingville', 'rel': 'screenwriter', 'obj': 'Chuck Sheetz'}, {'sub': 'Welcome to Eltingville', 'rel': 'based on', 'obj': 'Welcome to Eltingville'}]}\n",
      "====================================\n"
     ]
    },
    {
     "name": "stderr",
     "output_type": "stream",
     "text": [
      "\n",
      "llama_print_timings:        load time =     194.16 ms\n",
      "llama_print_timings:      sample time =      21.20 ms /   256 runs   (    0.08 ms per token, 12078.32 tokens per second)\n",
      "llama_print_timings: prompt eval time =    4522.11 ms /   863 tokens (    5.24 ms per token,   190.84 tokens per second)\n",
      "llama_print_timings:        eval time =    6768.44 ms /   255 runs   (   26.54 ms per token,    37.67 tokens per second)\n",
      "llama_print_timings:       total time =   11682.35 ms /  1118 tokens\n",
      "Llama.generate: prefix-match hit\n"
     ]
    },
    {
     "name": "stdout",
     "output_type": "stream",
     "text": [
      "The Night of Taneyamagahara (, Taneyamagahara no Yoru) is a short anime film directed by Kazuo Oga and released by Studio Ghibli.\n",
      "++++++++++++++++++++++++++++++++++++\n",
      "[{'human': 'Kazuo Oga', 'film_production_company': 'Studio Ghibli'}]\n",
      "++++++++++++++++++++++++++++++++++++\n"
     ]
    },
    {
     "name": "stderr",
     "output_type": "stream",
     "text": [
      "\n",
      "llama_print_timings:        load time =     194.16 ms\n",
      "llama_print_timings:      sample time =      21.07 ms /   256 runs   (    0.08 ms per token, 12152.28 tokens per second)\n",
      "llama_print_timings: prompt eval time =    2491.30 ms /   467 tokens (    5.33 ms per token,   187.45 tokens per second)\n",
      "llama_print_timings:        eval time =    6531.38 ms /   255 runs   (   25.61 ms per token,    39.04 tokens per second)\n",
      "llama_print_timings:       total time =    9357.49 ms /   722 tokens\n",
      " 13%|█▎        | 13/100 [04:08<28:41, 19.79s/it]Llama.generate: prefix-match hit\n"
     ]
    },
    {
     "name": "stdout",
     "output_type": "stream",
     "text": [
      "{'triplets': [{'sub': 'The Night of Taneyamagahara', 'rel': 'director', 'obj': 'Kazuo Oga'}, {'sub': 'The Night of Taneyamagahara', 'rel': 'production company', 'obj': 'Studio Ghibli'}]}\n",
      "====================================\n",
      "{'model': 'openchat-3.5-0106.Q8_0.gguf', 'sent': 'The Night of Taneyamagahara (, Taneyamagahara no Yoru) is a short anime film directed by Kazuo Oga and released by Studio Ghibli.', 'triples': [{'sub': 'The Night of Taneyamagahara', 'rel': 'director', 'obj': 'Kazuo Oga'}, {'sub': 'The Night of Taneyamagahara', 'rel': 'production company', 'obj': 'Studio Ghibli'}]}\n",
      "====================================\n"
     ]
    },
    {
     "name": "stderr",
     "output_type": "stream",
     "text": [
      "\n",
      "llama_print_timings:        load time =     194.16 ms\n",
      "llama_print_timings:      sample time =      21.32 ms /   256 runs   (    0.08 ms per token, 12005.82 tokens per second)\n",
      "llama_print_timings: prompt eval time =    4519.88 ms /   857 tokens (    5.27 ms per token,   189.61 tokens per second)\n",
      "llama_print_timings:        eval time =    6759.08 ms /   255 runs   (   26.51 ms per token,    37.73 tokens per second)\n",
      "llama_print_timings:       total time =   11652.43 ms /  1112 tokens\n",
      " 14%|█▍        | 14/100 [04:20<24:50, 17.33s/it]Llama.generate: prefix-match hit\n"
     ]
    },
    {
     "name": "stdout",
     "output_type": "stream",
     "text": [
      "\"The Magnificent World of El-Hazard\") is a Japanese anime franchise written by Ryoe Tsukimura and directed by Hiroki Hayashi.\n",
      "++++++++++++++++++++++++++++++++++++\n",
      "[{'human': 'Hiroki Hayashi'}]\n",
      "++++++++++++++++++++++++++++++++++++\n",
      "{'triplets': []}\n",
      "====================================\n",
      "{'model': 'openchat-3.5-0106.Q8_0.gguf', 'sent': '\"The Magnificent World of El-Hazard\") is a Japanese anime franchise written by Ryoe Tsukimura and directed by Hiroki Hayashi.', 'triples': []}\n",
      "====================================\n"
     ]
    },
    {
     "name": "stderr",
     "output_type": "stream",
     "text": [
      "\n",
      "llama_print_timings:        load time =     194.16 ms\n",
      "llama_print_timings:      sample time =      21.76 ms /   256 runs   (    0.08 ms per token, 11766.33 tokens per second)\n",
      "llama_print_timings: prompt eval time =     338.96 ms /    51 tokens (    6.65 ms per token,   150.46 tokens per second)\n",
      "llama_print_timings:        eval time =    6767.36 ms /   255 runs   (   26.54 ms per token,    37.68 tokens per second)\n",
      "llama_print_timings:       total time =    7425.45 ms /   306 tokens\n",
      " 15%|█▌        | 15/100 [04:27<20:19, 14.35s/it]Llama.generate: prefix-match hit\n"
     ]
    },
    {
     "name": "stdout",
     "output_type": "stream",
     "text": [
      "Daicon III was made by Hideaki Anno, Hiroyuki Yamaga and Takami Akai and Daicon IV credits twelve people, including Yamaga as the director and Anno and Akai as animation supervisors.\n",
      "++++++++++++++++++++++++++++++++++++\n",
      "[{'human': 'Takami Akai'}]\n",
      "++++++++++++++++++++++++++++++++++++\n",
      "{'triplets': []}\n",
      "====================================\n",
      "{'model': 'openchat-3.5-0106.Q8_0.gguf', 'sent': 'Daicon III was made by Hideaki Anno, Hiroyuki Yamaga and Takami Akai and Daicon IV credits twelve people, including Yamaga as the director and Anno and Akai as animation supervisors.', 'triples': []}\n",
      "====================================\n"
     ]
    },
    {
     "name": "stderr",
     "output_type": "stream",
     "text": [
      "\n",
      "llama_print_timings:        load time =     194.16 ms\n",
      "llama_print_timings:      sample time =      22.03 ms /   256 runs   (    0.09 ms per token, 11622.63 tokens per second)\n",
      "llama_print_timings: prompt eval time =     338.94 ms /    50 tokens (    6.78 ms per token,   147.52 tokens per second)\n",
      "llama_print_timings:        eval time =    6777.97 ms /   255 runs   (   26.58 ms per token,    37.62 tokens per second)\n",
      "llama_print_timings:       total time =    7443.93 ms /   305 tokens\n",
      "Llama.generate: prefix-match hit\n"
     ]
    },
    {
     "name": "stdout",
     "output_type": "stream",
     "text": [
      "The Disappearance of Haruhi Suzumiya is produced by Kyoto Animation, written by Fumihiko Shimo and directed by Tatsuya Ishihara and Yasuhiro Takemoto.\n",
      "++++++++++++++++++++++++++++++++++++\n",
      "[{'film_production_company': 'Kyoto Animation', 'human': 'Yasuhiro Takemoto'}]\n",
      "++++++++++++++++++++++++++++++++++++\n"
     ]
    },
    {
     "name": "stderr",
     "output_type": "stream",
     "text": [
      "\n",
      "llama_print_timings:        load time =     194.16 ms\n",
      "llama_print_timings:      sample time =      21.81 ms /   256 runs   (    0.09 ms per token, 11737.20 tokens per second)\n",
      "llama_print_timings: prompt eval time =    2490.62 ms /   475 tokens (    5.24 ms per token,   190.72 tokens per second)\n",
      "llama_print_timings:        eval time =    6543.49 ms /   255 runs   (   25.66 ms per token,    38.97 tokens per second)\n",
      "llama_print_timings:       total time =    9371.28 ms /   730 tokens\n",
      " 16%|█▌        | 16/100 [04:44<21:07, 15.09s/it]Llama.generate: prefix-match hit\n"
     ]
    },
    {
     "name": "stdout",
     "output_type": "stream",
     "text": [
      "{'triplets': [{'sub': 'The Disappearance of Haruhi Suzumiya', 'rel': 'director', 'obj': 'Yasuhiro Takemoto'}, {'sub': 'The Disappearance of Haruhi Suzumiya', 'rel': 'screenwriter', 'obj': 'Fumihiko Shimo'}, {'sub': 'The Disappearance of Haruhi Suzumiya', 'rel': 'production company', 'obj': 'Kyoto Animation'}, {'sub': 'The Disappearance of Haruhi Suzumiya', 'rel': 'characters', 'obj': 'Haruhi Suzumiya'}, {'sub': 'The Disappearance of Haruhi Suzumiya', 'rel': 'narrative location', 'obj': 'city'}, {'sub': 'The Disappearance of Haruhi Suzumi'}]}\n",
      "====================================\n",
      "{'model': 'openchat-3.5-0106.Q8_0.gguf', 'sent': 'The Disappearance of Haruhi Suzumiya is produced by Kyoto Animation, written by Fumihiko Shimo and directed by Tatsuya Ishihara and Yasuhiro Takemoto.', 'triples': [{'sub': 'The Disappearance of Haruhi Suzumiya', 'rel': 'director', 'obj': 'Yasuhiro Takemoto'}, {'sub': 'The Disappearance of Haruhi Suzumiya', 'rel': 'screenwriter', 'obj': 'Fumihiko Shimo'}, {'sub': 'The Disappearance of Haruhi Suzumiya', 'rel': 'production company', 'obj': 'Kyoto Animation'}, {'sub': 'The Disappearance of Haruhi Suzumiya', 'rel': 'characters', 'obj': 'Haruhi Suzumiya'}, {'sub': 'The Disappearance of Haruhi Suzumiya', 'rel': 'narrative location', 'obj': 'city'}, {'sub': 'The Disappearance of Haruhi Suzumi'}]}\n",
      "====================================\n"
     ]
    },
    {
     "name": "stderr",
     "output_type": "stream",
     "text": [
      "\n",
      "llama_print_timings:        load time =     194.16 ms\n",
      "llama_print_timings:      sample time =      21.57 ms /   256 runs   (    0.08 ms per token, 11867.24 tokens per second)\n",
      "llama_print_timings: prompt eval time =    4603.69 ms /   875 tokens (    5.26 ms per token,   190.06 tokens per second)\n",
      "llama_print_timings:        eval time =    6782.09 ms /   255 runs   (   26.60 ms per token,    37.60 tokens per second)\n",
      "llama_print_timings:       total time =   11785.57 ms /  1130 tokens\n",
      "Llama.generate: prefix-match hit\n"
     ]
    },
    {
     "name": "stdout",
     "output_type": "stream",
     "text": [
      "Who Framed Roger Rabbit is a 1988 American live-action/animated mystery comedy film directed by Robert Zemeckis, produced by Frank Marshall and Robert Watts, and written by Jeffrey Price and Peter S. Seaman.\n",
      "++++++++++++++++++++++++++++++++++++\n",
      "[{'human': 'Robert Zemeckis', 'film': 'Who Framed Roger Rabbit', 'film_production_company': 'Frank Marshall and Robert Watts', 'written_work': 'Who Framed Roger Rabbit'}]\n",
      "++++++++++++++++++++++++++++++++++++\n"
     ]
    },
    {
     "name": "stderr",
     "output_type": "stream",
     "text": [
      "\n",
      "llama_print_timings:        load time =     194.16 ms\n",
      "llama_print_timings:      sample time =      21.98 ms /   256 runs   (    0.09 ms per token, 11649.60 tokens per second)\n",
      "llama_print_timings: prompt eval time =    2659.99 ms /   507 tokens (    5.25 ms per token,   190.60 tokens per second)\n",
      "llama_print_timings:        eval time =    6563.62 ms /   255 runs   (   25.74 ms per token,    38.85 tokens per second)\n",
      "llama_print_timings:       total time =    9593.31 ms /   762 tokens\n",
      " 17%|█▋        | 17/100 [05:05<23:29, 16.99s/it]Llama.generate: prefix-match hit\n"
     ]
    },
    {
     "name": "stdout",
     "output_type": "stream",
     "text": [
      "{'triplets': [{'sub': 'Who Framed Roger Rabbit', 'rel': 'director', 'obj': 'Robert Zemeckis'}, {'sub': 'Who Framed Roger Rabbit', 'rel': 'screenwriter', 'obj': 'Jeffrey Price'}, {'sub': 'Who Framed Roger Rabbit', 'rel': 'screenwriter', 'obj': 'Peter S. Seaman'}, {'sub': 'Who Framed Roger Rabbit', 'rel': 'production company', 'obj': 'Frank Marshall and Robert Watts'}, {'sub': 'Who Framed Roger Rabbit', 'rel': 'based on', 'obj': 'Who Framed Roger Rabbit'}, {'sub': 'Who Framed Roger Rabbit', 'rel': 'characters', 'obj': 'Roger Rabbit'}]}\n",
      "====================================\n",
      "{'model': 'openchat-3.5-0106.Q8_0.gguf', 'sent': 'Who Framed Roger Rabbit is a 1988 American live-action/animated mystery comedy film directed by Robert Zemeckis, produced by Frank Marshall and Robert Watts, and written by Jeffrey Price and Peter S. Seaman.', 'triples': [{'sub': 'Who Framed Roger Rabbit', 'rel': 'director', 'obj': 'Robert Zemeckis'}, {'sub': 'Who Framed Roger Rabbit', 'rel': 'screenwriter', 'obj': 'Jeffrey Price'}, {'sub': 'Who Framed Roger Rabbit', 'rel': 'screenwriter', 'obj': 'Peter S. Seaman'}, {'sub': 'Who Framed Roger Rabbit', 'rel': 'production company', 'obj': 'Frank Marshall and Robert Watts'}, {'sub': 'Who Framed Roger Rabbit', 'rel': 'based on', 'obj': 'Who Framed Roger Rabbit'}, {'sub': 'Who Framed Roger Rabbit', 'rel': 'characters', 'obj': 'Roger Rabbit'}]}\n",
      "====================================\n"
     ]
    },
    {
     "name": "stderr",
     "output_type": "stream",
     "text": [
      "\n",
      "llama_print_timings:        load time =     194.16 ms\n",
      "llama_print_timings:      sample time =      21.52 ms /   256 runs   (    0.08 ms per token, 11898.68 tokens per second)\n",
      "llama_print_timings: prompt eval time =    4691.48 ms /   883 tokens (    5.31 ms per token,   188.21 tokens per second)\n",
      "llama_print_timings:        eval time =    6784.56 ms /   255 runs   (   26.61 ms per token,    37.59 tokens per second)\n",
      "llama_print_timings:       total time =   11887.42 ms /  1138 tokens\n",
      "Llama.generate: prefix-match hit\n"
     ]
    },
    {
     "name": "stdout",
     "output_type": "stream",
     "text": [
      "\"Beyond the Clouds, the Promised Place\") is a 2004 Japanese anime film written, directed, produced, cinematographed, edited, and storyboarded by Makoto Shinkai in The Place Promised in Our Early Days's feature film debut.\n",
      "++++++++++++++++++++++++++++++++++++\n",
      "[{'human': 'Makoto Shinkai', 'film': 'Beyond the Clouds, the Promised Place'}]\n",
      "++++++++++++++++++++++++++++++++++++\n"
     ]
    },
    {
     "name": "stderr",
     "output_type": "stream",
     "text": [
      "\n",
      "llama_print_timings:        load time =     194.16 ms\n",
      "llama_print_timings:      sample time =      21.50 ms /   256 runs   (    0.08 ms per token, 11908.08 tokens per second)\n",
      "llama_print_timings: prompt eval time =    2576.74 ms /   490 tokens (    5.26 ms per token,   190.16 tokens per second)\n",
      "llama_print_timings:        eval time =    6560.40 ms /   255 runs   (   25.73 ms per token,    38.87 tokens per second)\n",
      "llama_print_timings:       total time =    9506.14 ms /   745 tokens\n",
      " 18%|█▊        | 18/100 [05:27<25:01, 18.31s/it]Llama.generate: prefix-match hit\n"
     ]
    },
    {
     "name": "stdout",
     "output_type": "stream",
     "text": [
      "{'triplets': [{'sub': 'Beyond the Clouds, the Promised Place', 'rel': 'director', 'obj': 'Makoto Shinkai'}, {'sub': 'Beyond the Clouds, the Promised Place', 'rel': 'screenwriter', 'obj': 'Makoto Shinkai'}, {'sub': 'Beyond the Clouds, the Promised Place', 'rel': 'genre', 'obj': 'anime'}, {'sub': 'Beyond the Clouds, the Promised Place', 'rel': 'based on', 'obj': 'The Place Promised in Our Early Days'}, {'sub': 'Beyond the Clouds, the Promised Place', 'rel': 'production company', 'obj': 'Makoto Shinkai'}, {'sub': 'Beyond the Clouds, the Prom'}]}\n",
      "====================================\n",
      "{'model': 'openchat-3.5-0106.Q8_0.gguf', 'sent': '\"Beyond the Clouds, the Promised Place\") is a 2004 Japanese anime film written, directed, produced, cinematographed, edited, and storyboarded by Makoto Shinkai in The Place Promised in Our Early Days\\'s feature film debut.', 'triples': [{'sub': 'Beyond the Clouds, the Promised Place', 'rel': 'director', 'obj': 'Makoto Shinkai'}, {'sub': 'Beyond the Clouds, the Promised Place', 'rel': 'screenwriter', 'obj': 'Makoto Shinkai'}, {'sub': 'Beyond the Clouds, the Promised Place', 'rel': 'genre', 'obj': 'anime'}, {'sub': 'Beyond the Clouds, the Promised Place', 'rel': 'based on', 'obj': 'The Place Promised in Our Early Days'}, {'sub': 'Beyond the Clouds, the Promised Place', 'rel': 'production company', 'obj': 'Makoto Shinkai'}, {'sub': 'Beyond the Clouds, the Prom'}]}\n",
      "====================================\n"
     ]
    },
    {
     "name": "stderr",
     "output_type": "stream",
     "text": [
      "\n",
      "llama_print_timings:        load time =     194.16 ms\n",
      "llama_print_timings:      sample time =      22.15 ms /   256 runs   (    0.09 ms per token, 11559.13 tokens per second)\n",
      "llama_print_timings: prompt eval time =    4520.87 ms /   850 tokens (    5.32 ms per token,   188.02 tokens per second)\n",
      "llama_print_timings:        eval time =    6770.83 ms /   255 runs   (   26.55 ms per token,    37.66 tokens per second)\n",
      "llama_print_timings:       total time =   11686.66 ms /  1105 tokens\n",
      " 19%|█▉        | 19/100 [05:38<22:02, 16.32s/it]Llama.generate: prefix-match hit\n"
     ]
    },
    {
     "name": "stdout",
     "output_type": "stream",
     "text": [
      "Arcadia of My Youth is directed by Tomoharu Katsumata, with Kazuo Komatsubara as animation director.\n",
      "++++++++++++++++++++++++++++++++++++\n",
      "[{'human': 'Kazuo Komatsubara'}]\n",
      "++++++++++++++++++++++++++++++++++++\n",
      "{'triplets': []}\n",
      "====================================\n",
      "{'model': 'openchat-3.5-0106.Q8_0.gguf', 'sent': 'Arcadia of My Youth is directed by Tomoharu Katsumata, with Kazuo Komatsubara as animation director.', 'triples': []}\n",
      "====================================\n"
     ]
    },
    {
     "name": "stderr",
     "output_type": "stream",
     "text": [
      "\n",
      "llama_print_timings:        load time =     194.16 ms\n",
      "llama_print_timings:      sample time =      21.80 ms /   256 runs   (    0.09 ms per token, 11745.27 tokens per second)\n",
      "llama_print_timings: prompt eval time =     170.33 ms /    27 tokens (    6.31 ms per token,   158.51 tokens per second)\n",
      "llama_print_timings:        eval time =    6770.45 ms /   255 runs   (   26.55 ms per token,    37.66 tokens per second)\n",
      "llama_print_timings:       total time =    7271.25 ms /   282 tokens\n",
      " 20%|██        | 20/100 [05:46<18:08, 13.61s/it]Llama.generate: prefix-match hit\n"
     ]
    },
    {
     "name": "stdout",
     "output_type": "stream",
     "text": [
      "The film is directed by Raja Gosnell, who helmed the first, with all the main cast returning.\n",
      "++++++++++++++++++++++++++++++++++++\n",
      "[{'human': 'Raja Gosnell'}]\n",
      "++++++++++++++++++++++++++++++++++++\n",
      "{'triplets': []}\n",
      "====================================\n",
      "{'model': 'openchat-3.5-0106.Q8_0.gguf', 'sent': 'The film is directed by Raja Gosnell, who helmed the first, with all the main cast returning.', 'triples': []}\n",
      "====================================\n"
     ]
    },
    {
     "name": "stderr",
     "output_type": "stream",
     "text": [
      "\n",
      "llama_print_timings:        load time =     194.16 ms\n",
      "llama_print_timings:      sample time =      22.08 ms /   256 runs   (    0.09 ms per token, 11594.20 tokens per second)\n",
      "llama_print_timings: prompt eval time =     254.33 ms /    39 tokens (    6.52 ms per token,   153.34 tokens per second)\n",
      "llama_print_timings:        eval time =    6776.89 ms /   255 runs   (   26.58 ms per token,    37.63 tokens per second)\n",
      "llama_print_timings:       total time =    7363.60 ms /   294 tokens\n",
      "Llama.generate: prefix-match hit\n"
     ]
    },
    {
     "name": "stdout",
     "output_type": "stream",
     "text": [
      "The feature film directorial debut of John Lasseter, Toy Story was the first entirely computer-animated feature film, as well as the first feature film from Pixar.\n",
      "++++++++++++++++++++++++++++++++++++\n",
      "[{'human': 'John Lasseter', 'film': 'Toy Story', 'film_production_company': 'Pixar'}]\n",
      "++++++++++++++++++++++++++++++++++++\n"
     ]
    },
    {
     "name": "stderr",
     "output_type": "stream",
     "text": [
      "\n",
      "llama_print_timings:        load time =     194.16 ms\n",
      "llama_print_timings:      sample time =      21.95 ms /   256 runs   (    0.09 ms per token, 11663.40 tokens per second)\n",
      "llama_print_timings: prompt eval time =    2491.25 ms /   468 tokens (    5.32 ms per token,   187.86 tokens per second)\n",
      "llama_print_timings:        eval time =    6545.86 ms /   255 runs   (   25.67 ms per token,    38.96 tokens per second)\n",
      "llama_print_timings:       total time =    9373.26 ms /   723 tokens\n",
      " 21%|██        | 21/100 [06:02<19:09, 14.55s/it]Llama.generate: prefix-match hit\n"
     ]
    },
    {
     "name": "stdout",
     "output_type": "stream",
     "text": [
      "{'triplets': [{'sub': 'John Lasseter', 'rel': 'director', 'obj': 'Toy Story'}, {'sub': 'Toy Story', 'rel': 'screenwriter', 'obj': 'John Lasseter'}, {'sub': 'Toy Story', 'rel': 'production company', 'obj': 'Pixar'}, {'sub': 'Toy Story', 'rel': 'genre', 'obj': 'animation'}, {'sub': 'Toy Story', 'rel': 'characters', 'obj': 'Woody, Buzz Lightyear'}, {'sub': 'Toy Story', 'rel': 'narrative location', 'obj': 'Toy Story'}, {'sub': 'Toy Story', 'rel': 'filming location', 'obj': ''}]}\n",
      "====================================\n",
      "{'model': 'openchat-3.5-0106.Q8_0.gguf', 'sent': 'The feature film directorial debut of John Lasseter, Toy Story was the first entirely computer-animated feature film, as well as the first feature film from Pixar.', 'triples': [{'sub': 'John Lasseter', 'rel': 'director', 'obj': 'Toy Story'}, {'sub': 'Toy Story', 'rel': 'screenwriter', 'obj': 'John Lasseter'}, {'sub': 'Toy Story', 'rel': 'production company', 'obj': 'Pixar'}, {'sub': 'Toy Story', 'rel': 'genre', 'obj': 'animation'}, {'sub': 'Toy Story', 'rel': 'characters', 'obj': 'Woody, Buzz Lightyear'}, {'sub': 'Toy Story', 'rel': 'narrative location', 'obj': 'Toy Story'}, {'sub': 'Toy Story', 'rel': 'filming location', 'obj': ''}]}\n",
      "====================================\n"
     ]
    },
    {
     "name": "stderr",
     "output_type": "stream",
     "text": [
      "\n",
      "llama_print_timings:        load time =     194.16 ms\n",
      "llama_print_timings:      sample time =      21.96 ms /   256 runs   (    0.09 ms per token, 11659.68 tokens per second)\n",
      "llama_print_timings: prompt eval time =    4606.51 ms /   867 tokens (    5.31 ms per token,   188.21 tokens per second)\n",
      "llama_print_timings:        eval time =    6783.06 ms /   255 runs   (   26.60 ms per token,    37.59 tokens per second)\n",
      "llama_print_timings:       total time =   11757.14 ms /  1122 tokens\n",
      "Llama.generate: prefix-match hit\n"
     ]
    },
    {
     "name": "stdout",
     "output_type": "stream",
     "text": [
      "In collaboration with Man Ray and Marc AllÃ©gret, Duchamp filmed early versions of the Rotoreliefs and Anemic Cinema named the first film version AnÃ©mic CinÃ©ma.\n",
      "++++++++++++++++++++++++++++++++++++\n",
      "[{'human': 'Marc Allégret', 'film': 'Anémic Cinéma'}]\n",
      "++++++++++++++++++++++++++++++++++++\n"
     ]
    },
    {
     "name": "stderr",
     "output_type": "stream",
     "text": [
      "\n",
      "llama_print_timings:        load time =     194.16 ms\n",
      "llama_print_timings:      sample time =      21.82 ms /   256 runs   (    0.09 ms per token, 11731.28 tokens per second)\n",
      "llama_print_timings: prompt eval time =    2490.40 ms /   468 tokens (    5.32 ms per token,   187.92 tokens per second)\n",
      "llama_print_timings:        eval time =    6545.03 ms /   255 runs   (   25.67 ms per token,    38.96 tokens per second)\n",
      "llama_print_timings:       total time =    9383.45 ms /   723 tokens\n",
      " 22%|██▏       | 22/100 [06:24<21:29, 16.53s/it]Llama.generate: prefix-match hit\n"
     ]
    },
    {
     "name": "stdout",
     "output_type": "stream",
     "text": [
      "{'triplets': [{'sub': 'Anémic Cinéma', 'rel': 'director', 'obj': 'Marc Allégret'}]}\n",
      "====================================\n",
      "{'model': 'openchat-3.5-0106.Q8_0.gguf', 'sent': 'In collaboration with Man Ray and Marc AllÃ©gret, Duchamp filmed early versions of the Rotoreliefs and Anemic Cinema named the first film version AnÃ©mic CinÃ©ma.', 'triples': [{'sub': 'Anémic Cinéma', 'rel': 'director', 'obj': 'Marc Allégret'}]}\n",
      "====================================\n"
     ]
    },
    {
     "name": "stderr",
     "output_type": "stream",
     "text": [
      "\n",
      "llama_print_timings:        load time =     194.16 ms\n",
      "llama_print_timings:      sample time =      21.91 ms /   256 runs   (    0.09 ms per token, 11683.10 tokens per second)\n",
      "llama_print_timings: prompt eval time =    4521.84 ms /   853 tokens (    5.30 ms per token,   188.64 tokens per second)\n",
      "llama_print_timings:        eval time =    6776.35 ms /   255 runs   (   26.57 ms per token,    37.63 tokens per second)\n",
      "llama_print_timings:       total time =   11694.05 ms /  1108 tokens\n",
      "Llama.generate: prefix-match hit\n"
     ]
    },
    {
     "name": "stdout",
     "output_type": "stream",
     "text": [
      "Coal Black and de Sebben Dwarfs is a 1943 Merrie Melodies animated cartoon directed by Bob Clampett.\n",
      "++++++++++++++++++++++++++++++++++++\n",
      "[{'human': 'Bob Clampett', 'film': 'Coal Black and de Sebben Dwarfs'}]\n",
      "++++++++++++++++++++++++++++++++++++\n"
     ]
    },
    {
     "name": "stderr",
     "output_type": "stream",
     "text": [
      "\n",
      "llama_print_timings:        load time =     194.16 ms\n",
      "llama_print_timings:      sample time =      21.27 ms /   256 runs   (    0.08 ms per token, 12034.60 tokens per second)\n",
      "llama_print_timings: prompt eval time =    2408.62 ms /   458 tokens (    5.26 ms per token,   190.15 tokens per second)\n",
      "llama_print_timings:        eval time =    6540.36 ms /   255 runs   (   25.65 ms per token,    38.99 tokens per second)\n",
      "llama_print_timings:       total time =    9314.59 ms /   713 tokens\n",
      " 23%|██▎       | 23/100 [06:45<22:56, 17.88s/it]Llama.generate: prefix-match hit\n"
     ]
    },
    {
     "name": "stdout",
     "output_type": "stream",
     "text": [
      "{'triplets': [{'sub': 'Coal Black and de Sebben Dwarfs', 'rel': 'director', 'obj': 'Bob Clampett'}]}\n",
      "====================================\n",
      "{'model': 'openchat-3.5-0106.Q8_0.gguf', 'sent': 'Coal Black and de Sebben Dwarfs is a 1943 Merrie Melodies animated cartoon directed by Bob Clampett.', 'triples': [{'sub': 'Coal Black and de Sebben Dwarfs', 'rel': 'director', 'obj': 'Bob Clampett'}]}\n",
      "====================================\n"
     ]
    },
    {
     "name": "stderr",
     "output_type": "stream",
     "text": [
      "\n",
      "llama_print_timings:        load time =     194.16 ms\n",
      "llama_print_timings:      sample time =      21.97 ms /   256 runs   (    0.09 ms per token, 11650.66 tokens per second)\n",
      "llama_print_timings: prompt eval time =    4687.76 ms /   884 tokens (    5.30 ms per token,   188.58 tokens per second)\n",
      "llama_print_timings:        eval time =    6796.73 ms /   255 runs   (   26.65 ms per token,    37.52 tokens per second)\n",
      "llama_print_timings:       total time =   11883.46 ms /  1139 tokens\n",
      "Llama.generate: prefix-match hit\n"
     ]
    },
    {
     "name": "stdout",
     "output_type": "stream",
     "text": [
      "Mobile Suit Gundam F91 was Gundam creator Yoshiyuki Tomino's attempt to launch a new Gundam saga, set 30 years after Char's Counterattack and 27 years after the later published Gundam Unicorn.\n",
      "++++++++++++++++++++++++++++++++++++\n",
      "[{'human': 'Yoshiyuki Tomino', 'film': 'Mobile Suit Gundam F91'}]\n",
      "++++++++++++++++++++++++++++++++++++\n"
     ]
    },
    {
     "name": "stderr",
     "output_type": "stream",
     "text": [
      "\n",
      "llama_print_timings:        load time =     194.16 ms\n",
      "llama_print_timings:      sample time =      21.75 ms /   256 runs   (    0.08 ms per token, 11769.03 tokens per second)\n",
      "llama_print_timings: prompt eval time =    2575.88 ms /   489 tokens (    5.27 ms per token,   189.84 tokens per second)\n",
      "llama_print_timings:        eval time =    6559.47 ms /   255 runs   (   25.72 ms per token,    38.88 tokens per second)\n",
      "llama_print_timings:       total time =    9501.68 ms /   744 tokens\n",
      " 24%|██▍       | 24/100 [07:06<23:58, 18.93s/it]Llama.generate: prefix-match hit\n"
     ]
    },
    {
     "name": "stdout",
     "output_type": "stream",
     "text": [
      "{'triplets': [{'sub': 'Mobile Suit Gundam F91', 'rel': 'director', 'obj': 'Yoshiyuki Tomino'}, {'sub': 'Mobile Suit Gundam F91', 'rel': 'screenwriter', 'obj': 'Yoshiyuki Tomino'}, {'sub': 'Mobile Suit Gundam F91', 'rel': 'genre', 'obj': 'Gundam'}, {'sub': 'Mobile Suit Gundam F91', 'rel': 'based on', 'obj': \"Char's Counterattack\"}, {'sub': 'Mobile Suit Gundam F91', 'rel': 'cast member', 'obj': 'Yoshiyuki Tomino'}]}\n",
      "====================================\n",
      "{'model': 'openchat-3.5-0106.Q8_0.gguf', 'sent': \"Mobile Suit Gundam F91 was Gundam creator Yoshiyuki Tomino's attempt to launch a new Gundam saga, set 30 years after Char's Counterattack and 27 years after the later published Gundam Unicorn.\", 'triples': [{'sub': 'Mobile Suit Gundam F91', 'rel': 'director', 'obj': 'Yoshiyuki Tomino'}, {'sub': 'Mobile Suit Gundam F91', 'rel': 'screenwriter', 'obj': 'Yoshiyuki Tomino'}, {'sub': 'Mobile Suit Gundam F91', 'rel': 'genre', 'obj': 'Gundam'}, {'sub': 'Mobile Suit Gundam F91', 'rel': 'based on', 'obj': \"Char's Counterattack\"}, {'sub': 'Mobile Suit Gundam F91', 'rel': 'cast member', 'obj': 'Yoshiyuki Tomino'}]}\n",
      "====================================\n"
     ]
    },
    {
     "name": "stderr",
     "output_type": "stream",
     "text": [
      "\n",
      "llama_print_timings:        load time =     194.16 ms\n",
      "llama_print_timings:      sample time =      21.88 ms /   256 runs   (    0.09 ms per token, 11700.72 tokens per second)\n",
      "llama_print_timings: prompt eval time =    4607.46 ms /   869 tokens (    5.30 ms per token,   188.61 tokens per second)\n",
      "llama_print_timings:        eval time =    6782.37 ms /   255 runs   (   26.60 ms per token,    37.60 tokens per second)\n",
      "llama_print_timings:       total time =   11785.50 ms /  1124 tokens\n",
      "Llama.generate: prefix-match hit\n"
     ]
    },
    {
     "name": "stdout",
     "output_type": "stream",
     "text": [
      "Casanova Cat is a 1951 one-reel animated cartoon and is the 55th Tom and Jerry short directed by William Hanna and Joseph Barbera and produced by Fred Quimby.\n",
      "++++++++++++++++++++++++++++++++++++\n",
      "[{'human': 'Joseph Barbera', 'film_production_company': 'Fred Quimby'}]\n",
      "++++++++++++++++++++++++++++++++++++\n"
     ]
    },
    {
     "name": "stderr",
     "output_type": "stream",
     "text": [
      "\n",
      "llama_print_timings:        load time =     194.16 ms\n",
      "llama_print_timings:      sample time =      22.10 ms /   256 runs   (    0.09 ms per token, 11581.61 tokens per second)\n",
      "llama_print_timings: prompt eval time =    2492.66 ms /   474 tokens (    5.26 ms per token,   190.16 tokens per second)\n",
      "llama_print_timings:        eval time =    6547.59 ms /   255 runs   (   25.68 ms per token,    38.95 tokens per second)\n",
      "llama_print_timings:       total time =    9380.10 ms /   729 tokens\n",
      " 25%|██▌       | 25/100 [07:27<24:30, 19.61s/it]Llama.generate: prefix-match hit\n"
     ]
    },
    {
     "name": "stdout",
     "output_type": "stream",
     "text": [
      "{'triplets': [{'sub': 'Casanova Cat', 'rel': 'director', 'obj': 'William Hanna'}, {'sub': 'Casanova Cat', 'rel': 'director', 'obj': 'Joseph Barbera'}, {'sub': 'Casanova Cat', 'rel': 'production company', 'obj': 'Fred Quimby'}]}\n",
      "====================================\n",
      "{'model': 'openchat-3.5-0106.Q8_0.gguf', 'sent': 'Casanova Cat is a 1951 one-reel animated cartoon and is the 55th Tom and Jerry short directed by William Hanna and Joseph Barbera and produced by Fred Quimby.', 'triples': [{'sub': 'Casanova Cat', 'rel': 'director', 'obj': 'William Hanna'}, {'sub': 'Casanova Cat', 'rel': 'director', 'obj': 'Joseph Barbera'}, {'sub': 'Casanova Cat', 'rel': 'production company', 'obj': 'Fred Quimby'}]}\n",
      "====================================\n"
     ]
    },
    {
     "name": "stderr",
     "output_type": "stream",
     "text": [
      "\n",
      "llama_print_timings:        load time =     194.16 ms\n",
      "llama_print_timings:      sample time =      21.63 ms /   256 runs   (    0.08 ms per token, 11836.51 tokens per second)\n",
      "llama_print_timings: prompt eval time =    4688.35 ms /   883 tokens (    5.31 ms per token,   188.34 tokens per second)\n",
      "llama_print_timings:        eval time =    6790.49 ms /   255 runs   (   26.63 ms per token,    37.55 tokens per second)\n",
      "llama_print_timings:       total time =   11845.63 ms /  1138 tokens\n",
      " 26%|██▌       | 26/100 [07:39<21:18, 17.28s/it]Llama.generate: prefix-match hit\n"
     ]
    },
    {
     "name": "stdout",
     "output_type": "stream",
     "text": [
      "Panda ! Go , Panda ! was created by the team of Isao Takahata (director), Hayao Miyazaki (writer, layout, scene design), Yoichi Kotabe (animation director) and Yasuo Otsuka (animation director, character design).\n",
      "++++++++++++++++++++++++++++++++++++\n",
      "[{'human': 'Yasuo Otsuka'}]\n",
      "++++++++++++++++++++++++++++++++++++\n",
      "{'triplets': []}\n",
      "====================================\n",
      "{'model': 'openchat-3.5-0106.Q8_0.gguf', 'sent': 'Panda ! Go , Panda ! was created by the team of Isao Takahata (director), Hayao Miyazaki (writer, layout, scene design), Yoichi Kotabe (animation director) and Yasuo Otsuka (animation director, character design).', 'triples': []}\n",
      "====================================\n"
     ]
    },
    {
     "name": "stderr",
     "output_type": "stream",
     "text": [
      "\n",
      "llama_print_timings:        load time =     194.16 ms\n",
      "llama_print_timings:      sample time =      21.88 ms /   256 runs   (    0.09 ms per token, 11701.79 tokens per second)\n",
      "llama_print_timings: prompt eval time =     596.05 ms /   102 tokens (    5.84 ms per token,   171.13 tokens per second)\n",
      "llama_print_timings:        eval time =    6814.62 ms /   255 runs   (   26.72 ms per token,    37.42 tokens per second)\n",
      "llama_print_timings:       total time =    7749.44 ms /   357 tokens\n",
      "Llama.generate: prefix-match hit\n"
     ]
    },
    {
     "name": "stdout",
     "output_type": "stream",
     "text": [
      "The Wonderful World of Puss 'n Boots (Japanese: , Hepburn: Nagagutsu o Haita Neko, literally \"Cat Who Wore Boots\") is a 1969 Japanese traditional animation action-comedy musical feature film, the 15th cinema feature produced by TÅei Animation (then TÅei DÅga) and the second to be directed by Kimio Yabuki.\n",
      "++++++++++++++++++++++++++++++++++++\n",
      "[{'film': \"The Wonderful World of Puss 'n Boots\", 'film_production_company': 'TÅ\\x8dei Animation', 'genre': 'action-comedy musical', 'human': 'Kimio Yabuki'}]\n",
      "++++++++++++++++++++++++++++++++++++\n"
     ]
    },
    {
     "name": "stderr",
     "output_type": "stream",
     "text": [
      "\n",
      "llama_print_timings:        load time =     194.16 ms\n",
      "llama_print_timings:      sample time =      21.55 ms /   250 runs   (    0.09 ms per token, 11601.47 tokens per second)\n",
      "llama_print_timings: prompt eval time =    2912.66 ms /   557 tokens (    5.23 ms per token,   191.23 tokens per second)\n",
      "llama_print_timings:        eval time =    6437.07 ms /   249 runs   (   25.85 ms per token,    38.68 tokens per second)\n",
      "llama_print_timings:       total time =    9684.54 ms /   806 tokens\n",
      " 27%|██▋       | 27/100 [07:57<21:05, 17.33s/it]Llama.generate: prefix-match hit\n"
     ]
    },
    {
     "name": "stdout",
     "output_type": "stream",
     "text": [
      "{'triplets': []}\n",
      "====================================\n",
      "{'model': 'openchat-3.5-0106.Q8_0.gguf', 'sent': 'The Wonderful World of Puss \\'n Boots (Japanese: , Hepburn: Nagagutsu o Haita Neko, literally \"Cat Who Wore Boots\") is a 1969 Japanese traditional animation action-comedy musical feature film, the 15th cinema feature produced by TÅ\\x8dei Animation (then TÅ\\x8dei DÅ\\x8dga) and the second to be directed by Kimio Yabuki.', 'triples': []}\n",
      "====================================\n"
     ]
    },
    {
     "name": "stderr",
     "output_type": "stream",
     "text": [
      "\n",
      "llama_print_timings:        load time =     194.16 ms\n",
      "llama_print_timings:      sample time =      21.36 ms /   256 runs   (    0.08 ms per token, 11985.58 tokens per second)\n",
      "llama_print_timings: prompt eval time =    4779.48 ms /   905 tokens (    5.28 ms per token,   189.35 tokens per second)\n",
      "llama_print_timings:        eval time =    6804.77 ms /   255 runs   (   26.69 ms per token,    37.47 tokens per second)\n",
      "llama_print_timings:       total time =   11953.27 ms /  1160 tokens\n",
      " 28%|██▊       | 28/100 [08:08<18:51, 15.72s/it]Llama.generate: prefix-match hit\n"
     ]
    },
    {
     "name": "stdout",
     "output_type": "stream",
     "text": [
      "Written by series creator Seth MacFarlane and directed by Peter Shin, a rough-cut version of this episode originally aired on December 20, 1998, on the Fox network in the United States; a final version was later aired as a sneak peek of the show on January 31, 1999, following Super Bowl XXXIII.\n",
      "++++++++++++++++++++++++++++++++++++\n",
      "[{'human': 'Peter Shin'}]\n",
      "++++++++++++++++++++++++++++++++++++\n",
      "{'triplets': []}\n",
      "====================================\n",
      "{'model': 'openchat-3.5-0106.Q8_0.gguf', 'sent': 'Written by series creator Seth MacFarlane and directed by Peter Shin, a rough-cut version of this episode originally aired on December 20, 1998, on the Fox network in the United States; a final version was later aired as a sneak peek of the show on January 31, 1999, following Super Bowl XXXIII.', 'triples': []}\n",
      "====================================\n"
     ]
    },
    {
     "name": "stderr",
     "output_type": "stream",
     "text": [
      "\n",
      "llama_print_timings:        load time =     194.16 ms\n",
      "llama_print_timings:      sample time =      21.58 ms /   256 runs   (    0.08 ms per token, 11864.49 tokens per second)\n",
      "llama_print_timings: prompt eval time =     170.98 ms /    31 tokens (    5.52 ms per token,   181.31 tokens per second)\n",
      "llama_print_timings:        eval time =    6769.37 ms /   255 runs   (   26.55 ms per token,    37.67 tokens per second)\n",
      "llama_print_timings:       total time =    7265.93 ms /   286 tokens\n",
      "Llama.generate: prefix-match hit\n"
     ]
    },
    {
     "name": "stdout",
     "output_type": "stream",
     "text": [
      "How a Mosquito Operates is a 1912 silent animated film by American cartoonist Winsor McCay.\n",
      "++++++++++++++++++++++++++++++++++++\n",
      "[{'human': 'Winsor McCay', 'film': 'How a Mosquito Operates'}]\n",
      "++++++++++++++++++++++++++++++++++++\n"
     ]
    },
    {
     "name": "stderr",
     "output_type": "stream",
     "text": [
      "\n",
      "llama_print_timings:        load time =     194.16 ms\n",
      "llama_print_timings:      sample time =      21.85 ms /   256 runs   (    0.09 ms per token, 11716.78 tokens per second)\n",
      "llama_print_timings: prompt eval time =    2407.60 ms /   452 tokens (    5.33 ms per token,   187.74 tokens per second)\n",
      "llama_print_timings:        eval time =    6535.48 ms /   255 runs   (   25.63 ms per token,    39.02 tokens per second)\n",
      "llama_print_timings:       total time =    9307.47 ms /   707 tokens\n",
      " 29%|██▉       | 29/100 [08:25<18:54, 15.98s/it]Llama.generate: prefix-match hit\n"
     ]
    },
    {
     "name": "stdout",
     "output_type": "stream",
     "text": [
      "{'triplets': [{'sub': 'How a Mosquito Operates', 'rel': 'director', 'obj': 'Winsor McCay'}, {'sub': 'How a Mosquito Operates', 'rel': 'genre', 'obj': 'animated film'}, {'sub': 'How a Mosquito Operates', 'rel': 'country of origin', 'obj': 'United States'}]}\n",
      "====================================\n",
      "{'model': 'openchat-3.5-0106.Q8_0.gguf', 'sent': 'How a Mosquito Operates is a 1912 silent animated film by American cartoonist Winsor McCay.', 'triples': [{'sub': 'How a Mosquito Operates', 'rel': 'director', 'obj': 'Winsor McCay'}, {'sub': 'How a Mosquito Operates', 'rel': 'genre', 'obj': 'animated film'}, {'sub': 'How a Mosquito Operates', 'rel': 'country of origin', 'obj': 'United States'}]}\n",
      "====================================\n"
     ]
    },
    {
     "name": "stderr",
     "output_type": "stream",
     "text": [
      "\n",
      "llama_print_timings:        load time =     194.16 ms\n",
      "llama_print_timings:      sample time =      22.19 ms /   256 runs   (    0.09 ms per token, 11534.65 tokens per second)\n",
      "llama_print_timings: prompt eval time =    4693.47 ms /   888 tokens (    5.29 ms per token,   189.20 tokens per second)\n",
      "llama_print_timings:        eval time =    6788.46 ms /   255 runs   (   26.62 ms per token,    37.56 tokens per second)\n",
      "llama_print_timings:       total time =   11898.06 ms /  1143 tokens\n",
      "Llama.generate: prefix-match hit\n"
     ]
    },
    {
     "name": "stdout",
     "output_type": "stream",
     "text": [
      "Bead Game (French: Histoire de perles) is a 1977 animated short film by Ishu Patel, created by arranging beads into the shapes of real and mythical creatures, who absorb and devour one another, thus, evolving into scenes of modern human warfare.\n",
      "++++++++++++++++++++++++++++++++++++\n",
      "[{'film': 'Bead Game', 'human': 'Ishu Patel', 'genre': 'animated short film'}]\n",
      "++++++++++++++++++++++++++++++++++++\n"
     ]
    },
    {
     "name": "stderr",
     "output_type": "stream",
     "text": [
      "\n",
      "llama_print_timings:        load time =     194.16 ms\n",
      "llama_print_timings:      sample time =      21.95 ms /   256 runs   (    0.09 ms per token, 11663.40 tokens per second)\n",
      "llama_print_timings: prompt eval time =    2576.75 ms /   496 tokens (    5.20 ms per token,   192.49 tokens per second)\n",
      "llama_print_timings:        eval time =    6559.35 ms /   255 runs   (   25.72 ms per token,    38.88 tokens per second)\n",
      "llama_print_timings:       total time =    9502.51 ms /   751 tokens\n",
      " 30%|███       | 30/100 [08:46<20:32, 17.61s/it]Llama.generate: prefix-match hit\n"
     ]
    },
    {
     "name": "stdout",
     "output_type": "stream",
     "text": [
      "{'triplets': [{'sub': 'Bead Game', 'rel': 'director', 'obj': 'Ishu Patel'}, {'sub': 'Bead Game', 'rel': 'genre', 'obj': 'animated short film'}, {'sub': 'Ishu Patel', 'rel': 'cast member', 'obj': 'Bead Game'}]}\n",
      "====================================\n",
      "{'model': 'openchat-3.5-0106.Q8_0.gguf', 'sent': 'Bead Game (French: Histoire de perles) is a 1977 animated short film by Ishu Patel, created by arranging beads into the shapes of real and mythical creatures, who absorb and devour one another, thus, evolving into scenes of modern human warfare.', 'triples': [{'sub': 'Bead Game', 'rel': 'director', 'obj': 'Ishu Patel'}, {'sub': 'Bead Game', 'rel': 'genre', 'obj': 'animated short film'}, {'sub': 'Ishu Patel', 'rel': 'cast member', 'obj': 'Bead Game'}]}\n",
      "====================================\n"
     ]
    },
    {
     "name": "stderr",
     "output_type": "stream",
     "text": [
      "\n",
      "llama_print_timings:        load time =     194.16 ms\n",
      "llama_print_timings:      sample time =      21.91 ms /   256 runs   (    0.09 ms per token, 11686.83 tokens per second)\n",
      "llama_print_timings: prompt eval time =    4439.65 ms /   847 tokens (    5.24 ms per token,   190.78 tokens per second)\n",
      "llama_print_timings:        eval time =    6770.47 ms /   255 runs   (   26.55 ms per token,    37.66 tokens per second)\n",
      "llama_print_timings:       total time =   11605.37 ms /  1102 tokens\n",
      "Llama.generate: prefix-match hit\n"
     ]
    },
    {
     "name": "stdout",
     "output_type": "stream",
     "text": [
      "Cannery Rodent is a 1967 Tom and Jerry cartoon produced, written and directed by Chuck Jones.\n",
      "++++++++++++++++++++++++++++++++++++\n",
      "[{'human': 'Chuck Jones', 'film': 'Cannery Rodent'}]\n",
      "++++++++++++++++++++++++++++++++++++\n"
     ]
    },
    {
     "name": "stderr",
     "output_type": "stream",
     "text": [
      "\n",
      "llama_print_timings:        load time =     194.16 ms\n",
      "llama_print_timings:      sample time =      21.60 ms /   256 runs   (    0.08 ms per token, 11849.66 tokens per second)\n",
      "llama_print_timings: prompt eval time =    2326.21 ms /   445 tokens (    5.23 ms per token,   191.30 tokens per second)\n",
      "llama_print_timings:        eval time =    6523.78 ms /   255 runs   (   25.58 ms per token,    39.09 tokens per second)\n",
      "llama_print_timings:       total time =    9206.42 ms /   700 tokens\n",
      " 31%|███       | 31/100 [09:07<21:21, 18.57s/it]Llama.generate: prefix-match hit\n"
     ]
    },
    {
     "name": "stdout",
     "output_type": "stream",
     "text": [
      "{'triplets': [{'sub': 'Cannery Rodent', 'rel': 'director', 'obj': 'Chuck Jones'}, {'sub': 'Cannery Rodent', 'rel': 'screenwriter', 'obj': 'Chuck Jones'}, {'sub': 'Cannery Rodent', 'rel': 'production company', 'obj': 'Chuck Jones'}]}\n",
      "====================================\n",
      "{'model': 'openchat-3.5-0106.Q8_0.gguf', 'sent': 'Cannery Rodent is a 1967 Tom and Jerry cartoon produced, written and directed by Chuck Jones.', 'triples': [{'sub': 'Cannery Rodent', 'rel': 'director', 'obj': 'Chuck Jones'}, {'sub': 'Cannery Rodent', 'rel': 'screenwriter', 'obj': 'Chuck Jones'}, {'sub': 'Cannery Rodent', 'rel': 'production company', 'obj': 'Chuck Jones'}]}\n",
      "====================================\n"
     ]
    },
    {
     "name": "stderr",
     "output_type": "stream",
     "text": [
      "\n",
      "llama_print_timings:        load time =     194.16 ms\n",
      "llama_print_timings:      sample time =      21.47 ms /   256 runs   (    0.08 ms per token, 11925.28 tokens per second)\n",
      "llama_print_timings: prompt eval time =    4780.23 ms /   909 tokens (    5.26 ms per token,   190.16 tokens per second)\n",
      "llama_print_timings:        eval time =    6803.38 ms /   255 runs   (   26.68 ms per token,    37.48 tokens per second)\n",
      "llama_print_timings:       total time =   11950.67 ms /  1164 tokens\n",
      " 32%|███▏      | 32/100 [09:19<18:47, 16.59s/it]Llama.generate: prefix-match hit\n"
     ]
    },
    {
     "name": "stdout",
     "output_type": "stream",
     "text": [
      "Jack and the Witch was developed by JirÅ Sekimasa, Seiichi Moro and Takeshi Ariga, written by Shin'ichi Sekizawa and Susumu Takaku and directed by Taiji Yabushita and has an essentially original story, though one which alludes in structure and character names to the Jack tales and Beowulf, both of English folklore.\n",
      "++++++++++++++++++++++++++++++++++++\n",
      "[{'human': 'Taiji Yabushita'}]\n",
      "++++++++++++++++++++++++++++++++++++\n",
      "{'triplets': []}\n",
      "====================================\n",
      "{'model': 'openchat-3.5-0106.Q8_0.gguf', 'sent': \"Jack and the Witch was developed by JirÅ\\x8d Sekimasa, Seiichi Moro and Takeshi Ariga, written by Shin'ichi Sekizawa and Susumu Takaku and directed by Taiji Yabushita and has an essentially original story, though one which alludes in structure and character names to the Jack tales and Beowulf, both of English folklore.\", 'triples': []}\n",
      "====================================\n"
     ]
    },
    {
     "name": "stderr",
     "output_type": "stream",
     "text": [
      "\n",
      "llama_print_timings:        load time =     194.16 ms\n",
      "llama_print_timings:      sample time =      21.96 ms /   256 runs   (    0.09 ms per token, 11658.62 tokens per second)\n",
      "llama_print_timings: prompt eval time =     255.30 ms /    44 tokens (    5.80 ms per token,   172.35 tokens per second)\n",
      "llama_print_timings:        eval time =    6777.62 ms /   255 runs   (   26.58 ms per token,    37.62 tokens per second)\n",
      "llama_print_timings:       total time =    7353.80 ms /   299 tokens\n",
      "Llama.generate: prefix-match hit\n"
     ]
    },
    {
     "name": "stdout",
     "output_type": "stream",
     "text": [
      "Harvie Krumpet is a 2003 Australian clay animation comedy-drama short film written, directed and animated by Adam Elliot, and narrated by Geoffrey Rush.\n",
      "++++++++++++++++++++++++++++++++++++\n",
      "[{'human': 'Adam Elliot', 'city': 'Australia', 'film': 'Harvie Krumpet', 'genre': 'comedy-drama', 'film_production_company': 'Adam Elliot', 'narrator': 'Geoffrey Rush'}]\n",
      "++++++++++++++++++++++++++++++++++++\n"
     ]
    },
    {
     "name": "stderr",
     "output_type": "stream",
     "text": [
      "\n",
      "llama_print_timings:        load time =     194.16 ms\n",
      "llama_print_timings:      sample time =      22.03 ms /   256 runs   (    0.09 ms per token, 11619.46 tokens per second)\n",
      "llama_print_timings: prompt eval time =    2660.70 ms /   506 tokens (    5.26 ms per token,   190.18 tokens per second)\n",
      "llama_print_timings:        eval time =    6561.40 ms /   255 runs   (   25.73 ms per token,    38.86 tokens per second)\n",
      "llama_print_timings:       total time =    9573.01 ms /   761 tokens\n",
      " 33%|███▎      | 33/100 [09:36<18:38, 16.69s/it]Llama.generate: prefix-match hit\n"
     ]
    },
    {
     "name": "stdout",
     "output_type": "stream",
     "text": [
      "{'triplets': [{'sub': 'Harvie Krumpet', 'rel': 'director', 'obj': 'Adam Elliot'}, {'sub': 'Harvie Krumpet', 'rel': 'screenwriter', 'obj': 'Adam Elliot'}, {'sub': 'Harvie Krumpet', 'rel': 'genre', 'obj': 'comedy-drama'}, {'sub': 'Harvie Krumpet', 'rel': 'based on', 'obj': 'written work'}, {'sub': 'Harvie Krumpet', 'rel': 'cast member', 'obj': 'Geoffrey Rush'}, {'sub': 'Harvie Krumpet', 'rel': 'production company', 'obj': 'Adam Elliot'}, {'sub': 'Harvie'}]}\n",
      "====================================\n",
      "{'model': 'openchat-3.5-0106.Q8_0.gguf', 'sent': 'Harvie Krumpet is a 2003 Australian clay animation comedy-drama short film written, directed and animated by Adam Elliot, and narrated by Geoffrey Rush.', 'triples': [{'sub': 'Harvie Krumpet', 'rel': 'director', 'obj': 'Adam Elliot'}, {'sub': 'Harvie Krumpet', 'rel': 'screenwriter', 'obj': 'Adam Elliot'}, {'sub': 'Harvie Krumpet', 'rel': 'genre', 'obj': 'comedy-drama'}, {'sub': 'Harvie Krumpet', 'rel': 'based on', 'obj': 'written work'}, {'sub': 'Harvie Krumpet', 'rel': 'cast member', 'obj': 'Geoffrey Rush'}, {'sub': 'Harvie Krumpet', 'rel': 'production company', 'obj': 'Adam Elliot'}, {'sub': 'Harvie'}]}\n",
      "====================================\n"
     ]
    },
    {
     "name": "stderr",
     "output_type": "stream",
     "text": [
      "\n",
      "llama_print_timings:        load time =     194.16 ms\n",
      "llama_print_timings:      sample time =      21.52 ms /   256 runs   (    0.08 ms per token, 11894.25 tokens per second)\n",
      "llama_print_timings: prompt eval time =    4609.15 ms /   874 tokens (    5.27 ms per token,   189.62 tokens per second)\n",
      "llama_print_timings:        eval time =    6782.04 ms /   255 runs   (   26.60 ms per token,    37.60 tokens per second)\n",
      "llama_print_timings:       total time =   11758.01 ms /  1129 tokens\n",
      "Llama.generate: prefix-match hit\n"
     ]
    },
    {
     "name": "stdout",
     "output_type": "stream",
     "text": [
      "Vampire Hunter D: Bloodlust (D  Banpaia HantÄ DÄ«: Buraddorasuto) is a 2000 anime dark fantasy film written and directed by Yoshiaki Kawajiri.\n",
      "++++++++++++++++++++++++++++++++++++\n",
      "[{'human': 'Yoshiaki Kawajiri', 'film': 'Vampire Hunter D: Bloodlust'}]\n",
      "++++++++++++++++++++++++++++++++++++\n"
     ]
    },
    {
     "name": "stderr",
     "output_type": "stream",
     "text": [
      "\n",
      "llama_print_timings:        load time =     194.16 ms\n",
      "llama_print_timings:      sample time =      21.46 ms /   256 runs   (    0.08 ms per token, 11927.50 tokens per second)\n",
      "llama_print_timings: prompt eval time =    2493.45 ms /   480 tokens (    5.19 ms per token,   192.50 tokens per second)\n",
      "llama_print_timings:        eval time =    6551.58 ms /   255 runs   (   25.69 ms per token,    38.92 tokens per second)\n",
      "llama_print_timings:       total time =    9393.99 ms /   735 tokens\n",
      " 34%|███▍      | 34/100 [09:57<19:50, 18.03s/it]Llama.generate: prefix-match hit\n"
     ]
    },
    {
     "name": "stdout",
     "output_type": "stream",
     "text": [
      "{'triplets': [{'sub': 'Vampire Hunter D: Bloodlust', 'rel': 'director', 'obj': 'Yoshiaki Kawajiri'}, {'sub': 'Vampire Hunter D: Bloodlust', 'rel': 'screenwriter', 'obj': 'Yoshiaki Kawajiri'}, {'sub': 'Vampire Hunter D: Bloodlust', 'rel': 'genre', 'obj': 'anime dark fantasy'}, {'sub': 'Vampire Hunter D: Bloodlust', 'rel': 'based on', 'obj': 'written work'}, {'sub': 'Vampire Hunter D: Bloodlust', 'rel': 'cast member', 'obj': 'Yoshiaki Kawajiri'}]}\n",
      "====================================\n",
      "{'model': 'openchat-3.5-0106.Q8_0.gguf', 'sent': 'Vampire Hunter D: Bloodlust (D  Banpaia HantÄ\\x81 DÄ«: Buraddorasuto) is a 2000 anime dark fantasy film written and directed by Yoshiaki Kawajiri.', 'triples': [{'sub': 'Vampire Hunter D: Bloodlust', 'rel': 'director', 'obj': 'Yoshiaki Kawajiri'}, {'sub': 'Vampire Hunter D: Bloodlust', 'rel': 'screenwriter', 'obj': 'Yoshiaki Kawajiri'}, {'sub': 'Vampire Hunter D: Bloodlust', 'rel': 'genre', 'obj': 'anime dark fantasy'}, {'sub': 'Vampire Hunter D: Bloodlust', 'rel': 'based on', 'obj': 'written work'}, {'sub': 'Vampire Hunter D: Bloodlust', 'rel': 'cast member', 'obj': 'Yoshiaki Kawajiri'}]}\n",
      "====================================\n"
     ]
    },
    {
     "name": "stderr",
     "output_type": "stream",
     "text": [
      "\n",
      "llama_print_timings:        load time =     194.16 ms\n",
      "llama_print_timings:      sample time =      21.84 ms /   256 runs   (    0.09 ms per token, 11719.47 tokens per second)\n",
      "llama_print_timings: prompt eval time =    4523.13 ms /   852 tokens (    5.31 ms per token,   188.37 tokens per second)\n",
      "llama_print_timings:        eval time =    6771.13 ms /   255 runs   (   26.55 ms per token,    37.66 tokens per second)\n",
      "llama_print_timings:       total time =   11706.84 ms /  1107 tokens\n",
      "Llama.generate: prefix-match hit\n"
     ]
    },
    {
     "name": "stdout",
     "output_type": "stream",
     "text": [
      "I Love to Singa is a 1936 Warner Bros. Merrie Melodies animated cartoon directed by Tex Avery.\n",
      "++++++++++++++++++++++++++++++++++++\n",
      "[{'human': 'Tex Avery', 'film': 'I Love to Singa'}]\n",
      "++++++++++++++++++++++++++++++++++++\n"
     ]
    },
    {
     "name": "stderr",
     "output_type": "stream",
     "text": [
      "\n",
      "llama_print_timings:        load time =     194.16 ms\n",
      "llama_print_timings:      sample time =      21.61 ms /   256 runs   (    0.08 ms per token, 11844.18 tokens per second)\n",
      "llama_print_timings: prompt eval time =    2407.83 ms /   450 tokens (    5.35 ms per token,   186.89 tokens per second)\n",
      "llama_print_timings:        eval time =    6532.95 ms /   255 runs   (   25.62 ms per token,    39.03 tokens per second)\n",
      "llama_print_timings:       total time =    9306.88 ms /   705 tokens\n",
      " 35%|███▌      | 35/100 [10:18<20:30, 18.93s/it]Llama.generate: prefix-match hit\n"
     ]
    },
    {
     "name": "stdout",
     "output_type": "stream",
     "text": [
      "{'triplets': [{'sub': 'I Love to Singa', 'rel': 'director', 'obj': 'Tex Avery'}, {'sub': 'I Love to Singa', 'rel': 'production company', 'obj': 'Warner Bros.'}, {'sub': 'I Love to Singa', 'rel': 'genre', 'obj': 'animated cartoon'}, {'sub': 'I Love to Singa', 'rel': 'characters', 'obj': 'film character'}, {'sub': 'I Love to Singa', 'rel': 'narrative location', 'obj': 'city'}, {'sub': 'I Love to Singa', 'rel': 'filming location', 'obj': 'city'}]}\n",
      "====================================\n",
      "{'model': 'openchat-3.5-0106.Q8_0.gguf', 'sent': 'I Love to Singa is a 1936 Warner Bros. Merrie Melodies animated cartoon directed by Tex Avery.', 'triples': [{'sub': 'I Love to Singa', 'rel': 'director', 'obj': 'Tex Avery'}, {'sub': 'I Love to Singa', 'rel': 'production company', 'obj': 'Warner Bros.'}, {'sub': 'I Love to Singa', 'rel': 'genre', 'obj': 'animated cartoon'}, {'sub': 'I Love to Singa', 'rel': 'characters', 'obj': 'film character'}, {'sub': 'I Love to Singa', 'rel': 'narrative location', 'obj': 'city'}, {'sub': 'I Love to Singa', 'rel': 'filming location', 'obj': 'city'}]}\n",
      "====================================\n"
     ]
    },
    {
     "name": "stderr",
     "output_type": "stream",
     "text": [
      "\n",
      "llama_print_timings:        load time =     194.16 ms\n",
      "llama_print_timings:      sample time =      21.57 ms /   256 runs   (    0.08 ms per token, 11865.59 tokens per second)\n",
      "llama_print_timings: prompt eval time =    4950.97 ms /   938 tokens (    5.28 ms per token,   189.46 tokens per second)\n",
      "llama_print_timings:        eval time =    6834.03 ms /   255 runs   (   26.80 ms per token,    37.31 tokens per second)\n",
      "llama_print_timings:       total time =   12183.99 ms /  1193 tokens\n",
      "Llama.generate: prefix-match hit\n"
     ]
    },
    {
     "name": "stdout",
     "output_type": "stream",
     "text": [
      "Arthur 3: The War of the Two Worlds (French: Arthur et la guerre des deux mondes, also known in North America as Arthur and the Invisibles 3 or simply Arthur 3) is a 2010 English-language French animated/live-action feature film co-written, co-produced and directed by Luc Besson, based on Arthur 3 : The War of the Two Worlds's novel of the same title and starring Freddie Highmore and the other actors that reprise for the movie.\n",
      "++++++++++++++++++++++++++++++++++++\n",
      "[{'human': 'Luc Besson', 'film': 'Arthur 3: The War of the Two Worlds', 'written_work': 'Arthur 3 : The War of the Two Worlds', 'film_character': 'Arthur', 'film_production_company': 'French animated/live-action feature film'}]\n",
      "++++++++++++++++++++++++++++++++++++\n"
     ]
    },
    {
     "name": "stderr",
     "output_type": "stream",
     "text": [
      "\n",
      "llama_print_timings:        load time =     194.16 ms\n",
      "llama_print_timings:      sample time =      22.33 ms /   256 runs   (    0.09 ms per token, 11462.34 tokens per second)\n",
      "llama_print_timings: prompt eval time =    3083.54 ms /   590 tokens (    5.23 ms per token,   191.34 tokens per second)\n",
      "llama_print_timings:        eval time =    6617.87 ms /   255 runs   (   25.95 ms per token,    38.53 tokens per second)\n",
      "llama_print_timings:       total time =   10083.21 ms /   845 tokens\n",
      " 36%|███▌      | 36/100 [10:41<21:15, 19.93s/it]Llama.generate: prefix-match hit\n"
     ]
    },
    {
     "name": "stdout",
     "output_type": "stream",
     "text": [
      "{'triplets': [{'sub': 'Arthur 3: The War of the Two Worlds', 'rel': 'director', 'obj': 'Luc Besson'}, {'sub': 'Arthur 3: The War of the Two Worlds', 'rel': 'screenwriter', 'obj': 'Luc Besson'}, {'sub': 'Arthur 3: The War of the Two Worlds', 'rel': 'genre', 'obj': 'animated/live-action feature film'}, {'sub': 'Arthur 3: The War of the Two Worlds', 'rel': 'based on', 'obj': 'Arthur 3 : The War of the Two Worlds'}, {'sub': 'Arthur 3: The War of the Two Worlds', 'rel': 'cast member', 'obj': 'Freddie Highmore'}]}\n",
      "====================================\n",
      "{'model': 'openchat-3.5-0106.Q8_0.gguf', 'sent': \"Arthur 3: The War of the Two Worlds (French: Arthur et la guerre des deux mondes, also known in North America as Arthur and the Invisibles 3 or simply Arthur 3) is a 2010 English-language French animated/live-action feature film co-written, co-produced and directed by Luc Besson, based on Arthur 3 : The War of the Two Worlds's novel of the same title and starring Freddie Highmore and the other actors that reprise for the movie.\", 'triples': [{'sub': 'Arthur 3: The War of the Two Worlds', 'rel': 'director', 'obj': 'Luc Besson'}, {'sub': 'Arthur 3: The War of the Two Worlds', 'rel': 'screenwriter', 'obj': 'Luc Besson'}, {'sub': 'Arthur 3: The War of the Two Worlds', 'rel': 'genre', 'obj': 'animated/live-action feature film'}, {'sub': 'Arthur 3: The War of the Two Worlds', 'rel': 'based on', 'obj': 'Arthur 3 : The War of the Two Worlds'}, {'sub': 'Arthur 3: The War of the Two Worlds', 'rel': 'cast member', 'obj': 'Freddie Highmore'}]}\n",
      "====================================\n"
     ]
    },
    {
     "name": "stderr",
     "output_type": "stream",
     "text": [
      "\n",
      "llama_print_timings:        load time =     194.16 ms\n",
      "llama_print_timings:      sample time =      22.15 ms /   256 runs   (    0.09 ms per token, 11559.65 tokens per second)\n",
      "llama_print_timings: prompt eval time =    4693.91 ms /   886 tokens (    5.30 ms per token,   188.76 tokens per second)\n",
      "llama_print_timings:        eval time =    6796.50 ms /   255 runs   (   26.65 ms per token,    37.52 tokens per second)\n",
      "llama_print_timings:       total time =   11856.81 ms /  1141 tokens\n",
      "Llama.generate: prefix-match hit\n"
     ]
    },
    {
     "name": "stdout",
     "output_type": "stream",
     "text": [
      "Castle in the Sky (Japanese: , Hepburn: Tenkū no Shiro Rapyuta), known as Laputa: Castle in the Sky in Europe and Australia, is a 1986 Japanese animated fantasy-adventure film written and directed by Hayao Miyazaki.\n",
      "++++++++++++++++++++++++++++++++++++\n",
      "[{'film': 'Castle in the Sky', 'human': 'Hayao Miyazaki', 'genre': 'fantasy-adventure'}]\n",
      "++++++++++++++++++++++++++++++++++++\n"
     ]
    },
    {
     "name": "stderr",
     "output_type": "stream",
     "text": [
      "\n",
      "llama_print_timings:        load time =     194.16 ms\n",
      "llama_print_timings:      sample time =      22.60 ms /   256 runs   (    0.09 ms per token, 11328.44 tokens per second)\n",
      "llama_print_timings: prompt eval time =    2662.46 ms /   501 tokens (    5.31 ms per token,   188.17 tokens per second)\n",
      "llama_print_timings:        eval time =    6567.63 ms /   255 runs   (   25.76 ms per token,    38.83 tokens per second)\n",
      "llama_print_timings:       total time =    9566.97 ms /   756 tokens\n",
      " 37%|███▋      | 37/100 [11:02<21:24, 20.38s/it]Llama.generate: prefix-match hit\n"
     ]
    },
    {
     "name": "stdout",
     "output_type": "stream",
     "text": [
      "{'triplets': [{'sub': 'Castle in the Sky', 'rel': 'director', 'obj': 'Hayao Miyazaki'}, {'sub': 'Castle in the Sky', 'rel': 'screenwriter', 'obj': 'Hayao Miyazaki'}, {'sub': 'Castle in the Sky', 'rel': 'genre', 'obj': 'fantasy-adventure'}, {'sub': 'Castle in the Sky', 'rel': 'based on', 'obj': 'written work'}, {'sub': 'Castle in the Sky', 'rel': 'production company', 'obj': 'film production company'}, {'sub': 'Castle in the Sky', 'rel': 'country of origin', 'obj': 'Japan'}, {'sub': 'Castle in the'}]}\n",
      "====================================\n",
      "{'model': 'openchat-3.5-0106.Q8_0.gguf', 'sent': 'Castle in the Sky (Japanese: , Hepburn: Tenkū no Shiro Rapyuta), known as Laputa: Castle in the Sky in Europe and Australia, is a 1986 Japanese animated fantasy-adventure film written and directed by Hayao Miyazaki.', 'triples': [{'sub': 'Castle in the Sky', 'rel': 'director', 'obj': 'Hayao Miyazaki'}, {'sub': 'Castle in the Sky', 'rel': 'screenwriter', 'obj': 'Hayao Miyazaki'}, {'sub': 'Castle in the Sky', 'rel': 'genre', 'obj': 'fantasy-adventure'}, {'sub': 'Castle in the Sky', 'rel': 'based on', 'obj': 'written work'}, {'sub': 'Castle in the Sky', 'rel': 'production company', 'obj': 'film production company'}, {'sub': 'Castle in the Sky', 'rel': 'country of origin', 'obj': 'Japan'}, {'sub': 'Castle in the'}]}\n",
      "====================================\n"
     ]
    },
    {
     "name": "stderr",
     "output_type": "stream",
     "text": [
      "\n",
      "llama_print_timings:        load time =     194.16 ms\n",
      "llama_print_timings:      sample time =      22.17 ms /   256 runs   (    0.09 ms per token, 11549.22 tokens per second)\n",
      "llama_print_timings: prompt eval time =    4606.06 ms /   871 tokens (    5.29 ms per token,   189.10 tokens per second)\n",
      "llama_print_timings:        eval time =    6789.61 ms /   255 runs   (   26.63 ms per token,    37.56 tokens per second)\n",
      "llama_print_timings:       total time =   11762.85 ms /  1126 tokens\n",
      "Llama.generate: prefix-match hit\n"
     ]
    },
    {
     "name": "stdout",
     "output_type": "stream",
     "text": [
      "The Danish Poet (Norwegian: Den danske dikteren) is a 2006 animated short film written, directed, and animated by Torill Kove and narrated by Liv Ullmann.\n",
      "++++++++++++++++++++++++++++++++++++\n",
      "[{'human': 'Torill Kove', 'film': 'The Danish Poet'}]\n",
      "++++++++++++++++++++++++++++++++++++\n"
     ]
    },
    {
     "name": "stderr",
     "output_type": "stream",
     "text": [
      "\n",
      "llama_print_timings:        load time =     194.16 ms\n",
      "llama_print_timings:      sample time =      22.30 ms /   256 runs   (    0.09 ms per token, 11482.40 tokens per second)\n",
      "llama_print_timings: prompt eval time =    2496.53 ms /   470 tokens (    5.31 ms per token,   188.26 tokens per second)\n",
      "llama_print_timings:        eval time =    6552.50 ms /   255 runs   (   25.70 ms per token,    38.92 tokens per second)\n",
      "llama_print_timings:       total time =    9378.76 ms /   725 tokens\n",
      " 38%|███▊      | 38/100 [11:23<21:18, 20.61s/it]Llama.generate: prefix-match hit\n"
     ]
    },
    {
     "name": "stdout",
     "output_type": "stream",
     "text": [
      "{'triplets': [{'sub': 'The Danish Poet', 'rel': 'director', 'obj': 'Torill Kove'}, {'sub': 'The Danish Poet', 'rel': 'screenwriter', 'obj': 'Torill Kove'}, {'sub': 'The Danish Poet', 'rel': 'genre', 'obj': 'animated short film'}, {'sub': 'The Danish Poet', 'rel': 'based on', 'obj': 'Norwegian: Den danske dikteren'}, {'sub': 'The Danish Poet', 'rel': 'cast member', 'obj': 'Liv Ullmann'}, {'sub': 'The Danish Poet', 'rel': 'award received', 'obj': 'Academy Award for Best Animated Short Film'}]}\n",
      "====================================\n",
      "{'model': 'openchat-3.5-0106.Q8_0.gguf', 'sent': 'The Danish Poet (Norwegian: Den danske dikteren) is a 2006 animated short film written, directed, and animated by Torill Kove and narrated by Liv Ullmann.', 'triples': [{'sub': 'The Danish Poet', 'rel': 'director', 'obj': 'Torill Kove'}, {'sub': 'The Danish Poet', 'rel': 'screenwriter', 'obj': 'Torill Kove'}, {'sub': 'The Danish Poet', 'rel': 'genre', 'obj': 'animated short film'}, {'sub': 'The Danish Poet', 'rel': 'based on', 'obj': 'Norwegian: Den danske dikteren'}, {'sub': 'The Danish Poet', 'rel': 'cast member', 'obj': 'Liv Ullmann'}, {'sub': 'The Danish Poet', 'rel': 'award received', 'obj': 'Academy Award for Best Animated Short Film'}]}\n",
      "====================================\n"
     ]
    },
    {
     "name": "stderr",
     "output_type": "stream",
     "text": [
      "\n",
      "llama_print_timings:        load time =     194.16 ms\n",
      "llama_print_timings:      sample time =      22.12 ms /   256 runs   (    0.09 ms per token, 11572.71 tokens per second)\n",
      "llama_print_timings: prompt eval time =    4533.89 ms /   863 tokens (    5.25 ms per token,   190.34 tokens per second)\n",
      "llama_print_timings:        eval time =    6788.08 ms /   255 runs   (   26.62 ms per token,    37.57 tokens per second)\n",
      "llama_print_timings:       total time =   11683.17 ms /  1118 tokens\n",
      "Llama.generate: prefix-match hit\n"
     ]
    },
    {
     "name": "stdout",
     "output_type": "stream",
     "text": [
      "Toy Tinkers was directed by Jack Hannah and features original and adapted music by Paul J. Smith which includes the song \"Jingle Bells\" and Schubert's Marche Militaire.\n",
      "++++++++++++++++++++++++++++++++++++\n",
      "[{'human': 'Jack Hannah', 'film': 'Toy Tinkers'}]\n",
      "++++++++++++++++++++++++++++++++++++\n"
     ]
    },
    {
     "name": "stderr",
     "output_type": "stream",
     "text": [
      "\n",
      "llama_print_timings:        load time =     194.16 ms\n",
      "llama_print_timings:      sample time =      21.85 ms /   256 runs   (    0.09 ms per token, 11717.86 tokens per second)\n",
      "llama_print_timings: prompt eval time =    2409.66 ms /   460 tokens (    5.24 ms per token,   190.90 tokens per second)\n",
      "llama_print_timings:        eval time =    6551.51 ms /   255 runs   (   25.69 ms per token,    38.92 tokens per second)\n",
      "llama_print_timings:       total time =    9325.99 ms /   715 tokens\n",
      " 39%|███▉      | 39/100 [11:44<21:04, 20.74s/it]Llama.generate: prefix-match hit\n"
     ]
    },
    {
     "name": "stdout",
     "output_type": "stream",
     "text": [
      "{'triplets': [{'sub': 'Toy Tinkers', 'rel': 'director', 'obj': 'Jack Hannah'}, {'sub': 'Toy Tinkers', 'rel': 'screenwriter', 'obj': 'Jack Hannah'}, {'sub': 'Toy Tinkers', 'rel': 'genre', 'obj': 'animated'}, {'sub': 'Toy Tinkers', 'rel': 'based on', 'obj': 'Toy Tinkers'}, {'sub': 'Toy Tinkers', 'rel': 'cast member', 'obj': 'Jack Hannah'}, {'sub': 'Toy Tinkers', 'rel': 'award received', 'obj': 'Toy Tinkers'}, {'sub': 'Toy Tinkers', 'rel': 'production company'}]}\n",
      "====================================\n",
      "{'model': 'openchat-3.5-0106.Q8_0.gguf', 'sent': 'Toy Tinkers was directed by Jack Hannah and features original and adapted music by Paul J. Smith which includes the song \"Jingle Bells\" and Schubert\\'s Marche Militaire.', 'triples': [{'sub': 'Toy Tinkers', 'rel': 'director', 'obj': 'Jack Hannah'}, {'sub': 'Toy Tinkers', 'rel': 'screenwriter', 'obj': 'Jack Hannah'}, {'sub': 'Toy Tinkers', 'rel': 'genre', 'obj': 'animated'}, {'sub': 'Toy Tinkers', 'rel': 'based on', 'obj': 'Toy Tinkers'}, {'sub': 'Toy Tinkers', 'rel': 'cast member', 'obj': 'Jack Hannah'}, {'sub': 'Toy Tinkers', 'rel': 'award received', 'obj': 'Toy Tinkers'}, {'sub': 'Toy Tinkers', 'rel': 'production company'}]}\n",
      "====================================\n"
     ]
    },
    {
     "name": "stderr",
     "output_type": "stream",
     "text": [
      "\n",
      "llama_print_timings:        load time =     194.16 ms\n",
      "llama_print_timings:      sample time =      21.65 ms /   256 runs   (    0.08 ms per token, 11824.48 tokens per second)\n",
      "llama_print_timings: prompt eval time =    4533.06 ms /   856 tokens (    5.30 ms per token,   188.84 tokens per second)\n",
      "llama_print_timings:        eval time =    6783.97 ms /   255 runs   (   26.60 ms per token,    37.59 tokens per second)\n",
      "llama_print_timings:       total time =   11704.49 ms /  1111 tokens\n",
      "Llama.generate: prefix-match hit\n"
     ]
    },
    {
     "name": "stdout",
     "output_type": "stream",
     "text": [
      "Betty Boop's Bamboo Isle is a 1932 Fleischer Studios Betty Boop animated short, directed by Dave Fleischer.\n",
      "++++++++++++++++++++++++++++++++++++\n",
      "[{'human': 'Dave Fleischer', 'film_production_company': 'Fleischer Studios'}]\n",
      "++++++++++++++++++++++++++++++++++++\n"
     ]
    },
    {
     "name": "stderr",
     "output_type": "stream",
     "text": [
      "\n",
      "llama_print_timings:        load time =     194.16 ms\n",
      "llama_print_timings:      sample time =      21.43 ms /   256 runs   (    0.08 ms per token, 11943.08 tokens per second)\n",
      "llama_print_timings: prompt eval time =    2415.39 ms /   458 tokens (    5.27 ms per token,   189.62 tokens per second)\n",
      "llama_print_timings:        eval time =    6547.47 ms /   255 runs   (   25.68 ms per token,    38.95 tokens per second)\n",
      "llama_print_timings:       total time =    9316.76 ms /   713 tokens\n",
      " 40%|████      | 40/100 [12:05<20:49, 20.82s/it]Llama.generate: prefix-match hit\n"
     ]
    },
    {
     "name": "stdout",
     "output_type": "stream",
     "text": [
      "{'triplets': [{'sub': \"Betty Boop's Bamboo Isle\", 'rel': 'director', 'obj': 'Dave Fleischer'}, {'sub': \"Betty Boop's Bamboo Isle\", 'rel': 'production company', 'obj': 'Fleischer Studios'}]}\n",
      "====================================\n",
      "{'model': 'openchat-3.5-0106.Q8_0.gguf', 'sent': \"Betty Boop's Bamboo Isle is a 1932 Fleischer Studios Betty Boop animated short, directed by Dave Fleischer.\", 'triples': [{'sub': \"Betty Boop's Bamboo Isle\", 'rel': 'director', 'obj': 'Dave Fleischer'}, {'sub': \"Betty Boop's Bamboo Isle\", 'rel': 'production company', 'obj': 'Fleischer Studios'}]}\n",
      "====================================\n"
     ]
    },
    {
     "name": "stderr",
     "output_type": "stream",
     "text": [
      "\n",
      "llama_print_timings:        load time =     194.16 ms\n",
      "llama_print_timings:      sample time =      21.64 ms /   256 runs   (    0.08 ms per token, 11829.94 tokens per second)\n",
      "llama_print_timings: prompt eval time =    4618.85 ms /   872 tokens (    5.30 ms per token,   188.79 tokens per second)\n",
      "llama_print_timings:        eval time =    6793.65 ms /   255 runs   (   26.64 ms per token,    37.54 tokens per second)\n",
      "llama_print_timings:       total time =   11795.21 ms /  1127 tokens\n",
      " 41%|████      | 41/100 [12:17<17:48, 18.12s/it]Llama.generate: prefix-match hit\n"
     ]
    },
    {
     "name": "stdout",
     "output_type": "stream",
     "text": [
      "The Secret Life of Pets is directed by Chris Renaud, co-directed by Yarrow Cheney, written by Brian Lynch, Cinco Paul and Ken Daurio and is the first film of the franchise of the same name.\n",
      "++++++++++++++++++++++++++++++++++++\n",
      "[{'human': 'Ken Daurio'}]\n",
      "++++++++++++++++++++++++++++++++++++\n",
      "{'triplets': []}\n",
      "====================================\n",
      "{'model': 'openchat-3.5-0106.Q8_0.gguf', 'sent': 'The Secret Life of Pets is directed by Chris Renaud, co-directed by Yarrow Cheney, written by Brian Lynch, Cinco Paul and Ken Daurio and is the first film of the franchise of the same name.', 'triples': []}\n",
      "====================================\n"
     ]
    },
    {
     "name": "stderr",
     "output_type": "stream",
     "text": [
      "\n",
      "llama_print_timings:        load time =     194.16 ms\n",
      "llama_print_timings:      sample time =      22.00 ms /   256 runs   (    0.09 ms per token, 11635.83 tokens per second)\n",
      "llama_print_timings: prompt eval time =     427.23 ms /    77 tokens (    5.55 ms per token,   180.23 tokens per second)\n",
      "llama_print_timings:        eval time =    6813.69 ms /   255 runs   (   26.72 ms per token,    37.42 tokens per second)\n",
      "llama_print_timings:       total time =    7588.62 ms /   332 tokens\n",
      "Llama.generate: prefix-match hit\n"
     ]
    },
    {
     "name": "stdout",
     "output_type": "stream",
     "text": [
      "In 1965, the animator Chuck Jones and the MGM Animation/Visual Arts studio worked with Norton Juster to adapt The Dot and the Line into a 10-minute animated short film for Metro-Goldwyn-Mayer, narrated by Robert Morley with the narration almost verbatim to the book.\n",
      "++++++++++++++++++++++++++++++++++++\n",
      "[{'human': 'Chuck Jones', 'film_production_company': 'MGM Animation/Visual Arts', 'film': 'The Dot and the Line', 'city': 'Metro-Goldwyn-Mayer', 'narrator': 'Robert Morley'}]\n",
      "++++++++++++++++++++++++++++++++++++\n"
     ]
    },
    {
     "name": "stderr",
     "output_type": "stream",
     "text": [
      "\n",
      "llama_print_timings:        load time =     194.16 ms\n",
      "llama_print_timings:      sample time =      21.83 ms /   256 runs   (    0.09 ms per token, 11728.06 tokens per second)\n",
      "llama_print_timings: prompt eval time =    2835.50 ms /   537 tokens (    5.28 ms per token,   189.38 tokens per second)\n",
      "llama_print_timings:        eval time =    6594.45 ms /   255 runs   (   25.86 ms per token,    38.67 tokens per second)\n",
      "llama_print_timings:       total time =    9790.43 ms /   792 tokens\n",
      " 42%|████▏     | 42/100 [12:34<17:18, 17.90s/it]Llama.generate: prefix-match hit\n"
     ]
    },
    {
     "name": "stdout",
     "output_type": "stream",
     "text": [
      "{'triplets': [{'sub': 'Chuck Jones', 'rel': 'director', 'obj': 'The Dot and the Line'}, {'sub': 'MGM Animation/Visual Arts', 'rel': 'production company', 'obj': 'The Dot and the Line'}, {'sub': 'The Dot and the Line', 'rel': 'film', 'obj': 'Metro-Goldwyn-Mayer'}, {'sub': 'Robert Morley', 'rel': 'narrator', 'obj': 'The Dot and the Line'}]}\n",
      "====================================\n",
      "{'model': 'openchat-3.5-0106.Q8_0.gguf', 'sent': 'In 1965, the animator Chuck Jones and the MGM Animation/Visual Arts studio worked with Norton Juster to adapt The Dot and the Line into a 10-minute animated short film for Metro-Goldwyn-Mayer, narrated by Robert Morley with the narration almost verbatim to the book.', 'triples': [{'sub': 'Chuck Jones', 'rel': 'director', 'obj': 'The Dot and the Line'}, {'sub': 'MGM Animation/Visual Arts', 'rel': 'production company', 'obj': 'The Dot and the Line'}, {'sub': 'The Dot and the Line', 'rel': 'film', 'obj': 'Metro-Goldwyn-Mayer'}, {'sub': 'Robert Morley', 'rel': 'narrator', 'obj': 'The Dot and the Line'}]}\n",
      "====================================\n"
     ]
    },
    {
     "name": "stderr",
     "output_type": "stream",
     "text": [
      "\n",
      "llama_print_timings:        load time =     194.16 ms\n",
      "llama_print_timings:      sample time =      22.37 ms /   256 runs   (    0.09 ms per token, 11445.43 tokens per second)\n",
      "llama_print_timings: prompt eval time =    4534.76 ms /   860 tokens (    5.27 ms per token,   189.65 tokens per second)\n",
      "llama_print_timings:        eval time =    6785.64 ms /   255 runs   (   26.61 ms per token,    37.58 tokens per second)\n",
      "llama_print_timings:       total time =   11707.91 ms /  1115 tokens\n",
      "Llama.generate: prefix-match hit\n"
     ]
    },
    {
     "name": "stdout",
     "output_type": "stream",
     "text": [
      "With a story loosely connected to the manga by Masamune Shirow, the film was written and directed by Ghost in the Shell director Mamoru Oshii.\n",
      "++++++++++++++++++++++++++++++++++++\n",
      "[{'human': 'Mamoru Oshii', 'written_work': 'Ghost in the Shell'}]\n",
      "++++++++++++++++++++++++++++++++++++\n"
     ]
    },
    {
     "name": "stderr",
     "output_type": "stream",
     "text": [
      "\n",
      "llama_print_timings:        load time =     194.16 ms\n",
      "llama_print_timings:      sample time =      22.44 ms /   256 runs   (    0.09 ms per token, 11408.20 tokens per second)\n",
      "llama_print_timings: prompt eval time =    2415.06 ms /   464 tokens (    5.20 ms per token,   192.13 tokens per second)\n",
      "llama_print_timings:        eval time =    6551.66 ms /   255 runs   (   25.69 ms per token,    38.92 tokens per second)\n",
      "llama_print_timings:       total time =    9297.91 ms /   719 tokens\n",
      " 43%|████▎     | 43/100 [12:55<17:53, 18.83s/it]Llama.generate: prefix-match hit\n"
     ]
    },
    {
     "name": "stdout",
     "output_type": "stream",
     "text": [
      "{'triplets': [{'sub': 'Ghost in the Shell', 'rel': 'director', 'obj': 'Mamoru Oshii'}, {'sub': 'Ghost in the Shell', 'rel': 'screenwriter', 'obj': 'Mamoru Oshii'}, {'sub': 'Ghost in the Shell', 'rel': 'genre', 'obj': 'science fiction'}, {'sub': 'Ghost in the Shell', 'rel': 'based on', 'obj': 'Ghost in the Shell'}, {'sub': 'Ghost in the Shell', 'rel': 'cast member', 'obj': 'Mamoru Oshii'}]}\n",
      "====================================\n",
      "{'model': 'openchat-3.5-0106.Q8_0.gguf', 'sent': 'With a story loosely connected to the manga by Masamune Shirow, the film was written and directed by Ghost in the Shell director Mamoru Oshii.', 'triples': [{'sub': 'Ghost in the Shell', 'rel': 'director', 'obj': 'Mamoru Oshii'}, {'sub': 'Ghost in the Shell', 'rel': 'screenwriter', 'obj': 'Mamoru Oshii'}, {'sub': 'Ghost in the Shell', 'rel': 'genre', 'obj': 'science fiction'}, {'sub': 'Ghost in the Shell', 'rel': 'based on', 'obj': 'Ghost in the Shell'}, {'sub': 'Ghost in the Shell', 'rel': 'cast member', 'obj': 'Mamoru Oshii'}]}\n",
      "====================================\n"
     ]
    },
    {
     "name": "stderr",
     "output_type": "stream",
     "text": [
      "\n",
      "llama_print_timings:        load time =     194.16 ms\n",
      "llama_print_timings:      sample time =      22.46 ms /   256 runs   (    0.09 ms per token, 11399.06 tokens per second)\n",
      "llama_print_timings: prompt eval time =    4446.83 ms /   835 tokens (    5.33 ms per token,   187.77 tokens per second)\n",
      "llama_print_timings:        eval time =    6763.69 ms /   255 runs   (   26.52 ms per token,    37.70 tokens per second)\n",
      "llama_print_timings:       total time =   11581.27 ms /  1090 tokens\n",
      " 44%|████▍     | 44/100 [13:07<15:32, 16.66s/it]Llama.generate: prefix-match hit\n"
     ]
    },
    {
     "name": "stdout",
     "output_type": "stream",
     "text": [
      "Dead Leaves is directed by Hiroyuki Imaishi.\n",
      "++++++++++++++++++++++++++++++++++++\n",
      "[{'human': 'Hiroyuki Imaishi'}]\n",
      "++++++++++++++++++++++++++++++++++++\n",
      "{'triplets': []}\n",
      "====================================\n",
      "{'model': 'openchat-3.5-0106.Q8_0.gguf', 'sent': 'Dead Leaves is directed by Hiroyuki Imaishi.', 'triples': []}\n",
      "====================================\n"
     ]
    },
    {
     "name": "stderr",
     "output_type": "stream",
     "text": [
      "\n",
      "llama_print_timings:        load time =     194.16 ms\n",
      "llama_print_timings:      sample time =      21.93 ms /   256 runs   (    0.09 ms per token, 11675.10 tokens per second)\n",
      "llama_print_timings: prompt eval time =     254.52 ms /    34 tokens (    7.49 ms per token,   133.58 tokens per second)\n",
      "llama_print_timings:        eval time =    6780.37 ms /   255 runs   (   26.59 ms per token,    37.61 tokens per second)\n",
      "llama_print_timings:       total time =    7351.48 ms /   289 tokens\n",
      "Llama.generate: prefix-match hit\n"
     ]
    },
    {
     "name": "stdout",
     "output_type": "stream",
     "text": [
      "Gertie the Dinosaur is a 1914 animated short film by American cartoonist and animator Winsor McCay.\n",
      "++++++++++++++++++++++++++++++++++++\n",
      "[{'human': 'Winsor McCay', 'film': 'Gertie the Dinosaur'}]\n",
      "++++++++++++++++++++++++++++++++++++\n"
     ]
    },
    {
     "name": "stderr",
     "output_type": "stream",
     "text": [
      "\n",
      "llama_print_timings:        load time =     194.16 ms\n",
      "llama_print_timings:      sample time =      21.96 ms /   256 runs   (    0.09 ms per token, 11655.97 tokens per second)\n",
      "llama_print_timings: prompt eval time =    2412.71 ms /   455 tokens (    5.30 ms per token,   188.58 tokens per second)\n",
      "llama_print_timings:        eval time =    6545.38 ms /   255 runs   (   25.67 ms per token,    38.96 tokens per second)\n",
      "llama_print_timings:       total time =    9286.69 ms /   710 tokens\n",
      " 45%|████▌     | 45/100 [13:24<15:16, 16.66s/it]Llama.generate: prefix-match hit\n"
     ]
    },
    {
     "name": "stdout",
     "output_type": "stream",
     "text": [
      "{'triplets': [{'sub': 'Gertie the Dinosaur', 'rel': 'director', 'obj': 'Winsor McCay'}, {'sub': 'Gertie the Dinosaur', 'rel': 'screenwriter', 'obj': 'Winsor McCay'}, {'sub': 'Gertie the Dinosaur', 'rel': 'genre', 'obj': 'animated short film'}, {'sub': 'Gertie the Dinosaur', 'rel': 'based on', 'obj': 'written work'}, {'sub': 'Gertie the Dinosaur', 'rel': 'cast member', 'obj': 'Winsor McCay'}, {'sub': 'Gertie the Dinosaur', 'rel': 'award received', 'obj': 'award'}, {}]}\n",
      "====================================\n",
      "{'model': 'openchat-3.5-0106.Q8_0.gguf', 'sent': 'Gertie the Dinosaur is a 1914 animated short film by American cartoonist and animator Winsor McCay.', 'triples': [{'sub': 'Gertie the Dinosaur', 'rel': 'director', 'obj': 'Winsor McCay'}, {'sub': 'Gertie the Dinosaur', 'rel': 'screenwriter', 'obj': 'Winsor McCay'}, {'sub': 'Gertie the Dinosaur', 'rel': 'genre', 'obj': 'animated short film'}, {'sub': 'Gertie the Dinosaur', 'rel': 'based on', 'obj': 'written work'}, {'sub': 'Gertie the Dinosaur', 'rel': 'cast member', 'obj': 'Winsor McCay'}, {'sub': 'Gertie the Dinosaur', 'rel': 'award received', 'obj': 'award'}, {}]}\n",
      "====================================\n"
     ]
    },
    {
     "name": "stderr",
     "output_type": "stream",
     "text": [
      "\n",
      "llama_print_timings:        load time =     194.16 ms\n",
      "llama_print_timings:      sample time =      21.93 ms /   256 runs   (    0.09 ms per token, 11675.10 tokens per second)\n",
      "llama_print_timings: prompt eval time =    4617.85 ms /   872 tokens (    5.30 ms per token,   188.83 tokens per second)\n",
      "llama_print_timings:        eval time =    6791.84 ms /   255 runs   (   26.63 ms per token,    37.55 tokens per second)\n",
      "llama_print_timings:       total time =   11770.88 ms /  1127 tokens\n",
      "Llama.generate: prefix-match hit\n"
     ]
    },
    {
     "name": "stdout",
     "output_type": "stream",
     "text": [
      "Flight of the Butterflies is a 2012 Canadian documentary film directed and co-written by Mike Slee for 3D IMAX, starring Megan Follows, Gordon Pinsent, and Shaun Benson.\n",
      "++++++++++++++++++++++++++++++++++++\n",
      "[{'human': 'Mike Slee', 'city': 'Canada', 'film': 'Flight of the Butterflies', 'genre': 'documentary', 'film_production_company': '3D IMAX', 'cast member': ['Megan Follows', 'Gordon Pinsent', 'Shaun Benson']}]\n",
      "++++++++++++++++++++++++++++++++++++\n"
     ]
    },
    {
     "name": "stderr",
     "output_type": "stream",
     "text": [
      "\n",
      "llama_print_timings:        load time =     194.16 ms\n",
      "llama_print_timings:      sample time =      22.56 ms /   256 runs   (    0.09 ms per token, 11348.02 tokens per second)\n",
      "llama_print_timings: prompt eval time =    2751.41 ms /   526 tokens (    5.23 ms per token,   191.17 tokens per second)\n",
      "llama_print_timings:        eval time =    6583.59 ms /   255 runs   (   25.82 ms per token,    38.73 tokens per second)\n",
      "llama_print_timings:       total time =    9681.34 ms /   781 tokens\n",
      " 46%|████▌     | 46/100 [13:45<16:17, 18.10s/it]Llama.generate: prefix-match hit\n"
     ]
    },
    {
     "name": "stdout",
     "output_type": "stream",
     "text": [
      "{'triplets': [{'sub': 'Flight of the Butterflies', 'rel': 'director', 'obj': 'Mike Slee'}, {'sub': 'Flight of the Butterflies', 'rel': 'screenwriter', 'obj': 'Mike Slee'}, {'sub': 'Flight of the Butterflies', 'rel': 'genre', 'obj': 'documentary'}, {'sub': 'Flight of the Butterflies', 'rel': 'based on', 'obj': 'written work'}, {'sub': 'Flight of the Butterflies', 'rel': 'cast member', 'obj': 'Megan Follows'}, {'sub': 'Flight of the Butterflies', 'rel': 'cast member', 'obj': 'Gordon Pinsent'}, {}]}\n",
      "====================================\n",
      "{'model': 'openchat-3.5-0106.Q8_0.gguf', 'sent': 'Flight of the Butterflies is a 2012 Canadian documentary film directed and co-written by Mike Slee for 3D IMAX, starring Megan Follows, Gordon Pinsent, and Shaun Benson.', 'triples': [{'sub': 'Flight of the Butterflies', 'rel': 'director', 'obj': 'Mike Slee'}, {'sub': 'Flight of the Butterflies', 'rel': 'screenwriter', 'obj': 'Mike Slee'}, {'sub': 'Flight of the Butterflies', 'rel': 'genre', 'obj': 'documentary'}, {'sub': 'Flight of the Butterflies', 'rel': 'based on', 'obj': 'written work'}, {'sub': 'Flight of the Butterflies', 'rel': 'cast member', 'obj': 'Megan Follows'}, {'sub': 'Flight of the Butterflies', 'rel': 'cast member', 'obj': 'Gordon Pinsent'}, {}]}\n",
      "====================================\n"
     ]
    },
    {
     "name": "stderr",
     "output_type": "stream",
     "text": [
      "\n",
      "llama_print_timings:        load time =     194.16 ms\n",
      "llama_print_timings:      sample time =      21.57 ms /   256 runs   (    0.08 ms per token, 11865.59 tokens per second)\n",
      "llama_print_timings: prompt eval time =    4532.41 ms /   851 tokens (    5.33 ms per token,   187.76 tokens per second)\n",
      "llama_print_timings:        eval time =    6782.31 ms /   255 runs   (   26.60 ms per token,    37.60 tokens per second)\n",
      "llama_print_timings:       total time =   11698.18 ms /  1106 tokens\n",
      "Llama.generate: prefix-match hit\n"
     ]
    },
    {
     "name": "stdout",
     "output_type": "stream",
     "text": [
      "Les Vampires is a 1915-16 French silent crime serial film written and directed by Louis Feuillade.\n",
      "++++++++++++++++++++++++++++++++++++\n",
      "[{'human': 'Louis Feuillade', 'film': 'Les Vampires', 'genre': 'crime serial', 'film_production_company': 'French silent'}]\n",
      "++++++++++++++++++++++++++++++++++++\n"
     ]
    },
    {
     "name": "stderr",
     "output_type": "stream",
     "text": [
      "\n",
      "llama_print_timings:        load time =     194.16 ms\n",
      "llama_print_timings:      sample time =      21.66 ms /   256 runs   (    0.08 ms per token, 11820.66 tokens per second)\n",
      "llama_print_timings: prompt eval time =    2497.57 ms /   472 tokens (    5.29 ms per token,   188.98 tokens per second)\n",
      "llama_print_timings:        eval time =    6556.36 ms /   255 runs   (   25.71 ms per token,    38.89 tokens per second)\n",
      "llama_print_timings:       total time =    9411.05 ms /   727 tokens\n",
      " 47%|████▋     | 47/100 [14:06<16:47, 19.00s/it]Llama.generate: prefix-match hit\n"
     ]
    },
    {
     "name": "stdout",
     "output_type": "stream",
     "text": [
      "{'triplets': [{'sub': 'Les Vampires', 'rel': 'director', 'obj': 'Louis Feuillade'}, {'sub': 'Les Vampires', 'rel': 'screenwriter', 'obj': 'Louis Feuillade'}, {'sub': 'Les Vampires', 'rel': 'genre', 'obj': 'crime serial'}, {'sub': 'Les Vampires', 'rel': 'film_production_company', 'obj': 'French silent'}]}\n",
      "====================================\n",
      "{'model': 'openchat-3.5-0106.Q8_0.gguf', 'sent': 'Les Vampires is a 1915-16 French silent crime serial film written and directed by Louis Feuillade.', 'triples': [{'sub': 'Les Vampires', 'rel': 'director', 'obj': 'Louis Feuillade'}, {'sub': 'Les Vampires', 'rel': 'screenwriter', 'obj': 'Louis Feuillade'}, {'sub': 'Les Vampires', 'rel': 'genre', 'obj': 'crime serial'}, {'sub': 'Les Vampires', 'rel': 'film_production_company', 'obj': 'French silent'}]}\n",
      "====================================\n"
     ]
    },
    {
     "name": "stderr",
     "output_type": "stream",
     "text": [
      "\n",
      "llama_print_timings:        load time =     194.16 ms\n",
      "llama_print_timings:      sample time =      22.48 ms /   256 runs   (    0.09 ms per token, 11386.38 tokens per second)\n",
      "llama_print_timings: prompt eval time =    4703.76 ms /   890 tokens (    5.29 ms per token,   189.21 tokens per second)\n",
      "llama_print_timings:        eval time =    6802.64 ms /   255 runs   (   26.68 ms per token,    37.49 tokens per second)\n",
      "llama_print_timings:       total time =   11909.76 ms /  1145 tokens\n",
      "Llama.generate: prefix-match hit\n"
     ]
    },
    {
     "name": "stdout",
     "output_type": "stream",
     "text": [
      "The Castle of Cagliostro (Japanese:  , Hepburn: Rupan Sansei: Kariosutoro no Shiro) is a 1979 Japanese animated action-adventure comedy film co-written and directed by Hayao Miyazaki as his feature film debut.\n",
      "++++++++++++++++++++++++++++++++++++\n",
      "[{'film': 'The Castle of Cagliostro', 'human': 'Hayao Miyazaki', 'genre': 'action-adventure comedy'}]\n",
      "++++++++++++++++++++++++++++++++++++\n"
     ]
    },
    {
     "name": "stderr",
     "output_type": "stream",
     "text": [
      "\n",
      "llama_print_timings:        load time =     194.16 ms\n",
      "llama_print_timings:      sample time =      21.45 ms /   256 runs   (    0.08 ms per token, 11933.62 tokens per second)\n",
      "llama_print_timings: prompt eval time =    2665.22 ms /   507 tokens (    5.26 ms per token,   190.23 tokens per second)\n",
      "llama_print_timings:        eval time =    6571.85 ms /   255 runs   (   25.77 ms per token,    38.80 tokens per second)\n",
      "llama_print_timings:       total time =    9597.81 ms /   762 tokens\n",
      " 48%|████▊     | 48/100 [14:28<17:07, 19.76s/it]Llama.generate: prefix-match hit\n"
     ]
    },
    {
     "name": "stdout",
     "output_type": "stream",
     "text": [
      "{'triplets': [{'sub': 'The Castle of Cagliostro', 'rel': 'director', 'obj': 'Hayao Miyazaki'}, {'sub': 'The Castle of Cagliostro', 'rel': 'screenwriter', 'obj': 'Hayao Miyazaki'}, {'sub': 'The Castle of Cagliostro', 'rel': 'genre', 'obj': 'action-adventure comedy'}]}\n",
      "====================================\n",
      "{'model': 'openchat-3.5-0106.Q8_0.gguf', 'sent': 'The Castle of Cagliostro (Japanese:  , Hepburn: Rupan Sansei: Kariosutoro no Shiro) is a 1979 Japanese animated action-adventure comedy film co-written and directed by Hayao Miyazaki as his feature film debut.', 'triples': [{'sub': 'The Castle of Cagliostro', 'rel': 'director', 'obj': 'Hayao Miyazaki'}, {'sub': 'The Castle of Cagliostro', 'rel': 'screenwriter', 'obj': 'Hayao Miyazaki'}, {'sub': 'The Castle of Cagliostro', 'rel': 'genre', 'obj': 'action-adventure comedy'}]}\n",
      "====================================\n"
     ]
    },
    {
     "name": "stderr",
     "output_type": "stream",
     "text": [
      "\n",
      "llama_print_timings:        load time =     194.16 ms\n",
      "llama_print_timings:      sample time =      21.78 ms /   256 runs   (    0.09 ms per token, 11756.60 tokens per second)\n",
      "llama_print_timings: prompt eval time =    4701.53 ms /   883 tokens (    5.32 ms per token,   187.81 tokens per second)\n",
      "llama_print_timings:        eval time =    6801.28 ms /   255 runs   (   26.67 ms per token,    37.49 tokens per second)\n",
      "llama_print_timings:       total time =   11890.85 ms /  1138 tokens\n",
      "Llama.generate: prefix-match hit\n"
     ]
    },
    {
     "name": "stdout",
     "output_type": "stream",
     "text": [
      "The featurette was directed by Wolfgang Reitherman, produced by Walt Disney Productions and released by Buena Vista Distribution Company on December 20, 1968 as a double feature with the live-action comedy feature The Horse in the Gray Flannel Suit.\n",
      "++++++++++++++++++++++++++++++++++++\n",
      "[{'human': 'Wolfgang Reitherman', 'film_production_company': 'Walt Disney Productions'}]\n",
      "++++++++++++++++++++++++++++++++++++\n"
     ]
    },
    {
     "name": "stderr",
     "output_type": "stream",
     "text": [
      "\n",
      "llama_print_timings:        load time =     194.16 ms\n",
      "llama_print_timings:      sample time =      22.17 ms /   256 runs   (    0.09 ms per token, 11546.09 tokens per second)\n",
      "llama_print_timings: prompt eval time =    2580.99 ms /   489 tokens (    5.28 ms per token,   189.46 tokens per second)\n",
      "llama_print_timings:        eval time =    6561.63 ms /   255 runs   (   25.73 ms per token,    38.86 tokens per second)\n",
      "llama_print_timings:       total time =    9491.79 ms /   744 tokens\n",
      " 49%|████▉     | 49/100 [14:49<17:12, 20.25s/it]Llama.generate: prefix-match hit\n"
     ]
    },
    {
     "name": "stdout",
     "output_type": "stream",
     "text": [
      "{'triplets': [{'sub': 'Wolfgang Reitherman', 'rel': 'director', 'obj': 'film'}, {'sub': 'Walt Disney Productions', 'rel': 'production company', 'obj': 'film'}]}\n",
      "====================================\n",
      "{'model': 'openchat-3.5-0106.Q8_0.gguf', 'sent': 'The featurette was directed by Wolfgang Reitherman, produced by Walt Disney Productions and released by Buena Vista Distribution Company on December 20, 1968 as a double feature with the live-action comedy feature The Horse in the Gray Flannel Suit.', 'triples': [{'sub': 'Wolfgang Reitherman', 'rel': 'director', 'obj': 'film'}, {'sub': 'Walt Disney Productions', 'rel': 'production company', 'obj': 'film'}]}\n",
      "====================================\n"
     ]
    },
    {
     "name": "stderr",
     "output_type": "stream",
     "text": [
      "\n",
      "llama_print_timings:        load time =     194.16 ms\n",
      "llama_print_timings:      sample time =      21.98 ms /   256 runs   (    0.09 ms per token, 11646.42 tokens per second)\n",
      "llama_print_timings: prompt eval time =    4532.07 ms /   856 tokens (    5.29 ms per token,   188.88 tokens per second)\n",
      "llama_print_timings:        eval time =    6781.71 ms /   255 runs   (   26.59 ms per token,    37.60 tokens per second)\n",
      "llama_print_timings:       total time =   11675.01 ms /  1111 tokens\n",
      "Llama.generate: prefix-match hit\n"
     ]
    },
    {
     "name": "stdout",
     "output_type": "stream",
     "text": [
      "The Case of the Stuttering Pig is a 1937 Warner Bros. Looney Tunes animated cartoon directed by Frank Tashlin.\n",
      "++++++++++++++++++++++++++++++++++++\n",
      "[{'film': 'The Case of the Stuttering Pig', 'human': 'Frank Tashlin'}]\n",
      "++++++++++++++++++++++++++++++++++++\n"
     ]
    },
    {
     "name": "stderr",
     "output_type": "stream",
     "text": [
      "\n",
      "llama_print_timings:        load time =     194.16 ms\n",
      "llama_print_timings:      sample time =      21.94 ms /   256 runs   (    0.09 ms per token, 11667.12 tokens per second)\n",
      "llama_print_timings: prompt eval time =    2414.20 ms /   460 tokens (    5.25 ms per token,   190.54 tokens per second)\n",
      "llama_print_timings:        eval time =    6546.72 ms /   255 runs   (   25.67 ms per token,    38.95 tokens per second)\n",
      "llama_print_timings:       total time =    9290.35 ms /   715 tokens\n",
      " 50%|█████     | 50/100 [15:10<17:03, 20.47s/it]Llama.generate: prefix-match hit\n"
     ]
    },
    {
     "name": "stdout",
     "output_type": "stream",
     "text": [
      "{'triplets': [{'sub': 'The Case of the Stuttering Pig', 'rel': 'director', 'obj': 'Frank Tashlin'}]}\n",
      "====================================\n",
      "{'model': 'openchat-3.5-0106.Q8_0.gguf', 'sent': 'The Case of the Stuttering Pig is a 1937 Warner Bros. Looney Tunes animated cartoon directed by Frank Tashlin.', 'triples': [{'sub': 'The Case of the Stuttering Pig', 'rel': 'director', 'obj': 'Frank Tashlin'}]}\n",
      "====================================\n"
     ]
    },
    {
     "name": "stderr",
     "output_type": "stream",
     "text": [
      "\n",
      "llama_print_timings:        load time =     194.16 ms\n",
      "llama_print_timings:      sample time =      22.13 ms /   256 runs   (    0.09 ms per token, 11569.58 tokens per second)\n",
      "llama_print_timings: prompt eval time =    4532.61 ms /   853 tokens (    5.31 ms per token,   188.19 tokens per second)\n",
      "llama_print_timings:        eval time =    6767.94 ms /   255 runs   (   26.54 ms per token,    37.68 tokens per second)\n",
      "llama_print_timings:       total time =   11669.79 ms /  1108 tokens\n",
      "Llama.generate: prefix-match hit\n"
     ]
    },
    {
     "name": "stdout",
     "output_type": "stream",
     "text": [
      "Upswept Hare is a 1952 Warner Bros. Merrie Melodies cartoon directed by Robert McKimson.\n",
      "++++++++++++++++++++++++++++++++++++\n",
      "[{'human': 'Robert McKimson', 'film': 'Upswept Hare', 'film_production_company': 'Warner Bros.'}]\n",
      "++++++++++++++++++++++++++++++++++++\n"
     ]
    },
    {
     "name": "stderr",
     "output_type": "stream",
     "text": [
      "\n",
      "llama_print_timings:        load time =     194.16 ms\n",
      "llama_print_timings:      sample time =      21.91 ms /   256 runs   (    0.09 ms per token, 11686.83 tokens per second)\n",
      "llama_print_timings: prompt eval time =    2496.72 ms /   468 tokens (    5.33 ms per token,   187.45 tokens per second)\n",
      "llama_print_timings:        eval time =    6545.69 ms /   255 runs   (   25.67 ms per token,    38.96 tokens per second)\n",
      "llama_print_timings:       total time =    9378.82 ms /   723 tokens\n",
      " 51%|█████     | 51/100 [15:31<16:51, 20.64s/it]Llama.generate: prefix-match hit\n"
     ]
    },
    {
     "name": "stdout",
     "output_type": "stream",
     "text": [
      "{'triplets': [{'sub': 'Upswept Hare', 'rel': 'director', 'obj': 'Robert McKimson'}, {'sub': 'Upswept Hare', 'rel': 'production company', 'obj': 'Warner Bros.'}]}\n",
      "====================================\n",
      "{'model': 'openchat-3.5-0106.Q8_0.gguf', 'sent': 'Upswept Hare is a 1952 Warner Bros. Merrie Melodies cartoon directed by Robert McKimson.', 'triples': [{'sub': 'Upswept Hare', 'rel': 'director', 'obj': 'Robert McKimson'}, {'sub': 'Upswept Hare', 'rel': 'production company', 'obj': 'Warner Bros.'}]}\n",
      "====================================\n"
     ]
    },
    {
     "name": "stderr",
     "output_type": "stream",
     "text": [
      "\n",
      "llama_print_timings:        load time =     194.16 ms\n",
      "llama_print_timings:      sample time =      21.65 ms /   256 runs   (    0.08 ms per token, 11825.03 tokens per second)\n",
      "llama_print_timings: prompt eval time =    4617.91 ms /   878 tokens (    5.26 ms per token,   190.13 tokens per second)\n",
      "llama_print_timings:        eval time =    6789.84 ms /   255 runs   (   26.63 ms per token,    37.56 tokens per second)\n",
      "llama_print_timings:       total time =   11795.64 ms /  1133 tokens\n",
      "Llama.generate: prefix-match hit\n"
     ]
    },
    {
     "name": "stdout",
     "output_type": "stream",
     "text": [
      "My Neighbor Totoro (Japanese: , Hepburn: Tonari no Totoro) is a 1988 Japanese animated fantasy film written and directed by Hayao Miyazaki and animated by Studio Ghibli for Tokuma Shoten.\n",
      "++++++++++++++++++++++++++++++++++++\n",
      "[{'human': 'Hayao Miyazaki', 'film': 'My Neighbor Totoro', 'film_production_company': 'Studio Ghibli'}]\n",
      "++++++++++++++++++++++++++++++++++++\n"
     ]
    },
    {
     "name": "stderr",
     "output_type": "stream",
     "text": [
      "\n",
      "llama_print_timings:        load time =     194.16 ms\n",
      "llama_print_timings:      sample time =      21.75 ms /   256 runs   (    0.08 ms per token, 11771.20 tokens per second)\n",
      "llama_print_timings: prompt eval time =    2582.75 ms /   494 tokens (    5.23 ms per token,   191.27 tokens per second)\n",
      "llama_print_timings:        eval time =    6562.92 ms /   255 runs   (   25.74 ms per token,    38.85 tokens per second)\n",
      "llama_print_timings:       total time =    9520.23 ms /   749 tokens\n",
      " 52%|█████▏    | 52/100 [15:53<16:40, 20.85s/it]Llama.generate: prefix-match hit\n"
     ]
    },
    {
     "name": "stdout",
     "output_type": "stream",
     "text": [
      "{'triplets': [{'sub': 'My Neighbor Totoro', 'rel': 'director', 'obj': 'Hayao Miyazaki'}, {'sub': 'My Neighbor Totoro', 'rel': 'screenwriter', 'obj': 'Hayao Miyazaki'}, {'sub': 'My Neighbor Totoro', 'rel': 'genre', 'obj': 'animated fantasy'}, {'sub': 'My Neighbor Totoro', 'rel': 'based on', 'obj': 'written work'}, {'sub': 'My Neighbor Totoro', 'rel': 'cast member', 'obj': 'Hayao Miyazaki'}, {'sub': 'My Neighbor Totoro', 'rel': 'award received', 'obj': 'award'}, {'sub': 'My Neighbor Tot'}]}\n",
      "====================================\n",
      "{'model': 'openchat-3.5-0106.Q8_0.gguf', 'sent': 'My Neighbor Totoro (Japanese: , Hepburn: Tonari no Totoro) is a 1988 Japanese animated fantasy film written and directed by Hayao Miyazaki and animated by Studio Ghibli for Tokuma Shoten.', 'triples': [{'sub': 'My Neighbor Totoro', 'rel': 'director', 'obj': 'Hayao Miyazaki'}, {'sub': 'My Neighbor Totoro', 'rel': 'screenwriter', 'obj': 'Hayao Miyazaki'}, {'sub': 'My Neighbor Totoro', 'rel': 'genre', 'obj': 'animated fantasy'}, {'sub': 'My Neighbor Totoro', 'rel': 'based on', 'obj': 'written work'}, {'sub': 'My Neighbor Totoro', 'rel': 'cast member', 'obj': 'Hayao Miyazaki'}, {'sub': 'My Neighbor Totoro', 'rel': 'award received', 'obj': 'award'}, {'sub': 'My Neighbor Tot'}]}\n",
      "====================================\n"
     ]
    },
    {
     "name": "stderr",
     "output_type": "stream",
     "text": [
      "\n",
      "llama_print_timings:        load time =     194.16 ms\n",
      "llama_print_timings:      sample time =      22.02 ms /   256 runs   (    0.09 ms per token, 11624.74 tokens per second)\n",
      "llama_print_timings: prompt eval time =    4533.32 ms /   861 tokens (    5.27 ms per token,   189.93 tokens per second)\n",
      "llama_print_timings:        eval time =    6786.80 ms /   255 runs   (   26.61 ms per token,    37.57 tokens per second)\n",
      "llama_print_timings:       total time =   11706.77 ms /  1116 tokens\n",
      "Llama.generate: prefix-match hit\n"
     ]
    },
    {
     "name": "stdout",
     "output_type": "stream",
     "text": [
      "Yankee Doodle Bugs is a 1954 Warner Bros. Looney Tunes cartoon short, written by Warren Foster and directed by Friz Freleng.\n",
      "++++++++++++++++++++++++++++++++++++\n",
      "[{'film': 'Yankee Doodle Bugs', 'human': 'Friz Freleng', 'film_production_company': 'Warner Bros.'}]\n",
      "++++++++++++++++++++++++++++++++++++\n"
     ]
    },
    {
     "name": "stderr",
     "output_type": "stream",
     "text": [
      "\n",
      "llama_print_timings:        load time =     194.16 ms\n",
      "llama_print_timings:      sample time =      21.37 ms /   256 runs   (    0.08 ms per token, 11978.85 tokens per second)\n",
      "llama_print_timings: prompt eval time =    2499.26 ms /   477 tokens (    5.24 ms per token,   190.86 tokens per second)\n",
      "llama_print_timings:        eval time =    6558.91 ms /   255 runs   (   25.72 ms per token,    38.88 tokens per second)\n",
      "llama_print_timings:       total time =    9414.60 ms /   732 tokens\n",
      " 53%|█████▎    | 53/100 [16:14<16:23, 20.93s/it]Llama.generate: prefix-match hit\n"
     ]
    },
    {
     "name": "stdout",
     "output_type": "stream",
     "text": [
      "{'triplets': [{'sub': 'Yankee Doodle Bugs', 'rel': 'director', 'obj': 'Friz Freleng'}, {'sub': 'Yankee Doodle Bugs', 'rel': 'screenwriter', 'obj': 'Warren Foster'}, {'sub': 'Yankee Doodle Bugs', 'rel': 'production company', 'obj': 'Warner Bros.'}, {'sub': 'Yankee Doodle Bugs', 'rel': 'genre', 'obj': 'Looney Tunes cartoon short'}, {'sub': 'Yankee Doodle Bugs', 'rel': 'characters', 'obj': 'Yankee Doodle Bugs'}, {'sub': 'Yankee Doodle Bugs', 'rel': 'narrative location'}]}\n",
      "====================================\n",
      "{'model': 'openchat-3.5-0106.Q8_0.gguf', 'sent': 'Yankee Doodle Bugs is a 1954 Warner Bros. Looney Tunes cartoon short, written by Warren Foster and directed by Friz Freleng.', 'triples': [{'sub': 'Yankee Doodle Bugs', 'rel': 'director', 'obj': 'Friz Freleng'}, {'sub': 'Yankee Doodle Bugs', 'rel': 'screenwriter', 'obj': 'Warren Foster'}, {'sub': 'Yankee Doodle Bugs', 'rel': 'production company', 'obj': 'Warner Bros.'}, {'sub': 'Yankee Doodle Bugs', 'rel': 'genre', 'obj': 'Looney Tunes cartoon short'}, {'sub': 'Yankee Doodle Bugs', 'rel': 'characters', 'obj': 'Yankee Doodle Bugs'}, {'sub': 'Yankee Doodle Bugs', 'rel': 'narrative location'}]}\n",
      "====================================\n"
     ]
    },
    {
     "name": "stderr",
     "output_type": "stream",
     "text": [
      "\n",
      "llama_print_timings:        load time =     194.16 ms\n",
      "llama_print_timings:      sample time =      22.34 ms /   256 runs   (    0.09 ms per token, 11460.29 tokens per second)\n",
      "llama_print_timings: prompt eval time =    4532.38 ms /   852 tokens (    5.32 ms per token,   187.98 tokens per second)\n",
      "llama_print_timings:        eval time =    6776.87 ms /   255 runs   (   26.58 ms per token,    37.63 tokens per second)\n",
      "llama_print_timings:       total time =   11697.15 ms /  1107 tokens\n",
      "Llama.generate: prefix-match hit\n"
     ]
    },
    {
     "name": "stdout",
     "output_type": "stream",
     "text": [
      "Hollywood Steps Out is a 1941 short Merrie Melodies cartoon by Warner Bros., directed by Tex Avery.\n",
      "++++++++++++++++++++++++++++++++++++\n",
      "[{'human': 'Tex Avery', 'film': 'Hollywood Steps Out', 'film_production_company': 'Warner Bros.'}]\n",
      "++++++++++++++++++++++++++++++++++++\n"
     ]
    },
    {
     "name": "stderr",
     "output_type": "stream",
     "text": [
      "\n",
      "llama_print_timings:        load time =     194.16 ms\n",
      "llama_print_timings:      sample time =      22.01 ms /   256 runs   (    0.09 ms per token, 11631.61 tokens per second)\n",
      "llama_print_timings: prompt eval time =    2414.61 ms /   464 tokens (    5.20 ms per token,   192.16 tokens per second)\n",
      "llama_print_timings:        eval time =    6549.27 ms /   255 runs   (   25.68 ms per token,    38.94 tokens per second)\n",
      "llama_print_timings:       total time =    9291.52 ms /   719 tokens\n",
      " 54%|█████▍    | 54/100 [16:35<16:03, 20.95s/it]Llama.generate: prefix-match hit\n"
     ]
    },
    {
     "name": "stdout",
     "output_type": "stream",
     "text": [
      "{'triplets': [{'sub': 'Hollywood Steps Out', 'rel': 'director', 'obj': 'Tex Avery'}, {'sub': 'Hollywood Steps Out', 'rel': 'film_production_company', 'obj': 'Warner Bros.'}]}\n",
      "====================================\n",
      "{'model': 'openchat-3.5-0106.Q8_0.gguf', 'sent': 'Hollywood Steps Out is a 1941 short Merrie Melodies cartoon by Warner Bros., directed by Tex Avery.', 'triples': [{'sub': 'Hollywood Steps Out', 'rel': 'director', 'obj': 'Tex Avery'}, {'sub': 'Hollywood Steps Out', 'rel': 'film_production_company', 'obj': 'Warner Bros.'}]}\n",
      "====================================\n"
     ]
    },
    {
     "name": "stderr",
     "output_type": "stream",
     "text": [
      "\n",
      "llama_print_timings:        load time =     194.16 ms\n",
      "llama_print_timings:      sample time =      21.96 ms /   256 runs   (    0.09 ms per token, 11659.15 tokens per second)\n",
      "llama_print_timings: prompt eval time =    4448.97 ms /   848 tokens (    5.25 ms per token,   190.61 tokens per second)\n",
      "llama_print_timings:        eval time =    6804.66 ms /   256 runs   (   26.58 ms per token,    37.62 tokens per second)\n",
      "llama_print_timings:       total time =   11612.80 ms /  1104 tokens\n",
      "Llama.generate: prefix-match hit\n"
     ]
    },
    {
     "name": "stdout",
     "output_type": "stream",
     "text": [
      "Mickey's Christmas Carol is a 1983 American animated featurette directed and produced by Burny Mattinson.\n",
      "++++++++++++++++++++++++++++++++++++\n",
      "[{'human': 'Burny Mattinson', 'film': \"Mickey's Christmas Carol\"}]\n",
      "++++++++++++++++++++++++++++++++++++\n"
     ]
    },
    {
     "name": "stderr",
     "output_type": "stream",
     "text": [
      "\n",
      "llama_print_timings:        load time =     194.16 ms\n",
      "llama_print_timings:      sample time =      21.93 ms /   256 runs   (    0.09 ms per token, 11675.10 tokens per second)\n",
      "llama_print_timings: prompt eval time =    2412.10 ms /   450 tokens (    5.36 ms per token,   186.56 tokens per second)\n",
      "llama_print_timings:        eval time =    6539.63 ms /   255 runs   (   25.65 ms per token,    38.99 tokens per second)\n",
      "llama_print_timings:       total time =    9292.31 ms /   705 tokens\n",
      " 55%|█████▌    | 55/100 [16:56<15:42, 20.94s/it]Llama.generate: prefix-match hit\n"
     ]
    },
    {
     "name": "stdout",
     "output_type": "stream",
     "text": [
      "{'triplets': [{'sub': \"Mickey's Christmas Carol\", 'rel': 'director', 'obj': 'Burny Mattinson'}, {'sub': \"Mickey's Christmas Carol\", 'rel': 'production company', 'obj': 'Burny Mattinson'}]}\n",
      "====================================\n",
      "{'model': 'openchat-3.5-0106.Q8_0.gguf', 'sent': \"Mickey's Christmas Carol is a 1983 American animated featurette directed and produced by Burny Mattinson.\", 'triples': [{'sub': \"Mickey's Christmas Carol\", 'rel': 'director', 'obj': 'Burny Mattinson'}, {'sub': \"Mickey's Christmas Carol\", 'rel': 'production company', 'obj': 'Burny Mattinson'}]}\n",
      "====================================\n"
     ]
    },
    {
     "name": "stderr",
     "output_type": "stream",
     "text": [
      "\n",
      "llama_print_timings:        load time =     194.16 ms\n",
      "llama_print_timings:      sample time =      22.75 ms /   256 runs   (    0.09 ms per token, 11254.73 tokens per second)\n",
      "llama_print_timings: prompt eval time =    4618.80 ms /   869 tokens (    5.32 ms per token,   188.14 tokens per second)\n",
      "llama_print_timings:        eval time =    6790.74 ms /   255 runs   (   26.63 ms per token,    37.55 tokens per second)\n",
      "llama_print_timings:       total time =   11772.11 ms /  1124 tokens\n",
      "Llama.generate: prefix-match hit\n"
     ]
    },
    {
     "name": "stdout",
     "output_type": "stream",
     "text": [
      "The Disappearance of Haruhi Suzumiya is produced by Kyoto Animation, written by Fumihiko Shimo and directed by Tatsuya Ishihara and Yasuhiro Takemoto.\n",
      "++++++++++++++++++++++++++++++++++++\n",
      "[{'film_production_company': 'Kyoto Animation', 'human': 'Yasuhiro Takemoto'}]\n",
      "++++++++++++++++++++++++++++++++++++\n"
     ]
    },
    {
     "name": "stderr",
     "output_type": "stream",
     "text": [
      "\n",
      "llama_print_timings:        load time =     194.16 ms\n",
      "llama_print_timings:      sample time =      21.83 ms /   256 runs   (    0.09 ms per token, 11728.06 tokens per second)\n",
      "llama_print_timings: prompt eval time =    2498.01 ms /   475 tokens (    5.26 ms per token,   190.15 tokens per second)\n",
      "llama_print_timings:        eval time =    6553.72 ms /   255 runs   (   25.70 ms per token,    38.91 tokens per second)\n",
      "llama_print_timings:       total time =    9382.08 ms /   730 tokens\n",
      " 56%|█████▌    | 56/100 [17:17<15:24, 21.01s/it]Llama.generate: prefix-match hit\n"
     ]
    },
    {
     "name": "stdout",
     "output_type": "stream",
     "text": [
      "{'triplets': [{'sub': 'The Disappearance of Haruhi Suzumiya', 'rel': 'director', 'obj': 'Yasuhiro Takemoto'}, {'sub': 'The Disappearance of Haruhi Suzumiya', 'rel': 'screenwriter', 'obj': 'Fumihiko Shimo'}, {'sub': 'The Disappearance of Haruhi Suzumiya', 'rel': 'production company', 'obj': 'Kyoto Animation'}, {'sub': 'The Disappearance of Haruhi Suzumiya', 'rel': 'characters', 'obj': 'Haruhi Suzumiya'}, {'sub': 'The Disappearance of Haruhi Suzumiya', 'rel': 'narrative location', 'obj': 'city'}, {'sub': 'The Disappearance of Haruhi Suzumi'}]}\n",
      "====================================\n",
      "{'model': 'openchat-3.5-0106.Q8_0.gguf', 'sent': 'The Disappearance of Haruhi Suzumiya is produced by Kyoto Animation, written by Fumihiko Shimo and directed by Tatsuya Ishihara and Yasuhiro Takemoto.', 'triples': [{'sub': 'The Disappearance of Haruhi Suzumiya', 'rel': 'director', 'obj': 'Yasuhiro Takemoto'}, {'sub': 'The Disappearance of Haruhi Suzumiya', 'rel': 'screenwriter', 'obj': 'Fumihiko Shimo'}, {'sub': 'The Disappearance of Haruhi Suzumiya', 'rel': 'production company', 'obj': 'Kyoto Animation'}, {'sub': 'The Disappearance of Haruhi Suzumiya', 'rel': 'characters', 'obj': 'Haruhi Suzumiya'}, {'sub': 'The Disappearance of Haruhi Suzumiya', 'rel': 'narrative location', 'obj': 'city'}, {'sub': 'The Disappearance of Haruhi Suzumi'}]}\n",
      "====================================\n"
     ]
    },
    {
     "name": "stderr",
     "output_type": "stream",
     "text": [
      "\n",
      "llama_print_timings:        load time =     194.16 ms\n",
      "llama_print_timings:      sample time =      21.67 ms /   256 runs   (    0.08 ms per token, 11814.11 tokens per second)\n",
      "llama_print_timings: prompt eval time =    4533.27 ms /   855 tokens (    5.30 ms per token,   188.61 tokens per second)\n",
      "llama_print_timings:        eval time =    6782.51 ms /   255 runs   (   26.60 ms per token,    37.60 tokens per second)\n",
      "llama_print_timings:       total time =   11683.08 ms /  1110 tokens\n",
      "Llama.generate: prefix-match hit\n"
     ]
    },
    {
     "name": "stdout",
     "output_type": "stream",
     "text": [
      "Alice's Day at Sea is an animated short film that is part of the Alice Comedies that were directed by Walt Disney in 1924.\n",
      "++++++++++++++++++++++++++++++++++++\n",
      "[{'human': 'Walt Disney', 'film': \"Alice's Day at Sea\"}]\n",
      "++++++++++++++++++++++++++++++++++++\n"
     ]
    },
    {
     "name": "stderr",
     "output_type": "stream",
     "text": [
      "\n",
      "llama_print_timings:        load time =     194.16 ms\n",
      "llama_print_timings:      sample time =      21.60 ms /   256 runs   (    0.08 ms per token, 11852.40 tokens per second)\n",
      "llama_print_timings: prompt eval time =    2414.24 ms /   455 tokens (    5.31 ms per token,   188.47 tokens per second)\n",
      "llama_print_timings:        eval time =    6545.44 ms /   255 runs   (   25.67 ms per token,    38.96 tokens per second)\n",
      "llama_print_timings:       total time =    9314.36 ms /   710 tokens\n",
      " 57%|█████▋    | 57/100 [17:38<15:03, 21.01s/it]Llama.generate: prefix-match hit\n"
     ]
    },
    {
     "name": "stdout",
     "output_type": "stream",
     "text": [
      "{'triplets': [{'sub': \"Alice's Day at Sea\", 'rel': 'director', 'obj': 'Walt Disney'}, {'sub': \"Alice's Day at Sea\", 'rel': 'genre', 'obj': 'animated short film'}, {'sub': \"Alice's Day at Sea\", 'rel': 'production company', 'obj': 'Walt Disney'}]}\n",
      "====================================\n",
      "{'model': 'openchat-3.5-0106.Q8_0.gguf', 'sent': \"Alice's Day at Sea is an animated short film that is part of the Alice Comedies that were directed by Walt Disney in 1924.\", 'triples': [{'sub': \"Alice's Day at Sea\", 'rel': 'director', 'obj': 'Walt Disney'}, {'sub': \"Alice's Day at Sea\", 'rel': 'genre', 'obj': 'animated short film'}, {'sub': \"Alice's Day at Sea\", 'rel': 'production company', 'obj': 'Walt Disney'}]}\n",
      "====================================\n"
     ]
    },
    {
     "name": "stderr",
     "output_type": "stream",
     "text": [
      "\n",
      "llama_print_timings:        load time =     194.16 ms\n",
      "llama_print_timings:      sample time =      21.58 ms /   256 runs   (    0.08 ms per token, 11865.04 tokens per second)\n",
      "llama_print_timings: prompt eval time =    4619.76 ms /   875 tokens (    5.28 ms per token,   189.40 tokens per second)\n",
      "llama_print_timings:        eval time =    6794.77 ms /   255 runs   (   26.65 ms per token,    37.53 tokens per second)\n",
      "llama_print_timings:       total time =   11798.07 ms /  1130 tokens\n",
      "Llama.generate: prefix-match hit\n"
     ]
    },
    {
     "name": "stdout",
     "output_type": "stream",
     "text": [
      "Black Soul (French: Ãme noire) is a 2002 animated short by Haitian Canadian filmmaker Martine Chartrand that uses paint-on-glass animation and music to portray defining moments of Black history.\n",
      "++++++++++++++++++++++++++++++++++++\n",
      "[{'human': 'Martine Chartrand', 'film': 'Black Soul', 'genre': 'animated short', 'film_production_company': 'Haitian Canadian', 'city': 'Haitian', 'country': 'Canadian'}]\n",
      "++++++++++++++++++++++++++++++++++++\n"
     ]
    },
    {
     "name": "stderr",
     "output_type": "stream",
     "text": [
      "\n",
      "llama_print_timings:        load time =     194.16 ms\n",
      "llama_print_timings:      sample time =      21.96 ms /   256 runs   (    0.09 ms per token, 11658.09 tokens per second)\n",
      "llama_print_timings: prompt eval time =    2667.09 ms /   510 tokens (    5.23 ms per token,   191.22 tokens per second)\n",
      "llama_print_timings:        eval time =    6580.55 ms /   255 runs   (   25.81 ms per token,    38.75 tokens per second)\n",
      "llama_print_timings:       total time =    9611.66 ms /   765 tokens\n",
      " 58%|█████▊    | 58/100 [17:59<14:47, 21.13s/it]Llama.generate: prefix-match hit\n"
     ]
    },
    {
     "name": "stdout",
     "output_type": "stream",
     "text": [
      "{'triplets': [{'sub': 'Martine Chartrand', 'rel': 'director', 'obj': 'Black Soul'}, {'sub': 'Black Soul', 'rel': 'genre', 'obj': 'animated short'}, {'sub': 'Black Soul', 'rel': 'production company', 'obj': 'Haitian Canadian'}, {'sub': 'Black Soul', 'rel': 'characters', 'obj': 'film character'}, {'sub': 'Black Soul', 'rel': 'narrative location', 'obj': 'Haitian'}, {'sub': 'Black Soul', 'rel': 'filming location', 'obj': 'Haitian'}]}\n",
      "====================================\n",
      "{'model': 'openchat-3.5-0106.Q8_0.gguf', 'sent': 'Black Soul (French: Ã\\x82me noire) is a 2002 animated short by Haitian Canadian filmmaker Martine Chartrand that uses paint-on-glass animation and music to portray defining moments of Black history.', 'triples': [{'sub': 'Martine Chartrand', 'rel': 'director', 'obj': 'Black Soul'}, {'sub': 'Black Soul', 'rel': 'genre', 'obj': 'animated short'}, {'sub': 'Black Soul', 'rel': 'production company', 'obj': 'Haitian Canadian'}, {'sub': 'Black Soul', 'rel': 'characters', 'obj': 'film character'}, {'sub': 'Black Soul', 'rel': 'narrative location', 'obj': 'Haitian'}, {'sub': 'Black Soul', 'rel': 'filming location', 'obj': 'Haitian'}]}\n",
      "====================================\n"
     ]
    },
    {
     "name": "stderr",
     "output_type": "stream",
     "text": [
      "\n",
      "llama_print_timings:        load time =     194.16 ms\n",
      "llama_print_timings:      sample time =      22.22 ms /   256 runs   (    0.09 ms per token, 11522.19 tokens per second)\n",
      "llama_print_timings: prompt eval time =    4534.88 ms /   858 tokens (    5.29 ms per token,   189.20 tokens per second)\n",
      "llama_print_timings:        eval time =    6781.53 ms /   255 runs   (   26.59 ms per token,    37.60 tokens per second)\n",
      "llama_print_timings:       total time =   11717.34 ms /  1113 tokens\n",
      " 59%|█████▉    | 59/100 [18:11<12:30, 18.31s/it]Llama.generate: prefix-match hit\n"
     ]
    },
    {
     "name": "stdout",
     "output_type": "stream",
     "text": [
      "Jones and Pabian wrote the story and Eugene Poddany scored music, while Maurice Noble did the layouts and Robert Gribbroek did the backgrounds.\n",
      "++++++++++++++++++++++++++++++++++++\n",
      "[{'human': 'Robert Gribbroek'}]\n",
      "++++++++++++++++++++++++++++++++++++\n",
      "{'triplets': []}\n",
      "====================================\n",
      "{'model': 'openchat-3.5-0106.Q8_0.gguf', 'sent': 'Jones and Pabian wrote the story and Eugene Poddany scored music, while Maurice Noble did the layouts and Robert Gribbroek did the backgrounds.', 'triples': []}\n",
      "====================================\n"
     ]
    },
    {
     "name": "stderr",
     "output_type": "stream",
     "text": [
      "\n",
      "llama_print_timings:        load time =     194.16 ms\n",
      "llama_print_timings:      sample time =      22.08 ms /   256 runs   (    0.09 ms per token, 11596.30 tokens per second)\n",
      "llama_print_timings: prompt eval time =     339.20 ms /    50 tokens (    6.78 ms per token,   147.40 tokens per second)\n",
      "llama_print_timings:        eval time =    6791.60 ms /   255 runs   (   26.63 ms per token,    37.55 tokens per second)\n",
      "llama_print_timings:       total time =    7470.76 ms /   305 tokens\n",
      "Llama.generate: prefix-match hit\n"
     ]
    },
    {
     "name": "stdout",
     "output_type": "stream",
     "text": [
      "Hai-Tang is a 1930 British-German drama film directed by Richard Eichberg and Jean Kemm and starring Anna May Wong, Marcel Vibert and Robert Ancelin.\n",
      "++++++++++++++++++++++++++++++++++++\n",
      "[{'human': 'Jean Kemm', 'city': 'British-German', 'film': 'Hai-Tang', 'genre': 'drama'}]\n",
      "++++++++++++++++++++++++++++++++++++\n"
     ]
    },
    {
     "name": "stderr",
     "output_type": "stream",
     "text": [
      "\n",
      "llama_print_timings:        load time =     194.16 ms\n",
      "llama_print_timings:      sample time =      21.55 ms /   256 runs   (    0.08 ms per token, 11877.15 tokens per second)\n",
      "llama_print_timings: prompt eval time =    2581.24 ms /   488 tokens (    5.29 ms per token,   189.06 tokens per second)\n",
      "llama_print_timings:        eval time =    6565.64 ms /   255 runs   (   25.75 ms per token,    38.84 tokens per second)\n",
      "llama_print_timings:       total time =    9502.65 ms /   743 tokens\n",
      " 60%|██████    | 60/100 [18:28<11:56, 17.91s/it]Llama.generate: prefix-match hit\n"
     ]
    },
    {
     "name": "stdout",
     "output_type": "stream",
     "text": [
      "{'triplets': [{'sub': 'Hai-Tang', 'rel': 'director', 'obj': 'Richard Eichberg'}, {'sub': 'Hai-Tang', 'rel': 'director', 'obj': 'Jean Kemm'}, {'sub': 'Hai-Tang', 'rel': 'genre', 'obj': 'drama'}, {'sub': 'Hai-Tang', 'rel': 'cast member', 'obj': 'Anna May Wong'}, {'sub': 'Hai-Tang', 'rel': 'cast member', 'obj': 'Marcel Vibert'}, {'sub': 'Hai-Tang', 'rel': 'cast member', 'obj': 'Robert Ancelin'}, {'sub': 'Hai-Tang'}]}\n",
      "====================================\n",
      "{'model': 'openchat-3.5-0106.Q8_0.gguf', 'sent': 'Hai-Tang is a 1930 British-German drama film directed by Richard Eichberg and Jean Kemm and starring Anna May Wong, Marcel Vibert and Robert Ancelin.', 'triples': [{'sub': 'Hai-Tang', 'rel': 'director', 'obj': 'Richard Eichberg'}, {'sub': 'Hai-Tang', 'rel': 'director', 'obj': 'Jean Kemm'}, {'sub': 'Hai-Tang', 'rel': 'genre', 'obj': 'drama'}, {'sub': 'Hai-Tang', 'rel': 'cast member', 'obj': 'Anna May Wong'}, {'sub': 'Hai-Tang', 'rel': 'cast member', 'obj': 'Marcel Vibert'}, {'sub': 'Hai-Tang', 'rel': 'cast member', 'obj': 'Robert Ancelin'}, {'sub': 'Hai-Tang'}]}\n",
      "====================================\n"
     ]
    },
    {
     "name": "stderr",
     "output_type": "stream",
     "text": [
      "\n",
      "llama_print_timings:        load time =     194.16 ms\n",
      "llama_print_timings:      sample time =      22.33 ms /   256 runs   (    0.09 ms per token, 11465.42 tokens per second)\n",
      "llama_print_timings: prompt eval time =    4447.91 ms /   846 tokens (    5.26 ms per token,   190.20 tokens per second)\n",
      "llama_print_timings:        eval time =    6772.13 ms /   255 runs   (   26.56 ms per token,    37.65 tokens per second)\n",
      "llama_print_timings:       total time =   11590.51 ms /  1101 tokens\n",
      " 61%|██████    | 61/100 [18:40<10:24, 16.02s/it]Llama.generate: prefix-match hit\n"
     ]
    },
    {
     "name": "stdout",
     "output_type": "stream",
     "text": [
      "The movie's original plot was written by Hiroshi Fujimoto and Motoo Abiko.\n",
      "++++++++++++++++++++++++++++++++++++\n",
      "[{'human': 'Motoo Abiko'}]\n",
      "++++++++++++++++++++++++++++++++++++\n",
      "{'triplets': []}\n",
      "====================================\n",
      "{'model': 'openchat-3.5-0106.Q8_0.gguf', 'sent': \"The movie's original plot was written by Hiroshi Fujimoto and Motoo Abiko.\", 'triples': []}\n",
      "====================================\n"
     ]
    },
    {
     "name": "stderr",
     "output_type": "stream",
     "text": [
      "\n",
      "llama_print_timings:        load time =     194.16 ms\n",
      "llama_print_timings:      sample time =      22.47 ms /   256 runs   (    0.09 ms per token, 11391.95 tokens per second)\n",
      "llama_print_timings: prompt eval time =     426.40 ms /    73 tokens (    5.84 ms per token,   171.20 tokens per second)\n",
      "llama_print_timings:        eval time =    6805.01 ms /   255 runs   (   26.69 ms per token,    37.47 tokens per second)\n",
      "llama_print_timings:       total time =    7550.47 ms /   328 tokens\n",
      "Llama.generate: prefix-match hit\n"
     ]
    },
    {
     "name": "stdout",
     "output_type": "stream",
     "text": [
      "Slayers Return ( RETURN, SureiyÄzu ritÄn), also known as Slayers Movie 2 - The Return, is a 1996 Japanese comic fantasy anime film written by Hajime Kanzaka and directed by Kunihiko Yuyama and Hiroshi Watanabe.\n",
      "++++++++++++++++++++++++++++++++++++\n",
      "[{'film': 'Slayers Return', 'human': 'Hiroshi Watanabe'}]\n",
      "++++++++++++++++++++++++++++++++++++\n"
     ]
    },
    {
     "name": "stderr",
     "output_type": "stream",
     "text": [
      "\n",
      "llama_print_timings:        load time =     194.16 ms\n",
      "llama_print_timings:      sample time =      22.24 ms /   256 runs   (    0.09 ms per token, 11511.83 tokens per second)\n",
      "llama_print_timings: prompt eval time =    2582.93 ms /   493 tokens (    5.24 ms per token,   190.87 tokens per second)\n",
      "llama_print_timings:        eval time =    6567.26 ms /   255 runs   (   25.75 ms per token,    38.83 tokens per second)\n",
      "llama_print_timings:       total time =    9483.23 ms /   748 tokens\n",
      " 62%|██████▏   | 62/100 [18:57<10:20, 16.32s/it]Llama.generate: prefix-match hit\n"
     ]
    },
    {
     "name": "stdout",
     "output_type": "stream",
     "text": [
      "{'triplets': [{'sub': 'Slayers Return', 'rel': 'director', 'obj': 'Hiroshi Watanabe'}, {'sub': 'Slayers Return', 'rel': 'screenwriter', 'obj': 'Hajime Kanzaka'}, {'sub': 'Slayers Return', 'rel': 'genre', 'obj': 'comic fantasy'}, {'sub': 'Slayers Return', 'rel': 'based on', 'obj': 'written work'}, {'sub': 'Slayers Return', 'rel': 'cast member', 'obj': 'Hiroshi Watanabe'}, {'sub': 'Slayers Return', 'rel': 'award received', 'obj': 'award'}, {'sub': 'Slayers Return', 'rel': ''}]}\n",
      "====================================\n",
      "{'model': 'openchat-3.5-0106.Q8_0.gguf', 'sent': 'Slayers Return ( RETURN, SureiyÄ\\x81zu ritÄ\\x81n), also known as Slayers Movie 2 - The Return, is a 1996 Japanese comic fantasy anime film written by Hajime Kanzaka and directed by Kunihiko Yuyama and Hiroshi Watanabe.', 'triples': [{'sub': 'Slayers Return', 'rel': 'director', 'obj': 'Hiroshi Watanabe'}, {'sub': 'Slayers Return', 'rel': 'screenwriter', 'obj': 'Hajime Kanzaka'}, {'sub': 'Slayers Return', 'rel': 'genre', 'obj': 'comic fantasy'}, {'sub': 'Slayers Return', 'rel': 'based on', 'obj': 'written work'}, {'sub': 'Slayers Return', 'rel': 'cast member', 'obj': 'Hiroshi Watanabe'}, {'sub': 'Slayers Return', 'rel': 'award received', 'obj': 'award'}, {'sub': 'Slayers Return', 'rel': ''}]}\n",
      "====================================\n"
     ]
    },
    {
     "name": "stderr",
     "output_type": "stream",
     "text": [
      "\n",
      "llama_print_timings:        load time =     194.16 ms\n",
      "llama_print_timings:      sample time =      22.30 ms /   256 runs   (    0.09 ms per token, 11478.28 tokens per second)\n",
      "llama_print_timings: prompt eval time =    4449.21 ms /   848 tokens (    5.25 ms per token,   190.60 tokens per second)\n",
      "llama_print_timings:        eval time =    6775.01 ms /   255 runs   (   26.57 ms per token,    37.64 tokens per second)\n",
      "llama_print_timings:       total time =   11593.87 ms /  1103 tokens\n",
      " 63%|██████▎   | 63/100 [19:08<09:11, 14.91s/it]Llama.generate: prefix-match hit\n"
     ]
    },
    {
     "name": "stdout",
     "output_type": "stream",
     "text": [
      "The film was written, directed, narrated and featured the musical composition and performance of Pixar animator Bud Luckey.\n",
      "++++++++++++++++++++++++++++++++++++\n",
      "[{'human': 'Bud Luckey'}]\n",
      "++++++++++++++++++++++++++++++++++++\n",
      "{'triplets': []}\n",
      "====================================\n",
      "{'model': 'openchat-3.5-0106.Q8_0.gguf', 'sent': 'The film was written, directed, narrated and featured the musical composition and performance of Pixar animator Bud Luckey.', 'triples': []}\n",
      "====================================\n"
     ]
    },
    {
     "name": "stderr",
     "output_type": "stream",
     "text": [
      "\n",
      "llama_print_timings:        load time =     194.16 ms\n",
      "llama_print_timings:      sample time =      21.98 ms /   256 runs   (    0.09 ms per token, 11646.95 tokens per second)\n",
      "llama_print_timings: prompt eval time =     254.81 ms /    35 tokens (    7.28 ms per token,   137.35 tokens per second)\n",
      "llama_print_timings:        eval time =    6781.31 ms /   255 runs   (   26.59 ms per token,    37.60 tokens per second)\n",
      "llama_print_timings:       total time =    7355.53 ms /   290 tokens\n",
      "Llama.generate: prefix-match hit\n"
     ]
    },
    {
     "name": "stdout",
     "output_type": "stream",
     "text": [
      "Who I Am And What I Want is a 7 minute animated short directed by Chris Shepherd and David Shrigley in 2005.\n",
      "++++++++++++++++++++++++++++++++++++\n",
      "[{'human': 'Chris Shepherd', 'film': 'Who I Am And What I Want', 'city': '2005'}]\n",
      "++++++++++++++++++++++++++++++++++++\n"
     ]
    },
    {
     "name": "stderr",
     "output_type": "stream",
     "text": [
      "\n",
      "llama_print_timings:        load time =     194.16 ms\n",
      "llama_print_timings:      sample time =      22.11 ms /   256 runs   (    0.09 ms per token, 11578.47 tokens per second)\n",
      "llama_print_timings: prompt eval time =    2413.40 ms /   464 tokens (    5.20 ms per token,   192.26 tokens per second)\n",
      "llama_print_timings:        eval time =    6577.30 ms /   256 runs   (   25.69 ms per token,    38.92 tokens per second)\n",
      "llama_print_timings:       total time =    9341.19 ms /   720 tokens\n",
      " 64%|██████▍   | 64/100 [19:25<09:16, 15.45s/it]Llama.generate: prefix-match hit\n"
     ]
    },
    {
     "name": "stdout",
     "output_type": "stream",
     "text": [
      "{'triplets': [{'sub': 'Who I Am And What I Want', 'rel': 'director', 'obj': 'Chris Shepherd'}, {'sub': 'Who I Am And What I Want', 'rel': 'screenwriter', 'obj': 'David Shrigley'}, {'sub': 'Who I Am And What I Want', 'rel': 'genre', 'obj': 'animated short'}, {'sub': 'Who I Am And What I Want', 'rel': 'based on', 'obj': 'written work'}, {'sub': 'Who I Am And What I Want', 'rel': 'cast member', 'obj': 'Chris Shepherd'}, {'sub': 'Who I Am And What I Want', 'rel': 'award received', 'obj': 'award'}, {}]}\n",
      "====================================\n",
      "{'model': 'openchat-3.5-0106.Q8_0.gguf', 'sent': 'Who I Am And What I Want is a 7 minute animated short directed by Chris Shepherd and David Shrigley in 2005.', 'triples': [{'sub': 'Who I Am And What I Want', 'rel': 'director', 'obj': 'Chris Shepherd'}, {'sub': 'Who I Am And What I Want', 'rel': 'screenwriter', 'obj': 'David Shrigley'}, {'sub': 'Who I Am And What I Want', 'rel': 'genre', 'obj': 'animated short'}, {'sub': 'Who I Am And What I Want', 'rel': 'based on', 'obj': 'written work'}, {'sub': 'Who I Am And What I Want', 'rel': 'cast member', 'obj': 'Chris Shepherd'}, {'sub': 'Who I Am And What I Want', 'rel': 'award received', 'obj': 'award'}, {}]}\n",
      "====================================\n"
     ]
    },
    {
     "name": "stderr",
     "output_type": "stream",
     "text": [
      "\n",
      "llama_print_timings:        load time =     194.16 ms\n",
      "llama_print_timings:      sample time =      21.72 ms /   256 runs   (    0.08 ms per token, 11786.37 tokens per second)\n",
      "llama_print_timings: prompt eval time =    4532.60 ms /   852 tokens (    5.32 ms per token,   187.97 tokens per second)\n",
      "llama_print_timings:        eval time =    6779.80 ms /   255 runs   (   26.59 ms per token,    37.61 tokens per second)\n",
      "llama_print_timings:       total time =   11697.49 ms /  1107 tokens\n",
      "Llama.generate: prefix-match hit\n"
     ]
    },
    {
     "name": "stdout",
     "output_type": "stream",
     "text": [
      "Dug's Special Mission (2009) is a Pixar short CGI film, directed by Ronnie del Carmen.\n",
      "++++++++++++++++++++++++++++++++++++\n",
      "[{'film': \"Dug's Special Mission\", 'human': 'Ronnie del Carmen'}]\n",
      "++++++++++++++++++++++++++++++++++++\n"
     ]
    },
    {
     "name": "stderr",
     "output_type": "stream",
     "text": [
      "\n",
      "llama_print_timings:        load time =     194.16 ms\n",
      "llama_print_timings:      sample time =      21.11 ms /   256 runs   (    0.08 ms per token, 12127.53 tokens per second)\n",
      "llama_print_timings: prompt eval time =    2409.92 ms /   454 tokens (    5.31 ms per token,   188.39 tokens per second)\n",
      "llama_print_timings:        eval time =    6544.45 ms /   255 runs   (   25.66 ms per token,    38.96 tokens per second)\n",
      "llama_print_timings:       total time =    9311.00 ms /   709 tokens\n",
      " 65%|██████▌   | 65/100 [19:46<09:59, 17.12s/it]Llama.generate: prefix-match hit\n"
     ]
    },
    {
     "name": "stdout",
     "output_type": "stream",
     "text": [
      "{'triplets': [{'sub': \"Dug's Special Mission\", 'rel': 'director', 'obj': 'Ronnie del Carmen'}]}\n",
      "====================================\n",
      "{'model': 'openchat-3.5-0106.Q8_0.gguf', 'sent': \"Dug's Special Mission (2009) is a Pixar short CGI film, directed by Ronnie del Carmen.\", 'triples': [{'sub': \"Dug's Special Mission\", 'rel': 'director', 'obj': 'Ronnie del Carmen'}]}\n",
      "====================================\n"
     ]
    },
    {
     "name": "stderr",
     "output_type": "stream",
     "text": [
      "\n",
      "llama_print_timings:        load time =     194.16 ms\n",
      "llama_print_timings:      sample time =      21.51 ms /   256 runs   (    0.08 ms per token, 11899.78 tokens per second)\n",
      "llama_print_timings: prompt eval time =    4959.60 ms /   932 tokens (    5.32 ms per token,   187.92 tokens per second)\n",
      "llama_print_timings:        eval time =    6831.92 ms /   255 runs   (   26.79 ms per token,    37.32 tokens per second)\n",
      "llama_print_timings:       total time =   12182.54 ms /  1187 tokens\n",
      "Llama.generate: prefix-match hit\n"
     ]
    },
    {
     "name": "stdout",
     "output_type": "stream",
     "text": [
      "When Marnie Was There (Japanese: , Hepburn: Omoide no MÄnÄ«, \"Marnie of [My] Memories\") is a 2014 Japanese anime drama film written and directed by Hiromasa Yonebayashi, produced by Studio Ghibli for Nippon Television Network, Dentsu, Hakuhodo DYMP, Walt Disney Japan, Mitsubishi, Toho and KDDI and distributed by Toho.\n",
      "++++++++++++++++++++++++++++++++++++\n",
      "[{'film': 'When Marnie Was There', 'human': 'Hiromasa Yonebayashi', 'film_production_company': 'Studio Ghibli', 'city': 'Japan', 'country': 'Japan', 'genre': 'anime drama'}]\n",
      "++++++++++++++++++++++++++++++++++++\n"
     ]
    },
    {
     "name": "stderr",
     "output_type": "stream",
     "text": [
      "\n",
      "llama_print_timings:        load time =     194.16 ms\n",
      "llama_print_timings:      sample time =      21.42 ms /   256 runs   (    0.08 ms per token, 11950.33 tokens per second)\n",
      "llama_print_timings: prompt eval time =    3002.03 ms /   574 tokens (    5.23 ms per token,   191.20 tokens per second)\n",
      "llama_print_timings:        eval time =    6610.81 ms /   255 runs   (   25.92 ms per token,    38.57 tokens per second)\n",
      "llama_print_timings:       total time =    9974.33 ms /   829 tokens\n",
      " 66%|██████▌   | 66/100 [20:08<10:33, 18.63s/it]Llama.generate: prefix-match hit\n"
     ]
    },
    {
     "name": "stdout",
     "output_type": "stream",
     "text": [
      "{'triplets': [{'sub': 'When Marnie Was There', 'rel': 'director', 'obj': 'Hiromasa Yonebayashi'}, {'sub': 'When Marnie Was There', 'rel': 'screenwriter', 'obj': 'Hiromasa Yonebayashi'}, {'sub': 'When Marnie Was There', 'rel': 'genre', 'obj': 'anime drama'}, {'sub': 'When Marnie Was There', 'rel': 'based on', 'obj': 'written work'}, {'sub': 'When Marnie Was There', 'rel': 'production company', 'obj': 'Studio Ghibli'}, {'sub': 'When Marnie Was There', 'rel': 'country of origin', 'obj': 'Japan'}, {}]}\n",
      "====================================\n",
      "{'model': 'openchat-3.5-0106.Q8_0.gguf', 'sent': 'When Marnie Was There (Japanese: , Hepburn: Omoide no MÄ\\x81nÄ«, \"Marnie of [My] Memories\") is a 2014 Japanese anime drama film written and directed by Hiromasa Yonebayashi, produced by Studio Ghibli for Nippon Television Network, Dentsu, Hakuhodo DYMP, Walt Disney Japan, Mitsubishi, Toho and KDDI and distributed by Toho.', 'triples': [{'sub': 'When Marnie Was There', 'rel': 'director', 'obj': 'Hiromasa Yonebayashi'}, {'sub': 'When Marnie Was There', 'rel': 'screenwriter', 'obj': 'Hiromasa Yonebayashi'}, {'sub': 'When Marnie Was There', 'rel': 'genre', 'obj': 'anime drama'}, {'sub': 'When Marnie Was There', 'rel': 'based on', 'obj': 'written work'}, {'sub': 'When Marnie Was There', 'rel': 'production company', 'obj': 'Studio Ghibli'}, {'sub': 'When Marnie Was There', 'rel': 'country of origin', 'obj': 'Japan'}, {}]}\n",
      "====================================\n"
     ]
    },
    {
     "name": "stderr",
     "output_type": "stream",
     "text": [
      "\n",
      "llama_print_timings:        load time =     194.16 ms\n",
      "llama_print_timings:      sample time =      22.34 ms /   256 runs   (    0.09 ms per token, 11460.29 tokens per second)\n",
      "llama_print_timings: prompt eval time =    4527.21 ms /   853 tokens (    5.31 ms per token,   188.42 tokens per second)\n",
      "llama_print_timings:        eval time =    6782.58 ms /   255 runs   (   26.60 ms per token,    37.60 tokens per second)\n",
      "llama_print_timings:       total time =   11686.95 ms /  1108 tokens\n",
      " 67%|██████▋   | 67/100 [20:20<09:06, 16.55s/it]Llama.generate: prefix-match hit\n"
     ]
    },
    {
     "name": "stdout",
     "output_type": "stream",
     "text": [
      "Ultimately, the screenplay was credited to Chris Columbus and Richard Outten; the storyline and art style differed from the original version.\n",
      "++++++++++++++++++++++++++++++++++++\n",
      "[{'human': 'Richard Outten'}]\n",
      "++++++++++++++++++++++++++++++++++++\n",
      "{'triplets': []}\n",
      "====================================\n",
      "{'model': 'openchat-3.5-0106.Q8_0.gguf', 'sent': 'Ultimately, the screenplay was credited to Chris Columbus and Richard Outten; the storyline and art style differed from the original version.', 'triples': []}\n",
      "====================================\n"
     ]
    },
    {
     "name": "stderr",
     "output_type": "stream",
     "text": [
      "\n",
      "llama_print_timings:        load time =     194.16 ms\n",
      "llama_print_timings:      sample time =      22.06 ms /   256 runs   (    0.09 ms per token, 11606.82 tokens per second)\n",
      "llama_print_timings: prompt eval time =     256.39 ms /    46 tokens (    5.57 ms per token,   179.41 tokens per second)\n",
      "llama_print_timings:        eval time =    6789.65 ms /   255 runs   (   26.63 ms per token,    37.56 tokens per second)\n",
      "llama_print_timings:       total time =    7363.66 ms /   301 tokens\n",
      "Llama.generate: prefix-match hit\n"
     ]
    },
    {
     "name": "stdout",
     "output_type": "stream",
     "text": [
      "Directed by Pete Docter and Roger L. Gould, Mike 's New Car is the first Pixar short to use dialogue and the first to take characters and situations from a previously established work.\n",
      "++++++++++++++++++++++++++++++++++++\n",
      "[{'human': 'Roger L. Gould', 'film': \"Mike 's New Car\"}]\n",
      "++++++++++++++++++++++++++++++++++++\n"
     ]
    },
    {
     "name": "stderr",
     "output_type": "stream",
     "text": [
      "\n",
      "llama_print_timings:        load time =     194.16 ms\n",
      "llama_print_timings:      sample time =      22.29 ms /   256 runs   (    0.09 ms per token, 11486.52 tokens per second)\n",
      "llama_print_timings: prompt eval time =    2497.90 ms /   468 tokens (    5.34 ms per token,   187.36 tokens per second)\n",
      "llama_print_timings:        eval time =    6552.61 ms /   255 runs   (   25.70 ms per token,    38.92 tokens per second)\n",
      "llama_print_timings:       total time =    9381.35 ms /   723 tokens\n",
      " 68%|██████▊   | 68/100 [20:36<08:51, 16.61s/it]Llama.generate: prefix-match hit\n"
     ]
    },
    {
     "name": "stdout",
     "output_type": "stream",
     "text": [
      "{'triplets': [{'sub': \"Mike's New Car\", 'rel': 'director', 'obj': 'Roger L. Gould'}, {'sub': \"Mike's New Car\", 'rel': 'director', 'obj': 'Pete Docter'}, {'sub': \"Mike's New Car\", 'rel': 'screenwriter', 'obj': 'Roger L. Gould'}, {'sub': \"Mike's New Car\", 'rel': 'genre', 'obj': 'short film'}, {'sub': \"Mike's New Car\", 'rel': 'based on', 'obj': 'previously established work'}, {'sub': \"Mike's New Car\", 'rel': 'cast member', 'obj': 'Roger L. Gould'}]}\n",
      "====================================\n",
      "{'model': 'openchat-3.5-0106.Q8_0.gguf', 'sent': \"Directed by Pete Docter and Roger L. Gould, Mike 's New Car is the first Pixar short to use dialogue and the first to take characters and situations from a previously established work.\", 'triples': [{'sub': \"Mike's New Car\", 'rel': 'director', 'obj': 'Roger L. Gould'}, {'sub': \"Mike's New Car\", 'rel': 'director', 'obj': 'Pete Docter'}, {'sub': \"Mike's New Car\", 'rel': 'screenwriter', 'obj': 'Roger L. Gould'}, {'sub': \"Mike's New Car\", 'rel': 'genre', 'obj': 'short film'}, {'sub': \"Mike's New Car\", 'rel': 'based on', 'obj': 'previously established work'}, {'sub': \"Mike's New Car\", 'rel': 'cast member', 'obj': 'Roger L. Gould'}]}\n",
      "====================================\n"
     ]
    },
    {
     "name": "stderr",
     "output_type": "stream",
     "text": [
      "\n",
      "llama_print_timings:        load time =     194.16 ms\n",
      "llama_print_timings:      sample time =      22.07 ms /   256 runs   (    0.09 ms per token, 11597.35 tokens per second)\n",
      "llama_print_timings: prompt eval time =    4697.31 ms /   884 tokens (    5.31 ms per token,   188.19 tokens per second)\n",
      "llama_print_timings:        eval time =    6800.57 ms /   255 runs   (   26.67 ms per token,    37.50 tokens per second)\n",
      "llama_print_timings:       total time =   11864.14 ms /  1139 tokens\n",
      "Llama.generate: prefix-match hit\n"
     ]
    },
    {
     "name": "stdout",
     "output_type": "stream",
     "text": [
      "Seryi Volk & Krasnaya Shapochka, (Grey Wolf and Little Red Riding Hood) is a claymation film, produced in the USSR by Garri Bardin in 1990, a year before the USSR actually did break up.\n",
      "++++++++++++++++++++++++++++++++++++\n",
      "[{'film': 'Seryi Volk & Krasnaya Shapochka', 'city': 'USSR', 'film_production_company': 'Garri Bardin', 'country': 'USSR'}]\n",
      "++++++++++++++++++++++++++++++++++++\n"
     ]
    },
    {
     "name": "stderr",
     "output_type": "stream",
     "text": [
      "\n",
      "llama_print_timings:        load time =     194.16 ms\n",
      "llama_print_timings:      sample time =      22.94 ms /   256 runs   (    0.09 ms per token, 11161.49 tokens per second)\n",
      "llama_print_timings: prompt eval time =    2666.52 ms /   512 tokens (    5.21 ms per token,   192.01 tokens per second)\n",
      "llama_print_timings:        eval time =    6604.53 ms /   256 runs   (   25.80 ms per token,    38.76 tokens per second)\n",
      "llama_print_timings:       total time =    9606.26 ms /   768 tokens\n",
      " 69%|██████▉   | 69/100 [20:58<09:20, 18.07s/it]Llama.generate: prefix-match hit\n"
     ]
    },
    {
     "name": "stdout",
     "output_type": "stream",
     "text": [
      "{'triplets': [{'sub': 'Seryi Volk & Krasnaya Shapochka', 'rel': 'film', 'obj': 'claymation'}, {'sub': 'Seryi Volk & Krasnaya Shapochka', 'rel': 'production company', 'obj': 'Garri Bardin'}, {'sub': 'Garri Bardin', 'rel': 'film production company', 'obj': 'Garri Bardin'}, {'sub': 'Seryi Volk & Krasnaya Shapochka', 'rel': 'country of origin', 'obj': 'USSR'}, {'sub': 'USSR', 'rel': 'film', 'obj': 'Seryi Volk & Krasnaya Shapochka'}]}\n",
      "====================================\n",
      "{'model': 'openchat-3.5-0106.Q8_0.gguf', 'sent': 'Seryi Volk & Krasnaya Shapochka, (Grey Wolf and Little Red Riding Hood) is a claymation film, produced in the USSR by Garri Bardin in 1990, a year before the USSR actually did break up.', 'triples': [{'sub': 'Seryi Volk & Krasnaya Shapochka', 'rel': 'film', 'obj': 'claymation'}, {'sub': 'Seryi Volk & Krasnaya Shapochka', 'rel': 'production company', 'obj': 'Garri Bardin'}, {'sub': 'Garri Bardin', 'rel': 'film production company', 'obj': 'Garri Bardin'}, {'sub': 'Seryi Volk & Krasnaya Shapochka', 'rel': 'country of origin', 'obj': 'USSR'}, {'sub': 'USSR', 'rel': 'film', 'obj': 'Seryi Volk & Krasnaya Shapochka'}]}\n",
      "====================================\n"
     ]
    },
    {
     "name": "stderr",
     "output_type": "stream",
     "text": [
      "\n",
      "llama_print_timings:        load time =     194.16 ms\n",
      "llama_print_timings:      sample time =      22.42 ms /   256 runs   (    0.09 ms per token, 11418.38 tokens per second)\n",
      "llama_print_timings: prompt eval time =    4533.30 ms /   857 tokens (    5.29 ms per token,   189.05 tokens per second)\n",
      "llama_print_timings:        eval time =    6781.07 ms /   255 runs   (   26.59 ms per token,    37.60 tokens per second)\n",
      "llama_print_timings:       total time =   11673.86 ms /  1112 tokens\n",
      "Llama.generate: prefix-match hit\n"
     ]
    },
    {
     "name": "stdout",
     "output_type": "stream",
     "text": [
      "Puss Gets the Boot was directed by William Hanna, Joseph Barbera and Rudolf Ising, and produced by Rudolf Ising and Fred Quimby.\n",
      "++++++++++++++++++++++++++++++++++++\n",
      "[{'human': 'Rudolf Ising', 'film_production_company': 'Fred Quimby'}]\n",
      "++++++++++++++++++++++++++++++++++++\n"
     ]
    },
    {
     "name": "stderr",
     "output_type": "stream",
     "text": [
      "\n",
      "llama_print_timings:        load time =     194.16 ms\n",
      "llama_print_timings:      sample time =      20.74 ms /   256 runs   (    0.08 ms per token, 12344.49 tokens per second)\n",
      "llama_print_timings: prompt eval time =    2409.64 ms /   461 tokens (    5.23 ms per token,   191.31 tokens per second)\n",
      "llama_print_timings:        eval time =    6532.12 ms /   255 runs   (   25.62 ms per token,    39.04 tokens per second)\n",
      "llama_print_timings:       total time =    9298.20 ms /   716 tokens\n",
      " 70%|███████   | 70/100 [21:19<09:28, 18.94s/it]Llama.generate: prefix-match hit\n"
     ]
    },
    {
     "name": "stdout",
     "output_type": "stream",
     "text": [
      "{'triplets': [{'sub': 'Puss Gets the Boot', 'rel': 'director', 'obj': 'Rudolf Ising'}, {'sub': 'Puss Gets the Boot', 'rel': 'director', 'obj': 'William Hanna'}, {'sub': 'Puss Gets the Boot', 'rel': 'director', 'obj': 'Joseph Barbera'}, {'sub': 'Puss Gets the Boot', 'rel': 'production company', 'obj': 'Fred Quimby'}, {'sub': 'Puss Gets the Boot', 'rel': 'production company', 'obj': 'Rudolf Ising'}]}\n",
      "====================================\n",
      "{'model': 'openchat-3.5-0106.Q8_0.gguf', 'sent': 'Puss Gets the Boot was directed by William Hanna, Joseph Barbera and Rudolf Ising, and produced by Rudolf Ising and Fred Quimby.', 'triples': [{'sub': 'Puss Gets the Boot', 'rel': 'director', 'obj': 'Rudolf Ising'}, {'sub': 'Puss Gets the Boot', 'rel': 'director', 'obj': 'William Hanna'}, {'sub': 'Puss Gets the Boot', 'rel': 'director', 'obj': 'Joseph Barbera'}, {'sub': 'Puss Gets the Boot', 'rel': 'production company', 'obj': 'Fred Quimby'}, {'sub': 'Puss Gets the Boot', 'rel': 'production company', 'obj': 'Rudolf Ising'}]}\n",
      "====================================\n"
     ]
    },
    {
     "name": "stderr",
     "output_type": "stream",
     "text": [
      "\n",
      "llama_print_timings:        load time =     194.16 ms\n",
      "llama_print_timings:      sample time =      22.29 ms /   256 runs   (    0.09 ms per token, 11486.52 tokens per second)\n",
      "llama_print_timings: prompt eval time =    4619.12 ms /   871 tokens (    5.30 ms per token,   188.56 tokens per second)\n",
      "llama_print_timings:        eval time =    6793.28 ms /   255 runs   (   26.64 ms per token,    37.54 tokens per second)\n",
      "llama_print_timings:       total time =   11799.91 ms /  1126 tokens\n",
      "Llama.generate: prefix-match hit\n"
     ]
    },
    {
     "name": "stdout",
     "output_type": "stream",
     "text": [
      "Superman II is a 1980 superhero film directed by Richard Lester and written by Mario Puzo and David and Leslie Newman from a story by Puzo based on the DC Comics character Superman.\n",
      "++++++++++++++++++++++++++++++++++++\n",
      "[{'human': 'Leslie Newman', 'film': 'Superman II', 'genre': 'superhero', 'film_production_company': 'DC Comics'}]\n",
      "++++++++++++++++++++++++++++++++++++\n"
     ]
    },
    {
     "name": "stderr",
     "output_type": "stream",
     "text": [
      "\n",
      "llama_print_timings:        load time =     194.16 ms\n",
      "llama_print_timings:      sample time =      21.85 ms /   256 runs   (    0.09 ms per token, 11716.25 tokens per second)\n",
      "llama_print_timings: prompt eval time =    2581.70 ms /   488 tokens (    5.29 ms per token,   189.02 tokens per second)\n",
      "llama_print_timings:        eval time =    6564.39 ms /   255 runs   (   25.74 ms per token,    38.85 tokens per second)\n",
      "llama_print_timings:       total time =    9502.19 ms /   743 tokens\n",
      " 71%|███████   | 71/100 [21:40<09:29, 19.65s/it]Llama.generate: prefix-match hit\n"
     ]
    },
    {
     "name": "stdout",
     "output_type": "stream",
     "text": [
      "{'triplets': [{'sub': 'Superman II', 'rel': 'director', 'obj': 'Richard Lester'}, {'sub': 'Superman II', 'rel': 'screenwriter', 'obj': 'Mario Puzo'}, {'sub': 'Superman II', 'rel': 'screenwriter', 'obj': 'David Newman'}, {'sub': 'Superman II', 'rel': 'screenwriter', 'obj': 'Leslie Newman'}, {'sub': 'Superman II', 'rel': 'genre', 'obj': 'superhero'}, {'sub': 'Superman II', 'rel': 'based on', 'obj': 'DC Comics'}, {'sub': 'Superman II', 'rel': 'cast member', 'obj': 'Leslie New'}]}\n",
      "====================================\n",
      "{'model': 'openchat-3.5-0106.Q8_0.gguf', 'sent': 'Superman II is a 1980 superhero film directed by Richard Lester and written by Mario Puzo and David and Leslie Newman from a story by Puzo based on the DC Comics character Superman.', 'triples': [{'sub': 'Superman II', 'rel': 'director', 'obj': 'Richard Lester'}, {'sub': 'Superman II', 'rel': 'screenwriter', 'obj': 'Mario Puzo'}, {'sub': 'Superman II', 'rel': 'screenwriter', 'obj': 'David Newman'}, {'sub': 'Superman II', 'rel': 'screenwriter', 'obj': 'Leslie Newman'}, {'sub': 'Superman II', 'rel': 'genre', 'obj': 'superhero'}, {'sub': 'Superman II', 'rel': 'based on', 'obj': 'DC Comics'}, {'sub': 'Superman II', 'rel': 'cast member', 'obj': 'Leslie New'}]}\n",
      "====================================\n"
     ]
    },
    {
     "name": "stderr",
     "output_type": "stream",
     "text": [
      "\n",
      "llama_print_timings:        load time =     194.16 ms\n",
      "llama_print_timings:      sample time =      21.73 ms /   256 runs   (    0.08 ms per token, 11783.66 tokens per second)\n",
      "llama_print_timings: prompt eval time =    4698.07 ms /   890 tokens (    5.28 ms per token,   189.44 tokens per second)\n",
      "llama_print_timings:        eval time =    6804.16 ms /   255 runs   (   26.68 ms per token,    37.48 tokens per second)\n",
      "llama_print_timings:       total time =   11893.27 ms /  1145 tokens\n",
      "Llama.generate: prefix-match hit\n"
     ]
    },
    {
     "name": "stdout",
     "output_type": "stream",
     "text": [
      "Tales of Vesperia : The First Strike is directed by Kanta Kamei and written by Reiko Yoshida, featuring the voice talents of KÅsuke Toriumi, Mamoru Miyano, Mai Nakahara, Rika Morinaga, and Eiji Takemoto.\n",
      "++++++++++++++++++++++++++++++++++++\n",
      "[{'human': 'Reiko Yoshida', 'film_character': 'Eiji Takemoto'}]\n",
      "++++++++++++++++++++++++++++++++++++\n"
     ]
    },
    {
     "name": "stderr",
     "output_type": "stream",
     "text": [
      "\n",
      "llama_print_timings:        load time =     194.16 ms\n",
      "llama_print_timings:      sample time =      21.56 ms /   256 runs   (    0.08 ms per token, 11872.19 tokens per second)\n",
      "llama_print_timings: prompt eval time =    2582.90 ms /   492 tokens (    5.25 ms per token,   190.48 tokens per second)\n",
      "llama_print_timings:        eval time =    6567.37 ms /   255 runs   (   25.75 ms per token,    38.83 tokens per second)\n",
      "llama_print_timings:       total time =    9508.31 ms /   747 tokens\n",
      " 72%|███████▏  | 72/100 [22:02<09:25, 20.18s/it]Llama.generate: prefix-match hit\n"
     ]
    },
    {
     "name": "stdout",
     "output_type": "stream",
     "text": [
      "{'triplets': [{'sub': 'Tales of Vesperia: The First Strike', 'rel': 'director', 'obj': 'Kanta Kamei'}, {'sub': 'Tales of Vesperia: The First Strike', 'rel': 'screenwriter', 'obj': 'Reiko Yoshida'}, {'sub': 'Tales of Vesperia: The First Strike', 'rel': 'cast member', 'obj': 'Eiji Takemoto'}]}\n",
      "====================================\n",
      "{'model': 'openchat-3.5-0106.Q8_0.gguf', 'sent': 'Tales of Vesperia : The First Strike is directed by Kanta Kamei and written by Reiko Yoshida, featuring the voice talents of KÅ\\x8dsuke Toriumi, Mamoru Miyano, Mai Nakahara, Rika Morinaga, and Eiji Takemoto.', 'triples': [{'sub': 'Tales of Vesperia: The First Strike', 'rel': 'director', 'obj': 'Kanta Kamei'}, {'sub': 'Tales of Vesperia: The First Strike', 'rel': 'screenwriter', 'obj': 'Reiko Yoshida'}, {'sub': 'Tales of Vesperia: The First Strike', 'rel': 'cast member', 'obj': 'Eiji Takemoto'}]}\n",
      "====================================\n"
     ]
    },
    {
     "name": "stderr",
     "output_type": "stream",
     "text": [
      "\n",
      "llama_print_timings:        load time =     194.16 ms\n",
      "llama_print_timings:      sample time =      22.18 ms /   256 runs   (    0.09 ms per token, 11542.45 tokens per second)\n",
      "llama_print_timings: prompt eval time =    4448.81 ms /   848 tokens (    5.25 ms per token,   190.61 tokens per second)\n",
      "llama_print_timings:        eval time =    6801.31 ms /   256 runs   (   26.57 ms per token,    37.64 tokens per second)\n",
      "llama_print_timings:       total time =   11629.57 ms /  1104 tokens\n",
      "Llama.generate: prefix-match hit\n"
     ]
    },
    {
     "name": "stdout",
     "output_type": "stream",
     "text": [
      "Partly Cloudy is a Pixar CGI animated short film written and directed by Peter Sohn and produced by Kevin Reher.\n",
      "++++++++++++++++++++++++++++++++++++\n",
      "[{'human': 'Peter Sohn', 'film_production_company': 'Pixar', 'film': 'Partly Cloudy'}]\n",
      "++++++++++++++++++++++++++++++++++++\n"
     ]
    },
    {
     "name": "stderr",
     "output_type": "stream",
     "text": [
      "\n",
      "llama_print_timings:        load time =     194.16 ms\n",
      "llama_print_timings:      sample time =      21.57 ms /   256 runs   (    0.08 ms per token, 11866.14 tokens per second)\n",
      "llama_print_timings: prompt eval time =    2415.08 ms /   458 tokens (    5.27 ms per token,   189.64 tokens per second)\n",
      "llama_print_timings:        eval time =    6543.70 ms /   255 runs   (   25.66 ms per token,    38.97 tokens per second)\n",
      "llama_print_timings:       total time =    9287.39 ms /   713 tokens\n",
      " 73%|███████▎  | 73/100 [22:23<09:10, 20.41s/it]Llama.generate: prefix-match hit\n"
     ]
    },
    {
     "name": "stdout",
     "output_type": "stream",
     "text": [
      "{'triplets': [{'sub': 'Partly Cloudy', 'rel': 'director', 'obj': 'Peter Sohn'}, {'sub': 'Partly Cloudy', 'rel': 'screenwriter', 'obj': 'Peter Sohn'}, {'sub': 'Partly Cloudy', 'rel': 'production company', 'obj': 'Pixar'}]}\n",
      "====================================\n",
      "{'model': 'openchat-3.5-0106.Q8_0.gguf', 'sent': 'Partly Cloudy is a Pixar CGI animated short film written and directed by Peter Sohn and produced by Kevin Reher.', 'triples': [{'sub': 'Partly Cloudy', 'rel': 'director', 'obj': 'Peter Sohn'}, {'sub': 'Partly Cloudy', 'rel': 'screenwriter', 'obj': 'Peter Sohn'}, {'sub': 'Partly Cloudy', 'rel': 'production company', 'obj': 'Pixar'}]}\n",
      "====================================\n"
     ]
    },
    {
     "name": "stderr",
     "output_type": "stream",
     "text": [
      "\n",
      "llama_print_timings:        load time =     194.16 ms\n",
      "llama_print_timings:      sample time =      22.01 ms /   256 runs   (    0.09 ms per token, 11629.49 tokens per second)\n",
      "llama_print_timings: prompt eval time =    4703.56 ms /   882 tokens (    5.33 ms per token,   187.52 tokens per second)\n",
      "llama_print_timings:        eval time =    6797.36 ms /   255 runs   (   26.66 ms per token,    37.51 tokens per second)\n",
      "llama_print_timings:       total time =   11863.93 ms /  1137 tokens\n",
      " 74%|███████▍  | 74/100 [22:34<07:43, 17.84s/it]Llama.generate: prefix-match hit\n"
     ]
    },
    {
     "name": "stdout",
     "output_type": "stream",
     "text": [
      "After Kon's death on August 24, 2010, production continued at Madhouse, where the team used Satoshi Kon's directorial tapes and notes to guide them to completing the film, though the main work such as storyboards and script was already complete.\n",
      "++++++++++++++++++++++++++++++++++++\n",
      "[{'human': 'Satoshi Kon'}]\n",
      "++++++++++++++++++++++++++++++++++++\n",
      "{'triplets': []}\n",
      "====================================\n",
      "{'model': 'openchat-3.5-0106.Q8_0.gguf', 'sent': \"After Kon's death on August 24, 2010, production continued at Madhouse, where the team used Satoshi Kon's directorial tapes and notes to guide them to completing the film, though the main work such as storyboards and script was already complete.\", 'triples': []}\n",
      "====================================\n"
     ]
    },
    {
     "name": "stderr",
     "output_type": "stream",
     "text": [
      "\n",
      "llama_print_timings:        load time =     194.16 ms\n",
      "llama_print_timings:      sample time =      22.15 ms /   256 runs   (    0.09 ms per token, 11557.56 tokens per second)\n",
      "llama_print_timings: prompt eval time =     255.49 ms /    39 tokens (    6.55 ms per token,   152.65 tokens per second)\n",
      "llama_print_timings:        eval time =    6783.84 ms /   255 runs   (   26.60 ms per token,    37.59 tokens per second)\n",
      "llama_print_timings:       total time =    7355.65 ms /   294 tokens\n",
      " 75%|███████▌  | 75/100 [22:42<06:07, 14.70s/it]Llama.generate: prefix-match hit\n"
     ]
    },
    {
     "name": "stdout",
     "output_type": "stream",
     "text": [
      "Based on the comic strip Little Nemo in Slumberland by Winsor McCay, the film went through a lengthy development process with a number of screenwriters.\n",
      "++++++++++++++++++++++++++++++++++++\n",
      "[{'written_work': 'Little Nemo in Slumberland'}]\n",
      "++++++++++++++++++++++++++++++++++++\n",
      "{'triplets': []}\n",
      "====================================\n",
      "{'model': 'openchat-3.5-0106.Q8_0.gguf', 'sent': 'Based on the comic strip Little Nemo in Slumberland by Winsor McCay, the film went through a lengthy development process with a number of screenwriters.', 'triples': []}\n",
      "====================================\n"
     ]
    },
    {
     "name": "stderr",
     "output_type": "stream",
     "text": [
      "\n",
      "llama_print_timings:        load time =     194.16 ms\n",
      "llama_print_timings:      sample time =      22.18 ms /   256 runs   (    0.09 ms per token, 11539.33 tokens per second)\n",
      "llama_print_timings: prompt eval time =     255.77 ms /    44 tokens (    5.81 ms per token,   172.03 tokens per second)\n",
      "llama_print_timings:        eval time =    6786.10 ms /   255 runs   (   26.61 ms per token,    37.58 tokens per second)\n",
      "llama_print_timings:       total time =    7358.75 ms /   299 tokens\n",
      "Llama.generate: prefix-match hit\n"
     ]
    },
    {
     "name": "stdout",
     "output_type": "stream",
     "text": [
      "Patient Porky is a 1940 Warner Bros. Looney Tunes directed by Bob Clampett, written by Warren Foster, and scored by Carl W. Stalling.\n",
      "++++++++++++++++++++++++++++++++++++\n",
      "[{'human': 'Warren Foster', 'film': 'Patient Porky', 'film_production_company': 'Warner Bros.'}]\n",
      "++++++++++++++++++++++++++++++++++++\n"
     ]
    },
    {
     "name": "stderr",
     "output_type": "stream",
     "text": [
      "\n",
      "llama_print_timings:        load time =     194.16 ms\n",
      "llama_print_timings:      sample time =      22.11 ms /   256 runs   (    0.09 ms per token, 11578.99 tokens per second)\n",
      "llama_print_timings: prompt eval time =    2499.49 ms /   474 tokens (    5.27 ms per token,   189.64 tokens per second)\n",
      "llama_print_timings:        eval time =    6556.04 ms /   255 runs   (   25.71 ms per token,    38.90 tokens per second)\n",
      "llama_print_timings:       total time =    9387.09 ms /   729 tokens\n",
      " 76%|███████▌  | 76/100 [22:59<06:07, 15.32s/it]Llama.generate: prefix-match hit\n"
     ]
    },
    {
     "name": "stdout",
     "output_type": "stream",
     "text": [
      "{'triplets': [{'sub': 'Patient Porky', 'rel': 'director', 'obj': 'Bob Clampett'}, {'sub': 'Patient Porky', 'rel': 'screenwriter', 'obj': 'Warren Foster'}, {'sub': 'Patient Porky', 'rel': 'production company', 'obj': 'Warner Bros.'}, {'sub': 'Patient Porky', 'rel': 'characters', 'obj': 'Porky Pig'}, {'sub': 'Patient Porky', 'rel': 'narrative location', 'obj': 'city'}, {'sub': 'Patient Porky', 'rel': 'filming location', 'obj': 'city'}]}\n",
      "====================================\n",
      "{'model': 'openchat-3.5-0106.Q8_0.gguf', 'sent': 'Patient Porky is a 1940 Warner Bros. Looney Tunes directed by Bob Clampett, written by Warren Foster, and scored by Carl W. Stalling.', 'triples': [{'sub': 'Patient Porky', 'rel': 'director', 'obj': 'Bob Clampett'}, {'sub': 'Patient Porky', 'rel': 'screenwriter', 'obj': 'Warren Foster'}, {'sub': 'Patient Porky', 'rel': 'production company', 'obj': 'Warner Bros.'}, {'sub': 'Patient Porky', 'rel': 'characters', 'obj': 'Porky Pig'}, {'sub': 'Patient Porky', 'rel': 'narrative location', 'obj': 'city'}, {'sub': 'Patient Porky', 'rel': 'filming location', 'obj': 'city'}]}\n",
      "====================================\n"
     ]
    },
    {
     "name": "stderr",
     "output_type": "stream",
     "text": [
      "\n",
      "llama_print_timings:        load time =     194.16 ms\n",
      "llama_print_timings:      sample time =      22.31 ms /   256 runs   (    0.09 ms per token, 11476.73 tokens per second)\n",
      "llama_print_timings: prompt eval time =    4449.08 ms /   848 tokens (    5.25 ms per token,   190.60 tokens per second)\n",
      "llama_print_timings:        eval time =    6775.68 ms /   255 runs   (   26.57 ms per token,    37.63 tokens per second)\n",
      "llama_print_timings:       total time =   11583.45 ms /  1103 tokens\n",
      " 77%|███████▋  | 77/100 [23:10<05:26, 14.20s/it]Llama.generate: prefix-match hit\n"
     ]
    },
    {
     "name": "stdout",
     "output_type": "stream",
     "text": [
      "The story was supervised by Tom Ray, while William Hanna and Joseph Barbera received a special director's credit.\n",
      "++++++++++++++++++++++++++++++++++++\n",
      "[{'human': 'Joseph Barbera'}]\n",
      "++++++++++++++++++++++++++++++++++++\n",
      "{'triplets': []}\n",
      "====================================\n",
      "{'model': 'openchat-3.5-0106.Q8_0.gguf', 'sent': \"The story was supervised by Tom Ray, while William Hanna and Joseph Barbera received a special director's credit.\", 'triples': []}\n",
      "====================================\n"
     ]
    },
    {
     "name": "stderr",
     "output_type": "stream",
     "text": [
      "\n",
      "llama_print_timings:        load time =     194.16 ms\n",
      "llama_print_timings:      sample time =      22.18 ms /   256 runs   (    0.09 ms per token, 11540.37 tokens per second)\n",
      "llama_print_timings: prompt eval time =     341.46 ms /    59 tokens (    5.79 ms per token,   172.79 tokens per second)\n",
      "llama_print_timings:        eval time =    6794.87 ms /   255 runs   (   26.65 ms per token,    37.53 tokens per second)\n",
      "llama_print_timings:       total time =    7451.49 ms /   314 tokens\n",
      "Llama.generate: prefix-match hit\n"
     ]
    },
    {
     "name": "stdout",
     "output_type": "stream",
     "text": [
      "\"Children Who Chase Stars\"), known as Journey to Agartha in worldwide, is a 2011 Japanese anime film created and directed by Makoto Shinkai, following Children Who Chase Lost Voices's previous work 5 Centimeters per Second.\n",
      "++++++++++++++++++++++++++++++++++++\n",
      "[{'human': 'Makoto Shinkai', 'film': 'Children Who Chase Stars'}]\n",
      "++++++++++++++++++++++++++++++++++++\n"
     ]
    },
    {
     "name": "stderr",
     "output_type": "stream",
     "text": [
      "\n",
      "llama_print_timings:        load time =     194.16 ms\n",
      "llama_print_timings:      sample time =      21.62 ms /   256 runs   (    0.08 ms per token, 11838.15 tokens per second)\n",
      "llama_print_timings: prompt eval time =    2498.06 ms /   478 tokens (    5.23 ms per token,   191.35 tokens per second)\n",
      "llama_print_timings:        eval time =    6558.33 ms /   255 runs   (   25.72 ms per token,    38.88 tokens per second)\n",
      "llama_print_timings:       total time =    9413.51 ms /   733 tokens\n",
      " 78%|███████▊  | 78/100 [23:27<05:30, 15.00s/it]Llama.generate: prefix-match hit\n"
     ]
    },
    {
     "name": "stdout",
     "output_type": "stream",
     "text": [
      "{'triplets': [{'sub': 'Children Who Chase Stars', 'rel': 'director', 'obj': 'Makoto Shinkai'}, {'sub': 'Children Who Chase Stars', 'rel': 'genre', 'obj': 'Japanese anime'}, {'sub': 'Children Who Chase Stars', 'rel': 'production company', 'obj': 'Makoto Shinkai'}, {'sub': 'Children Who Chase Stars', 'rel': 'country of origin', 'obj': 'Japan'}]}\n",
      "====================================\n",
      "{'model': 'openchat-3.5-0106.Q8_0.gguf', 'sent': '\"Children Who Chase Stars\"), known as Journey to Agartha in worldwide, is a 2011 Japanese anime film created and directed by Makoto Shinkai, following Children Who Chase Lost Voices\\'s previous work 5 Centimeters per Second.', 'triples': [{'sub': 'Children Who Chase Stars', 'rel': 'director', 'obj': 'Makoto Shinkai'}, {'sub': 'Children Who Chase Stars', 'rel': 'genre', 'obj': 'Japanese anime'}, {'sub': 'Children Who Chase Stars', 'rel': 'production company', 'obj': 'Makoto Shinkai'}, {'sub': 'Children Who Chase Stars', 'rel': 'country of origin', 'obj': 'Japan'}]}\n",
      "====================================\n"
     ]
    },
    {
     "name": "stderr",
     "output_type": "stream",
     "text": [
      "\n",
      "llama_print_timings:        load time =     194.16 ms\n",
      "llama_print_timings:      sample time =      21.84 ms /   256 runs   (    0.09 ms per token, 11723.76 tokens per second)\n",
      "llama_print_timings: prompt eval time =    4618.82 ms /   876 tokens (    5.27 ms per token,   189.66 tokens per second)\n",
      "llama_print_timings:        eval time =    6795.04 ms /   255 runs   (   26.65 ms per token,    37.53 tokens per second)\n",
      "llama_print_timings:       total time =   11800.33 ms /  1131 tokens\n",
      "Llama.generate: prefix-match hit\n"
     ]
    },
    {
     "name": "stdout",
     "output_type": "stream",
     "text": [
      "She and Her Cat (Japanese: , Hepburn: Kanojo to Kanojo no Neko), subtitled Their standing points, is a 1999 Japanese original video animation created and directed by Makoto Shinkai.\n",
      "++++++++++++++++++++++++++++++++++++\n",
      "[{'human': 'Makoto Shinkai', 'film': 'She and Her Cat'}]\n",
      "++++++++++++++++++++++++++++++++++++\n"
     ]
    },
    {
     "name": "stderr",
     "output_type": "stream",
     "text": [
      "\n",
      "llama_print_timings:        load time =     194.16 ms\n",
      "llama_print_timings:      sample time =      21.67 ms /   256 runs   (    0.08 ms per token, 11813.02 tokens per second)\n",
      "llama_print_timings: prompt eval time =    2497.83 ms /   476 tokens (    5.25 ms per token,   190.57 tokens per second)\n",
      "llama_print_timings:        eval time =    6551.39 ms /   255 runs   (   25.69 ms per token,    38.92 tokens per second)\n",
      "llama_print_timings:       total time =    9417.52 ms /   731 tokens\n",
      " 79%|███████▉  | 79/100 [23:48<05:54, 16.87s/it]Llama.generate: prefix-match hit\n"
     ]
    },
    {
     "name": "stdout",
     "output_type": "stream",
     "text": [
      "{'triplets': [{'sub': 'She and Her Cat', 'rel': 'director', 'obj': 'Makoto Shinkai'}, {'sub': 'She and Her Cat', 'rel': 'screenwriter', 'obj': 'Makoto Shinkai'}, {'sub': 'She and Her Cat', 'rel': 'genre', 'obj': 'original video animation'}, {'sub': 'She and Her Cat', 'rel': 'based on', 'obj': 'written work'}, {'sub': 'She and Her Cat', 'rel': 'production company', 'obj': 'Japanese'}, {'sub': 'She and Her Cat', 'rel': 'country of origin', 'obj': 'Japan'}]}\n",
      "====================================\n",
      "{'model': 'openchat-3.5-0106.Q8_0.gguf', 'sent': 'She and Her Cat (Japanese: , Hepburn: Kanojo to Kanojo no Neko), subtitled Their standing points, is a 1999 Japanese original video animation created and directed by Makoto Shinkai.', 'triples': [{'sub': 'She and Her Cat', 'rel': 'director', 'obj': 'Makoto Shinkai'}, {'sub': 'She and Her Cat', 'rel': 'screenwriter', 'obj': 'Makoto Shinkai'}, {'sub': 'She and Her Cat', 'rel': 'genre', 'obj': 'original video animation'}, {'sub': 'She and Her Cat', 'rel': 'based on', 'obj': 'written work'}, {'sub': 'She and Her Cat', 'rel': 'production company', 'obj': 'Japanese'}, {'sub': 'She and Her Cat', 'rel': 'country of origin', 'obj': 'Japan'}]}\n",
      "====================================\n"
     ]
    },
    {
     "name": "stderr",
     "output_type": "stream",
     "text": [
      "\n",
      "llama_print_timings:        load time =     194.16 ms\n",
      "llama_print_timings:      sample time =      21.95 ms /   256 runs   (    0.09 ms per token, 11661.28 tokens per second)\n",
      "llama_print_timings: prompt eval time =    4873.73 ms /   914 tokens (    5.33 ms per token,   187.54 tokens per second)\n",
      "llama_print_timings:        eval time =    6820.33 ms /   255 runs   (   26.75 ms per token,    37.39 tokens per second)\n",
      "llama_print_timings:       total time =   12084.68 ms /  1169 tokens\n",
      "Llama.generate: prefix-match hit\n"
     ]
    },
    {
     "name": "stdout",
     "output_type": "stream",
     "text": [
      "Eventually in 2001, producers James L. Brooks, Matt Groening, Al Jean, Richard Sakai and Mike Scully began development of the film and a writing team consisting of Brooks, Groening, Jean, Scully, Ian Maxtone-Graham, George Meyer, David Mirkin, Mike Reiss, Matt Selman, John Swartzwelder and Jon Vitti was assembled.\n",
      "++++++++++++++++++++++++++++++++++++\n",
      "[{'human': 'Mike Scully', 'written_work': 'The Simpsons Movie'}]\n",
      "++++++++++++++++++++++++++++++++++++\n"
     ]
    },
    {
     "name": "stderr",
     "output_type": "stream",
     "text": [
      "\n",
      "llama_print_timings:        load time =     194.16 ms\n",
      "llama_print_timings:      sample time =      22.03 ms /   256 runs   (    0.09 ms per token, 11623.16 tokens per second)\n",
      "llama_print_timings: prompt eval time =    2750.00 ms /   516 tokens (    5.33 ms per token,   187.64 tokens per second)\n",
      "llama_print_timings:        eval time =    6581.31 ms /   255 runs   (   25.81 ms per token,    38.75 tokens per second)\n",
      "llama_print_timings:       total time =    9690.32 ms /   771 tokens\n",
      " 80%|████████  | 80/100 [24:10<06:06, 18.34s/it]Llama.generate: prefix-match hit\n"
     ]
    },
    {
     "name": "stdout",
     "output_type": "stream",
     "text": [
      "{'triplets': [{'sub': 'The Simpsons Movie', 'rel': 'director', 'obj': 'James L. Brooks, Matt Groening, Al Jean, Richard Sakai'}, {'sub': 'The Simpsons Movie', 'rel': 'screenwriter', 'obj': 'James L. Brooks, Matt Groening, Al Jean, Richard Sakai, Ian Maxtone-Graham, George Meyer, David Mirkin, Mike Reiss, Matt Selman, John Swartzwelder, Jon Vitti'}, {'sub': 'The Simpsons Movie', 'rel': 'genre', 'obj': 'Animation'}, {'sub': 'The Simpsons Movie', 'rel': 'based on', 'obj': 'The Simpsons'}, {'sub': 'The Simpsons Movie', 'rel': 'cast member', 'obj': 'Mike Scul'}]}\n",
      "====================================\n",
      "{'model': 'openchat-3.5-0106.Q8_0.gguf', 'sent': 'Eventually in 2001, producers James L. Brooks, Matt Groening, Al Jean, Richard Sakai and Mike Scully began development of the film and a writing team consisting of Brooks, Groening, Jean, Scully, Ian Maxtone-Graham, George Meyer, David Mirkin, Mike Reiss, Matt Selman, John Swartzwelder and Jon Vitti was assembled.', 'triples': [{'sub': 'The Simpsons Movie', 'rel': 'director', 'obj': 'James L. Brooks, Matt Groening, Al Jean, Richard Sakai'}, {'sub': 'The Simpsons Movie', 'rel': 'screenwriter', 'obj': 'James L. Brooks, Matt Groening, Al Jean, Richard Sakai, Ian Maxtone-Graham, George Meyer, David Mirkin, Mike Reiss, Matt Selman, John Swartzwelder, Jon Vitti'}, {'sub': 'The Simpsons Movie', 'rel': 'genre', 'obj': 'Animation'}, {'sub': 'The Simpsons Movie', 'rel': 'based on', 'obj': 'The Simpsons'}, {'sub': 'The Simpsons Movie', 'rel': 'cast member', 'obj': 'Mike Scul'}]}\n",
      "====================================\n"
     ]
    },
    {
     "name": "stderr",
     "output_type": "stream",
     "text": [
      "\n",
      "llama_print_timings:        load time =     194.16 ms\n",
      "llama_print_timings:      sample time =      22.11 ms /   256 runs   (    0.09 ms per token, 11576.38 tokens per second)\n",
      "llama_print_timings: prompt eval time =    4532.88 ms /   858 tokens (    5.28 ms per token,   189.28 tokens per second)\n",
      "llama_print_timings:        eval time =    6780.59 ms /   255 runs   (   26.59 ms per token,    37.61 tokens per second)\n",
      "llama_print_timings:       total time =   11699.25 ms /  1113 tokens\n",
      "Llama.generate: prefix-match hit\n"
     ]
    },
    {
     "name": "stdout",
     "output_type": "stream",
     "text": [
      "Birds Anonymous is a 1957 Warner Bros. Merrie Melodies animated short, directed by Friz Freleng and written by Warren Foster.\n",
      "++++++++++++++++++++++++++++++++++++\n",
      "[{'film': 'Birds Anonymous', 'human': 'Friz Freleng', 'written_work': 'Birds Anonymous', 'film_production_company': 'Warner Bros.'}]\n",
      "++++++++++++++++++++++++++++++++++++\n"
     ]
    },
    {
     "name": "stderr",
     "output_type": "stream",
     "text": [
      "\n",
      "llama_print_timings:        load time =     194.16 ms\n",
      "llama_print_timings:      sample time =      21.92 ms /   256 runs   (    0.09 ms per token, 11679.90 tokens per second)\n",
      "llama_print_timings: prompt eval time =    2582.25 ms /   483 tokens (    5.35 ms per token,   187.05 tokens per second)\n",
      "llama_print_timings:        eval time =    6562.01 ms /   255 runs   (   25.73 ms per token,    38.86 tokens per second)\n",
      "llama_print_timings:       total time =    9474.82 ms /   738 tokens\n",
      " 81%|████████  | 81/100 [24:31<06:04, 19.20s/it]Llama.generate: prefix-match hit\n"
     ]
    },
    {
     "name": "stdout",
     "output_type": "stream",
     "text": [
      "{'triplets': [{'sub': 'Birds Anonymous', 'rel': 'director', 'obj': 'Friz Freleng'}, {'sub': 'Birds Anonymous', 'rel': 'screenwriter', 'obj': 'Warren Foster'}, {'sub': 'Birds Anonymous', 'rel': 'production company', 'obj': 'Warner Bros.'}, {'sub': 'Birds Anonymous', 'rel': 'genre', 'obj': 'animated short'}, {'sub': 'Birds Anonymous', 'rel': 'based on', 'obj': 'written work'}, {'sub': 'Birds Anonymous', 'rel': 'characters', 'obj': 'film character'}, {'sub': 'Birds Anonymous', 'rel': ''}]}\n",
      "====================================\n",
      "{'model': 'openchat-3.5-0106.Q8_0.gguf', 'sent': 'Birds Anonymous is a 1957 Warner Bros. Merrie Melodies animated short, directed by Friz Freleng and written by Warren Foster.', 'triples': [{'sub': 'Birds Anonymous', 'rel': 'director', 'obj': 'Friz Freleng'}, {'sub': 'Birds Anonymous', 'rel': 'screenwriter', 'obj': 'Warren Foster'}, {'sub': 'Birds Anonymous', 'rel': 'production company', 'obj': 'Warner Bros.'}, {'sub': 'Birds Anonymous', 'rel': 'genre', 'obj': 'animated short'}, {'sub': 'Birds Anonymous', 'rel': 'based on', 'obj': 'written work'}, {'sub': 'Birds Anonymous', 'rel': 'characters', 'obj': 'film character'}, {'sub': 'Birds Anonymous', 'rel': ''}]}\n",
      "====================================\n"
     ]
    },
    {
     "name": "stderr",
     "output_type": "stream",
     "text": [
      "\n",
      "llama_print_timings:        load time =     194.16 ms\n",
      "llama_print_timings:      sample time =      22.17 ms /   256 runs   (    0.09 ms per token, 11546.61 tokens per second)\n",
      "llama_print_timings: prompt eval time =    4532.49 ms /   856 tokens (    5.29 ms per token,   188.86 tokens per second)\n",
      "llama_print_timings:        eval time =    6782.03 ms /   255 runs   (   26.60 ms per token,    37.60 tokens per second)\n",
      "llama_print_timings:       total time =   11676.28 ms /  1111 tokens\n",
      "Llama.generate: prefix-match hit\n"
     ]
    },
    {
     "name": "stdout",
     "output_type": "stream",
     "text": [
      "Trap Happy Porky is a 1945 Warner Bros. Looney Tunes short directed by Chuck Jones and written by Tedd Pierce.\n",
      "++++++++++++++++++++++++++++++++++++\n",
      "[{'human': 'Tedd Pierce', 'film': 'Trap Happy Porky'}]\n",
      "++++++++++++++++++++++++++++++++++++\n"
     ]
    },
    {
     "name": "stderr",
     "output_type": "stream",
     "text": [
      "\n",
      "llama_print_timings:        load time =     194.16 ms\n",
      "llama_print_timings:      sample time =      22.81 ms /   256 runs   (    0.09 ms per token, 11225.12 tokens per second)\n",
      "llama_print_timings: prompt eval time =    2414.84 ms /   457 tokens (    5.28 ms per token,   189.25 tokens per second)\n",
      "llama_print_timings:        eval time =    6541.08 ms /   255 runs   (   25.65 ms per token,    38.98 tokens per second)\n",
      "llama_print_timings:       total time =    9296.68 ms /   712 tokens\n",
      " 82%|████████▏ | 82/100 [24:52<05:55, 19.73s/it]Llama.generate: prefix-match hit\n"
     ]
    },
    {
     "name": "stdout",
     "output_type": "stream",
     "text": [
      "{'triplets': [{'sub': 'Trap Happy Porky', 'rel': 'director', 'obj': 'Chuck Jones'}, {'sub': 'Trap Happy Porky', 'rel': 'screenwriter', 'obj': 'Tedd Pierce'}, {'sub': 'Trap Happy Porky', 'rel': 'production company', 'obj': 'Warner Bros.'}, {'sub': 'Trap Happy Porky', 'rel': 'country of origin', 'obj': 'United States'}, {'sub': 'Trap Happy Porky', 'rel': 'characters', 'obj': 'Porky Pig'}, {'sub': 'Trap Happy Porky', 'rel': 'narrative location', 'obj': 'city'}, {'sub': 'Trap Happy'}]}\n",
      "====================================\n",
      "{'model': 'openchat-3.5-0106.Q8_0.gguf', 'sent': 'Trap Happy Porky is a 1945 Warner Bros. Looney Tunes short directed by Chuck Jones and written by Tedd Pierce.', 'triples': [{'sub': 'Trap Happy Porky', 'rel': 'director', 'obj': 'Chuck Jones'}, {'sub': 'Trap Happy Porky', 'rel': 'screenwriter', 'obj': 'Tedd Pierce'}, {'sub': 'Trap Happy Porky', 'rel': 'production company', 'obj': 'Warner Bros.'}, {'sub': 'Trap Happy Porky', 'rel': 'country of origin', 'obj': 'United States'}, {'sub': 'Trap Happy Porky', 'rel': 'characters', 'obj': 'Porky Pig'}, {'sub': 'Trap Happy Porky', 'rel': 'narrative location', 'obj': 'city'}, {'sub': 'Trap Happy'}]}\n",
      "====================================\n"
     ]
    },
    {
     "name": "stderr",
     "output_type": "stream",
     "text": [
      "\n",
      "llama_print_timings:        load time =     194.16 ms\n",
      "llama_print_timings:      sample time =      22.10 ms /   256 runs   (    0.09 ms per token, 11584.76 tokens per second)\n",
      "llama_print_timings: prompt eval time =    4531.18 ms /   850 tokens (    5.33 ms per token,   187.59 tokens per second)\n",
      "llama_print_timings:        eval time =    6778.10 ms /   255 runs   (   26.58 ms per token,    37.62 tokens per second)\n",
      "llama_print_timings:       total time =   11669.67 ms /  1105 tokens\n",
      "Llama.generate: prefix-match hit\n"
     ]
    },
    {
     "name": "stdout",
     "output_type": "stream",
     "text": [
      "The cartoon, released in 1928 by the Walt Disney Studios, was the first creation of the character Mickey Mouse.\n",
      "++++++++++++++++++++++++++++++++++++\n",
      "[{'human': 'Walt Disney', 'film': 'The cartoon', 'film_character': 'Mickey Mouse'}]\n",
      "++++++++++++++++++++++++++++++++++++\n"
     ]
    },
    {
     "name": "stderr",
     "output_type": "stream",
     "text": [
      "\n",
      "llama_print_timings:        load time =     194.16 ms\n",
      "llama_print_timings:      sample time =      22.50 ms /   256 runs   (    0.09 ms per token, 11377.27 tokens per second)\n",
      "llama_print_timings: prompt eval time =    2413.53 ms /   456 tokens (    5.29 ms per token,   188.94 tokens per second)\n",
      "llama_print_timings:        eval time =    6546.75 ms /   255 runs   (   25.67 ms per token,    38.95 tokens per second)\n",
      "llama_print_timings:       total time =    9291.96 ms /   711 tokens\n",
      " 83%|████████▎ | 83/100 [25:13<05:41, 20.10s/it]Llama.generate: prefix-match hit\n"
     ]
    },
    {
     "name": "stdout",
     "output_type": "stream",
     "text": [
      "{'triplets': [{'sub': 'The cartoon', 'rel': 'director', 'obj': 'Walt Disney'}, {'sub': 'The cartoon', 'rel': 'screenwriter', 'obj': 'Walt Disney'}, {'sub': 'The cartoon', 'rel': 'genre', 'obj': 'cartoon'}, {'sub': 'The cartoon', 'rel': 'based on', 'obj': 'written work'}, {'sub': 'The cartoon', 'rel': 'cast member', 'obj': 'Mickey Mouse'}, {'sub': 'The cartoon', 'rel': 'production company', 'obj': 'Walt Disney Studios'}, {'sub': 'The cartoon', 'rel': 'country of origin', 'obj': 'USA'}, {}]}\n",
      "====================================\n",
      "{'model': 'openchat-3.5-0106.Q8_0.gguf', 'sent': 'The cartoon, released in 1928 by the Walt Disney Studios, was the first creation of the character Mickey Mouse.', 'triples': [{'sub': 'The cartoon', 'rel': 'director', 'obj': 'Walt Disney'}, {'sub': 'The cartoon', 'rel': 'screenwriter', 'obj': 'Walt Disney'}, {'sub': 'The cartoon', 'rel': 'genre', 'obj': 'cartoon'}, {'sub': 'The cartoon', 'rel': 'based on', 'obj': 'written work'}, {'sub': 'The cartoon', 'rel': 'cast member', 'obj': 'Mickey Mouse'}, {'sub': 'The cartoon', 'rel': 'production company', 'obj': 'Walt Disney Studios'}, {'sub': 'The cartoon', 'rel': 'country of origin', 'obj': 'USA'}, {}]}\n",
      "====================================\n"
     ]
    },
    {
     "name": "stderr",
     "output_type": "stream",
     "text": [
      "\n",
      "llama_print_timings:        load time =     194.16 ms\n",
      "llama_print_timings:      sample time =      21.44 ms /   256 runs   (    0.08 ms per token, 11938.07 tokens per second)\n",
      "llama_print_timings: prompt eval time =    4531.56 ms /   852 tokens (    5.32 ms per token,   188.01 tokens per second)\n",
      "llama_print_timings:        eval time =    6773.87 ms /   255 runs   (   26.56 ms per token,    37.64 tokens per second)\n",
      "llama_print_timings:       total time =   11697.90 ms /  1107 tokens\n",
      "Llama.generate: prefix-match hit\n"
     ]
    },
    {
     "name": "stdout",
     "output_type": "stream",
     "text": [
      "The Day the Clown Cried is an unfinished 1972 Swedish-French drama film directed by and starring Jerry Lewis.\n",
      "++++++++++++++++++++++++++++++++++++\n",
      "[{'human': 'Jerry Lewis', 'film': 'The Day the Clown Cried', 'city': 'Sweden', 'country': 'Sweden', 'genre': 'drama'}]\n",
      "++++++++++++++++++++++++++++++++++++\n"
     ]
    },
    {
     "name": "stderr",
     "output_type": "stream",
     "text": [
      "\n",
      "llama_print_timings:        load time =     194.16 ms\n",
      "llama_print_timings:      sample time =      21.86 ms /   256 runs   (    0.09 ms per token, 11713.57 tokens per second)\n",
      "llama_print_timings: prompt eval time =    2498.14 ms /   474 tokens (    5.27 ms per token,   189.74 tokens per second)\n",
      "llama_print_timings:        eval time =    6557.15 ms /   255 runs   (   25.71 ms per token,    38.89 tokens per second)\n",
      "llama_print_timings:       total time =    9412.71 ms /   729 tokens\n",
      " 84%|████████▍ | 84/100 [25:34<05:26, 20.41s/it]Llama.generate: prefix-match hit\n"
     ]
    },
    {
     "name": "stdout",
     "output_type": "stream",
     "text": [
      "{'triplets': [{'sub': 'The Day the Clown Cried', 'rel': 'director', 'obj': 'Jerry Lewis'}, {'sub': 'The Day the Clown Cried', 'rel': 'screenwriter', 'obj': 'Jerry Lewis'}, {'sub': 'The Day the Clown Cried', 'rel': 'genre', 'obj': 'drama'}, {'sub': 'The Day the Clown Cried', 'rel': 'based on', 'obj': 'written work'}, {'sub': 'The Day the Clown Cried', 'rel': 'cast member', 'obj': 'Jerry Lewis'}, {'sub': 'The Day the Clown Cried', 'rel': 'production company', 'obj': 'Swedish-French'}, {'sub': 'The Day the'}]}\n",
      "====================================\n",
      "{'model': 'openchat-3.5-0106.Q8_0.gguf', 'sent': 'The Day the Clown Cried is an unfinished 1972 Swedish-French drama film directed by and starring Jerry Lewis.', 'triples': [{'sub': 'The Day the Clown Cried', 'rel': 'director', 'obj': 'Jerry Lewis'}, {'sub': 'The Day the Clown Cried', 'rel': 'screenwriter', 'obj': 'Jerry Lewis'}, {'sub': 'The Day the Clown Cried', 'rel': 'genre', 'obj': 'drama'}, {'sub': 'The Day the Clown Cried', 'rel': 'based on', 'obj': 'written work'}, {'sub': 'The Day the Clown Cried', 'rel': 'cast member', 'obj': 'Jerry Lewis'}, {'sub': 'The Day the Clown Cried', 'rel': 'production company', 'obj': 'Swedish-French'}, {'sub': 'The Day the'}]}\n",
      "====================================\n"
     ]
    },
    {
     "name": "stderr",
     "output_type": "stream",
     "text": [
      "\n",
      "llama_print_timings:        load time =     194.16 ms\n",
      "llama_print_timings:      sample time =      21.67 ms /   256 runs   (    0.08 ms per token, 11812.48 tokens per second)\n",
      "llama_print_timings: prompt eval time =    4533.25 ms /   860 tokens (    5.27 ms per token,   189.71 tokens per second)\n",
      "llama_print_timings:        eval time =    6786.10 ms /   255 runs   (   26.61 ms per token,    37.58 tokens per second)\n",
      "llama_print_timings:       total time =   11705.40 ms /  1115 tokens\n",
      "Llama.generate: prefix-match hit\n"
     ]
    },
    {
     "name": "stdout",
     "output_type": "stream",
     "text": [
      "A Grand Day Out was directed, co -written, and animated by Nick Park at the National Film and Television School in Beaconsfield and Aardman Animations in Bristol.\n",
      "++++++++++++++++++++++++++++++++++++\n",
      "[{'human': 'Nick Park', 'city': 'Beaconsfield', 'film': 'A Grand Day Out'}]\n",
      "++++++++++++++++++++++++++++++++++++\n"
     ]
    },
    {
     "name": "stderr",
     "output_type": "stream",
     "text": [
      "\n",
      "llama_print_timings:        load time =     194.16 ms\n",
      "llama_print_timings:      sample time =      21.73 ms /   256 runs   (    0.08 ms per token, 11778.78 tokens per second)\n",
      "llama_print_timings: prompt eval time =    2496.98 ms /   466 tokens (    5.36 ms per token,   186.63 tokens per second)\n",
      "llama_print_timings:        eval time =    6549.02 ms /   255 runs   (   25.68 ms per token,    38.94 tokens per second)\n",
      "llama_print_timings:       total time =    9419.16 ms /   721 tokens\n",
      " 85%|████████▌ | 85/100 [25:55<05:09, 20.63s/it]Llama.generate: prefix-match hit\n"
     ]
    },
    {
     "name": "stdout",
     "output_type": "stream",
     "text": [
      "{'triplets': [{'sub': 'A Grand Day Out', 'rel': 'director', 'obj': 'Nick Park'}, {'sub': 'A Grand Day Out', 'rel': 'screenwriter', 'obj': 'Nick Park'}, {'sub': 'A Grand Day Out', 'rel': 'production company', 'obj': 'Aardman Animations'}, {'sub': 'A Grand Day Out', 'rel': 'filming location', 'obj': 'Beaconsfield'}, {'sub': 'A Grand Day Out', 'rel': 'narrative location', 'obj': 'Beaconsfield'}]}\n",
      "====================================\n",
      "{'model': 'openchat-3.5-0106.Q8_0.gguf', 'sent': 'A Grand Day Out was directed, co -written, and animated by Nick Park at the National Film and Television School in Beaconsfield and Aardman Animations in Bristol.', 'triples': [{'sub': 'A Grand Day Out', 'rel': 'director', 'obj': 'Nick Park'}, {'sub': 'A Grand Day Out', 'rel': 'screenwriter', 'obj': 'Nick Park'}, {'sub': 'A Grand Day Out', 'rel': 'production company', 'obj': 'Aardman Animations'}, {'sub': 'A Grand Day Out', 'rel': 'filming location', 'obj': 'Beaconsfield'}, {'sub': 'A Grand Day Out', 'rel': 'narrative location', 'obj': 'Beaconsfield'}]}\n",
      "====================================\n"
     ]
    },
    {
     "name": "stderr",
     "output_type": "stream",
     "text": [
      "\n",
      "llama_print_timings:        load time =     194.16 ms\n",
      "llama_print_timings:      sample time =      21.68 ms /   256 runs   (    0.08 ms per token, 11809.21 tokens per second)\n",
      "llama_print_timings: prompt eval time =    4533.94 ms /   864 tokens (    5.25 ms per token,   190.56 tokens per second)\n",
      "llama_print_timings:        eval time =    6814.44 ms /   256 runs   (   26.62 ms per token,    37.57 tokens per second)\n",
      "llama_print_timings:       total time =   11732.99 ms /  1120 tokens\n",
      "Llama.generate: prefix-match hit\n"
     ]
    },
    {
     "name": "stdout",
     "output_type": "stream",
     "text": [
      "The twenty-five-and-a-half-minute production was written and directed by Buffy creator Joss Whedon, and was expanded upon and re-shot for the first episode of the series.\n",
      "++++++++++++++++++++++++++++++++++++\n",
      "[{'human': 'Joss Whedon', 'film': 'Buffy'}]\n",
      "++++++++++++++++++++++++++++++++++++\n"
     ]
    },
    {
     "name": "stderr",
     "output_type": "stream",
     "text": [
      "\n",
      "llama_print_timings:        load time =     194.16 ms\n",
      "llama_print_timings:      sample time =      21.57 ms /   256 runs   (    0.08 ms per token, 11869.44 tokens per second)\n",
      "llama_print_timings: prompt eval time =    2415.03 ms /   462 tokens (    5.23 ms per token,   191.30 tokens per second)\n",
      "llama_print_timings:        eval time =    6550.00 ms /   255 runs   (   25.69 ms per token,    38.93 tokens per second)\n",
      "llama_print_timings:       total time =    9317.41 ms /   717 tokens\n",
      " 86%|████████▌ | 86/100 [26:17<04:50, 20.76s/it]Llama.generate: prefix-match hit\n"
     ]
    },
    {
     "name": "stdout",
     "output_type": "stream",
     "text": [
      "{'triplets': [{'sub': 'Buffy', 'rel': 'director', 'obj': 'Joss Whedon'}, {'sub': 'Buffy', 'rel': 'screenwriter', 'obj': 'Joss Whedon'}, {'sub': 'Buffy', 'rel': 'genre', 'obj': 'TV series'}, {'sub': 'Buffy', 'rel': 'based on', 'obj': 'Buffy'}, {'sub': 'Buffy', 'rel': 'cast member', 'obj': 'Joss Whedon'}]}\n",
      "====================================\n",
      "{'model': 'openchat-3.5-0106.Q8_0.gguf', 'sent': 'The twenty-five-and-a-half-minute production was written and directed by Buffy creator Joss Whedon, and was expanded upon and re-shot for the first episode of the series.', 'triples': [{'sub': 'Buffy', 'rel': 'director', 'obj': 'Joss Whedon'}, {'sub': 'Buffy', 'rel': 'screenwriter', 'obj': 'Joss Whedon'}, {'sub': 'Buffy', 'rel': 'genre', 'obj': 'TV series'}, {'sub': 'Buffy', 'rel': 'based on', 'obj': 'Buffy'}, {'sub': 'Buffy', 'rel': 'cast member', 'obj': 'Joss Whedon'}]}\n",
      "====================================\n"
     ]
    },
    {
     "name": "stderr",
     "output_type": "stream",
     "text": [
      "\n",
      "llama_print_timings:        load time =     194.16 ms\n",
      "llama_print_timings:      sample time =      22.52 ms /   256 runs   (    0.09 ms per token, 11366.16 tokens per second)\n",
      "llama_print_timings: prompt eval time =    4440.98 ms /   837 tokens (    5.31 ms per token,   188.47 tokens per second)\n",
      "llama_print_timings:        eval time =    6767.75 ms /   255 runs   (   26.54 ms per token,    37.68 tokens per second)\n",
      "llama_print_timings:       total time =   11572.02 ms /  1092 tokens\n",
      " 87%|████████▋ | 87/100 [26:28<03:54, 18.00s/it]Llama.generate: prefix-match hit\n"
     ]
    },
    {
     "name": "stdout",
     "output_type": "stream",
     "text": [
      "The original plot was written by Fujiko F. Fujio.\n",
      "++++++++++++++++++++++++++++++++++++\n",
      "[{'human': 'Fujiko F. Fujio'}]\n",
      "++++++++++++++++++++++++++++++++++++\n",
      "{'triplets': []}\n",
      "====================================\n",
      "{'model': 'openchat-3.5-0106.Q8_0.gguf', 'sent': 'The original plot was written by Fujiko F. Fujio.', 'triples': []}\n",
      "====================================\n"
     ]
    },
    {
     "name": "stderr",
     "output_type": "stream",
     "text": [
      "\n",
      "llama_print_timings:        load time =     194.16 ms\n",
      "llama_print_timings:      sample time =      22.24 ms /   256 runs   (    0.09 ms per token, 11511.31 tokens per second)\n",
      "llama_print_timings: prompt eval time =     512.98 ms /    95 tokens (    5.40 ms per token,   185.19 tokens per second)\n",
      "llama_print_timings:        eval time =    6818.19 ms /   255 runs   (   26.74 ms per token,    37.40 tokens per second)\n",
      "llama_print_timings:       total time =    7649.78 ms /   350 tokens\n",
      "Llama.generate: prefix-match hit\n"
     ]
    },
    {
     "name": "stdout",
     "output_type": "stream",
     "text": [
      "Eventually in 2001, producers James L. Brooks, Matt Groening, Al Jean, Richard Sakai and Mike Scully began development of the film and a writing team consisting of Brooks, Groening, Jean, Scully, Ian Maxtone-Graham, George Meyer, David Mirkin, Mike Reiss, Matt Selman, John Swartzwelder and Jon Vitti was assembled.\n",
      "++++++++++++++++++++++++++++++++++++\n",
      "[{'human': 'Mike Scully', 'written_work': 'The Simpsons Movie'}]\n",
      "++++++++++++++++++++++++++++++++++++\n"
     ]
    },
    {
     "name": "stderr",
     "output_type": "stream",
     "text": [
      "\n",
      "llama_print_timings:        load time =     194.16 ms\n",
      "llama_print_timings:      sample time =      22.49 ms /   256 runs   (    0.09 ms per token, 11382.33 tokens per second)\n",
      "llama_print_timings: prompt eval time =    2749.16 ms /   516 tokens (    5.33 ms per token,   187.69 tokens per second)\n",
      "llama_print_timings:        eval time =    6579.59 ms /   255 runs   (   25.80 ms per token,    38.76 tokens per second)\n",
      "llama_print_timings:       total time =    9664.35 ms /   771 tokens\n",
      " 88%|████████▊ | 88/100 [26:45<03:33, 17.80s/it]Llama.generate: prefix-match hit\n"
     ]
    },
    {
     "name": "stdout",
     "output_type": "stream",
     "text": [
      "{'triplets': [{'sub': 'The Simpsons Movie', 'rel': 'director', 'obj': 'James L. Brooks, Matt Groening, Al Jean, Richard Sakai'}, {'sub': 'The Simpsons Movie', 'rel': 'screenwriter', 'obj': 'James L. Brooks, Matt Groening, Al Jean, Richard Sakai, Ian Maxtone-Graham, George Meyer, David Mirkin, Mike Reiss, Matt Selman, John Swartzwelder, Jon Vitti'}, {'sub': 'The Simpsons Movie', 'rel': 'genre', 'obj': 'Animation'}, {'sub': 'The Simpsons Movie', 'rel': 'based on', 'obj': 'The Simpsons'}, {'sub': 'The Simpsons Movie', 'rel': 'cast member', 'obj': 'Mike Scul'}]}\n",
      "====================================\n",
      "{'model': 'openchat-3.5-0106.Q8_0.gguf', 'sent': 'Eventually in 2001, producers James L. Brooks, Matt Groening, Al Jean, Richard Sakai and Mike Scully began development of the film and a writing team consisting of Brooks, Groening, Jean, Scully, Ian Maxtone-Graham, George Meyer, David Mirkin, Mike Reiss, Matt Selman, John Swartzwelder and Jon Vitti was assembled.', 'triples': [{'sub': 'The Simpsons Movie', 'rel': 'director', 'obj': 'James L. Brooks, Matt Groening, Al Jean, Richard Sakai'}, {'sub': 'The Simpsons Movie', 'rel': 'screenwriter', 'obj': 'James L. Brooks, Matt Groening, Al Jean, Richard Sakai, Ian Maxtone-Graham, George Meyer, David Mirkin, Mike Reiss, Matt Selman, John Swartzwelder, Jon Vitti'}, {'sub': 'The Simpsons Movie', 'rel': 'genre', 'obj': 'Animation'}, {'sub': 'The Simpsons Movie', 'rel': 'based on', 'obj': 'The Simpsons'}, {'sub': 'The Simpsons Movie', 'rel': 'cast member', 'obj': 'Mike Scul'}]}\n",
      "====================================\n"
     ]
    },
    {
     "name": "stderr",
     "output_type": "stream",
     "text": [
      "\n",
      "llama_print_timings:        load time =     194.16 ms\n",
      "llama_print_timings:      sample time =      22.68 ms /   256 runs   (    0.09 ms per token, 11289.97 tokens per second)\n",
      "llama_print_timings: prompt eval time =    4533.82 ms /   864 tokens (    5.25 ms per token,   190.57 tokens per second)\n",
      "llama_print_timings:        eval time =    6798.81 ms /   256 runs   (   26.56 ms per token,    37.65 tokens per second)\n",
      "llama_print_timings:       total time =   11706.27 ms /  1120 tokens\n",
      "Llama.generate: prefix-match hit\n"
     ]
    },
    {
     "name": "stdout",
     "output_type": "stream",
     "text": [
      "Directed by Pete Docter and Roger L. Gould, Mike 's New Car is the first Pixar short to use dialogue and the first to take characters and situations from a previously established work.\n",
      "++++++++++++++++++++++++++++++++++++\n",
      "[{'human': 'Roger L. Gould', 'film': \"Mike 's New Car\"}]\n",
      "++++++++++++++++++++++++++++++++++++\n"
     ]
    },
    {
     "name": "stderr",
     "output_type": "stream",
     "text": [
      "\n",
      "llama_print_timings:        load time =     194.16 ms\n",
      "llama_print_timings:      sample time =      21.95 ms /   256 runs   (    0.09 ms per token, 11665.53 tokens per second)\n",
      "llama_print_timings: prompt eval time =    2491.88 ms /   468 tokens (    5.32 ms per token,   187.81 tokens per second)\n",
      "llama_print_timings:        eval time =    6541.09 ms /   255 runs   (   25.65 ms per token,    38.98 tokens per second)\n",
      "llama_print_timings:       total time =    9363.30 ms /   723 tokens\n",
      " 89%|████████▉ | 89/100 [27:07<03:26, 18.78s/it]Llama.generate: prefix-match hit\n"
     ]
    },
    {
     "name": "stdout",
     "output_type": "stream",
     "text": [
      "{'triplets': [{'sub': \"Mike's New Car\", 'rel': 'director', 'obj': 'Roger L. Gould'}, {'sub': \"Mike's New Car\", 'rel': 'director', 'obj': 'Pete Docter'}, {'sub': \"Mike's New Car\", 'rel': 'screenwriter', 'obj': 'Roger L. Gould'}, {'sub': \"Mike's New Car\", 'rel': 'genre', 'obj': 'short film'}, {'sub': \"Mike's New Car\", 'rel': 'based on', 'obj': 'previously established work'}, {'sub': \"Mike's New Car\", 'rel': 'cast member', 'obj': 'Roger L. Gould'}]}\n",
      "====================================\n",
      "{'model': 'openchat-3.5-0106.Q8_0.gguf', 'sent': \"Directed by Pete Docter and Roger L. Gould, Mike 's New Car is the first Pixar short to use dialogue and the first to take characters and situations from a previously established work.\", 'triples': [{'sub': \"Mike's New Car\", 'rel': 'director', 'obj': 'Roger L. Gould'}, {'sub': \"Mike's New Car\", 'rel': 'director', 'obj': 'Pete Docter'}, {'sub': \"Mike's New Car\", 'rel': 'screenwriter', 'obj': 'Roger L. Gould'}, {'sub': \"Mike's New Car\", 'rel': 'genre', 'obj': 'short film'}, {'sub': \"Mike's New Car\", 'rel': 'based on', 'obj': 'previously established work'}, {'sub': \"Mike's New Car\", 'rel': 'cast member', 'obj': 'Roger L. Gould'}]}\n",
      "====================================\n"
     ]
    },
    {
     "name": "stderr",
     "output_type": "stream",
     "text": [
      "\n",
      "llama_print_timings:        load time =     194.16 ms\n",
      "llama_print_timings:      sample time =      21.69 ms /   256 runs   (    0.08 ms per token, 11803.76 tokens per second)\n",
      "llama_print_timings: prompt eval time =    4527.68 ms /   850 tokens (    5.33 ms per token,   187.73 tokens per second)\n",
      "llama_print_timings:        eval time =    6772.91 ms /   255 runs   (   26.56 ms per token,    37.65 tokens per second)\n",
      "llama_print_timings:       total time =   11679.37 ms /  1105 tokens\n",
      "Llama.generate: prefix-match hit\n"
     ]
    },
    {
     "name": "stdout",
     "output_type": "stream",
     "text": [
      "\"Hana and Alice murder case\") is a Japanese rotoscoped youth drama film written and directed by Shunji Iwai.\n",
      "++++++++++++++++++++++++++++++++++++\n",
      "[{'human': 'Shunji Iwai', 'film': 'Hana and Alice murder case'}]\n",
      "++++++++++++++++++++++++++++++++++++\n"
     ]
    },
    {
     "name": "stderr",
     "output_type": "stream",
     "text": [
      "\n",
      "llama_print_timings:        load time =     194.16 ms\n",
      "llama_print_timings:      sample time =      21.66 ms /   256 runs   (    0.08 ms per token, 11817.38 tokens per second)\n",
      "llama_print_timings: prompt eval time =    2411.34 ms /   452 tokens (    5.33 ms per token,   187.45 tokens per second)\n",
      "llama_print_timings:        eval time =    6534.71 ms /   255 runs   (   25.63 ms per token,    39.02 tokens per second)\n",
      "llama_print_timings:       total time =    9316.87 ms /   707 tokens\n",
      " 90%|█████████ | 90/100 [27:28<03:14, 19.45s/it]Llama.generate: prefix-match hit\n"
     ]
    },
    {
     "name": "stdout",
     "output_type": "stream",
     "text": [
      "{'triplets': [{'sub': 'Hana and Alice murder case', 'rel': 'director', 'obj': 'Shunji Iwai'}, {'sub': 'Hana and Alice murder case', 'rel': 'screenwriter', 'obj': 'Shunji Iwai'}, {'sub': 'Hana and Alice murder case', 'rel': 'genre', 'obj': 'youth drama'}, {'sub': 'Hana and Alice murder case', 'rel': 'based on', 'obj': 'written work'}, {'sub': 'Hana and Alice murder case', 'rel': 'production company', 'obj': 'film production company'}, {'sub': 'Hana and Alice murder case', 'rel': 'country of origin', 'obj': 'Japan'}, {'sub': 'Hana and Alice'}]}\n",
      "====================================\n",
      "{'model': 'openchat-3.5-0106.Q8_0.gguf', 'sent': '\"Hana and Alice murder case\") is a Japanese rotoscoped youth drama film written and directed by Shunji Iwai.', 'triples': [{'sub': 'Hana and Alice murder case', 'rel': 'director', 'obj': 'Shunji Iwai'}, {'sub': 'Hana and Alice murder case', 'rel': 'screenwriter', 'obj': 'Shunji Iwai'}, {'sub': 'Hana and Alice murder case', 'rel': 'genre', 'obj': 'youth drama'}, {'sub': 'Hana and Alice murder case', 'rel': 'based on', 'obj': 'written work'}, {'sub': 'Hana and Alice murder case', 'rel': 'production company', 'obj': 'film production company'}, {'sub': 'Hana and Alice murder case', 'rel': 'country of origin', 'obj': 'Japan'}, {'sub': 'Hana and Alice'}]}\n",
      "====================================\n"
     ]
    },
    {
     "name": "stderr",
     "output_type": "stream",
     "text": [
      "\n",
      "llama_print_timings:        load time =     194.16 ms\n",
      "llama_print_timings:      sample time =      21.75 ms /   256 runs   (    0.08 ms per token, 11771.74 tokens per second)\n",
      "llama_print_timings: prompt eval time =    4531.48 ms /   852 tokens (    5.32 ms per token,   188.02 tokens per second)\n",
      "llama_print_timings:        eval time =    6780.03 ms /   255 runs   (   26.59 ms per token,    37.61 tokens per second)\n",
      "llama_print_timings:       total time =   11696.08 ms /  1107 tokens\n",
      " 91%|█████████ | 91/100 [27:39<02:34, 17.13s/it]Llama.generate: prefix-match hit\n"
     ]
    },
    {
     "name": "stdout",
     "output_type": "stream",
     "text": [
      "Jones wrote the plot with Michael Maltese, while animation was by Dick Thompson, Ben Washam, Ken Harris and Don Towsley.\n",
      "++++++++++++++++++++++++++++++++++++\n",
      "[{'human': 'Don Towsley'}]\n",
      "++++++++++++++++++++++++++++++++++++\n",
      "{'triplets': []}\n",
      "====================================\n",
      "{'model': 'openchat-3.5-0106.Q8_0.gguf', 'sent': 'Jones wrote the plot with Michael Maltese, while animation was by Dick Thompson, Ben Washam, Ken Harris and Don Towsley.', 'triples': []}\n",
      "====================================\n"
     ]
    },
    {
     "name": "stderr",
     "output_type": "stream",
     "text": [
      "\n",
      "llama_print_timings:        load time =     194.16 ms\n",
      "llama_print_timings:      sample time =      22.06 ms /   256 runs   (    0.09 ms per token, 11602.61 tokens per second)\n",
      "llama_print_timings: prompt eval time =      86.11 ms /    15 tokens (    5.74 ms per token,   174.20 tokens per second)\n",
      "llama_print_timings:        eval time =    6768.09 ms /   255 runs   (   26.54 ms per token,    37.68 tokens per second)\n",
      "llama_print_timings:       total time =    7196.44 ms /   270 tokens\n",
      " 92%|█████████▏| 92/100 [27:46<01:53, 14.15s/it]Llama.generate: prefix-match hit\n"
     ]
    },
    {
     "name": "stdout",
     "output_type": "stream",
     "text": [
      "The story was created by Jack Hannah and Carl Barks.\n",
      "++++++++++++++++++++++++++++++++++++\n",
      "[{'human': 'Carl Barks'}]\n",
      "++++++++++++++++++++++++++++++++++++\n",
      "{'triplets': []}\n",
      "====================================\n",
      "{'model': 'openchat-3.5-0106.Q8_0.gguf', 'sent': 'The story was created by Jack Hannah and Carl Barks.', 'triples': []}\n",
      "====================================\n"
     ]
    },
    {
     "name": "stderr",
     "output_type": "stream",
     "text": [
      "\n",
      "llama_print_timings:        load time =     194.16 ms\n",
      "llama_print_timings:      sample time =      21.92 ms /   256 runs   (    0.09 ms per token, 11679.36 tokens per second)\n",
      "llama_print_timings: prompt eval time =     255.15 ms /    40 tokens (    6.38 ms per token,   156.77 tokens per second)\n",
      "llama_print_timings:        eval time =    6783.31 ms /   255 runs   (   26.60 ms per token,    37.59 tokens per second)\n",
      "llama_print_timings:       total time =    7380.79 ms /   295 tokens\n",
      "Llama.generate: prefix-match hit\n"
     ]
    },
    {
     "name": "stdout",
     "output_type": "stream",
     "text": [
      "DC Showcase: Catwoman, also titled as simply Catwoman, is a 2011 short animated film, directed by Lauren Montgomery and written by Paul Dini.\n",
      "++++++++++++++++++++++++++++++++++++\n",
      "[{'human': 'Paul Dini', 'film': 'DC Showcase: Catwoman'}]\n",
      "++++++++++++++++++++++++++++++++++++\n"
     ]
    },
    {
     "name": "stderr",
     "output_type": "stream",
     "text": [
      "\n",
      "llama_print_timings:        load time =     194.16 ms\n",
      "llama_print_timings:      sample time =      22.09 ms /   256 runs   (    0.09 ms per token, 11586.33 tokens per second)\n",
      "llama_print_timings: prompt eval time =    2413.98 ms /   458 tokens (    5.27 ms per token,   189.73 tokens per second)\n",
      "llama_print_timings:        eval time =    6545.80 ms /   255 runs   (   25.67 ms per token,    38.96 tokens per second)\n",
      "llama_print_timings:       total time =    9314.18 ms /   713 tokens\n",
      " 93%|█████████▎| 93/100 [28:03<01:44, 14.92s/it]Llama.generate: prefix-match hit\n"
     ]
    },
    {
     "name": "stdout",
     "output_type": "stream",
     "text": [
      "{'triplets': [{'sub': 'DC Showcase: Catwoman', 'rel': 'director', 'obj': 'Lauren Montgomery'}, {'sub': 'DC Showcase: Catwoman', 'rel': 'screenwriter', 'obj': 'Paul Dini'}, {'sub': 'DC Showcase: Catwoman', 'rel': 'genre', 'obj': 'animated film'}, {'sub': 'DC Showcase: Catwoman', 'rel': 'based on', 'obj': 'Catwoman'}, {'sub': 'DC Showcase: Catwoman', 'rel': 'cast member', 'obj': 'Paul Dini'}]}\n",
      "====================================\n",
      "{'model': 'openchat-3.5-0106.Q8_0.gguf', 'sent': 'DC Showcase: Catwoman, also titled as simply Catwoman, is a 2011 short animated film, directed by Lauren Montgomery and written by Paul Dini.', 'triples': [{'sub': 'DC Showcase: Catwoman', 'rel': 'director', 'obj': 'Lauren Montgomery'}, {'sub': 'DC Showcase: Catwoman', 'rel': 'screenwriter', 'obj': 'Paul Dini'}, {'sub': 'DC Showcase: Catwoman', 'rel': 'genre', 'obj': 'animated film'}, {'sub': 'DC Showcase: Catwoman', 'rel': 'based on', 'obj': 'Catwoman'}, {'sub': 'DC Showcase: Catwoman', 'rel': 'cast member', 'obj': 'Paul Dini'}]}\n",
      "====================================\n"
     ]
    },
    {
     "name": "stderr",
     "output_type": "stream",
     "text": [
      "\n",
      "llama_print_timings:        load time =     194.16 ms\n",
      "llama_print_timings:      sample time =      22.34 ms /   256 runs   (    0.09 ms per token, 11459.27 tokens per second)\n",
      "llama_print_timings: prompt eval time =    4529.50 ms /   859 tokens (    5.27 ms per token,   189.65 tokens per second)\n",
      "llama_print_timings:        eval time =    6782.70 ms /   255 runs   (   26.60 ms per token,    37.60 tokens per second)\n",
      "llama_print_timings:       total time =   11674.31 ms /  1114 tokens\n",
      " 94%|█████████▍| 94/100 [28:15<01:23, 13.94s/it]Llama.generate: prefix-match hit\n"
     ]
    },
    {
     "name": "stdout",
     "output_type": "stream",
     "text": [
      "The short was directed by Jack King and written by Carl Barks, Chuck Couch, Jack Hannah, Harry Reeves, Milt Schaffer, and Frank Tashlin.\n",
      "++++++++++++++++++++++++++++++++++++\n",
      "[{'human': 'Frank Tashlin'}]\n",
      "++++++++++++++++++++++++++++++++++++\n",
      "{'triplets': []}\n",
      "====================================\n",
      "{'model': 'openchat-3.5-0106.Q8_0.gguf', 'sent': 'The short was directed by Jack King and written by Carl Barks, Chuck Couch, Jack Hannah, Harry Reeves, Milt Schaffer, and Frank Tashlin.', 'triples': []}\n",
      "====================================\n"
     ]
    },
    {
     "name": "stderr",
     "output_type": "stream",
     "text": [
      "\n",
      "llama_print_timings:        load time =     194.16 ms\n",
      "llama_print_timings:      sample time =      22.05 ms /   256 runs   (    0.09 ms per token, 11612.61 tokens per second)\n",
      "llama_print_timings: prompt eval time =     170.15 ms /    22 tokens (    7.73 ms per token,   129.30 tokens per second)\n",
      "llama_print_timings:        eval time =    6771.06 ms /   255 runs   (   26.55 ms per token,    37.66 tokens per second)\n",
      "llama_print_timings:       total time =    7257.32 ms /   277 tokens\n",
      "Llama.generate: prefix-match hit\n"
     ]
    },
    {
     "name": "stdout",
     "output_type": "stream",
     "text": [
      "Frank Film is a 1973 American animated short film by Frank Mouris.\n",
      "++++++++++++++++++++++++++++++++++++\n",
      "[{'human': 'Frank Mouris', 'film': 'Frank Film', 'country': 'American'}]\n",
      "++++++++++++++++++++++++++++++++++++\n"
     ]
    },
    {
     "name": "stderr",
     "output_type": "stream",
     "text": [
      "\n",
      "llama_print_timings:        load time =     194.16 ms\n",
      "llama_print_timings:      sample time =      22.27 ms /   256 runs   (    0.09 ms per token, 11493.74 tokens per second)\n",
      "llama_print_timings: prompt eval time =    2331.08 ms /   445 tokens (    5.24 ms per token,   190.90 tokens per second)\n",
      "llama_print_timings:        eval time =    6532.16 ms /   255 runs   (   25.62 ms per token,    39.04 tokens per second)\n",
      "llama_print_timings:       total time =    9201.99 ms /   700 tokens\n",
      " 95%|█████████▌| 95/100 [28:31<01:13, 14.70s/it]Llama.generate: prefix-match hit\n"
     ]
    },
    {
     "name": "stdout",
     "output_type": "stream",
     "text": [
      "{'triplets': [{'sub': 'Frank Film', 'rel': 'director', 'obj': 'Frank Mouris'}, {'sub': 'Frank Film', 'rel': 'screenwriter', 'obj': 'Frank Mouris'}, {'sub': 'Frank Film', 'rel': 'genre', 'obj': 'animated short'}, {'sub': 'Frank Film', 'rel': 'based on', 'obj': 'Frank Mouris'}, {'sub': 'Frank Film', 'rel': 'cast member', 'obj': 'Frank Mouris'}, {'sub': 'Frank Film', 'rel': 'award received', 'obj': 'Frank Mouris'}, {'sub': 'Frank Film', 'rel': 'production company'}]}\n",
      "====================================\n",
      "{'model': 'openchat-3.5-0106.Q8_0.gguf', 'sent': 'Frank Film is a 1973 American animated short film by Frank Mouris.', 'triples': [{'sub': 'Frank Film', 'rel': 'director', 'obj': 'Frank Mouris'}, {'sub': 'Frank Film', 'rel': 'screenwriter', 'obj': 'Frank Mouris'}, {'sub': 'Frank Film', 'rel': 'genre', 'obj': 'animated short'}, {'sub': 'Frank Film', 'rel': 'based on', 'obj': 'Frank Mouris'}, {'sub': 'Frank Film', 'rel': 'cast member', 'obj': 'Frank Mouris'}, {'sub': 'Frank Film', 'rel': 'award received', 'obj': 'Frank Mouris'}, {'sub': 'Frank Film', 'rel': 'production company'}]}\n",
      "====================================\n"
     ]
    },
    {
     "name": "stderr",
     "output_type": "stream",
     "text": [
      "\n",
      "llama_print_timings:        load time =     194.16 ms\n",
      "llama_print_timings:      sample time =      22.16 ms /   256 runs   (    0.09 ms per token, 11551.83 tokens per second)\n",
      "llama_print_timings: prompt eval time =    4532.26 ms /   855 tokens (    5.30 ms per token,   188.65 tokens per second)\n",
      "llama_print_timings:        eval time =    6779.98 ms /   255 runs   (   26.59 ms per token,    37.61 tokens per second)\n",
      "llama_print_timings:       total time =   11672.92 ms /  1110 tokens\n",
      "Llama.generate: prefix-match hit\n"
     ]
    },
    {
     "name": "stdout",
     "output_type": "stream",
     "text": [
      "2010: The Year We Make Contact is a 1984 science fiction film written, produced, shot and directed by Peter Hyams.\n",
      "++++++++++++++++++++++++++++++++++++\n",
      "[{'human': 'Peter Hyams', 'film': '2010: The Year We Make Contact', 'genre': 'science fiction'}]\n",
      "++++++++++++++++++++++++++++++++++++\n"
     ]
    },
    {
     "name": "stderr",
     "output_type": "stream",
     "text": [
      "\n",
      "llama_print_timings:        load time =     194.16 ms\n",
      "llama_print_timings:      sample time =      22.03 ms /   256 runs   (    0.09 ms per token, 11619.99 tokens per second)\n",
      "llama_print_timings: prompt eval time =    2497.18 ms /   467 tokens (    5.35 ms per token,   187.01 tokens per second)\n",
      "llama_print_timings:        eval time =    6550.23 ms /   255 runs   (   25.69 ms per token,    38.93 tokens per second)\n",
      "llama_print_timings:       total time =    9377.10 ms /   722 tokens\n",
      " 96%|█████████▌| 96/100 [28:52<01:06, 16.61s/it]Llama.generate: prefix-match hit\n"
     ]
    },
    {
     "name": "stdout",
     "output_type": "stream",
     "text": [
      "{'triplets': [{'sub': '2010: The Year We Make Contact', 'rel': 'director', 'obj': 'Peter Hyams'}, {'sub': '2010: The Year We Make Contact', 'rel': 'screenwriter', 'obj': 'Peter Hyams'}, {'sub': '2010: The Year We Make Contact', 'rel': 'production company', 'obj': 'Peter Hyams'}, {'sub': '2010: The Year We Make Contact', 'rel': 'genre', 'obj': 'science fiction'}]}\n",
      "====================================\n",
      "{'model': 'openchat-3.5-0106.Q8_0.gguf', 'sent': '2010: The Year We Make Contact is a 1984 science fiction film written, produced, shot and directed by Peter Hyams.', 'triples': [{'sub': '2010: The Year We Make Contact', 'rel': 'director', 'obj': 'Peter Hyams'}, {'sub': '2010: The Year We Make Contact', 'rel': 'screenwriter', 'obj': 'Peter Hyams'}, {'sub': '2010: The Year We Make Contact', 'rel': 'production company', 'obj': 'Peter Hyams'}, {'sub': '2010: The Year We Make Contact', 'rel': 'genre', 'obj': 'science fiction'}]}\n",
      "====================================\n"
     ]
    },
    {
     "name": "stderr",
     "output_type": "stream",
     "text": [
      "\n",
      "llama_print_timings:        load time =     194.16 ms\n",
      "llama_print_timings:      sample time =      22.50 ms /   256 runs   (    0.09 ms per token, 11377.27 tokens per second)\n",
      "llama_print_timings: prompt eval time =    4616.34 ms /   869 tokens (    5.31 ms per token,   188.24 tokens per second)\n",
      "llama_print_timings:        eval time =    6789.09 ms /   255 runs   (   26.62 ms per token,    37.56 tokens per second)\n",
      "llama_print_timings:       total time =   11799.53 ms /  1124 tokens\n",
      "Llama.generate: prefix-match hit\n"
     ]
    },
    {
     "name": "stdout",
     "output_type": "stream",
     "text": [
      "The Disappearance of Haruhi Suzumiya is produced by Kyoto Animation, written by Fumihiko Shimo and directed by Tatsuya Ishihara and Yasuhiro Takemoto.\n",
      "++++++++++++++++++++++++++++++++++++\n",
      "[{'film_production_company': 'Kyoto Animation', 'human': 'Yasuhiro Takemoto'}]\n",
      "++++++++++++++++++++++++++++++++++++\n"
     ]
    },
    {
     "name": "stderr",
     "output_type": "stream",
     "text": [
      "\n",
      "llama_print_timings:        load time =     194.16 ms\n",
      "llama_print_timings:      sample time =      22.29 ms /   256 runs   (    0.09 ms per token, 11485.49 tokens per second)\n",
      "llama_print_timings: prompt eval time =    2498.41 ms /   475 tokens (    5.26 ms per token,   190.12 tokens per second)\n",
      "llama_print_timings:        eval time =    6557.31 ms /   255 runs   (   25.71 ms per token,    38.89 tokens per second)\n",
      "llama_print_timings:       total time =    9413.02 ms /   730 tokens\n",
      " 97%|█████████▋| 97/100 [29:14<00:53, 17.99s/it]Llama.generate: prefix-match hit\n"
     ]
    },
    {
     "name": "stdout",
     "output_type": "stream",
     "text": [
      "{'triplets': [{'sub': 'The Disappearance of Haruhi Suzumiya', 'rel': 'director', 'obj': 'Yasuhiro Takemoto'}, {'sub': 'The Disappearance of Haruhi Suzumiya', 'rel': 'screenwriter', 'obj': 'Fumihiko Shimo'}, {'sub': 'The Disappearance of Haruhi Suzumiya', 'rel': 'production company', 'obj': 'Kyoto Animation'}, {'sub': 'The Disappearance of Haruhi Suzumiya', 'rel': 'characters', 'obj': 'Haruhi Suzumiya'}, {'sub': 'The Disappearance of Haruhi Suzumiya', 'rel': 'narrative location', 'obj': 'city'}, {'sub': 'The Disappearance of Haruhi Suzumi'}]}\n",
      "====================================\n",
      "{'model': 'openchat-3.5-0106.Q8_0.gguf', 'sent': 'The Disappearance of Haruhi Suzumiya is produced by Kyoto Animation, written by Fumihiko Shimo and directed by Tatsuya Ishihara and Yasuhiro Takemoto.', 'triples': [{'sub': 'The Disappearance of Haruhi Suzumiya', 'rel': 'director', 'obj': 'Yasuhiro Takemoto'}, {'sub': 'The Disappearance of Haruhi Suzumiya', 'rel': 'screenwriter', 'obj': 'Fumihiko Shimo'}, {'sub': 'The Disappearance of Haruhi Suzumiya', 'rel': 'production company', 'obj': 'Kyoto Animation'}, {'sub': 'The Disappearance of Haruhi Suzumiya', 'rel': 'characters', 'obj': 'Haruhi Suzumiya'}, {'sub': 'The Disappearance of Haruhi Suzumiya', 'rel': 'narrative location', 'obj': 'city'}, {'sub': 'The Disappearance of Haruhi Suzumi'}]}\n",
      "====================================\n"
     ]
    },
    {
     "name": "stderr",
     "output_type": "stream",
     "text": [
      "\n",
      "llama_print_timings:        load time =     194.16 ms\n",
      "llama_print_timings:      sample time =      21.68 ms /   256 runs   (    0.08 ms per token, 11810.84 tokens per second)\n",
      "llama_print_timings: prompt eval time =    4533.65 ms /   859 tokens (    5.28 ms per token,   189.47 tokens per second)\n",
      "llama_print_timings:        eval time =    6780.85 ms /   255 runs   (   26.59 ms per token,    37.61 tokens per second)\n",
      "llama_print_timings:       total time =   11699.22 ms /  1114 tokens\n",
      " 98%|█████████▊| 98/100 [29:25<00:32, 16.11s/it]Llama.generate: prefix-match hit\n"
     ]
    },
    {
     "name": "stdout",
     "output_type": "stream",
     "text": [
      "The short was directed by Jack King and written by Carl Barks, Chuck Couch, Jack Hannah, Harry Reeves, Milt Schaffer, and Frank Tashlin.\n",
      "++++++++++++++++++++++++++++++++++++\n",
      "[{'human': 'Frank Tashlin'}]\n",
      "++++++++++++++++++++++++++++++++++++\n",
      "{'triplets': []}\n",
      "====================================\n",
      "{'model': 'openchat-3.5-0106.Q8_0.gguf', 'sent': 'The short was directed by Jack King and written by Carl Barks, Chuck Couch, Jack Hannah, Harry Reeves, Milt Schaffer, and Frank Tashlin.', 'triples': []}\n",
      "====================================\n"
     ]
    },
    {
     "name": "stderr",
     "output_type": "stream",
     "text": [
      "\n",
      "llama_print_timings:        load time =     194.16 ms\n",
      "llama_print_timings:      sample time =      22.50 ms /   256 runs   (    0.09 ms per token, 11377.27 tokens per second)\n",
      "llama_print_timings: prompt eval time =     171.29 ms /    32 tokens (    5.35 ms per token,   186.82 tokens per second)\n",
      "llama_print_timings:        eval time =    6774.64 ms /   255 runs   (   26.57 ms per token,    37.64 tokens per second)\n",
      "llama_print_timings:       total time =    7293.98 ms /   287 tokens\n",
      "Llama.generate: prefix-match hit\n"
     ]
    },
    {
     "name": "stdout",
     "output_type": "stream",
     "text": [
      "Jerry, Jerry, Quite Contrary is a 1966 Tom and Jerry short written, produced and directed by Chuck Jones.\n",
      "++++++++++++++++++++++++++++++++++++\n",
      "[{'human': 'Chuck Jones', 'film': 'Jerry, Jerry, Quite Contrary'}]\n",
      "++++++++++++++++++++++++++++++++++++\n"
     ]
    },
    {
     "name": "stderr",
     "output_type": "stream",
     "text": [
      "\n",
      "llama_print_timings:        load time =     194.16 ms\n",
      "llama_print_timings:      sample time =      21.30 ms /   256 runs   (    0.08 ms per token, 12017.09 tokens per second)\n",
      "llama_print_timings: prompt eval time =    2412.70 ms /   454 tokens (    5.31 ms per token,   188.17 tokens per second)\n",
      "llama_print_timings:        eval time =    6543.14 ms /   255 runs   (   25.66 ms per token,    38.97 tokens per second)\n",
      "llama_print_timings:       total time =    9311.27 ms /   709 tokens\n",
      " 99%|█████████▉| 99/100 [29:42<00:16, 16.26s/it]Llama.generate: prefix-match hit\n"
     ]
    },
    {
     "name": "stdout",
     "output_type": "stream",
     "text": [
      "{'triplets': [{'sub': 'Jerry, Jerry, Quite Contrary', 'rel': 'director', 'obj': 'Chuck Jones'}, {'sub': 'Jerry, Jerry, Quite Contrary', 'rel': 'screenwriter', 'obj': 'Chuck Jones'}, {'sub': 'Jerry, Jerry, Quite Contrary', 'rel': 'production company', 'obj': 'Chuck Jones'}]}\n",
      "====================================\n",
      "{'model': 'openchat-3.5-0106.Q8_0.gguf', 'sent': 'Jerry, Jerry, Quite Contrary is a 1966 Tom and Jerry short written, produced and directed by Chuck Jones.', 'triples': [{'sub': 'Jerry, Jerry, Quite Contrary', 'rel': 'director', 'obj': 'Chuck Jones'}, {'sub': 'Jerry, Jerry, Quite Contrary', 'rel': 'screenwriter', 'obj': 'Chuck Jones'}, {'sub': 'Jerry, Jerry, Quite Contrary', 'rel': 'production company', 'obj': 'Chuck Jones'}]}\n",
      "====================================\n"
     ]
    },
    {
     "name": "stderr",
     "output_type": "stream",
     "text": [
      "\n",
      "llama_print_timings:        load time =     194.16 ms\n",
      "llama_print_timings:      sample time =      22.34 ms /   256 runs   (    0.09 ms per token, 11459.78 tokens per second)\n",
      "llama_print_timings: prompt eval time =    4534.82 ms /   864 tokens (    5.25 ms per token,   190.53 tokens per second)\n",
      "llama_print_timings:        eval time =    6786.96 ms /   255 runs   (   26.62 ms per token,    37.57 tokens per second)\n",
      "llama_print_timings:       total time =   11702.70 ms /  1119 tokens\n",
      "Llama.generate: prefix-match hit\n"
     ]
    },
    {
     "name": "stdout",
     "output_type": "stream",
     "text": [
      "The short is directed by William Hanna and Joseph Barbera, composed by Scott Bradley, and animated by Ray Patterson, Irven Spence, Pete Burness, and Kenneth Muse.\n",
      "++++++++++++++++++++++++++++++++++++\n",
      "[{'human': 'Joseph Barbera', 'film_production_company': 'MGM'}]\n",
      "++++++++++++++++++++++++++++++++++++\n"
     ]
    },
    {
     "name": "stderr",
     "output_type": "stream",
     "text": [
      "\n",
      "llama_print_timings:        load time =     194.16 ms\n",
      "llama_print_timings:      sample time =      22.86 ms /   256 runs   (    0.09 ms per token, 11199.58 tokens per second)\n",
      "llama_print_timings: prompt eval time =    2496.14 ms /   466 tokens (    5.36 ms per token,   186.69 tokens per second)\n",
      "llama_print_timings:        eval time =    6545.91 ms /   255 runs   (   25.67 ms per token,    38.96 tokens per second)\n",
      "llama_print_timings:       total time =    9397.36 ms /   721 tokens\n",
      "100%|██████████| 100/100 [30:03<00:00, 18.03s/it]"
     ]
    },
    {
     "name": "stdout",
     "output_type": "stream",
     "text": [
      "{'triplets': [{'sub': 'Joseph Barbera', 'rel': 'director', 'obj': 'film'}, {'sub': 'Joseph Barbera', 'rel': 'screenwriter', 'obj': 'film'}, {'sub': 'Joseph Barbera', 'rel': 'production company', 'obj': 'MGM'}]}\n",
      "====================================\n",
      "{'model': 'openchat-3.5-0106.Q8_0.gguf', 'sent': 'The short is directed by William Hanna and Joseph Barbera, composed by Scott Bradley, and animated by Ray Patterson, Irven Spence, Pete Burness, and Kenneth Muse.', 'triples': [{'sub': 'Joseph Barbera', 'rel': 'director', 'obj': 'film'}, {'sub': 'Joseph Barbera', 'rel': 'screenwriter', 'obj': 'film'}, {'sub': 'Joseph Barbera', 'rel': 'production company', 'obj': 'MGM'}]}\n",
      "====================================\n"
     ]
    },
    {
     "name": "stderr",
     "output_type": "stream",
     "text": [
      "\n"
     ]
    }
   ],
   "source": [
    "test = builder.get_triplets()"
   ]
  },
  {
   "cell_type": "code",
   "execution_count": 65,
   "metadata": {},
   "outputs": [
    {
     "data": {
      "text/plain": [
       "[{'model': 'openchat-3.5-0106.Q8_0.gguf',\n",
       "  'sent': 'Bleach: Hell Verse (Japanese: BLEACH , Hepburn: BurÄ«chi Jigoku-Hen) is a 2010 Japanese animated film directed by Noriyuki Abe.',\n",
       "  'triples': [{'sub': 'Bleach: Hell Verse',\n",
       "    'rel': 'director',\n",
       "    'obj': 'Noriyuki Abe'}]},\n",
       " {'model': 'openchat-3.5-0106.Q8_0.gguf',\n",
       "  'sent': \"Keyboard Cat's original form was a video originally made in 1984 by Charlie Schmidt of his cat Fatso seemingly playing a piano (though manipulated by Schmidt off-camera) to a cheery tune.\",\n",
       "  'triples': [{'sub': 'Keyboard Cat',\n",
       "    'rel': 'director',\n",
       "    'obj': 'Charlie Schmidt'},\n",
       "   {'sub': 'Keyboard Cat', 'rel': 'screenwriter', 'obj': 'Charlie Schmidt'},\n",
       "   {'sub': 'Keyboard Cat', 'rel': 'genre', 'obj': 'comedy'},\n",
       "   {'sub': 'Keyboard Cat', 'rel': 'based on', 'obj': 'real life'},\n",
       "   {'sub': 'Keyboard Cat', 'rel': 'cast member', 'obj': 'Fatso'},\n",
       "   {'sub': 'Keyboard Cat',\n",
       "    'rel': 'production company',\n",
       "    'obj': 'Charlie Schmidt'},\n",
       "   {'sub': 'Keyboard Cat',\n",
       "    'rel': 'country of origin',\n",
       "    'obj': 'United States'}]},\n",
       " {'model': 'openchat-3.5-0106.Q8_0.gguf',\n",
       "  'sent': 'The series was directed by Mitsuko Kase (episodes 1-7) and Takashi Imanishi (episodes 8-13).',\n",
       "  'triples': []},\n",
       " {'model': 'openchat-3.5-0106.Q8_0.gguf',\n",
       "  'sent': 'Spirited Away (Japanese: , Hepburn: Sen to Chihiro no Kamikakushi, \"Sen and Chihiros Spiriting Away\") is a 2001 Japanese animated fantasy film written and directed by Hayao Miyazaki, animated by Studio Ghibli for Tokuma Shoten, Nippon Television Network, Dentsu, Buena Vista Home Entertainment, Tohokushinsha Film and Mitsubishi, and distributed by Toho.',\n",
       "  'triples': [{'sub': 'Spirited Away',\n",
       "    'rel': 'director',\n",
       "    'obj': 'Hayao Miyazaki'},\n",
       "   {'sub': 'Spirited Away', 'rel': 'screenwriter', 'obj': 'Hayao Miyazaki'},\n",
       "   {'sub': 'Spirited Away', 'rel': 'genre', 'obj': 'animated fantasy'},\n",
       "   {'sub': 'Spirited Away', 'rel': 'based on', 'obj': 'written work'},\n",
       "   {'sub': 'Spirited Away',\n",
       "    'rel': 'production company',\n",
       "    'obj': 'Studio Ghibli'},\n",
       "   {'sub': 'Spirited Away', 'rel': 'country of origin', 'obj': 'Japan'},\n",
       "   {'sub': 'Spirited Away'}]},\n",
       " {'model': 'openchat-3.5-0106.Q8_0.gguf',\n",
       "  'sent': 'Looney Tunes: Back in Action is a 2003 American live-action/animated comedy film directed by Joe Dante and written by Larry Doyle.',\n",
       "  'triples': [{'sub': 'Looney Tunes: Back in Action',\n",
       "    'rel': 'director',\n",
       "    'obj': 'Joe Dante'},\n",
       "   {'sub': 'Looney Tunes: Back in Action',\n",
       "    'rel': 'screenwriter',\n",
       "    'obj': 'Larry Doyle'},\n",
       "   {'sub': 'Looney Tunes: Back in Action', 'rel': 'genre', 'obj': 'comedy'},\n",
       "   {'sub': 'Looney Tunes: Back in Action',\n",
       "    'rel': 'based on',\n",
       "    'obj': 'written work'},\n",
       "   {'sub': 'Looney Tunes: Back in Action',\n",
       "    'rel': 'cast member',\n",
       "    'obj': 'Larry Doyle'},\n",
       "   {'sub': 'Looney Tunes: Back in Action',\n",
       "    'rel': 'award received',\n",
       "    'obj': 'award'},\n",
       "   {}]},\n",
       " {'model': 'openchat-3.5-0106.Q8_0.gguf',\n",
       "  'sent': 'The Life on the Earth - The Summer of Dioxin ( Inochi No Chikyuu - Dioxin No Natsu), also known as Tracing the Gray Summer, is a 2001 Japanese anime drama film by Satoshi Dezaki, a joint production between the Magic Bus and the GoGo Visual Planning which recounts the true story of the Seveso disaster, a chemical incident occurred over the Italian town of Seveso in 1976, which is still considered one of the worst ecological disasters in history.',\n",
       "  'triples': [{'sub': 'The Life on the Earth - The Summer of Dioxin',\n",
       "    'rel': 'director',\n",
       "    'obj': 'Satoshi Dezaki'},\n",
       "   {'sub': 'The Life on the Earth - The Summer of Dioxin',\n",
       "    'rel': 'screenwriter',\n",
       "    'obj': 'Satoshi Dezaki'},\n",
       "   {'sub': 'The Life on the Earth - The Summer of Dioxin',\n",
       "    'rel': 'genre',\n",
       "    'obj': 'anime drama'},\n",
       "   {'sub': 'The Life on the Earth - The Summer of Dioxin',\n",
       "    'rel': 'based on',\n",
       "    'obj': 'Seveso disaster'},\n",
       "   {'sub': 'The Life on the Earth - The Summer of Dioxin',\n",
       "    'rel': 'production company',\n",
       "    'obj': 'Magic Bus'},\n",
       "   {'sub': 'The Life on the Earth - The'}]},\n",
       " {'model': 'openchat-3.5-0106.Q8_0.gguf',\n",
       "  'sent': 'Directed by Richard Eichberg and Walter Summers The Flame of Love stars Anna May Wong and John Longden and has a running time of 74 minutes.',\n",
       "  'triples': [{'sub': 'The Flame of Love',\n",
       "    'rel': 'director',\n",
       "    'obj': 'Walter Summers'},\n",
       "   {'sub': 'The Flame of Love', 'rel': 'screenwriter', 'obj': 'unknown'},\n",
       "   {'sub': 'The Flame of Love', 'rel': 'genre', 'obj': 'unknown'},\n",
       "   {'sub': 'The Flame of Love', 'rel': 'based on', 'obj': 'unknown'},\n",
       "   {'sub': 'The Flame of Love', 'rel': 'cast member', 'obj': 'John Longden'},\n",
       "   {'sub': 'The Flame of Love', 'rel': 'award received', 'obj': 'unknown'},\n",
       "   {'sub': 'The Flame of Love', 'rel': 'production company', 'obj': ''}]},\n",
       " {'model': 'openchat-3.5-0106.Q8_0.gguf',\n",
       "  'sent': 'Metal Skin Panic MADOX-01 was directed and written by Shinji Aramaki.',\n",
       "  'triples': [{'sub': 'Metal Skin Panic MADOX-01',\n",
       "    'rel': 'director',\n",
       "    'obj': 'Shinji Aramaki'},\n",
       "   {'sub': 'Metal Skin Panic MADOX-01',\n",
       "    'rel': 'screenwriter',\n",
       "    'obj': 'Shinji Aramaki'}]},\n",
       " {'model': 'openchat-3.5-0106.Q8_0.gguf',\n",
       "  'sent': 'Directed by Noriyuki Abe, the film was released December 13, 2008 in Japan, later to be released in the US.',\n",
       "  'triples': []},\n",
       " {'model': 'openchat-3.5-0106.Q8_0.gguf',\n",
       "  'sent': 'Fullmetal Alchemist the Movie: Conqueror of Shamballa (Japanese: , Hepburn: GekijÅ\\x8dban Hagane no Renkinjutsushi: Shanbara o Yuku Mono) is a 2005 Japanese animated film directed by Seiji Mizushima and written by Sho Aikawa.',\n",
       "  'triples': [{'sub': 'Fullmetal Alchemist the Movie: Conqueror of Shamballa',\n",
       "    'rel': 'director',\n",
       "    'obj': 'Seiji Mizushima'},\n",
       "   {'sub': 'Fullmetal Alchemist the Movie: Conqueror of Shamballa',\n",
       "    'rel': 'screenwriter',\n",
       "    'obj': 'Sho Aikawa'},\n",
       "   {'sub': 'Fullmetal Alchemist the Movie: Conqueror of Shamballa',\n",
       "    'rel': 'genre',\n",
       "    'obj': 'animated'},\n",
       "   {'sub': 'Fullmetal Alchemist the Movie: Conqueror of Shamballa',\n",
       "    'rel': 'based on',\n",
       "    'obj': 'Fullmetal Alchemist'},\n",
       "   {'sub': 'Fullmetal Alchemist the Movie: Conqueror of Shamballa',\n",
       "    'rel': 'cast member',\n",
       "    'obj': 'Sho Aikawa'}]},\n",
       " {'model': 'openchat-3.5-0106.Q8_0.gguf',\n",
       "  'sent': \"Alice's Wonderland is a 1923 Walt Disney short silent film, produced in Kansas City, Missouri.\",\n",
       "  'triples': [{'sub': \"Alice's Wonderland\",\n",
       "    'rel': 'film',\n",
       "    'obj': 'Walt Disney'},\n",
       "   {'sub': \"Alice's Wonderland\",\n",
       "    'rel': 'production company',\n",
       "    'obj': 'Walt Disney'},\n",
       "   {'sub': \"Alice's Wonderland\",\n",
       "    'rel': 'narrative location',\n",
       "    'obj': 'Kansas City'},\n",
       "   {'sub': \"Alice's Wonderland\",\n",
       "    'rel': 'filming location',\n",
       "    'obj': 'Kansas City'},\n",
       "   {'sub': \"Alice's Wonderland\",\n",
       "    'rel': 'country of origin',\n",
       "    'obj': 'Missouri'}]},\n",
       " {'model': 'openchat-3.5-0106.Q8_0.gguf',\n",
       "  'sent': 'Welcome to Eltingville was written by Dorkin and Chuck Sheetz and received a positive reception.',\n",
       "  'triples': [{'sub': 'Welcome to Eltingville',\n",
       "    'rel': 'director',\n",
       "    'obj': 'Chuck Sheetz'},\n",
       "   {'sub': 'Welcome to Eltingville',\n",
       "    'rel': 'screenwriter',\n",
       "    'obj': 'Chuck Sheetz'},\n",
       "   {'sub': 'Welcome to Eltingville',\n",
       "    'rel': 'based on',\n",
       "    'obj': 'Welcome to Eltingville'}]},\n",
       " {'model': 'openchat-3.5-0106.Q8_0.gguf',\n",
       "  'sent': 'The Night of Taneyamagahara (, Taneyamagahara no Yoru) is a short anime film directed by Kazuo Oga and released by Studio Ghibli.',\n",
       "  'triples': [{'sub': 'The Night of Taneyamagahara',\n",
       "    'rel': 'director',\n",
       "    'obj': 'Kazuo Oga'},\n",
       "   {'sub': 'The Night of Taneyamagahara',\n",
       "    'rel': 'production company',\n",
       "    'obj': 'Studio Ghibli'}]},\n",
       " {'model': 'openchat-3.5-0106.Q8_0.gguf',\n",
       "  'sent': '\"The Magnificent World of El-Hazard\") is a Japanese anime franchise written by Ryoe Tsukimura and directed by Hiroki Hayashi.',\n",
       "  'triples': []},\n",
       " {'model': 'openchat-3.5-0106.Q8_0.gguf',\n",
       "  'sent': 'Daicon III was made by Hideaki Anno, Hiroyuki Yamaga and Takami Akai and Daicon IV credits twelve people, including Yamaga as the director and Anno and Akai as animation supervisors.',\n",
       "  'triples': []},\n",
       " {'model': 'openchat-3.5-0106.Q8_0.gguf',\n",
       "  'sent': 'The Disappearance of Haruhi Suzumiya is produced by Kyoto Animation, written by Fumihiko Shimo and directed by Tatsuya Ishihara and Yasuhiro Takemoto.',\n",
       "  'triples': [{'sub': 'The Disappearance of Haruhi Suzumiya',\n",
       "    'rel': 'director',\n",
       "    'obj': 'Yasuhiro Takemoto'},\n",
       "   {'sub': 'The Disappearance of Haruhi Suzumiya',\n",
       "    'rel': 'screenwriter',\n",
       "    'obj': 'Fumihiko Shimo'},\n",
       "   {'sub': 'The Disappearance of Haruhi Suzumiya',\n",
       "    'rel': 'production company',\n",
       "    'obj': 'Kyoto Animation'},\n",
       "   {'sub': 'The Disappearance of Haruhi Suzumiya',\n",
       "    'rel': 'characters',\n",
       "    'obj': 'Haruhi Suzumiya'},\n",
       "   {'sub': 'The Disappearance of Haruhi Suzumiya',\n",
       "    'rel': 'narrative location',\n",
       "    'obj': 'city'},\n",
       "   {'sub': 'The Disappearance of Haruhi Suzumi'}]},\n",
       " {'model': 'openchat-3.5-0106.Q8_0.gguf',\n",
       "  'sent': 'Who Framed Roger Rabbit is a 1988 American live-action/animated mystery comedy film directed by Robert Zemeckis, produced by Frank Marshall and Robert Watts, and written by Jeffrey Price and Peter S. Seaman.',\n",
       "  'triples': [{'sub': 'Who Framed Roger Rabbit',\n",
       "    'rel': 'director',\n",
       "    'obj': 'Robert Zemeckis'},\n",
       "   {'sub': 'Who Framed Roger Rabbit',\n",
       "    'rel': 'screenwriter',\n",
       "    'obj': 'Jeffrey Price'},\n",
       "   {'sub': 'Who Framed Roger Rabbit',\n",
       "    'rel': 'screenwriter',\n",
       "    'obj': 'Peter S. Seaman'},\n",
       "   {'sub': 'Who Framed Roger Rabbit',\n",
       "    'rel': 'production company',\n",
       "    'obj': 'Frank Marshall and Robert Watts'},\n",
       "   {'sub': 'Who Framed Roger Rabbit',\n",
       "    'rel': 'based on',\n",
       "    'obj': 'Who Framed Roger Rabbit'},\n",
       "   {'sub': 'Who Framed Roger Rabbit',\n",
       "    'rel': 'characters',\n",
       "    'obj': 'Roger Rabbit'}]},\n",
       " {'model': 'openchat-3.5-0106.Q8_0.gguf',\n",
       "  'sent': '\"Beyond the Clouds, the Promised Place\") is a 2004 Japanese anime film written, directed, produced, cinematographed, edited, and storyboarded by Makoto Shinkai in The Place Promised in Our Early Days\\'s feature film debut.',\n",
       "  'triples': [{'sub': 'Beyond the Clouds, the Promised Place',\n",
       "    'rel': 'director',\n",
       "    'obj': 'Makoto Shinkai'},\n",
       "   {'sub': 'Beyond the Clouds, the Promised Place',\n",
       "    'rel': 'screenwriter',\n",
       "    'obj': 'Makoto Shinkai'},\n",
       "   {'sub': 'Beyond the Clouds, the Promised Place',\n",
       "    'rel': 'genre',\n",
       "    'obj': 'anime'},\n",
       "   {'sub': 'Beyond the Clouds, the Promised Place',\n",
       "    'rel': 'based on',\n",
       "    'obj': 'The Place Promised in Our Early Days'},\n",
       "   {'sub': 'Beyond the Clouds, the Promised Place',\n",
       "    'rel': 'production company',\n",
       "    'obj': 'Makoto Shinkai'},\n",
       "   {'sub': 'Beyond the Clouds, the Prom'}]},\n",
       " {'model': 'openchat-3.5-0106.Q8_0.gguf',\n",
       "  'sent': 'Arcadia of My Youth is directed by Tomoharu Katsumata, with Kazuo Komatsubara as animation director.',\n",
       "  'triples': []},\n",
       " {'model': 'openchat-3.5-0106.Q8_0.gguf',\n",
       "  'sent': 'The film is directed by Raja Gosnell, who helmed the first, with all the main cast returning.',\n",
       "  'triples': []},\n",
       " {'model': 'openchat-3.5-0106.Q8_0.gguf',\n",
       "  'sent': 'The feature film directorial debut of John Lasseter, Toy Story was the first entirely computer-animated feature film, as well as the first feature film from Pixar.',\n",
       "  'triples': [{'sub': 'John Lasseter', 'rel': 'director', 'obj': 'Toy Story'},\n",
       "   {'sub': 'Toy Story', 'rel': 'screenwriter', 'obj': 'John Lasseter'},\n",
       "   {'sub': 'Toy Story', 'rel': 'production company', 'obj': 'Pixar'},\n",
       "   {'sub': 'Toy Story', 'rel': 'genre', 'obj': 'animation'},\n",
       "   {'sub': 'Toy Story', 'rel': 'characters', 'obj': 'Woody, Buzz Lightyear'},\n",
       "   {'sub': 'Toy Story', 'rel': 'narrative location', 'obj': 'Toy Story'},\n",
       "   {'sub': 'Toy Story', 'rel': 'filming location', 'obj': ''}]},\n",
       " {'model': 'openchat-3.5-0106.Q8_0.gguf',\n",
       "  'sent': 'In collaboration with Man Ray and Marc AllÃ©gret, Duchamp filmed early versions of the Rotoreliefs and Anemic Cinema named the first film version AnÃ©mic CinÃ©ma.',\n",
       "  'triples': [{'sub': 'Anémic Cinéma',\n",
       "    'rel': 'director',\n",
       "    'obj': 'Marc Allégret'}]},\n",
       " {'model': 'openchat-3.5-0106.Q8_0.gguf',\n",
       "  'sent': 'Coal Black and de Sebben Dwarfs is a 1943 Merrie Melodies animated cartoon directed by Bob Clampett.',\n",
       "  'triples': [{'sub': 'Coal Black and de Sebben Dwarfs',\n",
       "    'rel': 'director',\n",
       "    'obj': 'Bob Clampett'}]},\n",
       " {'model': 'openchat-3.5-0106.Q8_0.gguf',\n",
       "  'sent': \"Mobile Suit Gundam F91 was Gundam creator Yoshiyuki Tomino's attempt to launch a new Gundam saga, set 30 years after Char's Counterattack and 27 years after the later published Gundam Unicorn.\",\n",
       "  'triples': [{'sub': 'Mobile Suit Gundam F91',\n",
       "    'rel': 'director',\n",
       "    'obj': 'Yoshiyuki Tomino'},\n",
       "   {'sub': 'Mobile Suit Gundam F91',\n",
       "    'rel': 'screenwriter',\n",
       "    'obj': 'Yoshiyuki Tomino'},\n",
       "   {'sub': 'Mobile Suit Gundam F91', 'rel': 'genre', 'obj': 'Gundam'},\n",
       "   {'sub': 'Mobile Suit Gundam F91',\n",
       "    'rel': 'based on',\n",
       "    'obj': \"Char's Counterattack\"},\n",
       "   {'sub': 'Mobile Suit Gundam F91',\n",
       "    'rel': 'cast member',\n",
       "    'obj': 'Yoshiyuki Tomino'}]},\n",
       " {'model': 'openchat-3.5-0106.Q8_0.gguf',\n",
       "  'sent': 'Casanova Cat is a 1951 one-reel animated cartoon and is the 55th Tom and Jerry short directed by William Hanna and Joseph Barbera and produced by Fred Quimby.',\n",
       "  'triples': [{'sub': 'Casanova Cat',\n",
       "    'rel': 'director',\n",
       "    'obj': 'William Hanna'},\n",
       "   {'sub': 'Casanova Cat', 'rel': 'director', 'obj': 'Joseph Barbera'},\n",
       "   {'sub': 'Casanova Cat',\n",
       "    'rel': 'production company',\n",
       "    'obj': 'Fred Quimby'}]},\n",
       " {'model': 'openchat-3.5-0106.Q8_0.gguf',\n",
       "  'sent': 'Panda ! Go , Panda ! was created by the team of Isao Takahata (director), Hayao Miyazaki (writer, layout, scene design), Yoichi Kotabe (animation director) and Yasuo Otsuka (animation director, character design).',\n",
       "  'triples': []},\n",
       " {'model': 'openchat-3.5-0106.Q8_0.gguf',\n",
       "  'sent': 'The Wonderful World of Puss \\'n Boots (Japanese: , Hepburn: Nagagutsu o Haita Neko, literally \"Cat Who Wore Boots\") is a 1969 Japanese traditional animation action-comedy musical feature film, the 15th cinema feature produced by TÅ\\x8dei Animation (then TÅ\\x8dei DÅ\\x8dga) and the second to be directed by Kimio Yabuki.',\n",
       "  'triples': []},\n",
       " {'model': 'openchat-3.5-0106.Q8_0.gguf',\n",
       "  'sent': 'Written by series creator Seth MacFarlane and directed by Peter Shin, a rough-cut version of this episode originally aired on December 20, 1998, on the Fox network in the United States; a final version was later aired as a sneak peek of the show on January 31, 1999, following Super Bowl XXXIII.',\n",
       "  'triples': []},\n",
       " {'model': 'openchat-3.5-0106.Q8_0.gguf',\n",
       "  'sent': 'How a Mosquito Operates is a 1912 silent animated film by American cartoonist Winsor McCay.',\n",
       "  'triples': [{'sub': 'How a Mosquito Operates',\n",
       "    'rel': 'director',\n",
       "    'obj': 'Winsor McCay'},\n",
       "   {'sub': 'How a Mosquito Operates', 'rel': 'genre', 'obj': 'animated film'},\n",
       "   {'sub': 'How a Mosquito Operates',\n",
       "    'rel': 'country of origin',\n",
       "    'obj': 'United States'}]},\n",
       " {'model': 'openchat-3.5-0106.Q8_0.gguf',\n",
       "  'sent': 'Bead Game (French: Histoire de perles) is a 1977 animated short film by Ishu Patel, created by arranging beads into the shapes of real and mythical creatures, who absorb and devour one another, thus, evolving into scenes of modern human warfare.',\n",
       "  'triples': [{'sub': 'Bead Game', 'rel': 'director', 'obj': 'Ishu Patel'},\n",
       "   {'sub': 'Bead Game', 'rel': 'genre', 'obj': 'animated short film'},\n",
       "   {'sub': 'Ishu Patel', 'rel': 'cast member', 'obj': 'Bead Game'}]},\n",
       " {'model': 'openchat-3.5-0106.Q8_0.gguf',\n",
       "  'sent': 'Cannery Rodent is a 1967 Tom and Jerry cartoon produced, written and directed by Chuck Jones.',\n",
       "  'triples': [{'sub': 'Cannery Rodent',\n",
       "    'rel': 'director',\n",
       "    'obj': 'Chuck Jones'},\n",
       "   {'sub': 'Cannery Rodent', 'rel': 'screenwriter', 'obj': 'Chuck Jones'},\n",
       "   {'sub': 'Cannery Rodent',\n",
       "    'rel': 'production company',\n",
       "    'obj': 'Chuck Jones'}]},\n",
       " {'model': 'openchat-3.5-0106.Q8_0.gguf',\n",
       "  'sent': \"Jack and the Witch was developed by JirÅ\\x8d Sekimasa, Seiichi Moro and Takeshi Ariga, written by Shin'ichi Sekizawa and Susumu Takaku and directed by Taiji Yabushita and has an essentially original story, though one which alludes in structure and character names to the Jack tales and Beowulf, both of English folklore.\",\n",
       "  'triples': []},\n",
       " {'model': 'openchat-3.5-0106.Q8_0.gguf',\n",
       "  'sent': 'Harvie Krumpet is a 2003 Australian clay animation comedy-drama short film written, directed and animated by Adam Elliot, and narrated by Geoffrey Rush.',\n",
       "  'triples': [{'sub': 'Harvie Krumpet',\n",
       "    'rel': 'director',\n",
       "    'obj': 'Adam Elliot'},\n",
       "   {'sub': 'Harvie Krumpet', 'rel': 'screenwriter', 'obj': 'Adam Elliot'},\n",
       "   {'sub': 'Harvie Krumpet', 'rel': 'genre', 'obj': 'comedy-drama'},\n",
       "   {'sub': 'Harvie Krumpet', 'rel': 'based on', 'obj': 'written work'},\n",
       "   {'sub': 'Harvie Krumpet', 'rel': 'cast member', 'obj': 'Geoffrey Rush'},\n",
       "   {'sub': 'Harvie Krumpet',\n",
       "    'rel': 'production company',\n",
       "    'obj': 'Adam Elliot'},\n",
       "   {'sub': 'Harvie'}]},\n",
       " {'model': 'openchat-3.5-0106.Q8_0.gguf',\n",
       "  'sent': 'Vampire Hunter D: Bloodlust (D  Banpaia HantÄ\\x81 DÄ«: Buraddorasuto) is a 2000 anime dark fantasy film written and directed by Yoshiaki Kawajiri.',\n",
       "  'triples': [{'sub': 'Vampire Hunter D: Bloodlust',\n",
       "    'rel': 'director',\n",
       "    'obj': 'Yoshiaki Kawajiri'},\n",
       "   {'sub': 'Vampire Hunter D: Bloodlust',\n",
       "    'rel': 'screenwriter',\n",
       "    'obj': 'Yoshiaki Kawajiri'},\n",
       "   {'sub': 'Vampire Hunter D: Bloodlust',\n",
       "    'rel': 'genre',\n",
       "    'obj': 'anime dark fantasy'},\n",
       "   {'sub': 'Vampire Hunter D: Bloodlust',\n",
       "    'rel': 'based on',\n",
       "    'obj': 'written work'},\n",
       "   {'sub': 'Vampire Hunter D: Bloodlust',\n",
       "    'rel': 'cast member',\n",
       "    'obj': 'Yoshiaki Kawajiri'}]},\n",
       " {'model': 'openchat-3.5-0106.Q8_0.gguf',\n",
       "  'sent': 'I Love to Singa is a 1936 Warner Bros. Merrie Melodies animated cartoon directed by Tex Avery.',\n",
       "  'triples': [{'sub': 'I Love to Singa',\n",
       "    'rel': 'director',\n",
       "    'obj': 'Tex Avery'},\n",
       "   {'sub': 'I Love to Singa',\n",
       "    'rel': 'production company',\n",
       "    'obj': 'Warner Bros.'},\n",
       "   {'sub': 'I Love to Singa', 'rel': 'genre', 'obj': 'animated cartoon'},\n",
       "   {'sub': 'I Love to Singa', 'rel': 'characters', 'obj': 'film character'},\n",
       "   {'sub': 'I Love to Singa', 'rel': 'narrative location', 'obj': 'city'},\n",
       "   {'sub': 'I Love to Singa', 'rel': 'filming location', 'obj': 'city'}]},\n",
       " {'model': 'openchat-3.5-0106.Q8_0.gguf',\n",
       "  'sent': \"Arthur 3: The War of the Two Worlds (French: Arthur et la guerre des deux mondes, also known in North America as Arthur and the Invisibles 3 or simply Arthur 3) is a 2010 English-language French animated/live-action feature film co-written, co-produced and directed by Luc Besson, based on Arthur 3 : The War of the Two Worlds's novel of the same title and starring Freddie Highmore and the other actors that reprise for the movie.\",\n",
       "  'triples': [{'sub': 'Arthur 3: The War of the Two Worlds',\n",
       "    'rel': 'director',\n",
       "    'obj': 'Luc Besson'},\n",
       "   {'sub': 'Arthur 3: The War of the Two Worlds',\n",
       "    'rel': 'screenwriter',\n",
       "    'obj': 'Luc Besson'},\n",
       "   {'sub': 'Arthur 3: The War of the Two Worlds',\n",
       "    'rel': 'genre',\n",
       "    'obj': 'animated/live-action feature film'},\n",
       "   {'sub': 'Arthur 3: The War of the Two Worlds',\n",
       "    'rel': 'based on',\n",
       "    'obj': 'Arthur 3 : The War of the Two Worlds'},\n",
       "   {'sub': 'Arthur 3: The War of the Two Worlds',\n",
       "    'rel': 'cast member',\n",
       "    'obj': 'Freddie Highmore'}]},\n",
       " {'model': 'openchat-3.5-0106.Q8_0.gguf',\n",
       "  'sent': 'Castle in the Sky (Japanese: , Hepburn: Tenkū no Shiro Rapyuta), known as Laputa: Castle in the Sky in Europe and Australia, is a 1986 Japanese animated fantasy-adventure film written and directed by Hayao Miyazaki.',\n",
       "  'triples': [{'sub': 'Castle in the Sky',\n",
       "    'rel': 'director',\n",
       "    'obj': 'Hayao Miyazaki'},\n",
       "   {'sub': 'Castle in the Sky',\n",
       "    'rel': 'screenwriter',\n",
       "    'obj': 'Hayao Miyazaki'},\n",
       "   {'sub': 'Castle in the Sky', 'rel': 'genre', 'obj': 'fantasy-adventure'},\n",
       "   {'sub': 'Castle in the Sky', 'rel': 'based on', 'obj': 'written work'},\n",
       "   {'sub': 'Castle in the Sky',\n",
       "    'rel': 'production company',\n",
       "    'obj': 'film production company'},\n",
       "   {'sub': 'Castle in the Sky', 'rel': 'country of origin', 'obj': 'Japan'},\n",
       "   {'sub': 'Castle in the'}]},\n",
       " {'model': 'openchat-3.5-0106.Q8_0.gguf',\n",
       "  'sent': 'The Danish Poet (Norwegian: Den danske dikteren) is a 2006 animated short film written, directed, and animated by Torill Kove and narrated by Liv Ullmann.',\n",
       "  'triples': [{'sub': 'The Danish Poet',\n",
       "    'rel': 'director',\n",
       "    'obj': 'Torill Kove'},\n",
       "   {'sub': 'The Danish Poet', 'rel': 'screenwriter', 'obj': 'Torill Kove'},\n",
       "   {'sub': 'The Danish Poet', 'rel': 'genre', 'obj': 'animated short film'},\n",
       "   {'sub': 'The Danish Poet',\n",
       "    'rel': 'based on',\n",
       "    'obj': 'Norwegian: Den danske dikteren'},\n",
       "   {'sub': 'The Danish Poet', 'rel': 'cast member', 'obj': 'Liv Ullmann'},\n",
       "   {'sub': 'The Danish Poet',\n",
       "    'rel': 'award received',\n",
       "    'obj': 'Academy Award for Best Animated Short Film'}]},\n",
       " {'model': 'openchat-3.5-0106.Q8_0.gguf',\n",
       "  'sent': 'Toy Tinkers was directed by Jack Hannah and features original and adapted music by Paul J. Smith which includes the song \"Jingle Bells\" and Schubert\\'s Marche Militaire.',\n",
       "  'triples': [{'sub': 'Toy Tinkers', 'rel': 'director', 'obj': 'Jack Hannah'},\n",
       "   {'sub': 'Toy Tinkers', 'rel': 'screenwriter', 'obj': 'Jack Hannah'},\n",
       "   {'sub': 'Toy Tinkers', 'rel': 'genre', 'obj': 'animated'},\n",
       "   {'sub': 'Toy Tinkers', 'rel': 'based on', 'obj': 'Toy Tinkers'},\n",
       "   {'sub': 'Toy Tinkers', 'rel': 'cast member', 'obj': 'Jack Hannah'},\n",
       "   {'sub': 'Toy Tinkers', 'rel': 'award received', 'obj': 'Toy Tinkers'},\n",
       "   {'sub': 'Toy Tinkers', 'rel': 'production company'}]},\n",
       " {'model': 'openchat-3.5-0106.Q8_0.gguf',\n",
       "  'sent': \"Betty Boop's Bamboo Isle is a 1932 Fleischer Studios Betty Boop animated short, directed by Dave Fleischer.\",\n",
       "  'triples': [{'sub': \"Betty Boop's Bamboo Isle\",\n",
       "    'rel': 'director',\n",
       "    'obj': 'Dave Fleischer'},\n",
       "   {'sub': \"Betty Boop's Bamboo Isle\",\n",
       "    'rel': 'production company',\n",
       "    'obj': 'Fleischer Studios'}]},\n",
       " {'model': 'openchat-3.5-0106.Q8_0.gguf',\n",
       "  'sent': 'The Secret Life of Pets is directed by Chris Renaud, co-directed by Yarrow Cheney, written by Brian Lynch, Cinco Paul and Ken Daurio and is the first film of the franchise of the same name.',\n",
       "  'triples': []},\n",
       " {'model': 'openchat-3.5-0106.Q8_0.gguf',\n",
       "  'sent': 'In 1965, the animator Chuck Jones and the MGM Animation/Visual Arts studio worked with Norton Juster to adapt The Dot and the Line into a 10-minute animated short film for Metro-Goldwyn-Mayer, narrated by Robert Morley with the narration almost verbatim to the book.',\n",
       "  'triples': [{'sub': 'Chuck Jones',\n",
       "    'rel': 'director',\n",
       "    'obj': 'The Dot and the Line'},\n",
       "   {'sub': 'MGM Animation/Visual Arts',\n",
       "    'rel': 'production company',\n",
       "    'obj': 'The Dot and the Line'},\n",
       "   {'sub': 'The Dot and the Line',\n",
       "    'rel': 'film',\n",
       "    'obj': 'Metro-Goldwyn-Mayer'},\n",
       "   {'sub': 'Robert Morley',\n",
       "    'rel': 'narrator',\n",
       "    'obj': 'The Dot and the Line'}]},\n",
       " {'model': 'openchat-3.5-0106.Q8_0.gguf',\n",
       "  'sent': 'With a story loosely connected to the manga by Masamune Shirow, the film was written and directed by Ghost in the Shell director Mamoru Oshii.',\n",
       "  'triples': [{'sub': 'Ghost in the Shell',\n",
       "    'rel': 'director',\n",
       "    'obj': 'Mamoru Oshii'},\n",
       "   {'sub': 'Ghost in the Shell', 'rel': 'screenwriter', 'obj': 'Mamoru Oshii'},\n",
       "   {'sub': 'Ghost in the Shell', 'rel': 'genre', 'obj': 'science fiction'},\n",
       "   {'sub': 'Ghost in the Shell',\n",
       "    'rel': 'based on',\n",
       "    'obj': 'Ghost in the Shell'},\n",
       "   {'sub': 'Ghost in the Shell',\n",
       "    'rel': 'cast member',\n",
       "    'obj': 'Mamoru Oshii'}]},\n",
       " {'model': 'openchat-3.5-0106.Q8_0.gguf',\n",
       "  'sent': 'Dead Leaves is directed by Hiroyuki Imaishi.',\n",
       "  'triples': []},\n",
       " {'model': 'openchat-3.5-0106.Q8_0.gguf',\n",
       "  'sent': 'Gertie the Dinosaur is a 1914 animated short film by American cartoonist and animator Winsor McCay.',\n",
       "  'triples': [{'sub': 'Gertie the Dinosaur',\n",
       "    'rel': 'director',\n",
       "    'obj': 'Winsor McCay'},\n",
       "   {'sub': 'Gertie the Dinosaur',\n",
       "    'rel': 'screenwriter',\n",
       "    'obj': 'Winsor McCay'},\n",
       "   {'sub': 'Gertie the Dinosaur',\n",
       "    'rel': 'genre',\n",
       "    'obj': 'animated short film'},\n",
       "   {'sub': 'Gertie the Dinosaur', 'rel': 'based on', 'obj': 'written work'},\n",
       "   {'sub': 'Gertie the Dinosaur', 'rel': 'cast member', 'obj': 'Winsor McCay'},\n",
       "   {'sub': 'Gertie the Dinosaur', 'rel': 'award received', 'obj': 'award'},\n",
       "   {}]},\n",
       " {'model': 'openchat-3.5-0106.Q8_0.gguf',\n",
       "  'sent': 'Flight of the Butterflies is a 2012 Canadian documentary film directed and co-written by Mike Slee for 3D IMAX, starring Megan Follows, Gordon Pinsent, and Shaun Benson.',\n",
       "  'triples': [{'sub': 'Flight of the Butterflies',\n",
       "    'rel': 'director',\n",
       "    'obj': 'Mike Slee'},\n",
       "   {'sub': 'Flight of the Butterflies',\n",
       "    'rel': 'screenwriter',\n",
       "    'obj': 'Mike Slee'},\n",
       "   {'sub': 'Flight of the Butterflies', 'rel': 'genre', 'obj': 'documentary'},\n",
       "   {'sub': 'Flight of the Butterflies',\n",
       "    'rel': 'based on',\n",
       "    'obj': 'written work'},\n",
       "   {'sub': 'Flight of the Butterflies',\n",
       "    'rel': 'cast member',\n",
       "    'obj': 'Megan Follows'},\n",
       "   {'sub': 'Flight of the Butterflies',\n",
       "    'rel': 'cast member',\n",
       "    'obj': 'Gordon Pinsent'},\n",
       "   {}]},\n",
       " {'model': 'openchat-3.5-0106.Q8_0.gguf',\n",
       "  'sent': 'Les Vampires is a 1915-16 French silent crime serial film written and directed by Louis Feuillade.',\n",
       "  'triples': [{'sub': 'Les Vampires',\n",
       "    'rel': 'director',\n",
       "    'obj': 'Louis Feuillade'},\n",
       "   {'sub': 'Les Vampires', 'rel': 'screenwriter', 'obj': 'Louis Feuillade'},\n",
       "   {'sub': 'Les Vampires', 'rel': 'genre', 'obj': 'crime serial'},\n",
       "   {'sub': 'Les Vampires',\n",
       "    'rel': 'film_production_company',\n",
       "    'obj': 'French silent'}]},\n",
       " {'model': 'openchat-3.5-0106.Q8_0.gguf',\n",
       "  'sent': 'The Castle of Cagliostro (Japanese:  , Hepburn: Rupan Sansei: Kariosutoro no Shiro) is a 1979 Japanese animated action-adventure comedy film co-written and directed by Hayao Miyazaki as his feature film debut.',\n",
       "  'triples': [{'sub': 'The Castle of Cagliostro',\n",
       "    'rel': 'director',\n",
       "    'obj': 'Hayao Miyazaki'},\n",
       "   {'sub': 'The Castle of Cagliostro',\n",
       "    'rel': 'screenwriter',\n",
       "    'obj': 'Hayao Miyazaki'},\n",
       "   {'sub': 'The Castle of Cagliostro',\n",
       "    'rel': 'genre',\n",
       "    'obj': 'action-adventure comedy'}]},\n",
       " {'model': 'openchat-3.5-0106.Q8_0.gguf',\n",
       "  'sent': 'The featurette was directed by Wolfgang Reitherman, produced by Walt Disney Productions and released by Buena Vista Distribution Company on December 20, 1968 as a double feature with the live-action comedy feature The Horse in the Gray Flannel Suit.',\n",
       "  'triples': [{'sub': 'Wolfgang Reitherman', 'rel': 'director', 'obj': 'film'},\n",
       "   {'sub': 'Walt Disney Productions',\n",
       "    'rel': 'production company',\n",
       "    'obj': 'film'}]},\n",
       " {'model': 'openchat-3.5-0106.Q8_0.gguf',\n",
       "  'sent': 'The Case of the Stuttering Pig is a 1937 Warner Bros. Looney Tunes animated cartoon directed by Frank Tashlin.',\n",
       "  'triples': [{'sub': 'The Case of the Stuttering Pig',\n",
       "    'rel': 'director',\n",
       "    'obj': 'Frank Tashlin'}]},\n",
       " {'model': 'openchat-3.5-0106.Q8_0.gguf',\n",
       "  'sent': 'Upswept Hare is a 1952 Warner Bros. Merrie Melodies cartoon directed by Robert McKimson.',\n",
       "  'triples': [{'sub': 'Upswept Hare',\n",
       "    'rel': 'director',\n",
       "    'obj': 'Robert McKimson'},\n",
       "   {'sub': 'Upswept Hare',\n",
       "    'rel': 'production company',\n",
       "    'obj': 'Warner Bros.'}]},\n",
       " {'model': 'openchat-3.5-0106.Q8_0.gguf',\n",
       "  'sent': 'My Neighbor Totoro (Japanese: , Hepburn: Tonari no Totoro) is a 1988 Japanese animated fantasy film written and directed by Hayao Miyazaki and animated by Studio Ghibli for Tokuma Shoten.',\n",
       "  'triples': [{'sub': 'My Neighbor Totoro',\n",
       "    'rel': 'director',\n",
       "    'obj': 'Hayao Miyazaki'},\n",
       "   {'sub': 'My Neighbor Totoro',\n",
       "    'rel': 'screenwriter',\n",
       "    'obj': 'Hayao Miyazaki'},\n",
       "   {'sub': 'My Neighbor Totoro', 'rel': 'genre', 'obj': 'animated fantasy'},\n",
       "   {'sub': 'My Neighbor Totoro', 'rel': 'based on', 'obj': 'written work'},\n",
       "   {'sub': 'My Neighbor Totoro',\n",
       "    'rel': 'cast member',\n",
       "    'obj': 'Hayao Miyazaki'},\n",
       "   {'sub': 'My Neighbor Totoro', 'rel': 'award received', 'obj': 'award'},\n",
       "   {'sub': 'My Neighbor Tot'}]},\n",
       " {'model': 'openchat-3.5-0106.Q8_0.gguf',\n",
       "  'sent': 'Yankee Doodle Bugs is a 1954 Warner Bros. Looney Tunes cartoon short, written by Warren Foster and directed by Friz Freleng.',\n",
       "  'triples': [{'sub': 'Yankee Doodle Bugs',\n",
       "    'rel': 'director',\n",
       "    'obj': 'Friz Freleng'},\n",
       "   {'sub': 'Yankee Doodle Bugs',\n",
       "    'rel': 'screenwriter',\n",
       "    'obj': 'Warren Foster'},\n",
       "   {'sub': 'Yankee Doodle Bugs',\n",
       "    'rel': 'production company',\n",
       "    'obj': 'Warner Bros.'},\n",
       "   {'sub': 'Yankee Doodle Bugs',\n",
       "    'rel': 'genre',\n",
       "    'obj': 'Looney Tunes cartoon short'},\n",
       "   {'sub': 'Yankee Doodle Bugs',\n",
       "    'rel': 'characters',\n",
       "    'obj': 'Yankee Doodle Bugs'},\n",
       "   {'sub': 'Yankee Doodle Bugs', 'rel': 'narrative location'}]},\n",
       " {'model': 'openchat-3.5-0106.Q8_0.gguf',\n",
       "  'sent': 'Hollywood Steps Out is a 1941 short Merrie Melodies cartoon by Warner Bros., directed by Tex Avery.',\n",
       "  'triples': [{'sub': 'Hollywood Steps Out',\n",
       "    'rel': 'director',\n",
       "    'obj': 'Tex Avery'},\n",
       "   {'sub': 'Hollywood Steps Out',\n",
       "    'rel': 'film_production_company',\n",
       "    'obj': 'Warner Bros.'}]},\n",
       " {'model': 'openchat-3.5-0106.Q8_0.gguf',\n",
       "  'sent': \"Mickey's Christmas Carol is a 1983 American animated featurette directed and produced by Burny Mattinson.\",\n",
       "  'triples': [{'sub': \"Mickey's Christmas Carol\",\n",
       "    'rel': 'director',\n",
       "    'obj': 'Burny Mattinson'},\n",
       "   {'sub': \"Mickey's Christmas Carol\",\n",
       "    'rel': 'production company',\n",
       "    'obj': 'Burny Mattinson'}]},\n",
       " {'model': 'openchat-3.5-0106.Q8_0.gguf',\n",
       "  'sent': 'The Disappearance of Haruhi Suzumiya is produced by Kyoto Animation, written by Fumihiko Shimo and directed by Tatsuya Ishihara and Yasuhiro Takemoto.',\n",
       "  'triples': [{'sub': 'The Disappearance of Haruhi Suzumiya',\n",
       "    'rel': 'director',\n",
       "    'obj': 'Yasuhiro Takemoto'},\n",
       "   {'sub': 'The Disappearance of Haruhi Suzumiya',\n",
       "    'rel': 'screenwriter',\n",
       "    'obj': 'Fumihiko Shimo'},\n",
       "   {'sub': 'The Disappearance of Haruhi Suzumiya',\n",
       "    'rel': 'production company',\n",
       "    'obj': 'Kyoto Animation'},\n",
       "   {'sub': 'The Disappearance of Haruhi Suzumiya',\n",
       "    'rel': 'characters',\n",
       "    'obj': 'Haruhi Suzumiya'},\n",
       "   {'sub': 'The Disappearance of Haruhi Suzumiya',\n",
       "    'rel': 'narrative location',\n",
       "    'obj': 'city'},\n",
       "   {'sub': 'The Disappearance of Haruhi Suzumi'}]},\n",
       " {'model': 'openchat-3.5-0106.Q8_0.gguf',\n",
       "  'sent': \"Alice's Day at Sea is an animated short film that is part of the Alice Comedies that were directed by Walt Disney in 1924.\",\n",
       "  'triples': [{'sub': \"Alice's Day at Sea\",\n",
       "    'rel': 'director',\n",
       "    'obj': 'Walt Disney'},\n",
       "   {'sub': \"Alice's Day at Sea\", 'rel': 'genre', 'obj': 'animated short film'},\n",
       "   {'sub': \"Alice's Day at Sea\",\n",
       "    'rel': 'production company',\n",
       "    'obj': 'Walt Disney'}]},\n",
       " {'model': 'openchat-3.5-0106.Q8_0.gguf',\n",
       "  'sent': 'Black Soul (French: Ã\\x82me noire) is a 2002 animated short by Haitian Canadian filmmaker Martine Chartrand that uses paint-on-glass animation and music to portray defining moments of Black history.',\n",
       "  'triples': [{'sub': 'Martine Chartrand',\n",
       "    'rel': 'director',\n",
       "    'obj': 'Black Soul'},\n",
       "   {'sub': 'Black Soul', 'rel': 'genre', 'obj': 'animated short'},\n",
       "   {'sub': 'Black Soul',\n",
       "    'rel': 'production company',\n",
       "    'obj': 'Haitian Canadian'},\n",
       "   {'sub': 'Black Soul', 'rel': 'characters', 'obj': 'film character'},\n",
       "   {'sub': 'Black Soul', 'rel': 'narrative location', 'obj': 'Haitian'},\n",
       "   {'sub': 'Black Soul', 'rel': 'filming location', 'obj': 'Haitian'}]},\n",
       " {'model': 'openchat-3.5-0106.Q8_0.gguf',\n",
       "  'sent': 'Jones and Pabian wrote the story and Eugene Poddany scored music, while Maurice Noble did the layouts and Robert Gribbroek did the backgrounds.',\n",
       "  'triples': []},\n",
       " {'model': 'openchat-3.5-0106.Q8_0.gguf',\n",
       "  'sent': 'Hai-Tang is a 1930 British-German drama film directed by Richard Eichberg and Jean Kemm and starring Anna May Wong, Marcel Vibert and Robert Ancelin.',\n",
       "  'triples': [{'sub': 'Hai-Tang',\n",
       "    'rel': 'director',\n",
       "    'obj': 'Richard Eichberg'},\n",
       "   {'sub': 'Hai-Tang', 'rel': 'director', 'obj': 'Jean Kemm'},\n",
       "   {'sub': 'Hai-Tang', 'rel': 'genre', 'obj': 'drama'},\n",
       "   {'sub': 'Hai-Tang', 'rel': 'cast member', 'obj': 'Anna May Wong'},\n",
       "   {'sub': 'Hai-Tang', 'rel': 'cast member', 'obj': 'Marcel Vibert'},\n",
       "   {'sub': 'Hai-Tang', 'rel': 'cast member', 'obj': 'Robert Ancelin'},\n",
       "   {'sub': 'Hai-Tang'}]},\n",
       " {'model': 'openchat-3.5-0106.Q8_0.gguf',\n",
       "  'sent': \"The movie's original plot was written by Hiroshi Fujimoto and Motoo Abiko.\",\n",
       "  'triples': []},\n",
       " {'model': 'openchat-3.5-0106.Q8_0.gguf',\n",
       "  'sent': 'Slayers Return ( RETURN, SureiyÄ\\x81zu ritÄ\\x81n), also known as Slayers Movie 2 - The Return, is a 1996 Japanese comic fantasy anime film written by Hajime Kanzaka and directed by Kunihiko Yuyama and Hiroshi Watanabe.',\n",
       "  'triples': [{'sub': 'Slayers Return',\n",
       "    'rel': 'director',\n",
       "    'obj': 'Hiroshi Watanabe'},\n",
       "   {'sub': 'Slayers Return', 'rel': 'screenwriter', 'obj': 'Hajime Kanzaka'},\n",
       "   {'sub': 'Slayers Return', 'rel': 'genre', 'obj': 'comic fantasy'},\n",
       "   {'sub': 'Slayers Return', 'rel': 'based on', 'obj': 'written work'},\n",
       "   {'sub': 'Slayers Return', 'rel': 'cast member', 'obj': 'Hiroshi Watanabe'},\n",
       "   {'sub': 'Slayers Return', 'rel': 'award received', 'obj': 'award'},\n",
       "   {'sub': 'Slayers Return', 'rel': ''}]},\n",
       " {'model': 'openchat-3.5-0106.Q8_0.gguf',\n",
       "  'sent': 'The film was written, directed, narrated and featured the musical composition and performance of Pixar animator Bud Luckey.',\n",
       "  'triples': []},\n",
       " {'model': 'openchat-3.5-0106.Q8_0.gguf',\n",
       "  'sent': 'Who I Am And What I Want is a 7 minute animated short directed by Chris Shepherd and David Shrigley in 2005.',\n",
       "  'triples': [{'sub': 'Who I Am And What I Want',\n",
       "    'rel': 'director',\n",
       "    'obj': 'Chris Shepherd'},\n",
       "   {'sub': 'Who I Am And What I Want',\n",
       "    'rel': 'screenwriter',\n",
       "    'obj': 'David Shrigley'},\n",
       "   {'sub': 'Who I Am And What I Want',\n",
       "    'rel': 'genre',\n",
       "    'obj': 'animated short'},\n",
       "   {'sub': 'Who I Am And What I Want',\n",
       "    'rel': 'based on',\n",
       "    'obj': 'written work'},\n",
       "   {'sub': 'Who I Am And What I Want',\n",
       "    'rel': 'cast member',\n",
       "    'obj': 'Chris Shepherd'},\n",
       "   {'sub': 'Who I Am And What I Want',\n",
       "    'rel': 'award received',\n",
       "    'obj': 'award'},\n",
       "   {}]},\n",
       " {'model': 'openchat-3.5-0106.Q8_0.gguf',\n",
       "  'sent': \"Dug's Special Mission (2009) is a Pixar short CGI film, directed by Ronnie del Carmen.\",\n",
       "  'triples': [{'sub': \"Dug's Special Mission\",\n",
       "    'rel': 'director',\n",
       "    'obj': 'Ronnie del Carmen'}]},\n",
       " {'model': 'openchat-3.5-0106.Q8_0.gguf',\n",
       "  'sent': 'When Marnie Was There (Japanese: , Hepburn: Omoide no MÄ\\x81nÄ«, \"Marnie of [My] Memories\") is a 2014 Japanese anime drama film written and directed by Hiromasa Yonebayashi, produced by Studio Ghibli for Nippon Television Network, Dentsu, Hakuhodo DYMP, Walt Disney Japan, Mitsubishi, Toho and KDDI and distributed by Toho.',\n",
       "  'triples': [{'sub': 'When Marnie Was There',\n",
       "    'rel': 'director',\n",
       "    'obj': 'Hiromasa Yonebayashi'},\n",
       "   {'sub': 'When Marnie Was There',\n",
       "    'rel': 'screenwriter',\n",
       "    'obj': 'Hiromasa Yonebayashi'},\n",
       "   {'sub': 'When Marnie Was There', 'rel': 'genre', 'obj': 'anime drama'},\n",
       "   {'sub': 'When Marnie Was There', 'rel': 'based on', 'obj': 'written work'},\n",
       "   {'sub': 'When Marnie Was There',\n",
       "    'rel': 'production company',\n",
       "    'obj': 'Studio Ghibli'},\n",
       "   {'sub': 'When Marnie Was There',\n",
       "    'rel': 'country of origin',\n",
       "    'obj': 'Japan'},\n",
       "   {}]},\n",
       " {'model': 'openchat-3.5-0106.Q8_0.gguf',\n",
       "  'sent': 'Ultimately, the screenplay was credited to Chris Columbus and Richard Outten; the storyline and art style differed from the original version.',\n",
       "  'triples': []},\n",
       " {'model': 'openchat-3.5-0106.Q8_0.gguf',\n",
       "  'sent': \"Directed by Pete Docter and Roger L. Gould, Mike 's New Car is the first Pixar short to use dialogue and the first to take characters and situations from a previously established work.\",\n",
       "  'triples': [{'sub': \"Mike's New Car\",\n",
       "    'rel': 'director',\n",
       "    'obj': 'Roger L. Gould'},\n",
       "   {'sub': \"Mike's New Car\", 'rel': 'director', 'obj': 'Pete Docter'},\n",
       "   {'sub': \"Mike's New Car\", 'rel': 'screenwriter', 'obj': 'Roger L. Gould'},\n",
       "   {'sub': \"Mike's New Car\", 'rel': 'genre', 'obj': 'short film'},\n",
       "   {'sub': \"Mike's New Car\",\n",
       "    'rel': 'based on',\n",
       "    'obj': 'previously established work'},\n",
       "   {'sub': \"Mike's New Car\", 'rel': 'cast member', 'obj': 'Roger L. Gould'}]},\n",
       " {'model': 'openchat-3.5-0106.Q8_0.gguf',\n",
       "  'sent': 'Seryi Volk & Krasnaya Shapochka, (Grey Wolf and Little Red Riding Hood) is a claymation film, produced in the USSR by Garri Bardin in 1990, a year before the USSR actually did break up.',\n",
       "  'triples': [{'sub': 'Seryi Volk & Krasnaya Shapochka',\n",
       "    'rel': 'film',\n",
       "    'obj': 'claymation'},\n",
       "   {'sub': 'Seryi Volk & Krasnaya Shapochka',\n",
       "    'rel': 'production company',\n",
       "    'obj': 'Garri Bardin'},\n",
       "   {'sub': 'Garri Bardin',\n",
       "    'rel': 'film production company',\n",
       "    'obj': 'Garri Bardin'},\n",
       "   {'sub': 'Seryi Volk & Krasnaya Shapochka',\n",
       "    'rel': 'country of origin',\n",
       "    'obj': 'USSR'},\n",
       "   {'sub': 'USSR', 'rel': 'film', 'obj': 'Seryi Volk & Krasnaya Shapochka'}]},\n",
       " {'model': 'openchat-3.5-0106.Q8_0.gguf',\n",
       "  'sent': 'Puss Gets the Boot was directed by William Hanna, Joseph Barbera and Rudolf Ising, and produced by Rudolf Ising and Fred Quimby.',\n",
       "  'triples': [{'sub': 'Puss Gets the Boot',\n",
       "    'rel': 'director',\n",
       "    'obj': 'Rudolf Ising'},\n",
       "   {'sub': 'Puss Gets the Boot', 'rel': 'director', 'obj': 'William Hanna'},\n",
       "   {'sub': 'Puss Gets the Boot', 'rel': 'director', 'obj': 'Joseph Barbera'},\n",
       "   {'sub': 'Puss Gets the Boot',\n",
       "    'rel': 'production company',\n",
       "    'obj': 'Fred Quimby'},\n",
       "   {'sub': 'Puss Gets the Boot',\n",
       "    'rel': 'production company',\n",
       "    'obj': 'Rudolf Ising'}]},\n",
       " {'model': 'openchat-3.5-0106.Q8_0.gguf',\n",
       "  'sent': 'Superman II is a 1980 superhero film directed by Richard Lester and written by Mario Puzo and David and Leslie Newman from a story by Puzo based on the DC Comics character Superman.',\n",
       "  'triples': [{'sub': 'Superman II',\n",
       "    'rel': 'director',\n",
       "    'obj': 'Richard Lester'},\n",
       "   {'sub': 'Superman II', 'rel': 'screenwriter', 'obj': 'Mario Puzo'},\n",
       "   {'sub': 'Superman II', 'rel': 'screenwriter', 'obj': 'David Newman'},\n",
       "   {'sub': 'Superman II', 'rel': 'screenwriter', 'obj': 'Leslie Newman'},\n",
       "   {'sub': 'Superman II', 'rel': 'genre', 'obj': 'superhero'},\n",
       "   {'sub': 'Superman II', 'rel': 'based on', 'obj': 'DC Comics'},\n",
       "   {'sub': 'Superman II', 'rel': 'cast member', 'obj': 'Leslie New'}]},\n",
       " {'model': 'openchat-3.5-0106.Q8_0.gguf',\n",
       "  'sent': 'Tales of Vesperia : The First Strike is directed by Kanta Kamei and written by Reiko Yoshida, featuring the voice talents of KÅ\\x8dsuke Toriumi, Mamoru Miyano, Mai Nakahara, Rika Morinaga, and Eiji Takemoto.',\n",
       "  'triples': [{'sub': 'Tales of Vesperia: The First Strike',\n",
       "    'rel': 'director',\n",
       "    'obj': 'Kanta Kamei'},\n",
       "   {'sub': 'Tales of Vesperia: The First Strike',\n",
       "    'rel': 'screenwriter',\n",
       "    'obj': 'Reiko Yoshida'},\n",
       "   {'sub': 'Tales of Vesperia: The First Strike',\n",
       "    'rel': 'cast member',\n",
       "    'obj': 'Eiji Takemoto'}]},\n",
       " {'model': 'openchat-3.5-0106.Q8_0.gguf',\n",
       "  'sent': 'Partly Cloudy is a Pixar CGI animated short film written and directed by Peter Sohn and produced by Kevin Reher.',\n",
       "  'triples': [{'sub': 'Partly Cloudy', 'rel': 'director', 'obj': 'Peter Sohn'},\n",
       "   {'sub': 'Partly Cloudy', 'rel': 'screenwriter', 'obj': 'Peter Sohn'},\n",
       "   {'sub': 'Partly Cloudy', 'rel': 'production company', 'obj': 'Pixar'}]},\n",
       " {'model': 'openchat-3.5-0106.Q8_0.gguf',\n",
       "  'sent': \"After Kon's death on August 24, 2010, production continued at Madhouse, where the team used Satoshi Kon's directorial tapes and notes to guide them to completing the film, though the main work such as storyboards and script was already complete.\",\n",
       "  'triples': []},\n",
       " {'model': 'openchat-3.5-0106.Q8_0.gguf',\n",
       "  'sent': 'Based on the comic strip Little Nemo in Slumberland by Winsor McCay, the film went through a lengthy development process with a number of screenwriters.',\n",
       "  'triples': []},\n",
       " {'model': 'openchat-3.5-0106.Q8_0.gguf',\n",
       "  'sent': 'Patient Porky is a 1940 Warner Bros. Looney Tunes directed by Bob Clampett, written by Warren Foster, and scored by Carl W. Stalling.',\n",
       "  'triples': [{'sub': 'Patient Porky',\n",
       "    'rel': 'director',\n",
       "    'obj': 'Bob Clampett'},\n",
       "   {'sub': 'Patient Porky', 'rel': 'screenwriter', 'obj': 'Warren Foster'},\n",
       "   {'sub': 'Patient Porky',\n",
       "    'rel': 'production company',\n",
       "    'obj': 'Warner Bros.'},\n",
       "   {'sub': 'Patient Porky', 'rel': 'characters', 'obj': 'Porky Pig'},\n",
       "   {'sub': 'Patient Porky', 'rel': 'narrative location', 'obj': 'city'},\n",
       "   {'sub': 'Patient Porky', 'rel': 'filming location', 'obj': 'city'}]},\n",
       " {'model': 'openchat-3.5-0106.Q8_0.gguf',\n",
       "  'sent': \"The story was supervised by Tom Ray, while William Hanna and Joseph Barbera received a special director's credit.\",\n",
       "  'triples': []},\n",
       " {'model': 'openchat-3.5-0106.Q8_0.gguf',\n",
       "  'sent': '\"Children Who Chase Stars\"), known as Journey to Agartha in worldwide, is a 2011 Japanese anime film created and directed by Makoto Shinkai, following Children Who Chase Lost Voices\\'s previous work 5 Centimeters per Second.',\n",
       "  'triples': [{'sub': 'Children Who Chase Stars',\n",
       "    'rel': 'director',\n",
       "    'obj': 'Makoto Shinkai'},\n",
       "   {'sub': 'Children Who Chase Stars',\n",
       "    'rel': 'genre',\n",
       "    'obj': 'Japanese anime'},\n",
       "   {'sub': 'Children Who Chase Stars',\n",
       "    'rel': 'production company',\n",
       "    'obj': 'Makoto Shinkai'},\n",
       "   {'sub': 'Children Who Chase Stars',\n",
       "    'rel': 'country of origin',\n",
       "    'obj': 'Japan'}]},\n",
       " {'model': 'openchat-3.5-0106.Q8_0.gguf',\n",
       "  'sent': 'She and Her Cat (Japanese: , Hepburn: Kanojo to Kanojo no Neko), subtitled Their standing points, is a 1999 Japanese original video animation created and directed by Makoto Shinkai.',\n",
       "  'triples': [{'sub': 'She and Her Cat',\n",
       "    'rel': 'director',\n",
       "    'obj': 'Makoto Shinkai'},\n",
       "   {'sub': 'She and Her Cat', 'rel': 'screenwriter', 'obj': 'Makoto Shinkai'},\n",
       "   {'sub': 'She and Her Cat',\n",
       "    'rel': 'genre',\n",
       "    'obj': 'original video animation'},\n",
       "   {'sub': 'She and Her Cat', 'rel': 'based on', 'obj': 'written work'},\n",
       "   {'sub': 'She and Her Cat', 'rel': 'production company', 'obj': 'Japanese'},\n",
       "   {'sub': 'She and Her Cat', 'rel': 'country of origin', 'obj': 'Japan'}]},\n",
       " {'model': 'openchat-3.5-0106.Q8_0.gguf',\n",
       "  'sent': 'Eventually in 2001, producers James L. Brooks, Matt Groening, Al Jean, Richard Sakai and Mike Scully began development of the film and a writing team consisting of Brooks, Groening, Jean, Scully, Ian Maxtone-Graham, George Meyer, David Mirkin, Mike Reiss, Matt Selman, John Swartzwelder and Jon Vitti was assembled.',\n",
       "  'triples': [{'sub': 'The Simpsons Movie',\n",
       "    'rel': 'director',\n",
       "    'obj': 'James L. Brooks, Matt Groening, Al Jean, Richard Sakai'},\n",
       "   {'sub': 'The Simpsons Movie',\n",
       "    'rel': 'screenwriter',\n",
       "    'obj': 'James L. Brooks, Matt Groening, Al Jean, Richard Sakai, Ian Maxtone-Graham, George Meyer, David Mirkin, Mike Reiss, Matt Selman, John Swartzwelder, Jon Vitti'},\n",
       "   {'sub': 'The Simpsons Movie', 'rel': 'genre', 'obj': 'Animation'},\n",
       "   {'sub': 'The Simpsons Movie', 'rel': 'based on', 'obj': 'The Simpsons'},\n",
       "   {'sub': 'The Simpsons Movie', 'rel': 'cast member', 'obj': 'Mike Scul'}]},\n",
       " {'model': 'openchat-3.5-0106.Q8_0.gguf',\n",
       "  'sent': 'Birds Anonymous is a 1957 Warner Bros. Merrie Melodies animated short, directed by Friz Freleng and written by Warren Foster.',\n",
       "  'triples': [{'sub': 'Birds Anonymous',\n",
       "    'rel': 'director',\n",
       "    'obj': 'Friz Freleng'},\n",
       "   {'sub': 'Birds Anonymous', 'rel': 'screenwriter', 'obj': 'Warren Foster'},\n",
       "   {'sub': 'Birds Anonymous',\n",
       "    'rel': 'production company',\n",
       "    'obj': 'Warner Bros.'},\n",
       "   {'sub': 'Birds Anonymous', 'rel': 'genre', 'obj': 'animated short'},\n",
       "   {'sub': 'Birds Anonymous', 'rel': 'based on', 'obj': 'written work'},\n",
       "   {'sub': 'Birds Anonymous', 'rel': 'characters', 'obj': 'film character'},\n",
       "   {'sub': 'Birds Anonymous', 'rel': ''}]},\n",
       " {'model': 'openchat-3.5-0106.Q8_0.gguf',\n",
       "  'sent': 'Trap Happy Porky is a 1945 Warner Bros. Looney Tunes short directed by Chuck Jones and written by Tedd Pierce.',\n",
       "  'triples': [{'sub': 'Trap Happy Porky',\n",
       "    'rel': 'director',\n",
       "    'obj': 'Chuck Jones'},\n",
       "   {'sub': 'Trap Happy Porky', 'rel': 'screenwriter', 'obj': 'Tedd Pierce'},\n",
       "   {'sub': 'Trap Happy Porky',\n",
       "    'rel': 'production company',\n",
       "    'obj': 'Warner Bros.'},\n",
       "   {'sub': 'Trap Happy Porky',\n",
       "    'rel': 'country of origin',\n",
       "    'obj': 'United States'},\n",
       "   {'sub': 'Trap Happy Porky', 'rel': 'characters', 'obj': 'Porky Pig'},\n",
       "   {'sub': 'Trap Happy Porky', 'rel': 'narrative location', 'obj': 'city'},\n",
       "   {'sub': 'Trap Happy'}]},\n",
       " {'model': 'openchat-3.5-0106.Q8_0.gguf',\n",
       "  'sent': 'The cartoon, released in 1928 by the Walt Disney Studios, was the first creation of the character Mickey Mouse.',\n",
       "  'triples': [{'sub': 'The cartoon', 'rel': 'director', 'obj': 'Walt Disney'},\n",
       "   {'sub': 'The cartoon', 'rel': 'screenwriter', 'obj': 'Walt Disney'},\n",
       "   {'sub': 'The cartoon', 'rel': 'genre', 'obj': 'cartoon'},\n",
       "   {'sub': 'The cartoon', 'rel': 'based on', 'obj': 'written work'},\n",
       "   {'sub': 'The cartoon', 'rel': 'cast member', 'obj': 'Mickey Mouse'},\n",
       "   {'sub': 'The cartoon',\n",
       "    'rel': 'production company',\n",
       "    'obj': 'Walt Disney Studios'},\n",
       "   {'sub': 'The cartoon', 'rel': 'country of origin', 'obj': 'USA'},\n",
       "   {}]},\n",
       " {'model': 'openchat-3.5-0106.Q8_0.gguf',\n",
       "  'sent': 'The Day the Clown Cried is an unfinished 1972 Swedish-French drama film directed by and starring Jerry Lewis.',\n",
       "  'triples': [{'sub': 'The Day the Clown Cried',\n",
       "    'rel': 'director',\n",
       "    'obj': 'Jerry Lewis'},\n",
       "   {'sub': 'The Day the Clown Cried',\n",
       "    'rel': 'screenwriter',\n",
       "    'obj': 'Jerry Lewis'},\n",
       "   {'sub': 'The Day the Clown Cried', 'rel': 'genre', 'obj': 'drama'},\n",
       "   {'sub': 'The Day the Clown Cried',\n",
       "    'rel': 'based on',\n",
       "    'obj': 'written work'},\n",
       "   {'sub': 'The Day the Clown Cried',\n",
       "    'rel': 'cast member',\n",
       "    'obj': 'Jerry Lewis'},\n",
       "   {'sub': 'The Day the Clown Cried',\n",
       "    'rel': 'production company',\n",
       "    'obj': 'Swedish-French'},\n",
       "   {'sub': 'The Day the'}]},\n",
       " {'model': 'openchat-3.5-0106.Q8_0.gguf',\n",
       "  'sent': 'A Grand Day Out was directed, co -written, and animated by Nick Park at the National Film and Television School in Beaconsfield and Aardman Animations in Bristol.',\n",
       "  'triples': [{'sub': 'A Grand Day Out',\n",
       "    'rel': 'director',\n",
       "    'obj': 'Nick Park'},\n",
       "   {'sub': 'A Grand Day Out', 'rel': 'screenwriter', 'obj': 'Nick Park'},\n",
       "   {'sub': 'A Grand Day Out',\n",
       "    'rel': 'production company',\n",
       "    'obj': 'Aardman Animations'},\n",
       "   {'sub': 'A Grand Day Out',\n",
       "    'rel': 'filming location',\n",
       "    'obj': 'Beaconsfield'},\n",
       "   {'sub': 'A Grand Day Out',\n",
       "    'rel': 'narrative location',\n",
       "    'obj': 'Beaconsfield'}]},\n",
       " {'model': 'openchat-3.5-0106.Q8_0.gguf',\n",
       "  'sent': 'The twenty-five-and-a-half-minute production was written and directed by Buffy creator Joss Whedon, and was expanded upon and re-shot for the first episode of the series.',\n",
       "  'triples': [{'sub': 'Buffy', 'rel': 'director', 'obj': 'Joss Whedon'},\n",
       "   {'sub': 'Buffy', 'rel': 'screenwriter', 'obj': 'Joss Whedon'},\n",
       "   {'sub': 'Buffy', 'rel': 'genre', 'obj': 'TV series'},\n",
       "   {'sub': 'Buffy', 'rel': 'based on', 'obj': 'Buffy'},\n",
       "   {'sub': 'Buffy', 'rel': 'cast member', 'obj': 'Joss Whedon'}]},\n",
       " {'model': 'openchat-3.5-0106.Q8_0.gguf',\n",
       "  'sent': 'The original plot was written by Fujiko F. Fujio.',\n",
       "  'triples': []},\n",
       " {'model': 'openchat-3.5-0106.Q8_0.gguf',\n",
       "  'sent': 'Eventually in 2001, producers James L. Brooks, Matt Groening, Al Jean, Richard Sakai and Mike Scully began development of the film and a writing team consisting of Brooks, Groening, Jean, Scully, Ian Maxtone-Graham, George Meyer, David Mirkin, Mike Reiss, Matt Selman, John Swartzwelder and Jon Vitti was assembled.',\n",
       "  'triples': [{'sub': 'The Simpsons Movie',\n",
       "    'rel': 'director',\n",
       "    'obj': 'James L. Brooks, Matt Groening, Al Jean, Richard Sakai'},\n",
       "   {'sub': 'The Simpsons Movie',\n",
       "    'rel': 'screenwriter',\n",
       "    'obj': 'James L. Brooks, Matt Groening, Al Jean, Richard Sakai, Ian Maxtone-Graham, George Meyer, David Mirkin, Mike Reiss, Matt Selman, John Swartzwelder, Jon Vitti'},\n",
       "   {'sub': 'The Simpsons Movie', 'rel': 'genre', 'obj': 'Animation'},\n",
       "   {'sub': 'The Simpsons Movie', 'rel': 'based on', 'obj': 'The Simpsons'},\n",
       "   {'sub': 'The Simpsons Movie', 'rel': 'cast member', 'obj': 'Mike Scul'}]},\n",
       " {'model': 'openchat-3.5-0106.Q8_0.gguf',\n",
       "  'sent': \"Directed by Pete Docter and Roger L. Gould, Mike 's New Car is the first Pixar short to use dialogue and the first to take characters and situations from a previously established work.\",\n",
       "  'triples': [{'sub': \"Mike's New Car\",\n",
       "    'rel': 'director',\n",
       "    'obj': 'Roger L. Gould'},\n",
       "   {'sub': \"Mike's New Car\", 'rel': 'director', 'obj': 'Pete Docter'},\n",
       "   {'sub': \"Mike's New Car\", 'rel': 'screenwriter', 'obj': 'Roger L. Gould'},\n",
       "   {'sub': \"Mike's New Car\", 'rel': 'genre', 'obj': 'short film'},\n",
       "   {'sub': \"Mike's New Car\",\n",
       "    'rel': 'based on',\n",
       "    'obj': 'previously established work'},\n",
       "   {'sub': \"Mike's New Car\", 'rel': 'cast member', 'obj': 'Roger L. Gould'}]},\n",
       " {'model': 'openchat-3.5-0106.Q8_0.gguf',\n",
       "  'sent': '\"Hana and Alice murder case\") is a Japanese rotoscoped youth drama film written and directed by Shunji Iwai.',\n",
       "  'triples': [{'sub': 'Hana and Alice murder case',\n",
       "    'rel': 'director',\n",
       "    'obj': 'Shunji Iwai'},\n",
       "   {'sub': 'Hana and Alice murder case',\n",
       "    'rel': 'screenwriter',\n",
       "    'obj': 'Shunji Iwai'},\n",
       "   {'sub': 'Hana and Alice murder case', 'rel': 'genre', 'obj': 'youth drama'},\n",
       "   {'sub': 'Hana and Alice murder case',\n",
       "    'rel': 'based on',\n",
       "    'obj': 'written work'},\n",
       "   {'sub': 'Hana and Alice murder case',\n",
       "    'rel': 'production company',\n",
       "    'obj': 'film production company'},\n",
       "   {'sub': 'Hana and Alice murder case',\n",
       "    'rel': 'country of origin',\n",
       "    'obj': 'Japan'},\n",
       "   {'sub': 'Hana and Alice'}]},\n",
       " {'model': 'openchat-3.5-0106.Q8_0.gguf',\n",
       "  'sent': 'Jones wrote the plot with Michael Maltese, while animation was by Dick Thompson, Ben Washam, Ken Harris and Don Towsley.',\n",
       "  'triples': []},\n",
       " {'model': 'openchat-3.5-0106.Q8_0.gguf',\n",
       "  'sent': 'The story was created by Jack Hannah and Carl Barks.',\n",
       "  'triples': []},\n",
       " {'model': 'openchat-3.5-0106.Q8_0.gguf',\n",
       "  'sent': 'DC Showcase: Catwoman, also titled as simply Catwoman, is a 2011 short animated film, directed by Lauren Montgomery and written by Paul Dini.',\n",
       "  'triples': [{'sub': 'DC Showcase: Catwoman',\n",
       "    'rel': 'director',\n",
       "    'obj': 'Lauren Montgomery'},\n",
       "   {'sub': 'DC Showcase: Catwoman', 'rel': 'screenwriter', 'obj': 'Paul Dini'},\n",
       "   {'sub': 'DC Showcase: Catwoman', 'rel': 'genre', 'obj': 'animated film'},\n",
       "   {'sub': 'DC Showcase: Catwoman', 'rel': 'based on', 'obj': 'Catwoman'},\n",
       "   {'sub': 'DC Showcase: Catwoman',\n",
       "    'rel': 'cast member',\n",
       "    'obj': 'Paul Dini'}]},\n",
       " {'model': 'openchat-3.5-0106.Q8_0.gguf',\n",
       "  'sent': 'The short was directed by Jack King and written by Carl Barks, Chuck Couch, Jack Hannah, Harry Reeves, Milt Schaffer, and Frank Tashlin.',\n",
       "  'triples': []},\n",
       " {'model': 'openchat-3.5-0106.Q8_0.gguf',\n",
       "  'sent': 'Frank Film is a 1973 American animated short film by Frank Mouris.',\n",
       "  'triples': [{'sub': 'Frank Film', 'rel': 'director', 'obj': 'Frank Mouris'},\n",
       "   {'sub': 'Frank Film', 'rel': 'screenwriter', 'obj': 'Frank Mouris'},\n",
       "   {'sub': 'Frank Film', 'rel': 'genre', 'obj': 'animated short'},\n",
       "   {'sub': 'Frank Film', 'rel': 'based on', 'obj': 'Frank Mouris'},\n",
       "   {'sub': 'Frank Film', 'rel': 'cast member', 'obj': 'Frank Mouris'},\n",
       "   {'sub': 'Frank Film', 'rel': 'award received', 'obj': 'Frank Mouris'},\n",
       "   {'sub': 'Frank Film', 'rel': 'production company'}]},\n",
       " {'model': 'openchat-3.5-0106.Q8_0.gguf',\n",
       "  'sent': '2010: The Year We Make Contact is a 1984 science fiction film written, produced, shot and directed by Peter Hyams.',\n",
       "  'triples': [{'sub': '2010: The Year We Make Contact',\n",
       "    'rel': 'director',\n",
       "    'obj': 'Peter Hyams'},\n",
       "   {'sub': '2010: The Year We Make Contact',\n",
       "    'rel': 'screenwriter',\n",
       "    'obj': 'Peter Hyams'},\n",
       "   {'sub': '2010: The Year We Make Contact',\n",
       "    'rel': 'production company',\n",
       "    'obj': 'Peter Hyams'},\n",
       "   {'sub': '2010: The Year We Make Contact',\n",
       "    'rel': 'genre',\n",
       "    'obj': 'science fiction'}]},\n",
       " {'model': 'openchat-3.5-0106.Q8_0.gguf',\n",
       "  'sent': 'The Disappearance of Haruhi Suzumiya is produced by Kyoto Animation, written by Fumihiko Shimo and directed by Tatsuya Ishihara and Yasuhiro Takemoto.',\n",
       "  'triples': [{'sub': 'The Disappearance of Haruhi Suzumiya',\n",
       "    'rel': 'director',\n",
       "    'obj': 'Yasuhiro Takemoto'},\n",
       "   {'sub': 'The Disappearance of Haruhi Suzumiya',\n",
       "    'rel': 'screenwriter',\n",
       "    'obj': 'Fumihiko Shimo'},\n",
       "   {'sub': 'The Disappearance of Haruhi Suzumiya',\n",
       "    'rel': 'production company',\n",
       "    'obj': 'Kyoto Animation'},\n",
       "   {'sub': 'The Disappearance of Haruhi Suzumiya',\n",
       "    'rel': 'characters',\n",
       "    'obj': 'Haruhi Suzumiya'},\n",
       "   {'sub': 'The Disappearance of Haruhi Suzumiya',\n",
       "    'rel': 'narrative location',\n",
       "    'obj': 'city'},\n",
       "   {'sub': 'The Disappearance of Haruhi Suzumi'}]},\n",
       " {'model': 'openchat-3.5-0106.Q8_0.gguf',\n",
       "  'sent': 'The short was directed by Jack King and written by Carl Barks, Chuck Couch, Jack Hannah, Harry Reeves, Milt Schaffer, and Frank Tashlin.',\n",
       "  'triples': []},\n",
       " {'model': 'openchat-3.5-0106.Q8_0.gguf',\n",
       "  'sent': 'Jerry, Jerry, Quite Contrary is a 1966 Tom and Jerry short written, produced and directed by Chuck Jones.',\n",
       "  'triples': [{'sub': 'Jerry, Jerry, Quite Contrary',\n",
       "    'rel': 'director',\n",
       "    'obj': 'Chuck Jones'},\n",
       "   {'sub': 'Jerry, Jerry, Quite Contrary',\n",
       "    'rel': 'screenwriter',\n",
       "    'obj': 'Chuck Jones'},\n",
       "   {'sub': 'Jerry, Jerry, Quite Contrary',\n",
       "    'rel': 'production company',\n",
       "    'obj': 'Chuck Jones'}]},\n",
       " {'model': 'openchat-3.5-0106.Q8_0.gguf',\n",
       "  'sent': 'The short is directed by William Hanna and Joseph Barbera, composed by Scott Bradley, and animated by Ray Patterson, Irven Spence, Pete Burness, and Kenneth Muse.',\n",
       "  'triples': [{'sub': 'Joseph Barbera', 'rel': 'director', 'obj': 'film'},\n",
       "   {'sub': 'Joseph Barbera', 'rel': 'screenwriter', 'obj': 'film'},\n",
       "   {'sub': 'Joseph Barbera', 'rel': 'production company', 'obj': 'MGM'}]}]"
      ]
     },
     "execution_count": 65,
     "metadata": {},
     "output_type": "execute_result"
    }
   ],
   "source": [
    "test"
   ]
  },
  {
   "cell_type": "markdown",
   "metadata": {},
   "source": [
    "Сохраняем полученный файл"
   ]
  },
  {
   "cell_type": "code",
   "execution_count": 66,
   "metadata": {},
   "outputs": [],
   "source": [
    "with open(\"./mixtral_movie_full.jsonl\", 'w', encoding='utf-8') as f:\n",
    "    for entry in test:\n",
    "        json_record = json.dumps(entry, ensure_ascii=False)\n",
    "        f.write(json_record + '\\n')"
   ]
  },
  {
   "cell_type": "markdown",
   "metadata": {},
   "source": [
    "### Промежуточные выводы по генерации триплетов\n",
    "\n",
    "1. Глобально при генерации триплетов можно пойти двумя путями:\n",
    "    * Экстрации всех возможных триплетов без онтологии. Такой подход реализован в библиотеках langchain и llamaindex. Это самый простой подход, достаточно только указать разделитель триплетов для их последующего прасинга. При этом наиблучшее качество экстракции ожидаемо показывают модели OpenAI. При использовании каких-либо локальных моделей качество экстракции ниже и, как правило, зависит от размера модели.\n",
    "    * Экстрация триплетов с использованием онтологии (схемы). В этом подходе можно попробовать через промтп добиваться экстрации сущностей и связей в один проход обращения к LLM. В ходе экспериментов с этим хорошо могут справиться модели OpenAI, одна локальные опенсорс модели демонстрируют значительно более низкое качество. Чтобы добиться более выского качества генерации триплетов, мы идем по пути декомпозции задач: идентификация сущностей и последующий поиск подходящих связей между ними изходя из схемы онтологии.\n",
    "\n",
    "2. Основные проблемы:\n",
    "    * Одна из главных проблем при работе с LLM, это обработка выводом модели. То есть нам важно одновременно добиться стабильного ожидаемого формата вывода модели и продумать алгоритм постобработки этого вывода. Одним из наиболее подходящих способов - это добиться от модели стрктурирвоанного ответа в формате JSON. В некоторых библиотеках это уже реализовано путем промпт-инжиниринга при решении типовых задач, как, например, задача NER. При решении более нетривиальных задач приходится добавиться структурированного выводв путем написания собственных промтов. \n",
    "\n",
    "    В рамках данного проекта для решения задачи NER использую библиотеку KOR https://eyurtsev.github.io/kor/tutorial.html\n",
    "    В отличие от коробочного решения из langchain, KOR предоставляет более гибкие инструменты для описания сущностей и few-shot промтинга. Одновременно с этим мы получаем от модели сразу десериализованный вывод, с которым нам на много проще потом работать на следующих этапах пайплайна. \n",
    "\n",
    "    Для определения связи между сущностями используется уже кастомный промпт, который позволяет добавить сразу необходимого нам формата [sub, rel, obj], который мы может без дополнительных постобработок добавить для построениея QA-чейна с использованием графа знаний в RAG.\n",
    "\n",
    "    * Здесь сразу стоит отметить, что при решении задач на всех моделях установлено значение temperature 0. Это необходимо для достижения максимального детерминированного поведения модели, и является общей рекомендацией при решении задач экстракции и создании QA-систем с RAG. \n"
   ]
  },
  {
   "cell_type": "markdown",
   "metadata": {},
   "source": [
    "## примеры промптов"
   ]
  },
  {
   "cell_type": "code",
   "execution_count": 2,
   "metadata": {},
   "outputs": [],
   "source": [
    "example = \"\"\"<|user|>\n",
    "Context: Visions of Light film genre is Science and Documentary\n",
    "</s>\n",
    "<|assistant|>\n",
    "(Visions of Light, genre, Science)<|>(Visions of Light, genre, Documentary)\n",
    "</s>\n",
    "<|user|>\n",
    "Context: The Visions of Light film screenplay was done by Quentin Tarantino and John Travolta\n",
    "</s>\n",
    "<|assistant|>\n",
    "(Visions of Light, screenplay, Quentin Tarantino)<|>(Visions of Light, screenplay, John Travolta)\n",
    "</s>\"\"\""
   ]
  },
  {
   "cell_type": "code",
   "execution_count": 22,
   "metadata": {},
   "outputs": [],
   "source": [
    "TRIPLE_EXTRACTION_TEMPLATE = \"\"\"<|system|>\n",
    "You are a networked intelligence helping a human track knowledge triples about ONTOLOGY RELATIONS between ONTOLOGY CONCEPTS in provided context.\n",
    "A knowledge triple must contain only three elements. \n",
    "A knowledge triple is a clause that contains a subject, a predicate, and an object. The subject is the entity being described, the predicate is the property of the subject that is being described, and the object is the value of the property.\n",
    "Note that the context may contain only some of the Ontology relations between Ontology Concepts.\n",
    "Use only information provided in context. Do not use own knowledge.\n",
    "Ontology Concepts: {concepts}\n",
    "ONTOLOGY RELATIONS: {relations}\n",
    "</s>\n",
    "{example}\n",
    "<|user|>\n",
    "Context: {text}\n",
    "</s>\n",
    "<|assistant|>\"\"\""
   ]
  },
  {
   "cell_type": "code",
   "execution_count": 47,
   "metadata": {},
   "outputs": [],
   "source": [
    "example = \"\"\"Context: Visions of Light film genre is Science and Documentary\n",
    "Answer:(Visions of Light, genre, Science)<|>(Visions of Light, genre, Documentary)\n",
    "\n",
    "Context: The Visions of Light film screenplay was done by Quentin Tarantino and John Travolta\n",
    "Answer:(Visions of Light, screenplay, Quentin Tarantino)<|>(Visions of Light, screenplay, John Travolta)\"\"\""
   ]
  },
  {
   "cell_type": "code",
   "execution_count": 66,
   "metadata": {},
   "outputs": [],
   "source": [
    "TRIPLE_EXTRACTION_TEMPLATE_M = \"\"\"You are a networked intelligence helping a human track knowledge triples about ONTOLOGY RELATIONS between ONTOLOGY CONCEPTS in provided context.\n",
    "A knowledge triple must contain only three elements. \n",
    "A knowledge triple is a clause that contains a subject, a predicate, and an object. The subject is the entity being described, the predicate is the property of the subject that is being described, and the object is the value of the property.\n",
    "Note that the context may contain only some of the Ontology relations between Ontology Concepts.\n",
    "Use only information provided in context. Do not use own knowledge.\n",
    "Ontology Concepts: {concepts}\n",
    "ONTOLOGY RELATIONS: {relations}\n",
    "\n",
    "\n",
    "Context: {text}\n",
    "Answer:\"\"\""
   ]
  },
  {
   "cell_type": "code",
   "execution_count": null,
   "metadata": {},
   "outputs": [],
   "source": [
    "prompt = \"\"\"\n",
    "You are a language model trained to perform Named Entity Recognition (NER) on text data.\n",
    "Given a sentence or a paragraph, your task is to identify and classify named entities into predefined categories such as person names, organizations, locations, dates, etc.\n",
    "\n",
    "Example:\n",
    "Input: \"Apple Inc. is planning to open a new store in New York City next month.\"\n",
    "Output: {\"entities\": [{\"text\": \"Apple Inc.\", \"label\": \"ORG\"}, {\"text\": \"New York City\", \"label\": \"LOC\"}]}\n",
    "\n",
    "Please provide the text you want to perform NER on:\n",
    "\"\"\"\n"
   ]
  }
 ],
 "metadata": {
  "kernelspec": {
   "display_name": "Python 3 (ipykernel)",
   "language": "python",
   "name": "python3"
  },
  "language_info": {
   "codemirror_mode": {
    "name": "ipython",
    "version": 3
   },
   "file_extension": ".py",
   "mimetype": "text/x-python",
   "name": "python",
   "nbconvert_exporter": "python",
   "pygments_lexer": "ipython3",
   "version": "3.9.13"
  }
 },
 "nbformat": 4,
 "nbformat_minor": 2
}
