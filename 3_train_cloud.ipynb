{
 "cells": [
  {
   "cell_type": "markdown",
   "metadata": {},
   "source": [
    "Обучение проводилось в Yandex Data Sphere в конфигурации g2.1 с ускорителем A100"
   ]
  },
  {
   "cell_type": "code",
   "execution_count": null,
   "metadata": {
    "tags": []
   },
   "outputs": [],
   "source": [
    "# %pip install transformers==4.39.1\n",
    "# %pip install peft==0.10.0\n",
    "# %pip install sentencepiece==0.2.0\n",
    "# %pip install accelerate==0.28.0\n",
    "# %pip install -i https://pypi.org/simple/ bitsandbytes\n",
    "\n",
    "# %pip install --force-reinstall transformers==4.38.2\n",
    "\n",
    "# Нужно достаточно места на виртуалке\n",
    "# - 15Гб это система и кеш базовой модели, \n",
    "# - 13.5Гб на каждую сохраненную модель\n",
    "# - 0.5Гб на чекпоинты на каждую модель \n",
    "# Всего 40Гб хватало тык в притык на 2 модели"
   ]
  },
  {
   "cell_type": "markdown",
   "metadata": {},
   "source": [
    "Обучение сделано на основе этого примера <br>\n",
    "[Подробный разбор дообучения (fine-tuning) LLaMa (на примере задачи генерации заголовков к новостям)](https://youtu.be/zHv5pA-lxAA)<br>\n",
    "\n"
   ]
  },
  {
   "cell_type": "code",
   "execution_count": 1,
   "metadata": {
    "execution": {
     "iopub.execute_input": "2024-03-27T07:34:17.444404Z",
     "iopub.status.busy": "2024-03-27T07:34:17.444120Z",
     "iopub.status.idle": "2024-03-27T07:34:20.475829Z",
     "shell.execute_reply": "2024-03-27T07:34:20.475065Z",
     "shell.execute_reply.started": "2024-03-27T07:34:17.444380Z"
    },
    "tags": []
   },
   "outputs": [
    {
     "name": "stderr",
     "output_type": "stream",
     "text": [
      "/home/jupyter/.local/lib/python3.10/site-packages/transformers/utils/hub.py:124: FutureWarning: Using `TRANSFORMERS_CACHE` is deprecated and will be removed in v5 of Transformers. Use `HF_HOME` instead.\n",
      "  warnings.warn(\n"
     ]
    }
   ],
   "source": [
    "import pickle\n",
    "import numpy as np\n",
    "import torch\n",
    "import transformers\n",
    "from transformers import LlamaTokenizer, LlamaForCausalLM, BitsAndBytesConfig, AutoModelForCausalLM, AutoTokenizer, GenerationConfig\n",
    "from peft import LoraConfig, get_peft_model, PeftModel\n",
    "import pandas as pd"
   ]
  },
  {
   "cell_type": "code",
   "execution_count": null,
   "metadata": {},
   "outputs": [],
   "source": [
    "OUTPUT_DIR = \"model_checkpoints\"\n",
    "FINETUNED_DIR = \"model_finetuned\""
   ]
  },
  {
   "cell_type": "markdown",
   "metadata": {},
   "source": [
    "# Инициализация основной модели"
   ]
  },
  {
   "cell_type": "code",
   "execution_count": 2,
   "metadata": {
    "execution": {
     "iopub.execute_input": "2024-03-27T07:34:20.477496Z",
     "iopub.status.busy": "2024-03-27T07:34:20.476973Z",
     "iopub.status.idle": "2024-03-27T07:34:21.203914Z",
     "shell.execute_reply": "2024-03-27T07:34:21.203182Z",
     "shell.execute_reply.started": "2024-03-27T07:34:20.477469Z"
    },
    "tags": []
   },
   "outputs": [],
   "source": [
    "DEVICE = \"cuda\" if torch.cuda.is_available() else \"cpu\"\n",
    "\n",
    "BASE_MODEL = \"NousResearch/Llama-2-7b-hf\"\n",
    "\n",
    "# Инициализируем токенизатор для модели LLaMa\n",
    "tokenizer = LlamaTokenizer.from_pretrained(BASE_MODEL)\n",
    "\n",
    "# задаем токен для padding, то есть добавления в те последовательности из батча, которые короче,\n",
    "# чем максимальная длина последовательности, чтобы все последовательности в итоге были одной длины\n",
    "tokenizer.pad_token_id = 0\n",
    "\n",
    "# нули для padding будем добавлять слева\n",
    "tokenizer.padding_side = \"left\""
   ]
  },
  {
   "cell_type": "code",
   "execution_count": 3,
   "metadata": {
    "execution": {
     "iopub.execute_input": "2024-03-27T07:34:21.205693Z",
     "iopub.status.busy": "2024-03-27T07:34:21.205309Z",
     "iopub.status.idle": "2024-03-27T07:34:21.244600Z",
     "shell.execute_reply": "2024-03-27T07:34:21.243945Z",
     "shell.execute_reply.started": "2024-03-27T07:34:21.205675Z"
    },
    "tags": []
   },
   "outputs": [
    {
     "data": {
      "text/plain": [
       "'\\nmodel = LlamaForCausalLM.from_pretrained(\\n    BASE_MODEL,\\n    #load_in_8bit=True,\\n    torch_dtype=torch.float16,\\n    device_map=\"auto\",\\n)\\n'"
      ]
     },
     "execution_count": 3,
     "metadata": {},
     "output_type": "execute_result"
    }
   ],
   "source": [
    "# Инициализируем основную модель\n",
    "\n",
    "\"\"\"\n",
    "model = LlamaForCausalLM.from_pretrained(\n",
    "    BASE_MODEL,\n",
    "    #load_in_8bit=True,\n",
    "    torch_dtype=torch.float16,\n",
    "    device_map=\"auto\",\n",
    ")\n",
    "\"\"\""
   ]
  },
  {
   "cell_type": "code",
   "execution_count": 4,
   "metadata": {
    "execution": {
     "iopub.execute_input": "2024-03-27T07:34:21.246042Z",
     "iopub.status.busy": "2024-03-27T07:34:21.245713Z",
     "iopub.status.idle": "2024-03-27T07:34:24.743823Z",
     "shell.execute_reply": "2024-03-27T07:34:24.743102Z",
     "shell.execute_reply.started": "2024-03-27T07:34:21.246024Z"
    },
    "tags": []
   },
   "outputs": [
    {
     "name": "stderr",
     "output_type": "stream",
     "text": [
      "Downloading shards: 100%|██████████| 2/2 [00:00<00:00, 583.76it/s]\n",
      "Loading checkpoint shards: 100%|██████████| 2/2 [00:02<00:00,  1.02s/it]\n",
      "/home/jupyter/.local/lib/python3.10/site-packages/transformers/generation/configuration_utils.py:410: UserWarning: `do_sample` is set to `False`. However, `temperature` is set to `0.9` -- this flag is only used in sample-based generation modes. You should set `do_sample=True` or unset `temperature`. This was detected when initializing the generation config instance, which means the corresponding file may hold incorrect parameterization and should be fixed.\n",
      "  warnings.warn(\n",
      "/home/jupyter/.local/lib/python3.10/site-packages/transformers/generation/configuration_utils.py:415: UserWarning: `do_sample` is set to `False`. However, `top_p` is set to `0.6` -- this flag is only used in sample-based generation modes. You should set `do_sample=True` or unset `top_p`. This was detected when initializing the generation config instance, which means the corresponding file may hold incorrect parameterization and should be fixed.\n",
      "  warnings.warn(\n",
      "/home/jupyter/.local/lib/python3.10/site-packages/transformers/generation/configuration_utils.py:410: UserWarning: `do_sample` is set to `False`. However, `temperature` is set to `0.9` -- this flag is only used in sample-based generation modes. You should set `do_sample=True` or unset `temperature`.\n",
      "  warnings.warn(\n",
      "/home/jupyter/.local/lib/python3.10/site-packages/transformers/generation/configuration_utils.py:415: UserWarning: `do_sample` is set to `False`. However, `top_p` is set to `0.6` -- this flag is only used in sample-based generation modes. You should set `do_sample=True` or unset `top_p`.\n",
      "  warnings.warn(\n"
     ]
    }
   ],
   "source": [
    "# Инициализируем основную модель\n",
    "# Если мы хотим обучать модель в int4 для уменьшения требуемой видеопамяти\n",
    "\n",
    "model = LlamaForCausalLM.from_pretrained(\n",
    "    BASE_MODEL,\n",
    "    torch_dtype=torch.float16,\n",
    "    #load_in_4bit=True,\n",
    "    #load_in_8bit=False,\n",
    "    device_map=\"auto\",\n",
    "    quantization_config=BitsAndBytesConfig(\n",
    "        load_in_4bit=True,\n",
    "        bnb_4bit_compute_dtype=torch.float16,\n",
    "        bnb_4bit_use_double_quant=True,\n",
    "        bnb_4bit_quant_type='nf4', # квантизация модели в тип normal float 4\n",
    "    )\n",
    ")"
   ]
  },
  {
   "cell_type": "code",
   "execution_count": 5,
   "metadata": {
    "execution": {
     "iopub.execute_input": "2024-03-27T07:34:24.744856Z",
     "iopub.status.busy": "2024-03-27T07:34:24.744604Z",
     "iopub.status.idle": "2024-03-27T07:34:24.757619Z",
     "shell.execute_reply": "2024-03-27T07:34:24.756999Z",
     "shell.execute_reply.started": "2024-03-27T07:34:24.744837Z"
    },
    "tags": []
   },
   "outputs": [],
   "source": [
    "model.config.pad_token_id = tokenizer.pad_token_id = 0  # unk\n",
    "model.config.bos_token_id = 1\n",
    "model.config.eos_token_id = 2"
   ]
  },
  {
   "cell_type": "code",
   "execution_count": 6,
   "metadata": {
    "execution": {
     "iopub.execute_input": "2024-03-27T07:34:24.758534Z",
     "iopub.status.busy": "2024-03-27T07:34:24.758284Z",
     "iopub.status.idle": "2024-03-27T07:34:24.771189Z",
     "shell.execute_reply": "2024-03-27T07:34:24.770563Z",
     "shell.execute_reply.started": "2024-03-27T07:34:24.758517Z"
    },
    "tags": []
   },
   "outputs": [],
   "source": [
    "model = model.eval()\n",
    "\n",
    "#!!! комментирую только при квантизации\n",
    "# model = torch.compile(model)"
   ]
  },
  {
   "cell_type": "markdown",
   "metadata": {},
   "source": [
    "# Загрузка и предобработка данных"
   ]
  },
  {
   "cell_type": "code",
   "execution_count": 7,
   "metadata": {
    "execution": {
     "iopub.execute_input": "2024-03-27T07:34:24.772070Z",
     "iopub.status.busy": "2024-03-27T07:34:24.771824Z",
     "iopub.status.idle": "2024-03-27T07:34:24.813704Z",
     "shell.execute_reply": "2024-03-27T07:34:24.812958Z",
     "shell.execute_reply.started": "2024-03-27T07:34:24.772053Z"
    },
    "tags": []
   },
   "outputs": [],
   "source": [
    "Xy_train =  pd.read_csv('Xy_train.csv', index_col='Unnamed: 0')\n",
    "Xy_test =  pd.read_csv('Xy_test.csv', index_col='Unnamed: 0')"
   ]
  },
  {
   "cell_type": "code",
   "execution_count": 14,
   "metadata": {
    "execution": {
     "iopub.execute_input": "2024-03-27T07:34:24.899527Z",
     "iopub.status.busy": "2024-03-27T07:34:24.899214Z",
     "iopub.status.idle": "2024-03-27T07:34:24.907871Z",
     "shell.execute_reply": "2024-03-27T07:34:24.907260Z",
     "shell.execute_reply.started": "2024-03-27T07:34:24.899509Z"
    },
    "tags": []
   },
   "outputs": [],
   "source": [
    "# у нас датасет с уже подготовленными промптами\n",
    "\n",
    "def generate_prompt(sample):\n",
    "    # Также для разделения частей промпта можно использовать специальные токены начала и конца сегмента <s> и </s>\n",
    "    prompt = sample['prompt']\n",
    "    full_prompt = sample['prompt'] + ' ' + sample['reference']\n",
    "\n",
    "    return prompt, full_prompt"
   ]
  },
  {
   "cell_type": "code",
   "execution_count": 15,
   "metadata": {
    "execution": {
     "iopub.execute_input": "2024-03-27T07:34:24.908949Z",
     "iopub.status.busy": "2024-03-27T07:34:24.908643Z",
     "iopub.status.idle": "2024-03-27T07:34:24.919619Z",
     "shell.execute_reply": "2024-03-27T07:34:24.919078Z",
     "shell.execute_reply.started": "2024-03-27T07:34:24.908930Z"
    },
    "tags": []
   },
   "outputs": [],
   "source": [
    "def tokenize(prompt, full_prompt, add_eos_token=True):\n",
    "    result = tokenizer(\n",
    "        full_prompt,\n",
    "        padding=False,\n",
    "        return_tensors=None,\n",
    "    )\n",
    "    if (\n",
    "            result[\"input_ids\"][-1] != tokenizer.eos_token_id\n",
    "            #and len(result[\"input_ids\"]) < CUTOFF_LEN\n",
    "            and add_eos_token\n",
    "    ):\n",
    "        # если в конце пос-ти нет специального токена, мы его добавляем\n",
    "        result[\"input_ids\"].append(tokenizer.eos_token_id)\n",
    "        result[\"attention_mask\"].append(1)\n",
    "\n",
    "    prompt_len = len(tokenizer(prompt, padding=False, return_tensors=None)[\"input_ids\"])\n",
    "    labels = result[\"input_ids\"].copy()\n",
    "    labels = [-100 for _ in range(prompt_len)] + labels[prompt_len:]\n",
    "    result[\"labels\"] = labels\n",
    "\n",
    "    return result"
   ]
  },
  {
   "cell_type": "code",
   "execution_count": 16,
   "metadata": {
    "execution": {
     "iopub.execute_input": "2024-03-27T07:34:24.920778Z",
     "iopub.status.busy": "2024-03-27T07:34:24.920368Z",
     "iopub.status.idle": "2024-03-27T07:34:24.929033Z",
     "shell.execute_reply": "2024-03-27T07:34:24.928466Z",
     "shell.execute_reply.started": "2024-03-27T07:34:24.920759Z"
    },
    "tags": []
   },
   "outputs": [],
   "source": [
    "def generate_and_tokenize_prompt(sample):\n",
    "    prompt, full_prompt = generate_prompt(sample)\n",
    "    tokenized_full_prompt = tokenize(prompt, full_prompt)\n",
    "    return tokenized_full_prompt"
   ]
  },
  {
   "cell_type": "code",
   "execution_count": 17,
   "metadata": {
    "execution": {
     "iopub.execute_input": "2024-03-27T07:34:24.930115Z",
     "iopub.status.busy": "2024-03-27T07:34:24.929803Z",
     "iopub.status.idle": "2024-03-27T07:34:33.273987Z",
     "shell.execute_reply": "2024-03-27T07:34:33.272918Z",
     "shell.execute_reply.started": "2024-03-27T07:34:24.930092Z"
    },
    "tags": []
   },
   "outputs": [],
   "source": [
    "train_data = list(Xy_train.apply(generate_and_tokenize_prompt, axis=1))\n",
    "test_data = list(Xy_test.apply(generate_and_tokenize_prompt, axis=1))\n"
   ]
  },
  {
   "cell_type": "code",
   "execution_count": 22,
   "metadata": {
    "execution": {
     "iopub.execute_input": "2024-03-27T07:34:33.381004Z",
     "iopub.status.busy": "2024-03-27T07:34:33.380675Z",
     "iopub.status.idle": "2024-03-27T07:34:35.356494Z",
     "shell.execute_reply": "2024-03-27T07:34:35.355145Z",
     "shell.execute_reply.started": "2024-03-27T07:34:33.380973Z"
    },
    "tags": []
   },
   "outputs": [
    {
     "name": "stderr",
     "output_type": "stream",
     "text": [
      "2024-03-27 07:34:34.623164: W tensorflow/compiler/tf2tensorrt/utils/py_utils.cc:38] TF-TRT Warning: Could not find TensorRT\n"
     ]
    }
   ],
   "source": [
    "# data_collator нужен для формирования батча (padding, сборка элементов батча в один тензор,\n",
    "# конвертация массивов numpy или списков в тензоры torch.LongTensor)\n",
    "data_collator = transformers.DataCollatorForSeq2Seq(\n",
    "    tokenizer, pad_to_multiple_of=8, return_tensors=\"pt\", padding=True, label_pad_token_id=-100\n",
    ")"
   ]
  },
  {
   "cell_type": "markdown",
   "metadata": {},
   "source": [
    "# Добавляем в LLaMa адаптеры"
   ]
  },
  {
   "cell_type": "code",
   "execution_count": 23,
   "metadata": {
    "execution": {
     "iopub.execute_input": "2024-03-27T07:34:37.573229Z",
     "iopub.status.busy": "2024-03-27T07:34:37.572629Z",
     "iopub.status.idle": "2024-03-27T07:34:37.604237Z",
     "shell.execute_reply": "2024-03-27T07:34:37.603580Z",
     "shell.execute_reply.started": "2024-03-27T07:34:37.573207Z"
    },
    "tags": []
   },
   "outputs": [],
   "source": [
    "# Размерность матриц адаптеров\n",
    "# К примеру, если исходная матрица весов 4096 x 4096, то матрицы, которые мы добавляем,\n",
    "# имеют размерность 4096 х LORA_R и LORA_R х 4096.\n",
    "LORA_R = 8\n",
    "\n",
    "# После умножения на матрицу весов адаптеров компоненты вектора делим на LORA_R и умножаем на LORA_ALPHA\n",
    "LORA_ALPHA = 16\n",
    "LORA_DROPOUT = 0.05\n",
    "\n",
    "# В какие слои трансформера будем добавлять адаптеры, в данном случае - в матрицы в слоях self-attention\n",
    "# для вычисления query и key.\n",
    "LORA_TARGET_MODULES = [\n",
    "    \"q_proj\",\n",
    "    \"v_proj\",\n",
    "]\n",
    "\n",
    "# Делаем объект конфигурации по параметрам адаптеров\n",
    "config = LoraConfig(\n",
    "    r=LORA_R,\n",
    "    lora_alpha=LORA_ALPHA,\n",
    "    target_modules=LORA_TARGET_MODULES,\n",
    "    lora_dropout=LORA_DROPOUT,\n",
    "    bias=\"none\",\n",
    "    task_type=\"CAUSAL_LM\",\n",
    ")"
   ]
  },
  {
   "cell_type": "code",
   "execution_count": 24,
   "metadata": {
    "execution": {
     "iopub.execute_input": "2024-03-27T07:34:38.089890Z",
     "iopub.status.busy": "2024-03-27T07:34:38.089614Z",
     "iopub.status.idle": "2024-03-27T07:34:38.234249Z",
     "shell.execute_reply": "2024-03-27T07:34:38.233493Z",
     "shell.execute_reply.started": "2024-03-27T07:34:38.089873Z"
    },
    "tags": []
   },
   "outputs": [],
   "source": [
    "model = get_peft_model(model, config)\n",
    "\n",
    "# Выведем информацию об обучаемых весах модели.\n",
    "# model.print_trainable_parameters()"
   ]
  },
  {
   "cell_type": "markdown",
   "metadata": {},
   "source": [
    "# Задаем гиперпараметры обучения"
   ]
  },
  {
   "cell_type": "code",
   "execution_count": 25,
   "metadata": {
    "execution": {
     "iopub.execute_input": "2024-03-27T07:34:38.680473Z",
     "iopub.status.busy": "2024-03-27T07:34:38.680044Z",
     "iopub.status.idle": "2024-03-27T07:34:38.712706Z",
     "shell.execute_reply": "2024-03-27T07:34:38.712014Z",
     "shell.execute_reply.started": "2024-03-27T07:34:38.680451Z"
    },
    "tags": []
   },
   "outputs": [],
   "source": [
    "BATCH_SIZE = 4\n",
    "TRAIN_EPOCHS = 3\n",
    "MICRO_BATCH_SIZE = 1 #2\n",
    "GRADIENT_ACCUMULATION_STEPS = BATCH_SIZE // MICRO_BATCH_SIZE\n",
    "LEARNING_RATE = 3e-4\n",
    "\n",
    "training_arguments = transformers.TrainingArguments(\n",
    "    per_device_train_batch_size=MICRO_BATCH_SIZE,\n",
    "    gradient_accumulation_steps=GRADIENT_ACCUMULATION_STEPS,\n",
    "    warmup_steps=100,\n",
    "    max_steps=500,\n",
    "    num_train_epochs=TRAIN_EPOCHS,\n",
    "    learning_rate=LEARNING_RATE,\n",
    "    fp16=True,\n",
    "    logging_steps=50,\n",
    "    optim=\"adamw_torch\",\n",
    "    evaluation_strategy=\"steps\",\n",
    "    save_strategy=\"steps\",\n",
    "    eval_steps=50,\n",
    "    save_steps=50,\n",
    "    output_dir=OUTPUT_DIR,\n",
    "    save_total_limit=10,\n",
    "    load_best_model_at_end=True,\n",
    "    report_to=\"none\"\n",
    ")"
   ]
  },
  {
   "cell_type": "markdown",
   "metadata": {},
   "source": [
    "# Запускаем обучение"
   ]
  },
  {
   "cell_type": "code",
   "execution_count": 26,
   "metadata": {
    "execution": {
     "iopub.execute_input": "2024-03-27T07:34:39.440655Z",
     "iopub.status.busy": "2024-03-27T07:34:39.440384Z",
     "iopub.status.idle": "2024-03-27T07:34:39.473298Z",
     "shell.execute_reply": "2024-03-27T07:34:39.472576Z",
     "shell.execute_reply.started": "2024-03-27T07:34:39.440635Z"
    },
    "tags": []
   },
   "outputs": [
    {
     "name": "stderr",
     "output_type": "stream",
     "text": [
      "/home/jupyter/.local/lib/python3.10/site-packages/accelerate/accelerator.py:432: FutureWarning: Passing the following arguments to `Accelerator` is deprecated and will be removed in version 1.0 of Accelerate: dict_keys(['dispatch_batches', 'split_batches', 'even_batches', 'use_seedable_sampler']). Please pass an `accelerate.DataLoaderConfiguration` instead: \n",
      "dataloader_config = DataLoaderConfiguration(dispatch_batches=None, split_batches=False, even_batches=True, use_seedable_sampler=True)\n",
      "  warnings.warn(\n"
     ]
    }
   ],
   "source": [
    "trainer = transformers.Trainer(\n",
    "    model=model,\n",
    "    train_dataset=train_data,\n",
    "    eval_dataset=test_data,\n",
    "    args=training_arguments,\n",
    "    data_collator=data_collator\n",
    ")"
   ]
  },
  {
   "cell_type": "code",
   "execution_count": 27,
   "metadata": {
    "execution": {
     "iopub.execute_input": "2024-03-27T07:34:39.858Z",
     "iopub.status.busy": "2024-03-27T07:34:39.857500Z",
     "iopub.status.idle": "2024-03-27T07:34:39.992568Z",
     "shell.execute_reply": "2024-03-27T07:34:39.991868Z",
     "shell.execute_reply.started": "2024-03-27T07:34:39.857975Z"
    },
    "tags": []
   },
   "outputs": [],
   "source": [
    "model.config.use_cache = False\n",
    "\n",
    "# компиляция модели (для оптимизации обучения)\n",
    "model = torch.compile(model)"
   ]
  },
  {
   "cell_type": "code",
   "execution_count": 28,
   "metadata": {
    "execution": {
     "iopub.execute_input": "2024-03-27T07:34:40.519164Z",
     "iopub.status.busy": "2024-03-27T07:34:40.518698Z",
     "iopub.status.idle": "2024-03-27T07:34:40.543872Z",
     "shell.execute_reply": "2024-03-27T07:34:40.543220Z",
     "shell.execute_reply.started": "2024-03-27T07:34:40.519140Z"
    },
    "tags": []
   },
   "outputs": [],
   "source": [
    "# torch.set_float32_matmul_precision('high')"
   ]
  },
  {
   "cell_type": "code",
   "execution_count": 29,
   "metadata": {
    "execution": {
     "iopub.execute_input": "2024-03-27T07:34:43.969688Z",
     "iopub.status.busy": "2024-03-27T07:34:43.969338Z",
     "iopub.status.idle": "2024-03-27T08:21:03.063099Z",
     "shell.execute_reply": "2024-03-27T08:21:03.062425Z",
     "shell.execute_reply.started": "2024-03-27T07:34:43.969669Z"
    },
    "tags": []
   },
   "outputs": [
    {
     "name": "stderr",
     "output_type": "stream",
     "text": [
      "  5%|▌         | 100/2000 [01:51<35:25,  1.12s/it]"
     ]
    },
    {
     "name": "stdout",
     "output_type": "stream",
     "text": [
      "{'loss': 0.288, 'grad_norm': 1.089714527130127, 'learning_rate': 0.00029699999999999996, 'epoch': 0.71}\n"
     ]
    },
    {
     "name": "stderr",
     "output_type": "stream",
     "text": [
      "\n",
      "  0%|          | 0/35 [00:00<?, ?it/s]\u001b[A\n",
      "  6%|▌         | 2/35 [00:00<00:12,  2.55it/s]\u001b[A\n",
      "  9%|▊         | 3/35 [00:01<00:17,  1.83it/s]\u001b[A\n",
      " 11%|█▏        | 4/35 [00:02<00:19,  1.62it/s]\u001b[A\n",
      " 14%|█▍        | 5/35 [00:03<00:19,  1.51it/s]\u001b[A\n",
      " 17%|█▋        | 6/35 [00:03<00:19,  1.45it/s]\u001b[A\n",
      " 20%|██        | 7/35 [00:04<00:19,  1.41it/s]\u001b[A\n",
      " 23%|██▎       | 8/35 [00:05<00:19,  1.38it/s]\u001b[A\n",
      " 26%|██▌       | 9/35 [00:06<00:18,  1.37it/s]\u001b[A\n",
      " 29%|██▊       | 10/35 [00:06<00:18,  1.36it/s]\u001b[A\n",
      " 31%|███▏      | 11/35 [00:07<00:17,  1.35it/s]\u001b[A\n",
      " 34%|███▍      | 12/35 [00:08<00:17,  1.34it/s]\u001b[A\n",
      " 37%|███▋      | 13/35 [00:09<00:16,  1.34it/s]\u001b[A\n",
      " 40%|████      | 14/35 [00:09<00:16,  1.31it/s]\u001b[A\n",
      " 43%|████▎     | 15/35 [00:10<00:15,  1.31it/s]\u001b[A\n",
      " 46%|████▌     | 16/35 [00:11<00:14,  1.32it/s]\u001b[A\n",
      " 49%|████▊     | 17/35 [00:12<00:13,  1.33it/s]\u001b[A\n",
      " 51%|█████▏    | 18/35 [00:12<00:12,  1.31it/s]\u001b[A\n",
      " 54%|█████▍    | 19/35 [00:13<00:12,  1.31it/s]\u001b[A\n",
      " 57%|█████▋    | 20/35 [00:14<00:11,  1.32it/s]\u001b[A\n",
      " 60%|██████    | 21/35 [00:15<00:10,  1.32it/s]\u001b[A\n",
      " 63%|██████▎   | 22/35 [00:15<00:09,  1.32it/s]\u001b[A\n",
      " 66%|██████▌   | 23/35 [00:16<00:09,  1.32it/s]\u001b[A\n",
      " 69%|██████▊   | 24/35 [00:17<00:08,  1.33it/s]\u001b[A\n",
      " 71%|███████▏  | 25/35 [00:18<00:07,  1.33it/s]\u001b[A\n",
      " 74%|███████▍  | 26/35 [00:18<00:06,  1.33it/s]\u001b[A\n",
      " 77%|███████▋  | 27/35 [00:19<00:06,  1.33it/s]\u001b[A\n",
      " 80%|████████  | 28/35 [00:20<00:05,  1.33it/s]\u001b[A\n",
      " 83%|████████▎ | 29/35 [00:21<00:04,  1.34it/s]\u001b[A\n",
      " 86%|████████▌ | 30/35 [00:21<00:03,  1.33it/s]\u001b[A\n",
      " 89%|████████▊ | 31/35 [00:22<00:02,  1.33it/s]\u001b[A\n",
      " 91%|█████████▏| 32/35 [00:23<00:02,  1.34it/s]\u001b[A\n",
      " 94%|█████████▍| 33/35 [00:24<00:01,  1.33it/s]\u001b[A\n",
      " 97%|█████████▋| 34/35 [00:24<00:00,  1.33it/s]\u001b[A\n",
      "                                                  \n",
      "  5%|▌         | 100/2000 [02:17<35:25,  1.12s/it]\n",
      "100%|██████████| 35/35 [00:25<00:00,  1.39it/s]\u001b[A\n",
      "                                               \u001b[A"
     ]
    },
    {
     "name": "stdout",
     "output_type": "stream",
     "text": [
      "{'eval_loss': 0.18123137950897217, 'eval_runtime': 26.2412, 'eval_samples_per_second': 10.594, 'eval_steps_per_second': 1.334, 'epoch': 0.71}\n"
     ]
    },
    {
     "name": "stderr",
     "output_type": "stream",
     "text": [
      " 10%|█         | 200/2000 [04:10<33:45,  1.13s/it]  "
     ]
    },
    {
     "name": "stdout",
     "output_type": "stream",
     "text": [
      "{'loss': 0.1421, 'grad_norm': 0.35733669996261597, 'learning_rate': 0.0002843684210526315, 'epoch': 1.42}\n"
     ]
    },
    {
     "name": "stderr",
     "output_type": "stream",
     "text": [
      "\n",
      "  0%|          | 0/35 [00:00<?, ?it/s]\u001b[A\n",
      "  6%|▌         | 2/35 [00:00<00:13,  2.54it/s]\u001b[A\n",
      "  9%|▊         | 3/35 [00:01<00:17,  1.82it/s]\u001b[A\n",
      " 11%|█▏        | 4/35 [00:02<00:19,  1.61it/s]\u001b[A\n",
      " 14%|█▍        | 5/35 [00:03<00:19,  1.51it/s]\u001b[A\n",
      " 17%|█▋        | 6/35 [00:03<00:20,  1.45it/s]\u001b[A\n",
      " 20%|██        | 7/35 [00:04<00:19,  1.41it/s]\u001b[A\n",
      " 23%|██▎       | 8/35 [00:05<00:19,  1.38it/s]\u001b[A\n",
      " 26%|██▌       | 9/35 [00:06<00:19,  1.37it/s]\u001b[A\n",
      " 29%|██▊       | 10/35 [00:06<00:18,  1.36it/s]\u001b[A\n",
      " 31%|███▏      | 11/35 [00:07<00:17,  1.35it/s]\u001b[A\n",
      " 34%|███▍      | 12/35 [00:08<00:17,  1.34it/s]\u001b[A\n",
      " 37%|███▋      | 13/35 [00:09<00:16,  1.34it/s]\u001b[A\n",
      " 40%|████      | 14/35 [00:09<00:16,  1.31it/s]\u001b[A\n",
      " 43%|████▎     | 15/35 [00:10<00:15,  1.31it/s]\u001b[A\n",
      " 46%|████▌     | 16/35 [00:11<00:14,  1.32it/s]\u001b[A\n",
      " 49%|████▊     | 17/35 [00:12<00:13,  1.32it/s]\u001b[A\n",
      " 51%|█████▏    | 18/35 [00:12<00:12,  1.31it/s]\u001b[A\n",
      " 54%|█████▍    | 19/35 [00:13<00:12,  1.31it/s]\u001b[A\n",
      " 57%|█████▋    | 20/35 [00:14<00:11,  1.32it/s]\u001b[A\n",
      " 60%|██████    | 21/35 [00:15<00:10,  1.32it/s]\u001b[A\n",
      " 63%|██████▎   | 22/35 [00:15<00:09,  1.32it/s]\u001b[A\n",
      " 66%|██████▌   | 23/35 [00:16<00:09,  1.32it/s]\u001b[A\n",
      " 69%|██████▊   | 24/35 [00:17<00:08,  1.32it/s]\u001b[A\n",
      " 71%|███████▏  | 25/35 [00:18<00:07,  1.32it/s]\u001b[A\n",
      " 74%|███████▍  | 26/35 [00:18<00:06,  1.33it/s]\u001b[A\n",
      " 77%|███████▋  | 27/35 [00:19<00:06,  1.33it/s]\u001b[A\n",
      " 80%|████████  | 28/35 [00:20<00:05,  1.33it/s]\u001b[A\n",
      " 83%|████████▎ | 29/35 [00:21<00:04,  1.33it/s]\u001b[A\n",
      " 86%|████████▌ | 30/35 [00:21<00:03,  1.33it/s]\u001b[A\n",
      " 89%|████████▊ | 31/35 [00:22<00:03,  1.33it/s]\u001b[A\n",
      " 91%|█████████▏| 32/35 [00:23<00:02,  1.34it/s]\u001b[A\n",
      " 94%|█████████▍| 33/35 [00:24<00:01,  1.33it/s]\u001b[A\n",
      " 97%|█████████▋| 34/35 [00:24<00:00,  1.33it/s]\u001b[A\n",
      "                                                  \n",
      " 10%|█         | 200/2000 [04:37<33:45,  1.13s/it]\n",
      "100%|██████████| 35/35 [00:25<00:00,  1.39it/s]\u001b[A\n",
      "                                               \u001b[A"
     ]
    },
    {
     "name": "stdout",
     "output_type": "stream",
     "text": [
      "{'eval_loss': 0.1755075752735138, 'eval_runtime': 26.2848, 'eval_samples_per_second': 10.576, 'eval_steps_per_second': 1.332, 'epoch': 1.42}\n"
     ]
    },
    {
     "name": "stderr",
     "output_type": "stream",
     "text": [
      " 15%|█▌        | 300/2000 [06:29<31:49,  1.12s/it]  "
     ]
    },
    {
     "name": "stdout",
     "output_type": "stream",
     "text": [
      "{'loss': 0.1028, 'grad_norm': 0.27649715542793274, 'learning_rate': 0.000268578947368421, 'epoch': 2.14}\n"
     ]
    },
    {
     "name": "stderr",
     "output_type": "stream",
     "text": [
      "\n",
      "  0%|          | 0/35 [00:00<?, ?it/s]\u001b[A\n",
      "  6%|▌         | 2/35 [00:00<00:13,  2.53it/s]\u001b[A\n",
      "  9%|▊         | 3/35 [00:01<00:17,  1.82it/s]\u001b[A\n",
      " 11%|█▏        | 4/35 [00:02<00:19,  1.61it/s]\u001b[A\n",
      " 14%|█▍        | 5/35 [00:03<00:19,  1.51it/s]\u001b[A\n",
      " 17%|█▋        | 6/35 [00:03<00:20,  1.45it/s]\u001b[A\n",
      " 20%|██        | 7/35 [00:04<00:19,  1.41it/s]\u001b[A\n",
      " 23%|██▎       | 8/35 [00:05<00:19,  1.38it/s]\u001b[A\n",
      " 26%|██▌       | 9/35 [00:06<00:19,  1.37it/s]\u001b[A\n",
      " 29%|██▊       | 10/35 [00:06<00:18,  1.36it/s]\u001b[A\n",
      " 31%|███▏      | 11/35 [00:07<00:17,  1.35it/s]\u001b[A\n",
      " 34%|███▍      | 12/35 [00:08<00:17,  1.34it/s]\u001b[A\n",
      " 37%|███▋      | 13/35 [00:09<00:16,  1.34it/s]\u001b[A\n",
      " 40%|████      | 14/35 [00:09<00:16,  1.31it/s]\u001b[A\n",
      " 43%|████▎     | 15/35 [00:10<00:15,  1.31it/s]\u001b[A\n",
      " 46%|████▌     | 16/35 [00:11<00:14,  1.32it/s]\u001b[A\n",
      " 49%|████▊     | 17/35 [00:12<00:13,  1.32it/s]\u001b[A\n",
      " 51%|█████▏    | 18/35 [00:12<00:12,  1.31it/s]\u001b[A\n",
      " 54%|█████▍    | 19/35 [00:13<00:12,  1.31it/s]\u001b[A\n",
      " 57%|█████▋    | 20/35 [00:14<00:11,  1.32it/s]\u001b[A\n",
      " 60%|██████    | 21/35 [00:15<00:10,  1.32it/s]\u001b[A\n",
      " 63%|██████▎   | 22/35 [00:15<00:09,  1.32it/s]\u001b[A\n",
      " 66%|██████▌   | 23/35 [00:16<00:09,  1.32it/s]\u001b[A\n",
      " 69%|██████▊   | 24/35 [00:17<00:08,  1.32it/s]\u001b[A\n",
      " 71%|███████▏  | 25/35 [00:18<00:07,  1.32it/s]\u001b[A\n",
      " 74%|███████▍  | 26/35 [00:18<00:06,  1.33it/s]\u001b[A\n",
      " 77%|███████▋  | 27/35 [00:19<00:06,  1.33it/s]\u001b[A\n",
      " 80%|████████  | 28/35 [00:20<00:05,  1.33it/s]\u001b[A\n",
      " 83%|████████▎ | 29/35 [00:21<00:04,  1.34it/s]\u001b[A\n",
      " 86%|████████▌ | 30/35 [00:21<00:03,  1.33it/s]\u001b[A\n",
      " 89%|████████▊ | 31/35 [00:22<00:02,  1.33it/s]\u001b[A\n",
      " 91%|█████████▏| 32/35 [00:23<00:02,  1.34it/s]\u001b[A\n",
      " 94%|█████████▍| 33/35 [00:24<00:01,  1.33it/s]\u001b[A\n",
      " 97%|█████████▋| 34/35 [00:24<00:00,  1.33it/s]\u001b[A\n",
      "                                                  \n",
      " 15%|█▌        | 300/2000 [06:55<31:49,  1.12s/it]\n",
      "100%|██████████| 35/35 [00:25<00:00,  1.39it/s]\u001b[A\n",
      "                                               \u001b[A"
     ]
    },
    {
     "name": "stdout",
     "output_type": "stream",
     "text": [
      "{'eval_loss': 0.16762928664684296, 'eval_runtime': 26.2733, 'eval_samples_per_second': 10.581, 'eval_steps_per_second': 1.332, 'epoch': 2.14}\n"
     ]
    },
    {
     "name": "stderr",
     "output_type": "stream",
     "text": [
      " 20%|██        | 400/2000 [08:48<29:49,  1.12s/it]  "
     ]
    },
    {
     "name": "stdout",
     "output_type": "stream",
     "text": [
      "{'loss': 0.0691, 'grad_norm': 0.4492594599723816, 'learning_rate': 0.0002527894736842105, 'epoch': 2.85}\n"
     ]
    },
    {
     "name": "stderr",
     "output_type": "stream",
     "text": [
      "\n",
      "  0%|          | 0/35 [00:00<?, ?it/s]\u001b[A\n",
      "  6%|▌         | 2/35 [00:00<00:13,  2.54it/s]\u001b[A\n",
      "  9%|▊         | 3/35 [00:01<00:17,  1.82it/s]\u001b[A\n",
      " 11%|█▏        | 4/35 [00:02<00:19,  1.61it/s]\u001b[A\n",
      " 14%|█▍        | 5/35 [00:03<00:19,  1.51it/s]\u001b[A\n",
      " 17%|█▋        | 6/35 [00:03<00:20,  1.45it/s]\u001b[A\n",
      " 20%|██        | 7/35 [00:04<00:19,  1.41it/s]\u001b[A\n",
      " 23%|██▎       | 8/35 [00:05<00:19,  1.38it/s]\u001b[A\n",
      " 26%|██▌       | 9/35 [00:06<00:19,  1.37it/s]\u001b[A\n",
      " 29%|██▊       | 10/35 [00:06<00:18,  1.36it/s]\u001b[A\n",
      " 31%|███▏      | 11/35 [00:07<00:17,  1.35it/s]\u001b[A\n",
      " 34%|███▍      | 12/35 [00:08<00:17,  1.34it/s]\u001b[A\n",
      " 37%|███▋      | 13/35 [00:09<00:16,  1.34it/s]\u001b[A\n",
      " 40%|████      | 14/35 [00:09<00:16,  1.31it/s]\u001b[A\n",
      " 43%|████▎     | 15/35 [00:10<00:15,  1.31it/s]\u001b[A\n",
      " 46%|████▌     | 16/35 [00:11<00:14,  1.32it/s]\u001b[A\n",
      " 49%|████▊     | 17/35 [00:12<00:13,  1.32it/s]\u001b[A\n",
      " 51%|█████▏    | 18/35 [00:12<00:12,  1.31it/s]\u001b[A\n",
      " 54%|█████▍    | 19/35 [00:13<00:12,  1.31it/s]\u001b[A\n",
      " 57%|█████▋    | 20/35 [00:14<00:11,  1.32it/s]\u001b[A\n",
      " 60%|██████    | 21/35 [00:15<00:10,  1.32it/s]\u001b[A\n",
      " 63%|██████▎   | 22/35 [00:15<00:09,  1.32it/s]\u001b[A\n",
      " 66%|██████▌   | 23/35 [00:16<00:09,  1.32it/s]\u001b[A\n",
      " 69%|██████▊   | 24/35 [00:17<00:08,  1.32it/s]\u001b[A\n",
      " 71%|███████▏  | 25/35 [00:18<00:07,  1.32it/s]\u001b[A\n",
      " 74%|███████▍  | 26/35 [00:18<00:06,  1.33it/s]\u001b[A\n",
      " 77%|███████▋  | 27/35 [00:19<00:06,  1.33it/s]\u001b[A\n",
      " 80%|████████  | 28/35 [00:20<00:05,  1.33it/s]\u001b[A\n",
      " 83%|████████▎ | 29/35 [00:21<00:04,  1.34it/s]\u001b[A\n",
      " 86%|████████▌ | 30/35 [00:21<00:03,  1.33it/s]\u001b[A\n",
      " 89%|████████▊ | 31/35 [00:22<00:02,  1.33it/s]\u001b[A\n",
      " 91%|█████████▏| 32/35 [00:23<00:02,  1.34it/s]\u001b[A\n",
      " 94%|█████████▍| 33/35 [00:24<00:01,  1.33it/s]\u001b[A\n",
      " 97%|█████████▋| 34/35 [00:24<00:00,  1.33it/s]\u001b[A\n",
      "                                                  \n",
      " 20%|██        | 400/2000 [09:15<29:49,  1.12s/it]\n",
      "100%|██████████| 35/35 [00:25<00:00,  1.39it/s]\u001b[A\n",
      "                                               \u001b[A"
     ]
    },
    {
     "name": "stdout",
     "output_type": "stream",
     "text": [
      "{'eval_loss': 0.169699564576149, 'eval_runtime': 26.2772, 'eval_samples_per_second': 10.58, 'eval_steps_per_second': 1.332, 'epoch': 2.85}\n"
     ]
    },
    {
     "name": "stderr",
     "output_type": "stream",
     "text": [
      " 25%|██▌       | 500/2000 [11:08<27:59,  1.12s/it]  "
     ]
    },
    {
     "name": "stdout",
     "output_type": "stream",
     "text": [
      "{'loss': 0.0423, 'grad_norm': 0.382100373506546, 'learning_rate': 0.000237, 'epoch': 3.56}\n"
     ]
    },
    {
     "name": "stderr",
     "output_type": "stream",
     "text": [
      "\n",
      "  0%|          | 0/35 [00:00<?, ?it/s]\u001b[A\n",
      "  6%|▌         | 2/35 [00:00<00:13,  2.53it/s]\u001b[A\n",
      "  9%|▊         | 3/35 [00:01<00:17,  1.82it/s]\u001b[A\n",
      " 11%|█▏        | 4/35 [00:02<00:19,  1.61it/s]\u001b[A\n",
      " 14%|█▍        | 5/35 [00:03<00:19,  1.51it/s]\u001b[A\n",
      " 17%|█▋        | 6/35 [00:03<00:20,  1.45it/s]\u001b[A\n",
      " 20%|██        | 7/35 [00:04<00:19,  1.41it/s]\u001b[A\n",
      " 23%|██▎       | 8/35 [00:05<00:19,  1.38it/s]\u001b[A\n",
      " 26%|██▌       | 9/35 [00:06<00:19,  1.37it/s]\u001b[A\n",
      " 29%|██▊       | 10/35 [00:06<00:18,  1.36it/s]\u001b[A\n",
      " 31%|███▏      | 11/35 [00:07<00:17,  1.35it/s]\u001b[A\n",
      " 34%|███▍      | 12/35 [00:08<00:17,  1.34it/s]\u001b[A\n",
      " 37%|███▋      | 13/35 [00:09<00:16,  1.34it/s]\u001b[A\n",
      " 40%|████      | 14/35 [00:09<00:16,  1.31it/s]\u001b[A\n",
      " 43%|████▎     | 15/35 [00:10<00:15,  1.31it/s]\u001b[A\n",
      " 46%|████▌     | 16/35 [00:11<00:14,  1.32it/s]\u001b[A\n",
      " 49%|████▊     | 17/35 [00:12<00:13,  1.32it/s]\u001b[A\n",
      " 51%|█████▏    | 18/35 [00:12<00:12,  1.31it/s]\u001b[A\n",
      " 54%|█████▍    | 19/35 [00:13<00:12,  1.31it/s]\u001b[A\n",
      " 57%|█████▋    | 20/35 [00:14<00:11,  1.32it/s]\u001b[A\n",
      " 60%|██████    | 21/35 [00:15<00:10,  1.32it/s]\u001b[A\n",
      " 63%|██████▎   | 22/35 [00:15<00:09,  1.32it/s]\u001b[A\n",
      " 66%|██████▌   | 23/35 [00:16<00:09,  1.32it/s]\u001b[A\n",
      " 69%|██████▊   | 24/35 [00:17<00:08,  1.33it/s]\u001b[A\n",
      " 71%|███████▏  | 25/35 [00:18<00:07,  1.32it/s]\u001b[A\n",
      " 74%|███████▍  | 26/35 [00:18<00:06,  1.33it/s]\u001b[A\n",
      " 77%|███████▋  | 27/35 [00:19<00:06,  1.33it/s]\u001b[A\n",
      " 80%|████████  | 28/35 [00:20<00:05,  1.33it/s]\u001b[A\n",
      " 83%|████████▎ | 29/35 [00:21<00:04,  1.34it/s]\u001b[A\n",
      " 86%|████████▌ | 30/35 [00:21<00:03,  1.33it/s]\u001b[A\n",
      " 89%|████████▊ | 31/35 [00:22<00:02,  1.33it/s]\u001b[A\n",
      " 91%|█████████▏| 32/35 [00:23<00:02,  1.34it/s]\u001b[A\n",
      " 94%|█████████▍| 33/35 [00:24<00:01,  1.33it/s]\u001b[A\n",
      " 97%|█████████▋| 34/35 [00:24<00:00,  1.33it/s]\u001b[A\n",
      "                                                  \n",
      " 25%|██▌       | 500/2000 [11:34<27:59,  1.12s/it]\n",
      "100%|██████████| 35/35 [00:25<00:00,  1.39it/s]\u001b[A\n",
      "                                               \u001b[A"
     ]
    },
    {
     "name": "stdout",
     "output_type": "stream",
     "text": [
      "{'eval_loss': 0.18072260916233063, 'eval_runtime': 26.2688, 'eval_samples_per_second': 10.583, 'eval_steps_per_second': 1.332, 'epoch': 3.56}\n"
     ]
    },
    {
     "name": "stderr",
     "output_type": "stream",
     "text": [
      " 30%|███       | 600/2000 [13:27<26:01,  1.12s/it]  "
     ]
    },
    {
     "name": "stdout",
     "output_type": "stream",
     "text": [
      "{'loss': 0.0294, 'grad_norm': 0.06876469403505325, 'learning_rate': 0.00022121052631578946, 'epoch': 4.27}\n"
     ]
    },
    {
     "name": "stderr",
     "output_type": "stream",
     "text": [
      "\n",
      "  0%|          | 0/35 [00:00<?, ?it/s]\u001b[A\n",
      "  6%|▌         | 2/35 [00:00<00:13,  2.53it/s]\u001b[A\n",
      "  9%|▊         | 3/35 [00:01<00:17,  1.82it/s]\u001b[A\n",
      " 11%|█▏        | 4/35 [00:02<00:19,  1.61it/s]\u001b[A\n",
      " 14%|█▍        | 5/35 [00:03<00:19,  1.51it/s]\u001b[A\n",
      " 17%|█▋        | 6/35 [00:03<00:20,  1.45it/s]\u001b[A\n",
      " 20%|██        | 7/35 [00:04<00:19,  1.41it/s]\u001b[A\n",
      " 23%|██▎       | 8/35 [00:05<00:19,  1.38it/s]\u001b[A\n",
      " 26%|██▌       | 9/35 [00:06<00:19,  1.37it/s]\u001b[A\n",
      " 29%|██▊       | 10/35 [00:06<00:18,  1.36it/s]\u001b[A\n",
      " 31%|███▏      | 11/35 [00:07<00:17,  1.35it/s]\u001b[A\n",
      " 34%|███▍      | 12/35 [00:08<00:17,  1.34it/s]\u001b[A\n",
      " 37%|███▋      | 13/35 [00:09<00:16,  1.33it/s]\u001b[A\n",
      " 40%|████      | 14/35 [00:09<00:16,  1.31it/s]\u001b[A\n",
      " 43%|████▎     | 15/35 [00:10<00:15,  1.30it/s]\u001b[A\n",
      " 46%|████▌     | 16/35 [00:11<00:14,  1.31it/s]\u001b[A\n",
      " 49%|████▊     | 17/35 [00:12<00:13,  1.32it/s]\u001b[A\n",
      " 51%|█████▏    | 18/35 [00:12<00:12,  1.31it/s]\u001b[A\n",
      " 54%|█████▍    | 19/35 [00:13<00:12,  1.31it/s]\u001b[A\n",
      " 57%|█████▋    | 20/35 [00:14<00:11,  1.32it/s]\u001b[A\n",
      " 60%|██████    | 21/35 [00:15<00:10,  1.32it/s]\u001b[A\n",
      " 63%|██████▎   | 22/35 [00:15<00:09,  1.32it/s]\u001b[A\n",
      " 66%|██████▌   | 23/35 [00:16<00:09,  1.32it/s]\u001b[A\n",
      " 69%|██████▊   | 24/35 [00:17<00:08,  1.32it/s]\u001b[A\n",
      " 71%|███████▏  | 25/35 [00:18<00:07,  1.32it/s]\u001b[A\n",
      " 74%|███████▍  | 26/35 [00:18<00:06,  1.33it/s]\u001b[A\n",
      " 77%|███████▋  | 27/35 [00:19<00:06,  1.33it/s]\u001b[A\n",
      " 80%|████████  | 28/35 [00:20<00:05,  1.33it/s]\u001b[A\n",
      " 83%|████████▎ | 29/35 [00:21<00:04,  1.33it/s]\u001b[A\n",
      " 86%|████████▌ | 30/35 [00:21<00:03,  1.33it/s]\u001b[A\n",
      " 89%|████████▊ | 31/35 [00:22<00:02,  1.33it/s]\u001b[A\n",
      " 91%|█████████▏| 32/35 [00:23<00:02,  1.34it/s]\u001b[A\n",
      " 94%|█████████▍| 33/35 [00:24<00:01,  1.33it/s]\u001b[A\n",
      " 97%|█████████▋| 34/35 [00:24<00:00,  1.33it/s]\u001b[A\n",
      "                                                  \n",
      " 30%|███       | 600/2000 [13:53<26:01,  1.12s/it]\n",
      "100%|██████████| 35/35 [00:25<00:00,  1.39it/s]\u001b[A\n",
      "                                               \u001b[A"
     ]
    },
    {
     "name": "stdout",
     "output_type": "stream",
     "text": [
      "{'eval_loss': 0.20214025676250458, 'eval_runtime': 26.2871, 'eval_samples_per_second': 10.576, 'eval_steps_per_second': 1.331, 'epoch': 4.27}\n"
     ]
    },
    {
     "name": "stderr",
     "output_type": "stream",
     "text": [
      " 35%|███▌      | 700/2000 [15:46<24:25,  1.13s/it]  "
     ]
    },
    {
     "name": "stdout",
     "output_type": "stream",
     "text": [
      "{'loss': 0.0191, 'grad_norm': 0.048972927033901215, 'learning_rate': 0.00020542105263157893, 'epoch': 4.98}\n"
     ]
    },
    {
     "name": "stderr",
     "output_type": "stream",
     "text": [
      "\n",
      "  0%|          | 0/35 [00:00<?, ?it/s]\u001b[A\n",
      "  6%|▌         | 2/35 [00:00<00:13,  2.53it/s]\u001b[A\n",
      "  9%|▊         | 3/35 [00:01<00:17,  1.82it/s]\u001b[A\n",
      " 11%|█▏        | 4/35 [00:02<00:19,  1.61it/s]\u001b[A\n",
      " 14%|█▍        | 5/35 [00:03<00:19,  1.51it/s]\u001b[A\n",
      " 17%|█▋        | 6/35 [00:03<00:20,  1.45it/s]\u001b[A\n",
      " 20%|██        | 7/35 [00:04<00:19,  1.41it/s]\u001b[A\n",
      " 23%|██▎       | 8/35 [00:05<00:19,  1.38it/s]\u001b[A\n",
      " 26%|██▌       | 9/35 [00:06<00:19,  1.37it/s]\u001b[A\n",
      " 29%|██▊       | 10/35 [00:06<00:18,  1.36it/s]\u001b[A\n",
      " 31%|███▏      | 11/35 [00:07<00:17,  1.35it/s]\u001b[A\n",
      " 34%|███▍      | 12/35 [00:08<00:17,  1.34it/s]\u001b[A\n",
      " 37%|███▋      | 13/35 [00:09<00:16,  1.34it/s]\u001b[A\n",
      " 40%|████      | 14/35 [00:09<00:16,  1.31it/s]\u001b[A\n",
      " 43%|████▎     | 15/35 [00:10<00:15,  1.31it/s]\u001b[A\n",
      " 46%|████▌     | 16/35 [00:11<00:14,  1.32it/s]\u001b[A\n",
      " 49%|████▊     | 17/35 [00:12<00:13,  1.32it/s]\u001b[A\n",
      " 51%|█████▏    | 18/35 [00:12<00:12,  1.31it/s]\u001b[A\n",
      " 54%|█████▍    | 19/35 [00:13<00:12,  1.31it/s]\u001b[A\n",
      " 57%|█████▋    | 20/35 [00:14<00:11,  1.32it/s]\u001b[A\n",
      " 60%|██████    | 21/35 [00:15<00:10,  1.32it/s]\u001b[A\n",
      " 63%|██████▎   | 22/35 [00:15<00:09,  1.32it/s]\u001b[A\n",
      " 66%|██████▌   | 23/35 [00:16<00:09,  1.32it/s]\u001b[A\n",
      " 69%|██████▊   | 24/35 [00:17<00:08,  1.32it/s]\u001b[A\n",
      " 71%|███████▏  | 25/35 [00:18<00:07,  1.32it/s]\u001b[A\n",
      " 74%|███████▍  | 26/35 [00:18<00:06,  1.33it/s]\u001b[A\n",
      " 77%|███████▋  | 27/35 [00:19<00:06,  1.33it/s]\u001b[A\n",
      " 80%|████████  | 28/35 [00:20<00:05,  1.33it/s]\u001b[A\n",
      " 83%|████████▎ | 29/35 [00:21<00:04,  1.34it/s]\u001b[A\n",
      " 86%|████████▌ | 30/35 [00:21<00:03,  1.33it/s]\u001b[A\n",
      " 89%|████████▊ | 31/35 [00:22<00:02,  1.33it/s]\u001b[A\n",
      " 91%|█████████▏| 32/35 [00:23<00:02,  1.34it/s]\u001b[A\n",
      " 94%|█████████▍| 33/35 [00:24<00:01,  1.33it/s]\u001b[A\n",
      " 97%|█████████▋| 34/35 [00:24<00:00,  1.33it/s]\u001b[A\n",
      "                                                  \n",
      " 35%|███▌      | 700/2000 [16:12<24:25,  1.13s/it]\n",
      "100%|██████████| 35/35 [00:25<00:00,  1.39it/s]\u001b[A\n",
      "                                               \u001b[A"
     ]
    },
    {
     "name": "stdout",
     "output_type": "stream",
     "text": [
      "{'eval_loss': 0.1903734803199768, 'eval_runtime': 26.2738, 'eval_samples_per_second': 10.581, 'eval_steps_per_second': 1.332, 'epoch': 4.98}\n"
     ]
    },
    {
     "name": "stderr",
     "output_type": "stream",
     "text": [
      " 40%|████      | 800/2000 [18:04<22:22,  1.12s/it]  "
     ]
    },
    {
     "name": "stdout",
     "output_type": "stream",
     "text": [
      "{'loss': 0.0101, 'grad_norm': 0.17362388968467712, 'learning_rate': 0.0001896315789473684, 'epoch': 5.69}\n"
     ]
    },
    {
     "name": "stderr",
     "output_type": "stream",
     "text": [
      "\n",
      "  0%|          | 0/35 [00:00<?, ?it/s]\u001b[A\n",
      "  6%|▌         | 2/35 [00:00<00:13,  2.53it/s]\u001b[A\n",
      "  9%|▊         | 3/35 [00:01<00:17,  1.82it/s]\u001b[A\n",
      " 11%|█▏        | 4/35 [00:02<00:19,  1.61it/s]\u001b[A\n",
      " 14%|█▍        | 5/35 [00:03<00:19,  1.51it/s]\u001b[A\n",
      " 17%|█▋        | 6/35 [00:03<00:20,  1.45it/s]\u001b[A\n",
      " 20%|██        | 7/35 [00:04<00:19,  1.41it/s]\u001b[A\n",
      " 23%|██▎       | 8/35 [00:05<00:19,  1.38it/s]\u001b[A\n",
      " 26%|██▌       | 9/35 [00:06<00:19,  1.37it/s]\u001b[A\n",
      " 29%|██▊       | 10/35 [00:06<00:18,  1.36it/s]\u001b[A\n",
      " 31%|███▏      | 11/35 [00:07<00:17,  1.35it/s]\u001b[A\n",
      " 34%|███▍      | 12/35 [00:08<00:17,  1.34it/s]\u001b[A\n",
      " 37%|███▋      | 13/35 [00:09<00:16,  1.34it/s]\u001b[A\n",
      " 40%|████      | 14/35 [00:09<00:16,  1.31it/s]\u001b[A\n",
      " 43%|████▎     | 15/35 [00:10<00:15,  1.31it/s]\u001b[A\n",
      " 46%|████▌     | 16/35 [00:11<00:14,  1.32it/s]\u001b[A\n",
      " 49%|████▊     | 17/35 [00:12<00:13,  1.32it/s]\u001b[A\n",
      " 51%|█████▏    | 18/35 [00:12<00:12,  1.31it/s]\u001b[A\n",
      " 54%|█████▍    | 19/35 [00:13<00:12,  1.31it/s]\u001b[A\n",
      " 57%|█████▋    | 20/35 [00:14<00:11,  1.32it/s]\u001b[A\n",
      " 60%|██████    | 21/35 [00:15<00:10,  1.32it/s]\u001b[A\n",
      " 63%|██████▎   | 22/35 [00:15<00:09,  1.32it/s]\u001b[A\n",
      " 66%|██████▌   | 23/35 [00:16<00:09,  1.32it/s]\u001b[A\n",
      " 69%|██████▊   | 24/35 [00:17<00:08,  1.32it/s]\u001b[A\n",
      " 71%|███████▏  | 25/35 [00:18<00:07,  1.32it/s]\u001b[A\n",
      " 74%|███████▍  | 26/35 [00:18<00:06,  1.33it/s]\u001b[A\n",
      " 77%|███████▋  | 27/35 [00:19<00:06,  1.33it/s]\u001b[A\n",
      " 80%|████████  | 28/35 [00:20<00:05,  1.33it/s]\u001b[A\n",
      " 83%|████████▎ | 29/35 [00:21<00:04,  1.33it/s]\u001b[A\n",
      " 86%|████████▌ | 30/35 [00:21<00:03,  1.33it/s]\u001b[A\n",
      " 89%|████████▊ | 31/35 [00:22<00:02,  1.33it/s]\u001b[A\n",
      " 91%|█████████▏| 32/35 [00:23<00:02,  1.34it/s]\u001b[A\n",
      " 94%|█████████▍| 33/35 [00:24<00:01,  1.33it/s]\u001b[A\n",
      " 97%|█████████▋| 34/35 [00:24<00:00,  1.33it/s]\u001b[A\n",
      "                                                  \n",
      " 40%|████      | 800/2000 [18:31<22:22,  1.12s/it]\n",
      "100%|██████████| 35/35 [00:25<00:00,  1.39it/s]\u001b[A\n",
      "                                               \u001b[A"
     ]
    },
    {
     "name": "stdout",
     "output_type": "stream",
     "text": [
      "{'eval_loss': 0.21605275571346283, 'eval_runtime': 26.2825, 'eval_samples_per_second': 10.577, 'eval_steps_per_second': 1.332, 'epoch': 5.69}\n"
     ]
    },
    {
     "name": "stderr",
     "output_type": "stream",
     "text": [
      " 45%|████▌     | 900/2000 [20:23<20:35,  1.12s/it]  "
     ]
    },
    {
     "name": "stdout",
     "output_type": "stream",
     "text": [
      "{'loss': 0.0101, 'grad_norm': 0.05011051520705223, 'learning_rate': 0.0001738421052631579, 'epoch': 6.41}\n"
     ]
    },
    {
     "name": "stderr",
     "output_type": "stream",
     "text": [
      "\n",
      "  0%|          | 0/35 [00:00<?, ?it/s]\u001b[A\n",
      "  6%|▌         | 2/35 [00:00<00:13,  2.53it/s]\u001b[A\n",
      "  9%|▊         | 3/35 [00:01<00:17,  1.82it/s]\u001b[A\n",
      " 11%|█▏        | 4/35 [00:02<00:19,  1.61it/s]\u001b[A\n",
      " 14%|█▍        | 5/35 [00:03<00:19,  1.51it/s]\u001b[A\n",
      " 17%|█▋        | 6/35 [00:03<00:20,  1.45it/s]\u001b[A\n",
      " 20%|██        | 7/35 [00:04<00:19,  1.41it/s]\u001b[A\n",
      " 23%|██▎       | 8/35 [00:05<00:19,  1.38it/s]\u001b[A\n",
      " 26%|██▌       | 9/35 [00:06<00:19,  1.37it/s]\u001b[A\n",
      " 29%|██▊       | 10/35 [00:06<00:18,  1.36it/s]\u001b[A\n",
      " 31%|███▏      | 11/35 [00:07<00:17,  1.35it/s]\u001b[A\n",
      " 34%|███▍      | 12/35 [00:08<00:17,  1.34it/s]\u001b[A\n",
      " 37%|███▋      | 13/35 [00:09<00:16,  1.34it/s]\u001b[A\n",
      " 40%|████      | 14/35 [00:09<00:16,  1.31it/s]\u001b[A\n",
      " 43%|████▎     | 15/35 [00:10<00:15,  1.30it/s]\u001b[A\n",
      " 46%|████▌     | 16/35 [00:11<00:14,  1.31it/s]\u001b[A\n",
      " 49%|████▊     | 17/35 [00:12<00:13,  1.32it/s]\u001b[A\n",
      " 51%|█████▏    | 18/35 [00:12<00:12,  1.31it/s]\u001b[A\n",
      " 54%|█████▍    | 19/35 [00:13<00:12,  1.31it/s]\u001b[A\n",
      " 57%|█████▋    | 20/35 [00:14<00:11,  1.32it/s]\u001b[A\n",
      " 60%|██████    | 21/35 [00:15<00:10,  1.32it/s]\u001b[A\n",
      " 63%|██████▎   | 22/35 [00:15<00:09,  1.32it/s]\u001b[A\n",
      " 66%|██████▌   | 23/35 [00:16<00:09,  1.32it/s]\u001b[A\n",
      " 69%|██████▊   | 24/35 [00:17<00:08,  1.32it/s]\u001b[A\n",
      " 71%|███████▏  | 25/35 [00:18<00:07,  1.32it/s]\u001b[A\n",
      " 74%|███████▍  | 26/35 [00:18<00:06,  1.33it/s]\u001b[A\n",
      " 77%|███████▋  | 27/35 [00:19<00:06,  1.33it/s]\u001b[A\n",
      " 80%|████████  | 28/35 [00:20<00:05,  1.33it/s]\u001b[A\n",
      " 83%|████████▎ | 29/35 [00:21<00:04,  1.34it/s]\u001b[A\n",
      " 86%|████████▌ | 30/35 [00:21<00:03,  1.33it/s]\u001b[A\n",
      " 89%|████████▊ | 31/35 [00:22<00:02,  1.33it/s]\u001b[A\n",
      " 91%|█████████▏| 32/35 [00:23<00:02,  1.34it/s]\u001b[A\n",
      " 94%|█████████▍| 33/35 [00:24<00:01,  1.33it/s]\u001b[A\n",
      " 97%|█████████▋| 34/35 [00:24<00:00,  1.33it/s]\u001b[A\n",
      "                                                  \n",
      " 45%|████▌     | 900/2000 [20:50<20:35,  1.12s/it]\n",
      "100%|██████████| 35/35 [00:25<00:00,  1.39it/s]\u001b[A\n",
      "                                               \u001b[A"
     ]
    },
    {
     "name": "stdout",
     "output_type": "stream",
     "text": [
      "{'eval_loss': 0.23621153831481934, 'eval_runtime': 26.2889, 'eval_samples_per_second': 10.575, 'eval_steps_per_second': 1.331, 'epoch': 6.41}\n"
     ]
    },
    {
     "name": "stderr",
     "output_type": "stream",
     "text": [
      " 50%|█████     | 1000/2000 [22:42<18:48,  1.13s/it] "
     ]
    },
    {
     "name": "stdout",
     "output_type": "stream",
     "text": [
      "{'loss': 0.0057, 'grad_norm': 0.11518699675798416, 'learning_rate': 0.00015805263157894734, 'epoch': 7.12}\n"
     ]
    },
    {
     "name": "stderr",
     "output_type": "stream",
     "text": [
      "\n",
      "  0%|          | 0/35 [00:00<?, ?it/s]\u001b[A\n",
      "  6%|▌         | 2/35 [00:00<00:13,  2.53it/s]\u001b[A\n",
      "  9%|▊         | 3/35 [00:01<00:17,  1.82it/s]\u001b[A\n",
      " 11%|█▏        | 4/35 [00:02<00:19,  1.61it/s]\u001b[A\n",
      " 14%|█▍        | 5/35 [00:03<00:19,  1.51it/s]\u001b[A\n",
      " 17%|█▋        | 6/35 [00:03<00:20,  1.45it/s]\u001b[A\n",
      " 20%|██        | 7/35 [00:04<00:19,  1.41it/s]\u001b[A\n",
      " 23%|██▎       | 8/35 [00:05<00:19,  1.38it/s]\u001b[A\n",
      " 26%|██▌       | 9/35 [00:06<00:19,  1.37it/s]\u001b[A\n",
      " 29%|██▊       | 10/35 [00:06<00:18,  1.36it/s]\u001b[A\n",
      " 31%|███▏      | 11/35 [00:07<00:17,  1.35it/s]\u001b[A\n",
      " 34%|███▍      | 12/35 [00:08<00:17,  1.34it/s]\u001b[A\n",
      " 37%|███▋      | 13/35 [00:09<00:16,  1.34it/s]\u001b[A\n",
      " 40%|████      | 14/35 [00:09<00:16,  1.31it/s]\u001b[A\n",
      " 43%|████▎     | 15/35 [00:10<00:15,  1.30it/s]\u001b[A\n",
      " 46%|████▌     | 16/35 [00:11<00:14,  1.32it/s]\u001b[A\n",
      " 49%|████▊     | 17/35 [00:12<00:13,  1.32it/s]\u001b[A\n",
      " 51%|█████▏    | 18/35 [00:12<00:12,  1.31it/s]\u001b[A\n",
      " 54%|█████▍    | 19/35 [00:13<00:12,  1.31it/s]\u001b[A\n",
      " 57%|█████▋    | 20/35 [00:14<00:11,  1.32it/s]\u001b[A\n",
      " 60%|██████    | 21/35 [00:15<00:10,  1.32it/s]\u001b[A\n",
      " 63%|██████▎   | 22/35 [00:15<00:09,  1.32it/s]\u001b[A\n",
      " 66%|██████▌   | 23/35 [00:16<00:09,  1.32it/s]\u001b[A\n",
      " 69%|██████▊   | 24/35 [00:17<00:08,  1.32it/s]\u001b[A\n",
      " 71%|███████▏  | 25/35 [00:18<00:07,  1.32it/s]\u001b[A\n",
      " 74%|███████▍  | 26/35 [00:18<00:06,  1.33it/s]\u001b[A\n",
      " 77%|███████▋  | 27/35 [00:19<00:06,  1.33it/s]\u001b[A\n",
      " 80%|████████  | 28/35 [00:20<00:05,  1.33it/s]\u001b[A\n",
      " 83%|████████▎ | 29/35 [00:21<00:04,  1.34it/s]\u001b[A\n",
      " 86%|████████▌ | 30/35 [00:21<00:03,  1.33it/s]\u001b[A\n",
      " 89%|████████▊ | 31/35 [00:22<00:02,  1.33it/s]\u001b[A\n",
      " 91%|█████████▏| 32/35 [00:23<00:02,  1.34it/s]\u001b[A\n",
      " 94%|█████████▍| 33/35 [00:24<00:01,  1.33it/s]\u001b[A\n",
      " 97%|█████████▋| 34/35 [00:24<00:00,  1.33it/s]\u001b[A\n",
      "                                                   \n",
      " 50%|█████     | 1000/2000 [23:09<18:48,  1.13s/it]\n",
      "100%|██████████| 35/35 [00:25<00:00,  1.39it/s]\u001b[A\n",
      "                                               \u001b[A"
     ]
    },
    {
     "name": "stdout",
     "output_type": "stream",
     "text": [
      "{'eval_loss': 0.25088828802108765, 'eval_runtime': 26.2856, 'eval_samples_per_second': 10.576, 'eval_steps_per_second': 1.332, 'epoch': 7.12}\n"
     ]
    },
    {
     "name": "stderr",
     "output_type": "stream",
     "text": [
      " 55%|█████▌    | 1100/2000 [25:01<16:41,  1.11s/it]  "
     ]
    },
    {
     "name": "stdout",
     "output_type": "stream",
     "text": [
      "{'loss': 0.0034, 'grad_norm': 0.3095650374889374, 'learning_rate': 0.00014226315789473684, 'epoch': 7.83}\n"
     ]
    },
    {
     "name": "stderr",
     "output_type": "stream",
     "text": [
      "\n",
      "  0%|          | 0/35 [00:00<?, ?it/s]\u001b[A\n",
      "  6%|▌         | 2/35 [00:00<00:13,  2.54it/s]\u001b[A\n",
      "  9%|▊         | 3/35 [00:01<00:17,  1.82it/s]\u001b[A\n",
      " 11%|█▏        | 4/35 [00:02<00:19,  1.61it/s]\u001b[A\n",
      " 14%|█▍        | 5/35 [00:03<00:19,  1.51it/s]\u001b[A\n",
      " 17%|█▋        | 6/35 [00:03<00:20,  1.45it/s]\u001b[A\n",
      " 20%|██        | 7/35 [00:04<00:19,  1.41it/s]\u001b[A\n",
      " 23%|██▎       | 8/35 [00:05<00:19,  1.38it/s]\u001b[A\n",
      " 26%|██▌       | 9/35 [00:06<00:19,  1.37it/s]\u001b[A\n",
      " 29%|██▊       | 10/35 [00:06<00:18,  1.36it/s]\u001b[A\n",
      " 31%|███▏      | 11/35 [00:07<00:17,  1.35it/s]\u001b[A\n",
      " 34%|███▍      | 12/35 [00:08<00:17,  1.34it/s]\u001b[A\n",
      " 37%|███▋      | 13/35 [00:09<00:16,  1.34it/s]\u001b[A\n",
      " 40%|████      | 14/35 [00:09<00:16,  1.31it/s]\u001b[A\n",
      " 43%|████▎     | 15/35 [00:10<00:15,  1.31it/s]\u001b[A\n",
      " 46%|████▌     | 16/35 [00:11<00:14,  1.32it/s]\u001b[A\n",
      " 49%|████▊     | 17/35 [00:12<00:13,  1.32it/s]\u001b[A\n",
      " 51%|█████▏    | 18/35 [00:12<00:12,  1.31it/s]\u001b[A\n",
      " 54%|█████▍    | 19/35 [00:13<00:12,  1.31it/s]\u001b[A\n",
      " 57%|█████▋    | 20/35 [00:14<00:11,  1.32it/s]\u001b[A\n",
      " 60%|██████    | 21/35 [00:15<00:10,  1.32it/s]\u001b[A\n",
      " 63%|██████▎   | 22/35 [00:15<00:09,  1.32it/s]\u001b[A\n",
      " 66%|██████▌   | 23/35 [00:16<00:09,  1.32it/s]\u001b[A\n",
      " 69%|██████▊   | 24/35 [00:17<00:08,  1.32it/s]\u001b[A\n",
      " 71%|███████▏  | 25/35 [00:18<00:07,  1.32it/s]\u001b[A\n",
      " 74%|███████▍  | 26/35 [00:18<00:06,  1.33it/s]\u001b[A\n",
      " 77%|███████▋  | 27/35 [00:19<00:06,  1.33it/s]\u001b[A\n",
      " 80%|████████  | 28/35 [00:20<00:05,  1.33it/s]\u001b[A\n",
      " 83%|████████▎ | 29/35 [00:21<00:04,  1.34it/s]\u001b[A\n",
      " 86%|████████▌ | 30/35 [00:21<00:03,  1.33it/s]\u001b[A\n",
      " 89%|████████▊ | 31/35 [00:22<00:02,  1.33it/s]\u001b[A\n",
      " 91%|█████████▏| 32/35 [00:23<00:02,  1.34it/s]\u001b[A\n",
      " 94%|█████████▍| 33/35 [00:24<00:01,  1.33it/s]\u001b[A\n",
      " 97%|█████████▋| 34/35 [00:24<00:00,  1.33it/s]\u001b[A\n",
      "                                                   \n",
      " 55%|█████▌    | 1100/2000 [25:28<16:41,  1.11s/it]\n",
      "100%|██████████| 35/35 [00:25<00:00,  1.39it/s]\u001b[A\n",
      "                                               \u001b[A"
     ]
    },
    {
     "name": "stdout",
     "output_type": "stream",
     "text": [
      "{'eval_loss': 0.24931716918945312, 'eval_runtime': 26.2719, 'eval_samples_per_second': 10.582, 'eval_steps_per_second': 1.332, 'epoch': 7.83}\n"
     ]
    },
    {
     "name": "stderr",
     "output_type": "stream",
     "text": [
      " 60%|██████    | 1200/2000 [27:20<14:49,  1.11s/it]  "
     ]
    },
    {
     "name": "stdout",
     "output_type": "stream",
     "text": [
      "{'loss': 0.0023, 'grad_norm': 0.11529509723186493, 'learning_rate': 0.0001264736842105263, 'epoch': 8.54}\n"
     ]
    },
    {
     "name": "stderr",
     "output_type": "stream",
     "text": [
      "\n",
      "  0%|          | 0/35 [00:00<?, ?it/s]\u001b[A\n",
      "  6%|▌         | 2/35 [00:00<00:13,  2.53it/s]\u001b[A\n",
      "  9%|▊         | 3/35 [00:01<00:17,  1.82it/s]\u001b[A\n",
      " 11%|█▏        | 4/35 [00:02<00:19,  1.61it/s]\u001b[A\n",
      " 14%|█▍        | 5/35 [00:03<00:19,  1.51it/s]\u001b[A\n",
      " 17%|█▋        | 6/35 [00:03<00:20,  1.45it/s]\u001b[A\n",
      " 20%|██        | 7/35 [00:04<00:19,  1.41it/s]\u001b[A\n",
      " 23%|██▎       | 8/35 [00:05<00:19,  1.38it/s]\u001b[A\n",
      " 26%|██▌       | 9/35 [00:06<00:19,  1.37it/s]\u001b[A\n",
      " 29%|██▊       | 10/35 [00:06<00:18,  1.36it/s]\u001b[A\n",
      " 31%|███▏      | 11/35 [00:07<00:17,  1.35it/s]\u001b[A\n",
      " 34%|███▍      | 12/35 [00:08<00:17,  1.34it/s]\u001b[A\n",
      " 37%|███▋      | 13/35 [00:09<00:16,  1.34it/s]\u001b[A\n",
      " 40%|████      | 14/35 [00:09<00:16,  1.31it/s]\u001b[A\n",
      " 43%|████▎     | 15/35 [00:10<00:15,  1.31it/s]\u001b[A\n",
      " 46%|████▌     | 16/35 [00:11<00:14,  1.32it/s]\u001b[A\n",
      " 49%|████▊     | 17/35 [00:12<00:13,  1.32it/s]\u001b[A\n",
      " 51%|█████▏    | 18/35 [00:12<00:12,  1.31it/s]\u001b[A\n",
      " 54%|█████▍    | 19/35 [00:13<00:12,  1.31it/s]\u001b[A\n",
      " 57%|█████▋    | 20/35 [00:14<00:11,  1.32it/s]\u001b[A\n",
      " 60%|██████    | 21/35 [00:15<00:10,  1.32it/s]\u001b[A\n",
      " 63%|██████▎   | 22/35 [00:15<00:09,  1.32it/s]\u001b[A\n",
      " 66%|██████▌   | 23/35 [00:16<00:09,  1.32it/s]\u001b[A\n",
      " 69%|██████▊   | 24/35 [00:17<00:08,  1.32it/s]\u001b[A\n",
      " 71%|███████▏  | 25/35 [00:18<00:07,  1.32it/s]\u001b[A\n",
      " 74%|███████▍  | 26/35 [00:18<00:06,  1.33it/s]\u001b[A\n",
      " 77%|███████▋  | 27/35 [00:19<00:06,  1.33it/s]\u001b[A\n",
      " 80%|████████  | 28/35 [00:20<00:05,  1.33it/s]\u001b[A\n",
      " 83%|████████▎ | 29/35 [00:21<00:04,  1.34it/s]\u001b[A\n",
      " 86%|████████▌ | 30/35 [00:21<00:03,  1.33it/s]\u001b[A\n",
      " 89%|████████▊ | 31/35 [00:22<00:02,  1.33it/s]\u001b[A\n",
      " 91%|█████████▏| 32/35 [00:23<00:02,  1.34it/s]\u001b[A\n",
      " 94%|█████████▍| 33/35 [00:24<00:01,  1.33it/s]\u001b[A\n",
      " 97%|█████████▋| 34/35 [00:24<00:00,  1.33it/s]\u001b[A\n",
      "                                                   \n",
      " 60%|██████    | 1200/2000 [27:46<14:49,  1.11s/it]\n",
      "100%|██████████| 35/35 [00:25<00:00,  1.39it/s]\u001b[A\n",
      "                                               \u001b[A"
     ]
    },
    {
     "name": "stdout",
     "output_type": "stream",
     "text": [
      "{'eval_loss': 0.28115537762641907, 'eval_runtime': 26.2762, 'eval_samples_per_second': 10.58, 'eval_steps_per_second': 1.332, 'epoch': 8.54}\n"
     ]
    },
    {
     "name": "stderr",
     "output_type": "stream",
     "text": [
      " 65%|██████▌   | 1300/2000 [29:39<12:57,  1.11s/it]  "
     ]
    },
    {
     "name": "stdout",
     "output_type": "stream",
     "text": [
      "{'loss': 0.0034, 'grad_norm': 0.009993341751396656, 'learning_rate': 0.00011068421052631578, 'epoch': 9.25}\n"
     ]
    },
    {
     "name": "stderr",
     "output_type": "stream",
     "text": [
      "\n",
      "  0%|          | 0/35 [00:00<?, ?it/s]\u001b[A\n",
      "  6%|▌         | 2/35 [00:00<00:13,  2.53it/s]\u001b[A\n",
      "  9%|▊         | 3/35 [00:01<00:17,  1.82it/s]\u001b[A\n",
      " 11%|█▏        | 4/35 [00:02<00:19,  1.61it/s]\u001b[A\n",
      " 14%|█▍        | 5/35 [00:03<00:19,  1.51it/s]\u001b[A\n",
      " 17%|█▋        | 6/35 [00:03<00:20,  1.45it/s]\u001b[A\n",
      " 20%|██        | 7/35 [00:04<00:19,  1.41it/s]\u001b[A\n",
      " 23%|██▎       | 8/35 [00:05<00:19,  1.38it/s]\u001b[A\n",
      " 26%|██▌       | 9/35 [00:06<00:19,  1.37it/s]\u001b[A\n",
      " 29%|██▊       | 10/35 [00:06<00:18,  1.36it/s]\u001b[A\n",
      " 31%|███▏      | 11/35 [00:07<00:17,  1.35it/s]\u001b[A\n",
      " 34%|███▍      | 12/35 [00:08<00:17,  1.34it/s]\u001b[A\n",
      " 37%|███▋      | 13/35 [00:09<00:16,  1.34it/s]\u001b[A\n",
      " 40%|████      | 14/35 [00:09<00:16,  1.31it/s]\u001b[A\n",
      " 43%|████▎     | 15/35 [00:10<00:15,  1.30it/s]\u001b[A\n",
      " 46%|████▌     | 16/35 [00:11<00:14,  1.31it/s]\u001b[A\n",
      " 49%|████▊     | 17/35 [00:12<00:13,  1.32it/s]\u001b[A\n",
      " 51%|█████▏    | 18/35 [00:12<00:12,  1.31it/s]\u001b[A\n",
      " 54%|█████▍    | 19/35 [00:13<00:12,  1.31it/s]\u001b[A\n",
      " 57%|█████▋    | 20/35 [00:14<00:11,  1.32it/s]\u001b[A\n",
      " 60%|██████    | 21/35 [00:15<00:10,  1.32it/s]\u001b[A\n",
      " 63%|██████▎   | 22/35 [00:15<00:09,  1.32it/s]\u001b[A\n",
      " 66%|██████▌   | 23/35 [00:16<00:09,  1.32it/s]\u001b[A\n",
      " 69%|██████▊   | 24/35 [00:17<00:08,  1.32it/s]\u001b[A\n",
      " 71%|███████▏  | 25/35 [00:18<00:07,  1.32it/s]\u001b[A\n",
      " 74%|███████▍  | 26/35 [00:18<00:06,  1.33it/s]\u001b[A\n",
      " 77%|███████▋  | 27/35 [00:19<00:06,  1.33it/s]\u001b[A\n",
      " 80%|████████  | 28/35 [00:20<00:05,  1.33it/s]\u001b[A\n",
      " 83%|████████▎ | 29/35 [00:21<00:04,  1.34it/s]\u001b[A\n",
      " 86%|████████▌ | 30/35 [00:21<00:03,  1.33it/s]\u001b[A\n",
      " 89%|████████▊ | 31/35 [00:22<00:02,  1.33it/s]\u001b[A\n",
      " 91%|█████████▏| 32/35 [00:23<00:02,  1.34it/s]\u001b[A\n",
      " 94%|█████████▍| 33/35 [00:24<00:01,  1.33it/s]\u001b[A\n",
      " 97%|█████████▋| 34/35 [00:24<00:00,  1.33it/s]\u001b[A\n",
      "                                                   \n",
      " 65%|██████▌   | 1300/2000 [30:06<12:57,  1.11s/it]\n",
      "100%|██████████| 35/35 [00:25<00:00,  1.39it/s]\u001b[A\n",
      "                                               \u001b[A"
     ]
    },
    {
     "name": "stdout",
     "output_type": "stream",
     "text": [
      "{'eval_loss': 0.2578215003013611, 'eval_runtime': 26.2856, 'eval_samples_per_second': 10.576, 'eval_steps_per_second': 1.332, 'epoch': 9.25}\n"
     ]
    },
    {
     "name": "stderr",
     "output_type": "stream",
     "text": [
      " 70%|███████   | 1400/2000 [31:58<11:08,  1.11s/it]  "
     ]
    },
    {
     "name": "stdout",
     "output_type": "stream",
     "text": [
      "{'loss': 0.0021, 'grad_norm': 0.017551885917782784, 'learning_rate': 9.489473684210525e-05, 'epoch': 9.96}\n"
     ]
    },
    {
     "name": "stderr",
     "output_type": "stream",
     "text": [
      "\n",
      "  0%|          | 0/35 [00:00<?, ?it/s]\u001b[A\n",
      "  6%|▌         | 2/35 [00:00<00:13,  2.53it/s]\u001b[A\n",
      "  9%|▊         | 3/35 [00:01<00:17,  1.82it/s]\u001b[A\n",
      " 11%|█▏        | 4/35 [00:02<00:19,  1.61it/s]\u001b[A\n",
      " 14%|█▍        | 5/35 [00:03<00:19,  1.51it/s]\u001b[A\n",
      " 17%|█▋        | 6/35 [00:03<00:20,  1.45it/s]\u001b[A\n",
      " 20%|██        | 7/35 [00:04<00:19,  1.41it/s]\u001b[A\n",
      " 23%|██▎       | 8/35 [00:05<00:19,  1.38it/s]\u001b[A\n",
      " 26%|██▌       | 9/35 [00:06<00:19,  1.37it/s]\u001b[A\n",
      " 29%|██▊       | 10/35 [00:06<00:18,  1.36it/s]\u001b[A\n",
      " 31%|███▏      | 11/35 [00:07<00:17,  1.35it/s]\u001b[A\n",
      " 34%|███▍      | 12/35 [00:08<00:17,  1.34it/s]\u001b[A\n",
      " 37%|███▋      | 13/35 [00:09<00:16,  1.34it/s]\u001b[A\n",
      " 40%|████      | 14/35 [00:09<00:16,  1.31it/s]\u001b[A\n",
      " 43%|████▎     | 15/35 [00:10<00:15,  1.31it/s]\u001b[A\n",
      " 46%|████▌     | 16/35 [00:11<00:14,  1.32it/s]\u001b[A\n",
      " 49%|████▊     | 17/35 [00:12<00:13,  1.32it/s]\u001b[A\n",
      " 51%|█████▏    | 18/35 [00:12<00:12,  1.31it/s]\u001b[A\n",
      " 54%|█████▍    | 19/35 [00:13<00:12,  1.31it/s]\u001b[A\n",
      " 57%|█████▋    | 20/35 [00:14<00:11,  1.32it/s]\u001b[A\n",
      " 60%|██████    | 21/35 [00:15<00:10,  1.32it/s]\u001b[A\n",
      " 63%|██████▎   | 22/35 [00:15<00:09,  1.32it/s]\u001b[A\n",
      " 66%|██████▌   | 23/35 [00:16<00:09,  1.32it/s]\u001b[A\n",
      " 69%|██████▊   | 24/35 [00:17<00:08,  1.33it/s]\u001b[A\n",
      " 71%|███████▏  | 25/35 [00:18<00:07,  1.32it/s]\u001b[A\n",
      " 74%|███████▍  | 26/35 [00:18<00:06,  1.33it/s]\u001b[A\n",
      " 77%|███████▋  | 27/35 [00:19<00:06,  1.33it/s]\u001b[A\n",
      " 80%|████████  | 28/35 [00:20<00:05,  1.33it/s]\u001b[A\n",
      " 83%|████████▎ | 29/35 [00:21<00:04,  1.34it/s]\u001b[A\n",
      " 86%|████████▌ | 30/35 [00:21<00:03,  1.33it/s]\u001b[A\n",
      " 89%|████████▊ | 31/35 [00:22<00:02,  1.33it/s]\u001b[A\n",
      " 91%|█████████▏| 32/35 [00:23<00:02,  1.34it/s]\u001b[A\n",
      " 94%|█████████▍| 33/35 [00:24<00:01,  1.33it/s]\u001b[A\n",
      " 97%|█████████▋| 34/35 [00:24<00:00,  1.33it/s]\u001b[A\n",
      "                                                   \n",
      " 70%|███████   | 1400/2000 [32:24<11:08,  1.11s/it]\n",
      "100%|██████████| 35/35 [00:25<00:00,  1.39it/s]\u001b[A\n",
      "                                               \u001b[A"
     ]
    },
    {
     "name": "stdout",
     "output_type": "stream",
     "text": [
      "{'eval_loss': 0.27880236506462097, 'eval_runtime': 26.2718, 'eval_samples_per_second': 10.582, 'eval_steps_per_second': 1.332, 'epoch': 9.96}\n"
     ]
    },
    {
     "name": "stderr",
     "output_type": "stream",
     "text": [
      " 75%|███████▌  | 1500/2000 [34:17<09:23,  1.13s/it]  "
     ]
    },
    {
     "name": "stdout",
     "output_type": "stream",
     "text": [
      "{'loss': 0.0005, 'grad_norm': 0.03348063305020332, 'learning_rate': 7.910526315789474e-05, 'epoch': 10.68}\n"
     ]
    },
    {
     "name": "stderr",
     "output_type": "stream",
     "text": [
      "\n",
      "  0%|          | 0/35 [00:00<?, ?it/s]\u001b[A\n",
      "  6%|▌         | 2/35 [00:00<00:13,  2.53it/s]\u001b[A\n",
      "  9%|▊         | 3/35 [00:01<00:17,  1.82it/s]\u001b[A\n",
      " 11%|█▏        | 4/35 [00:02<00:19,  1.61it/s]\u001b[A\n",
      " 14%|█▍        | 5/35 [00:03<00:19,  1.51it/s]\u001b[A\n",
      " 17%|█▋        | 6/35 [00:03<00:20,  1.45it/s]\u001b[A\n",
      " 20%|██        | 7/35 [00:04<00:19,  1.41it/s]\u001b[A\n",
      " 23%|██▎       | 8/35 [00:05<00:19,  1.38it/s]\u001b[A\n",
      " 26%|██▌       | 9/35 [00:06<00:19,  1.37it/s]\u001b[A\n",
      " 29%|██▊       | 10/35 [00:06<00:18,  1.36it/s]\u001b[A\n",
      " 31%|███▏      | 11/35 [00:07<00:17,  1.35it/s]\u001b[A\n",
      " 34%|███▍      | 12/35 [00:08<00:17,  1.34it/s]\u001b[A\n",
      " 37%|███▋      | 13/35 [00:09<00:16,  1.34it/s]\u001b[A\n",
      " 40%|████      | 14/35 [00:09<00:16,  1.31it/s]\u001b[A\n",
      " 43%|████▎     | 15/35 [00:10<00:15,  1.30it/s]\u001b[A\n",
      " 46%|████▌     | 16/35 [00:11<00:14,  1.31it/s]\u001b[A\n",
      " 49%|████▊     | 17/35 [00:12<00:13,  1.32it/s]\u001b[A\n",
      " 51%|█████▏    | 18/35 [00:12<00:12,  1.31it/s]\u001b[A\n",
      " 54%|█████▍    | 19/35 [00:13<00:12,  1.31it/s]\u001b[A\n",
      " 57%|█████▋    | 20/35 [00:14<00:11,  1.31it/s]\u001b[A\n",
      " 60%|██████    | 21/35 [00:15<00:10,  1.32it/s]\u001b[A\n",
      " 63%|██████▎   | 22/35 [00:15<00:09,  1.32it/s]\u001b[A\n",
      " 66%|██████▌   | 23/35 [00:16<00:09,  1.32it/s]\u001b[A\n",
      " 69%|██████▊   | 24/35 [00:17<00:08,  1.33it/s]\u001b[A\n",
      " 71%|███████▏  | 25/35 [00:18<00:07,  1.32it/s]\u001b[A\n",
      " 74%|███████▍  | 26/35 [00:18<00:06,  1.33it/s]\u001b[A\n",
      " 77%|███████▋  | 27/35 [00:19<00:06,  1.33it/s]\u001b[A\n",
      " 80%|████████  | 28/35 [00:20<00:05,  1.33it/s]\u001b[A\n",
      " 83%|████████▎ | 29/35 [00:21<00:04,  1.34it/s]\u001b[A\n",
      " 86%|████████▌ | 30/35 [00:21<00:03,  1.34it/s]\u001b[A\n",
      " 89%|████████▊ | 31/35 [00:22<00:02,  1.34it/s]\u001b[A\n",
      " 91%|█████████▏| 32/35 [00:23<00:02,  1.34it/s]\u001b[A\n",
      " 94%|█████████▍| 33/35 [00:24<00:01,  1.33it/s]\u001b[A\n",
      " 97%|█████████▋| 34/35 [00:24<00:00,  1.33it/s]\u001b[A\n",
      "                                                   \n",
      " 75%|███████▌  | 1500/2000 [34:43<09:23,  1.13s/it]\n",
      "100%|██████████| 35/35 [00:25<00:00,  1.39it/s]\u001b[A\n",
      "                                               \u001b[A"
     ]
    },
    {
     "name": "stdout",
     "output_type": "stream",
     "text": [
      "{'eval_loss': 0.28806284070014954, 'eval_runtime': 26.2733, 'eval_samples_per_second': 10.581, 'eval_steps_per_second': 1.332, 'epoch': 10.68}\n"
     ]
    },
    {
     "name": "stderr",
     "output_type": "stream",
     "text": [
      " 80%|████████  | 1600/2000 [36:36<07:31,  1.13s/it]  "
     ]
    },
    {
     "name": "stdout",
     "output_type": "stream",
     "text": [
      "{'loss': 0.0003, 'grad_norm': 0.012765894643962383, 'learning_rate': 6.33157894736842e-05, 'epoch': 11.39}\n"
     ]
    },
    {
     "name": "stderr",
     "output_type": "stream",
     "text": [
      "\n",
      "  0%|          | 0/35 [00:00<?, ?it/s]\u001b[A\n",
      "  6%|▌         | 2/35 [00:00<00:13,  2.53it/s]\u001b[A\n",
      "  9%|▊         | 3/35 [00:01<00:17,  1.82it/s]\u001b[A\n",
      " 11%|█▏        | 4/35 [00:02<00:19,  1.61it/s]\u001b[A\n",
      " 14%|█▍        | 5/35 [00:03<00:19,  1.51it/s]\u001b[A\n",
      " 17%|█▋        | 6/35 [00:03<00:20,  1.45it/s]\u001b[A\n",
      " 20%|██        | 7/35 [00:04<00:19,  1.41it/s]\u001b[A\n",
      " 23%|██▎       | 8/35 [00:05<00:19,  1.38it/s]\u001b[A\n",
      " 26%|██▌       | 9/35 [00:06<00:19,  1.37it/s]\u001b[A\n",
      " 29%|██▊       | 10/35 [00:06<00:18,  1.36it/s]\u001b[A\n",
      " 31%|███▏      | 11/35 [00:07<00:17,  1.35it/s]\u001b[A\n",
      " 34%|███▍      | 12/35 [00:08<00:17,  1.34it/s]\u001b[A\n",
      " 37%|███▋      | 13/35 [00:09<00:16,  1.34it/s]\u001b[A\n",
      " 40%|████      | 14/35 [00:09<00:16,  1.31it/s]\u001b[A\n",
      " 43%|████▎     | 15/35 [00:10<00:15,  1.30it/s]\u001b[A\n",
      " 46%|████▌     | 16/35 [00:11<00:14,  1.31it/s]\u001b[A\n",
      " 49%|████▊     | 17/35 [00:12<00:13,  1.32it/s]\u001b[A\n",
      " 51%|█████▏    | 18/35 [00:12<00:12,  1.31it/s]\u001b[A\n",
      " 54%|█████▍    | 19/35 [00:13<00:12,  1.31it/s]\u001b[A\n",
      " 57%|█████▋    | 20/35 [00:14<00:11,  1.32it/s]\u001b[A\n",
      " 60%|██████    | 21/35 [00:15<00:10,  1.32it/s]\u001b[A\n",
      " 63%|██████▎   | 22/35 [00:15<00:09,  1.32it/s]\u001b[A\n",
      " 66%|██████▌   | 23/35 [00:16<00:09,  1.32it/s]\u001b[A\n",
      " 69%|██████▊   | 24/35 [00:17<00:08,  1.33it/s]\u001b[A\n",
      " 71%|███████▏  | 25/35 [00:18<00:07,  1.32it/s]\u001b[A\n",
      " 74%|███████▍  | 26/35 [00:18<00:06,  1.33it/s]\u001b[A\n",
      " 77%|███████▋  | 27/35 [00:19<00:06,  1.33it/s]\u001b[A\n",
      " 80%|████████  | 28/35 [00:20<00:05,  1.33it/s]\u001b[A\n",
      " 83%|████████▎ | 29/35 [00:21<00:04,  1.34it/s]\u001b[A\n",
      " 86%|████████▌ | 30/35 [00:21<00:03,  1.34it/s]\u001b[A\n",
      " 89%|████████▊ | 31/35 [00:22<00:02,  1.34it/s]\u001b[A\n",
      " 91%|█████████▏| 32/35 [00:23<00:02,  1.34it/s]\u001b[A\n",
      " 94%|█████████▍| 33/35 [00:24<00:01,  1.33it/s]\u001b[A\n",
      " 97%|█████████▋| 34/35 [00:24<00:00,  1.33it/s]\u001b[A\n",
      "                                                   \n",
      " 80%|████████  | 1600/2000 [37:02<07:31,  1.13s/it]\n",
      "100%|██████████| 35/35 [00:25<00:00,  1.40it/s]\u001b[A\n",
      "                                               \u001b[A"
     ]
    },
    {
     "name": "stdout",
     "output_type": "stream",
     "text": [
      "{'eval_loss': 0.303241103887558, 'eval_runtime': 26.2676, 'eval_samples_per_second': 10.583, 'eval_steps_per_second': 1.332, 'epoch': 11.39}\n"
     ]
    },
    {
     "name": "stderr",
     "output_type": "stream",
     "text": [
      " 85%|████████▌ | 1700/2000 [38:55<05:38,  1.13s/it]  "
     ]
    },
    {
     "name": "stdout",
     "output_type": "stream",
     "text": [
      "{'loss': 0.0004, 'grad_norm': 0.02400927245616913, 'learning_rate': 4.752631578947368e-05, 'epoch': 12.1}\n"
     ]
    },
    {
     "name": "stderr",
     "output_type": "stream",
     "text": [
      "\n",
      "  0%|          | 0/35 [00:00<?, ?it/s]\u001b[A\n",
      "  6%|▌         | 2/35 [00:00<00:13,  2.53it/s]\u001b[A\n",
      "  9%|▊         | 3/35 [00:01<00:17,  1.82it/s]\u001b[A\n",
      " 11%|█▏        | 4/35 [00:02<00:19,  1.61it/s]\u001b[A\n",
      " 14%|█▍        | 5/35 [00:03<00:19,  1.51it/s]\u001b[A\n",
      " 17%|█▋        | 6/35 [00:03<00:20,  1.45it/s]\u001b[A\n",
      " 20%|██        | 7/35 [00:04<00:19,  1.41it/s]\u001b[A\n",
      " 23%|██▎       | 8/35 [00:05<00:19,  1.38it/s]\u001b[A\n",
      " 26%|██▌       | 9/35 [00:06<00:19,  1.37it/s]\u001b[A\n",
      " 29%|██▊       | 10/35 [00:06<00:18,  1.36it/s]\u001b[A\n",
      " 31%|███▏      | 11/35 [00:07<00:17,  1.35it/s]\u001b[A\n",
      " 34%|███▍      | 12/35 [00:08<00:17,  1.34it/s]\u001b[A\n",
      " 37%|███▋      | 13/35 [00:09<00:16,  1.34it/s]\u001b[A\n",
      " 40%|████      | 14/35 [00:09<00:16,  1.31it/s]\u001b[A\n",
      " 43%|████▎     | 15/35 [00:10<00:15,  1.31it/s]\u001b[A\n",
      " 46%|████▌     | 16/35 [00:11<00:14,  1.32it/s]\u001b[A\n",
      " 49%|████▊     | 17/35 [00:12<00:13,  1.32it/s]\u001b[A\n",
      " 51%|█████▏    | 18/35 [00:12<00:12,  1.31it/s]\u001b[A\n",
      " 54%|█████▍    | 19/35 [00:13<00:12,  1.31it/s]\u001b[A\n",
      " 57%|█████▋    | 20/35 [00:14<00:11,  1.32it/s]\u001b[A\n",
      " 60%|██████    | 21/35 [00:15<00:10,  1.32it/s]\u001b[A\n",
      " 63%|██████▎   | 22/35 [00:15<00:09,  1.32it/s]\u001b[A\n",
      " 66%|██████▌   | 23/35 [00:16<00:09,  1.32it/s]\u001b[A\n",
      " 69%|██████▊   | 24/35 [00:17<00:08,  1.32it/s]\u001b[A\n",
      " 71%|███████▏  | 25/35 [00:18<00:07,  1.32it/s]\u001b[A\n",
      " 74%|███████▍  | 26/35 [00:18<00:06,  1.33it/s]\u001b[A\n",
      " 77%|███████▋  | 27/35 [00:19<00:06,  1.33it/s]\u001b[A\n",
      " 80%|████████  | 28/35 [00:20<00:05,  1.33it/s]\u001b[A\n",
      " 83%|████████▎ | 29/35 [00:21<00:04,  1.34it/s]\u001b[A\n",
      " 86%|████████▌ | 30/35 [00:21<00:03,  1.33it/s]\u001b[A\n",
      " 89%|████████▊ | 31/35 [00:22<00:02,  1.33it/s]\u001b[A\n",
      " 91%|█████████▏| 32/35 [00:23<00:02,  1.34it/s]\u001b[A\n",
      " 94%|█████████▍| 33/35 [00:24<00:01,  1.33it/s]\u001b[A\n",
      " 97%|█████████▋| 34/35 [00:24<00:00,  1.33it/s]\u001b[A\n",
      "                                                   \n",
      " 85%|████████▌ | 1700/2000 [39:21<05:38,  1.13s/it]\n",
      "100%|██████████| 35/35 [00:25<00:00,  1.39it/s]\u001b[A\n",
      "                                               \u001b[A"
     ]
    },
    {
     "name": "stdout",
     "output_type": "stream",
     "text": [
      "{'eval_loss': 0.3079892098903656, 'eval_runtime': 26.2729, 'eval_samples_per_second': 10.581, 'eval_steps_per_second': 1.332, 'epoch': 12.1}\n"
     ]
    },
    {
     "name": "stderr",
     "output_type": "stream",
     "text": [
      " 90%|█████████ | 1800/2000 [41:13<03:45,  1.13s/it]"
     ]
    },
    {
     "name": "stdout",
     "output_type": "stream",
     "text": [
      "{'loss': 0.0003, 'grad_norm': 0.002720736898481846, 'learning_rate': 3.1736842105263155e-05, 'epoch': 12.81}\n"
     ]
    },
    {
     "name": "stderr",
     "output_type": "stream",
     "text": [
      "\n",
      "  0%|          | 0/35 [00:00<?, ?it/s]\u001b[A\n",
      "  6%|▌         | 2/35 [00:00<00:13,  2.53it/s]\u001b[A\n",
      "  9%|▊         | 3/35 [00:01<00:17,  1.82it/s]\u001b[A\n",
      " 11%|█▏        | 4/35 [00:02<00:19,  1.61it/s]\u001b[A\n",
      " 14%|█▍        | 5/35 [00:03<00:19,  1.51it/s]\u001b[A\n",
      " 17%|█▋        | 6/35 [00:03<00:20,  1.45it/s]\u001b[A\n",
      " 20%|██        | 7/35 [00:04<00:19,  1.41it/s]\u001b[A\n",
      " 23%|██▎       | 8/35 [00:05<00:19,  1.38it/s]\u001b[A\n",
      " 26%|██▌       | 9/35 [00:06<00:19,  1.37it/s]\u001b[A\n",
      " 29%|██▊       | 10/35 [00:06<00:18,  1.36it/s]\u001b[A\n",
      " 31%|███▏      | 11/35 [00:07<00:17,  1.35it/s]\u001b[A\n",
      " 34%|███▍      | 12/35 [00:08<00:17,  1.34it/s]\u001b[A\n",
      " 37%|███▋      | 13/35 [00:09<00:16,  1.33it/s]\u001b[A\n",
      " 40%|████      | 14/35 [00:09<00:16,  1.31it/s]\u001b[A\n",
      " 43%|████▎     | 15/35 [00:10<00:15,  1.30it/s]\u001b[A\n",
      " 46%|████▌     | 16/35 [00:11<00:14,  1.31it/s]\u001b[A\n",
      " 49%|████▊     | 17/35 [00:12<00:13,  1.32it/s]\u001b[A\n",
      " 51%|█████▏    | 18/35 [00:12<00:12,  1.31it/s]\u001b[A\n",
      " 54%|█████▍    | 19/35 [00:13<00:12,  1.31it/s]\u001b[A\n",
      " 57%|█████▋    | 20/35 [00:14<00:11,  1.31it/s]\u001b[A\n",
      " 60%|██████    | 21/35 [00:15<00:10,  1.32it/s]\u001b[A\n",
      " 63%|██████▎   | 22/35 [00:15<00:09,  1.32it/s]\u001b[A\n",
      " 66%|██████▌   | 23/35 [00:16<00:09,  1.32it/s]\u001b[A\n",
      " 69%|██████▊   | 24/35 [00:17<00:08,  1.32it/s]\u001b[A\n",
      " 71%|███████▏  | 25/35 [00:18<00:07,  1.32it/s]\u001b[A\n",
      " 74%|███████▍  | 26/35 [00:18<00:06,  1.32it/s]\u001b[A\n",
      " 77%|███████▋  | 27/35 [00:19<00:06,  1.32it/s]\u001b[A\n",
      " 80%|████████  | 28/35 [00:20<00:05,  1.33it/s]\u001b[A\n",
      " 83%|████████▎ | 29/35 [00:21<00:04,  1.33it/s]\u001b[A\n",
      " 86%|████████▌ | 30/35 [00:21<00:03,  1.33it/s]\u001b[A\n",
      " 89%|████████▊ | 31/35 [00:22<00:03,  1.33it/s]\u001b[A\n",
      " 91%|█████████▏| 32/35 [00:23<00:02,  1.34it/s]\u001b[A\n",
      " 94%|█████████▍| 33/35 [00:24<00:01,  1.33it/s]\u001b[A\n",
      " 97%|█████████▋| 34/35 [00:24<00:00,  1.33it/s]\u001b[A\n",
      "                                                   \n",
      " 90%|█████████ | 1800/2000 [41:40<03:45,  1.13s/it]\n",
      "100%|██████████| 35/35 [00:25<00:00,  1.39it/s]\u001b[A\n",
      "                                               \u001b[A"
     ]
    },
    {
     "name": "stdout",
     "output_type": "stream",
     "text": [
      "{'eval_loss': 0.3114924132823944, 'eval_runtime': 26.3084, 'eval_samples_per_second': 10.567, 'eval_steps_per_second': 1.33, 'epoch': 12.81}\n"
     ]
    },
    {
     "name": "stderr",
     "output_type": "stream",
     "text": [
      " 95%|█████████▌| 1900/2000 [43:32<01:53,  1.13s/it]"
     ]
    },
    {
     "name": "stdout",
     "output_type": "stream",
     "text": [
      "{'loss': 0.0001, 'grad_norm': 0.0051281508058309555, 'learning_rate': 1.594736842105263e-05, 'epoch': 13.52}\n"
     ]
    },
    {
     "name": "stderr",
     "output_type": "stream",
     "text": [
      "\n",
      "  0%|          | 0/35 [00:00<?, ?it/s]\u001b[A\n",
      "  6%|▌         | 2/35 [00:00<00:13,  2.53it/s]\u001b[A\n",
      "  9%|▊         | 3/35 [00:01<00:17,  1.82it/s]\u001b[A\n",
      " 11%|█▏        | 4/35 [00:02<00:19,  1.61it/s]\u001b[A\n",
      " 14%|█▍        | 5/35 [00:03<00:19,  1.51it/s]\u001b[A\n",
      " 17%|█▋        | 6/35 [00:03<00:20,  1.45it/s]\u001b[A\n",
      " 20%|██        | 7/35 [00:04<00:19,  1.41it/s]\u001b[A\n",
      " 23%|██▎       | 8/35 [00:05<00:19,  1.38it/s]\u001b[A\n",
      " 26%|██▌       | 9/35 [00:06<00:19,  1.37it/s]\u001b[A\n",
      " 29%|██▊       | 10/35 [00:06<00:18,  1.36it/s]\u001b[A\n",
      " 31%|███▏      | 11/35 [00:07<00:17,  1.35it/s]\u001b[A\n",
      " 34%|███▍      | 12/35 [00:08<00:17,  1.34it/s]\u001b[A\n",
      " 37%|███▋      | 13/35 [00:09<00:16,  1.33it/s]\u001b[A\n",
      " 40%|████      | 14/35 [00:09<00:16,  1.31it/s]\u001b[A\n",
      " 43%|████▎     | 15/35 [00:10<00:15,  1.30it/s]\u001b[A\n",
      " 46%|████▌     | 16/35 [00:11<00:14,  1.32it/s]\u001b[A\n",
      " 49%|████▊     | 17/35 [00:12<00:13,  1.32it/s]\u001b[A\n",
      " 51%|█████▏    | 18/35 [00:12<00:12,  1.31it/s]\u001b[A\n",
      " 54%|█████▍    | 19/35 [00:13<00:12,  1.31it/s]\u001b[A\n",
      " 57%|█████▋    | 20/35 [00:14<00:11,  1.32it/s]\u001b[A\n",
      " 60%|██████    | 21/35 [00:15<00:10,  1.32it/s]\u001b[A\n",
      " 63%|██████▎   | 22/35 [00:15<00:09,  1.32it/s]\u001b[A\n",
      " 66%|██████▌   | 23/35 [00:16<00:09,  1.32it/s]\u001b[A\n",
      " 69%|██████▊   | 24/35 [00:17<00:08,  1.32it/s]\u001b[A\n",
      " 71%|███████▏  | 25/35 [00:18<00:07,  1.32it/s]\u001b[A\n",
      " 74%|███████▍  | 26/35 [00:18<00:06,  1.33it/s]\u001b[A\n",
      " 77%|███████▋  | 27/35 [00:19<00:06,  1.33it/s]\u001b[A\n",
      " 80%|████████  | 28/35 [00:20<00:05,  1.33it/s]\u001b[A\n",
      " 83%|████████▎ | 29/35 [00:21<00:04,  1.34it/s]\u001b[A\n",
      " 86%|████████▌ | 30/35 [00:21<00:03,  1.33it/s]\u001b[A\n",
      " 89%|████████▊ | 31/35 [00:22<00:02,  1.33it/s]\u001b[A\n",
      " 91%|█████████▏| 32/35 [00:23<00:02,  1.34it/s]\u001b[A\n",
      " 94%|█████████▍| 33/35 [00:24<00:01,  1.33it/s]\u001b[A\n",
      " 97%|█████████▋| 34/35 [00:24<00:00,  1.33it/s]\u001b[A\n",
      "                                                   \n",
      " 95%|█████████▌| 1900/2000 [43:59<01:53,  1.13s/it]\n",
      "100%|██████████| 35/35 [00:25<00:00,  1.39it/s]\u001b[A\n",
      "                                               \u001b[A"
     ]
    },
    {
     "name": "stdout",
     "output_type": "stream",
     "text": [
      "{'eval_loss': 0.3120826780796051, 'eval_runtime': 26.2843, 'eval_samples_per_second': 10.577, 'eval_steps_per_second': 1.332, 'epoch': 13.52}\n"
     ]
    },
    {
     "name": "stderr",
     "output_type": "stream",
     "text": [
      "100%|██████████| 2000/2000 [45:51<00:00,  1.10s/it]"
     ]
    },
    {
     "name": "stdout",
     "output_type": "stream",
     "text": [
      "{'loss': 0.0003, 'grad_norm': 0.003699076361954212, 'learning_rate': 1.5789473684210525e-07, 'epoch': 14.23}\n"
     ]
    },
    {
     "name": "stderr",
     "output_type": "stream",
     "text": [
      "\n",
      "  0%|          | 0/35 [00:00<?, ?it/s]\u001b[A\n",
      "  6%|▌         | 2/35 [00:00<00:13,  2.53it/s]\u001b[A\n",
      "  9%|▊         | 3/35 [00:01<00:17,  1.82it/s]\u001b[A\n",
      " 11%|█▏        | 4/35 [00:02<00:19,  1.61it/s]\u001b[A\n",
      " 14%|█▍        | 5/35 [00:03<00:19,  1.51it/s]\u001b[A\n",
      " 17%|█▋        | 6/35 [00:03<00:19,  1.45it/s]\u001b[A\n",
      " 20%|██        | 7/35 [00:04<00:19,  1.41it/s]\u001b[A\n",
      " 23%|██▎       | 8/35 [00:05<00:19,  1.38it/s]\u001b[A\n",
      " 26%|██▌       | 9/35 [00:06<00:19,  1.37it/s]\u001b[A\n",
      " 29%|██▊       | 10/35 [00:06<00:18,  1.36it/s]\u001b[A\n",
      " 31%|███▏      | 11/35 [00:07<00:17,  1.35it/s]\u001b[A\n",
      " 34%|███▍      | 12/35 [00:08<00:17,  1.34it/s]\u001b[A\n",
      " 37%|███▋      | 13/35 [00:09<00:16,  1.34it/s]\u001b[A\n",
      " 40%|████      | 14/35 [00:09<00:16,  1.31it/s]\u001b[A\n",
      " 43%|████▎     | 15/35 [00:10<00:15,  1.31it/s]\u001b[A\n",
      " 46%|████▌     | 16/35 [00:11<00:14,  1.32it/s]\u001b[A\n",
      " 49%|████▊     | 17/35 [00:12<00:13,  1.32it/s]\u001b[A\n",
      " 51%|█████▏    | 18/35 [00:12<00:12,  1.31it/s]\u001b[A\n",
      " 54%|█████▍    | 19/35 [00:13<00:12,  1.31it/s]\u001b[A\n",
      " 57%|█████▋    | 20/35 [00:14<00:11,  1.32it/s]\u001b[A\n",
      " 60%|██████    | 21/35 [00:15<00:10,  1.32it/s]\u001b[A\n",
      " 63%|██████▎   | 22/35 [00:15<00:09,  1.32it/s]\u001b[A\n",
      " 66%|██████▌   | 23/35 [00:16<00:09,  1.32it/s]\u001b[A\n",
      " 69%|██████▊   | 24/35 [00:17<00:08,  1.33it/s]\u001b[A\n",
      " 71%|███████▏  | 25/35 [00:18<00:07,  1.33it/s]\u001b[A\n",
      " 74%|███████▍  | 26/35 [00:18<00:06,  1.33it/s]\u001b[A\n",
      " 77%|███████▋  | 27/35 [00:19<00:06,  1.33it/s]\u001b[A\n",
      " 80%|████████  | 28/35 [00:20<00:05,  1.33it/s]\u001b[A\n",
      " 83%|████████▎ | 29/35 [00:21<00:04,  1.34it/s]\u001b[A\n",
      " 86%|████████▌ | 30/35 [00:21<00:03,  1.34it/s]\u001b[A\n",
      " 89%|████████▊ | 31/35 [00:22<00:02,  1.34it/s]\u001b[A\n",
      " 91%|█████████▏| 32/35 [00:23<00:02,  1.34it/s]\u001b[A\n",
      " 94%|█████████▍| 33/35 [00:24<00:01,  1.33it/s]\u001b[A\n",
      " 97%|█████████▋| 34/35 [00:24<00:00,  1.33it/s]\u001b[A\n",
      "                                                   \n",
      "100%|██████████| 2000/2000 [46:18<00:00,  1.10s/it]\n",
      "100%|██████████| 35/35 [00:25<00:00,  1.39it/s]\u001b[A\n",
      "                                               \u001b[A"
     ]
    },
    {
     "name": "stdout",
     "output_type": "stream",
     "text": [
      "{'eval_loss': 0.31293630599975586, 'eval_runtime': 26.2507, 'eval_samples_per_second': 10.59, 'eval_steps_per_second': 1.333, 'epoch': 14.23}\n"
     ]
    },
    {
     "name": "stderr",
     "output_type": "stream",
     "text": [
      "100%|██████████| 2000/2000 [46:18<00:00,  1.39s/it]"
     ]
    },
    {
     "name": "stdout",
     "output_type": "stream",
     "text": [
      "{'train_runtime': 2778.8397, 'train_samples_per_second': 2.879, 'train_steps_per_second': 0.72, 'train_loss': 0.03658888978511095, 'epoch': 14.23}\n"
     ]
    },
    {
     "name": "stderr",
     "output_type": "stream",
     "text": [
      "\n"
     ]
    },
    {
     "data": {
      "text/plain": [
       "TrainOutput(global_step=2000, training_loss=0.03658888978511095, metrics={'train_runtime': 2778.8397, 'train_samples_per_second': 2.879, 'train_steps_per_second': 0.72, 'train_loss': 0.03658888978511095, 'epoch': 14.23})"
      ]
     },
     "execution_count": 29,
     "metadata": {},
     "output_type": "execute_result"
    }
   ],
   "source": [
    "# Обучение\n",
    "trainer.train()"
   ]
  },
  {
   "cell_type": "markdown",
   "metadata": {},
   "source": [
    "## Сохраняем чекпоинты обученной модели"
   ]
  },
  {
   "cell_type": "code",
   "execution_count": 30,
   "metadata": {
    "execution": {
     "iopub.execute_input": "2024-03-27T08:21:03.064507Z",
     "iopub.status.busy": "2024-03-27T08:21:03.064040Z",
     "iopub.status.idle": "2024-03-27T08:21:03.571161Z",
     "shell.execute_reply": "2024-03-27T08:21:03.570383Z",
     "shell.execute_reply.started": "2024-03-27T08:21:03.064488Z"
    }
   },
   "outputs": [],
   "source": [
    "model.save_pretrained(OUTPUT_DIR)"
   ]
  },
  {
   "cell_type": "markdown",
   "metadata": {},
   "source": [
    "## Сохранение объединенной модели (LLM+LORA)"
   ]
  },
  {
   "cell_type": "code",
   "execution_count": null,
   "metadata": {},
   "outputs": [],
   "source": [
    "base_model = AutoModelForCausalLM.from_pretrained(\n",
    "        BASE_MODEL,\n",
    "        return_dict=True,\n",
    "        torch_dtype=torch.float16\n",
    "    )\n",
    "\n",
    "base_model.do_sample = False\n",
    "base_model.temperature = None"
   ]
  },
  {
   "cell_type": "code",
   "execution_count": null,
   "metadata": {},
   "outputs": [],
   "source": [
    "model = PeftModel.from_pretrained(base_model, OUTPUT_DIR, torch_dtype=torch.float16,\n",
    "    #load_in_4bit=True,\n",
    "    #load_in_8bit=False,\n",
    "    device_map=\"auto\",\n",
    "    temperature = 0,\n",
    "    quantization_config=BitsAndBytesConfig(\n",
    "        load_in_4bit=True,\n",
    "        bnb_4bit_compute_dtype=torch.float16,\n",
    "        bnb_4bit_use_double_quant=True,\n",
    "        bnb_4bit_quant_type='nf4', # квантизация модели в тип normal float 4\n",
    "    ))\n",
    "\n",
    "model.do_sample = False\n",
    "model.temperature = None"
   ]
  },
  {
   "cell_type": "code",
   "execution_count": null,
   "metadata": {},
   "outputs": [],
   "source": [
    "model = model.merge_and_unload()\n",
    "model.do_sample = False\n",
    "model.temperature = None\n",
    "model.generation_config = GenerationConfig(\n",
    "        temperature=None,\n",
    "        do_sample = False\n",
    "    )"
   ]
  },
  {
   "cell_type": "code",
   "execution_count": null,
   "metadata": {},
   "outputs": [],
   "source": [
    "tokenizer = AutoTokenizer.from_pretrained(BASE_MODEL)"
   ]
  },
  {
   "cell_type": "code",
   "execution_count": null,
   "metadata": {},
   "outputs": [],
   "source": [
    "model.save_pretrained(FINETUNED_DIR)"
   ]
  },
  {
   "cell_type": "code",
   "execution_count": null,
   "metadata": {},
   "outputs": [],
   "source": [
    "tokenizer.save_pretrained(FINETUNED_DIR)"
   ]
  },
  {
   "cell_type": "markdown",
   "metadata": {},
   "source": [
    "## Конвертация в gguf \n",
    "\n",
    "git clone https://github.com/ggerganov/llama.cpp.git\n",
    "\n",
    "python -m venv venv\n",
    "\n",
    "source venv/bin/activate\n",
    "\n",
    "pip install -r llama.cpp/requirements.txt\n",
    "\n",
    "python llama.cpp/convert.py -h\n",
    "\n",
    "python llama.cpp/convert.py model_finetuned --outfile Llama-2-7b-ft-f16.gguf --outtype f16\n",
    " \n",
    "## Квантизация\n",
    "\n",
    "make -C llama.cpp -j4\n",
    "\n",
    "llama.cpp/quantize Llama-2-7b-ft-f16.gguf Llama-2-7b-ft-q4.gguf Q4_0"
   ]
  },
  {
   "cell_type": "code",
   "execution_count": null,
   "metadata": {},
   "outputs": [],
   "source": []
  }
 ],
 "metadata": {
  "kernelspec": {
   "display_name": "Python 3 (ipykernel)",
   "language": "python",
   "name": "python3"
  },
  "language_info": {
   "codemirror_mode": {
    "name": "ipython",
    "version": 3
   },
   "file_extension": ".py",
   "mimetype": "text/x-python",
   "name": "python",
   "nbconvert_exporter": "python",
   "pygments_lexer": "ipython3",
   "version": "3.9.13"
  }
 },
 "nbformat": 4,
 "nbformat_minor": 4
}
