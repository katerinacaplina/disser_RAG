{
 "cells": [
  {
   "cell_type": "markdown",
   "metadata": {},
   "source": [
    "Получение метрик по моделям триплетов, создание файлов KG триплетов моделями до и послеобучения"
   ]
  },
  {
   "cell_type": "code",
   "execution_count": 1,
   "metadata": {},
   "outputs": [],
   "source": [
    "from typing import List, Dict, Set\n",
    "from langchain_community.llms import LlamaCpp\n",
    "from langchain.prompts import PromptTemplate\n",
    "from langchain_core.output_parsers import JsonOutputParser\n",
    "from kor.extraction import create_extraction_chain\n",
    "from kor.nodes import Object, Text\n",
    "import os\n",
    "import json\n",
    "import re\n",
    "import numpy as np\n",
    "from tqdm import tqdm\n",
    "import pandas as pd"
   ]
  },
  {
   "cell_type": "code",
   "execution_count": 2,
   "metadata": {},
   "outputs": [],
   "source": [
    "# Параметры скрипта\n",
    "\n",
    "# DOMAIN = 'movie'\n",
    "# DOMAIN = 'computer'\n",
    "DOMAIN = 'nature'\n",
    "\n",
    "\n",
    "if DOMAIN == 'movie':\n",
    "    ONTOLOGY_PATH = 'data/onotology_schema/1_movie_ontology.json'\n",
    "    SCHEMA_PATH = 'data/onotology_schema/movie_schema.json'\n",
    "    GROUND_TRUTH_PATH = 'data/movie_ground_truth.jsonl'\n",
    "\n",
    "elif DOMAIN == 'computer':\n",
    "    ONTOLOGY_PATH = 'data/onotology_schema/6_computer_ontology.json'\n",
    "    SCHEMA_PATH = 'data/onotology_schema/computer_schema.json'\n",
    "    GROUND_TRUTH_PATH = 'data/computer_ground_truth.jsonl'\n",
    "\n",
    "elif DOMAIN == 'nature':\n",
    "    ONTOLOGY_PATH = 'data/onotology_schema/9_nature_ontology.json'\n",
    "    SCHEMA_PATH = 'data/onotology_schema/nature_schema.json'\n",
    "    GROUND_TRUTH_PATH = 'data/nature_ground_truth.jsonl'\n",
    "\n",
    "\n"
   ]
  },
  {
   "cell_type": "markdown",
   "metadata": {},
   "source": [
    "# Подготовка\n",
    "## Загрузка онтологии"
   ]
  },
  {
   "cell_type": "code",
   "execution_count": 3,
   "metadata": {},
   "outputs": [],
   "source": [
    "with open(ONTOLOGY_PATH, 'r') as f:\n",
    "    ontology_filejson = json.load(f)"
   ]
  },
  {
   "cell_type": "code",
   "execution_count": 4,
   "metadata": {},
   "outputs": [
    {
     "data": {
      "text/plain": [
       "{'title': 'Nature Ontology',\n",
       " 'id': 'ont_9_nature',\n",
       " 'concepts': [{'qid': 'Q618123', 'label': 'geographical feature'},\n",
       "  {'qid': 'Q131681', 'label': 'reservoir'},\n",
       "  {'qid': 'Q52105', 'label': 'Habitat'},\n",
       "  {'qid': 'Q12323', 'label': 'dam'},\n",
       "  {'qid': 'Q166620', 'label': 'drainage basin'},\n",
       "  {'qid': 'Q46831', 'label': 'mountain range'},\n",
       "  {'qid': 'Q8502', 'label': 'mountain'},\n",
       "  {'qid': 'Q16521', 'label': 'taxon'},\n",
       "  {'qid': 'Q355304', 'label': 'watercourse'},\n",
       "  {'qid': 'Q15324', 'label': 'body of water'},\n",
       "  {'qid': 'Q5', 'label': 'human'},\n",
       "  {'qid': 'Q1040689', 'label': 'synonym'}],\n",
       " 'relations': [{'pid': 'P171',\n",
       "   'label': 'parent taxon',\n",
       "   'domain': 'Q16521',\n",
       "   'range': 'Q16521'},\n",
       "  {'pid': 'P4552',\n",
       "   'label': 'mountain range',\n",
       "   'domain': 'Q8502',\n",
       "   'range': 'Q46831'},\n",
       "  {'pid': 'P3137',\n",
       "   'label': 'parent peak',\n",
       "   'domain': 'Q8502',\n",
       "   'range': 'Q8502'},\n",
       "  {'pid': 'P1843',\n",
       "   'label': 'taxon common name',\n",
       "   'domain': 'Q7432',\n",
       "   'range': ''},\n",
       "  {'pid': 'P974',\n",
       "   'label': 'tributary',\n",
       "   'domain': 'Q355304',\n",
       "   'range': 'Q355304'},\n",
       "  {'pid': 'P885',\n",
       "   'label': 'origin of the watercourse',\n",
       "   'domain': 'Q355304',\n",
       "   'range': 'Q15324'},\n",
       "  {'pid': 'P403',\n",
       "   'label': 'mouth of the watercourse',\n",
       "   'domain': 'Q355304',\n",
       "   'range': 'Q355304'},\n",
       "  {'pid': 'P141',\n",
       "   'label': 'IUCN conservation status',\n",
       "   'domain': 'Q16521',\n",
       "   'range': 'Q82673'},\n",
       "  {'pid': 'P1420',\n",
       "   'label': 'taxon synonym',\n",
       "   'domain': 'Q16521',\n",
       "   'range': 'Q1040689'},\n",
       "  {'pid': 'P4661',\n",
       "   'label': 'reservoir created',\n",
       "   'domain': 'Q12323',\n",
       "   'range': 'Q131681'},\n",
       "  {'pid': 'P4614',\n",
       "   'label': 'drainage basin',\n",
       "   'domain': 'Q355304',\n",
       "   'range': 'Q166620'},\n",
       "  {'pid': 'P4320',\n",
       "   'label': 'mountains classification ',\n",
       "   'domain': 'Q15091377',\n",
       "   'range': 'Q5'},\n",
       "  {'pid': 'P2974', 'label': 'Habitat', 'domain': 'Q16521', 'range': 'Q15324'}]}"
      ]
     },
     "execution_count": 4,
     "metadata": {},
     "output_type": "execute_result"
    }
   ],
   "source": [
    "ont_str = '\\n'.join(ontology_filejson['payload']['blob']['rawLines'])\n",
    "ont = json.loads(ont_str)\n",
    "\n",
    "if DOMAIN == 'movie':\n",
    "    # Неиспользуемая сущность в онтологии\n",
    "    ont['concepts'] = [x for x in ont['concepts'] if x['qid']\n",
    "                       not in ['Q201658', 'Q4220917', 'Q104649845']]\n",
    "\n",
    "if DOMAIN == 'nature':\n",
    "    # Неиспользуемая сущность в онтологии\n",
    "    ont['concepts'] = [x for x in ont['concepts'] if x['qid']\n",
    "                       not in ['Q82673', 'Q15091377']]\n",
    "\n",
    "ont"
   ]
  },
  {
   "cell_type": "code",
   "execution_count": 5,
   "metadata": {},
   "outputs": [
    {
     "name": "stdout",
     "output_type": "stream",
     "text": [
      "sub: taxon, rel: parent taxon, obj: taxon\n",
      "sub: mountain, rel: mountain range, obj: mountain range\n",
      "sub: mountain, rel: parent peak, obj: mountain\n",
      "sub: watercourse, rel: tributary, obj: watercourse\n",
      "sub: watercourse, rel: origin of the watercourse, obj: body of water\n",
      "sub: watercourse, rel: mouth of the watercourse, obj: watercourse\n",
      "sub: taxon, rel: taxon synonym, obj: synonym\n",
      "sub: dam, rel: reservoir created, obj: reservoir\n",
      "sub: watercourse, rel: drainage basin, obj: drainage basin\n",
      "sub: None, rel: mountains classification , obj: human\n",
      "sub: taxon, rel: Habitat, obj: body of water\n",
      "\n"
     ]
    }
   ],
   "source": [
    "concepts_dict = {x['qid']: x['label'] for x in ont['concepts']}\n",
    "relations_with_text = [{**relation, 'domain_label': concepts_dict.get(\n",
    "    relation['domain']), 'range_label': concepts_dict.get(relation['range'])} for relation in ont['relations']]\n",
    "\n",
    "# ручная коррекция пропущенного значения\n",
    "if DOMAIN == 'computer':\n",
    "    relations_with_text = [dict(x, range_label='company') if x['label']\n",
    "                           == 'developer' else x for x in relations_with_text]\n",
    "\n",
    "# удаляем None в obj\n",
    "relations_with_text = [x for x in relations_with_text if x['range_label'] is not None]\n",
    "\n",
    "concepts_list = [x['label'] for x in ont['concepts']]\n",
    "concepts = ', '.join(concepts_list)\n",
    "\n",
    "relations_list = []\n",
    "for i in relations_with_text:\n",
    "    rel = f\"sub: {i['domain_label']}, rel: {i['label']}, obj: {i['range_label']}\\n\"\n",
    "    relations_list.append(rel)\n",
    "relations_schema = \"\".join(relations_list)\n",
    "print(relations_schema)"
   ]
  },
  {
   "cell_type": "code",
   "execution_count": 6,
   "metadata": {},
   "outputs": [],
   "source": [
    "with open(SCHEMA_PATH, 'r') as f:\n",
    "    sch = json.load(f)\n",
    "\n",
    "schema = Object(\n",
    "    id=sch['id'],\n",
    "    description=sch['description'],\n",
    "    attributes=[Text(id=x['id'], description=x['description'], examples=[tuple(x['examples'])]) \n",
    "                for x in sch['attributes']],\n",
    "    examples = [tuple(x) for x in sch['examples']],\n",
    "    many=True\n",
    ")"
   ]
  },
  {
   "cell_type": "markdown",
   "metadata": {},
   "source": [
    "## Генератор триплетов"
   ]
  },
  {
   "cell_type": "code",
   "execution_count": 7,
   "metadata": {},
   "outputs": [],
   "source": [
    "GET_RELATIONS_TEMPLATE = \"\"\"You are a networked intelligence helping a human track knowledge triples.\n",
    "You are given a list of NAMED ENTITIES and a LIST OF POSIBLE RELATIONS. You are to identify the relations between the named entities. \n",
    "Do not use any other named entities or relations. You MUST use only provided NAMED ENTITIES and LIST OF POSIBLE RELATIONS. \n",
    "\n",
    "LIST OF POSIBLE RELATIONS: {relations}\n",
    "\n",
    "NAMED ENTITIES: {entities}\n",
    "\n",
    "To indetidy the relations between named entities, you can use the following context: {context}\n",
    "\n",
    "Format your response as a JSON. Do not add any attributes that do not appear in the schema shown below:\n",
    "\n",
    "    {{\n",
    "    \"triplets\": [\n",
    "        {{\n",
    "        \"sub\": \"string\",\n",
    "        \"rel\": \"string\",\n",
    "        \"obj\": \"string\"\n",
    "        }}\n",
    "    ]\n",
    "    }}\n",
    "\n",
    "Do NOT add any clarifying information. Output MUST follow the schema above. Do NOT add any additional columns that do not appear in the schema.\n",
    "Answer:\"\"\""
   ]
  },
  {
   "cell_type": "code",
   "execution_count": 8,
   "metadata": {},
   "outputs": [],
   "source": [
    "relation_prompt = PromptTemplate.from_template(GET_RELATIONS_TEMPLATE)"
   ]
  },
  {
   "cell_type": "code",
   "execution_count": 9,
   "metadata": {},
   "outputs": [],
   "source": [
    "class TripletBuilder:\n",
    "    models_dict = {\n",
    "        1: \"../models/zephyr-7b-beta.Q6_K.gguf\",\n",
    "        2: \"../models/mistral-7b-v0.1.Q5_K_M.gguf\",\n",
    "        3: \"../models/llama-2-13b-chat.Q5_K_M.gguf\",\n",
    "        4: \"../models/openchat-3.5-0106.Q8_0.gguf\",\n",
    "        5: \"../models/mixtral-8x7b-v0.1.Q6_K.gguf\",\n",
    "        6: \"../models/llama-2-7b.Q4_0.gguf\"\n",
    "    }\n",
    "\n",
    "    def __init__(self, relations: str, models: int = 6, n_gpu_layers: int = 50,\n",
    "                 model1_path: str = None, model2_path: str = None,\n",
    "                 schema=schema, relation_prompt=relation_prompt, n_runs: int = 50):\n",
    "        \"\"\"\n",
    "        Initialize the TripletBuilder class.\n",
    "\n",
    "        Args:\n",
    "            relations (str): The relations to extract triplets for.\n",
    "            models (int, optional): The number of models to choose from. Defaults to 5.\n",
    "            n_gpu_layers (int, optional): The number of GPU layers. Defaults to 50.\n",
    "            model1_path (str, optional): The path to the model for first stage. Defaults to None.\n",
    "            model2_path (str, optional): The path to the model for second stage. Defaults to None.\n",
    "            schema (str, optional): The schema for named entity recognition. Defaults to schema.\n",
    "            relation_prompt (str, optional): The prompt for relation extraction. Defaults to relation_prompt.\n",
    "            n_runs (int, optional): The number of runs to perform. Defaults to 50.\n",
    "        \"\"\"\n",
    "        if model1_path:\n",
    "            self.model1_path = model1_path\n",
    "        else:\n",
    "            self.model1_path = self.models_dict[models]\n",
    "\n",
    "        if model2_path:\n",
    "            self.model2_path = model2_path\n",
    "        else:\n",
    "            self.model2_path = self.models_dict[models]\n",
    "\n",
    "        self.schema = schema\n",
    "        self.relations = relations\n",
    "        self.relation_prompt = relation_prompt\n",
    "        self.n_runs = n_runs\n",
    "\n",
    "        self.llm1 = LlamaCpp(\n",
    "            model_path=self.model1_path,\n",
    "            temperature=0,\n",
    "            max_tokens=256,\n",
    "            n_gpu_layers=n_gpu_layers,\n",
    "            n_batch=16,\n",
    "            n_ctx=2048,\n",
    "        )\n",
    "\n",
    "        if self.model2_path == self.model1_path:\n",
    "            self.llm2 = self.llm1\n",
    "        else:\n",
    "            self.llm2 = LlamaCpp(\n",
    "                model_path=self.model2_path,\n",
    "                temperature=0,\n",
    "                max_tokens=256,\n",
    "                n_gpu_layers=n_gpu_layers,\n",
    "                n_batch=16,\n",
    "                n_ctx=2048,\n",
    "            )\n",
    "\n",
    "        self.ner_chain = create_extraction_chain(\n",
    "            self.llm1, self.schema, encoder_or_encoder_class='json')\n",
    "\n",
    "        self.relations_chain = self.relation_prompt | self.llm2 | JsonOutputParser()\n",
    "\n",
    "    def load_data(self, file_path: str, mask_index=None):\n",
    "        \"\"\"\n",
    "        Load data from a file.\n",
    "\n",
    "        Args:\n",
    "            file_path (str): The path to the file.\n",
    "        \"\"\"\n",
    "        with open(file_path, 'r') as f:\n",
    "            self.data = f.readlines()\n",
    "\n",
    "        if mask_index is not None:\n",
    "            self.data = [self.data[i] for i in mask_index]\n",
    "\n",
    "    def get_triplets(self):\n",
    "        \"\"\"\n",
    "        Extract triplets from the data and return a list of dictionaries containing the model name, sentence, and triplets.\n",
    "\n",
    "        Returns:\n",
    "            list: A list of dictionaries, each containing the model name, sentence, and triplets.\n",
    "        \"\"\"\n",
    "        result = []\n",
    "\n",
    "        for i_text in tqdm(self.data[:self.n_runs]):\n",
    "            i_text = json.loads(i_text)\n",
    "            temp_dict = dict()\n",
    "\n",
    "            context = i_text['sent']\n",
    "            try:\n",
    "                entities = self.ner_chain.invoke(\n",
    "                    context)['text']['data'][DOMAIN]\n",
    "            except:\n",
    "                entities = []\n",
    "\n",
    "            print(context)\n",
    "            print(\"++++++++++++++++++++++++++++++++++++\")\n",
    "            print(entities)\n",
    "            print(\"++++++++++++++++++++++++++++++++++++\")\n",
    "\n",
    "            try:\n",
    "                if len(entities[0]) < 2:\n",
    "                    triplets = {\"triplets\": []}\n",
    "                else:\n",
    "                    try:\n",
    "                        triplets = self.relations_chain.invoke(\n",
    "                            {\"relations\": self.relations, \"entities\": entities, \"context\": context})\n",
    "                    except:\n",
    "                        triplets = {\"triplets\": []}\n",
    "            except:\n",
    "                triplets = {\"triplets\": []}\n",
    "\n",
    "            print(triplets)\n",
    "\n",
    "            temp_dict['model1'] = os.path.basename(self.model1_path)\n",
    "            temp_dict['model2'] = os.path.basename(self.model2_path)\n",
    "            temp_dict['sent'] = context\n",
    "            temp_dict['triples'] = triplets['triplets'] if isinstance(\n",
    "                triplets, dict) and 'triplets' in triplets.keys() else triplets\n",
    "\n",
    "            print(\"====================================\")\n",
    "            print(temp_dict)\n",
    "            print(\"====================================\")\n",
    "\n",
    "            result.append(temp_dict)\n",
    "\n",
    "        return result"
   ]
  },
  {
   "cell_type": "markdown",
   "metadata": {},
   "source": [
    "# Извлечение триплетов\n",
    "В результате будет три набора триплетов по тестовой части: ground truth, base, fine tuned"
   ]
  },
  {
   "cell_type": "code",
   "execution_count": 10,
   "metadata": {},
   "outputs": [],
   "source": [
    "# номера строк, используемые в тесте\n",
    "test_index = pd.read_csv(os.path.join('artifacts', DOMAIN, 'model_1/Xy_test.csv'), index_col='Unnamed: 0').index"
   ]
  },
  {
   "cell_type": "code",
   "execution_count": 11,
   "metadata": {},
   "outputs": [
    {
     "name": "stderr",
     "output_type": "stream",
     "text": [
      "llama_model_loader: loaded meta data with 19 key-value pairs and 291 tensors from ../models/llama-2-7b.Q4_0.gguf (version GGUF V2)\n",
      "llama_model_loader: Dumping metadata keys/values. Note: KV overrides do not apply in this output.\n",
      "llama_model_loader: - kv   0:                       general.architecture str              = llama\n",
      "llama_model_loader: - kv   1:                               general.name str              = LLaMA v2\n",
      "llama_model_loader: - kv   2:                       llama.context_length u32              = 4096\n",
      "llama_model_loader: - kv   3:                     llama.embedding_length u32              = 4096\n",
      "llama_model_loader: - kv   4:                          llama.block_count u32              = 32\n",
      "llama_model_loader: - kv   5:                  llama.feed_forward_length u32              = 11008\n",
      "llama_model_loader: - kv   6:                 llama.rope.dimension_count u32              = 128\n",
      "llama_model_loader: - kv   7:                 llama.attention.head_count u32              = 32\n",
      "llama_model_loader: - kv   8:              llama.attention.head_count_kv u32              = 32\n",
      "llama_model_loader: - kv   9:     llama.attention.layer_norm_rms_epsilon f32              = 0.000010\n",
      "llama_model_loader: - kv  10:                          general.file_type u32              = 2\n",
      "llama_model_loader: - kv  11:                       tokenizer.ggml.model str              = llama\n",
      "llama_model_loader: - kv  12:                      tokenizer.ggml.tokens arr[str,32000]   = [\"<unk>\", \"<s>\", \"</s>\", \"<0x00>\", \"<...\n",
      "llama_model_loader: - kv  13:                      tokenizer.ggml.scores arr[f32,32000]   = [0.000000, 0.000000, 0.000000, 0.0000...\n",
      "llama_model_loader: - kv  14:                  tokenizer.ggml.token_type arr[i32,32000]   = [2, 3, 3, 6, 6, 6, 6, 6, 6, 6, 6, 6, ...\n",
      "llama_model_loader: - kv  15:                tokenizer.ggml.bos_token_id u32              = 1\n",
      "llama_model_loader: - kv  16:                tokenizer.ggml.eos_token_id u32              = 2\n",
      "llama_model_loader: - kv  17:            tokenizer.ggml.unknown_token_id u32              = 0\n",
      "llama_model_loader: - kv  18:               general.quantization_version u32              = 2\n",
      "llama_model_loader: - type  f32:   65 tensors\n",
      "llama_model_loader: - type q4_0:  225 tensors\n",
      "llama_model_loader: - type q6_K:    1 tensors\n",
      "llm_load_vocab: special tokens definition check successful ( 259/32000 ).\n",
      "llm_load_print_meta: format           = GGUF V2\n",
      "llm_load_print_meta: arch             = llama\n",
      "llm_load_print_meta: vocab type       = SPM\n",
      "llm_load_print_meta: n_vocab          = 32000\n",
      "llm_load_print_meta: n_merges         = 0\n",
      "llm_load_print_meta: n_ctx_train      = 4096\n",
      "llm_load_print_meta: n_embd           = 4096\n",
      "llm_load_print_meta: n_head           = 32\n",
      "llm_load_print_meta: n_head_kv        = 32\n",
      "llm_load_print_meta: n_layer          = 32\n",
      "llm_load_print_meta: n_rot            = 128\n",
      "llm_load_print_meta: n_embd_head_k    = 128\n",
      "llm_load_print_meta: n_embd_head_v    = 128\n",
      "llm_load_print_meta: n_gqa            = 1\n",
      "llm_load_print_meta: n_embd_k_gqa     = 4096\n",
      "llm_load_print_meta: n_embd_v_gqa     = 4096\n",
      "llm_load_print_meta: f_norm_eps       = 0.0e+00\n",
      "llm_load_print_meta: f_norm_rms_eps   = 1.0e-05\n",
      "llm_load_print_meta: f_clamp_kqv      = 0.0e+00\n",
      "llm_load_print_meta: f_max_alibi_bias = 0.0e+00\n",
      "llm_load_print_meta: n_ff             = 11008\n",
      "llm_load_print_meta: n_expert         = 0\n",
      "llm_load_print_meta: n_expert_used    = 0\n",
      "llm_load_print_meta: rope scaling     = linear\n",
      "llm_load_print_meta: freq_base_train  = 10000.0\n",
      "llm_load_print_meta: freq_scale_train = 1\n",
      "llm_load_print_meta: n_yarn_orig_ctx  = 4096\n",
      "llm_load_print_meta: rope_finetuned   = unknown\n",
      "llm_load_print_meta: model type       = 7B\n",
      "llm_load_print_meta: model ftype      = Q4_0\n",
      "llm_load_print_meta: model params     = 6.74 B\n",
      "llm_load_print_meta: model size       = 3.56 GiB (4.54 BPW) \n",
      "llm_load_print_meta: general.name     = LLaMA v2\n",
      "llm_load_print_meta: BOS token        = 1 '<s>'\n",
      "llm_load_print_meta: EOS token        = 2 '</s>'\n",
      "llm_load_print_meta: UNK token        = 0 '<unk>'\n",
      "llm_load_print_meta: LF token         = 13 '<0x0A>'\n",
      "llm_load_tensors: ggml ctx size =    0.22 MiB\n",
      "ggml_backend_metal_buffer_from_ptr: allocated buffer, size =  3577.56 MiB, ( 3577.62 / 10922.67)\n",
      "llm_load_tensors: offloading 32 repeating layers to GPU\n",
      "llm_load_tensors: offloading non-repeating layers to GPU\n",
      "llm_load_tensors: offloaded 33/33 layers to GPU\n",
      "llm_load_tensors:        CPU buffer size =    70.31 MiB\n",
      "llm_load_tensors:      Metal buffer size =  3577.56 MiB\n",
      "..................................................................................................\n",
      "llama_new_context_with_model: n_ctx      = 2048\n",
      "llama_new_context_with_model: freq_base  = 10000.0\n",
      "llama_new_context_with_model: freq_scale = 1\n",
      "ggml_metal_init: allocating\n",
      "ggml_metal_init: found device: Apple M1 Pro\n",
      "ggml_metal_init: picking default device: Apple M1 Pro\n",
      "ggml_metal_init: default.metallib not found, loading from source\n",
      "ggml_metal_init: GGML_METAL_PATH_RESOURCES = nil\n",
      "ggml_metal_init: loading '/Users/dima/Repo/Alexandra/venv/lib/python3.11/site-packages/llama_cpp/ggml-metal.metal'\n",
      "ggml_metal_init: GPU name:   Apple M1 Pro\n",
      "ggml_metal_init: GPU family: MTLGPUFamilyApple7  (1007)\n",
      "ggml_metal_init: GPU family: MTLGPUFamilyCommon3 (3003)\n",
      "ggml_metal_init: GPU family: MTLGPUFamilyMetal3  (5001)\n",
      "ggml_metal_init: simdgroup reduction support   = true\n",
      "ggml_metal_init: simdgroup matrix mul. support = true\n",
      "ggml_metal_init: hasUnifiedMemory              = true\n",
      "ggml_metal_init: recommendedMaxWorkingSetSize  = 11453.25 MB\n",
      "ggml_backend_metal_buffer_type_alloc_buffer: allocated buffer, size =  1024.00 MiB, ( 4603.44 / 10922.67)\n",
      "llama_kv_cache_init:      Metal KV buffer size =  1024.00 MiB\n",
      "llama_new_context_with_model: KV self size  = 1024.00 MiB, K (f16):  512.00 MiB, V (f16):  512.00 MiB\n",
      "llama_new_context_with_model:        CPU input buffer size   =     0.39 MiB\n",
      "ggml_backend_metal_buffer_type_alloc_buffer: allocated buffer, size =     5.14 MiB, ( 4608.58 / 10922.67)\n",
      "llama_new_context_with_model:      Metal compute buffer size =     5.13 MiB\n",
      "llama_new_context_with_model:        CPU compute buffer size =     0.25 MiB\n",
      "llama_new_context_with_model: graph splits (measure): 3\n",
      "AVX = 0 | AVX_VNNI = 0 | AVX2 = 0 | AVX512 = 0 | AVX512_VBMI = 0 | AVX512_VNNI = 0 | FMA = 0 | NEON = 1 | ARM_FMA = 1 | F16C = 0 | FP16_VA = 1 | WASM_SIMD = 0 | BLAS = 1 | SSE3 = 0 | SSSE3 = 0 | VSX = 0 | MATMUL_INT8 = 0 | \n",
      "Model metadata: {'general.quantization_version': '2', 'tokenizer.ggml.unknown_token_id': '0', 'tokenizer.ggml.eos_token_id': '2', 'tokenizer.ggml.bos_token_id': '1', 'tokenizer.ggml.model': 'llama', 'llama.attention.head_count_kv': '32', 'llama.context_length': '4096', 'llama.attention.head_count': '32', 'llama.rope.dimension_count': '128', 'general.file_type': '2', 'llama.feed_forward_length': '11008', 'llama.embedding_length': '4096', 'llama.block_count': '32', 'general.architecture': 'llama', 'llama.attention.layer_norm_rms_epsilon': '0.000010', 'general.name': 'LLaMA v2'}\n",
      "  0%|          | 0/3 [00:00<?, ?it/s]\n",
      "llama_print_timings:        load time =    5714.93 ms\n",
      "llama_print_timings:      sample time =      46.19 ms /   256 runs   (    0.18 ms per token,  5542.93 tokens per second)\n",
      "llama_print_timings: prompt eval time =   13375.01 ms /   906 tokens (   14.76 ms per token,    67.74 tokens per second)\n",
      "llama_print_timings:        eval time =    8537.42 ms /   255 runs   (   33.48 ms per token,    29.87 tokens per second)\n",
      "llama_print_timings:       total time =   22441.67 ms /  1161 tokens\n",
      "Llama.generate: prefix-match hit\n"
     ]
    },
    {
     "name": "stdout",
     "output_type": "stream",
     "text": [
      "Chapleau River is in the James Bay drainage basin, begins at Chapleau Lake and is the main tributary of Kapuskasing Lake.\n",
      "++++++++++++++++++++++++++++++++++++\n",
      "[{'drainage basin': 'James Bay drainage basin', 'watercourse': 'Chapleau River'}]\n",
      "++++++++++++++++++++++++++++++++++++\n"
     ]
    },
    {
     "name": "stderr",
     "output_type": "stream",
     "text": [
      "\n",
      "llama_print_timings:        load time =    5714.93 ms\n",
      "llama_print_timings:      sample time =       5.19 ms /    30 runs   (    0.17 ms per token,  5784.81 tokens per second)\n",
      "llama_print_timings: prompt eval time =    4182.87 ms /   482 tokens (    8.68 ms per token,   115.23 tokens per second)\n",
      "llama_print_timings:        eval time =     885.92 ms /    29 runs   (   30.55 ms per token,    32.73 tokens per second)\n",
      "llama_print_timings:       total time =    5184.37 ms /   511 tokens\n",
      " 33%|███▎      | 1/3 [00:27<00:55, 27.65s/it]Llama.generate: prefix-match hit\n"
     ]
    },
    {
     "name": "stdout",
     "output_type": "stream",
     "text": [
      "[{'sub': 'Chapleau River', 'rel': 'tributary', 'obj': 'James Bay drainage basin'}]\n",
      "====================================\n",
      "{'model1': 'llama-2-7b.Q4_0.gguf', 'model2': 'llama-2-7b.Q4_0.gguf', 'sent': 'Chapleau River is in the James Bay drainage basin, begins at Chapleau Lake and is the main tributary of Kapuskasing Lake.', 'triples': [{'sub': 'Chapleau River', 'rel': 'tributary', 'obj': 'James Bay drainage basin'}]}\n",
      "====================================\n"
     ]
    },
    {
     "name": "stderr",
     "output_type": "stream",
     "text": [
      " 67%|██████▋   | 2/3 [00:31<00:13, 13.86s/it]"
     ]
    },
    {
     "name": "stdout",
     "output_type": "stream",
     "text": [
      "The mountains classification was won by Nicolas Edet (Cofidis)\n",
      "++++++++++++++++++++++++++++++++++++\n",
      "[]\n",
      "++++++++++++++++++++++++++++++++++++\n",
      "{'triplets': []}\n",
      "====================================\n",
      "{'model1': 'llama-2-7b.Q4_0.gguf', 'model2': 'llama-2-7b.Q4_0.gguf', 'sent': 'The mountains classification was won by Nicolas Edet (Cofidis)', 'triples': []}\n",
      "====================================\n"
     ]
    },
    {
     "name": "stderr",
     "output_type": "stream",
     "text": [
      "Llama.generate: prefix-match hit\n",
      "\n",
      "llama_print_timings:        load time =    5714.93 ms\n",
      "llama_print_timings:      sample time =      49.25 ms /   256 runs   (    0.19 ms per token,  5198.08 tokens per second)\n",
      "llama_print_timings: prompt eval time =    4187.05 ms /   472 tokens (    8.87 ms per token,   112.73 tokens per second)\n",
      "llama_print_timings:        eval time =    9173.66 ms /   255 runs   (   35.98 ms per token,    27.80 tokens per second)\n",
      "llama_print_timings:       total time =   13965.54 ms /   727 tokens\n",
      "100%|██████████| 3/3 [00:45<00:00, 15.28s/it]"
     ]
    },
    {
     "name": "stdout",
     "output_type": "stream",
     "text": [
      "The wreathed hornbill (Rhyticeros undulatus), also known as the bar-pouched wreathed hornbill, is a species of hornbill found in forests from far north-eastern India and Bhutan, east and south through mainland Southeast Asia and the Greater Sundas in Indonesia, except Sulawesi.\n",
      "++++++++++++++++++++++++++++++++++++\n",
      "[{'taxon': 'Rhyticeros undulatus'}]\n",
      "++++++++++++++++++++++++++++++++++++\n",
      "{'triplets': []}\n",
      "====================================\n",
      "{'model1': 'llama-2-7b.Q4_0.gguf', 'model2': 'llama-2-7b.Q4_0.gguf', 'sent': 'The wreathed hornbill (Rhyticeros undulatus), also known as the bar-pouched wreathed hornbill, is a species of hornbill found in forests from far north-eastern India and Bhutan, east and south through mainland Southeast Asia and the Greater Sundas in Indonesia, except Sulawesi.', 'triples': []}\n",
      "====================================\n"
     ]
    },
    {
     "name": "stderr",
     "output_type": "stream",
     "text": [
      "\n"
     ]
    },
    {
     "data": {
      "text/plain": [
       "[{'model1': 'llama-2-7b.Q4_0.gguf',\n",
       "  'model2': 'llama-2-7b.Q4_0.gguf',\n",
       "  'sent': 'Chapleau River is in the James Bay drainage basin, begins at Chapleau Lake and is the main tributary of Kapuskasing Lake.',\n",
       "  'triples': [{'sub': 'Chapleau River',\n",
       "    'rel': 'tributary',\n",
       "    'obj': 'James Bay drainage basin'}]},\n",
       " {'model1': 'llama-2-7b.Q4_0.gguf',\n",
       "  'model2': 'llama-2-7b.Q4_0.gguf',\n",
       "  'sent': 'The mountains classification was won by Nicolas Edet (Cofidis)',\n",
       "  'triples': []},\n",
       " {'model1': 'llama-2-7b.Q4_0.gguf',\n",
       "  'model2': 'llama-2-7b.Q4_0.gguf',\n",
       "  'sent': 'The wreathed hornbill (Rhyticeros undulatus), also known as the bar-pouched wreathed hornbill, is a species of hornbill found in forests from far north-eastern India and Bhutan, east and south through mainland Southeast Asia and the Greater Sundas in Indonesia, except Sulawesi.',\n",
       "  'triples': []}]"
      ]
     },
     "execution_count": 11,
     "metadata": {},
     "output_type": "execute_result"
    }
   ],
   "source": [
    "builder = TripletBuilder(relations_schema,\n",
    "                         n_runs=1000)\n",
    "\n",
    "builder.load_data(GROUND_TRUTH_PATH, test_index[:3])\n",
    "\n",
    "builder.get_triplets()\n"
   ]
  },
  {
   "cell_type": "markdown",
   "metadata": {},
   "source": [
    "## Базовая модель"
   ]
  },
  {
   "cell_type": "code",
   "execution_count": 11,
   "metadata": {},
   "outputs": [
    {
     "name": "stderr",
     "output_type": "stream",
     "text": [
      "llama_model_loader: loaded meta data with 19 key-value pairs and 291 tensors from ../models/llama-2-7b.Q4_0.gguf (version GGUF V2)\n",
      "llama_model_loader: Dumping metadata keys/values. Note: KV overrides do not apply in this output.\n",
      "llama_model_loader: - kv   0:                       general.architecture str              = llama\n",
      "llama_model_loader: - kv   1:                               general.name str              = LLaMA v2\n",
      "llama_model_loader: - kv   2:                       llama.context_length u32              = 4096\n",
      "llama_model_loader: - kv   3:                     llama.embedding_length u32              = 4096\n",
      "llama_model_loader: - kv   4:                          llama.block_count u32              = 32\n",
      "llama_model_loader: - kv   5:                  llama.feed_forward_length u32              = 11008\n",
      "llama_model_loader: - kv   6:                 llama.rope.dimension_count u32              = 128\n",
      "llama_model_loader: - kv   7:                 llama.attention.head_count u32              = 32\n",
      "llama_model_loader: - kv   8:              llama.attention.head_count_kv u32              = 32\n",
      "llama_model_loader: - kv   9:     llama.attention.layer_norm_rms_epsilon f32              = 0.000010\n",
      "llama_model_loader: - kv  10:                          general.file_type u32              = 2\n",
      "llama_model_loader: - kv  11:                       tokenizer.ggml.model str              = llama\n",
      "llama_model_loader: - kv  12:                      tokenizer.ggml.tokens arr[str,32000]   = [\"<unk>\", \"<s>\", \"</s>\", \"<0x00>\", \"<...\n",
      "llama_model_loader: - kv  13:                      tokenizer.ggml.scores arr[f32,32000]   = [0.000000, 0.000000, 0.000000, 0.0000...\n",
      "llama_model_loader: - kv  14:                  tokenizer.ggml.token_type arr[i32,32000]   = [2, 3, 3, 6, 6, 6, 6, 6, 6, 6, 6, 6, ...\n",
      "llama_model_loader: - kv  15:                tokenizer.ggml.bos_token_id u32              = 1\n",
      "llama_model_loader: - kv  16:                tokenizer.ggml.eos_token_id u32              = 2\n",
      "llama_model_loader: - kv  17:            tokenizer.ggml.unknown_token_id u32              = 0\n",
      "llama_model_loader: - kv  18:               general.quantization_version u32              = 2\n",
      "llama_model_loader: - type  f32:   65 tensors\n",
      "llama_model_loader: - type q4_0:  225 tensors\n",
      "llama_model_loader: - type q6_K:    1 tensors\n",
      "llm_load_vocab: special tokens definition check successful ( 259/32000 ).\n",
      "llm_load_print_meta: format           = GGUF V2\n",
      "llm_load_print_meta: arch             = llama\n",
      "llm_load_print_meta: vocab type       = SPM\n",
      "llm_load_print_meta: n_vocab          = 32000\n",
      "llm_load_print_meta: n_merges         = 0\n",
      "llm_load_print_meta: n_ctx_train      = 4096\n",
      "llm_load_print_meta: n_embd           = 4096\n",
      "llm_load_print_meta: n_head           = 32\n",
      "llm_load_print_meta: n_head_kv        = 32\n",
      "llm_load_print_meta: n_layer          = 32\n",
      "llm_load_print_meta: n_rot            = 128\n",
      "llm_load_print_meta: n_embd_head_k    = 128\n",
      "llm_load_print_meta: n_embd_head_v    = 128\n",
      "llm_load_print_meta: n_gqa            = 1\n",
      "llm_load_print_meta: n_embd_k_gqa     = 4096\n",
      "llm_load_print_meta: n_embd_v_gqa     = 4096\n",
      "llm_load_print_meta: f_norm_eps       = 0.0e+00\n",
      "llm_load_print_meta: f_norm_rms_eps   = 1.0e-05\n",
      "llm_load_print_meta: f_clamp_kqv      = 0.0e+00\n",
      "llm_load_print_meta: f_max_alibi_bias = 0.0e+00\n",
      "llm_load_print_meta: n_ff             = 11008\n",
      "llm_load_print_meta: n_expert         = 0\n",
      "llm_load_print_meta: n_expert_used    = 0\n",
      "llm_load_print_meta: rope scaling     = linear\n",
      "llm_load_print_meta: freq_base_train  = 10000.0\n",
      "llm_load_print_meta: freq_scale_train = 1\n",
      "llm_load_print_meta: n_yarn_orig_ctx  = 4096\n",
      "llm_load_print_meta: rope_finetuned   = unknown\n",
      "llm_load_print_meta: model type       = 7B\n",
      "llm_load_print_meta: model ftype      = Q4_0\n",
      "llm_load_print_meta: model params     = 6.74 B\n",
      "llm_load_print_meta: model size       = 3.56 GiB (4.54 BPW) \n",
      "llm_load_print_meta: general.name     = LLaMA v2\n",
      "llm_load_print_meta: BOS token        = 1 '<s>'\n",
      "llm_load_print_meta: EOS token        = 2 '</s>'\n",
      "llm_load_print_meta: UNK token        = 0 '<unk>'\n",
      "llm_load_print_meta: LF token         = 13 '<0x0A>'\n",
      "llm_load_tensors: ggml ctx size =    0.22 MiB\n",
      "ggml_backend_metal_buffer_from_ptr: allocated buffer, size =  3577.56 MiB, ( 3577.62 / 10922.67)\n",
      "llm_load_tensors: offloading 32 repeating layers to GPU\n",
      "llm_load_tensors: offloading non-repeating layers to GPU\n",
      "llm_load_tensors: offloaded 33/33 layers to GPU\n",
      "llm_load_tensors:        CPU buffer size =    70.31 MiB\n",
      "llm_load_tensors:      Metal buffer size =  3577.56 MiB\n",
      "..................................................................................................\n",
      "llama_new_context_with_model: n_ctx      = 2048\n",
      "llama_new_context_with_model: freq_base  = 10000.0\n",
      "llama_new_context_with_model: freq_scale = 1\n",
      "ggml_metal_init: allocating\n",
      "ggml_metal_init: found device: Apple M1 Pro\n",
      "ggml_metal_init: picking default device: Apple M1 Pro\n",
      "ggml_metal_init: default.metallib not found, loading from source\n",
      "ggml_metal_init: GGML_METAL_PATH_RESOURCES = nil\n",
      "ggml_metal_init: loading '/Users/dima/Repo/Alexandra/venv/lib/python3.11/site-packages/llama_cpp/ggml-metal.metal'\n",
      "ggml_metal_init: GPU name:   Apple M1 Pro\n",
      "ggml_metal_init: GPU family: MTLGPUFamilyApple7  (1007)\n",
      "ggml_metal_init: GPU family: MTLGPUFamilyCommon3 (3003)\n",
      "ggml_metal_init: GPU family: MTLGPUFamilyMetal3  (5001)\n",
      "ggml_metal_init: simdgroup reduction support   = true\n",
      "ggml_metal_init: simdgroup matrix mul. support = true\n",
      "ggml_metal_init: hasUnifiedMemory              = true\n",
      "ggml_metal_init: recommendedMaxWorkingSetSize  = 11453.25 MB\n",
      "ggml_backend_metal_buffer_type_alloc_buffer: allocated buffer, size =  1024.00 MiB, ( 4603.44 / 10922.67)\n",
      "llama_kv_cache_init:      Metal KV buffer size =  1024.00 MiB\n",
      "llama_new_context_with_model: KV self size  = 1024.00 MiB, K (f16):  512.00 MiB, V (f16):  512.00 MiB\n",
      "llama_new_context_with_model:        CPU input buffer size   =     0.39 MiB\n",
      "ggml_backend_metal_buffer_type_alloc_buffer: allocated buffer, size =     5.14 MiB, ( 4608.58 / 10922.67)\n",
      "llama_new_context_with_model:      Metal compute buffer size =     5.13 MiB\n",
      "llama_new_context_with_model:        CPU compute buffer size =     0.25 MiB\n",
      "llama_new_context_with_model: graph splits (measure): 3\n",
      "AVX = 0 | AVX_VNNI = 0 | AVX2 = 0 | AVX512 = 0 | AVX512_VBMI = 0 | AVX512_VNNI = 0 | FMA = 0 | NEON = 1 | ARM_FMA = 1 | F16C = 0 | FP16_VA = 1 | WASM_SIMD = 0 | BLAS = 1 | SSE3 = 0 | SSSE3 = 0 | VSX = 0 | MATMUL_INT8 = 0 | \n",
      "Model metadata: {'general.quantization_version': '2', 'tokenizer.ggml.unknown_token_id': '0', 'tokenizer.ggml.eos_token_id': '2', 'tokenizer.ggml.bos_token_id': '1', 'tokenizer.ggml.model': 'llama', 'llama.attention.head_count_kv': '32', 'llama.context_length': '4096', 'llama.attention.head_count': '32', 'llama.rope.dimension_count': '128', 'general.file_type': '2', 'llama.feed_forward_length': '11008', 'llama.embedding_length': '4096', 'llama.block_count': '32', 'general.architecture': 'llama', 'llama.attention.layer_norm_rms_epsilon': '0.000010', 'general.name': 'LLaMA v2'}\n",
      "  0%|          | 0/157 [00:00<?, ?it/s]\n",
      "llama_print_timings:        load time =    4136.51 ms\n",
      "llama_print_timings:      sample time =      43.04 ms /   256 runs   (    0.17 ms per token,  5947.68 tokens per second)\n",
      "llama_print_timings: prompt eval time =   11678.04 ms /   906 tokens (   12.89 ms per token,    77.58 tokens per second)\n",
      "llama_print_timings:        eval time =    8250.24 ms /   255 runs   (   32.35 ms per token,    30.91 tokens per second)\n",
      "llama_print_timings:       total time =   20413.03 ms /  1161 tokens\n",
      "Llama.generate: prefix-match hit\n"
     ]
    },
    {
     "name": "stdout",
     "output_type": "stream",
     "text": [
      "Chapleau River is in the James Bay drainage basin, begins at Chapleau Lake and is the main tributary of Kapuskasing Lake.\n",
      "++++++++++++++++++++++++++++++++++++\n",
      "[{'drainage basin': 'James Bay drainage basin', 'watercourse': 'Chapleau River'}]\n",
      "++++++++++++++++++++++++++++++++++++\n"
     ]
    },
    {
     "name": "stderr",
     "output_type": "stream",
     "text": [
      "\n",
      "llama_print_timings:        load time =    4136.51 ms\n",
      "llama_print_timings:      sample time =       5.88 ms /    30 runs   (    0.20 ms per token,  5097.71 tokens per second)\n",
      "llama_print_timings: prompt eval time =    4123.55 ms /   482 tokens (    8.56 ms per token,   116.89 tokens per second)\n",
      "llama_print_timings:        eval time =     889.83 ms /    29 runs   (   30.68 ms per token,    32.59 tokens per second)\n",
      "llama_print_timings:       total time =    5103.16 ms /   511 tokens\n",
      "  1%|          | 1/157 [00:25<1:06:24, 25.54s/it]Llama.generate: prefix-match hit\n"
     ]
    },
    {
     "name": "stdout",
     "output_type": "stream",
     "text": [
      "[{'sub': 'Chapleau River', 'rel': 'tributary', 'obj': 'James Bay drainage basin'}]\n",
      "====================================\n",
      "{'model1': 'llama-2-7b.Q4_0.gguf', 'model2': 'llama-2-7b.Q4_0.gguf', 'sent': 'Chapleau River is in the James Bay drainage basin, begins at Chapleau Lake and is the main tributary of Kapuskasing Lake.', 'triples': [{'sub': 'Chapleau River', 'rel': 'tributary', 'obj': 'James Bay drainage basin'}]}\n",
      "====================================\n"
     ]
    },
    {
     "name": "stderr",
     "output_type": "stream",
     "text": [
      "\n",
      "llama_print_timings:        load time =    4136.51 ms\n",
      "llama_print_timings:      sample time =      43.33 ms /   256 runs   (    0.17 ms per token,  5908.28 tokens per second)\n",
      "llama_print_timings: prompt eval time =    7544.99 ms /   886 tokens (    8.52 ms per token,   117.43 tokens per second)\n",
      "llama_print_timings:        eval time =    8217.99 ms /   255 runs   (   32.23 ms per token,    31.03 tokens per second)\n",
      "llama_print_timings:       total time =   16262.48 ms /  1141 tokens\n",
      "  1%|▏         | 2/157 [00:41<51:53, 20.09s/it]  Llama.generate: prefix-match hit\n"
     ]
    },
    {
     "name": "stdout",
     "output_type": "stream",
     "text": [
      "The mountains classification was won by Nicolas Edet (Cofidis)\n",
      "++++++++++++++++++++++++++++++++++++\n",
      "[{'mountain range': 'Pyrenees'}]\n",
      "++++++++++++++++++++++++++++++++++++\n",
      "{'triplets': []}\n",
      "====================================\n",
      "{'model1': 'llama-2-7b.Q4_0.gguf', 'model2': 'llama-2-7b.Q4_0.gguf', 'sent': 'The mountains classification was won by Nicolas Edet (Cofidis)', 'triples': []}\n",
      "====================================\n"
     ]
    },
    {
     "name": "stderr",
     "output_type": "stream",
     "text": [
      "\n",
      "llama_print_timings:        load time =    4136.51 ms\n",
      "llama_print_timings:      sample time =      44.45 ms /   256 runs   (    0.17 ms per token,  5759.02 tokens per second)\n",
      "llama_print_timings: prompt eval time =     824.81 ms /    83 tokens (    9.94 ms per token,   100.63 tokens per second)\n",
      "llama_print_timings:        eval time =    8338.16 ms /   255 runs   (   32.70 ms per token,    30.58 tokens per second)\n",
      "llama_print_timings:       total time =    9607.61 ms /   338 tokens\n",
      "  2%|▏         | 3/157 [00:51<39:16, 15.30s/it]Llama.generate: prefix-match hit\n"
     ]
    },
    {
     "name": "stdout",
     "output_type": "stream",
     "text": [
      "The wreathed hornbill (Rhyticeros undulatus), also known as the bar-pouched wreathed hornbill, is a species of hornbill found in forests from far north-eastern India and Bhutan, east and south through mainland Southeast Asia and the Greater Sundas in Indonesia, except Sulawesi.\n",
      "++++++++++++++++++++++++++++++++++++\n",
      "[{'taxon': 'Rhyticeros undulatus'}]\n",
      "++++++++++++++++++++++++++++++++++++\n",
      "{'triplets': []}\n",
      "====================================\n",
      "{'model1': 'llama-2-7b.Q4_0.gguf', 'model2': 'llama-2-7b.Q4_0.gguf', 'sent': 'The wreathed hornbill (Rhyticeros undulatus), also known as the bar-pouched wreathed hornbill, is a species of hornbill found in forests from far north-eastern India and Bhutan, east and south through mainland Southeast Asia and the Greater Sundas in Indonesia, except Sulawesi.', 'triples': []}\n",
      "====================================\n"
     ]
    },
    {
     "name": "stderr",
     "output_type": "stream",
     "text": [
      "\n",
      "llama_print_timings:        load time =    4136.51 ms\n",
      "llama_print_timings:      sample time =      45.35 ms /   256 runs   (    0.18 ms per token,  5644.86 tokens per second)\n",
      "llama_print_timings: prompt eval time =     692.61 ms /    79 tokens (    8.77 ms per token,   114.06 tokens per second)\n",
      "llama_print_timings:        eval time =    8385.57 ms /   255 runs   (   32.88 ms per token,    30.41 tokens per second)\n",
      "llama_print_timings:       total time =    9534.69 ms /   334 tokens\n",
      "  3%|▎         | 4/157 [01:00<33:13, 13.03s/it]Llama.generate: prefix-match hit\n"
     ]
    },
    {
     "name": "stdout",
     "output_type": "stream",
     "text": [
      "The podium placings were completed by another former winner, Tom-Jelte Slagter of Team Dimension Data, who finished third on Willunga Hill, taking four bonus seconds that put him ahead of the four other competitors that 2018 Tour Down Under had finished with; Slagter finished 16 seconds down on Impey overall.\n",
      "++++++++++++++++++++++++++++++++++++\n",
      "[{'mountain range': 'Willunga Hill'}]\n",
      "++++++++++++++++++++++++++++++++++++\n",
      "{'triplets': []}\n",
      "====================================\n",
      "{'model1': 'llama-2-7b.Q4_0.gguf', 'model2': 'llama-2-7b.Q4_0.gguf', 'sent': 'The podium placings were completed by another former winner, Tom-Jelte Slagter of Team Dimension Data, who finished third on Willunga Hill, taking four bonus seconds that put him ahead of the four other competitors that 2018 Tour Down Under had finished with; Slagter finished 16 seconds down on Impey overall.', 'triples': []}\n",
      "====================================\n"
     ]
    },
    {
     "name": "stderr",
     "output_type": "stream",
     "text": [
      "\n",
      "llama_print_timings:        load time =    4136.51 ms\n",
      "llama_print_timings:      sample time =      47.65 ms /   256 runs   (    0.19 ms per token,  5372.17 tokens per second)\n",
      "llama_print_timings: prompt eval time =     410.19 ms /    38 tokens (   10.79 ms per token,    92.64 tokens per second)\n",
      "llama_print_timings:        eval time =    8443.37 ms /   255 runs   (   33.11 ms per token,    30.20 tokens per second)\n",
      "llama_print_timings:       total time =    9334.39 ms /   293 tokens\n",
      "  3%|▎         | 5/157 [01:10<29:38, 11.70s/it]Llama.generate: prefix-match hit\n"
     ]
    },
    {
     "name": "stdout",
     "output_type": "stream",
     "text": [
      "The Australian swiftlet (Aerodramus terraereginae) is a small bird belonging to the genus Aerodramus in the swift family, Apodidae.\n",
      "++++++++++++++++++++++++++++++++++++\n",
      "[{'taxon': 'Aerodramus terraereginae'}]\n",
      "++++++++++++++++++++++++++++++++++++\n",
      "{'triplets': []}\n",
      "====================================\n",
      "{'model1': 'llama-2-7b.Q4_0.gguf', 'model2': 'llama-2-7b.Q4_0.gguf', 'sent': 'The Australian swiftlet (Aerodramus terraereginae) is a small bird belonging to the genus Aerodramus in the swift family, Apodidae.', 'triples': []}\n",
      "====================================\n"
     ]
    },
    {
     "name": "stderr",
     "output_type": "stream",
     "text": [
      "\n",
      "llama_print_timings:        load time =    4136.51 ms\n",
      "llama_print_timings:      sample time =      44.74 ms /   256 runs   (    0.17 ms per token,  5722.20 tokens per second)\n",
      "llama_print_timings: prompt eval time =     271.38 ms /    22 tokens (   12.34 ms per token,    81.07 tokens per second)\n",
      "llama_print_timings:        eval time =    8252.03 ms /   255 runs   (   32.36 ms per token,    30.90 tokens per second)\n",
      "llama_print_timings:       total time =    8964.74 ms /   277 tokens\n",
      "  4%|▍         | 6/157 [01:19<27:06, 10.77s/it]Llama.generate: prefix-match hit\n"
     ]
    },
    {
     "name": "stdout",
     "output_type": "stream",
     "text": [
      "Nesoluma is a genus of flowering plants in the family Sapotaceae.\n",
      "++++++++++++++++++++++++++++++++++++\n",
      "[{'taxon': 'Nesoluma'}]\n",
      "++++++++++++++++++++++++++++++++++++\n",
      "{'triplets': []}\n",
      "====================================\n",
      "{'model1': 'llama-2-7b.Q4_0.gguf', 'model2': 'llama-2-7b.Q4_0.gguf', 'sent': 'Nesoluma is a genus of flowering plants in the family Sapotaceae.', 'triples': []}\n",
      "====================================\n"
     ]
    },
    {
     "name": "stderr",
     "output_type": "stream",
     "text": [
      "\n",
      "llama_print_timings:        load time =    4136.51 ms\n",
      "llama_print_timings:      sample time =      46.66 ms /   256 runs   (    0.18 ms per token,  5486.85 tokens per second)\n",
      "llama_print_timings: prompt eval time =     822.84 ms /    82 tokens (   10.03 ms per token,    99.65 tokens per second)\n",
      "llama_print_timings:        eval time =    8445.55 ms /   255 runs   (   33.12 ms per token,    30.19 tokens per second)\n",
      "llama_print_timings:       total time =    9745.83 ms /   337 tokens\n",
      "  4%|▍         | 7/157 [01:29<26:05, 10.44s/it]Llama.generate: prefix-match hit\n"
     ]
    },
    {
     "name": "stdout",
     "output_type": "stream",
     "text": [
      "The race was won for the second time in three years by Olympic and European champion Anna van der Breggen (Boels-Dolmans) from the Netherlands, who took the leader's pink jersey after the second stage and maintained the lead for the remainder of the race, taking the overall lead of the UCI Women's World Tour standings in the process.\n",
      "++++++++++++++++++++++++++++++++++++\n",
      "[{'cycling race': 'James Bay Basin'}]\n",
      "++++++++++++++++++++++++++++++++++++\n",
      "{'triplets': []}\n",
      "====================================\n",
      "{'model1': 'llama-2-7b.Q4_0.gguf', 'model2': 'llama-2-7b.Q4_0.gguf', 'sent': \"The race was won for the second time in three years by Olympic and European champion Anna van der Breggen (Boels-Dolmans) from the Netherlands, who took the leader's pink jersey after the second stage and maintained the lead for the remainder of the race, taking the overall lead of the UCI Women's World Tour standings in the process.\", 'triples': []}\n",
      "====================================\n"
     ]
    },
    {
     "name": "stderr",
     "output_type": "stream",
     "text": [
      "\n",
      "llama_print_timings:        load time =    4136.51 ms\n",
      "llama_print_timings:      sample time =      46.38 ms /   256 runs   (    0.18 ms per token,  5520.10 tokens per second)\n",
      "llama_print_timings: prompt eval time =     557.03 ms /    55 tokens (   10.13 ms per token,    98.74 tokens per second)\n",
      "llama_print_timings:        eval time =    8390.63 ms /   255 runs   (   32.90 ms per token,    30.39 tokens per second)\n",
      "llama_print_timings:       total time =    9418.12 ms /   310 tokens\n",
      "  5%|▌         | 8/157 [01:38<25:07, 10.11s/it]Llama.generate: prefix-match hit\n"
     ]
    },
    {
     "name": "stdout",
     "output_type": "stream",
     "text": [
      "The merged river is also known as Mouwen River (Chinese: ; pinyin: MouWÃ¨nHÃ©) which flows through Tai'an, Feicheng, empties into Dongping Lake which enters Yellow River.\n",
      "++++++++++++++++++++++++++++++++++++\n",
      "[{'drainage basin': 'Yellow River'}]\n",
      "++++++++++++++++++++++++++++++++++++\n",
      "{'triplets': []}\n",
      "====================================\n",
      "{'model1': 'llama-2-7b.Q4_0.gguf', 'model2': 'llama-2-7b.Q4_0.gguf', 'sent': \"The merged river is also known as Mouwen River (Chinese: ; pinyin: MouWÃ¨nHÃ©) which flows through Tai'an, Feicheng, empties into Dongping Lake which enters Yellow River.\", 'triples': []}\n",
      "====================================\n"
     ]
    },
    {
     "name": "stderr",
     "output_type": "stream",
     "text": [
      "\n",
      "llama_print_timings:        load time =    4136.51 ms\n",
      "llama_print_timings:      sample time =      45.62 ms /   256 runs   (    0.18 ms per token,  5611.08 tokens per second)\n",
      "llama_print_timings: prompt eval time =     410.75 ms /    42 tokens (    9.78 ms per token,   102.25 tokens per second)\n",
      "llama_print_timings:        eval time =    8371.06 ms /   255 runs   (   32.83 ms per token,    30.46 tokens per second)\n",
      "llama_print_timings:       total time =    9240.84 ms /   297 tokens\n",
      "  6%|▌         | 9/157 [01:47<24:16,  9.84s/it]Llama.generate: prefix-match hit\n"
     ]
    },
    {
     "name": "stdout",
     "output_type": "stream",
     "text": [
      "The feature is located 1.5Â km (1Â mi) north of Istind Peak, on the east side of Ahlmann Ridge in Queen Maud Land.\n",
      "++++++++++++++++++++++++++++++++++++\n",
      "[{'mountain': 'Istind Peak'}]\n",
      "++++++++++++++++++++++++++++++++++++\n",
      "{'triplets': []}\n",
      "====================================\n",
      "{'model1': 'llama-2-7b.Q4_0.gguf', 'model2': 'llama-2-7b.Q4_0.gguf', 'sent': 'The feature is located 1.5Â\\xa0km (1Â\\xa0mi) north of Istind Peak, on the east side of Ahlmann Ridge in Queen Maud Land.', 'triples': []}\n",
      "====================================\n"
     ]
    },
    {
     "name": "stderr",
     "output_type": "stream",
     "text": [
      "\n",
      "llama_print_timings:        load time =    4136.51 ms\n",
      "llama_print_timings:      sample time =      45.07 ms /   256 runs   (    0.18 ms per token,  5679.93 tokens per second)\n",
      "llama_print_timings: prompt eval time =     285.84 ms /    22 tokens (   12.99 ms per token,    76.97 tokens per second)\n",
      "llama_print_timings:        eval time =    8265.61 ms /   255 runs   (   32.41 ms per token,    30.85 tokens per second)\n",
      "llama_print_timings:       total time =    9001.74 ms /   277 tokens\n",
      "  6%|▋         | 10/157 [01:56<23:28,  9.58s/it]Llama.generate: prefix-match hit\n"
     ]
    },
    {
     "name": "stdout",
     "output_type": "stream",
     "text": [
      "Long-tailed duck is the only living member of its genus, Clangula.\n",
      "++++++++++++++++++++++++++++++++++++\n",
      "[{'taxon': 'Long-tailed duck'}]\n",
      "++++++++++++++++++++++++++++++++++++\n",
      "{'triplets': []}\n",
      "====================================\n",
      "{'model1': 'llama-2-7b.Q4_0.gguf', 'model2': 'llama-2-7b.Q4_0.gguf', 'sent': 'Long-tailed duck is the only living member of its genus, Clangula.', 'triples': []}\n",
      "====================================\n"
     ]
    },
    {
     "name": "stderr",
     "output_type": "stream",
     "text": [
      "\n",
      "llama_print_timings:        load time =    4136.51 ms\n",
      "llama_print_timings:      sample time =      47.59 ms /   256 runs   (    0.19 ms per token,  5379.17 tokens per second)\n",
      "llama_print_timings: prompt eval time =     414.06 ms /    46 tokens (    9.00 ms per token,   111.10 tokens per second)\n",
      "llama_print_timings:        eval time =    8465.03 ms /   255 runs   (   33.20 ms per token,    30.12 tokens per second)\n",
      "llama_print_timings:       total time =    9369.11 ms /   301 tokens\n",
      "  7%|▋         | 11/157 [02:06<23:09,  9.52s/it]Llama.generate: prefix-match hit\n"
     ]
    },
    {
     "name": "stdout",
     "output_type": "stream",
     "text": [
      "Mount Sannosawa ( Sannosawa-dake) is amongst the Kiso Mountains, located in the Kiso District, Nagano Prefecture, in the Chūbu region of Japan.\n",
      "++++++++++++++++++++++++++++++++++++\n",
      "[{'mountain': 'Kiso Mountains'}]\n",
      "++++++++++++++++++++++++++++++++++++\n",
      "{'triplets': []}\n",
      "====================================\n",
      "{'model1': 'llama-2-7b.Q4_0.gguf', 'model2': 'llama-2-7b.Q4_0.gguf', 'sent': 'Mount Sannosawa ( Sannosawa-dake) is amongst the Kiso Mountains, located in the Kiso District, Nagano Prefecture, in the Chūbu region of Japan.', 'triples': []}\n",
      "====================================\n"
     ]
    },
    {
     "name": "stderr",
     "output_type": "stream",
     "text": [
      "\n",
      "llama_print_timings:        load time =    4136.51 ms\n",
      "llama_print_timings:      sample time =      47.71 ms /   256 runs   (    0.19 ms per token,  5365.53 tokens per second)\n",
      "llama_print_timings: prompt eval time =     542.84 ms /    55 tokens (    9.87 ms per token,   101.32 tokens per second)\n",
      "llama_print_timings:        eval time =    8455.03 ms /   255 runs   (   33.16 ms per token,    30.16 tokens per second)\n",
      "llama_print_timings:       total time =    9486.16 ms /   310 tokens\n",
      "  8%|▊         | 12/157 [02:15<22:59,  9.51s/it]Llama.generate: prefix-match hit\n"
     ]
    },
    {
     "name": "stdout",
     "output_type": "stream",
     "text": [
      "Ove Peak (72°11S 3°27W) is the northernmost peak in the group at the west side of Wilson Saddle, near the southwest end of Ahlmann Ridge in Queen Maud Land.\n",
      "++++++++++++++++++++++++++++++++++++\n",
      "[{'mountain': 'Ahlmann Ridge'}]\n",
      "++++++++++++++++++++++++++++++++++++\n",
      "{'triplets': []}\n",
      "====================================\n",
      "{'model1': 'llama-2-7b.Q4_0.gguf', 'model2': 'llama-2-7b.Q4_0.gguf', 'sent': 'Ove Peak (72°11S 3°27W) is the northernmost peak in the group at the west side of Wilson Saddle, near the southwest end of Ahlmann Ridge in Queen Maud Land.', 'triples': []}\n",
      "====================================\n"
     ]
    },
    {
     "name": "stderr",
     "output_type": "stream",
     "text": [
      "\n",
      "llama_print_timings:        load time =    4136.51 ms\n",
      "llama_print_timings:      sample time =      46.09 ms /   256 runs   (    0.18 ms per token,  5554.11 tokens per second)\n",
      "llama_print_timings: prompt eval time =     686.58 ms /    69 tokens (    9.95 ms per token,   100.50 tokens per second)\n",
      "llama_print_timings:        eval time =    8353.78 ms /   255 runs   (   32.76 ms per token,    30.53 tokens per second)\n",
      "llama_print_timings:       total time =    9514.26 ms /   324 tokens\n",
      "  8%|▊         | 13/157 [02:25<22:49,  9.51s/it]Llama.generate: prefix-match hit\n"
     ]
    },
    {
     "name": "stdout",
     "output_type": "stream",
     "text": [
      "Pannerdens Kanaal flows past the towns of Pannerden (right bank), which gives the canal its name, and Angeren (left bank) and so north to the point where the old Rhine bend flows into it and the river continues to the sea as Nederrijn (Lower Rhine).\n",
      "++++++++++++++++++++++++++++++++++++\n",
      "[{'watercourse': 'Pannerdens Kanaal'}]\n",
      "++++++++++++++++++++++++++++++++++++\n",
      "{'triplets': []}\n",
      "====================================\n",
      "{'model1': 'llama-2-7b.Q4_0.gguf', 'model2': 'llama-2-7b.Q4_0.gguf', 'sent': 'Pannerdens Kanaal flows past the towns of Pannerden (right bank), which gives the canal its name, and Angeren (left bank) and so north to the point where the old Rhine bend flows into it and the river continues to the sea as Nederrijn (Lower Rhine).', 'triples': []}\n",
      "====================================\n"
     ]
    },
    {
     "name": "stderr",
     "output_type": "stream",
     "text": [
      "\n",
      "llama_print_timings:        load time =    4136.51 ms\n",
      "llama_print_timings:      sample time =      44.11 ms /   256 runs   (    0.17 ms per token,  5803.80 tokens per second)\n",
      "llama_print_timings: prompt eval time =     544.23 ms /    56 tokens (    9.72 ms per token,   102.90 tokens per second)\n",
      "llama_print_timings:        eval time =    8296.39 ms /   255 runs   (   32.53 ms per token,    30.74 tokens per second)\n",
      "llama_print_timings:       total time =    9284.42 ms /   311 tokens\n",
      "  9%|▉         | 14/157 [02:34<22:30,  9.45s/it]Llama.generate: prefix-match hit\n"
     ]
    },
    {
     "name": "stdout",
     "output_type": "stream",
     "text": [
      "It is classed as a subsidiary summit of Fan Fawr and makes up half of the Craig Cerrig-gleisiad and Fan Frynych National Nature Reserve with its sister peak Craig Cerrig-gleisiad.\n",
      "++++++++++++++++++++++++++++++++++++\n",
      "[{'mountain': 'Fan Fawr'}]\n",
      "++++++++++++++++++++++++++++++++++++\n",
      "{'triplets': []}\n",
      "====================================\n",
      "{'model1': 'llama-2-7b.Q4_0.gguf', 'model2': 'llama-2-7b.Q4_0.gguf', 'sent': 'It is classed as a subsidiary summit of Fan Fawr and makes up half of the Craig Cerrig-gleisiad and Fan Frynych National Nature Reserve with its sister peak Craig Cerrig-gleisiad.', 'triples': []}\n",
      "====================================\n"
     ]
    },
    {
     "name": "stderr",
     "output_type": "stream",
     "text": [
      "\n",
      "llama_print_timings:        load time =    4136.51 ms\n",
      "llama_print_timings:      sample time =      44.34 ms /   256 runs   (    0.17 ms per token,  5773.96 tokens per second)\n",
      "llama_print_timings: prompt eval time =     272.95 ms /    28 tokens (    9.75 ms per token,   102.58 tokens per second)\n",
      "llama_print_timings:        eval time =    8258.35 ms /   255 runs   (   32.39 ms per token,    30.88 tokens per second)\n",
      "llama_print_timings:       total time =    8973.77 ms /   283 tokens\n",
      " 10%|▉         | 15/157 [02:43<22:01,  9.31s/it]Llama.generate: prefix-match hit\n"
     ]
    },
    {
     "name": "stdout",
     "output_type": "stream",
     "text": [
      "Asteriscus maritimus) is a herbaceous perennial in the family Asteraceae.\n",
      "++++++++++++++++++++++++++++++++++++\n",
      "[{'taxon': 'Asteriscus maritimus'}]\n",
      "++++++++++++++++++++++++++++++++++++\n",
      "{'triplets': []}\n",
      "====================================\n",
      "{'model1': 'llama-2-7b.Q4_0.gguf', 'model2': 'llama-2-7b.Q4_0.gguf', 'sent': 'Asteriscus maritimus) is a herbaceous perennial in the family Asteraceae.', 'triples': []}\n",
      "====================================\n"
     ]
    },
    {
     "name": "stderr",
     "output_type": "stream",
     "text": [
      "\n",
      "llama_print_timings:        load time =    4136.51 ms\n",
      "llama_print_timings:      sample time =      44.08 ms /   256 runs   (    0.17 ms per token,  5808.28 tokens per second)\n",
      "llama_print_timings: prompt eval time =     136.77 ms /    16 tokens (    8.55 ms per token,   116.98 tokens per second)\n",
      "llama_print_timings:        eval time =    8272.48 ms /   256 runs   (   32.31 ms per token,    30.95 tokens per second)\n",
      "llama_print_timings:       total time =    8849.02 ms /   272 tokens\n",
      " 10%|█         | 16/157 [02:52<21:32,  9.17s/it]Llama.generate: prefix-match hit\n"
     ]
    },
    {
     "name": "stdout",
     "output_type": "stream",
     "text": [
      "The race was won by Rob Britton of Rally Cycling.\n",
      "++++++++++++++++++++++++++++++++++++\n",
      "[{'cycling race': 'James Bay Basin'}]\n",
      "++++++++++++++++++++++++++++++++++++\n",
      "{'triplets': []}\n",
      "====================================\n",
      "{'model1': 'llama-2-7b.Q4_0.gguf', 'model2': 'llama-2-7b.Q4_0.gguf', 'sent': 'The race was won by Rob Britton of Rally Cycling.', 'triples': []}\n",
      "====================================\n"
     ]
    },
    {
     "name": "stderr",
     "output_type": "stream",
     "text": [
      "\n",
      "llama_print_timings:        load time =    4136.51 ms\n",
      "llama_print_timings:      sample time =      44.01 ms /   256 runs   (    0.17 ms per token,  5817.39 tokens per second)\n",
      "llama_print_timings: prompt eval time =     548.62 ms /    64 tokens (    8.57 ms per token,   116.66 tokens per second)\n",
      "llama_print_timings:        eval time =    8340.12 ms /   256 runs   (   32.58 ms per token,    30.69 tokens per second)\n",
      "llama_print_timings:       total time =    9332.00 ms /   320 tokens\n",
      " 11%|█         | 17/157 [03:01<21:30,  9.22s/it]Llama.generate: prefix-match hit\n"
     ]
    },
    {
     "name": "stdout",
     "output_type": "stream",
     "text": [
      "Jones Nunatak (69Â°47S 159Â°4E) is a nunatak at the head of Noll Glacier, 4 nautical miles (7Â km) west of Mount Schutz, in the Wilson Hills of Antarctica.\n",
      "++++++++++++++++++++++++++++++++++++\n",
      "[{'mountain': 'Jones Nunatak'}]\n",
      "++++++++++++++++++++++++++++++++++++\n",
      "{'triplets': []}\n",
      "====================================\n",
      "{'model1': 'llama-2-7b.Q4_0.gguf', 'model2': 'llama-2-7b.Q4_0.gguf', 'sent': 'Jones Nunatak (69Â°47S 159Â°4E) is a nunatak at the head of Noll Glacier, 4 nautical miles (7Â\\xa0km) west of Mount Schutz, in the Wilson Hills of Antarctica.', 'triples': []}\n",
      "====================================\n"
     ]
    },
    {
     "name": "stderr",
     "output_type": "stream",
     "text": [
      "\n",
      "llama_print_timings:        load time =    4136.51 ms\n",
      "llama_print_timings:      sample time =      43.94 ms /   256 runs   (    0.17 ms per token,  5826.26 tokens per second)\n",
      "llama_print_timings: prompt eval time =     408.94 ms /    41 tokens (    9.97 ms per token,   100.26 tokens per second)\n",
      "llama_print_timings:        eval time =    8275.89 ms /   255 runs   (   32.45 ms per token,    30.81 tokens per second)\n",
      "llama_print_timings:       total time =    9124.81 ms /   296 tokens\n",
      " 11%|█▏        | 18/157 [03:10<21:17,  9.19s/it]Llama.generate: prefix-match hit\n"
     ]
    },
    {
     "name": "stdout",
     "output_type": "stream",
     "text": [
      "The Veitskopf is  hill, 428Â mÂ aboveÂ sea level (NHN), in the Eifel mountains of Germany.\n",
      "++++++++++++++++++++++++++++++++++++\n",
      "[{'mountain': 'Veitskopf'}]\n",
      "++++++++++++++++++++++++++++++++++++\n",
      "{'triplets': []}\n",
      "====================================\n",
      "{'model1': 'llama-2-7b.Q4_0.gguf', 'model2': 'llama-2-7b.Q4_0.gguf', 'sent': 'The Veitskopf is  hill, 428Â\\xa0mÂ\\xa0aboveÂ\\xa0sea level (NHN), in the Eifel mountains of Germany.', 'triples': []}\n",
      "====================================\n"
     ]
    },
    {
     "name": "stderr",
     "output_type": "stream",
     "text": [
      "\n",
      "llama_print_timings:        load time =    4136.51 ms\n",
      "llama_print_timings:      sample time =      43.96 ms /   256 runs   (    0.17 ms per token,  5823.34 tokens per second)\n",
      "llama_print_timings: prompt eval time =     687.83 ms /    71 tokens (    9.69 ms per token,   103.22 tokens per second)\n",
      "llama_print_timings:        eval time =    8316.44 ms /   255 runs   (   32.61 ms per token,    30.66 tokens per second)\n",
      "llama_print_timings:       total time =    9449.85 ms /   326 tokens\n",
      " 12%|█▏        | 19/157 [03:20<21:19,  9.27s/it]Llama.generate: prefix-match hit\n"
     ]
    },
    {
     "name": "stdout",
     "output_type": "stream",
     "text": [
      "As well as the victories recorded by Greipel, Vermote, Groenewegen, Dennis and Ewan; Team Sky pair Ian Stannard and Wout Poels, Cannondale-Drapac's Jack Bauer and Etixx-Quick-Step rider Tony Martin took stage wins.\n",
      "++++++++++++++++++++++++++++++++++++\n",
      "[{'reservoir': 'James Bay Basin'}]\n",
      "++++++++++++++++++++++++++++++++++++\n",
      "{'triplets': []}\n",
      "====================================\n",
      "{'model1': 'llama-2-7b.Q4_0.gguf', 'model2': 'llama-2-7b.Q4_0.gguf', 'sent': \"As well as the victories recorded by Greipel, Vermote, Groenewegen, Dennis and Ewan; Team Sky pair Ian Stannard and Wout Poels, Cannondale-Drapac's Jack Bauer and Etixx-Quick-Step rider Tony Martin took stage wins.\", 'triples': []}\n",
      "====================================\n"
     ]
    },
    {
     "name": "stderr",
     "output_type": "stream",
     "text": [
      "\n",
      "llama_print_timings:        load time =    4136.51 ms\n",
      "llama_print_timings:      sample time =      44.05 ms /   256 runs   (    0.17 ms per token,  5811.05 tokens per second)\n",
      "llama_print_timings: prompt eval time =     410.43 ms /    45 tokens (    9.12 ms per token,   109.64 tokens per second)\n",
      "llama_print_timings:        eval time =    8301.32 ms /   255 runs   (   32.55 ms per token,    30.72 tokens per second)\n",
      "llama_print_timings:       total time =    9157.37 ms /   300 tokens\n",
      " 13%|█▎        | 20/157 [03:29<21:05,  9.24s/it]Llama.generate: prefix-match hit\n"
     ]
    },
    {
     "name": "stdout",
     "output_type": "stream",
     "text": [
      "Van der Breggen triumphed in the race overall by 63 seconds from the highest-placed Italian rider Elisa Longo Borghini, of the Wiggle High5 team.\n",
      "++++++++++++++++++++++++++++++++++++\n",
      "[{'cycling race': \"Giro d'Italia Femminile\"}]\n",
      "++++++++++++++++++++++++++++++++++++\n",
      "{'triplets': []}\n",
      "====================================\n",
      "{'model1': 'llama-2-7b.Q4_0.gguf', 'model2': 'llama-2-7b.Q4_0.gguf', 'sent': 'Van der Breggen triumphed in the race overall by 63 seconds from the highest-placed Italian rider Elisa Longo Borghini, of the Wiggle High5 team.', 'triples': []}\n",
      "====================================\n"
     ]
    },
    {
     "name": "stderr",
     "output_type": "stream",
     "text": [
      "\n",
      "llama_print_timings:        load time =    4136.51 ms\n",
      "llama_print_timings:      sample time =      44.20 ms /   256 runs   (    0.17 ms per token,  5792.38 tokens per second)\n",
      "llama_print_timings: prompt eval time =     268.34 ms /    20 tokens (   13.42 ms per token,    74.53 tokens per second)\n",
      "llama_print_timings:        eval time =    8240.82 ms /   255 runs   (   32.32 ms per token,    30.94 tokens per second)\n",
      "llama_print_timings:       total time =    8951.19 ms /   275 tokens\n",
      " 13%|█▎        | 21/157 [03:38<20:44,  9.15s/it]Llama.generate: prefix-match hit\n"
     ]
    },
    {
     "name": "stdout",
     "output_type": "stream",
     "text": [
      "The 2015 race was won by Geraint Thomas of Team Sky.\n",
      "++++++++++++++++++++++++++++++++++++\n",
      "[{'cycling race': '2015 Tour de France'}]\n",
      "++++++++++++++++++++++++++++++++++++\n",
      "{'triplets': []}\n",
      "====================================\n",
      "{'model1': 'llama-2-7b.Q4_0.gguf', 'model2': 'llama-2-7b.Q4_0.gguf', 'sent': 'The 2015 race was won by Geraint Thomas of Team Sky.', 'triples': []}\n",
      "====================================\n"
     ]
    },
    {
     "name": "stderr",
     "output_type": "stream",
     "text": [
      "\n",
      "llama_print_timings:        load time =    4136.51 ms\n",
      "llama_print_timings:      sample time =      44.26 ms /   256 runs   (    0.17 ms per token,  5783.74 tokens per second)\n",
      "llama_print_timings: prompt eval time =     551.81 ms /    60 tokens (    9.20 ms per token,   108.73 tokens per second)\n",
      "llama_print_timings:        eval time =    8309.64 ms /   255 runs   (   32.59 ms per token,    30.69 tokens per second)\n",
      "llama_print_timings:       total time =    9309.80 ms /   315 tokens\n",
      " 14%|█▍        | 22/157 [03:47<20:42,  9.20s/it]Llama.generate: prefix-match hit\n"
     ]
    },
    {
     "name": "stdout",
     "output_type": "stream",
     "text": [
      "The sacred kingfisher (Todiramphus sanctus) is a medium-sized woodland kingfisher that occurs in mangroves, woodlands, forests, and river valleys in Australia, New Zealand, and other parts of the western Pacific.\n",
      "++++++++++++++++++++++++++++++++++++\n",
      "[{'taxon': 'Todiramphus sanctus'}]\n",
      "++++++++++++++++++++++++++++++++++++\n",
      "{'triplets': []}\n",
      "====================================\n",
      "{'model1': 'llama-2-7b.Q4_0.gguf', 'model2': 'llama-2-7b.Q4_0.gguf', 'sent': 'The sacred kingfisher (Todiramphus sanctus) is a medium-sized woodland kingfisher that occurs in mangroves, woodlands, forests, and river valleys in Australia, New Zealand, and other parts of the western Pacific.', 'triples': []}\n",
      "====================================\n"
     ]
    },
    {
     "name": "stderr",
     "output_type": "stream",
     "text": [
      "\n",
      "llama_print_timings:        load time =    4136.51 ms\n",
      "llama_print_timings:      sample time =      43.57 ms /   256 runs   (    0.17 ms per token,  5876.01 tokens per second)\n",
      "llama_print_timings: prompt eval time =     684.71 ms /    71 tokens (    9.64 ms per token,   103.69 tokens per second)\n",
      "llama_print_timings:        eval time =    8320.68 ms /   255 runs   (   32.63 ms per token,    30.65 tokens per second)\n",
      "llama_print_timings:       total time =    9446.47 ms /   326 tokens\n",
      " 15%|█▍        | 23/157 [03:57<20:43,  9.28s/it]Llama.generate: prefix-match hit\n"
     ]
    },
    {
     "name": "stdout",
     "output_type": "stream",
     "text": [
      "Shiawassee River flows in a generally northerly direction for about 110 miles (180Â km) from its source to its confluence with the Tittabawassee River creating the Saginaw River, which drains into the Saginaw Bay of Lake Huron.\n",
      "++++++++++++++++++++++++++++++++++++\n",
      "[{'drainage basin': 'Saginaw Bay'}]\n",
      "++++++++++++++++++++++++++++++++++++\n",
      "{'triplets': []}\n",
      "====================================\n",
      "{'model1': 'llama-2-7b.Q4_0.gguf', 'model2': 'llama-2-7b.Q4_0.gguf', 'sent': 'Shiawassee River flows in a generally northerly direction for about 110 miles (180Â\\xa0km) from its source to its confluence with the Tittabawassee River creating the Saginaw River, which drains into the Saginaw Bay of Lake Huron.', 'triples': []}\n",
      "====================================\n"
     ]
    },
    {
     "name": "stderr",
     "output_type": "stream",
     "text": [
      "\n",
      "llama_print_timings:        load time =    4136.51 ms\n",
      "llama_print_timings:      sample time =      43.56 ms /   256 runs   (    0.17 ms per token,  5876.28 tokens per second)\n",
      "llama_print_timings: prompt eval time =     405.05 ms /    36 tokens (   11.25 ms per token,    88.88 tokens per second)\n",
      "llama_print_timings:        eval time =    8263.90 ms /   255 runs   (   32.41 ms per token,    30.86 tokens per second)\n",
      "llama_print_timings:       total time =    9106.82 ms /   291 tokens\n",
      " 15%|█▌        | 24/157 [04:06<20:27,  9.23s/it]Llama.generate: prefix-match hit\n"
     ]
    },
    {
     "name": "stdout",
     "output_type": "stream",
     "text": [
      "The sombre hummingbird (Aphantochroa cirrochloris) is the only species in the genus Aphantochroa.\n",
      "++++++++++++++++++++++++++++++++++++\n",
      "[{'taxon': 'Aphantochroa cirrochloris'}]\n",
      "++++++++++++++++++++++++++++++++++++\n",
      "{'triplets': []}\n",
      "====================================\n",
      "{'model1': 'llama-2-7b.Q4_0.gguf', 'model2': 'llama-2-7b.Q4_0.gguf', 'sent': 'The sombre hummingbird (Aphantochroa cirrochloris) is the only species in the genus Aphantochroa.', 'triples': []}\n",
      "====================================\n"
     ]
    },
    {
     "name": "stderr",
     "output_type": "stream",
     "text": [
      "\n",
      "llama_print_timings:        load time =    4136.51 ms\n",
      "llama_print_timings:      sample time =      43.97 ms /   256 runs   (    0.17 ms per token,  5821.62 tokens per second)\n",
      "llama_print_timings: prompt eval time =     547.21 ms /    61 tokens (    8.97 ms per token,   111.48 tokens per second)\n",
      "llama_print_timings:        eval time =    8303.61 ms /   255 runs   (   32.56 ms per token,    30.71 tokens per second)\n",
      "llama_print_timings:       total time =    9293.72 ms /   316 tokens\n",
      " 16%|█▌        | 25/157 [04:15<20:20,  9.25s/it]Llama.generate: prefix-match hit\n"
     ]
    },
    {
     "name": "stdout",
     "output_type": "stream",
     "text": [
      "The Ernstberg (also Erresberg) southeast of Hinterweiler is, at 698.8Â m, the highest of the west Eifel volcanoes and, after the Hohe Acht, the second highest mountain in the Eifel overall.\n",
      "++++++++++++++++++++++++++++++++++++\n",
      "[{'mountain': 'Hohe Acht'}]\n",
      "++++++++++++++++++++++++++++++++++++\n",
      "{'triplets': []}\n",
      "====================================\n",
      "{'model1': 'llama-2-7b.Q4_0.gguf', 'model2': 'llama-2-7b.Q4_0.gguf', 'sent': 'The Ernstberg (also Erresberg) southeast of Hinterweiler is, at 698.8Â\\xa0m, the highest of the west Eifel volcanoes and, after the Hohe Acht, the second highest mountain in the Eifel overall.', 'triples': []}\n",
      "====================================\n"
     ]
    },
    {
     "name": "stderr",
     "output_type": "stream",
     "text": [
      "\n",
      "llama_print_timings:        load time =    4136.51 ms\n",
      "llama_print_timings:      sample time =      44.60 ms /   256 runs   (    0.17 ms per token,  5739.78 tokens per second)\n",
      "llama_print_timings: prompt eval time =     272.11 ms /    24 tokens (   11.34 ms per token,    88.20 tokens per second)\n",
      "llama_print_timings:        eval time =    8259.57 ms /   255 runs   (   32.39 ms per token,    30.87 tokens per second)\n",
      "llama_print_timings:       total time =    8981.00 ms /   279 tokens\n",
      " 17%|█▋        | 26/157 [04:24<20:01,  9.17s/it]Llama.generate: prefix-match hit\n"
     ]
    },
    {
     "name": "stdout",
     "output_type": "stream",
     "text": [
      "The royal tern (Thalasseus maximus) is a tern in the family Laridae.\n",
      "++++++++++++++++++++++++++++++++++++\n",
      "[{'taxon': 'Thalasseus maximus'}]\n",
      "++++++++++++++++++++++++++++++++++++\n",
      "{'triplets': []}\n",
      "====================================\n",
      "{'model1': 'llama-2-7b.Q4_0.gguf', 'model2': 'llama-2-7b.Q4_0.gguf', 'sent': 'The royal tern (Thalasseus maximus) is a tern in the family Laridae.', 'triples': []}\n",
      "====================================\n"
     ]
    },
    {
     "name": "stderr",
     "output_type": "stream",
     "text": [
      "\n",
      "llama_print_timings:        load time =    4136.51 ms\n",
      "llama_print_timings:      sample time =      43.63 ms /   256 runs   (    0.17 ms per token,  5867.52 tokens per second)\n",
      "llama_print_timings: prompt eval time =     546.19 ms /    54 tokens (   10.11 ms per token,    98.87 tokens per second)\n",
      "llama_print_timings:        eval time =    8299.21 ms /   255 runs   (   32.55 ms per token,    30.73 tokens per second)\n",
      "llama_print_timings:       total time =    9286.24 ms /   309 tokens\n",
      " 17%|█▋        | 27/157 [04:33<19:56,  9.21s/it]Llama.generate: prefix-match hit\n"
     ]
    },
    {
     "name": "stdout",
     "output_type": "stream",
     "text": [
      "The dam forms Lake Kariba, which extends for 280 kilometres (170Â mi) and holds 185 cubic kilometres (150,000,000Â acreft) of water.\n",
      "++++++++++++++++++++++++++++++++++++\n",
      "[{'reservoir': 'Lake Kariba'}]\n",
      "++++++++++++++++++++++++++++++++++++\n",
      "{'triplets': []}\n",
      "====================================\n",
      "{'model1': 'llama-2-7b.Q4_0.gguf', 'model2': 'llama-2-7b.Q4_0.gguf', 'sent': 'The dam forms Lake Kariba, which extends for 280 kilometres (170Â\\xa0mi) and holds 185 cubic kilometres (150,000,000Â\\xa0acreft) of water.', 'triples': []}\n",
      "====================================\n"
     ]
    },
    {
     "name": "stderr",
     "output_type": "stream",
     "text": [
      "\n",
      "llama_print_timings:        load time =    4136.51 ms\n",
      "llama_print_timings:      sample time =      43.41 ms /   256 runs   (    0.17 ms per token,  5897.26 tokens per second)\n",
      "llama_print_timings: prompt eval time =     412.78 ms /    47 tokens (    8.78 ms per token,   113.86 tokens per second)\n",
      "llama_print_timings:        eval time =    8282.12 ms /   255 runs   (   32.48 ms per token,    30.79 tokens per second)\n",
      "llama_print_timings:       total time =    9130.93 ms /   302 tokens\n",
      " 18%|█▊        | 28/157 [04:42<19:44,  9.19s/it]Llama.generate: prefix-match hit\n"
     ]
    },
    {
     "name": "stdout",
     "output_type": "stream",
     "text": [
      "Approximately 4 miles (6.4Â km) long, Whatcom Creek drains Lake Whatcom through Whatcom Falls Park and through the city of Bellingham to Bellingham Bay.\n",
      "++++++++++++++++++++++++++++++++++++\n",
      "[{'watercourse': 'Whatcom Creek'}]\n",
      "++++++++++++++++++++++++++++++++++++\n",
      "{'triplets': []}\n",
      "====================================\n",
      "{'model1': 'llama-2-7b.Q4_0.gguf', 'model2': 'llama-2-7b.Q4_0.gguf', 'sent': 'Approximately 4 miles (6.4Â\\xa0km) long, Whatcom Creek drains Lake Whatcom through Whatcom Falls Park and through the city of Bellingham to Bellingham Bay.', 'triples': []}\n",
      "====================================\n"
     ]
    },
    {
     "name": "stderr",
     "output_type": "stream",
     "text": [
      "\n",
      "llama_print_timings:        load time =    4136.51 ms\n",
      "llama_print_timings:      sample time =      43.22 ms /   256 runs   (    0.17 ms per token,  5923.73 tokens per second)\n",
      "llama_print_timings: prompt eval time =     823.40 ms /    92 tokens (    8.95 ms per token,   111.73 tokens per second)\n",
      "llama_print_timings:        eval time =    8347.44 ms /   255 runs   (   32.74 ms per token,    30.55 tokens per second)\n",
      "llama_print_timings:       total time =    9615.48 ms /   347 tokens\n",
      " 18%|█▊        | 29/157 [04:52<19:52,  9.32s/it]Llama.generate: prefix-match hit\n"
     ]
    },
    {
     "name": "stdout",
     "output_type": "stream",
     "text": [
      "The race was won by Omega Pharma-Quick-Step rider Michał Kwiatkowski - taking the first stage race win of 2014 Volta ao Algarve's career - after taking the race lead with a solo stage victory on the second stage; he further extended his lead in the following day's individual time trial, before holding his lead to the end of the race.\n",
      "++++++++++++++++++++++++++++++++++++\n",
      "[{'cycling race': 'James Bay Basin'}]\n",
      "++++++++++++++++++++++++++++++++++++\n",
      "{'triplets': []}\n",
      "====================================\n",
      "{'model1': 'llama-2-7b.Q4_0.gguf', 'model2': 'llama-2-7b.Q4_0.gguf', 'sent': \"The race was won by Omega Pharma-Quick-Step rider Michał Kwiatkowski\\xa0- taking the first stage race win of 2014 Volta ao Algarve's career\\xa0- after taking the race lead with a solo stage victory on the second stage; he further extended his lead in the following day's individual time trial, before holding his lead to the end of the race.\", 'triples': []}\n",
      "====================================\n"
     ]
    },
    {
     "name": "stderr",
     "output_type": "stream",
     "text": [
      "\n",
      "llama_print_timings:        load time =    4136.51 ms\n",
      "llama_print_timings:      sample time =      44.17 ms /   256 runs   (    0.17 ms per token,  5795.26 tokens per second)\n",
      "llama_print_timings: prompt eval time =     413.07 ms /    48 tokens (    8.61 ms per token,   116.20 tokens per second)\n",
      "llama_print_timings:        eval time =    8290.34 ms /   255 runs   (   32.51 ms per token,    30.76 tokens per second)\n",
      "llama_print_timings:       total time =    9149.02 ms /   303 tokens\n",
      " 19%|█▉        | 30/157 [05:01<19:36,  9.27s/it]Llama.generate: prefix-match hit\n"
     ]
    },
    {
     "name": "stdout",
     "output_type": "stream",
     "text": [
      "Rivière des Envies (River of cravings, in a direct translation) is located in Canada, in the province of Quebec, in the Mauricie administrative region, in the Batiscanie.\n",
      "++++++++++++++++++++++++++++++++++++\n",
      "[{'watercourse': 'Rivière des Envies'}]\n",
      "++++++++++++++++++++++++++++++++++++\n",
      "{'triplets': []}\n",
      "====================================\n",
      "{'model1': 'llama-2-7b.Q4_0.gguf', 'model2': 'llama-2-7b.Q4_0.gguf', 'sent': 'Rivière des Envies (River of cravings, in a direct translation) is located in Canada, in the province of Quebec, in the Mauricie administrative region, in the Batiscanie.', 'triples': []}\n",
      "====================================\n"
     ]
    },
    {
     "name": "stderr",
     "output_type": "stream",
     "text": [
      "\n",
      "llama_print_timings:        load time =    4136.51 ms\n",
      "llama_print_timings:      sample time =      44.04 ms /   256 runs   (    0.17 ms per token,  5813.29 tokens per second)\n",
      "llama_print_timings: prompt eval time =     410.00 ms /    38 tokens (   10.79 ms per token,    92.68 tokens per second)\n",
      "llama_print_timings:        eval time =    8262.97 ms /   255 runs   (   32.40 ms per token,    30.86 tokens per second)\n",
      "llama_print_timings:       total time =    9116.32 ms /   293 tokens\n",
      " 20%|█▉        | 31/157 [05:10<19:22,  9.22s/it]Llama.generate: prefix-match hit\n"
     ]
    },
    {
     "name": "stdout",
     "output_type": "stream",
     "text": [
      "The Miami River is a river in the United States state of Florida that drains out of the Everglades and runs through the city of Miami, including Downtown.\n",
      "++++++++++++++++++++++++++++++++++++\n",
      "[{'watercourse': 'Miami River'}]\n",
      "++++++++++++++++++++++++++++++++++++\n",
      "{'triplets': []}\n",
      "====================================\n",
      "{'model1': 'llama-2-7b.Q4_0.gguf', 'model2': 'llama-2-7b.Q4_0.gguf', 'sent': 'The Miami River is a river in the United States state of Florida that drains out of the Everglades and runs through the city of Miami, including Downtown.', 'triples': []}\n",
      "====================================\n"
     ]
    },
    {
     "name": "stderr",
     "output_type": "stream",
     "text": [
      "\n",
      "llama_print_timings:        load time =    4136.51 ms\n",
      "llama_print_timings:      sample time =      43.93 ms /   256 runs   (    0.17 ms per token,  5827.05 tokens per second)\n",
      "llama_print_timings: prompt eval time =     409.22 ms /    39 tokens (   10.49 ms per token,    95.30 tokens per second)\n",
      "llama_print_timings:        eval time =    8273.69 ms /   255 runs   (   32.45 ms per token,    30.82 tokens per second)\n",
      "llama_print_timings:       total time =    9127.10 ms /   294 tokens\n",
      " 20%|██        | 32/157 [05:19<19:09,  9.20s/it]Llama.generate: prefix-match hit\n"
     ]
    },
    {
     "name": "stdout",
     "output_type": "stream",
     "text": [
      "The Niagara River and its tributaries, Tonawanda Creek and the Welland River, formed part of the last section of the Erie Canal and Welland Canal.\n",
      "++++++++++++++++++++++++++++++++++++\n",
      "[{'drainage basin': 'Welland Canal'}]\n",
      "++++++++++++++++++++++++++++++++++++\n",
      "{'triplets': []}\n",
      "====================================\n",
      "{'model1': 'llama-2-7b.Q4_0.gguf', 'model2': 'llama-2-7b.Q4_0.gguf', 'sent': 'The Niagara River and its tributaries, Tonawanda Creek and the Welland River, formed part of the last section of the Erie Canal and Welland Canal.', 'triples': []}\n",
      "====================================\n"
     ]
    },
    {
     "name": "stderr",
     "output_type": "stream",
     "text": [
      "\n",
      "llama_print_timings:        load time =    4136.51 ms\n",
      "llama_print_timings:      sample time =      44.13 ms /   256 runs   (    0.17 ms per token,  5801.57 tokens per second)\n",
      "llama_print_timings: prompt eval time =     543.71 ms /    50 tokens (   10.87 ms per token,    91.96 tokens per second)\n",
      "llama_print_timings:        eval time =    8289.26 ms /   255 runs   (   32.51 ms per token,    30.76 tokens per second)\n",
      "llama_print_timings:       total time =    9279.63 ms /   305 tokens\n",
      " 21%|██        | 33/157 [05:29<19:03,  9.22s/it]Llama.generate: prefix-match hit\n"
     ]
    },
    {
     "name": "stdout",
     "output_type": "stream",
     "text": [
      "Helvellyn is the third-highest point both in England and in the Lake District, and access to Helvellyn is easier than to the two higher peaks of Scafell Pike and Sca Fell.\n",
      "++++++++++++++++++++++++++++++++++++\n",
      "[{'mountain': 'Helvellyn'}]\n",
      "++++++++++++++++++++++++++++++++++++\n",
      "{'triplets': []}\n",
      "====================================\n",
      "{'model1': 'llama-2-7b.Q4_0.gguf', 'model2': 'llama-2-7b.Q4_0.gguf', 'sent': 'Helvellyn is the third-highest point both in England and in the Lake District, and access to Helvellyn is easier than to the two higher peaks of Scafell Pike and Sca Fell.', 'triples': []}\n",
      "====================================\n"
     ]
    },
    {
     "name": "stderr",
     "output_type": "stream",
     "text": [
      "\n",
      "llama_print_timings:        load time =    4136.51 ms\n",
      "llama_print_timings:      sample time =      43.87 ms /   256 runs   (    0.17 ms per token,  5835.95 tokens per second)\n",
      "llama_print_timings: prompt eval time =     688.48 ms /    79 tokens (    8.71 ms per token,   114.75 tokens per second)\n",
      "llama_print_timings:        eval time =    8337.18 ms /   255 runs   (   32.69 ms per token,    30.59 tokens per second)\n",
      "llama_print_timings:       total time =    9470.24 ms /   334 tokens\n",
      " 22%|██▏       | 34/157 [05:38<19:03,  9.30s/it]Llama.generate: prefix-match hit\n"
     ]
    },
    {
     "name": "stdout",
     "output_type": "stream",
     "text": [
      "Rayna Knyaginya Peak (Bulgarian:   , romanized:Â vrah Rayna Knyaginya, IPA:Â [vrx rajn ki]) is a peak of elevation 680 m in western Bowles Ridge, Livingston Island in the South Shetland Islands, Antarctica.\n",
      "++++++++++++++++++++++++++++++++++++\n",
      "[{'mountain': 'Bowles Ridge'}]\n",
      "++++++++++++++++++++++++++++++++++++\n",
      "{'triplets': []}\n",
      "====================================\n",
      "{'model1': 'llama-2-7b.Q4_0.gguf', 'model2': 'llama-2-7b.Q4_0.gguf', 'sent': 'Rayna Knyaginya Peak (Bulgarian:   , romanized:Â\\xa0vrah Rayna Knyaginya, IPA:Â\\xa0[vrx rajn ki]) is a peak of elevation 680 m in western Bowles Ridge, Livingston Island in the South Shetland Islands, Antarctica.', 'triples': []}\n",
      "====================================\n"
     ]
    },
    {
     "name": "stderr",
     "output_type": "stream",
     "text": [
      "\n",
      "llama_print_timings:        load time =    4136.51 ms\n",
      "llama_print_timings:      sample time =      43.88 ms /   256 runs   (    0.17 ms per token,  5834.36 tokens per second)\n",
      "llama_print_timings: prompt eval time =     410.15 ms /    39 tokens (   10.52 ms per token,    95.09 tokens per second)\n",
      "llama_print_timings:        eval time =    8268.50 ms /   255 runs   (   32.43 ms per token,    30.84 tokens per second)\n",
      "llama_print_timings:       total time =    9119.61 ms /   294 tokens\n",
      " 22%|██▏       | 35/157 [05:47<18:48,  9.25s/it]Llama.generate: prefix-match hit\n"
     ]
    },
    {
     "name": "stdout",
     "output_type": "stream",
     "text": [
      "Kidsty Pike is a subsidiary top of Rampsgill Head, but has long achieved the status of a separate fell, thanks to its classic peaked profile.\n",
      "++++++++++++++++++++++++++++++++++++\n",
      "[{'mountain': 'Rampsgill Head'}]\n",
      "++++++++++++++++++++++++++++++++++++\n",
      "{'triplets': []}\n",
      "====================================\n",
      "{'model1': 'llama-2-7b.Q4_0.gguf', 'model2': 'llama-2-7b.Q4_0.gguf', 'sent': 'Kidsty Pike is a subsidiary top of Rampsgill Head, but has long achieved the status of a separate fell, thanks to its classic peaked profile.', 'triples': []}\n",
      "====================================\n"
     ]
    },
    {
     "name": "stderr",
     "output_type": "stream",
     "text": [
      "\n",
      "llama_print_timings:        load time =    4136.51 ms\n",
      "llama_print_timings:      sample time =      43.84 ms /   256 runs   (    0.17 ms per token,  5839.28 tokens per second)\n",
      "llama_print_timings: prompt eval time =     271.48 ms /    27 tokens (   10.05 ms per token,    99.46 tokens per second)\n",
      "llama_print_timings:        eval time =    8257.30 ms /   255 runs   (   32.38 ms per token,    30.88 tokens per second)\n",
      "llama_print_timings:       total time =    8969.32 ms /   282 tokens\n",
      " 23%|██▎       | 36/157 [05:56<18:28,  9.17s/it]Llama.generate: prefix-match hit\n"
     ]
    },
    {
     "name": "stdout",
     "output_type": "stream",
     "text": [
      "The Arctic tern (Sterna paradisaea) is a tern in the family Laridae.\n",
      "++++++++++++++++++++++++++++++++++++\n",
      "[{'taxon': 'Sterna paradisaea'}]\n",
      "++++++++++++++++++++++++++++++++++++\n",
      "{'triplets': []}\n",
      "====================================\n",
      "{'model1': 'llama-2-7b.Q4_0.gguf', 'model2': 'llama-2-7b.Q4_0.gguf', 'sent': 'The Arctic tern (Sterna paradisaea) is a tern in the family Laridae.', 'triples': []}\n",
      "====================================\n"
     ]
    },
    {
     "name": "stderr",
     "output_type": "stream",
     "text": [
      "\n",
      "llama_print_timings:        load time =    4136.51 ms\n",
      "llama_print_timings:      sample time =      43.75 ms /   256 runs   (    0.17 ms per token,  5851.83 tokens per second)\n",
      "llama_print_timings: prompt eval time =     686.03 ms /    71 tokens (    9.66 ms per token,   103.49 tokens per second)\n",
      "llama_print_timings:        eval time =    8317.73 ms /   255 runs   (   32.62 ms per token,    30.66 tokens per second)\n",
      "llama_print_timings:       total time =    9450.66 ms /   326 tokens\n",
      " 24%|██▎       | 37/157 [06:06<18:30,  9.25s/it]Llama.generate: prefix-match hit\n"
     ]
    },
    {
     "name": "stdout",
     "output_type": "stream",
     "text": [
      "The family Penaeaceae was expanded under the APG III system of classification with the inclusion of the genera Olinia (formerly in the monogeneric Oliniaceae) and the single species from the genus Rhynchocalyx (formerly in the monogeneric Rhynchocalycaceae).\n",
      "++++++++++++++++++++++++++++++++++++\n",
      "[{'taxon': 'Penaeaceae'}]\n",
      "++++++++++++++++++++++++++++++++++++\n",
      "{'triplets': []}\n",
      "====================================\n",
      "{'model1': 'llama-2-7b.Q4_0.gguf', 'model2': 'llama-2-7b.Q4_0.gguf', 'sent': 'The family Penaeaceae was expanded under the APG III system of classification with the inclusion of the genera Olinia (formerly in the monogeneric Oliniaceae) and the single species from the genus Rhynchocalyx (formerly in the monogeneric Rhynchocalycaceae).', 'triples': []}\n",
      "====================================\n"
     ]
    },
    {
     "name": "stderr",
     "output_type": "stream",
     "text": [
      "\n",
      "llama_print_timings:        load time =    4136.51 ms\n",
      "llama_print_timings:      sample time =      44.32 ms /   256 runs   (    0.17 ms per token,  5775.78 tokens per second)\n",
      "llama_print_timings: prompt eval time =     411.14 ms /    46 tokens (    8.94 ms per token,   111.89 tokens per second)\n",
      "llama_print_timings:        eval time =    8289.19 ms /   255 runs   (   32.51 ms per token,    30.76 tokens per second)\n",
      "llama_print_timings:       total time =    9144.80 ms /   301 tokens\n",
      " 24%|██▍       | 38/157 [06:15<18:17,  9.22s/it]Llama.generate: prefix-match hit\n"
     ]
    },
    {
     "name": "stdout",
     "output_type": "stream",
     "text": [
      "The Schneefernerkopf is a 2,875-metre-high (9,432Â ft) peak in the Zugspitze massif in the Alps.\n",
      "++++++++++++++++++++++++++++++++++++\n",
      "[{'mountain': 'Schneefernerkopf'}]\n",
      "++++++++++++++++++++++++++++++++++++\n",
      "{'triplets': []}\n",
      "====================================\n",
      "{'model1': 'llama-2-7b.Q4_0.gguf', 'model2': 'llama-2-7b.Q4_0.gguf', 'sent': 'The Schneefernerkopf is a 2,875-metre-high (9,432Â\\xa0ft) peak in the Zugspitze massif in the Alps.', 'triples': []}\n",
      "====================================\n"
     ]
    },
    {
     "name": "stderr",
     "output_type": "stream",
     "text": [
      "\n",
      "llama_print_timings:        load time =    4136.51 ms\n",
      "llama_print_timings:      sample time =      44.03 ms /   256 runs   (    0.17 ms per token,  5813.69 tokens per second)\n",
      "llama_print_timings: prompt eval time =     272.86 ms /    27 tokens (   10.11 ms per token,    98.95 tokens per second)\n",
      "llama_print_timings:        eval time =    8258.17 ms /   255 runs   (   32.38 ms per token,    30.88 tokens per second)\n",
      "llama_print_timings:       total time =    8970.87 ms /   282 tokens\n",
      " 25%|██▍       | 39/157 [06:24<17:59,  9.15s/it]Llama.generate: prefix-match hit\n"
     ]
    },
    {
     "name": "stdout",
     "output_type": "stream",
     "text": [
      "Il Madone is a mountain of the Lepontine Alps, located in the Swiss canton of Ticino.\n",
      "++++++++++++++++++++++++++++++++++++\n",
      "[{'mountain': 'Il Madone'}]\n",
      "++++++++++++++++++++++++++++++++++++\n",
      "{'triplets': []}\n",
      "====================================\n",
      "{'model1': 'llama-2-7b.Q4_0.gguf', 'model2': 'llama-2-7b.Q4_0.gguf', 'sent': 'Il Madone is a mountain of the Lepontine Alps, located in the Swiss canton of Ticino.', 'triples': []}\n",
      "====================================\n"
     ]
    },
    {
     "name": "stderr",
     "output_type": "stream",
     "text": [
      "\n",
      "llama_print_timings:        load time =    4136.51 ms\n",
      "llama_print_timings:      sample time =      44.52 ms /   256 runs   (    0.17 ms per token,  5750.10 tokens per second)\n",
      "llama_print_timings: prompt eval time =     408.15 ms /    35 tokens (   11.66 ms per token,    85.75 tokens per second)\n",
      "llama_print_timings:        eval time =    8274.87 ms /   255 runs   (   32.45 ms per token,    30.82 tokens per second)\n",
      "llama_print_timings:       total time =    9131.62 ms /   290 tokens\n",
      " 25%|██▌       | 40/157 [06:33<17:49,  9.14s/it]Llama.generate: prefix-match hit\n"
     ]
    },
    {
     "name": "stdout",
     "output_type": "stream",
     "text": [
      "Pizzo Pesciora lies north of Bedretto, on the ridge between the Witenwasserenstock and Pizzo Rotondo.\n",
      "++++++++++++++++++++++++++++++++++++\n",
      "[{'mountain': 'Witenwasserenstock'}]\n",
      "++++++++++++++++++++++++++++++++++++\n",
      "{'triplets': []}\n",
      "====================================\n",
      "{'model1': 'llama-2-7b.Q4_0.gguf', 'model2': 'llama-2-7b.Q4_0.gguf', 'sent': 'Pizzo Pesciora lies north of Bedretto, on the ridge between the Witenwasserenstock and Pizzo Rotondo.', 'triples': []}\n",
      "====================================\n"
     ]
    },
    {
     "name": "stderr",
     "output_type": "stream",
     "text": [
      "\n",
      "llama_print_timings:        load time =    4136.51 ms\n",
      "llama_print_timings:      sample time =      43.73 ms /   256 runs   (    0.17 ms per token,  5854.51 tokens per second)\n",
      "llama_print_timings: prompt eval time =     549.08 ms /    54 tokens (   10.17 ms per token,    98.35 tokens per second)\n",
      "llama_print_timings:        eval time =    8288.62 ms /   255 runs   (   32.50 ms per token,    30.77 tokens per second)\n",
      "llama_print_timings:       total time =    9280.71 ms /   309 tokens\n",
      " 26%|██▌       | 41/157 [06:42<17:45,  9.19s/it]Llama.generate: prefix-match hit\n"
     ]
    },
    {
     "name": "stdout",
     "output_type": "stream",
     "text": [
      "Silene undulata (Xhosa: iindlela zimhlophe-\"white ways/paths\", also known as Silene capensis, and African dream root) is a plant native to the Eastern Cape of South Africa.\n",
      "++++++++++++++++++++++++++++++++++++\n",
      "[{'taxon': 'Silene capensis'}]\n",
      "++++++++++++++++++++++++++++++++++++\n",
      "{'triplets': []}\n",
      "====================================\n",
      "{'model1': 'llama-2-7b.Q4_0.gguf', 'model2': 'llama-2-7b.Q4_0.gguf', 'sent': 'Silene undulata (Xhosa: iindlela zimhlophe-\"white ways/paths\", also known as Silene capensis, and African dream root) is a plant native to the Eastern Cape of South Africa.', 'triples': []}\n",
      "====================================\n"
     ]
    },
    {
     "name": "stderr",
     "output_type": "stream",
     "text": [
      "\n",
      "llama_print_timings:        load time =    4136.51 ms\n",
      "llama_print_timings:      sample time =      44.07 ms /   256 runs   (    0.17 ms per token,  5808.68 tokens per second)\n",
      "llama_print_timings: prompt eval time =     136.81 ms /    16 tokens (    8.55 ms per token,   116.95 tokens per second)\n",
      "llama_print_timings:        eval time =    8268.57 ms /   256 runs   (   32.30 ms per token,    30.96 tokens per second)\n",
      "llama_print_timings:       total time =    8846.53 ms /   272 tokens\n",
      " 27%|██▋       | 42/157 [06:51<17:24,  9.09s/it]Llama.generate: prefix-match hit\n"
     ]
    },
    {
     "name": "stdout",
     "output_type": "stream",
     "text": [
      "Presumpscot River is the main outlet of Sebago Lake.\n",
      "++++++++++++++++++++++++++++++++++++\n",
      "[{'watercourse': 'Presumpscot River'}]\n",
      "++++++++++++++++++++++++++++++++++++\n",
      "{'triplets': []}\n",
      "====================================\n",
      "{'model1': 'llama-2-7b.Q4_0.gguf', 'model2': 'llama-2-7b.Q4_0.gguf', 'sent': 'Presumpscot River is the main outlet of Sebago Lake.', 'triples': []}\n",
      "====================================\n"
     ]
    },
    {
     "name": "stderr",
     "output_type": "stream",
     "text": [
      "\n",
      "llama_print_timings:        load time =    4136.51 ms\n",
      "llama_print_timings:      sample time =      43.57 ms /   256 runs   (    0.17 ms per token,  5875.20 tokens per second)\n",
      "llama_print_timings: prompt eval time =     274.62 ms /    29 tokens (    9.47 ms per token,   105.60 tokens per second)\n",
      "llama_print_timings:        eval time =    8276.34 ms /   255 runs   (   32.46 ms per token,    30.81 tokens per second)\n",
      "llama_print_timings:       total time =    8989.12 ms /   284 tokens\n",
      " 27%|██▋       | 43/157 [07:00<17:12,  9.06s/it]Llama.generate: prefix-match hit\n"
     ]
    },
    {
     "name": "stdout",
     "output_type": "stream",
     "text": [
      "Wagenfelder Aue is a river of Lower Saxony, Germany, a right tributary of the Hunte.\n",
      "++++++++++++++++++++++++++++++++++++\n",
      "[{'watercourse': 'Wagenfelder Aue'}]\n",
      "++++++++++++++++++++++++++++++++++++\n",
      "{'triplets': []}\n",
      "====================================\n",
      "{'model1': 'llama-2-7b.Q4_0.gguf', 'model2': 'llama-2-7b.Q4_0.gguf', 'sent': 'Wagenfelder Aue is a river of Lower Saxony, Germany, a right tributary of the Hunte.', 'triples': []}\n",
      "====================================\n"
     ]
    },
    {
     "name": "stderr",
     "output_type": "stream",
     "text": [
      "\n",
      "llama_print_timings:        load time =    4136.51 ms\n",
      "llama_print_timings:      sample time =      43.59 ms /   256 runs   (    0.17 ms per token,  5873.31 tokens per second)\n",
      "llama_print_timings: prompt eval time =     961.00 ms /   104 tokens (    9.24 ms per token,   108.22 tokens per second)\n",
      "llama_print_timings:        eval time =    8362.34 ms /   255 runs   (   32.79 ms per token,    30.49 tokens per second)\n",
      "llama_print_timings:       total time =    9770.00 ms /   359 tokens\n",
      " 28%|██▊       | 44/157 [07:10<17:27,  9.27s/it]Llama.generate: prefix-match hit\n"
     ]
    },
    {
     "name": "stdout",
     "output_type": "stream",
     "text": [
      "Pilosella caespitosa (synonym Hieracium caespitosum, commonly known as meadow hawkweed, yellow hawkweed,field hawkweed, king devil, yellow paintbrush, devil's paintbrush, yellow devil, yellow fox-and-cubs, and yellow king-devil) is like several other Pilosella species and has a similar appearance to many of the hawkweeds.\n",
      "++++++++++++++++++++++++++++++++++++\n",
      "[{'synonym': 'Hieracium caespitosum'}]\n",
      "++++++++++++++++++++++++++++++++++++\n",
      "{'triplets': []}\n",
      "====================================\n",
      "{'model1': 'llama-2-7b.Q4_0.gguf', 'model2': 'llama-2-7b.Q4_0.gguf', 'sent': \"Pilosella caespitosa (synonym Hieracium caespitosum, commonly known as meadow hawkweed, yellow hawkweed,field hawkweed, king devil, yellow paintbrush, devil's paintbrush, yellow devil, yellow fox-and-cubs, and yellow king-devil) is like several other Pilosella species and has a similar appearance to many of the hawkweeds.\", 'triples': []}\n",
      "====================================\n"
     ]
    },
    {
     "name": "stderr",
     "output_type": "stream",
     "text": [
      "\n",
      "llama_print_timings:        load time =    4136.51 ms\n",
      "llama_print_timings:      sample time =      43.86 ms /   256 runs   (    0.17 ms per token,  5837.15 tokens per second)\n",
      "llama_print_timings: prompt eval time =     543.25 ms /    50 tokens (   10.86 ms per token,    92.04 tokens per second)\n",
      "llama_print_timings:        eval time =    8286.88 ms /   255 runs   (   32.50 ms per token,    30.77 tokens per second)\n",
      "llama_print_timings:       total time =    9271.72 ms /   305 tokens\n",
      " 29%|██▊       | 45/157 [07:19<17:18,  9.27s/it]Llama.generate: prefix-match hit\n"
     ]
    },
    {
     "name": "stdout",
     "output_type": "stream",
     "text": [
      "The race was won by Polish rider Katarzyna Niewiadoma, riding for the WM3 Pro Cycling team, who as a result, took the lead of the overall Women's World Tour standings.\n",
      "++++++++++++++++++++++++++++++++++++\n",
      "[{'cycling race': \"Women's World Tour\"}]\n",
      "++++++++++++++++++++++++++++++++++++\n",
      "{'triplets': []}\n",
      "====================================\n",
      "{'model1': 'llama-2-7b.Q4_0.gguf', 'model2': 'llama-2-7b.Q4_0.gguf', 'sent': \"The race was won by Polish rider Katarzyna Niewiadoma, riding for the WM3 Pro Cycling team, who as a result, took the lead of the overall Women's World Tour standings.\", 'triples': []}\n",
      "====================================\n"
     ]
    },
    {
     "name": "stderr",
     "output_type": "stream",
     "text": [
      "\n",
      "llama_print_timings:        load time =    4136.51 ms\n",
      "llama_print_timings:      sample time =      44.11 ms /   256 runs   (    0.17 ms per token,  5803.67 tokens per second)\n",
      "llama_print_timings: prompt eval time =     268.64 ms /    18 tokens (   14.92 ms per token,    67.00 tokens per second)\n",
      "llama_print_timings:        eval time =    8251.32 ms /   255 runs   (   32.36 ms per token,    30.90 tokens per second)\n",
      "llama_print_timings:       total time =    8963.77 ms /   273 tokens\n",
      " 29%|██▉       | 46/157 [07:28<16:59,  9.18s/it]Llama.generate: prefix-match hit\n"
     ]
    },
    {
     "name": "stdout",
     "output_type": "stream",
     "text": [
      "Some authors still use the name Hexatominae for this subfamily.\n",
      "++++++++++++++++++++++++++++++++++++\n",
      "[{'synonym': 'Hexatominae'}]\n",
      "++++++++++++++++++++++++++++++++++++\n",
      "{'triplets': []}\n",
      "====================================\n",
      "{'model1': 'llama-2-7b.Q4_0.gguf', 'model2': 'llama-2-7b.Q4_0.gguf', 'sent': 'Some authors still use the name Hexatominae for this subfamily.', 'triples': []}\n",
      "====================================\n"
     ]
    },
    {
     "name": "stderr",
     "output_type": "stream",
     "text": [
      "\n",
      "llama_print_timings:        load time =    4136.51 ms\n",
      "llama_print_timings:      sample time =      44.06 ms /   256 runs   (    0.17 ms per token,  5810.65 tokens per second)\n",
      "llama_print_timings: prompt eval time =     685.29 ms /    76 tokens (    9.02 ms per token,   110.90 tokens per second)\n",
      "llama_print_timings:        eval time =    8332.07 ms /   255 runs   (   32.67 ms per token,    30.60 tokens per second)\n",
      "llama_print_timings:       total time =    9465.89 ms /   331 tokens\n",
      " 30%|██▉       | 47/157 [07:38<16:59,  9.27s/it]Llama.generate: prefix-match hit\n"
     ]
    },
    {
     "name": "stdout",
     "output_type": "stream",
     "text": [
      "The dam forms Abiquiu Lake, one of the largest lakes in New Mexico with a full storage capacity of 1,369,000 acre feet (1,689,000Â damÂ³) and 5,200 acres (2,100Â ha) of water.\n",
      "++++++++++++++++++++++++++++++++++++\n",
      "[{'reservoir': 'Abiquiu Lake'}]\n",
      "++++++++++++++++++++++++++++++++++++\n",
      "{'triplets': []}\n",
      "====================================\n",
      "{'model1': 'llama-2-7b.Q4_0.gguf', 'model2': 'llama-2-7b.Q4_0.gguf', 'sent': 'The dam forms Abiquiu Lake, one of the largest lakes in New Mexico with a full storage capacity of 1,369,000 acre feet (1,689,000Â\\xa0damÂ³) and 5,200 acres (2,100Â\\xa0ha) of water.', 'triples': []}\n",
      "====================================\n"
     ]
    },
    {
     "name": "stderr",
     "output_type": "stream",
     "text": [
      "\n",
      "llama_print_timings:        load time =    4136.51 ms\n",
      "llama_print_timings:      sample time =      44.10 ms /   256 runs   (    0.17 ms per token,  5805.38 tokens per second)\n",
      "llama_print_timings: prompt eval time =     411.23 ms /    43 tokens (    9.56 ms per token,   104.56 tokens per second)\n",
      "llama_print_timings:        eval time =    8293.09 ms /   255 runs   (   32.52 ms per token,    30.75 tokens per second)\n",
      "llama_print_timings:       total time =    9152.99 ms /   298 tokens\n",
      " 31%|███       | 48/157 [07:47<16:46,  9.24s/it]Llama.generate: prefix-match hit\n"
     ]
    },
    {
     "name": "stdout",
     "output_type": "stream",
     "text": [
      "The reservoir, Navajo Lake, is a popular recreation area and one of the largest bodies of water in New Mexico, with Navajo Dam's upper portion extending into Colorado.\n",
      "++++++++++++++++++++++++++++++++++++\n",
      "[{'reservoir': 'Navajo Lake'}]\n",
      "++++++++++++++++++++++++++++++++++++\n",
      "{'triplets': []}\n",
      "====================================\n",
      "{'model1': 'llama-2-7b.Q4_0.gguf', 'model2': 'llama-2-7b.Q4_0.gguf', 'sent': \"The reservoir, Navajo Lake, is a popular recreation area and one of the largest bodies of water in New Mexico, with Navajo Dam's upper portion extending into Colorado.\", 'triples': []}\n",
      "====================================\n"
     ]
    },
    {
     "name": "stderr",
     "output_type": "stream",
     "text": [
      "\n",
      "llama_print_timings:        load time =    4136.51 ms\n",
      "llama_print_timings:      sample time =      43.65 ms /   256 runs   (    0.17 ms per token,  5865.24 tokens per second)\n",
      "llama_print_timings: prompt eval time =     547.83 ms /    63 tokens (    8.70 ms per token,   115.00 tokens per second)\n",
      "llama_print_timings:        eval time =    8310.02 ms /   255 runs   (   32.59 ms per token,    30.69 tokens per second)\n",
      "llama_print_timings:       total time =    9300.35 ms /   318 tokens\n",
      " 31%|███       | 49/157 [07:56<16:39,  9.26s/it]Llama.generate: prefix-match hit\n"
     ]
    },
    {
     "name": "stdout",
     "output_type": "stream",
     "text": [
      "Kahiltna Dome is a 12,411-foot (3,783Â m) mountain in the central Alaska Range, in Denali National Park, 7.3Â mi (12Â km) west of Denali.\n",
      "++++++++++++++++++++++++++++++++++++\n",
      "[{'mountain': 'Kahiltna Dome'}]\n",
      "++++++++++++++++++++++++++++++++++++\n",
      "{'triplets': []}\n",
      "====================================\n",
      "{'model1': 'llama-2-7b.Q4_0.gguf', 'model2': 'llama-2-7b.Q4_0.gguf', 'sent': 'Kahiltna Dome is a 12,411-foot (3,783Â\\xa0m) mountain in the central Alaska Range, in Denali National Park, 7.3Â\\xa0mi (12Â\\xa0km) west of Denali.', 'triples': []}\n",
      "====================================\n"
     ]
    },
    {
     "name": "stderr",
     "output_type": "stream",
     "text": [
      "\n",
      "llama_print_timings:        load time =    4136.51 ms\n",
      "llama_print_timings:      sample time =      43.62 ms /   256 runs   (    0.17 ms per token,  5869.54 tokens per second)\n",
      "llama_print_timings: prompt eval time =     545.00 ms /    58 tokens (    9.40 ms per token,   106.42 tokens per second)\n",
      "llama_print_timings:        eval time =    8297.80 ms /   255 runs   (   32.54 ms per token,    30.73 tokens per second)\n",
      "llama_print_timings:       total time =    9283.66 ms /   313 tokens\n",
      " 32%|███▏      | 50/157 [08:05<16:31,  9.27s/it]Llama.generate: prefix-match hit\n"
     ]
    },
    {
     "name": "stdout",
     "output_type": "stream",
     "text": [
      "The dam impounds the 10,230-acre (4,140Â ha) Fontana Lake, which spreads across a scenic stretch of the Little Tennessee along the southwestern boundary of the Great Smoky Mountains National Park.\n",
      "++++++++++++++++++++++++++++++++++++\n",
      "[{'reservoir': 'Fontana Lake'}]\n",
      "++++++++++++++++++++++++++++++++++++\n",
      "{'triplets': []}\n",
      "====================================\n",
      "{'model1': 'llama-2-7b.Q4_0.gguf', 'model2': 'llama-2-7b.Q4_0.gguf', 'sent': 'The dam impounds the 10,230-acre (4,140Â\\xa0ha) Fontana Lake, which spreads across a scenic stretch of the Little Tennessee along the southwestern boundary of the Great Smoky Mountains National Park.', 'triples': []}\n",
      "====================================\n"
     ]
    },
    {
     "name": "stderr",
     "output_type": "stream",
     "text": [
      "\n",
      "llama_print_timings:        load time =    4136.51 ms\n",
      "llama_print_timings:      sample time =      43.93 ms /   256 runs   (    0.17 ms per token,  5827.45 tokens per second)\n",
      "llama_print_timings: prompt eval time =     272.01 ms /    32 tokens (    8.50 ms per token,   117.64 tokens per second)\n",
      "llama_print_timings:        eval time =    8263.25 ms /   255 runs   (   32.40 ms per token,    30.86 tokens per second)\n",
      "llama_print_timings:       total time =    8976.26 ms /   287 tokens\n",
      " 32%|███▏      | 51/157 [08:14<16:13,  9.18s/it]Llama.generate: prefix-match hit\n"
     ]
    },
    {
     "name": "stdout",
     "output_type": "stream",
     "text": [
      "Fusilier Peak's line parent is Constable Peak, 2 kilometres (1.2Â mi) away.\n",
      "++++++++++++++++++++++++++++++++++++\n",
      "[{'mountain range': 'Constable Range'}]\n",
      "++++++++++++++++++++++++++++++++++++\n",
      "{'triplets': []}\n",
      "====================================\n",
      "{'model1': 'llama-2-7b.Q4_0.gguf', 'model2': 'llama-2-7b.Q4_0.gguf', 'sent': \"Fusilier Peak's line parent is Constable Peak, 2 kilometres (1.2Â\\xa0mi) away.\", 'triples': []}\n",
      "====================================\n"
     ]
    },
    {
     "name": "stderr",
     "output_type": "stream",
     "text": [
      "\n",
      "llama_print_timings:        load time =    4136.51 ms\n",
      "llama_print_timings:      sample time =      44.70 ms /   256 runs   (    0.17 ms per token,  5726.94 tokens per second)\n",
      "llama_print_timings: prompt eval time =     136.11 ms /    14 tokens (    9.72 ms per token,   102.86 tokens per second)\n",
      "llama_print_timings:        eval time =    8236.98 ms /   255 runs   (   32.30 ms per token,    30.96 tokens per second)\n",
      "llama_print_timings:       total time =    8817.59 ms /   269 tokens\n",
      " 33%|███▎      | 52/157 [08:23<15:52,  9.07s/it]Llama.generate: prefix-match hit\n"
     ]
    },
    {
     "name": "stdout",
     "output_type": "stream",
     "text": [
      "Schwanberg is part of the Steigerwald.\n",
      "++++++++++++++++++++++++++++++++++++\n",
      "[{'mountain range': 'Steigerwald'}]\n",
      "++++++++++++++++++++++++++++++++++++\n",
      "{'triplets': []}\n",
      "====================================\n",
      "{'model1': 'llama-2-7b.Q4_0.gguf', 'model2': 'llama-2-7b.Q4_0.gguf', 'sent': 'Schwanberg is part of the Steigerwald.', 'triples': []}\n",
      "====================================\n"
     ]
    },
    {
     "name": "stderr",
     "output_type": "stream",
     "text": [
      "\n",
      "llama_print_timings:        load time =    4136.51 ms\n",
      "llama_print_timings:      sample time =      43.93 ms /   256 runs   (    0.17 ms per token,  5828.12 tokens per second)\n",
      "llama_print_timings: prompt eval time =     684.99 ms /    75 tokens (    9.13 ms per token,   109.49 tokens per second)\n",
      "llama_print_timings:        eval time =    8329.20 ms /   255 runs   (   32.66 ms per token,    30.62 tokens per second)\n",
      "llama_print_timings:       total time =    9462.04 ms /   330 tokens\n",
      " 34%|███▍      | 53/157 [08:33<15:55,  9.19s/it]Llama.generate: prefix-match hit\n"
     ]
    },
    {
     "name": "stdout",
     "output_type": "stream",
     "text": [
      "Mount Moriya (Bulgarian:  , romanized:Â vrah Moriya, IPA:Â [vrx morij]) is the rounded, ice-covered peak rising to 1700 m in Lovech Heights on NordenskjÃ¶ld Coast in Graham Land, Antarctica.\n",
      "++++++++++++++++++++++++++++++++++++\n",
      "[{'mountain': 'Lovech Heights'}]\n",
      "++++++++++++++++++++++++++++++++++++\n",
      "{'triplets': []}\n",
      "====================================\n",
      "{'model1': 'llama-2-7b.Q4_0.gguf', 'model2': 'llama-2-7b.Q4_0.gguf', 'sent': 'Mount Moriya (Bulgarian:  , romanized:Â\\xa0vrah Moriya, IPA:Â\\xa0[vrx morij]) is the rounded, ice-covered peak rising to 1700 m in Lovech Heights on NordenskjÃ¶ld Coast in Graham Land, Antarctica.', 'triples': []}\n",
      "====================================\n"
     ]
    },
    {
     "name": "stderr",
     "output_type": "stream",
     "text": [
      "\n",
      "llama_print_timings:        load time =    4136.51 ms\n",
      "llama_print_timings:      sample time =      43.61 ms /   256 runs   (    0.17 ms per token,  5870.08 tokens per second)\n",
      "llama_print_timings: prompt eval time =     272.81 ms /    23 tokens (   11.86 ms per token,    84.31 tokens per second)\n",
      "llama_print_timings:        eval time =    8255.80 ms /   255 runs   (   32.38 ms per token,    30.89 tokens per second)\n",
      "llama_print_timings:       total time =    8968.80 ms /   278 tokens\n",
      " 34%|███▍      | 54/157 [08:42<15:40,  9.13s/it]Llama.generate: prefix-match hit\n"
     ]
    },
    {
     "name": "stdout",
     "output_type": "stream",
     "text": [
      "In the centre of Kreuztal Littfe flows into the river Ferndorfbach.\n",
      "++++++++++++++++++++++++++++++++++++\n",
      "[{'watercourse': 'Ferndorfbach'}]\n",
      "++++++++++++++++++++++++++++++++++++\n",
      "{'triplets': []}\n",
      "====================================\n",
      "{'model1': 'llama-2-7b.Q4_0.gguf', 'model2': 'llama-2-7b.Q4_0.gguf', 'sent': 'In the centre of Kreuztal Littfe flows into the river Ferndorfbach.', 'triples': []}\n",
      "====================================\n"
     ]
    },
    {
     "name": "stderr",
     "output_type": "stream",
     "text": [
      "\n",
      "llama_print_timings:        load time =    4136.51 ms\n",
      "llama_print_timings:      sample time =      44.07 ms /   256 runs   (    0.17 ms per token,  5808.94 tokens per second)\n",
      "llama_print_timings: prompt eval time =     271.10 ms /    25 tokens (   10.84 ms per token,    92.22 tokens per second)\n",
      "llama_print_timings:        eval time =    8254.31 ms /   255 runs   (   32.37 ms per token,    30.89 tokens per second)\n",
      "llama_print_timings:       total time =    8969.08 ms /   280 tokens\n",
      " 35%|███▌      | 55/157 [08:51<15:26,  9.08s/it]Llama.generate: prefix-match hit\n"
     ]
    },
    {
     "name": "stdout",
     "output_type": "stream",
     "text": [
      "Tributaries are Ramme, Aue, Twiste, Bade, Bever and Mehe.\n",
      "++++++++++++++++++++++++++++++++++++\n",
      "[{'watercourse': 'Ramme'}]\n",
      "++++++++++++++++++++++++++++++++++++\n",
      "{'triplets': []}\n",
      "====================================\n",
      "{'model1': 'llama-2-7b.Q4_0.gguf', 'model2': 'llama-2-7b.Q4_0.gguf', 'sent': 'Tributaries are Ramme, Aue, Twiste, Bade, Bever and Mehe.', 'triples': []}\n",
      "====================================\n"
     ]
    },
    {
     "name": "stderr",
     "output_type": "stream",
     "text": [
      "\n",
      "llama_print_timings:        load time =    4136.51 ms\n",
      "llama_print_timings:      sample time =      44.32 ms /   256 runs   (    0.17 ms per token,  5776.04 tokens per second)\n",
      "llama_print_timings: prompt eval time =     406.97 ms /    35 tokens (   11.63 ms per token,    86.00 tokens per second)\n",
      "llama_print_timings:        eval time =    8271.50 ms /   255 runs   (   32.44 ms per token,    30.83 tokens per second)\n",
      "llama_print_timings:       total time =    9124.36 ms /   290 tokens\n",
      " 36%|███▌      | 56/157 [09:00<15:18,  9.10s/it]Llama.generate: prefix-match hit\n"
     ]
    },
    {
     "name": "stdout",
     "output_type": "stream",
     "text": [
      "Chenopodium foliosum) is a species of flowering plant in the amaranth family known by the common name leafy goosefoot.\n",
      "++++++++++++++++++++++++++++++++++++\n",
      "[{'taxon': 'Chenopodium foliosum'}]\n",
      "++++++++++++++++++++++++++++++++++++\n",
      "{'triplets': []}\n",
      "====================================\n",
      "{'model1': 'llama-2-7b.Q4_0.gguf', 'model2': 'llama-2-7b.Q4_0.gguf', 'sent': 'Chenopodium foliosum) is a species of flowering plant in the amaranth family known by the common name leafy goosefoot.', 'triples': []}\n",
      "====================================\n"
     ]
    },
    {
     "name": "stderr",
     "output_type": "stream",
     "text": [
      "\n",
      "llama_print_timings:        load time =    4136.51 ms\n",
      "llama_print_timings:      sample time =      44.24 ms /   256 runs   (    0.17 ms per token,  5786.23 tokens per second)\n",
      "llama_print_timings: prompt eval time =     274.00 ms /    28 tokens (    9.79 ms per token,   102.19 tokens per second)\n",
      "llama_print_timings:        eval time =    8253.52 ms /   255 runs   (   32.37 ms per token,    30.90 tokens per second)\n",
      "llama_print_timings:       total time =    8970.73 ms /   283 tokens\n",
      " 36%|███▋      | 57/157 [09:09<15:05,  9.06s/it]Llama.generate: prefix-match hit\n"
     ]
    },
    {
     "name": "stdout",
     "output_type": "stream",
     "text": [
      "Longhorn Dam is a dam crossing the Colorado River in Austin, Texas, United States, where it creates Lady Bird Lake.\n",
      "++++++++++++++++++++++++++++++++++++\n",
      "[{'dam': 'Longhorn Dam'}]\n",
      "++++++++++++++++++++++++++++++++++++\n",
      "{'triplets': []}\n",
      "====================================\n",
      "{'model1': 'llama-2-7b.Q4_0.gguf', 'model2': 'llama-2-7b.Q4_0.gguf', 'sent': 'Longhorn Dam is a dam crossing the Colorado River in Austin, Texas, United States, where it creates Lady Bird Lake.', 'triples': []}\n",
      "====================================\n"
     ]
    },
    {
     "name": "stderr",
     "output_type": "stream",
     "text": [
      "\n",
      "llama_print_timings:        load time =    4136.51 ms\n",
      "llama_print_timings:      sample time =      44.23 ms /   256 runs   (    0.17 ms per token,  5788.19 tokens per second)\n",
      "llama_print_timings: prompt eval time =     410.58 ms /    43 tokens (    9.55 ms per token,   104.73 tokens per second)\n",
      "llama_print_timings:        eval time =    8277.37 ms /   255 runs   (   32.46 ms per token,    30.81 tokens per second)\n",
      "llama_print_timings:       total time =    9130.88 ms /   298 tokens\n",
      " 37%|███▋      | 58/157 [09:18<14:59,  9.08s/it]Llama.generate: prefix-match hit\n"
     ]
    },
    {
     "name": "stdout",
     "output_type": "stream",
     "text": [
      "At 674.9 metres (2,214Â ft) the Hochkelberg is one of the ten highest mountains in the Vulkan Eifel in Germany.\n",
      "++++++++++++++++++++++++++++++++++++\n",
      "[{'mountain': 'Hochkelberg'}]\n",
      "++++++++++++++++++++++++++++++++++++\n",
      "{'triplets': []}\n",
      "====================================\n",
      "{'model1': 'llama-2-7b.Q4_0.gguf', 'model2': 'llama-2-7b.Q4_0.gguf', 'sent': 'At 674.9 metres (2,214Â\\xa0ft) the Hochkelberg is one of the ten highest mountains in the Vulkan Eifel in Germany.', 'triples': []}\n",
      "====================================\n"
     ]
    },
    {
     "name": "stderr",
     "output_type": "stream",
     "text": [
      "\n",
      "llama_print_timings:        load time =    4136.51 ms\n",
      "llama_print_timings:      sample time =      43.51 ms /   256 runs   (    0.17 ms per token,  5884.25 tokens per second)\n",
      "llama_print_timings: prompt eval time =     543.51 ms /    51 tokens (   10.66 ms per token,    93.83 tokens per second)\n",
      "llama_print_timings:        eval time =    8289.43 ms /   255 runs   (   32.51 ms per token,    30.76 tokens per second)\n",
      "llama_print_timings:       total time =    9273.62 ms /   306 tokens\n",
      " 38%|███▊      | 59/157 [09:27<14:55,  9.14s/it]Llama.generate: prefix-match hit\n"
     ]
    },
    {
     "name": "stdout",
     "output_type": "stream",
     "text": [
      "Zagyva flows through the towns of BÃ¡tonyterenye, PÃ¡sztÃ³, Hatvan and JÃ¡szberÃ©ny and flows into the Tisza at Szolnok.\n",
      "++++++++++++++++++++++++++++++++++++\n",
      "[{'watercourse': 'Zagyva'}]\n",
      "++++++++++++++++++++++++++++++++++++\n",
      "{'triplets': []}\n",
      "====================================\n",
      "{'model1': 'llama-2-7b.Q4_0.gguf', 'model2': 'llama-2-7b.Q4_0.gguf', 'sent': 'Zagyva flows through the towns of BÃ¡tonyterenye, PÃ¡sztÃ³, Hatvan and JÃ¡szberÃ©ny and flows into the Tisza at Szolnok.', 'triples': []}\n",
      "====================================\n"
     ]
    },
    {
     "name": "stderr",
     "output_type": "stream",
     "text": [
      "\n",
      "llama_print_timings:        load time =    4136.51 ms\n",
      "llama_print_timings:      sample time =      44.35 ms /   256 runs   (    0.17 ms per token,  5772.14 tokens per second)\n",
      "llama_print_timings: prompt eval time =     684.02 ms /    73 tokens (    9.37 ms per token,   106.72 tokens per second)\n",
      "llama_print_timings:        eval time =    8325.67 ms /   255 runs   (   32.65 ms per token,    30.63 tokens per second)\n",
      "llama_print_timings:       total time =    9461.56 ms /   328 tokens\n",
      " 38%|███▊      | 60/157 [09:37<14:56,  9.24s/it]Llama.generate: prefix-match hit\n"
     ]
    },
    {
     "name": "stdout",
     "output_type": "stream",
     "text": [
      "The second branch is formed by two main tributaries known as Kargyag river, with Zanskar River's source near the Shingo La 5,091Â m (16,703Â ft), and Tsarap river, with its source near the Baralacha-La.\n",
      "++++++++++++++++++++++++++++++++++++\n",
      "[{'drainage basin': 'Zanskar River'}]\n",
      "++++++++++++++++++++++++++++++++++++\n",
      "{'triplets': []}\n",
      "====================================\n",
      "{'model1': 'llama-2-7b.Q4_0.gguf', 'model2': 'llama-2-7b.Q4_0.gguf', 'sent': \"The second branch is formed by two main tributaries known as Kargyag river, with Zanskar River's source near the Shingo La 5,091Â\\xa0m (16,703Â\\xa0ft), and Tsarap river, with its source near the Baralacha-La.\", 'triples': []}\n",
      "====================================\n"
     ]
    },
    {
     "name": "stderr",
     "output_type": "stream",
     "text": [
      "\n",
      "llama_print_timings:        load time =    4136.51 ms\n",
      "llama_print_timings:      sample time =      43.93 ms /   256 runs   (    0.17 ms per token,  5826.92 tokens per second)\n",
      "llama_print_timings: prompt eval time =     410.76 ms /    48 tokens (    8.56 ms per token,   116.86 tokens per second)\n",
      "llama_print_timings:        eval time =    8289.94 ms /   255 runs   (   32.51 ms per token,    30.76 tokens per second)\n",
      "llama_print_timings:       total time =    9146.79 ms /   303 tokens\n",
      " 39%|███▉      | 61/157 [09:46<14:44,  9.21s/it]Llama.generate: prefix-match hit\n"
     ]
    },
    {
     "name": "stdout",
     "output_type": "stream",
     "text": [
      "\"White Nile\" may sometimes include the headwaters of Lake Victoria, the most remote of which being 2,300 miles (3,700Â km) from the Blue Nile.\n",
      "++++++++++++++++++++++++++++++++++++\n",
      "[{'drainage basin': 'White Nile'}]\n",
      "++++++++++++++++++++++++++++++++++++\n",
      "{'triplets': []}\n",
      "====================================\n",
      "{'model1': 'llama-2-7b.Q4_0.gguf', 'model2': 'llama-2-7b.Q4_0.gguf', 'sent': '\"White Nile\" may sometimes include the headwaters of Lake Victoria, the most remote of which being 2,300 miles (3,700Â\\xa0km) from the Blue Nile.', 'triples': []}\n",
      "====================================\n"
     ]
    },
    {
     "name": "stderr",
     "output_type": "stream",
     "text": [
      "\n",
      "llama_print_timings:        load time =    4136.51 ms\n",
      "llama_print_timings:      sample time =      44.00 ms /   256 runs   (    0.17 ms per token,  5818.31 tokens per second)\n",
      "llama_print_timings: prompt eval time =     410.09 ms /    48 tokens (    8.54 ms per token,   117.05 tokens per second)\n",
      "llama_print_timings:        eval time =    8316.29 ms /   256 runs   (   32.49 ms per token,    30.78 tokens per second)\n",
      "llama_print_timings:       total time =    9172.16 ms /   304 tokens\n",
      " 39%|███▉      | 62/157 [09:55<14:34,  9.20s/it]Llama.generate: prefix-match hit\n"
     ]
    },
    {
     "name": "stdout",
     "output_type": "stream",
     "text": [
      "Malva acerifolia, also frequently known under the synonyms Lavatera acerifolia or Malva canariensis is a shrub endemic to the Canary Islands, belonging to the family Malvaceae.\n",
      "++++++++++++++++++++++++++++++++++++\n",
      "[{'synonym': 'Malva canariensis'}]\n",
      "++++++++++++++++++++++++++++++++++++\n",
      "{'triplets': []}\n",
      "====================================\n",
      "{'model1': 'llama-2-7b.Q4_0.gguf', 'model2': 'llama-2-7b.Q4_0.gguf', 'sent': 'Malva acerifolia, also frequently known under the synonyms Lavatera acerifolia or Malva canariensis is a shrub endemic to the Canary Islands, belonging to the family Malvaceae.', 'triples': []}\n",
      "====================================\n"
     ]
    },
    {
     "name": "stderr",
     "output_type": "stream",
     "text": [
      "\n",
      "llama_print_timings:        load time =    4136.51 ms\n",
      "llama_print_timings:      sample time =      44.17 ms /   256 runs   (    0.17 ms per token,  5795.79 tokens per second)\n",
      "llama_print_timings: prompt eval time =     409.34 ms /    39 tokens (   10.50 ms per token,    95.28 tokens per second)\n",
      "llama_print_timings:        eval time =    8273.28 ms /   255 runs   (   32.44 ms per token,    30.82 tokens per second)\n",
      "llama_print_timings:       total time =    9127.75 ms /   294 tokens\n",
      " 40%|████      | 63/157 [10:04<14:23,  9.18s/it]Llama.generate: prefix-match hit\n"
     ]
    },
    {
     "name": "stdout",
     "output_type": "stream",
     "text": [
      "Urubamba River flows north-north-west for 724 kilometers before coalescing with the Tambo River to form the Ucayali River.\n",
      "++++++++++++++++++++++++++++++++++++\n",
      "[{'drainage basin': 'Ucayali River'}]\n",
      "++++++++++++++++++++++++++++++++++++\n",
      "{'triplets': []}\n",
      "====================================\n",
      "{'model1': 'llama-2-7b.Q4_0.gguf', 'model2': 'llama-2-7b.Q4_0.gguf', 'sent': 'Urubamba River flows north-north-west for 724 kilometers before coalescing with the Tambo River to form the Ucayali River.', 'triples': []}\n",
      "====================================\n"
     ]
    },
    {
     "name": "stderr",
     "output_type": "stream",
     "text": [
      "\n",
      "llama_print_timings:        load time =    4136.51 ms\n",
      "llama_print_timings:      sample time =      43.55 ms /   256 runs   (    0.17 ms per token,  5878.17 tokens per second)\n",
      "llama_print_timings: prompt eval time =     408.34 ms /    42 tokens (    9.72 ms per token,   102.85 tokens per second)\n",
      "llama_print_timings:        eval time =    8278.47 ms /   255 runs   (   32.46 ms per token,    30.80 tokens per second)\n",
      "llama_print_timings:       total time =    9128.96 ms /   297 tokens\n",
      " 41%|████      | 64/157 [10:13<14:12,  9.17s/it]Llama.generate: prefix-match hit\n"
     ]
    },
    {
     "name": "stdout",
     "output_type": "stream",
     "text": [
      "The Peace River joins the Athabasca River in the Peace-Athabasca Delta to form the Slave River, a tributary of the Mackenzie River.\n",
      "++++++++++++++++++++++++++++++++++++\n",
      "[{'drainage basin': 'Peace-Athabasca Delta'}]\n",
      "++++++++++++++++++++++++++++++++++++\n",
      "{'triplets': []}\n",
      "====================================\n",
      "{'model1': 'llama-2-7b.Q4_0.gguf', 'model2': 'llama-2-7b.Q4_0.gguf', 'sent': 'The Peace River joins the Athabasca River in the Peace-Athabasca Delta to form the Slave River, a tributary of the Mackenzie River.', 'triples': []}\n",
      "====================================\n"
     ]
    },
    {
     "name": "stderr",
     "output_type": "stream",
     "text": [
      "\n",
      "llama_print_timings:        load time =    4136.51 ms\n",
      "llama_print_timings:      sample time =      43.79 ms /   256 runs   (    0.17 ms per token,  5846.08 tokens per second)\n",
      "llama_print_timings: prompt eval time =     686.34 ms /    75 tokens (    9.15 ms per token,   109.28 tokens per second)\n",
      "llama_print_timings:        eval time =    8319.89 ms /   255 runs   (   32.63 ms per token,    30.65 tokens per second)\n",
      "llama_print_timings:       total time =    9452.04 ms /   330 tokens\n",
      " 41%|████▏     | 65/157 [10:23<14:11,  9.25s/it]Llama.generate: prefix-match hit\n"
     ]
    },
    {
     "name": "stdout",
     "output_type": "stream",
     "text": [
      "Hikers approach the mountain either from the New York side on the west via the South Taconic or from another trail following the Connecticut-Massachusetts state line on the east, a route that allows them to visit both the tristate marker and the highest point in Connecticut, near the summit of Mount Frissell, along the way.\n",
      "++++++++++++++++++++++++++++++++++++\n",
      "[{'mountain': 'Mount Frissell'}]\n",
      "++++++++++++++++++++++++++++++++++++\n",
      "{'triplets': []}\n",
      "====================================\n",
      "{'model1': 'llama-2-7b.Q4_0.gguf', 'model2': 'llama-2-7b.Q4_0.gguf', 'sent': 'Hikers approach the mountain either from the New York side on the west via the South Taconic or from another trail following the Connecticut-Massachusetts state line on the east, a route that allows them to visit both the tristate marker and the highest point in Connecticut, near the summit of Mount Frissell, along the way.', 'triples': []}\n",
      "====================================\n"
     ]
    },
    {
     "name": "stderr",
     "output_type": "stream",
     "text": [
      "\n",
      "llama_print_timings:        load time =    4136.51 ms\n",
      "llama_print_timings:      sample time =      43.99 ms /   256 runs   (    0.17 ms per token,  5818.84 tokens per second)\n",
      "llama_print_timings: prompt eval time =     548.36 ms /    64 tokens (    8.57 ms per token,   116.71 tokens per second)\n",
      "llama_print_timings:        eval time =    8308.19 ms /   255 runs   (   32.58 ms per token,    30.69 tokens per second)\n",
      "llama_print_timings:       total time =    9303.09 ms /   319 tokens\n",
      " 42%|████▏     | 66/157 [10:32<14:03,  9.27s/it]Llama.generate: prefix-match hit\n"
     ]
    },
    {
     "name": "stdout",
     "output_type": "stream",
     "text": [
      "This high, boggy ground is really one great plateau which rarely drops much below 600Â m (2000Â ft) between Mallerstang Edge and Great Shunner Fell, 5.4Â km to the south-east.\n",
      "++++++++++++++++++++++++++++++++++++\n",
      "[{'mountain range': 'Great Shunner Fell'}]\n",
      "++++++++++++++++++++++++++++++++++++\n",
      "{'triplets': []}\n",
      "====================================\n",
      "{'model1': 'llama-2-7b.Q4_0.gguf', 'model2': 'llama-2-7b.Q4_0.gguf', 'sent': 'This high, boggy ground is really one great plateau which rarely drops much below 600Â\\xa0m (2000Â\\xa0ft) between Mallerstang Edge and Great Shunner Fell, 5.4Â\\xa0km to the south-east.', 'triples': []}\n",
      "====================================\n"
     ]
    },
    {
     "name": "stderr",
     "output_type": "stream",
     "text": [
      "\n",
      "llama_print_timings:        load time =    4136.51 ms\n",
      "llama_print_timings:      sample time =      44.30 ms /   256 runs   (    0.17 ms per token,  5778.65 tokens per second)\n",
      "llama_print_timings: prompt eval time =     413.84 ms /    48 tokens (    8.62 ms per token,   115.99 tokens per second)\n",
      "llama_print_timings:        eval time =    8292.79 ms /   255 runs   (   32.52 ms per token,    30.75 tokens per second)\n",
      "llama_print_timings:       total time =    9152.90 ms /   303 tokens\n",
      " 43%|████▎     | 67/157 [10:41<13:51,  9.24s/it]Llama.generate: prefix-match hit\n"
     ]
    },
    {
     "name": "stdout",
     "output_type": "stream",
     "text": [
      "About 83% of the pygmy marmoset population lives in stable troops of two to nine individuals, including a dominant male, a breeding female, and up to four successive litters of offspring.\n",
      "++++++++++++++++++++++++++++++++++++\n",
      "[{'taxon': 'Callithrix jacchus'}]\n",
      "++++++++++++++++++++++++++++++++++++\n",
      "{'triplets': []}\n",
      "====================================\n",
      "{'model1': 'llama-2-7b.Q4_0.gguf', 'model2': 'llama-2-7b.Q4_0.gguf', 'sent': 'About 83% of the pygmy marmoset population lives in stable troops of two to nine individuals, including a dominant male, a breeding female, and up to four successive litters of offspring.', 'triples': []}\n",
      "====================================\n"
     ]
    },
    {
     "name": "stderr",
     "output_type": "stream",
     "text": [
      "\n",
      "llama_print_timings:        load time =    4136.51 ms\n",
      "llama_print_timings:      sample time =      43.99 ms /   256 runs   (    0.17 ms per token,  5819.50 tokens per second)\n",
      "llama_print_timings: prompt eval time =     409.63 ms /    38 tokens (   10.78 ms per token,    92.77 tokens per second)\n",
      "llama_print_timings:        eval time =    8272.37 ms /   255 runs   (   32.44 ms per token,    30.83 tokens per second)\n",
      "llama_print_timings:       total time =    9129.95 ms /   293 tokens\n",
      " 43%|████▎     | 68/157 [10:50<13:39,  9.21s/it]Llama.generate: prefix-match hit\n"
     ]
    },
    {
     "name": "stdout",
     "output_type": "stream",
     "text": [
      "However, geographically Foel y Geifr belongs to the Aran Fawddwy group, its parent peak being Esgeiriau Gwynion.\n",
      "++++++++++++++++++++++++++++++++++++\n",
      "[{'mountain': 'Esgeiriau Gwynion'}]\n",
      "++++++++++++++++++++++++++++++++++++\n",
      "{'triplets': []}\n",
      "====================================\n",
      "{'model1': 'llama-2-7b.Q4_0.gguf', 'model2': 'llama-2-7b.Q4_0.gguf', 'sent': 'However, geographically Foel y Geifr belongs to the Aran Fawddwy group, its parent peak being Esgeiriau Gwynion.', 'triples': []}\n",
      "====================================\n"
     ]
    },
    {
     "name": "stderr",
     "output_type": "stream",
     "text": [
      "\n",
      "llama_print_timings:        load time =    4136.51 ms\n",
      "llama_print_timings:      sample time =      43.55 ms /   256 runs   (    0.17 ms per token,  5878.57 tokens per second)\n",
      "llama_print_timings: prompt eval time =     137.30 ms /    16 tokens (    8.58 ms per token,   116.53 tokens per second)\n",
      "llama_print_timings:        eval time =    8271.12 ms /   256 runs   (   32.31 ms per token,    30.95 tokens per second)\n",
      "llama_print_timings:       total time =    8845.36 ms /   272 tokens\n",
      " 44%|████▍     | 69/157 [10:59<13:20,  9.10s/it]Llama.generate: prefix-match hit\n"
     ]
    },
    {
     "name": "stdout",
     "output_type": "stream",
     "text": [
      "The Tennessee River is the largest tributary of the Ohio River.\n",
      "++++++++++++++++++++++++++++++++++++\n",
      "[{'drainage basin': 'Tennessee River'}]\n",
      "++++++++++++++++++++++++++++++++++++\n",
      "{'triplets': []}\n",
      "====================================\n",
      "{'model1': 'llama-2-7b.Q4_0.gguf', 'model2': 'llama-2-7b.Q4_0.gguf', 'sent': 'The Tennessee River is the largest tributary of the Ohio River.', 'triples': []}\n",
      "====================================\n"
     ]
    },
    {
     "name": "stderr",
     "output_type": "stream",
     "text": [
      "\n",
      "llama_print_timings:        load time =    4136.51 ms\n",
      "llama_print_timings:      sample time =      47.34 ms /   256 runs   (    0.18 ms per token,  5407.23 tokens per second)\n",
      "llama_print_timings: prompt eval time =     957.68 ms /   103 tokens (    9.30 ms per token,   107.55 tokens per second)\n",
      "llama_print_timings:        eval time =    8491.55 ms /   255 runs   (   33.30 ms per token,    30.03 tokens per second)\n",
      "llama_print_timings:       total time =    9944.73 ms /   358 tokens\n",
      " 45%|████▍     | 70/157 [11:09<13:33,  9.35s/it]Llama.generate: prefix-match hit\n"
     ]
    },
    {
     "name": "stdout",
     "output_type": "stream",
     "text": [
      "The 14,048-foot (4,282Â m) fourteener is located on the Sierra Blanca Massif, 9.9 miles (16.0Â km) north by east (bearing 7Â°) of the Town of Blanca, Colorado, United States, on the drainage divide separating in Rio Grande National Forest and Alamosa County from San Isabel National Forest and Huerfano County.\n",
      "++++++++++++++++++++++++++++++++++++\n",
      "[{'mountain': 'Mount Blanca'}]\n",
      "++++++++++++++++++++++++++++++++++++\n",
      "{'triplets': []}\n",
      "====================================\n",
      "{'model1': 'llama-2-7b.Q4_0.gguf', 'model2': 'llama-2-7b.Q4_0.gguf', 'sent': 'The 14,048-foot (4,282Â\\xa0m) fourteener is located on the Sierra Blanca Massif, 9.9 miles (16.0Â\\xa0km) north by east (bearing 7Â°) of the Town of Blanca, Colorado, United States, on the drainage divide separating in Rio Grande National Forest and Alamosa County from San Isabel National Forest and Huerfano County.', 'triples': []}\n",
      "====================================\n"
     ]
    },
    {
     "name": "stderr",
     "output_type": "stream",
     "text": [
      "\n",
      "llama_print_timings:        load time =    4136.51 ms\n",
      "llama_print_timings:      sample time =      45.34 ms /   256 runs   (    0.18 ms per token,  5646.60 tokens per second)\n",
      "llama_print_timings: prompt eval time =     411.58 ms /    40 tokens (   10.29 ms per token,    97.19 tokens per second)\n",
      "llama_print_timings:        eval time =    8396.70 ms /   255 runs   (   32.93 ms per token,    30.37 tokens per second)\n",
      "llama_print_timings:       total time =    9277.69 ms /   295 tokens\n",
      " 45%|████▌     | 71/157 [11:18<13:22,  9.33s/it]Llama.generate: prefix-match hit\n"
     ]
    },
    {
     "name": "stdout",
     "output_type": "stream",
     "text": [
      "The superfamily Papilionoidea (from the genus Papilio, meaning \"butterfly\") contains all the butterflies except for the moth-like Hedyloidea.\n",
      "++++++++++++++++++++++++++++++++++++\n",
      "[{'taxon': 'Papilionoidea'}]\n",
      "++++++++++++++++++++++++++++++++++++\n",
      "{'triplets': []}\n",
      "====================================\n",
      "{'model1': 'llama-2-7b.Q4_0.gguf', 'model2': 'llama-2-7b.Q4_0.gguf', 'sent': 'The superfamily Papilionoidea (from the genus Papilio, meaning \"butterfly\") contains all the butterflies except for the moth-like Hedyloidea.', 'triples': []}\n",
      "====================================\n"
     ]
    },
    {
     "name": "stderr",
     "output_type": "stream",
     "text": [
      "\n",
      "llama_print_timings:        load time =    4136.51 ms\n",
      "llama_print_timings:      sample time =      44.30 ms /   256 runs   (    0.17 ms per token,  5779.43 tokens per second)\n",
      "llama_print_timings: prompt eval time =     270.44 ms /    21 tokens (   12.88 ms per token,    77.65 tokens per second)\n",
      "llama_print_timings:        eval time =    8232.49 ms /   255 runs   (   32.28 ms per token,    30.97 tokens per second)\n",
      "llama_print_timings:       total time =    8935.91 ms /   276 tokens\n",
      " 46%|████▌     | 72/157 [11:27<13:03,  9.22s/it]Llama.generate: prefix-match hit\n"
     ]
    },
    {
     "name": "stdout",
     "output_type": "stream",
     "text": [
      "Lac du Chevril flooded the town of Tignes which was relocated nearby.\n",
      "++++++++++++++++++++++++++++++++++++\n",
      "[{'reservoir': 'Lac du Chevril'}]\n",
      "++++++++++++++++++++++++++++++++++++\n",
      "{'triplets': []}\n",
      "====================================\n",
      "{'model1': 'llama-2-7b.Q4_0.gguf', 'model2': 'llama-2-7b.Q4_0.gguf', 'sent': 'Lac du Chevril flooded the town of Tignes which was relocated nearby.', 'triples': []}\n",
      "====================================\n"
     ]
    },
    {
     "name": "stderr",
     "output_type": "stream",
     "text": [
      "\n",
      "llama_print_timings:        load time =    4136.51 ms\n",
      "llama_print_timings:      sample time =      44.75 ms /   256 runs   (    0.17 ms per token,  5721.05 tokens per second)\n",
      "llama_print_timings: prompt eval time =     409.16 ms /    48 tokens (    8.52 ms per token,   117.31 tokens per second)\n",
      "llama_print_timings:        eval time =    8250.19 ms /   255 runs   (   32.35 ms per token,    30.91 tokens per second)\n",
      "llama_print_timings:       total time =    9102.43 ms /   303 tokens\n",
      " 46%|████▋     | 73/157 [11:36<12:51,  9.18s/it]Llama.generate: prefix-match hit\n"
     ]
    },
    {
     "name": "stdout",
     "output_type": "stream",
     "text": [
      "The cobbler wobbegong, Sutorectus tentaculatus, is a carpet shark in the family Orectolobidae, the only member of the genus Sutorectus.\n",
      "++++++++++++++++++++++++++++++++++++\n",
      "[{'taxon': 'Sutorectus tentaculatus'}]\n",
      "++++++++++++++++++++++++++++++++++++\n",
      "{'triplets': []}\n",
      "====================================\n",
      "{'model1': 'llama-2-7b.Q4_0.gguf', 'model2': 'llama-2-7b.Q4_0.gguf', 'sent': 'The cobbler wobbegong, Sutorectus tentaculatus, is a carpet shark in the family Orectolobidae, the only member of the genus Sutorectus.', 'triples': []}\n",
      "====================================\n"
     ]
    },
    {
     "name": "stderr",
     "output_type": "stream",
     "text": [
      "\n",
      "llama_print_timings:        load time =    4136.51 ms\n",
      "llama_print_timings:      sample time =      42.88 ms /   256 runs   (    0.17 ms per token,  5970.85 tokens per second)\n",
      "llama_print_timings: prompt eval time =     267.84 ms /    19 tokens (   14.10 ms per token,    70.94 tokens per second)\n",
      "llama_print_timings:        eval time =    8222.18 ms /   255 runs   (   32.24 ms per token,    31.01 tokens per second)\n",
      "llama_print_timings:       total time =    8898.53 ms /   274 tokens\n",
      " 47%|████▋     | 74/157 [11:45<12:35,  9.10s/it]Llama.generate: prefix-match hit\n"
     ]
    },
    {
     "name": "stdout",
     "output_type": "stream",
     "text": [
      "The race was won by Attilio Moresi of the Carpano team.\n",
      "++++++++++++++++++++++++++++++++++++\n",
      "[{'cycling race': \"Giro d'Italia\"}]\n",
      "++++++++++++++++++++++++++++++++++++\n",
      "{'triplets': []}\n",
      "====================================\n",
      "{'model1': 'llama-2-7b.Q4_0.gguf', 'model2': 'llama-2-7b.Q4_0.gguf', 'sent': 'The race was won by Attilio Moresi of the Carpano team.', 'triples': []}\n",
      "====================================\n"
     ]
    },
    {
     "name": "stderr",
     "output_type": "stream",
     "text": [
      "\n",
      "llama_print_timings:        load time =    4136.51 ms\n",
      "llama_print_timings:      sample time =      44.66 ms /   256 runs   (    0.17 ms per token,  5732.58 tokens per second)\n",
      "llama_print_timings: prompt eval time =     269.34 ms /    19 tokens (   14.18 ms per token,    70.54 tokens per second)\n",
      "llama_print_timings:        eval time =    8225.92 ms /   255 runs   (   32.26 ms per token,    31.00 tokens per second)\n",
      "llama_print_timings:       total time =    8931.88 ms /   274 tokens\n",
      " 48%|████▊     | 75/157 [11:54<12:22,  9.05s/it]Llama.generate: prefix-match hit\n"
     ]
    },
    {
     "name": "stdout",
     "output_type": "stream",
     "text": [
      "Shadow Mountain Lake is connected by a short channel to the natural Grand Lake.\n",
      "++++++++++++++++++++++++++++++++++++\n",
      "[{'reservoir': 'Shadow Mountain Lake'}]\n",
      "++++++++++++++++++++++++++++++++++++\n",
      "{'triplets': []}\n",
      "====================================\n",
      "{'model1': 'llama-2-7b.Q4_0.gguf', 'model2': 'llama-2-7b.Q4_0.gguf', 'sent': 'Shadow Mountain Lake is connected by a short channel to the natural Grand Lake.', 'triples': []}\n",
      "====================================\n"
     ]
    },
    {
     "name": "stderr",
     "output_type": "stream",
     "text": [
      "\n",
      "llama_print_timings:        load time =    4136.51 ms\n",
      "llama_print_timings:      sample time =      43.87 ms /   256 runs   (    0.17 ms per token,  5835.56 tokens per second)\n",
      "llama_print_timings: prompt eval time =     268.37 ms /    20 tokens (   13.42 ms per token,    74.52 tokens per second)\n",
      "llama_print_timings:        eval time =    8236.88 ms /   255 runs   (   32.30 ms per token,    30.96 tokens per second)\n",
      "llama_print_timings:       total time =    8939.08 ms /   275 tokens\n",
      " 48%|████▊     | 76/157 [12:03<12:10,  9.02s/it]Llama.generate: prefix-match hit\n"
     ]
    },
    {
     "name": "stdout",
     "output_type": "stream",
     "text": [
      "Henrica is a genus of fungi in the family Verrucariaceae.\n",
      "++++++++++++++++++++++++++++++++++++\n",
      "[{'taxon': 'Henrica'}]\n",
      "++++++++++++++++++++++++++++++++++++\n",
      "{'triplets': []}\n",
      "====================================\n",
      "{'model1': 'llama-2-7b.Q4_0.gguf', 'model2': 'llama-2-7b.Q4_0.gguf', 'sent': 'Henrica is a genus of fungi in the family Verrucariaceae.', 'triples': []}\n",
      "====================================\n"
     ]
    },
    {
     "name": "stderr",
     "output_type": "stream",
     "text": [
      "\n",
      "llama_print_timings:        load time =    4136.51 ms\n",
      "llama_print_timings:      sample time =      44.32 ms /   256 runs   (    0.17 ms per token,  5776.69 tokens per second)\n",
      "llama_print_timings: prompt eval time =     411.84 ms /    46 tokens (    8.95 ms per token,   111.69 tokens per second)\n",
      "llama_print_timings:        eval time =    8387.85 ms /   255 runs   (   32.89 ms per token,    30.40 tokens per second)\n",
      "llama_print_timings:       total time =    9249.89 ms /   301 tokens\n",
      " 49%|████▉     | 77/157 [12:12<12:07,  9.09s/it]Llama.generate: prefix-match hit\n"
     ]
    },
    {
     "name": "stdout",
     "output_type": "stream",
     "text": [
      "The damages from the flood in Cerro Gordo county reached an estimated $3 million, while the total damage along the Cedar River and Iowa River basin reached over $495 million.\n",
      "++++++++++++++++++++++++++++++++++++\n",
      "[{'drainage basin': 'Cedar River and Iowa River basin'}]\n",
      "++++++++++++++++++++++++++++++++++++\n",
      "{'triplets': []}\n",
      "====================================\n",
      "{'model1': 'llama-2-7b.Q4_0.gguf', 'model2': 'llama-2-7b.Q4_0.gguf', 'sent': 'The damages from the flood in Cerro Gordo county reached an estimated $3 million, while the total damage along the Cedar River and Iowa River basin reached over $495 million.', 'triples': []}\n",
      "====================================\n"
     ]
    },
    {
     "name": "stderr",
     "output_type": "stream",
     "text": [
      "\n",
      "llama_print_timings:        load time =    4136.51 ms\n",
      "llama_print_timings:      sample time =      44.51 ms /   256 runs   (    0.17 ms per token,  5751.65 tokens per second)\n",
      "llama_print_timings: prompt eval time =     411.36 ms /    46 tokens (    8.94 ms per token,   111.82 tokens per second)\n",
      "llama_print_timings:        eval time =    8413.36 ms /   255 runs   (   32.99 ms per token,    30.31 tokens per second)\n",
      "llama_print_timings:       total time =    9275.85 ms /   301 tokens\n",
      " 50%|████▉     | 78/157 [12:22<12:02,  9.15s/it]Llama.generate: prefix-match hit\n"
     ]
    },
    {
     "name": "stdout",
     "output_type": "stream",
     "text": [
      "The dam creates Lago di Vogorno 2Â km (1.2Â mi) upstream of Lake Maggiore and supports the 105 MW Verzasca hydroelectric power station.\n",
      "++++++++++++++++++++++++++++++++++++\n",
      "[{'reservoir': 'Lago di Vogorno'}]\n",
      "++++++++++++++++++++++++++++++++++++\n",
      "{'triplets': []}\n",
      "====================================\n",
      "{'model1': 'llama-2-7b.Q4_0.gguf', 'model2': 'llama-2-7b.Q4_0.gguf', 'sent': 'The dam creates Lago di Vogorno 2Â\\xa0km (1.2Â\\xa0mi) upstream of Lake Maggiore and supports the 105 MW Verzasca hydroelectric power station.', 'triples': []}\n",
      "====================================\n"
     ]
    },
    {
     "name": "stderr",
     "output_type": "stream",
     "text": [
      "\n",
      "llama_print_timings:        load time =    4136.51 ms\n",
      "llama_print_timings:      sample time =      43.11 ms /   256 runs   (    0.17 ms per token,  5938.71 tokens per second)\n",
      "llama_print_timings: prompt eval time =     688.98 ms /    69 tokens (    9.99 ms per token,   100.15 tokens per second)\n",
      "llama_print_timings:        eval time =    8307.35 ms /   255 runs   (   32.58 ms per token,    30.70 tokens per second)\n",
      "llama_print_timings:       total time =    9420.63 ms /   324 tokens\n",
      " 50%|█████     | 79/157 [12:31<12:00,  9.23s/it]Llama.generate: prefix-match hit\n"
     ]
    },
    {
     "name": "stdout",
     "output_type": "stream",
     "text": [
      "Cress (Lepidium sativum), sometimes referred to as garden cress (or curly cress) to distinguish it from similar plants also referred to as cress (from old Germanic cresso which means sharp, spicy), is a rather fast-growing, edible herb.\n",
      "++++++++++++++++++++++++++++++++++++\n",
      "[{'taxon': 'Lepidium sativum'}]\n",
      "++++++++++++++++++++++++++++++++++++\n",
      "{'triplets': []}\n",
      "====================================\n",
      "{'model1': 'llama-2-7b.Q4_0.gguf', 'model2': 'llama-2-7b.Q4_0.gguf', 'sent': 'Cress (Lepidium sativum), sometimes referred to as garden cress (or curly cress) to distinguish it from similar plants also referred to as cress (from old Germanic cresso which means sharp, spicy), is a rather fast-growing, edible herb.', 'triples': []}\n",
      "====================================\n"
     ]
    },
    {
     "name": "stderr",
     "output_type": "stream",
     "text": [
      "\n",
      "llama_print_timings:        load time =    4136.51 ms\n",
      "llama_print_timings:      sample time =      44.09 ms /   256 runs   (    0.17 ms per token,  5806.96 tokens per second)\n",
      "llama_print_timings: prompt eval time =     268.89 ms /    19 tokens (   14.15 ms per token,    70.66 tokens per second)\n",
      "llama_print_timings:        eval time =    8283.78 ms /   255 runs   (   32.49 ms per token,    30.78 tokens per second)\n",
      "llama_print_timings:       total time =    8984.78 ms /   274 tokens\n",
      " 51%|█████     | 80/157 [12:40<11:45,  9.16s/it]Llama.generate: prefix-match hit\n"
     ]
    },
    {
     "name": "stdout",
     "output_type": "stream",
     "text": [
      "The race was won by Rolf Maurer of the Cynar team.\n",
      "++++++++++++++++++++++++++++++++++++\n",
      "[{'cycling race': 'James Bay Basin'}]\n",
      "++++++++++++++++++++++++++++++++++++\n",
      "{'triplets': []}\n",
      "====================================\n",
      "{'model1': 'llama-2-7b.Q4_0.gguf', 'model2': 'llama-2-7b.Q4_0.gguf', 'sent': 'The race was won by Rolf Maurer of the Cynar team.', 'triples': []}\n",
      "====================================\n"
     ]
    },
    {
     "name": "stderr",
     "output_type": "stream",
     "text": [
      "\n",
      "llama_print_timings:        load time =    4136.51 ms\n",
      "llama_print_timings:      sample time =      44.38 ms /   256 runs   (    0.17 ms per token,  5767.97 tokens per second)\n",
      "llama_print_timings: prompt eval time =     272.16 ms /    29 tokens (    9.38 ms per token,   106.56 tokens per second)\n",
      "llama_print_timings:        eval time =    8249.73 ms /   255 runs   (   32.35 ms per token,    30.91 tokens per second)\n",
      "llama_print_timings:       total time =    8956.78 ms /   284 tokens\n",
      " 52%|█████▏    | 81/157 [12:49<11:31,  9.10s/it]Llama.generate: prefix-match hit\n"
     ]
    },
    {
     "name": "stdout",
     "output_type": "stream",
     "text": [
      "2015 Ladies Tour of Norway was won by Megan Guarnier of Boels-Dolmans.\n",
      "++++++++++++++++++++++++++++++++++++\n",
      "[{'cycling race': '2015 Ladies Tour of Norway'}]\n",
      "++++++++++++++++++++++++++++++++++++\n",
      "{'triplets': []}\n",
      "====================================\n",
      "{'model1': 'llama-2-7b.Q4_0.gguf', 'model2': 'llama-2-7b.Q4_0.gguf', 'sent': '2015 Ladies Tour of Norway was won by Megan Guarnier of Boels-Dolmans.', 'triples': []}\n",
      "====================================\n"
     ]
    },
    {
     "name": "stderr",
     "output_type": "stream",
     "text": [
      "\n",
      "llama_print_timings:        load time =    4136.51 ms\n",
      "llama_print_timings:      sample time =      44.38 ms /   256 runs   (    0.17 ms per token,  5768.88 tokens per second)\n",
      "llama_print_timings: prompt eval time =     275.68 ms /    30 tokens (    9.19 ms per token,   108.82 tokens per second)\n",
      "llama_print_timings:        eval time =    8243.48 ms /   255 runs   (   32.33 ms per token,    30.93 tokens per second)\n",
      "llama_print_timings:       total time =    8951.71 ms /   285 tokens\n",
      " 52%|█████▏    | 82/157 [12:58<11:19,  9.06s/it]Llama.generate: prefix-match hit\n"
     ]
    },
    {
     "name": "stdout",
     "output_type": "stream",
     "text": [
      "Polygonum pensylvanicum) is a species of flowering plant in the buckwheat family, Polygonaceae.\n",
      "++++++++++++++++++++++++++++++++++++\n",
      "[{'taxon': 'Polygonum pensylvanicum'}]\n",
      "++++++++++++++++++++++++++++++++++++\n",
      "{'triplets': []}\n",
      "====================================\n",
      "{'model1': 'llama-2-7b.Q4_0.gguf', 'model2': 'llama-2-7b.Q4_0.gguf', 'sent': 'Polygonum pensylvanicum) is a species of flowering plant in the buckwheat family, Polygonaceae.', 'triples': []}\n",
      "====================================\n"
     ]
    },
    {
     "name": "stderr",
     "output_type": "stream",
     "text": [
      "\n",
      "llama_print_timings:        load time =    4136.51 ms\n",
      "llama_print_timings:      sample time =      43.24 ms /   256 runs   (    0.17 ms per token,  5920.58 tokens per second)\n",
      "llama_print_timings: prompt eval time =     546.66 ms /    59 tokens (    9.27 ms per token,   107.93 tokens per second)\n",
      "llama_print_timings:        eval time =    8293.51 ms /   255 runs   (   32.52 ms per token,    30.75 tokens per second)\n",
      "llama_print_timings:       total time =    9257.95 ms /   314 tokens\n",
      " 53%|█████▎    | 83/157 [13:07<11:14,  9.12s/it]Llama.generate: prefix-match hit\n"
     ]
    },
    {
     "name": "stdout",
     "output_type": "stream",
     "text": [
      "Mount Bowles is an ice-covered mountain 822 metres (2,697Â ft) high, the summit of Bowles Ridge in the central part of eastern Livingston Island in the South Shetland Islands, Antarctica.\n",
      "++++++++++++++++++++++++++++++++++++\n",
      "[{'mountain': 'Bowles Ridge'}]\n",
      "++++++++++++++++++++++++++++++++++++\n",
      "{'triplets': []}\n",
      "====================================\n",
      "{'model1': 'llama-2-7b.Q4_0.gguf', 'model2': 'llama-2-7b.Q4_0.gguf', 'sent': 'Mount Bowles is an ice-covered mountain 822 metres (2,697Â\\xa0ft) high, the summit of Bowles Ridge in the central part of eastern Livingston Island in the South Shetland Islands, Antarctica.', 'triples': []}\n",
      "====================================\n"
     ]
    },
    {
     "name": "stderr",
     "output_type": "stream",
     "text": [
      "\n",
      "llama_print_timings:        load time =    4136.51 ms\n",
      "llama_print_timings:      sample time =      48.74 ms /   256 runs   (    0.19 ms per token,  5252.79 tokens per second)\n",
      "llama_print_timings: prompt eval time =     272.28 ms /    27 tokens (   10.08 ms per token,    99.16 tokens per second)\n",
      "llama_print_timings:        eval time =    8360.87 ms /   255 runs   (   32.79 ms per token,    30.50 tokens per second)\n",
      "llama_print_timings:       total time =    9139.92 ms /   282 tokens\n",
      " 54%|█████▎    | 84/157 [13:16<11:06,  9.13s/it]Llama.generate: prefix-match hit\n"
     ]
    },
    {
     "name": "stdout",
     "output_type": "stream",
     "text": [
      "Mont Durand is located west of the Ober Gabelhorn between the valleys of Zinal and Zmutt.\n",
      "++++++++++++++++++++++++++++++++++++\n",
      "[{'mountain': 'Ober Gabelhorn'}]\n",
      "++++++++++++++++++++++++++++++++++++\n",
      "{'triplets': []}\n",
      "====================================\n",
      "{'model1': 'llama-2-7b.Q4_0.gguf', 'model2': 'llama-2-7b.Q4_0.gguf', 'sent': 'Mont Durand is located west of the Ober Gabelhorn between the valleys of Zinal and Zmutt.', 'triples': []}\n",
      "====================================\n"
     ]
    },
    {
     "name": "stderr",
     "output_type": "stream",
     "text": [
      "\n",
      "llama_print_timings:        load time =    4136.51 ms\n",
      "llama_print_timings:      sample time =      45.17 ms /   256 runs   (    0.18 ms per token,  5667.73 tokens per second)\n",
      "llama_print_timings: prompt eval time =     286.71 ms /    30 tokens (    9.56 ms per token,   104.63 tokens per second)\n",
      "llama_print_timings:        eval time =    8443.03 ms /   255 runs   (   33.11 ms per token,    30.20 tokens per second)\n",
      "llama_print_timings:       total time =    9189.80 ms /   285 tokens\n",
      " 54%|█████▍    | 85/157 [13:26<10:58,  9.15s/it]Llama.generate: prefix-match hit\n"
     ]
    },
    {
     "name": "stdout",
     "output_type": "stream",
     "text": [
      "Green Peter Reservoir, created by the dam, is a popular area for fishing, boating, and other water sports.\n",
      "++++++++++++++++++++++++++++++++++++\n",
      "[{'reservoir': 'Green Peter Reservoir'}]\n",
      "++++++++++++++++++++++++++++++++++++\n",
      "{'triplets': []}\n",
      "====================================\n",
      "{'model1': 'llama-2-7b.Q4_0.gguf', 'model2': 'llama-2-7b.Q4_0.gguf', 'sent': 'Green Peter Reservoir, created by the dam, is a popular area for fishing, boating, and other water sports.', 'triples': []}\n",
      "====================================\n"
     ]
    },
    {
     "name": "stderr",
     "output_type": "stream",
     "text": [
      "\n",
      "llama_print_timings:        load time =    4136.51 ms\n",
      "llama_print_timings:      sample time =      43.13 ms /   256 runs   (    0.17 ms per token,  5935.82 tokens per second)\n",
      "llama_print_timings: prompt eval time =     407.93 ms /    38 tokens (   10.74 ms per token,    93.15 tokens per second)\n",
      "llama_print_timings:        eval time =    8233.58 ms /   255 runs   (   32.29 ms per token,    30.97 tokens per second)\n",
      "llama_print_timings:       total time =    9048.67 ms /   293 tokens\n",
      " 55%|█████▍    | 86/157 [13:35<10:47,  9.12s/it]Llama.generate: prefix-match hit\n"
     ]
    },
    {
     "name": "stdout",
     "output_type": "stream",
     "text": [
      "The white-browed purpletuft (Iodopleura isabellae) is a small South American species of bird in the family Tityridae.\n",
      "++++++++++++++++++++++++++++++++++++\n",
      "[{'taxon': 'Iodopleura isabellae'}]\n",
      "++++++++++++++++++++++++++++++++++++\n",
      "{'triplets': []}\n",
      "====================================\n",
      "{'model1': 'llama-2-7b.Q4_0.gguf', 'model2': 'llama-2-7b.Q4_0.gguf', 'sent': 'The white-browed purpletuft (Iodopleura isabellae) is a small South American species of bird in the family Tityridae.', 'triples': []}\n",
      "====================================\n"
     ]
    },
    {
     "name": "stderr",
     "output_type": "stream",
     "text": [
      "\n",
      "llama_print_timings:        load time =    4136.51 ms\n",
      "llama_print_timings:      sample time =      43.12 ms /   256 runs   (    0.17 ms per token,  5936.64 tokens per second)\n",
      "llama_print_timings: prompt eval time =     273.19 ms /    30 tokens (    9.11 ms per token,   109.81 tokens per second)\n",
      "llama_print_timings:        eval time =    8235.30 ms /   255 runs   (   32.30 ms per token,    30.96 tokens per second)\n",
      "llama_print_timings:       total time =    8914.03 ms /   285 tokens\n",
      " 55%|█████▌    | 87/157 [13:44<10:34,  9.06s/it]Llama.generate: prefix-match hit\n"
     ]
    },
    {
     "name": "stdout",
     "output_type": "stream",
     "text": [
      "The upper Shire River issues from Lake Malawi and runs approximately 12 miles before it enters shallow Lake Malombe.\n",
      "++++++++++++++++++++++++++++++++++++\n",
      "[{'drainage basin': 'Lake Malawi'}]\n",
      "++++++++++++++++++++++++++++++++++++\n",
      "{'triplets': []}\n",
      "====================================\n",
      "{'model1': 'llama-2-7b.Q4_0.gguf', 'model2': 'llama-2-7b.Q4_0.gguf', 'sent': 'The upper Shire River issues from Lake Malawi and runs approximately 12 miles before it enters shallow Lake Malombe.', 'triples': []}\n",
      "====================================\n"
     ]
    },
    {
     "name": "stderr",
     "output_type": "stream",
     "text": [
      "\n",
      "llama_print_timings:        load time =    4136.51 ms\n",
      "llama_print_timings:      sample time =      43.87 ms /   256 runs   (    0.17 ms per token,  5835.82 tokens per second)\n",
      "llama_print_timings: prompt eval time =     408.61 ms /    44 tokens (    9.29 ms per token,   107.68 tokens per second)\n",
      "llama_print_timings:        eval time =    8394.49 ms /   255 runs   (   32.92 ms per token,    30.38 tokens per second)\n",
      "llama_print_timings:       total time =    9236.85 ms /   299 tokens\n",
      " 56%|█████▌    | 88/157 [13:53<10:28,  9.11s/it]Llama.generate: prefix-match hit\n"
     ]
    },
    {
     "name": "stdout",
     "output_type": "stream",
     "text": [
      "The dam impounds the 7,000-acre (2,800Â ha) Chatuge Lake, which straddles the North Carolina-Georgia state line.\n",
      "++++++++++++++++++++++++++++++++++++\n",
      "[{'reservoir': 'Chatuge Lake'}]\n",
      "++++++++++++++++++++++++++++++++++++\n",
      "{'triplets': []}\n",
      "====================================\n",
      "{'model1': 'llama-2-7b.Q4_0.gguf', 'model2': 'llama-2-7b.Q4_0.gguf', 'sent': 'The dam impounds the 7,000-acre (2,800Â\\xa0ha) Chatuge Lake, which straddles the North Carolina-Georgia state line.', 'triples': []}\n",
      "====================================\n"
     ]
    },
    {
     "name": "stderr",
     "output_type": "stream",
     "text": [
      "\n",
      "llama_print_timings:        load time =    4136.51 ms\n",
      "llama_print_timings:      sample time =      44.16 ms /   256 runs   (    0.17 ms per token,  5796.45 tokens per second)\n",
      "llama_print_timings: prompt eval time =     406.16 ms /    34 tokens (   11.95 ms per token,    83.71 tokens per second)\n",
      "llama_print_timings:        eval time =    8265.84 ms /   255 runs   (   32.42 ms per token,    30.85 tokens per second)\n",
      "llama_print_timings:       total time =    9103.46 ms /   289 tokens\n",
      " 57%|█████▋    | 89/157 [14:02<10:19,  9.11s/it]Llama.generate: prefix-match hit\n"
     ]
    },
    {
     "name": "stdout",
     "output_type": "stream",
     "text": [
      "Le Linleu offers a beautiful circular panorama featuring the Diablerets, Dents du Midi and Cornettes de Bise.\n",
      "++++++++++++++++++++++++++++++++++++\n",
      "[{'mountain range': 'Diablerets'}]\n",
      "++++++++++++++++++++++++++++++++++++\n",
      "{'triplets': []}\n",
      "====================================\n",
      "{'model1': 'llama-2-7b.Q4_0.gguf', 'model2': 'llama-2-7b.Q4_0.gguf', 'sent': 'Le Linleu offers a beautiful circular panorama featuring the Diablerets, Dents du Midi and Cornettes de Bise.', 'triples': []}\n",
      "====================================\n"
     ]
    },
    {
     "name": "stderr",
     "output_type": "stream",
     "text": [
      "\n",
      "llama_print_timings:        load time =    4136.51 ms\n",
      "llama_print_timings:      sample time =      44.50 ms /   256 runs   (    0.17 ms per token,  5753.07 tokens per second)\n",
      "llama_print_timings: prompt eval time =     136.21 ms /    12 tokens (   11.35 ms per token,    88.10 tokens per second)\n",
      "llama_print_timings:        eval time =    8254.13 ms /   255 runs   (   32.37 ms per token,    30.89 tokens per second)\n",
      "llama_print_timings:       total time =    8830.58 ms /   267 tokens\n",
      " 57%|█████▋    | 90/157 [14:11<10:04,  9.03s/it]Llama.generate: prefix-match hit\n"
     ]
    },
    {
     "name": "stdout",
     "output_type": "stream",
     "text": [
      "Balistes is a genus of triggerfish.\n",
      "++++++++++++++++++++++++++++++++++++\n",
      "[{'taxon': 'Balistes'}]\n",
      "++++++++++++++++++++++++++++++++++++\n",
      "{'triplets': []}\n",
      "====================================\n",
      "{'model1': 'llama-2-7b.Q4_0.gguf', 'model2': 'llama-2-7b.Q4_0.gguf', 'sent': 'Balistes is a genus of triggerfish.', 'triples': []}\n",
      "====================================\n"
     ]
    },
    {
     "name": "stderr",
     "output_type": "stream",
     "text": [
      "\n",
      "llama_print_timings:        load time =    4136.51 ms\n",
      "llama_print_timings:      sample time =      44.29 ms /   256 runs   (    0.17 ms per token,  5780.22 tokens per second)\n",
      "llama_print_timings: prompt eval time =     821.27 ms /    86 tokens (    9.55 ms per token,   104.72 tokens per second)\n",
      "llama_print_timings:        eval time =    8370.58 ms /   255 runs   (   32.83 ms per token,    30.46 tokens per second)\n",
      "llama_print_timings:       total time =    9637.52 ms /   341 tokens\n",
      " 58%|█████▊    | 91/157 [14:20<10:08,  9.21s/it]Llama.generate: prefix-match hit\n"
     ]
    },
    {
     "name": "stdout",
     "output_type": "stream",
     "text": [
      "Beyond that point the Yamuna is joined only by the Somb, a seasonal rivulet from Haryana, and by the highly polluted Hindon River near Noida, so that it continues only as a trickling sewage-bearing drain before joining the Chambal at Pachnada in the Etawah District of Uttar Pradesh.\n",
      "++++++++++++++++++++++++++++++++++++\n",
      "[{'drainage basin': 'Chambal River'}]\n",
      "++++++++++++++++++++++++++++++++++++\n",
      "{'triplets': []}\n",
      "====================================\n",
      "{'model1': 'llama-2-7b.Q4_0.gguf', 'model2': 'llama-2-7b.Q4_0.gguf', 'sent': 'Beyond that point the Yamuna is joined only by the Somb, a seasonal rivulet from Haryana, and by the highly polluted Hindon River near Noida, so that it continues only as a trickling sewage-bearing drain before joining the Chambal at Pachnada in the Etawah District of Uttar Pradesh.', 'triples': []}\n",
      "====================================\n"
     ]
    },
    {
     "name": "stderr",
     "output_type": "stream",
     "text": [
      "\n",
      "llama_print_timings:        load time =    4136.51 ms\n",
      "llama_print_timings:      sample time =      43.72 ms /   256 runs   (    0.17 ms per token,  5855.04 tokens per second)\n",
      "llama_print_timings: prompt eval time =     412.28 ms /    48 tokens (    8.59 ms per token,   116.43 tokens per second)\n",
      "llama_print_timings:        eval time =    8300.32 ms /   255 runs   (   32.55 ms per token,    30.72 tokens per second)\n",
      "llama_print_timings:       total time =    9143.77 ms /   303 tokens\n",
      " 59%|█████▊    | 92/157 [14:30<09:57,  9.19s/it]Llama.generate: prefix-match hit\n"
     ]
    },
    {
     "name": "stdout",
     "output_type": "stream",
     "text": [
      "Highest mountain between Lake Geneva and the Mont Blanc Massif, Dents du Midi dominate the Val-d'Illiez and the RhÃ´ne Valley, from Martigny down to the lake.\n",
      "++++++++++++++++++++++++++++++++++++\n",
      "[{'mountain': 'Dents du Midi'}]\n",
      "++++++++++++++++++++++++++++++++++++\n",
      "{'triplets': []}\n",
      "====================================\n",
      "{'model1': 'llama-2-7b.Q4_0.gguf', 'model2': 'llama-2-7b.Q4_0.gguf', 'sent': \"Highest mountain between Lake Geneva and the Mont Blanc Massif, Dents du Midi dominate the Val-d'Illiez and the RhÃ´ne Valley, from Martigny down to the lake.\", 'triples': []}\n",
      "====================================\n"
     ]
    },
    {
     "name": "stderr",
     "output_type": "stream",
     "text": [
      "\n",
      "llama_print_timings:        load time =    4136.51 ms\n",
      "llama_print_timings:      sample time =      45.27 ms /   256 runs   (    0.18 ms per token,  5655.58 tokens per second)\n",
      "llama_print_timings: prompt eval time =     409.89 ms /    38 tokens (   10.79 ms per token,    92.71 tokens per second)\n",
      "llama_print_timings:        eval time =    8478.93 ms /   255 runs   (   33.25 ms per token,    30.07 tokens per second)\n",
      "llama_print_timings:       total time =    9359.22 ms /   293 tokens\n",
      " 59%|█████▉    | 93/157 [14:39<09:51,  9.25s/it]Llama.generate: prefix-match hit\n"
     ]
    },
    {
     "name": "stdout",
     "output_type": "stream",
     "text": [
      "Kootenay River is one of the uppermost major tributaries of the Columbia River, the largest North American river that empties into the Pacific Ocean.\n",
      "++++++++++++++++++++++++++++++++++++\n",
      "[{'drainage basin': 'Kootenay River'}]\n",
      "++++++++++++++++++++++++++++++++++++\n",
      "{'triplets': []}\n",
      "====================================\n",
      "{'model1': 'llama-2-7b.Q4_0.gguf', 'model2': 'llama-2-7b.Q4_0.gguf', 'sent': 'Kootenay River is one of the uppermost major tributaries of the Columbia River, the largest North American river that empties into the Pacific Ocean.', 'triples': []}\n",
      "====================================\n"
     ]
    },
    {
     "name": "stderr",
     "output_type": "stream",
     "text": [
      "\n",
      "llama_print_timings:        load time =    4136.51 ms\n",
      "llama_print_timings:      sample time =      43.01 ms /   256 runs   (    0.17 ms per token,  5952.80 tokens per second)\n",
      "llama_print_timings: prompt eval time =     417.54 ms /    39 tokens (   10.71 ms per token,    93.40 tokens per second)\n",
      "llama_print_timings:        eval time =    8237.92 ms /   255 runs   (   32.31 ms per token,    30.95 tokens per second)\n",
      "llama_print_timings:       total time =    9066.48 ms /   294 tokens\n",
      " 60%|█████▉    | 94/157 [14:48<09:39,  9.19s/it]Llama.generate: prefix-match hit\n"
     ]
    },
    {
     "name": "stdout",
     "output_type": "stream",
     "text": [
      "Salzach's largest tributaries are Lammer, Berchtesgadener Ache, Saalach, Sur and GÃ¶tzinger Achen.\n",
      "++++++++++++++++++++++++++++++++++++\n",
      "[{'drainage basin': 'Salzach'}]\n",
      "++++++++++++++++++++++++++++++++++++\n",
      "{'triplets': []}\n",
      "====================================\n",
      "{'model1': 'llama-2-7b.Q4_0.gguf', 'model2': 'llama-2-7b.Q4_0.gguf', 'sent': \"Salzach's largest tributaries are Lammer, Berchtesgadener Ache, Saalach, Sur and GÃ¶tzinger Achen.\", 'triples': []}\n",
      "====================================\n"
     ]
    },
    {
     "name": "stderr",
     "output_type": "stream",
     "text": [
      "\n",
      "llama_print_timings:        load time =    4136.51 ms\n",
      "llama_print_timings:      sample time =      42.79 ms /   256 runs   (    0.17 ms per token,  5982.85 tokens per second)\n",
      "llama_print_timings: prompt eval time =     411.53 ms /    48 tokens (    8.57 ms per token,   116.64 tokens per second)\n",
      "llama_print_timings:        eval time =    8284.35 ms /   256 runs   (   32.36 ms per token,    30.90 tokens per second)\n",
      "llama_print_timings:       total time =    9096.99 ms /   304 tokens\n",
      " 61%|██████    | 95/157 [14:57<09:28,  9.17s/it]Llama.generate: prefix-match hit\n"
     ]
    },
    {
     "name": "stdout",
     "output_type": "stream",
     "text": [
      "Edward River, or Kyalite River, an anabranch of the Murray River and part of the Murray-Darling basin, is located in the western Riverina region of south western New South Wales, Australia.\n",
      "++++++++++++++++++++++++++++++++++++\n",
      "[{'drainage basin': 'Murray-Darling basin'}]\n",
      "++++++++++++++++++++++++++++++++++++\n",
      "{'triplets': []}\n",
      "====================================\n",
      "{'model1': 'llama-2-7b.Q4_0.gguf', 'model2': 'llama-2-7b.Q4_0.gguf', 'sent': 'Edward River, or Kyalite River, an anabranch of the Murray River and part of the Murray-Darling basin, is located in the western Riverina region of south western New South Wales, Australia.', 'triples': []}\n",
      "====================================\n"
     ]
    },
    {
     "name": "stderr",
     "output_type": "stream",
     "text": [
      "\n",
      "llama_print_timings:        load time =    4136.51 ms\n",
      "llama_print_timings:      sample time =      43.21 ms /   256 runs   (    0.17 ms per token,  5924.14 tokens per second)\n",
      "llama_print_timings: prompt eval time =     137.74 ms /    15 tokens (    9.18 ms per token,   108.90 tokens per second)\n",
      "llama_print_timings:        eval time =    8214.89 ms /   255 runs   (   32.22 ms per token,    31.04 tokens per second)\n",
      "llama_print_timings:       total time =    8754.00 ms /   270 tokens\n",
      " 61%|██████    | 96/157 [15:06<09:11,  9.04s/it]Llama.generate: prefix-match hit\n"
     ]
    },
    {
     "name": "stdout",
     "output_type": "stream",
     "text": [
      "It is located near the slightly higher Hoh Brisen.\n",
      "++++++++++++++++++++++++++++++++++++\n",
      "[{'mountain': 'Hoh Brisen'}]\n",
      "++++++++++++++++++++++++++++++++++++\n",
      "{'triplets': []}\n",
      "====================================\n",
      "{'model1': 'llama-2-7b.Q4_0.gguf', 'model2': 'llama-2-7b.Q4_0.gguf', 'sent': 'It is located near the slightly higher Hoh Brisen.', 'triples': []}\n",
      "====================================\n"
     ]
    },
    {
     "name": "stderr",
     "output_type": "stream",
     "text": [
      "\n",
      "llama_print_timings:        load time =    4136.51 ms\n",
      "llama_print_timings:      sample time =      42.30 ms /   256 runs   (    0.17 ms per token,  6051.72 tokens per second)\n",
      "llama_print_timings: prompt eval time =     410.44 ms /    40 tokens (   10.26 ms per token,    97.46 tokens per second)\n",
      "llama_print_timings:        eval time =    8245.25 ms /   255 runs   (   32.33 ms per token,    30.93 tokens per second)\n",
      "llama_print_timings:       total time =    9049.48 ms /   295 tokens\n",
      " 62%|██████▏   | 97/157 [15:15<09:02,  9.05s/it]Llama.generate: prefix-match hit\n"
     ]
    },
    {
     "name": "stdout",
     "output_type": "stream",
     "text": [
      "The race was won by home rider Stefan Denifl (Aqua Blue Sport), who took the first victory of 2017 Tour of Austria's professional career.\n",
      "++++++++++++++++++++++++++++++++++++\n",
      "[{'cycling race': 'Tour of Austria'}]\n",
      "++++++++++++++++++++++++++++++++++++\n",
      "{'triplets': []}\n",
      "====================================\n",
      "{'model1': 'llama-2-7b.Q4_0.gguf', 'model2': 'llama-2-7b.Q4_0.gguf', 'sent': \"The race was won by home rider Stefan Denifl (Aqua Blue Sport), who took the first victory of 2017 Tour of Austria's professional career.\", 'triples': []}\n",
      "====================================\n"
     ]
    },
    {
     "name": "stderr",
     "output_type": "stream",
     "text": [
      "\n",
      "llama_print_timings:        load time =    4136.51 ms\n",
      "llama_print_timings:      sample time =      42.69 ms /   256 runs   (    0.17 ms per token,  5996.72 tokens per second)\n",
      "llama_print_timings: prompt eval time =     684.95 ms /    70 tokens (    9.79 ms per token,   102.20 tokens per second)\n",
      "llama_print_timings:        eval time =    8288.50 ms /   255 runs   (   32.50 ms per token,    30.77 tokens per second)\n",
      "llama_print_timings:       total time =    9374.92 ms /   325 tokens\n",
      " 62%|██████▏   | 98/157 [15:24<08:59,  9.15s/it]Llama.generate: prefix-match hit\n"
     ]
    },
    {
     "name": "stdout",
     "output_type": "stream",
     "text": [
      "The Japanese wobbegong (Orectolobus japonicus) is a carpet shark in the family Orectolobidae of the wobbegong family, found in the tropical western Pacific Ocean from Japan and Korea to Viet Nam and the Philippines, between latitudes 43 and 6Â°N.\n",
      "++++++++++++++++++++++++++++++++++++\n",
      "[{'taxon': 'Orectolobus japonicus'}]\n",
      "++++++++++++++++++++++++++++++++++++\n",
      "{'triplets': []}\n",
      "====================================\n",
      "{'model1': 'llama-2-7b.Q4_0.gguf', 'model2': 'llama-2-7b.Q4_0.gguf', 'sent': 'The Japanese wobbegong (Orectolobus japonicus) is a carpet shark in the family Orectolobidae of the wobbegong family, found in the tropical western Pacific Ocean from Japan and Korea to Viet Nam and the Philippines, between latitudes 43 and 6Â°N.', 'triples': []}\n",
      "====================================\n"
     ]
    },
    {
     "name": "stderr",
     "output_type": "stream",
     "text": [
      "\n",
      "llama_print_timings:        load time =    4136.51 ms\n",
      "llama_print_timings:      sample time =      42.86 ms /   256 runs   (    0.17 ms per token,  5973.63 tokens per second)\n",
      "llama_print_timings: prompt eval time =     406.68 ms /    37 tokens (   10.99 ms per token,    90.98 tokens per second)\n",
      "llama_print_timings:        eval time =    8237.31 ms /   255 runs   (   32.30 ms per token,    30.96 tokens per second)\n",
      "llama_print_timings:       total time =    9042.64 ms /   292 tokens\n",
      " 63%|██████▎   | 99/157 [15:33<08:48,  9.12s/it]Llama.generate: prefix-match hit\n"
     ]
    },
    {
     "name": "stdout",
     "output_type": "stream",
     "text": [
      "Canal through Zuid-Beveland connects the Western Scheldt (to the south of the canal) and the Eastern Scheldt (to the north).\n",
      "++++++++++++++++++++++++++++++++++++\n",
      "[{'watercourse': 'Western Scheldt'}]\n",
      "++++++++++++++++++++++++++++++++++++\n",
      "{'triplets': []}\n",
      "====================================\n",
      "{'model1': 'llama-2-7b.Q4_0.gguf', 'model2': 'llama-2-7b.Q4_0.gguf', 'sent': 'Canal through Zuid-Beveland connects the Western Scheldt (to the south of the canal) and the Eastern Scheldt (to the north).', 'triples': []}\n",
      "====================================\n"
     ]
    },
    {
     "name": "stderr",
     "output_type": "stream",
     "text": [
      "\n",
      "llama_print_timings:        load time =    4136.51 ms\n",
      "llama_print_timings:      sample time =      42.62 ms /   256 runs   (    0.17 ms per token,  6005.87 tokens per second)\n",
      "llama_print_timings: prompt eval time =     408.73 ms /    37 tokens (   11.05 ms per token,    90.52 tokens per second)\n",
      "llama_print_timings:        eval time =    8241.05 ms /   255 runs   (   32.32 ms per token,    30.94 tokens per second)\n",
      "llama_print_timings:       total time =    9046.29 ms /   292 tokens\n",
      " 64%|██████▎   | 100/157 [15:42<08:38,  9.10s/it]Llama.generate: prefix-match hit\n"
     ]
    },
    {
     "name": "stdout",
     "output_type": "stream",
     "text": [
      "Cricotopus is a genus of non-biting midges in the subfamily Orthocladiinae of the bloodworm family Chironomidae.\n",
      "++++++++++++++++++++++++++++++++++++\n",
      "[{'taxon': 'Cricotopus'}]\n",
      "++++++++++++++++++++++++++++++++++++\n",
      "{'triplets': []}\n",
      "====================================\n",
      "{'model1': 'llama-2-7b.Q4_0.gguf', 'model2': 'llama-2-7b.Q4_0.gguf', 'sent': 'Cricotopus is a genus of non-biting midges in the subfamily Orthocladiinae of the bloodworm family Chironomidae.', 'triples': []}\n",
      "====================================\n"
     ]
    },
    {
     "name": "stderr",
     "output_type": "stream",
     "text": [
      "\n",
      "llama_print_timings:        load time =    4136.51 ms\n",
      "llama_print_timings:      sample time =      42.77 ms /   256 runs   (    0.17 ms per token,  5985.22 tokens per second)\n",
      "llama_print_timings: prompt eval time =     406.70 ms /    36 tokens (   11.30 ms per token,    88.52 tokens per second)\n",
      "llama_print_timings:        eval time =    8242.12 ms /   255 runs   (   32.32 ms per token,    30.94 tokens per second)\n",
      "llama_print_timings:       total time =    9049.08 ms /   291 tokens\n",
      " 64%|██████▍   | 101/157 [15:51<08:28,  9.08s/it]Llama.generate: prefix-match hit\n"
     ]
    },
    {
     "name": "stdout",
     "output_type": "stream",
     "text": [
      "The Cima di Broglio is a mountain of the Swiss Lepontine Alps, located east of Cevio in the canton of Ticino.\n",
      "++++++++++++++++++++++++++++++++++++\n",
      "[{'mountain': 'Cima di Broglio'}]\n",
      "++++++++++++++++++++++++++++++++++++\n",
      "{'triplets': []}\n",
      "====================================\n",
      "{'model1': 'llama-2-7b.Q4_0.gguf', 'model2': 'llama-2-7b.Q4_0.gguf', 'sent': 'The Cima di Broglio is a mountain of the Swiss Lepontine Alps, located east of Cevio in the canton of Ticino.', 'triples': []}\n",
      "====================================\n"
     ]
    },
    {
     "name": "stderr",
     "output_type": "stream",
     "text": [
      "\n",
      "llama_print_timings:        load time =    4136.51 ms\n",
      "llama_print_timings:      sample time =      42.36 ms /   256 runs   (    0.17 ms per token,  6044.01 tokens per second)\n",
      "llama_print_timings: prompt eval time =     406.47 ms /    34 tokens (   11.96 ms per token,    83.65 tokens per second)\n",
      "llama_print_timings:        eval time =    8249.14 ms /   255 runs   (   32.35 ms per token,    30.91 tokens per second)\n",
      "llama_print_timings:       total time =    9049.45 ms /   289 tokens\n",
      " 65%|██████▍   | 102/157 [16:00<08:19,  9.08s/it]Llama.generate: prefix-match hit\n"
     ]
    },
    {
     "name": "stdout",
     "output_type": "stream",
     "text": [
      "Denison Dam, also known as Lake Texoma Dam, is a dam located on the Red River between Texas and Oklahoma that impounds Lake Texoma.\n",
      "++++++++++++++++++++++++++++++++++++\n",
      "[{'dam': 'Denison Dam'}]\n",
      "++++++++++++++++++++++++++++++++++++\n",
      "{'triplets': []}\n",
      "====================================\n",
      "{'model1': 'llama-2-7b.Q4_0.gguf', 'model2': 'llama-2-7b.Q4_0.gguf', 'sent': 'Denison Dam, also known as Lake Texoma Dam, is a dam located on the Red River between Texas and Oklahoma that impounds Lake Texoma.', 'triples': []}\n",
      "====================================\n"
     ]
    },
    {
     "name": "stderr",
     "output_type": "stream",
     "text": [
      "\n",
      "llama_print_timings:        load time =    4136.51 ms\n",
      "llama_print_timings:      sample time =      42.84 ms /   256 runs   (    0.17 ms per token,  5975.72 tokens per second)\n",
      "llama_print_timings: prompt eval time =     274.91 ms /    32 tokens (    8.59 ms per token,   116.40 tokens per second)\n",
      "llama_print_timings:        eval time =    8232.35 ms /   255 runs   (   32.28 ms per token,    30.98 tokens per second)\n",
      "llama_print_timings:       total time =    8907.98 ms /   287 tokens\n",
      " 66%|██████▌   | 103/157 [16:09<08:07,  9.03s/it]Llama.generate: prefix-match hit\n"
     ]
    },
    {
     "name": "stdout",
     "output_type": "stream",
     "text": [
      "The dam lies east of Rancho Calaveras and impounds New Hogan Lake in the foothills of the Sierra Nevada.\n",
      "++++++++++++++++++++++++++++++++++++\n",
      "[{'reservoir': 'New Hogan Lake'}]\n",
      "++++++++++++++++++++++++++++++++++++\n",
      "{'triplets': []}\n",
      "====================================\n",
      "{'model1': 'llama-2-7b.Q4_0.gguf', 'model2': 'llama-2-7b.Q4_0.gguf', 'sent': 'The dam lies east of Rancho Calaveras and impounds New Hogan Lake in the foothills of the Sierra Nevada.', 'triples': []}\n",
      "====================================\n"
     ]
    },
    {
     "name": "stderr",
     "output_type": "stream",
     "text": [
      "\n",
      "llama_print_timings:        load time =    4136.51 ms\n",
      "llama_print_timings:      sample time =      42.86 ms /   256 runs   (    0.17 ms per token,  5972.66 tokens per second)\n",
      "llama_print_timings: prompt eval time =     551.39 ms /    60 tokens (    9.19 ms per token,   108.82 tokens per second)\n",
      "llama_print_timings:        eval time =    8276.68 ms /   255 runs   (   32.46 ms per token,    30.81 tokens per second)\n",
      "llama_print_timings:       total time =    9228.07 ms /   315 tokens\n",
      " 66%|██████▌   | 104/157 [16:19<08:01,  9.09s/it]Llama.generate: prefix-match hit\n"
     ]
    },
    {
     "name": "stdout",
     "output_type": "stream",
     "text": [
      "Steinkjerelva forms at the confluence between the rivers Byaelva and Ogna at Guldbergaunet and flows through the town of Steinkjer before flowing into Beitstadfjorden, the inner part of the Trondheimsfjord.\n",
      "++++++++++++++++++++++++++++++++++++\n",
      "[{'watercourse': 'Steinkjerelva'}]\n",
      "++++++++++++++++++++++++++++++++++++\n",
      "{'triplets': []}\n",
      "====================================\n",
      "{'model1': 'llama-2-7b.Q4_0.gguf', 'model2': 'llama-2-7b.Q4_0.gguf', 'sent': 'Steinkjerelva forms at the confluence between the rivers Byaelva and Ogna at Guldbergaunet and flows through the town of Steinkjer before flowing into Beitstadfjorden, the inner part of the Trondheimsfjord.', 'triples': []}\n",
      "====================================\n"
     ]
    },
    {
     "name": "stderr",
     "output_type": "stream",
     "text": [
      "\n",
      "llama_print_timings:        load time =    4136.51 ms\n",
      "llama_print_timings:      sample time =      43.41 ms /   256 runs   (    0.17 ms per token,  5897.94 tokens per second)\n",
      "llama_print_timings: prompt eval time =     273.04 ms /    29 tokens (    9.42 ms per token,   106.21 tokens per second)\n",
      "llama_print_timings:        eval time =    8238.65 ms /   255 runs   (   32.31 ms per token,    30.95 tokens per second)\n",
      "llama_print_timings:       total time =    8914.40 ms /   284 tokens\n",
      " 67%|██████▋   | 105/157 [16:28<07:49,  9.04s/it]Llama.generate: prefix-match hit\n"
     ]
    },
    {
     "name": "stdout",
     "output_type": "stream",
     "text": [
      "Tridesmostemon is a genus of the plant family Sapotaceae described as a genus in 1905.\n",
      "++++++++++++++++++++++++++++++++++++\n",
      "[{'taxon': 'Tridesmostemon'}]\n",
      "++++++++++++++++++++++++++++++++++++\n",
      "{'triplets': []}\n",
      "====================================\n",
      "{'model1': 'llama-2-7b.Q4_0.gguf', 'model2': 'llama-2-7b.Q4_0.gguf', 'sent': 'Tridesmostemon is a genus of the plant family Sapotaceae described as a genus in 1905.', 'triples': []}\n",
      "====================================\n"
     ]
    },
    {
     "name": "stderr",
     "output_type": "stream",
     "text": [
      "\n",
      "llama_print_timings:        load time =    4136.51 ms\n",
      "llama_print_timings:      sample time =      43.05 ms /   256 runs   (    0.17 ms per token,  5946.02 tokens per second)\n",
      "llama_print_timings: prompt eval time =     550.01 ms /    64 tokens (    8.59 ms per token,   116.36 tokens per second)\n",
      "llama_print_timings:        eval time =    8314.62 ms /   256 runs   (   32.48 ms per token,    30.79 tokens per second)\n",
      "llama_print_timings:       total time =    9268.72 ms /   320 tokens\n",
      " 68%|██████▊   | 106/157 [16:37<07:44,  9.11s/it]Llama.generate: prefix-match hit\n"
     ]
    },
    {
     "name": "stdout",
     "output_type": "stream",
     "text": [
      "Carter Jones (Bissell) prevailed in the mountains classification thanks to 2013 Tour of California's participation in numerous breakaways, and Lawson Craddock of Bontrager Cycling Team earned the youth classification jersey at 21 years of age.\n",
      "++++++++++++++++++++++++++++++++++++\n",
      "[{'mountain range': 'Queen Fabiola Mountains'}]\n",
      "++++++++++++++++++++++++++++++++++++\n",
      "{'triplets': []}\n",
      "====================================\n",
      "{'model1': 'llama-2-7b.Q4_0.gguf', 'model2': 'llama-2-7b.Q4_0.gguf', 'sent': \"Carter Jones (Bissell) prevailed in the mountains classification thanks to 2013 Tour of California's participation in numerous breakaways, and Lawson Craddock of Bontrager Cycling Team earned the youth classification jersey at 21 years of age.\", 'triples': []}\n",
      "====================================\n"
     ]
    },
    {
     "name": "stderr",
     "output_type": "stream",
     "text": [
      "\n",
      "llama_print_timings:        load time =    4136.51 ms\n",
      "llama_print_timings:      sample time =      42.01 ms /   256 runs   (    0.16 ms per token,  6093.64 tokens per second)\n",
      "llama_print_timings: prompt eval time =     413.77 ms /    46 tokens (    8.99 ms per token,   111.17 tokens per second)\n",
      "llama_print_timings:        eval time =    8253.71 ms /   255 runs   (   32.37 ms per token,    30.90 tokens per second)\n",
      "llama_print_timings:       total time =    9058.39 ms /   301 tokens\n",
      " 68%|██████▊   | 107/157 [16:46<07:34,  9.10s/it]Llama.generate: prefix-match hit\n"
     ]
    },
    {
     "name": "stdout",
     "output_type": "stream",
     "text": [
      "The mountains classification jersey went to Italian Daniel Oss of BMC Racing Team, while Julian Alaphilippe took the best young rider's jersey and the queen stage 7.\n",
      "++++++++++++++++++++++++++++++++++++\n",
      "[{'mountain range': 'Alps'}]\n",
      "++++++++++++++++++++++++++++++++++++\n",
      "{'triplets': []}\n",
      "====================================\n",
      "{'model1': 'llama-2-7b.Q4_0.gguf', 'model2': 'llama-2-7b.Q4_0.gguf', 'sent': \"The mountains classification jersey went to Italian Daniel Oss of BMC Racing Team, while Julian Alaphilippe took the best young rider's jersey and the queen stage 7.\", 'triples': []}\n",
      "====================================\n"
     ]
    },
    {
     "name": "stderr",
     "output_type": "stream",
     "text": [
      "\n",
      "llama_print_timings:        load time =    4136.51 ms\n",
      "llama_print_timings:      sample time =      42.51 ms /   256 runs   (    0.17 ms per token,  6022.82 tokens per second)\n",
      "llama_print_timings: prompt eval time =     135.56 ms /    16 tokens (    8.47 ms per token,   118.03 tokens per second)\n",
      "llama_print_timings:        eval time =    8246.17 ms /   256 runs   (   32.21 ms per token,    31.04 tokens per second)\n",
      "llama_print_timings:       total time =    8776.81 ms /   272 tokens\n",
      " 69%|██████▉   | 108/157 [16:55<07:21,  9.00s/it]Llama.generate: prefix-match hit\n"
     ]
    },
    {
     "name": "stdout",
     "output_type": "stream",
     "text": [
      "The reservoir behind the dam is named Lake Revelstoke.\n",
      "++++++++++++++++++++++++++++++++++++\n",
      "[{'reservoir': 'Lake Revelstoke'}]\n",
      "++++++++++++++++++++++++++++++++++++\n",
      "{'triplets': []}\n",
      "====================================\n",
      "{'model1': 'llama-2-7b.Q4_0.gguf', 'model2': 'llama-2-7b.Q4_0.gguf', 'sent': 'The reservoir behind the dam is named Lake Revelstoke.', 'triples': []}\n",
      "====================================\n"
     ]
    },
    {
     "name": "stderr",
     "output_type": "stream",
     "text": [
      "\n",
      "llama_print_timings:        load time =    4136.51 ms\n",
      "llama_print_timings:      sample time =      42.69 ms /   256 runs   (    0.17 ms per token,  5997.42 tokens per second)\n",
      "llama_print_timings: prompt eval time =     410.94 ms /    39 tokens (   10.54 ms per token,    94.91 tokens per second)\n",
      "llama_print_timings:        eval time =    8245.96 ms /   255 runs   (   32.34 ms per token,    30.92 tokens per second)\n",
      "llama_print_timings:       total time =    9053.96 ms /   294 tokens\n",
      " 69%|██████▉   | 109/157 [17:04<07:12,  9.02s/it]Llama.generate: prefix-match hit\n"
     ]
    },
    {
     "name": "stdout",
     "output_type": "stream",
     "text": [
      "Bhut jolokia is a hybrid of Capsicum chinense and Capsicum frutescens and is closely related to the Naga Morich.\n",
      "++++++++++++++++++++++++++++++++++++\n",
      "[{'taxon': 'Capsicum chinense'}]\n",
      "++++++++++++++++++++++++++++++++++++\n",
      "{'triplets': []}\n",
      "====================================\n",
      "{'model1': 'llama-2-7b.Q4_0.gguf', 'model2': 'llama-2-7b.Q4_0.gguf', 'sent': 'Bhut jolokia is a hybrid of Capsicum chinense and Capsicum frutescens and is closely related to the Naga Morich.', 'triples': []}\n",
      "====================================\n"
     ]
    },
    {
     "name": "stderr",
     "output_type": "stream",
     "text": [
      "\n",
      "llama_print_timings:        load time =    4136.51 ms\n",
      "llama_print_timings:      sample time =      42.80 ms /   256 runs   (    0.17 ms per token,  5980.89 tokens per second)\n",
      "llama_print_timings: prompt eval time =     409.65 ms /    39 tokens (   10.50 ms per token,    95.20 tokens per second)\n",
      "llama_print_timings:        eval time =    8238.11 ms /   255 runs   (   32.31 ms per token,    30.95 tokens per second)\n",
      "llama_print_timings:       total time =    9046.66 ms /   294 tokens\n",
      " 70%|███████   | 110/157 [17:13<07:04,  9.03s/it]Llama.generate: prefix-match hit\n"
     ]
    },
    {
     "name": "stdout",
     "output_type": "stream",
     "text": [
      "The rough-legged buzzard (Buteo lagopus), also called the rough-legged hawk, is a medium-large bird of prey.\n",
      "++++++++++++++++++++++++++++++++++++\n",
      "[{'taxon': 'Buteo lagopus'}]\n",
      "++++++++++++++++++++++++++++++++++++\n",
      "{'triplets': []}\n",
      "====================================\n",
      "{'model1': 'llama-2-7b.Q4_0.gguf', 'model2': 'llama-2-7b.Q4_0.gguf', 'sent': 'The rough-legged buzzard (Buteo lagopus), also called the rough-legged hawk, is a medium-large bird of prey.', 'triples': []}\n",
      "====================================\n"
     ]
    },
    {
     "name": "stderr",
     "output_type": "stream",
     "text": [
      "\n",
      "llama_print_timings:        load time =    4136.51 ms\n",
      "llama_print_timings:      sample time =      42.06 ms /   256 runs   (    0.16 ms per token,  6087.12 tokens per second)\n",
      "llama_print_timings: prompt eval time =     684.29 ms /    74 tokens (    9.25 ms per token,   108.14 tokens per second)\n",
      "llama_print_timings:        eval time =    8291.88 ms /   255 runs   (   32.52 ms per token,    30.75 tokens per second)\n",
      "llama_print_timings:       total time =    9368.65 ms /   329 tokens\n",
      " 71%|███████   | 111/157 [17:22<07:00,  9.13s/it]Llama.generate: prefix-match hit\n"
     ]
    },
    {
     "name": "stdout",
     "output_type": "stream",
     "text": [
      "Celestial Peak (69Â°33S 158Â°3E) is a granite peak, 1,280 metres (4,200Â ft) high, 8 nautical miles (15Â km) north of Mount Blowaway in the Wilson Hills.\n",
      "++++++++++++++++++++++++++++++++++++\n",
      "[{'mountain': 'Celestial Peak'}]\n",
      "++++++++++++++++++++++++++++++++++++\n",
      "{'triplets': []}\n",
      "====================================\n",
      "{'model1': 'llama-2-7b.Q4_0.gguf', 'model2': 'llama-2-7b.Q4_0.gguf', 'sent': 'Celestial Peak (69Â°33S 158Â°3E) is a granite peak, 1,280 metres (4,200Â\\xa0ft) high, 8 nautical miles (15Â\\xa0km) north of Mount Blowaway in the Wilson Hills.', 'triples': []}\n",
      "====================================\n"
     ]
    },
    {
     "name": "stderr",
     "output_type": "stream",
     "text": [
      "\n",
      "llama_print_timings:        load time =    4136.51 ms\n",
      "llama_print_timings:      sample time =      43.11 ms /   256 runs   (    0.17 ms per token,  5938.85 tokens per second)\n",
      "llama_print_timings: prompt eval time =     409.58 ms /    45 tokens (    9.10 ms per token,   109.87 tokens per second)\n",
      "llama_print_timings:        eval time =    8259.65 ms /   255 runs   (   32.39 ms per token,    30.87 tokens per second)\n",
      "llama_print_timings:       total time =    9068.38 ms /   300 tokens\n",
      " 71%|███████▏  | 112/157 [17:31<06:50,  9.11s/it]Llama.generate: prefix-match hit\n"
     ]
    },
    {
     "name": "stdout",
     "output_type": "stream",
     "text": [
      "Ben Loyal is a Corbett located south of the Kyle of Tongue and offers good views of the Kyle, Loch Loyal to the east, and Ben Hope to the west.\n",
      "++++++++++++++++++++++++++++++++++++\n",
      "[{'mountain': 'Ben Loyal'}]\n",
      "++++++++++++++++++++++++++++++++++++\n",
      "{'triplets': []}\n",
      "====================================\n",
      "{'model1': 'llama-2-7b.Q4_0.gguf', 'model2': 'llama-2-7b.Q4_0.gguf', 'sent': 'Ben Loyal is a Corbett located south of the Kyle of Tongue and offers good views of the Kyle, Loch Loyal to the east, and Ben Hope to the west.', 'triples': []}\n",
      "====================================\n"
     ]
    },
    {
     "name": "stderr",
     "output_type": "stream",
     "text": [
      "\n",
      "llama_print_timings:        load time =    4136.51 ms\n",
      "llama_print_timings:      sample time =      42.81 ms /   256 runs   (    0.17 ms per token,  5980.19 tokens per second)\n",
      "llama_print_timings: prompt eval time =     547.36 ms /    53 tokens (   10.33 ms per token,    96.83 tokens per second)\n",
      "llama_print_timings:        eval time =    8275.43 ms /   255 runs   (   32.45 ms per token,    30.81 tokens per second)\n",
      "llama_print_timings:       total time =    9293.09 ms /   308 tokens\n",
      " 72%|███████▏  | 113/157 [17:41<06:43,  9.17s/it]Llama.generate: prefix-match hit\n"
     ]
    },
    {
     "name": "stdout",
     "output_type": "stream",
     "text": [
      "Nichols Rock (75Â°23S 139Â°13W) is a rock on the west side of Kinsey Ridge, which lies in the middle of Strauss Glacier in Marie Byrd Land.\n",
      "++++++++++++++++++++++++++++++++++++\n",
      "[{'mountain': 'Kinsey Ridge'}]\n",
      "++++++++++++++++++++++++++++++++++++\n",
      "{'triplets': []}\n",
      "====================================\n",
      "{'model1': 'llama-2-7b.Q4_0.gguf', 'model2': 'llama-2-7b.Q4_0.gguf', 'sent': 'Nichols Rock (75Â°23S 139Â°13W) is a rock on the west side of Kinsey Ridge, which lies in the middle of Strauss Glacier in Marie Byrd Land.', 'triples': []}\n",
      "====================================\n"
     ]
    },
    {
     "name": "stderr",
     "output_type": "stream",
     "text": [
      "\n",
      "llama_print_timings:        load time =    4136.51 ms\n",
      "llama_print_timings:      sample time =      42.86 ms /   256 runs   (    0.17 ms per token,  5972.94 tokens per second)\n",
      "llama_print_timings: prompt eval time =     550.52 ms /    61 tokens (    9.02 ms per token,   110.80 tokens per second)\n",
      "llama_print_timings:        eval time =    8281.70 ms /   255 runs   (   32.48 ms per token,    30.79 tokens per second)\n",
      "llama_print_timings:       total time =    9233.92 ms /   316 tokens\n",
      " 73%|███████▎  | 114/157 [17:50<06:35,  9.19s/it]Llama.generate: prefix-match hit\n"
     ]
    },
    {
     "name": "stdout",
     "output_type": "stream",
     "text": [
      "Aerides, known commonly as cat's-tail orchids and fox brush orchids,  is a genus belonging to the orchid family (Orchidaceae, subfamily Epidendroideae, tribe Vandeae, subtribe Aeridinae).\n",
      "++++++++++++++++++++++++++++++++++++\n",
      "[{'taxon': 'Aerides'}]\n",
      "++++++++++++++++++++++++++++++++++++\n",
      "{'triplets': []}\n",
      "====================================\n",
      "{'model1': 'llama-2-7b.Q4_0.gguf', 'model2': 'llama-2-7b.Q4_0.gguf', 'sent': \"Aerides, known commonly as cat's-tail orchids and fox brush orchids,  is a genus belonging to the orchid family (Orchidaceae, subfamily Epidendroideae, tribe Vandeae, subtribe Aeridinae).\", 'triples': []}\n",
      "====================================\n"
     ]
    },
    {
     "name": "stderr",
     "output_type": "stream",
     "text": [
      "\n",
      "llama_print_timings:        load time =    4136.51 ms\n",
      "llama_print_timings:      sample time =      42.68 ms /   256 runs   (    0.17 ms per token,  5998.69 tokens per second)\n",
      "llama_print_timings: prompt eval time =     825.34 ms /    93 tokens (    8.87 ms per token,   112.68 tokens per second)\n",
      "llama_print_timings:        eval time =    8319.12 ms /   255 runs   (   32.62 ms per token,    30.65 tokens per second)\n",
      "llama_print_timings:       total time =    9546.26 ms /   348 tokens\n",
      " 73%|███████▎  | 115/157 [17:59<06:30,  9.30s/it]Llama.generate: prefix-match hit\n"
     ]
    },
    {
     "name": "stdout",
     "output_type": "stream",
     "text": [
      "Mureno Peak (Bulgarian:  , romanized:Â vrah Mureno, IPA:Â [vrx morno]) is the rocky, mostly ice-free peak rising to 1100 m in the north part of Aldomir Ridge on southern Trinity Peninsula in Graham Land, Antarctica, between SjÃ¶gren and Boydell Glaciers.\n",
      "++++++++++++++++++++++++++++++++++++\n",
      "[{'mountain': 'Aldomir Ridge'}]\n",
      "++++++++++++++++++++++++++++++++++++\n",
      "{'triplets': []}\n",
      "====================================\n",
      "{'model1': 'llama-2-7b.Q4_0.gguf', 'model2': 'llama-2-7b.Q4_0.gguf', 'sent': 'Mureno Peak (Bulgarian:  , romanized:Â\\xa0vrah Mureno, IPA:Â\\xa0[vrx morno]) is the rocky, mostly ice-free peak rising to 1100 m in the north part of Aldomir Ridge on southern Trinity Peninsula in Graham Land, Antarctica, between SjÃ¶gren and Boydell Glaciers.', 'triples': []}\n",
      "====================================\n"
     ]
    },
    {
     "name": "stderr",
     "output_type": "stream",
     "text": [
      "\n",
      "llama_print_timings:        load time =    4136.51 ms\n",
      "llama_print_timings:      sample time =      42.11 ms /   256 runs   (    0.16 ms per token,  6078.88 tokens per second)\n",
      "llama_print_timings: prompt eval time =     273.03 ms /    23 tokens (   11.87 ms per token,    84.24 tokens per second)\n",
      "llama_print_timings:        eval time =    8221.62 ms /   255 runs   (   32.24 ms per token,    31.02 tokens per second)\n",
      "llama_print_timings:       total time =    8885.31 ms /   278 tokens\n",
      " 74%|███████▍  | 116/157 [18:08<06:16,  9.18s/it]Llama.generate: prefix-match hit\n"
     ]
    },
    {
     "name": "stdout",
     "output_type": "stream",
     "text": [
      "The dam creates Lake Burley Griffin, that was established for recreational and ornamental purposes.\n",
      "++++++++++++++++++++++++++++++++++++\n",
      "[{'reservoir': 'Lake Burley Griffin'}]\n",
      "++++++++++++++++++++++++++++++++++++\n",
      "{'triplets': []}\n",
      "====================================\n",
      "{'model1': 'llama-2-7b.Q4_0.gguf', 'model2': 'llama-2-7b.Q4_0.gguf', 'sent': 'The dam creates Lake Burley Griffin, that was established for recreational and ornamental purposes.', 'triples': []}\n",
      "====================================\n"
     ]
    },
    {
     "name": "stderr",
     "output_type": "stream",
     "text": [
      "\n",
      "llama_print_timings:        load time =    4136.51 ms\n",
      "llama_print_timings:      sample time =      42.28 ms /   256 runs   (    0.17 ms per token,  6054.73 tokens per second)\n",
      "llama_print_timings: prompt eval time =     407.50 ms /    37 tokens (   11.01 ms per token,    90.80 tokens per second)\n",
      "llama_print_timings:        eval time =    8236.61 ms /   255 runs   (   32.30 ms per token,    30.96 tokens per second)\n",
      "llama_print_timings:       total time =    9038.36 ms /   292 tokens\n",
      " 75%|███████▍  | 117/157 [18:17<06:05,  9.14s/it]Llama.generate: prefix-match hit\n"
     ]
    },
    {
     "name": "stdout",
     "output_type": "stream",
     "text": [
      "Kretania sephirus, previously known as Plebejus sephirus, is a species of butterfly that belongs to the family Lycaenidae.\n",
      "++++++++++++++++++++++++++++++++++++\n",
      "[{'taxon': 'Kretania sephirus'}]\n",
      "++++++++++++++++++++++++++++++++++++\n",
      "{'triplets': []}\n",
      "====================================\n",
      "{'model1': 'llama-2-7b.Q4_0.gguf', 'model2': 'llama-2-7b.Q4_0.gguf', 'sent': 'Kretania sephirus, previously known as Plebejus sephirus, is a species of butterfly that belongs to the family Lycaenidae.', 'triples': []}\n",
      "====================================\n"
     ]
    },
    {
     "name": "stderr",
     "output_type": "stream",
     "text": [
      "\n",
      "llama_print_timings:        load time =    4136.51 ms\n",
      "llama_print_timings:      sample time =      42.72 ms /   256 runs   (    0.17 ms per token,  5992.37 tokens per second)\n",
      "llama_print_timings: prompt eval time =     403.82 ms /    34 tokens (   11.88 ms per token,    84.20 tokens per second)\n",
      "llama_print_timings:        eval time =    8245.02 ms /   255 runs   (   32.33 ms per token,    30.93 tokens per second)\n",
      "llama_print_timings:       total time =    9045.91 ms /   289 tokens\n",
      "Llama.generate: prefix-match hit\n"
     ]
    },
    {
     "name": "stdout",
     "output_type": "stream",
     "text": [
      "North Wabassie River is in the James Bay drainage basin and is a right tributary of the Atikameg River.\n",
      "++++++++++++++++++++++++++++++++++++\n",
      "[{'drainage basin': 'James Bay drainage basin', 'watercourse': 'North Wabassie River'}]\n",
      "++++++++++++++++++++++++++++++++++++\n"
     ]
    },
    {
     "name": "stderr",
     "output_type": "stream",
     "text": [
      "\n",
      "llama_print_timings:        load time =    4136.51 ms\n",
      "llama_print_timings:      sample time =       4.94 ms /    30 runs   (    0.16 ms per token,  6076.56 tokens per second)\n",
      "llama_print_timings: prompt eval time =    3949.91 ms /   480 tokens (    8.23 ms per token,   121.52 tokens per second)\n",
      "llama_print_timings:        eval time =     884.51 ms /    30 runs   (   29.48 ms per token,    33.92 tokens per second)\n",
      "llama_print_timings:       total time =    4912.01 ms /   510 tokens\n",
      " 75%|███████▌  | 118/157 [18:31<06:52, 10.59s/it]Llama.generate: prefix-match hit\n"
     ]
    },
    {
     "name": "stdout",
     "output_type": "stream",
     "text": [
      "[{'sub': 'North Wabassie River', 'rel': 'tributary', 'obj': 'Atikameg River'}]\n",
      "====================================\n",
      "{'model1': 'llama-2-7b.Q4_0.gguf', 'model2': 'llama-2-7b.Q4_0.gguf', 'sent': 'North Wabassie River is in the James Bay drainage basin and is a right tributary of the Atikameg River.', 'triples': [{'sub': 'North Wabassie River', 'rel': 'tributary', 'obj': 'Atikameg River'}]}\n",
      "====================================\n"
     ]
    },
    {
     "name": "stderr",
     "output_type": "stream",
     "text": [
      "\n",
      "llama_print_timings:        load time =    4136.51 ms\n",
      "llama_print_timings:      sample time =      42.66 ms /   256 runs   (    0.17 ms per token,  6000.38 tokens per second)\n",
      "llama_print_timings: prompt eval time =    7604.25 ms /   902 tokens (    8.43 ms per token,   118.62 tokens per second)\n",
      "llama_print_timings:        eval time =    8255.89 ms /   255 runs   (   32.38 ms per token,    30.89 tokens per second)\n",
      "llama_print_timings:       total time =   16316.17 ms /  1157 tokens\n",
      " 76%|███████▌  | 119/157 [18:48<07:47, 12.31s/it]Llama.generate: prefix-match hit\n"
     ]
    },
    {
     "name": "stdout",
     "output_type": "stream",
     "text": [
      "Volp is a right tributary of the Garonne, which it joins upstream of Cazères, Haute-Garonne.\n",
      "++++++++++++++++++++++++++++++++++++\n",
      "[{'watercourse': 'Garonne'}]\n",
      "++++++++++++++++++++++++++++++++++++\n",
      "{'triplets': []}\n",
      "====================================\n",
      "{'model1': 'llama-2-7b.Q4_0.gguf', 'model2': 'llama-2-7b.Q4_0.gguf', 'sent': 'Volp is a right tributary of the Garonne, which it joins upstream of Cazères, Haute-Garonne.', 'triples': []}\n",
      "====================================\n"
     ]
    },
    {
     "name": "stderr",
     "output_type": "stream",
     "text": [
      "\n",
      "llama_print_timings:        load time =    4136.51 ms\n",
      "llama_print_timings:      sample time =      42.87 ms /   256 runs   (    0.17 ms per token,  5972.24 tokens per second)\n",
      "llama_print_timings: prompt eval time =     406.51 ms /    34 tokens (   11.96 ms per token,    83.64 tokens per second)\n",
      "llama_print_timings:        eval time =    8238.43 ms /   255 runs   (   32.31 ms per token,    30.95 tokens per second)\n",
      "llama_print_timings:       total time =    9042.07 ms /   289 tokens\n",
      " 76%|███████▋  | 120/157 [18:57<06:59, 11.33s/it]Llama.generate: prefix-match hit\n"
     ]
    },
    {
     "name": "stdout",
     "output_type": "stream",
     "text": [
      "Barguelonne is a right tributary of the Garonne into which it flows between Golfech and LamagistÃ¨re.\n",
      "++++++++++++++++++++++++++++++++++++\n",
      "[{'watercourse': 'Barguelonne'}]\n",
      "++++++++++++++++++++++++++++++++++++\n",
      "{'triplets': []}\n",
      "====================================\n",
      "{'model1': 'llama-2-7b.Q4_0.gguf', 'model2': 'llama-2-7b.Q4_0.gguf', 'sent': 'Barguelonne is a right tributary of the Garonne into which it flows between Golfech and LamagistÃ¨re.', 'triples': []}\n",
      "====================================\n"
     ]
    },
    {
     "name": "stderr",
     "output_type": "stream",
     "text": [
      "\n",
      "llama_print_timings:        load time =    4136.51 ms\n",
      "llama_print_timings:      sample time =      42.81 ms /   256 runs   (    0.17 ms per token,  5979.63 tokens per second)\n",
      "llama_print_timings: prompt eval time =     270.72 ms /    27 tokens (   10.03 ms per token,    99.74 tokens per second)\n",
      "llama_print_timings:        eval time =    8226.95 ms /   255 runs   (   32.26 ms per token,    31.00 tokens per second)\n",
      "llama_print_timings:       total time =    8894.05 ms /   282 tokens\n",
      " 77%|███████▋  | 121/157 [19:05<06:21, 10.60s/it]Llama.generate: prefix-match hit\n"
     ]
    },
    {
     "name": "stdout",
     "output_type": "stream",
     "text": [
      "Mount Foraker is the second highest peak in the Alaska Range, and the third highest peak in the United States.\n",
      "++++++++++++++++++++++++++++++++++++\n",
      "[{'mountain': 'Mount Foraker'}]\n",
      "++++++++++++++++++++++++++++++++++++\n",
      "{'triplets': []}\n",
      "====================================\n",
      "{'model1': 'llama-2-7b.Q4_0.gguf', 'model2': 'llama-2-7b.Q4_0.gguf', 'sent': 'Mount Foraker is the second highest peak in the Alaska Range, and the third highest peak in the United States.', 'triples': []}\n",
      "====================================\n"
     ]
    },
    {
     "name": "stderr",
     "output_type": "stream",
     "text": [
      "\n",
      "llama_print_timings:        load time =    4136.51 ms\n",
      "llama_print_timings:      sample time =      42.76 ms /   256 runs   (    0.17 ms per token,  5987.46 tokens per second)\n",
      "llama_print_timings: prompt eval time =     410.54 ms /    40 tokens (   10.26 ms per token,    97.43 tokens per second)\n",
      "llama_print_timings:        eval time =    8248.97 ms /   255 runs   (   32.35 ms per token,    30.91 tokens per second)\n",
      "llama_print_timings:       total time =    9056.91 ms /   295 tokens\n",
      " 78%|███████▊  | 122/157 [19:15<05:54, 10.14s/it]Llama.generate: prefix-match hit\n"
     ]
    },
    {
     "name": "stdout",
     "output_type": "stream",
     "text": [
      "Schwabinger Bach starts in the centre of Munich, flows through the Englischer Garten and flows into the Isar near Garching bei MÃ¼nchen.\n",
      "++++++++++++++++++++++++++++++++++++\n",
      "[{'watercourse': 'Schwabinger Bach'}]\n",
      "++++++++++++++++++++++++++++++++++++\n",
      "{'triplets': []}\n",
      "====================================\n",
      "{'model1': 'llama-2-7b.Q4_0.gguf', 'model2': 'llama-2-7b.Q4_0.gguf', 'sent': 'Schwabinger Bach starts in the centre of Munich, flows through the Englischer Garten and flows into the Isar near Garching bei MÃ¼nchen.', 'triples': []}\n",
      "====================================\n"
     ]
    },
    {
     "name": "stderr",
     "output_type": "stream",
     "text": [
      "\n",
      "llama_print_timings:        load time =    4136.51 ms\n",
      "llama_print_timings:      sample time =      42.13 ms /   256 runs   (    0.16 ms per token,  6075.71 tokens per second)\n",
      "llama_print_timings: prompt eval time =     405.80 ms /    34 tokens (   11.94 ms per token,    83.78 tokens per second)\n",
      "llama_print_timings:        eval time =    8234.30 ms /   255 runs   (   32.29 ms per token,    30.97 tokens per second)\n",
      "llama_print_timings:       total time =    9032.48 ms /   289 tokens\n",
      " 78%|███████▊  | 123/157 [19:24<05:33,  9.81s/it]Llama.generate: prefix-match hit\n"
     ]
    },
    {
     "name": "stdout",
     "output_type": "stream",
     "text": [
      "Pointe de Zinal is situated east of the Dent Blanche, between the valleys of Zinal and Zmutt (Zermatt).\n",
      "++++++++++++++++++++++++++++++++++++\n",
      "[{'mountain': 'Dent Blanche'}]\n",
      "++++++++++++++++++++++++++++++++++++\n",
      "{'triplets': []}\n",
      "====================================\n",
      "{'model1': 'llama-2-7b.Q4_0.gguf', 'model2': 'llama-2-7b.Q4_0.gguf', 'sent': 'Pointe de Zinal is situated east of the Dent Blanche, between the valleys of Zinal and Zmutt (Zermatt).', 'triples': []}\n",
      "====================================\n"
     ]
    },
    {
     "name": "stderr",
     "output_type": "stream",
     "text": [
      "\n",
      "llama_print_timings:        load time =    4136.51 ms\n",
      "llama_print_timings:      sample time =      42.88 ms /   256 runs   (    0.17 ms per token,  5970.43 tokens per second)\n",
      "llama_print_timings: prompt eval time =     271.86 ms /    32 tokens (    8.50 ms per token,   117.71 tokens per second)\n",
      "llama_print_timings:        eval time =    8268.96 ms /   256 runs   (   32.30 ms per token,    30.96 tokens per second)\n",
      "llama_print_timings:       total time =    8939.13 ms /   288 tokens\n",
      " 79%|███████▉  | 124/157 [19:33<05:15,  9.55s/it]Llama.generate: prefix-match hit\n"
     ]
    },
    {
     "name": "stdout",
     "output_type": "stream",
     "text": [
      "The rivers Wiltz, Alzette, White Ernz, Black Ernz, Our, and PrÃ¼m are tributaries.\n",
      "++++++++++++++++++++++++++++++++++++\n",
      "[{'watercourse': 'Our'}]\n",
      "++++++++++++++++++++++++++++++++++++\n",
      "{'triplets': []}\n",
      "====================================\n",
      "{'model1': 'llama-2-7b.Q4_0.gguf', 'model2': 'llama-2-7b.Q4_0.gguf', 'sent': 'The rivers Wiltz, Alzette, White Ernz, Black Ernz, Our, and PrÃ¼m are tributaries.', 'triples': []}\n",
      "====================================\n"
     ]
    },
    {
     "name": "stderr",
     "output_type": "stream",
     "text": [
      "\n",
      "llama_print_timings:        load time =    4136.51 ms\n",
      "llama_print_timings:      sample time =      43.46 ms /   256 runs   (    0.17 ms per token,  5891.02 tokens per second)\n",
      "llama_print_timings: prompt eval time =     407.70 ms /    38 tokens (   10.73 ms per token,    93.21 tokens per second)\n",
      "llama_print_timings:        eval time =    8257.36 ms /   255 runs   (   32.38 ms per token,    30.88 tokens per second)\n",
      "llama_print_timings:       total time =    9068.71 ms /   293 tokens\n",
      " 80%|███████▉  | 125/157 [19:42<05:01,  9.41s/it]Llama.generate: prefix-match hit\n"
     ]
    },
    {
     "name": "stdout",
     "output_type": "stream",
     "text": [
      "Piz Fliana is a mountain of the Silvretta Alps, located south of Piz Buin in the Swiss canton of GraubÃ¼nden.\n",
      "++++++++++++++++++++++++++++++++++++\n",
      "[{'mountain': 'Piz Fliana'}]\n",
      "++++++++++++++++++++++++++++++++++++\n",
      "{'triplets': []}\n",
      "====================================\n",
      "{'model1': 'llama-2-7b.Q4_0.gguf', 'model2': 'llama-2-7b.Q4_0.gguf', 'sent': 'Piz Fliana is a mountain of the Silvretta Alps, located south of Piz Buin in the Swiss canton of GraubÃ¼nden.', 'triples': []}\n",
      "====================================\n"
     ]
    },
    {
     "name": "stderr",
     "output_type": "stream",
     "text": [
      "\n",
      "llama_print_timings:        load time =    4136.51 ms\n",
      "llama_print_timings:      sample time =      42.85 ms /   256 runs   (    0.17 ms per token,  5973.91 tokens per second)\n",
      "llama_print_timings: prompt eval time =     406.75 ms /    39 tokens (   10.43 ms per token,    95.88 tokens per second)\n",
      "llama_print_timings:        eval time =    8239.29 ms /   255 runs   (   32.31 ms per token,    30.95 tokens per second)\n",
      "llama_print_timings:       total time =    9043.26 ms /   294 tokens\n",
      " 80%|████████  | 126/157 [19:51<04:48,  9.30s/it]Llama.generate: prefix-match hit\n"
     ]
    },
    {
     "name": "stdout",
     "output_type": "stream",
     "text": [
      "The Bhaga river transverses through narrow gorges a distance of 60 km (37 mi) before the confluence at Tandi.\n",
      "++++++++++++++++++++++++++++++++++++\n",
      "[{'drainage basin': 'Bhaga River'}]\n",
      "++++++++++++++++++++++++++++++++++++\n",
      "{'triplets': []}\n",
      "====================================\n",
      "{'model1': 'llama-2-7b.Q4_0.gguf', 'model2': 'llama-2-7b.Q4_0.gguf', 'sent': 'The Bhaga river transverses through narrow gorges a distance of 60\\xa0km (37\\xa0mi) before the confluence at Tandi.', 'triples': []}\n",
      "====================================\n"
     ]
    },
    {
     "name": "stderr",
     "output_type": "stream",
     "text": [
      "\n",
      "llama_print_timings:        load time =    4136.51 ms\n",
      "llama_print_timings:      sample time =      42.05 ms /   256 runs   (    0.16 ms per token,  6088.57 tokens per second)\n",
      "llama_print_timings: prompt eval time =     136.67 ms /    16 tokens (    8.54 ms per token,   117.07 tokens per second)\n",
      "llama_print_timings:        eval time =    8237.97 ms /   256 runs   (   32.18 ms per token,    31.08 tokens per second)\n",
      "llama_print_timings:       total time =    8763.48 ms /   272 tokens\n",
      " 81%|████████  | 127/157 [19:59<04:34,  9.14s/it]Llama.generate: prefix-match hit\n"
     ]
    },
    {
     "name": "stdout",
     "output_type": "stream",
     "text": [
      "Niger River's main tributary is the Benue River.\n",
      "++++++++++++++++++++++++++++++++++++\n",
      "[{'drainage basin': 'Benue River'}]\n",
      "++++++++++++++++++++++++++++++++++++\n",
      "{'triplets': []}\n",
      "====================================\n",
      "{'model1': 'llama-2-7b.Q4_0.gguf', 'model2': 'llama-2-7b.Q4_0.gguf', 'sent': \"Niger River's main tributary is the Benue River.\", 'triples': []}\n",
      "====================================\n"
     ]
    },
    {
     "name": "stderr",
     "output_type": "stream",
     "text": [
      "\n",
      "llama_print_timings:        load time =    4136.51 ms\n",
      "llama_print_timings:      sample time =      42.69 ms /   256 runs   (    0.17 ms per token,  5996.16 tokens per second)\n",
      "llama_print_timings: prompt eval time =     680.66 ms /    67 tokens (   10.16 ms per token,    98.43 tokens per second)\n",
      "llama_print_timings:        eval time =    8278.25 ms /   255 runs   (   32.46 ms per token,    30.80 tokens per second)\n",
      "llama_print_timings:       total time =    9359.79 ms /   322 tokens\n",
      " 82%|████████▏ | 128/157 [20:09<04:27,  9.21s/it]Llama.generate: prefix-match hit\n"
     ]
    },
    {
     "name": "stdout",
     "output_type": "stream",
     "text": [
      "Brautnuten Peak (71Â°46S 1Â°21W) is a low peak 5 nautical miles (9Â km) southeast of SnÃ¸kallen Hill, on the east side of Ahlmann Ridge in Queen Maud Land.\n",
      "++++++++++++++++++++++++++++++++++++\n",
      "[{'mountain': 'Ahlmann Ridge'}]\n",
      "++++++++++++++++++++++++++++++++++++\n",
      "{'triplets': []}\n",
      "====================================\n",
      "{'model1': 'llama-2-7b.Q4_0.gguf', 'model2': 'llama-2-7b.Q4_0.gguf', 'sent': 'Brautnuten Peak (71Â°46S 1Â°21W) is a low peak 5 nautical miles (9Â\\xa0km) southeast of SnÃ¸kallen Hill, on the east side of Ahlmann Ridge in Queen Maud Land.', 'triples': []}\n",
      "====================================\n"
     ]
    },
    {
     "name": "stderr",
     "output_type": "stream",
     "text": [
      "\n",
      "llama_print_timings:        load time =    4136.51 ms\n",
      "llama_print_timings:      sample time =      42.94 ms /   256 runs   (    0.17 ms per token,  5961.81 tokens per second)\n",
      "llama_print_timings: prompt eval time =     542.92 ms /    52 tokens (   10.44 ms per token,    95.78 tokens per second)\n",
      "llama_print_timings:        eval time =    8256.60 ms /   255 runs   (   32.38 ms per token,    30.88 tokens per second)\n",
      "llama_print_timings:       total time =    9202.00 ms /   307 tokens\n",
      " 82%|████████▏ | 129/157 [20:18<04:17,  9.21s/it]Llama.generate: prefix-match hit\n"
     ]
    },
    {
     "name": "stdout",
     "output_type": "stream",
     "text": [
      "River Artro is about 4.5 miles (7.2Â km) long and has its source at Llyn Cwm Bychan below Rhinog Fawr and Moel Ysgyfarnogod.\n",
      "++++++++++++++++++++++++++++++++++++\n",
      "[{'watercourse': 'River Artro'}]\n",
      "++++++++++++++++++++++++++++++++++++\n",
      "{'triplets': []}\n",
      "====================================\n",
      "{'model1': 'llama-2-7b.Q4_0.gguf', 'model2': 'llama-2-7b.Q4_0.gguf', 'sent': 'River Artro is about 4.5 miles (7.2Â\\xa0km) long and has its source at Llyn Cwm Bychan below Rhinog Fawr and Moel Ysgyfarnogod.', 'triples': []}\n",
      "====================================\n"
     ]
    },
    {
     "name": "stderr",
     "output_type": "stream",
     "text": [
      "\n",
      "llama_print_timings:        load time =    4136.51 ms\n",
      "llama_print_timings:      sample time =      43.01 ms /   256 runs   (    0.17 ms per token,  5952.80 tokens per second)\n",
      "llama_print_timings: prompt eval time =     272.55 ms /    32 tokens (    8.52 ms per token,   117.41 tokens per second)\n",
      "llama_print_timings:        eval time =    8234.92 ms /   255 runs   (   32.29 ms per token,    30.97 tokens per second)\n",
      "llama_print_timings:       total time =    8905.44 ms /   287 tokens\n",
      "Llama.generate: prefix-match hit\n"
     ]
    },
    {
     "name": "stdout",
     "output_type": "stream",
     "text": [
      "Nemegosenda River is in the James Bay drainage basin, and is a right tributary of the Kapuskasing River.\n",
      "++++++++++++++++++++++++++++++++++++\n",
      "[{'drainage basin': 'James Bay drainage basin', 'watercourse': 'Nemegosenda River'}]\n",
      "++++++++++++++++++++++++++++++++++++\n"
     ]
    },
    {
     "name": "stderr",
     "output_type": "stream",
     "text": [
      "\n",
      "llama_print_timings:        load time =    4136.51 ms\n",
      "llama_print_timings:      sample time =       5.33 ms /    28 runs   (    0.19 ms per token,  5258.22 tokens per second)\n",
      "llama_print_timings: prompt eval time =    3947.94 ms /   477 tokens (    8.28 ms per token,   120.82 tokens per second)\n",
      "llama_print_timings:        eval time =     794.98 ms /    27 runs   (   29.44 ms per token,    33.96 tokens per second)\n",
      "llama_print_timings:       total time =    4819.85 ms /   504 tokens\n",
      " 83%|████████▎ | 130/157 [20:32<04:45, 10.57s/it]Llama.generate: prefix-match hit\n"
     ]
    },
    {
     "name": "stdout",
     "output_type": "stream",
     "text": [
      "[{'sub': 'Nemegosenda River', 'rel': 'tributary', 'obj': 'Kapuskasing River'}]\n",
      "====================================\n",
      "{'model1': 'llama-2-7b.Q4_0.gguf', 'model2': 'llama-2-7b.Q4_0.gguf', 'sent': 'Nemegosenda River is in the James Bay drainage basin, and is a right tributary of the Kapuskasing River.', 'triples': [{'sub': 'Nemegosenda River', 'rel': 'tributary', 'obj': 'Kapuskasing River'}]}\n",
      "====================================\n"
     ]
    },
    {
     "name": "stderr",
     "output_type": "stream",
     "text": [
      "\n",
      "llama_print_timings:        load time =    4136.51 ms\n",
      "llama_print_timings:      sample time =      42.79 ms /   256 runs   (    0.17 ms per token,  5982.99 tokens per second)\n",
      "llama_print_timings: prompt eval time =    7603.04 ms /   907 tokens (    8.38 ms per token,   119.29 tokens per second)\n",
      "llama_print_timings:        eval time =    8243.75 ms /   255 runs   (   32.33 ms per token,    30.93 tokens per second)\n",
      "llama_print_timings:       total time =   16305.14 ms /  1162 tokens\n",
      " 83%|████████▎ | 131/157 [20:48<05:19, 12.29s/it]Llama.generate: prefix-match hit\n"
     ]
    },
    {
     "name": "stdout",
     "output_type": "stream",
     "text": [
      "The family belongs to the ostariophysian order Cypriniformes, of whose genera and species the cyprinids make up more than two-thirds.\n",
      "++++++++++++++++++++++++++++++++++++\n",
      "[{'taxon': 'Cypriniformes'}]\n",
      "++++++++++++++++++++++++++++++++++++\n",
      "{'triplets': []}\n",
      "====================================\n",
      "{'model1': 'llama-2-7b.Q4_0.gguf', 'model2': 'llama-2-7b.Q4_0.gguf', 'sent': 'The family belongs to the ostariophysian order Cypriniformes, of whose genera and species the cyprinids make up more than two-thirds.', 'triples': []}\n",
      "====================================\n"
     ]
    },
    {
     "name": "stderr",
     "output_type": "stream",
     "text": [
      "\n",
      "llama_print_timings:        load time =    4136.51 ms\n",
      "llama_print_timings:      sample time =      42.64 ms /   256 runs   (    0.17 ms per token,  6003.89 tokens per second)\n",
      "llama_print_timings: prompt eval time =     411.64 ms /    48 tokens (    8.58 ms per token,   116.61 tokens per second)\n",
      "llama_print_timings:        eval time =    8283.47 ms /   256 runs   (   32.36 ms per token,    30.90 tokens per second)\n",
      "llama_print_timings:       total time =    9093.39 ms /   304 tokens\n",
      " 84%|████████▍ | 132/157 [20:57<04:43, 11.33s/it]Llama.generate: prefix-match hit\n"
     ]
    },
    {
     "name": "stdout",
     "output_type": "stream",
     "text": [
      "Pizzo Pesciora (or Poncione di Pesciora) is a mountain in the Lepontine Alps, located on the border between the Swiss cantons of Valais and Ticino.\n",
      "++++++++++++++++++++++++++++++++++++\n",
      "[{'mountain': 'Pizzo Pesciora'}]\n",
      "++++++++++++++++++++++++++++++++++++\n",
      "{'triplets': []}\n",
      "====================================\n",
      "{'model1': 'llama-2-7b.Q4_0.gguf', 'model2': 'llama-2-7b.Q4_0.gguf', 'sent': 'Pizzo Pesciora (or Poncione di Pesciora) is a mountain in the Lepontine Alps, located on the border between the Swiss cantons of Valais and Ticino.', 'triples': []}\n",
      "====================================\n"
     ]
    },
    {
     "name": "stderr",
     "output_type": "stream",
     "text": [
      "\n",
      "llama_print_timings:        load time =    4136.51 ms\n",
      "llama_print_timings:      sample time =      42.23 ms /   256 runs   (    0.16 ms per token,  6061.47 tokens per second)\n",
      "llama_print_timings: prompt eval time =     407.91 ms /    34 tokens (   12.00 ms per token,    83.35 tokens per second)\n",
      "llama_print_timings:        eval time =    8230.01 ms /   255 runs   (   32.27 ms per token,    30.98 tokens per second)\n",
      "llama_print_timings:       total time =    9029.28 ms /   289 tokens\n",
      " 85%|████████▍ | 133/157 [21:06<04:15, 10.64s/it]Llama.generate: prefix-match hit\n"
     ]
    },
    {
     "name": "stdout",
     "output_type": "stream",
     "text": [
      "The black scoter (M. americana) of North America and eastern Siberia is sometimes considered a subspecies of M. nigra.\n",
      "++++++++++++++++++++++++++++++++++++\n",
      "[{'synonym': 'Melanitta nigra'}]\n",
      "++++++++++++++++++++++++++++++++++++\n",
      "{'triplets': []}\n",
      "====================================\n",
      "{'model1': 'llama-2-7b.Q4_0.gguf', 'model2': 'llama-2-7b.Q4_0.gguf', 'sent': 'The black scoter (M. americana) of North America and eastern Siberia is sometimes considered a subspecies of M. nigra.', 'triples': []}\n",
      "====================================\n"
     ]
    },
    {
     "name": "stderr",
     "output_type": "stream",
     "text": [
      "\n",
      "llama_print_timings:        load time =    4136.51 ms\n",
      "llama_print_timings:      sample time =      43.02 ms /   256 runs   (    0.17 ms per token,  5950.58 tokens per second)\n",
      "llama_print_timings: prompt eval time =     274.54 ms /    29 tokens (    9.47 ms per token,   105.63 tokens per second)\n",
      "llama_print_timings:        eval time =    8228.96 ms /   255 runs   (   32.27 ms per token,    30.99 tokens per second)\n",
      "llama_print_timings:       total time =    8901.46 ms /   284 tokens\n",
      " 85%|████████▌ | 134/157 [21:15<03:52, 10.12s/it]Llama.generate: prefix-match hit\n"
     ]
    },
    {
     "name": "stdout",
     "output_type": "stream",
     "text": [
      "Arthurs galaxias (Paragalaxias mesotes) is a species of fish in the family Galaxiidae.\n",
      "++++++++++++++++++++++++++++++++++++\n",
      "[{'taxon': 'Arthurs galaxias'}]\n",
      "++++++++++++++++++++++++++++++++++++\n",
      "{'triplets': []}\n",
      "====================================\n",
      "{'model1': 'llama-2-7b.Q4_0.gguf', 'model2': 'llama-2-7b.Q4_0.gguf', 'sent': 'Arthurs galaxias (Paragalaxias mesotes) is a species of fish in the family Galaxiidae.', 'triples': []}\n",
      "====================================\n"
     ]
    },
    {
     "name": "stderr",
     "output_type": "stream",
     "text": [
      "\n",
      "llama_print_timings:        load time =    4136.51 ms\n",
      "llama_print_timings:      sample time =      43.07 ms /   256 runs   (    0.17 ms per token,  5943.81 tokens per second)\n",
      "llama_print_timings: prompt eval time =     268.47 ms /    18 tokens (   14.91 ms per token,    67.05 tokens per second)\n",
      "llama_print_timings:        eval time =    8206.39 ms /   255 runs   (   32.18 ms per token,    31.07 tokens per second)\n",
      "llama_print_timings:       total time =    8877.12 ms /   273 tokens\n",
      " 86%|████████▌ | 135/157 [21:24<03:34,  9.75s/it]Llama.generate: prefix-match hit\n"
     ]
    },
    {
     "name": "stdout",
     "output_type": "stream",
     "text": [
      "The race was won by Luis León Sánchez of the Astana team.\n",
      "++++++++++++++++++++++++++++++++++++\n",
      "[{'cycling race': 'Vuelta a España'}]\n",
      "++++++++++++++++++++++++++++++++++++\n",
      "{'triplets': []}\n",
      "====================================\n",
      "{'model1': 'llama-2-7b.Q4_0.gguf', 'model2': 'llama-2-7b.Q4_0.gguf', 'sent': 'The race was won by Luis León Sánchez of the Astana team.', 'triples': []}\n",
      "====================================\n"
     ]
    },
    {
     "name": "stderr",
     "output_type": "stream",
     "text": [
      "\n",
      "llama_print_timings:        load time =    4136.51 ms\n",
      "llama_print_timings:      sample time =      42.67 ms /   256 runs   (    0.17 ms per token,  5999.11 tokens per second)\n",
      "llama_print_timings: prompt eval time =     275.01 ms /    32 tokens (    8.59 ms per token,   116.36 tokens per second)\n",
      "llama_print_timings:        eval time =    8228.09 ms /   255 runs   (   32.27 ms per token,    30.99 tokens per second)\n",
      "llama_print_timings:       total time =    8897.25 ms /   287 tokens\n",
      " 87%|████████▋ | 136/157 [21:33<03:19,  9.50s/it]Llama.generate: prefix-match hit\n"
     ]
    },
    {
     "name": "stdout",
     "output_type": "stream",
     "text": [
      "The Dubăsari Dam creates the Dubăsari reservoir (Romanian: Rezervuarul Dubăsari).\n",
      "++++++++++++++++++++++++++++++++++++\n",
      "[{'reservoir': 'Dubăsari Reservoir'}]\n",
      "++++++++++++++++++++++++++++++++++++\n",
      "{'triplets': []}\n",
      "====================================\n",
      "{'model1': 'llama-2-7b.Q4_0.gguf', 'model2': 'llama-2-7b.Q4_0.gguf', 'sent': 'The Dubăsari Dam creates the Dubăsari reservoir (Romanian: Rezervuarul Dubăsari).', 'triples': []}\n",
      "====================================\n"
     ]
    },
    {
     "name": "stderr",
     "output_type": "stream",
     "text": [
      "\n",
      "llama_print_timings:        load time =    4136.51 ms\n",
      "llama_print_timings:      sample time =      43.17 ms /   256 runs   (    0.17 ms per token,  5929.63 tokens per second)\n",
      "llama_print_timings: prompt eval time =     271.42 ms /    25 tokens (   10.86 ms per token,    92.11 tokens per second)\n",
      "llama_print_timings:        eval time =    8226.54 ms /   255 runs   (   32.26 ms per token,    31.00 tokens per second)\n",
      "llama_print_timings:       total time =    8896.81 ms /   280 tokens\n",
      " 87%|████████▋ | 137/157 [21:42<03:06,  9.32s/it]Llama.generate: prefix-match hit\n"
     ]
    },
    {
     "name": "stdout",
     "output_type": "stream",
     "text": [
      "Sesamum is a genus of about 20 species in the flowering plant family Pedaliaceae.\n",
      "++++++++++++++++++++++++++++++++++++\n",
      "[{'taxon': 'Sesamum'}]\n",
      "++++++++++++++++++++++++++++++++++++\n",
      "{'triplets': []}\n",
      "====================================\n",
      "{'model1': 'llama-2-7b.Q4_0.gguf', 'model2': 'llama-2-7b.Q4_0.gguf', 'sent': 'Sesamum is a genus of about 20 species in the flowering plant family Pedaliaceae.', 'triples': []}\n",
      "====================================\n"
     ]
    },
    {
     "name": "stderr",
     "output_type": "stream",
     "text": [
      "\n",
      "llama_print_timings:        load time =    4136.51 ms\n",
      "llama_print_timings:      sample time =      42.76 ms /   256 runs   (    0.17 ms per token,  5986.48 tokens per second)\n",
      "llama_print_timings: prompt eval time =     407.77 ms /    38 tokens (   10.73 ms per token,    93.19 tokens per second)\n",
      "llama_print_timings:        eval time =    8242.03 ms /   255 runs   (   32.32 ms per token,    30.94 tokens per second)\n",
      "llama_print_timings:       total time =    9047.36 ms /   293 tokens\n",
      " 88%|████████▊ | 138/157 [21:51<02:55,  9.24s/it]Llama.generate: prefix-match hit\n"
     ]
    },
    {
     "name": "stdout",
     "output_type": "stream",
     "text": [
      "In the APG III system, the genus Pelliciera, previously treated as its own family, Pellicieraceae, is included in Tetrameristaceae.\n",
      "++++++++++++++++++++++++++++++++++++\n",
      "[{'taxon': 'Tetrameristaceae'}]\n",
      "++++++++++++++++++++++++++++++++++++\n",
      "{'triplets': []}\n",
      "====================================\n",
      "{'model1': 'llama-2-7b.Q4_0.gguf', 'model2': 'llama-2-7b.Q4_0.gguf', 'sent': 'In the APG III system, the genus Pelliciera, previously treated as its own family, Pellicieraceae, is included in Tetrameristaceae.', 'triples': []}\n",
      "====================================\n"
     ]
    },
    {
     "name": "stderr",
     "output_type": "stream",
     "text": [
      "\n",
      "llama_print_timings:        load time =    4136.51 ms\n",
      "llama_print_timings:      sample time =      42.69 ms /   256 runs   (    0.17 ms per token,  5996.16 tokens per second)\n",
      "llama_print_timings: prompt eval time =     545.62 ms /    52 tokens (   10.49 ms per token,    95.30 tokens per second)\n",
      "llama_print_timings:        eval time =    8260.59 ms /   255 runs   (   32.39 ms per token,    30.87 tokens per second)\n",
      "llama_print_timings:       total time =    9205.04 ms /   307 tokens\n",
      " 89%|████████▊ | 139/157 [22:00<02:46,  9.23s/it]Llama.generate: prefix-match hit\n"
     ]
    },
    {
     "name": "stdout",
     "output_type": "stream",
     "text": [
      "Mount Eisenhower (formerly Mount Pleasant) is a mountain in the Presidential Range in the White Mountains of New Hampshire approximately 4,760Â ft (1,450Â m) high.\n",
      "++++++++++++++++++++++++++++++++++++\n",
      "[{'mountain': 'Presidential Range'}]\n",
      "++++++++++++++++++++++++++++++++++++\n",
      "{'triplets': []}\n",
      "====================================\n",
      "{'model1': 'llama-2-7b.Q4_0.gguf', 'model2': 'llama-2-7b.Q4_0.gguf', 'sent': 'Mount Eisenhower (formerly Mount Pleasant) is a mountain in the Presidential Range in the White Mountains of New Hampshire approximately 4,760Â\\xa0ft (1,450Â\\xa0m) high.', 'triples': []}\n",
      "====================================\n"
     ]
    },
    {
     "name": "stderr",
     "output_type": "stream",
     "text": [
      "\n",
      "llama_print_timings:        load time =    4136.51 ms\n",
      "llama_print_timings:      sample time =      42.59 ms /   256 runs   (    0.17 ms per token,  6011.37 tokens per second)\n",
      "llama_print_timings: prompt eval time =     410.36 ms /    38 tokens (   10.80 ms per token,    92.60 tokens per second)\n",
      "llama_print_timings:        eval time =    8241.13 ms /   255 runs   (   32.32 ms per token,    30.94 tokens per second)\n",
      "llama_print_timings:       total time =    9048.44 ms /   293 tokens\n",
      " 89%|████████▉ | 140/157 [22:09<02:36,  9.18s/it]Llama.generate: prefix-match hit\n"
     ]
    },
    {
     "name": "stdout",
     "output_type": "stream",
     "text": [
      "The Daumberg is an extinct volcano in the Odenwald mountain range with an altitude of 462 m (1,516 ft).\n",
      "++++++++++++++++++++++++++++++++++++\n",
      "[{'mountain': 'Odenwald'}]\n",
      "++++++++++++++++++++++++++++++++++++\n",
      "{'triplets': []}\n",
      "====================================\n",
      "{'model1': 'llama-2-7b.Q4_0.gguf', 'model2': 'llama-2-7b.Q4_0.gguf', 'sent': 'The Daumberg is an extinct volcano in the Odenwald mountain range with an altitude of 462 m (1,516 ft).', 'triples': []}\n",
      "====================================\n"
     ]
    },
    {
     "name": "stderr",
     "output_type": "stream",
     "text": [
      "\n",
      "llama_print_timings:        load time =    4136.51 ms\n",
      "llama_print_timings:      sample time =      42.17 ms /   256 runs   (    0.16 ms per token,  6070.23 tokens per second)\n",
      "llama_print_timings: prompt eval time =     410.25 ms /    39 tokens (   10.52 ms per token,    95.06 tokens per second)\n",
      "llama_print_timings:        eval time =    8246.57 ms /   255 runs   (   32.34 ms per token,    30.92 tokens per second)\n",
      "llama_print_timings:       total time =    9048.31 ms /   294 tokens\n",
      " 90%|████████▉ | 141/157 [22:18<02:26,  9.14s/it]Llama.generate: prefix-match hit\n"
     ]
    },
    {
     "name": "stdout",
     "output_type": "stream",
     "text": [
      "The Kurshab (Kyrgyz: ) flows into Andijan Reservoir (drained by the Kara Darya) in Kyrgyzstan.\n",
      "++++++++++++++++++++++++++++++++++++\n",
      "[{'drainage basin': 'Kara Darya'}]\n",
      "++++++++++++++++++++++++++++++++++++\n",
      "{'triplets': []}\n",
      "====================================\n",
      "{'model1': 'llama-2-7b.Q4_0.gguf', 'model2': 'llama-2-7b.Q4_0.gguf', 'sent': 'The Kurshab (Kyrgyz: ) flows into Andijan Reservoir (drained by the Kara Darya) in Kyrgyzstan.', 'triples': []}\n",
      "====================================\n"
     ]
    },
    {
     "name": "stderr",
     "output_type": "stream",
     "text": [
      "\n",
      "llama_print_timings:        load time =    4136.51 ms\n",
      "llama_print_timings:      sample time =      43.43 ms /   256 runs   (    0.17 ms per token,  5894.81 tokens per second)\n",
      "llama_print_timings: prompt eval time =     134.82 ms /    12 tokens (   11.23 ms per token,    89.01 tokens per second)\n",
      "llama_print_timings:        eval time =    8204.64 ms /   255 runs   (   32.18 ms per token,    31.08 tokens per second)\n",
      "llama_print_timings:       total time =    8740.68 ms /   267 tokens\n",
      "Llama.generate: prefix-match hit\n"
     ]
    },
    {
     "name": "stdout",
     "output_type": "stream",
     "text": [
      "The dam impounds Crystal Reservoir.\n",
      "++++++++++++++++++++++++++++++++++++\n",
      "[{'reservoir': 'Crystal Reservoir', 'dam': 'Crystal Dam'}]\n",
      "++++++++++++++++++++++++++++++++++++\n"
     ]
    },
    {
     "name": "stderr",
     "output_type": "stream",
     "text": [
      "\n",
      "llama_print_timings:        load time =    4136.51 ms\n",
      "llama_print_timings:      sample time =       5.15 ms /    31 runs   (    0.17 ms per token,  6025.27 tokens per second)\n",
      "llama_print_timings: prompt eval time =    3814.40 ms /   453 tokens (    8.42 ms per token,   118.76 tokens per second)\n",
      "llama_print_timings:        eval time =     879.87 ms /    30 runs   (   29.33 ms per token,    34.10 tokens per second)\n",
      "llama_print_timings:       total time =    4769.92 ms /   483 tokens\n",
      " 90%|█████████ | 142/157 [22:32<02:36, 10.45s/it]Llama.generate: prefix-match hit\n"
     ]
    },
    {
     "name": "stdout",
     "output_type": "stream",
     "text": [
      "[{'sub': 'Crystal Reservoir', 'rel': 'drainage basin', 'obj': 'Crystal Reservoir'}]\n",
      "====================================\n",
      "{'model1': 'llama-2-7b.Q4_0.gguf', 'model2': 'llama-2-7b.Q4_0.gguf', 'sent': 'The dam impounds Crystal Reservoir.', 'triples': [{'sub': 'Crystal Reservoir', 'rel': 'drainage basin', 'obj': 'Crystal Reservoir'}]}\n",
      "====================================\n"
     ]
    },
    {
     "name": "stderr",
     "output_type": "stream",
     "text": [
      "\n",
      "llama_print_timings:        load time =    4136.51 ms\n",
      "llama_print_timings:      sample time =      42.37 ms /   256 runs   (    0.17 ms per token,  6041.44 tokens per second)\n",
      "llama_print_timings: prompt eval time =    7880.30 ms /   931 tokens (    8.46 ms per token,   118.14 tokens per second)\n",
      "llama_print_timings:        eval time =    8294.67 ms /   255 runs   (   32.53 ms per token,    30.74 tokens per second)\n",
      "llama_print_timings:       total time =   16629.38 ms /  1186 tokens\n",
      " 91%|█████████ | 143/157 [22:48<02:52, 12.31s/it]Llama.generate: prefix-match hit\n"
     ]
    },
    {
     "name": "stdout",
     "output_type": "stream",
     "text": [
      "The consensus on placement of the family is with the Dasyuromorphia order, with agreement on the divergence this family and the Dasyuridae, represented by the extant quolls and Tasmanian devil Sarcophilus harrisii, remaining under consideration.\n",
      "++++++++++++++++++++++++++++++++++++\n",
      "[{'taxon': 'Dasyuromorphia'}]\n",
      "++++++++++++++++++++++++++++++++++++\n",
      "{'triplets': []}\n",
      "====================================\n",
      "{'model1': 'llama-2-7b.Q4_0.gguf', 'model2': 'llama-2-7b.Q4_0.gguf', 'sent': 'The consensus on placement of the family is with the Dasyuromorphia order, with agreement on the divergence this family and the Dasyuridae, represented by the extant quolls and Tasmanian devil Sarcophilus harrisii, remaining under consideration.', 'triples': []}\n",
      "====================================\n"
     ]
    },
    {
     "name": "stderr",
     "output_type": "stream",
     "text": [
      "\n",
      "llama_print_timings:        load time =    4136.51 ms\n",
      "llama_print_timings:      sample time =      43.20 ms /   256 runs   (    0.17 ms per token,  5926.61 tokens per second)\n",
      "llama_print_timings: prompt eval time =     272.15 ms /    23 tokens (   11.83 ms per token,    84.51 tokens per second)\n",
      "llama_print_timings:        eval time =    8220.83 ms /   255 runs   (   32.24 ms per token,    31.02 tokens per second)\n",
      "llama_print_timings:       total time =    8893.84 ms /   278 tokens\n",
      " 92%|█████████▏| 144/157 [22:57<02:26, 11.29s/it]Llama.generate: prefix-match hit\n"
     ]
    },
    {
     "name": "stdout",
     "output_type": "stream",
     "text": [
      "Starcke Dam impounds Lake Marble Falls, one of the Texas Highland Lakes.\n",
      "++++++++++++++++++++++++++++++++++++\n",
      "[{'reservoir': 'Lake Marble Falls'}]\n",
      "++++++++++++++++++++++++++++++++++++\n",
      "{'triplets': []}\n",
      "====================================\n",
      "{'model1': 'llama-2-7b.Q4_0.gguf', 'model2': 'llama-2-7b.Q4_0.gguf', 'sent': 'Starcke Dam impounds Lake Marble Falls, one of the Texas Highland Lakes.', 'triples': []}\n",
      "====================================\n"
     ]
    },
    {
     "name": "stderr",
     "output_type": "stream",
     "text": [
      "\n",
      "llama_print_timings:        load time =    4136.51 ms\n",
      "llama_print_timings:      sample time =      42.67 ms /   256 runs   (    0.17 ms per token,  6000.09 tokens per second)\n",
      "llama_print_timings: prompt eval time =     273.98 ms /    27 tokens (   10.15 ms per token,    98.55 tokens per second)\n",
      "llama_print_timings:        eval time =    8232.97 ms /   255 runs   (   32.29 ms per token,    30.97 tokens per second)\n",
      "llama_print_timings:       total time =    8903.83 ms /   282 tokens\n",
      " 92%|█████████▏| 145/157 [23:06<02:06, 10.57s/it]Llama.generate: prefix-match hit\n"
     ]
    },
    {
     "name": "stdout",
     "output_type": "stream",
     "text": [
      "The broad-billed sandpiper (Calidris falcinellus) is a small wading bird.\n",
      "++++++++++++++++++++++++++++++++++++\n",
      "[{'taxon': 'Calidris falcinellus'}]\n",
      "++++++++++++++++++++++++++++++++++++\n",
      "{'triplets': []}\n",
      "====================================\n",
      "{'model1': 'llama-2-7b.Q4_0.gguf', 'model2': 'llama-2-7b.Q4_0.gguf', 'sent': 'The broad-billed sandpiper (Calidris falcinellus) is a small wading bird.', 'triples': []}\n",
      "====================================\n"
     ]
    },
    {
     "name": "stderr",
     "output_type": "stream",
     "text": [
      "\n",
      "llama_print_timings:        load time =    4136.51 ms\n",
      "llama_print_timings:      sample time =      42.94 ms /   256 runs   (    0.17 ms per token,  5962.22 tokens per second)\n",
      "llama_print_timings: prompt eval time =     275.38 ms /    32 tokens (    8.61 ms per token,   116.20 tokens per second)\n",
      "llama_print_timings:        eval time =    8229.98 ms /   255 runs   (   32.27 ms per token,    30.98 tokens per second)\n",
      "llama_print_timings:       total time =    8902.21 ms /   287 tokens\n",
      " 93%|█████████▎| 146/157 [23:15<01:50, 10.07s/it]Llama.generate: prefix-match hit\n"
     ]
    },
    {
     "name": "stdout",
     "output_type": "stream",
     "text": [
      "Cinnamomum is a genus of evergreen aromatic trees and shrubs belonging to the laurel family, Lauraceae.\n",
      "++++++++++++++++++++++++++++++++++++\n",
      "[{'taxon': 'Cinnamomum'}]\n",
      "++++++++++++++++++++++++++++++++++++\n",
      "{'triplets': []}\n",
      "====================================\n",
      "{'model1': 'llama-2-7b.Q4_0.gguf', 'model2': 'llama-2-7b.Q4_0.gguf', 'sent': 'Cinnamomum is a genus of evergreen aromatic trees and shrubs belonging to the laurel family, Lauraceae.', 'triples': []}\n",
      "====================================\n"
     ]
    },
    {
     "name": "stderr",
     "output_type": "stream",
     "text": [
      "\n",
      "llama_print_timings:        load time =    4136.51 ms\n",
      "llama_print_timings:      sample time =      42.03 ms /   256 runs   (    0.16 ms per token,  6090.45 tokens per second)\n",
      "llama_print_timings: prompt eval time =     274.98 ms /    29 tokens (    9.48 ms per token,   105.46 tokens per second)\n",
      "llama_print_timings:        eval time =    8221.29 ms /   255 runs   (   32.24 ms per token,    31.02 tokens per second)\n",
      "llama_print_timings:       total time =    8885.63 ms /   284 tokens\n",
      " 94%|█████████▎| 147/157 [23:24<01:37,  9.72s/it]Llama.generate: prefix-match hit\n"
     ]
    },
    {
     "name": "stdout",
     "output_type": "stream",
     "text": [
      "The little auk or dovekie (Alle alle) is a small auk, the only member of the genus Alle.\n",
      "++++++++++++++++++++++++++++++++++++\n",
      "[{'taxon': 'Alle alle'}]\n",
      "++++++++++++++++++++++++++++++++++++\n",
      "{'triplets': []}\n",
      "====================================\n",
      "{'model1': 'llama-2-7b.Q4_0.gguf', 'model2': 'llama-2-7b.Q4_0.gguf', 'sent': 'The little auk or dovekie (Alle alle) is a small auk, the only member of the genus Alle.', 'triples': []}\n",
      "====================================\n"
     ]
    },
    {
     "name": "stderr",
     "output_type": "stream",
     "text": [
      "\n",
      "llama_print_timings:        load time =    4136.51 ms\n",
      "llama_print_timings:      sample time =      42.87 ms /   256 runs   (    0.17 ms per token,  5971.82 tokens per second)\n",
      "llama_print_timings: prompt eval time =     273.52 ms /    31 tokens (    8.82 ms per token,   113.34 tokens per second)\n",
      "llama_print_timings:        eval time =    8225.17 ms /   255 runs   (   32.26 ms per token,    31.00 tokens per second)\n",
      "llama_print_timings:       total time =    8895.10 ms /   286 tokens\n",
      "Llama.generate: prefix-match hit\n"
     ]
    },
    {
     "name": "stdout",
     "output_type": "stream",
     "text": [
      "Gardiner River is in the James Bay drainage basin, and is a left tributary of the Mattagami River.\n",
      "++++++++++++++++++++++++++++++++++++\n",
      "[{'drainage basin': 'James Bay drainage basin', 'watercourse': 'Gardiner River'}]\n",
      "++++++++++++++++++++++++++++++++++++\n"
     ]
    },
    {
     "name": "stderr",
     "output_type": "stream",
     "text": [
      "\n",
      "llama_print_timings:        load time =    4136.51 ms\n",
      "llama_print_timings:      sample time =       4.47 ms /    27 runs   (    0.17 ms per token,  6037.57 tokens per second)\n",
      "llama_print_timings: prompt eval time =    3948.35 ms /   475 tokens (    8.31 ms per token,   120.30 tokens per second)\n",
      "llama_print_timings:        eval time =     764.25 ms /    26 runs   (   29.39 ms per token,    34.02 tokens per second)\n",
      "llama_print_timings:       total time =    4782.27 ms /   501 tokens\n",
      " 94%|█████████▍| 148/157 [23:38<01:38, 10.91s/it]Llama.generate: prefix-match hit\n"
     ]
    },
    {
     "name": "stdout",
     "output_type": "stream",
     "text": [
      "[{'sub': 'Gardiner River', 'rel': 'tributary', 'obj': 'Mattagami River'}]\n",
      "====================================\n",
      "{'model1': 'llama-2-7b.Q4_0.gguf', 'model2': 'llama-2-7b.Q4_0.gguf', 'sent': 'Gardiner River is in the James Bay drainage basin, and is a left tributary of the Mattagami River.', 'triples': [{'sub': 'Gardiner River', 'rel': 'tributary', 'obj': 'Mattagami River'}]}\n",
      "====================================\n"
     ]
    },
    {
     "name": "stderr",
     "output_type": "stream",
     "text": [
      "\n",
      "llama_print_timings:        load time =    4136.51 ms\n",
      "llama_print_timings:      sample time =      42.19 ms /   256 runs   (    0.16 ms per token,  6067.21 tokens per second)\n",
      "llama_print_timings: prompt eval time =    8016.43 ms /   960 tokens (    8.35 ms per token,   119.75 tokens per second)\n",
      "llama_print_timings:        eval time =    8346.33 ms /   256 runs   (   32.60 ms per token,    30.67 tokens per second)\n",
      "llama_print_timings:       total time =   16816.73 ms /  1216 tokens\n",
      " 95%|█████████▍| 149/157 [23:54<01:41, 12.68s/it]Llama.generate: prefix-match hit\n"
     ]
    },
    {
     "name": "stdout",
     "output_type": "stream",
     "text": [
      "Jekselen Peak (72Â°0S 2Â°33W) is, at 1,405 metres (4,610Â ft), the highest peak in a small ridge 7 nautical miles (13Â km) east-southeast of Mount Schumacher, in the Ahlmann Ridge of Queen Maud Land, Antarctica.\n",
      "++++++++++++++++++++++++++++++++++++\n",
      "[{'mountain': 'Jekselen Peak'}]\n",
      "++++++++++++++++++++++++++++++++++++\n",
      "{'triplets': []}\n",
      "====================================\n",
      "{'model1': 'llama-2-7b.Q4_0.gguf', 'model2': 'llama-2-7b.Q4_0.gguf', 'sent': 'Jekselen Peak (72Â°0S 2Â°33W) is, at 1,405 metres (4,610Â\\xa0ft), the highest peak in a small ridge 7 nautical miles (13Â\\xa0km) east-southeast of Mount Schumacher, in the Ahlmann Ridge of Queen Maud Land, Antarctica.', 'triples': []}\n",
      "====================================\n"
     ]
    },
    {
     "name": "stderr",
     "output_type": "stream",
     "text": [
      "\n",
      "llama_print_timings:        load time =    4136.51 ms\n",
      "llama_print_timings:      sample time =      42.73 ms /   256 runs   (    0.17 ms per token,  5990.69 tokens per second)\n",
      "llama_print_timings: prompt eval time =     410.80 ms /    47 tokens (    8.74 ms per token,   114.41 tokens per second)\n",
      "llama_print_timings:        eval time =    8257.61 ms /   255 runs   (   32.38 ms per token,    30.88 tokens per second)\n",
      "llama_print_timings:       total time =    9065.95 ms /   302 tokens\n",
      " 96%|█████████▌| 150/157 [24:03<01:21, 11.60s/it]Llama.generate: prefix-match hit\n"
     ]
    },
    {
     "name": "stdout",
     "output_type": "stream",
     "text": [
      "The Miami Canal, or C-6 Canal, flows from Lake Okeechobee in the U.S. state of Florida to its terminus at the Miami River, which flows through downtown Miami.\n",
      "++++++++++++++++++++++++++++++++++++\n",
      "[{'watercourse': 'Miami Canal'}]\n",
      "++++++++++++++++++++++++++++++++++++\n",
      "{'triplets': []}\n",
      "====================================\n",
      "{'model1': 'llama-2-7b.Q4_0.gguf', 'model2': 'llama-2-7b.Q4_0.gguf', 'sent': 'The Miami Canal, or C-6 Canal, flows from Lake Okeechobee in the U.S. state of Florida to its terminus at the Miami River, which flows through downtown Miami.', 'triples': []}\n",
      "====================================\n"
     ]
    },
    {
     "name": "stderr",
     "output_type": "stream",
     "text": [
      "\n",
      "llama_print_timings:        load time =    4136.51 ms\n",
      "llama_print_timings:      sample time =      43.25 ms /   256 runs   (    0.17 ms per token,  5919.08 tokens per second)\n",
      "llama_print_timings: prompt eval time =     551.00 ms /    64 tokens (    8.61 ms per token,   116.15 tokens per second)\n",
      "llama_print_timings:        eval time =    8316.63 ms /   256 runs   (   32.49 ms per token,    30.78 tokens per second)\n",
      "llama_print_timings:       total time =    9270.85 ms /   320 tokens\n",
      " 96%|█████████▌| 151/157 [24:13<01:05, 10.90s/it]Llama.generate: prefix-match hit\n"
     ]
    },
    {
     "name": "stdout",
     "output_type": "stream",
     "text": [
      "The other jersey on offer for the sprints classification was claimed by LluÃ­s Mas (Caja Rural-Seguros RGA), while the Movistar Team won the teams classification, after placing a third rider - Marc Soler - in the top-five overall.\n",
      "++++++++++++++++++++++++++++++++++++\n",
      "[{'reservoir': 'Lake Tahoe'}]\n",
      "++++++++++++++++++++++++++++++++++++\n",
      "{'triplets': []}\n",
      "====================================\n",
      "{'model1': 'llama-2-7b.Q4_0.gguf', 'model2': 'llama-2-7b.Q4_0.gguf', 'sent': 'The other jersey on offer for the sprints classification was claimed by LluÃ\\xads Mas (Caja Rural-Seguros RGA), while the Movistar Team won the teams classification, after placing a third rider - Marc Soler - in the top-five overall.', 'triples': []}\n",
      "====================================\n"
     ]
    },
    {
     "name": "stderr",
     "output_type": "stream",
     "text": [
      "\n",
      "llama_print_timings:        load time =    4136.51 ms\n",
      "llama_print_timings:      sample time =      42.76 ms /   256 runs   (    0.17 ms per token,  5987.04 tokens per second)\n",
      "llama_print_timings: prompt eval time =     407.98 ms /    39 tokens (   10.46 ms per token,    95.59 tokens per second)\n",
      "llama_print_timings:        eval time =    8243.89 ms /   255 runs   (   32.33 ms per token,    30.93 tokens per second)\n",
      "llama_print_timings:       total time =    9048.04 ms /   294 tokens\n",
      " 97%|█████████▋| 152/157 [24:22<00:51, 10.35s/it]Llama.generate: prefix-match hit\n"
     ]
    },
    {
     "name": "stdout",
     "output_type": "stream",
     "text": [
      "San Emigdio Mountain is in the San Emigdio Mountains, located in Kern County, a few miles north of the Ventura County border in Southern California.\n",
      "++++++++++++++++++++++++++++++++++++\n",
      "[{'mountain': 'San Emigdio Mountain'}]\n",
      "++++++++++++++++++++++++++++++++++++\n",
      "{'triplets': []}\n",
      "====================================\n",
      "{'model1': 'llama-2-7b.Q4_0.gguf', 'model2': 'llama-2-7b.Q4_0.gguf', 'sent': 'San Emigdio Mountain is in the San Emigdio Mountains, located in Kern County, a few miles north of the Ventura County border in Southern California.', 'triples': []}\n",
      "====================================\n"
     ]
    },
    {
     "name": "stderr",
     "output_type": "stream",
     "text": [
      "\n",
      "llama_print_timings:        load time =    4136.51 ms\n",
      "llama_print_timings:      sample time =      42.71 ms /   256 runs   (    0.17 ms per token,  5993.35 tokens per second)\n",
      "llama_print_timings: prompt eval time =     412.66 ms /    46 tokens (    8.97 ms per token,   111.47 tokens per second)\n",
      "llama_print_timings:        eval time =    8262.91 ms /   255 runs   (   32.40 ms per token,    30.86 tokens per second)\n",
      "llama_print_timings:       total time =    9073.48 ms /   301 tokens\n",
      " 97%|█████████▋| 153/157 [24:31<00:39,  9.97s/it]Llama.generate: prefix-match hit\n"
     ]
    },
    {
     "name": "stdout",
     "output_type": "stream",
     "text": [
      "The Chuya Steppe (Russian:  ) in the Siberian Altai Mountains is a depression formed by tectonic movement of major faults in the Earth's crust.\n",
      "++++++++++++++++++++++++++++++++++++\n",
      "[{'mountain range': 'Chuya Steppe'}]\n",
      "++++++++++++++++++++++++++++++++++++\n",
      "{'triplets': []}\n",
      "====================================\n",
      "{'model1': 'llama-2-7b.Q4_0.gguf', 'model2': 'llama-2-7b.Q4_0.gguf', 'sent': \"The Chuya Steppe (Russian:  ) in the Siberian Altai Mountains is a depression formed by tectonic movement of major faults in the Earth's crust.\", 'triples': []}\n",
      "====================================\n"
     ]
    },
    {
     "name": "stderr",
     "output_type": "stream",
     "text": [
      "\n",
      "llama_print_timings:        load time =    4136.51 ms\n",
      "llama_print_timings:      sample time =      42.10 ms /   256 runs   (    0.16 ms per token,  6081.05 tokens per second)\n",
      "llama_print_timings: prompt eval time =     544.95 ms /    54 tokens (   10.09 ms per token,    99.09 tokens per second)\n",
      "llama_print_timings:        eval time =    8258.12 ms /   255 runs   (   32.38 ms per token,    30.88 tokens per second)\n",
      "llama_print_timings:       total time =    9195.89 ms /   309 tokens\n",
      " 98%|█████████▊| 154/157 [24:40<00:29,  9.74s/it]Llama.generate: prefix-match hit\n"
     ]
    },
    {
     "name": "stdout",
     "output_type": "stream",
     "text": [
      "Crest elevation of both dams is 1,580 feet (480Â m), and the maximum water level in Banks Lake is elevation 1,570 feet (480Â m).\n",
      "++++++++++++++++++++++++++++++++++++\n",
      "[{'dam': 'Banks Lake Dam'}]\n",
      "++++++++++++++++++++++++++++++++++++\n",
      "{'triplets': []}\n",
      "====================================\n",
      "{'model1': 'llama-2-7b.Q4_0.gguf', 'model2': 'llama-2-7b.Q4_0.gguf', 'sent': 'Crest elevation of both dams is 1,580 feet (480Â\\xa0m), and the maximum water level in Banks Lake is elevation 1,570 feet (480Â\\xa0m).', 'triples': []}\n",
      "====================================\n"
     ]
    },
    {
     "name": "stderr",
     "output_type": "stream",
     "text": [
      "\n",
      "llama_print_timings:        load time =    4136.51 ms\n",
      "llama_print_timings:      sample time =      43.37 ms /   256 runs   (    0.17 ms per token,  5902.83 tokens per second)\n",
      "llama_print_timings: prompt eval time =     406.74 ms /    39 tokens (   10.43 ms per token,    95.88 tokens per second)\n",
      "llama_print_timings:        eval time =    8239.54 ms /   255 runs   (   32.31 ms per token,    30.95 tokens per second)\n",
      "llama_print_timings:       total time =    9049.33 ms /   294 tokens\n",
      " 99%|█████████▊| 155/157 [24:49<00:19,  9.53s/it]Llama.generate: prefix-match hit\n"
     ]
    },
    {
     "name": "stdout",
     "output_type": "stream",
     "text": [
      "Lugenda River flows in a south-north direction from Lake Amaramba/Lake Chiuta and is the largest tributary of the Ruvuma River.\n",
      "++++++++++++++++++++++++++++++++++++\n",
      "[{'watercourse': 'Lugenda River'}]\n",
      "++++++++++++++++++++++++++++++++++++\n",
      "{'triplets': []}\n",
      "====================================\n",
      "{'model1': 'llama-2-7b.Q4_0.gguf', 'model2': 'llama-2-7b.Q4_0.gguf', 'sent': 'Lugenda River flows in a south-north direction from Lake Amaramba/Lake Chiuta and is the largest tributary of the Ruvuma River.', 'triples': []}\n",
      "====================================\n"
     ]
    },
    {
     "name": "stderr",
     "output_type": "stream",
     "text": [
      "\n",
      "llama_print_timings:        load time =    4136.51 ms\n",
      "llama_print_timings:      sample time =      42.73 ms /   256 runs   (    0.17 ms per token,  5990.69 tokens per second)\n",
      "llama_print_timings: prompt eval time =     686.36 ms /    72 tokens (    9.53 ms per token,   104.90 tokens per second)\n",
      "llama_print_timings:        eval time =    8301.22 ms /   255 runs   (   32.55 ms per token,    30.72 tokens per second)\n",
      "llama_print_timings:       total time =    9388.33 ms /   327 tokens\n",
      " 99%|█████████▉| 156/157 [24:59<00:09,  9.49s/it]Llama.generate: prefix-match hit\n"
     ]
    },
    {
     "name": "stdout",
     "output_type": "stream",
     "text": [
      "The Sandanska Bistritsa takes its source from the south-eastern corner of the Tevnoto Lake in Northern Pirin at an altitude of 2,512Â m. It flows in southern direction through another four lakes of the Malokamenishki Lakes group and then turns westwards.\n",
      "++++++++++++++++++++++++++++++++++++\n",
      "[{'mountain range': 'Malokamenishki Lakes group'}]\n",
      "++++++++++++++++++++++++++++++++++++\n",
      "{'triplets': []}\n",
      "====================================\n",
      "{'model1': 'llama-2-7b.Q4_0.gguf', 'model2': 'llama-2-7b.Q4_0.gguf', 'sent': 'The Sandanska Bistritsa takes its source from the south-eastern corner of the Tevnoto Lake in Northern Pirin at an altitude of 2,512Â\\xa0m. It flows in southern direction through another four lakes of the Malokamenishki Lakes group and then turns westwards.', 'triples': []}\n",
      "====================================\n"
     ]
    },
    {
     "name": "stderr",
     "output_type": "stream",
     "text": [
      "\n",
      "llama_print_timings:        load time =    4136.51 ms\n",
      "llama_print_timings:      sample time =      43.23 ms /   256 runs   (    0.17 ms per token,  5922.50 tokens per second)\n",
      "llama_print_timings: prompt eval time =     546.17 ms /    51 tokens (   10.71 ms per token,    93.38 tokens per second)\n",
      "llama_print_timings:        eval time =    8263.50 ms /   255 runs   (   32.41 ms per token,    30.86 tokens per second)\n",
      "llama_print_timings:       total time =    9213.61 ms /   306 tokens\n",
      "100%|██████████| 157/157 [25:08<00:00,  9.61s/it]"
     ]
    },
    {
     "name": "stdout",
     "output_type": "stream",
     "text": [
      "The willet (Tringa semipalmata), formerly in the monotypic genus Catoptrophorus as Catoptrophorus semipalmatus, is a large shorebird in the family Scolopacidae.\n",
      "++++++++++++++++++++++++++++++++++++\n",
      "[{'taxon': 'Tringa semipalmata'}]\n",
      "++++++++++++++++++++++++++++++++++++\n",
      "{'triplets': []}\n",
      "====================================\n",
      "{'model1': 'llama-2-7b.Q4_0.gguf', 'model2': 'llama-2-7b.Q4_0.gguf', 'sent': 'The willet (Tringa semipalmata), formerly in the monotypic genus Catoptrophorus as Catoptrophorus semipalmatus, is a large shorebird in the family Scolopacidae.', 'triples': []}\n",
      "====================================\n"
     ]
    },
    {
     "name": "stderr",
     "output_type": "stream",
     "text": [
      "\n"
     ]
    }
   ],
   "source": [
    "builder = TripletBuilder(relations_schema,\n",
    "                         n_runs=1000)\n",
    "\n",
    "builder.load_data(GROUND_TRUTH_PATH, test_index)\n",
    "\n",
    "generated_triples = builder.get_triplets()\n",
    "\n",
    "with open(os.path.join('artifacts', DOMAIN, 'triples_base.jsonl'), 'w', encoding='utf-8') as f:\n",
    "    for entry in generated_triples:\n",
    "        json_record = json.dumps(entry, ensure_ascii=False)\n",
    "        f.write(json_record + '\\n')"
   ]
  },
  {
   "cell_type": "markdown",
   "metadata": {},
   "source": [
    "## Дообученная модель"
   ]
  },
  {
   "cell_type": "code",
   "execution_count": 12,
   "metadata": {},
   "outputs": [
    {
     "name": "stderr",
     "output_type": "stream",
     "text": [
      "llama_model_loader: loaded meta data with 24 key-value pairs and 291 tensors from artifacts/nature/model_1/Llama-2-7b-m1ft-q4.gguf (version GGUF V3 (latest))\n",
      "llama_model_loader: Dumping metadata keys/values. Note: KV overrides do not apply in this output.\n",
      "llama_model_loader: - kv   0:                       general.architecture str              = llama\n",
      "llama_model_loader: - kv   1:                               general.name str              = LLaMA v2\n",
      "llama_model_loader: - kv   2:                           llama.vocab_size u32              = 32000\n",
      "llama_model_loader: - kv   3:                       llama.context_length u32              = 4096\n",
      "llama_model_loader: - kv   4:                     llama.embedding_length u32              = 4096\n",
      "llama_model_loader: - kv   5:                          llama.block_count u32              = 32\n",
      "llama_model_loader: - kv   6:                  llama.feed_forward_length u32              = 11008\n",
      "llama_model_loader: - kv   7:                 llama.rope.dimension_count u32              = 128\n",
      "llama_model_loader: - kv   8:                 llama.attention.head_count u32              = 32\n",
      "llama_model_loader: - kv   9:              llama.attention.head_count_kv u32              = 32\n",
      "llama_model_loader: - kv  10:     llama.attention.layer_norm_rms_epsilon f32              = 0.000010\n",
      "llama_model_loader: - kv  11:                       llama.rope.freq_base f32              = 10000.000000\n",
      "llama_model_loader: - kv  12:                          general.file_type u32              = 2\n",
      "llama_model_loader: - kv  13:                       tokenizer.ggml.model str              = llama\n",
      "llama_model_loader: - kv  14:                      tokenizer.ggml.tokens arr[str,32000]   = [\"<unk>\", \"<s>\", \"</s>\", \"<0x00>\", \"<...\n",
      "llama_model_loader: - kv  15:                      tokenizer.ggml.scores arr[f32,32000]   = [0.000000, 0.000000, 0.000000, 0.0000...\n",
      "llama_model_loader: - kv  16:                  tokenizer.ggml.token_type arr[i32,32000]   = [2, 3, 3, 6, 6, 6, 6, 6, 6, 6, 6, 6, ...\n",
      "llama_model_loader: - kv  17:                tokenizer.ggml.bos_token_id u32              = 1\n",
      "llama_model_loader: - kv  18:                tokenizer.ggml.eos_token_id u32              = 2\n",
      "llama_model_loader: - kv  19:            tokenizer.ggml.unknown_token_id u32              = 0\n",
      "llama_model_loader: - kv  20:            tokenizer.ggml.padding_token_id u32              = 0\n",
      "llama_model_loader: - kv  21:               tokenizer.ggml.add_bos_token bool             = true\n",
      "llama_model_loader: - kv  22:               tokenizer.ggml.add_eos_token bool             = false\n",
      "llama_model_loader: - kv  23:               general.quantization_version u32              = 2\n",
      "llama_model_loader: - type  f32:   65 tensors\n",
      "llama_model_loader: - type q4_0:  225 tensors\n",
      "llama_model_loader: - type q6_K:    1 tensors\n",
      "llm_load_vocab: special tokens definition check successful ( 259/32000 ).\n",
      "llm_load_print_meta: format           = GGUF V3 (latest)\n",
      "llm_load_print_meta: arch             = llama\n",
      "llm_load_print_meta: vocab type       = SPM\n",
      "llm_load_print_meta: n_vocab          = 32000\n",
      "llm_load_print_meta: n_merges         = 0\n",
      "llm_load_print_meta: n_ctx_train      = 4096\n",
      "llm_load_print_meta: n_embd           = 4096\n",
      "llm_load_print_meta: n_head           = 32\n",
      "llm_load_print_meta: n_head_kv        = 32\n",
      "llm_load_print_meta: n_layer          = 32\n",
      "llm_load_print_meta: n_rot            = 128\n",
      "llm_load_print_meta: n_embd_head_k    = 128\n",
      "llm_load_print_meta: n_embd_head_v    = 128\n",
      "llm_load_print_meta: n_gqa            = 1\n",
      "llm_load_print_meta: n_embd_k_gqa     = 4096\n",
      "llm_load_print_meta: n_embd_v_gqa     = 4096\n",
      "llm_load_print_meta: f_norm_eps       = 0.0e+00\n",
      "llm_load_print_meta: f_norm_rms_eps   = 1.0e-05\n",
      "llm_load_print_meta: f_clamp_kqv      = 0.0e+00\n",
      "llm_load_print_meta: f_max_alibi_bias = 0.0e+00\n",
      "llm_load_print_meta: n_ff             = 11008\n",
      "llm_load_print_meta: n_expert         = 0\n",
      "llm_load_print_meta: n_expert_used    = 0\n",
      "llm_load_print_meta: rope scaling     = linear\n",
      "llm_load_print_meta: freq_base_train  = 10000.0\n",
      "llm_load_print_meta: freq_scale_train = 1\n",
      "llm_load_print_meta: n_yarn_orig_ctx  = 4096\n",
      "llm_load_print_meta: rope_finetuned   = unknown\n",
      "llm_load_print_meta: model type       = 7B\n",
      "llm_load_print_meta: model ftype      = Q4_0\n",
      "llm_load_print_meta: model params     = 6.74 B\n",
      "llm_load_print_meta: model size       = 3.56 GiB (4.54 BPW) \n",
      "llm_load_print_meta: general.name     = LLaMA v2\n",
      "llm_load_print_meta: BOS token        = 1 '<s>'\n",
      "llm_load_print_meta: EOS token        = 2 '</s>'\n",
      "llm_load_print_meta: UNK token        = 0 '<unk>'\n",
      "llm_load_print_meta: PAD token        = 0 '<unk>'\n",
      "llm_load_print_meta: LF token         = 13 '<0x0A>'\n",
      "llm_load_tensors: ggml ctx size =    0.22 MiB\n",
      "ggml_backend_metal_buffer_from_ptr: allocated buffer, size =  3577.56 MiB, ( 8186.14 / 10922.67)\n",
      "llm_load_tensors: offloading 32 repeating layers to GPU\n",
      "llm_load_tensors: offloading non-repeating layers to GPU\n",
      "llm_load_tensors: offloaded 33/33 layers to GPU\n",
      "llm_load_tensors:        CPU buffer size =    70.31 MiB\n",
      "llm_load_tensors:      Metal buffer size =  3577.56 MiB\n",
      "..................................................................................................\n",
      "llama_new_context_with_model: n_ctx      = 2048\n",
      "llama_new_context_with_model: freq_base  = 10000.0\n",
      "llama_new_context_with_model: freq_scale = 1\n",
      "ggml_metal_init: allocating\n",
      "ggml_metal_init: found device: Apple M1 Pro\n",
      "ggml_metal_init: picking default device: Apple M1 Pro\n",
      "ggml_metal_init: default.metallib not found, loading from source\n",
      "ggml_metal_init: GGML_METAL_PATH_RESOURCES = nil\n",
      "ggml_metal_init: loading '/Users/dima/Repo/Alexandra/venv/lib/python3.11/site-packages/llama_cpp/ggml-metal.metal'\n",
      "ggml_metal_init: GPU name:   Apple M1 Pro\n",
      "ggml_metal_init: GPU family: MTLGPUFamilyApple7  (1007)\n",
      "ggml_metal_init: GPU family: MTLGPUFamilyCommon3 (3003)\n",
      "ggml_metal_init: GPU family: MTLGPUFamilyMetal3  (5001)\n",
      "ggml_metal_init: simdgroup reduction support   = true\n",
      "ggml_metal_init: simdgroup matrix mul. support = true\n",
      "ggml_metal_init: hasUnifiedMemory              = true\n",
      "ggml_metal_init: recommendedMaxWorkingSetSize  = 11453.25 MB\n",
      "ggml_backend_metal_buffer_type_alloc_buffer: allocated buffer, size =  1024.00 MiB, ( 9210.14 / 10922.67)\n",
      "llama_kv_cache_init:      Metal KV buffer size =  1024.00 MiB\n",
      "llama_new_context_with_model: KV self size  = 1024.00 MiB, K (f16):  512.00 MiB, V (f16):  512.00 MiB\n",
      "llama_new_context_with_model:        CPU input buffer size   =     0.39 MiB\n",
      "ggml_backend_metal_buffer_type_alloc_buffer: allocated buffer, size =     5.14 MiB, ( 9215.28 / 10922.67)\n",
      "llama_new_context_with_model:      Metal compute buffer size =     5.13 MiB\n",
      "llama_new_context_with_model:        CPU compute buffer size =     0.25 MiB\n",
      "llama_new_context_with_model: graph splits (measure): 3\n",
      "AVX = 0 | AVX_VNNI = 0 | AVX2 = 0 | AVX512 = 0 | AVX512_VBMI = 0 | AVX512_VNNI = 0 | FMA = 0 | NEON = 1 | ARM_FMA = 1 | F16C = 0 | FP16_VA = 1 | WASM_SIMD = 0 | BLAS = 1 | SSE3 = 0 | SSSE3 = 0 | VSX = 0 | MATMUL_INT8 = 0 | \n",
      "Model metadata: {'general.quantization_version': '2', 'tokenizer.ggml.add_eos_token': 'false', 'tokenizer.ggml.add_bos_token': 'true', 'tokenizer.ggml.padding_token_id': '0', 'tokenizer.ggml.unknown_token_id': '0', 'tokenizer.ggml.eos_token_id': '2', 'tokenizer.ggml.bos_token_id': '1', 'tokenizer.ggml.model': 'llama', 'llama.attention.head_count_kv': '32', 'llama.context_length': '4096', 'llama.attention.head_count': '32', 'llama.rope.freq_base': '10000.000000', 'llama.rope.dimension_count': '128', 'general.file_type': '2', 'llama.feed_forward_length': '11008', 'llama.block_count': '32', 'llama.embedding_length': '4096', 'general.architecture': 'llama', 'llama.attention.layer_norm_rms_epsilon': '0.000010', 'general.name': 'LLaMA v2', 'llama.vocab_size': '32000'}\n",
      "llama_model_loader: loaded meta data with 24 key-value pairs and 291 tensors from artifacts/nature/model_2/Llama-2-7b-m2ft-q4.gguf (version GGUF V3 (latest))\n",
      "llama_model_loader: Dumping metadata keys/values. Note: KV overrides do not apply in this output.\n",
      "llama_model_loader: - kv   0:                       general.architecture str              = llama\n",
      "llama_model_loader: - kv   1:                               general.name str              = LLaMA v2\n",
      "llama_model_loader: - kv   2:                           llama.vocab_size u32              = 32000\n",
      "llama_model_loader: - kv   3:                       llama.context_length u32              = 4096\n",
      "llama_model_loader: - kv   4:                     llama.embedding_length u32              = 4096\n",
      "llama_model_loader: - kv   5:                          llama.block_count u32              = 32\n",
      "llama_model_loader: - kv   6:                  llama.feed_forward_length u32              = 11008\n",
      "llama_model_loader: - kv   7:                 llama.rope.dimension_count u32              = 128\n",
      "llama_model_loader: - kv   8:                 llama.attention.head_count u32              = 32\n",
      "llama_model_loader: - kv   9:              llama.attention.head_count_kv u32              = 32\n",
      "llama_model_loader: - kv  10:     llama.attention.layer_norm_rms_epsilon f32              = 0.000010\n",
      "llama_model_loader: - kv  11:                       llama.rope.freq_base f32              = 10000.000000\n",
      "llama_model_loader: - kv  12:                          general.file_type u32              = 2\n",
      "llama_model_loader: - kv  13:                       tokenizer.ggml.model str              = llama\n",
      "llama_model_loader: - kv  14:                      tokenizer.ggml.tokens arr[str,32000]   = [\"<unk>\", \"<s>\", \"</s>\", \"<0x00>\", \"<...\n",
      "llama_model_loader: - kv  15:                      tokenizer.ggml.scores arr[f32,32000]   = [0.000000, 0.000000, 0.000000, 0.0000...\n",
      "llama_model_loader: - kv  16:                  tokenizer.ggml.token_type arr[i32,32000]   = [2, 3, 3, 6, 6, 6, 6, 6, 6, 6, 6, 6, ...\n",
      "llama_model_loader: - kv  17:                tokenizer.ggml.bos_token_id u32              = 1\n",
      "llama_model_loader: - kv  18:                tokenizer.ggml.eos_token_id u32              = 2\n",
      "llama_model_loader: - kv  19:            tokenizer.ggml.unknown_token_id u32              = 0\n",
      "llama_model_loader: - kv  20:            tokenizer.ggml.padding_token_id u32              = 0\n",
      "llama_model_loader: - kv  21:               tokenizer.ggml.add_bos_token bool             = true\n",
      "llama_model_loader: - kv  22:               tokenizer.ggml.add_eos_token bool             = false\n",
      "llama_model_loader: - kv  23:               general.quantization_version u32              = 2\n",
      "llama_model_loader: - type  f32:   65 tensors\n",
      "llama_model_loader: - type q4_0:  225 tensors\n",
      "llama_model_loader: - type q6_K:    1 tensors\n",
      "llm_load_vocab: special tokens definition check successful ( 259/32000 ).\n",
      "llm_load_print_meta: format           = GGUF V3 (latest)\n",
      "llm_load_print_meta: arch             = llama\n",
      "llm_load_print_meta: vocab type       = SPM\n",
      "llm_load_print_meta: n_vocab          = 32000\n",
      "llm_load_print_meta: n_merges         = 0\n",
      "llm_load_print_meta: n_ctx_train      = 4096\n",
      "llm_load_print_meta: n_embd           = 4096\n",
      "llm_load_print_meta: n_head           = 32\n",
      "llm_load_print_meta: n_head_kv        = 32\n",
      "llm_load_print_meta: n_layer          = 32\n",
      "llm_load_print_meta: n_rot            = 128\n",
      "llm_load_print_meta: n_embd_head_k    = 128\n",
      "llm_load_print_meta: n_embd_head_v    = 128\n",
      "llm_load_print_meta: n_gqa            = 1\n",
      "llm_load_print_meta: n_embd_k_gqa     = 4096\n",
      "llm_load_print_meta: n_embd_v_gqa     = 4096\n",
      "llm_load_print_meta: f_norm_eps       = 0.0e+00\n",
      "llm_load_print_meta: f_norm_rms_eps   = 1.0e-05\n",
      "llm_load_print_meta: f_clamp_kqv      = 0.0e+00\n",
      "llm_load_print_meta: f_max_alibi_bias = 0.0e+00\n",
      "llm_load_print_meta: n_ff             = 11008\n",
      "llm_load_print_meta: n_expert         = 0\n",
      "llm_load_print_meta: n_expert_used    = 0\n",
      "llm_load_print_meta: rope scaling     = linear\n",
      "llm_load_print_meta: freq_base_train  = 10000.0\n",
      "llm_load_print_meta: freq_scale_train = 1\n",
      "llm_load_print_meta: n_yarn_orig_ctx  = 4096\n",
      "llm_load_print_meta: rope_finetuned   = unknown\n",
      "llm_load_print_meta: model type       = 7B\n",
      "llm_load_print_meta: model ftype      = Q4_0\n",
      "llm_load_print_meta: model params     = 6.74 B\n",
      "llm_load_print_meta: model size       = 3.56 GiB (4.54 BPW) \n",
      "llm_load_print_meta: general.name     = LLaMA v2\n",
      "llm_load_print_meta: BOS token        = 1 '<s>'\n",
      "llm_load_print_meta: EOS token        = 2 '</s>'\n",
      "llm_load_print_meta: UNK token        = 0 '<unk>'\n",
      "llm_load_print_meta: PAD token        = 0 '<unk>'\n",
      "llm_load_print_meta: LF token         = 13 '<0x0A>'\n",
      "llm_load_tensors: ggml ctx size =    0.22 MiB\n",
      "ggml_backend_metal_buffer_from_ptr: allocated buffer, size =  3577.56 MiB, (12792.84 / 10922.67)ggml_backend_metal_log_allocated_size: warning: current allocated size is greater than the recommended max working set size\n",
      "llm_load_tensors: offloading 32 repeating layers to GPU\n",
      "llm_load_tensors: offloading non-repeating layers to GPU\n",
      "llm_load_tensors: offloaded 33/33 layers to GPU\n",
      "llm_load_tensors:        CPU buffer size =    70.31 MiB\n",
      "llm_load_tensors:      Metal buffer size =  3577.56 MiB\n",
      "..................................................................................................\n",
      "llama_new_context_with_model: n_ctx      = 2048\n",
      "llama_new_context_with_model: freq_base  = 10000.0\n",
      "llama_new_context_with_model: freq_scale = 1\n",
      "ggml_metal_init: allocating\n",
      "ggml_metal_init: found device: Apple M1 Pro\n",
      "ggml_metal_init: picking default device: Apple M1 Pro\n",
      "ggml_metal_init: default.metallib not found, loading from source\n",
      "ggml_metal_init: GGML_METAL_PATH_RESOURCES = nil\n",
      "ggml_metal_init: loading '/Users/dima/Repo/Alexandra/venv/lib/python3.11/site-packages/llama_cpp/ggml-metal.metal'\n",
      "ggml_metal_init: GPU name:   Apple M1 Pro\n",
      "ggml_metal_init: GPU family: MTLGPUFamilyApple7  (1007)\n",
      "ggml_metal_init: GPU family: MTLGPUFamilyCommon3 (3003)\n",
      "ggml_metal_init: GPU family: MTLGPUFamilyMetal3  (5001)\n",
      "ggml_metal_init: simdgroup reduction support   = true\n",
      "ggml_metal_init: simdgroup matrix mul. support = true\n",
      "ggml_metal_init: hasUnifiedMemory              = true\n",
      "ggml_metal_init: recommendedMaxWorkingSetSize  = 11453.25 MB\n",
      "ggml_backend_metal_buffer_type_alloc_buffer: allocated buffer, size =  1024.00 MiB, (13820.84 / 10922.67)ggml_backend_metal_log_allocated_size: warning: current allocated size is greater than the recommended max working set size\n",
      "llama_kv_cache_init:      Metal KV buffer size =  1024.00 MiB\n",
      "llama_new_context_with_model: KV self size  = 1024.00 MiB, K (f16):  512.00 MiB, V (f16):  512.00 MiB\n",
      "llama_new_context_with_model:        CPU input buffer size   =     0.39 MiB\n",
      "ggml_backend_metal_buffer_type_alloc_buffer: allocated buffer, size =     5.14 MiB, (13825.98 / 10922.67)ggml_backend_metal_log_allocated_size: warning: current allocated size is greater than the recommended max working set size\n",
      "llama_new_context_with_model:      Metal compute buffer size =     5.13 MiB\n",
      "llama_new_context_with_model:        CPU compute buffer size =     0.25 MiB\n",
      "llama_new_context_with_model: graph splits (measure): 3\n",
      "AVX = 0 | AVX_VNNI = 0 | AVX2 = 0 | AVX512 = 0 | AVX512_VBMI = 0 | AVX512_VNNI = 0 | FMA = 0 | NEON = 1 | ARM_FMA = 1 | F16C = 0 | FP16_VA = 1 | WASM_SIMD = 0 | BLAS = 1 | SSE3 = 0 | SSSE3 = 0 | VSX = 0 | MATMUL_INT8 = 0 | \n",
      "Model metadata: {'general.quantization_version': '2', 'tokenizer.ggml.add_eos_token': 'false', 'tokenizer.ggml.add_bos_token': 'true', 'tokenizer.ggml.padding_token_id': '0', 'tokenizer.ggml.unknown_token_id': '0', 'tokenizer.ggml.eos_token_id': '2', 'tokenizer.ggml.bos_token_id': '1', 'tokenizer.ggml.model': 'llama', 'llama.attention.head_count_kv': '32', 'llama.context_length': '4096', 'llama.attention.head_count': '32', 'llama.rope.freq_base': '10000.000000', 'llama.rope.dimension_count': '128', 'general.file_type': '2', 'llama.feed_forward_length': '11008', 'llama.block_count': '32', 'llama.embedding_length': '4096', 'general.architecture': 'llama', 'llama.attention.layer_norm_rms_epsilon': '0.000010', 'general.name': 'LLaMA v2', 'llama.vocab_size': '32000'}\n",
      "ggml_metal_free: deallocating\n",
      "  0%|          | 0/157 [00:00<?, ?it/s]\n",
      "llama_print_timings:        load time =    4202.89 ms\n",
      "llama_print_timings:      sample time =       6.20 ms /    38 runs   (    0.16 ms per token,  6125.08 tokens per second)\n",
      "llama_print_timings: prompt eval time =   11773.84 ms /   906 tokens (   13.00 ms per token,    76.95 tokens per second)\n",
      "llama_print_timings:        eval time =    1177.00 ms /    37 runs   (   31.81 ms per token,    31.44 tokens per second)\n",
      "llama_print_timings:       total time =   13069.59 ms /   943 tokens\n"
     ]
    },
    {
     "name": "stdout",
     "output_type": "stream",
     "text": [
      "Chapleau River is in the James Bay drainage basin, begins at Chapleau Lake and is the main tributary of Kapuskasing Lake.\n",
      "++++++++++++++++++++++++++++++++++++\n",
      "[{'watercourse': 'Chapleau River', 'body_of_water': 'Chapleau Lake'}]\n",
      "++++++++++++++++++++++++++++++++++++\n"
     ]
    },
    {
     "name": "stderr",
     "output_type": "stream",
     "text": [
      "\n",
      "llama_print_timings:        load time =    4245.28 ms\n",
      "llama_print_timings:      sample time =       5.40 ms /    33 runs   (    0.16 ms per token,  6106.59 tokens per second)\n",
      "llama_print_timings: prompt eval time =    8123.06 ms /   480 tokens (   16.92 ms per token,    59.09 tokens per second)\n",
      "llama_print_timings:        eval time =     973.70 ms /    33 runs   (   29.51 ms per token,    33.89 tokens per second)\n",
      "llama_print_timings:       total time =    9179.30 ms /   513 tokens\n",
      "  1%|          | 1/157 [00:22<57:52, 22.26s/it]Llama.generate: prefix-match hit\n"
     ]
    },
    {
     "name": "stdout",
     "output_type": "stream",
     "text": [
      "[{'sub': 'Chapleau River', 'rel': 'origin of the watercourse', 'obj': 'Chapleau Lake'}]\n",
      "====================================\n",
      "{'model1': 'Llama-2-7b-m1ft-q4.gguf', 'model2': 'Llama-2-7b-m2ft-q4.gguf', 'sent': 'Chapleau River is in the James Bay drainage basin, begins at Chapleau Lake and is the main tributary of Kapuskasing Lake.', 'triples': [{'sub': 'Chapleau River', 'rel': 'origin of the watercourse', 'obj': 'Chapleau Lake'}]}\n",
      "====================================\n"
     ]
    },
    {
     "name": "stderr",
     "output_type": "stream",
     "text": [
      "\n",
      "llama_print_timings:        load time =    4202.89 ms\n",
      "llama_print_timings:      sample time =       3.84 ms /    24 runs   (    0.16 ms per token,  6256.52 tokens per second)\n",
      "llama_print_timings: prompt eval time =    3277.39 ms /    18 tokens (  182.08 ms per token,     5.49 tokens per second)\n",
      "llama_print_timings:        eval time =     734.95 ms /    23 runs   (   31.95 ms per token,    31.29 tokens per second)\n",
      "llama_print_timings:       total time =    4049.89 ms /    41 tokens\n",
      "  1%|▏         | 2/157 [00:26<29:50, 11.55s/it]Llama.generate: prefix-match hit\n"
     ]
    },
    {
     "name": "stdout",
     "output_type": "stream",
     "text": [
      "The mountains classification was won by Nicolas Edet (Cofidis)\n",
      "++++++++++++++++++++++++++++++++++++\n",
      "[{'mountain': 'Col du Tourmalet'}]\n",
      "++++++++++++++++++++++++++++++++++++\n",
      "{'triplets': []}\n",
      "====================================\n",
      "{'model1': 'Llama-2-7b-m1ft-q4.gguf', 'model2': 'Llama-2-7b-m2ft-q4.gguf', 'sent': 'The mountains classification was won by Nicolas Edet (Cofidis)', 'triples': []}\n",
      "====================================\n"
     ]
    },
    {
     "name": "stderr",
     "output_type": "stream",
     "text": [
      "\n",
      "llama_print_timings:        load time =    4202.89 ms\n",
      "llama_print_timings:      sample time =       6.25 ms /    39 runs   (    0.16 ms per token,  6240.00 tokens per second)\n",
      "llama_print_timings: prompt eval time =     834.11 ms /    83 tokens (   10.05 ms per token,    99.51 tokens per second)\n",
      "llama_print_timings:        eval time =    1214.12 ms /    38 runs   (   31.95 ms per token,    31.30 tokens per second)\n",
      "llama_print_timings:       total time =    2111.66 ms /   121 tokens\n",
      "Llama.generate: prefix-match hit\n"
     ]
    },
    {
     "name": "stdout",
     "output_type": "stream",
     "text": [
      "The wreathed hornbill (Rhyticeros undulatus), also known as the bar-pouched wreathed hornbill, is a species of hornbill found in forests from far north-eastern India and Bhutan, east and south through mainland Southeast Asia and the Greater Sundas in Indonesia, except Sulawesi.\n",
      "++++++++++++++++++++++++++++++++++++\n",
      "[{'taxon': 'Wreathed hornbill', 'synonym': 'Rhyticeros undulatus'}]\n",
      "++++++++++++++++++++++++++++++++++++\n"
     ]
    },
    {
     "name": "stderr",
     "output_type": "stream",
     "text": [
      "\n",
      "llama_print_timings:        load time =    4245.28 ms\n",
      "llama_print_timings:      sample time =       5.83 ms /    36 runs   (    0.16 ms per token,  6173.90 tokens per second)\n",
      "llama_print_timings: prompt eval time =    4438.51 ms /   234 tokens (   18.97 ms per token,    52.72 tokens per second)\n",
      "llama_print_timings:        eval time =    1041.28 ms /    35 runs   (   29.75 ms per token,    33.61 tokens per second)\n",
      "llama_print_timings:       total time =    5547.62 ms /   269 tokens\n",
      "  2%|▏         | 3/157 [00:33<25:06,  9.78s/it]Llama.generate: prefix-match hit\n"
     ]
    },
    {
     "name": "stdout",
     "output_type": "stream",
     "text": [
      "[{'sub': 'Wreathed hornbill', 'rel': 'taxon synonym', 'obj': 'Rhyticeros undulatus'}]\n",
      "====================================\n",
      "{'model1': 'Llama-2-7b-m1ft-q4.gguf', 'model2': 'Llama-2-7b-m2ft-q4.gguf', 'sent': 'The wreathed hornbill (Rhyticeros undulatus), also known as the bar-pouched wreathed hornbill, is a species of hornbill found in forests from far north-eastern India and Bhutan, east and south through mainland Southeast Asia and the Greater Sundas in Indonesia, except Sulawesi.', 'triples': [{'sub': 'Wreathed hornbill', 'rel': 'taxon synonym', 'obj': 'Rhyticeros undulatus'}]}\n",
      "====================================\n"
     ]
    },
    {
     "name": "stderr",
     "output_type": "stream",
     "text": [
      "\n",
      "llama_print_timings:        load time =    4202.89 ms\n",
      "llama_print_timings:      sample time =       2.15 ms /    13 runs   (    0.17 ms per token,  6049.33 tokens per second)\n",
      "llama_print_timings: prompt eval time =    2757.03 ms /    79 tokens (   34.90 ms per token,    28.65 tokens per second)\n",
      "llama_print_timings:        eval time =     383.57 ms /    12 runs   (   31.96 ms per token,    31.28 tokens per second)\n",
      "llama_print_timings:       total time =    3167.13 ms /    91 tokens\n",
      "  3%|▎         | 4/157 [00:37<18:17,  7.17s/it]Llama.generate: prefix-match hit\n"
     ]
    },
    {
     "name": "stdout",
     "output_type": "stream",
     "text": [
      "The podium placings were completed by another former winner, Tom-Jelte Slagter of Team Dimension Data, who finished third on Willunga Hill, taking four bonus seconds that put him ahead of the four other competitors that 2018 Tour Down Under had finished with; Slagter finished 16 seconds down on Impey overall.\n",
      "++++++++++++++++++++++++++++++++++++\n",
      "[{}]\n",
      "++++++++++++++++++++++++++++++++++++\n",
      "{'triplets': []}\n",
      "====================================\n",
      "{'model1': 'Llama-2-7b-m1ft-q4.gguf', 'model2': 'Llama-2-7b-m2ft-q4.gguf', 'sent': 'The podium placings were completed by another former winner, Tom-Jelte Slagter of Team Dimension Data, who finished third on Willunga Hill, taking four bonus seconds that put him ahead of the four other competitors that 2018 Tour Down Under had finished with; Slagter finished 16 seconds down on Impey overall.', 'triples': []}\n",
      "====================================\n"
     ]
    },
    {
     "name": "stderr",
     "output_type": "stream",
     "text": [
      "\n",
      "llama_print_timings:        load time =    4202.89 ms\n",
      "llama_print_timings:      sample time =       3.88 ms /    24 runs   (    0.16 ms per token,  6180.79 tokens per second)\n",
      "llama_print_timings: prompt eval time =     415.44 ms /    38 tokens (   10.93 ms per token,    91.47 tokens per second)\n",
      "llama_print_timings:        eval time =     729.77 ms /    23 runs   (   31.73 ms per token,    31.52 tokens per second)\n",
      "llama_print_timings:       total time =    1183.71 ms /    61 tokens\n",
      "  3%|▎         | 5/157 [00:38<12:42,  5.01s/it]Llama.generate: prefix-match hit\n"
     ]
    },
    {
     "name": "stdout",
     "output_type": "stream",
     "text": [
      "The Australian swiftlet (Aerodramus terraereginae) is a small bird belonging to the genus Aerodramus in the swift family, Apodidae.\n",
      "++++++++++++++++++++++++++++++++++++\n",
      "[{'taxon': 'Aerodramus'}]\n",
      "++++++++++++++++++++++++++++++++++++\n",
      "{'triplets': []}\n",
      "====================================\n",
      "{'model1': 'Llama-2-7b-m1ft-q4.gguf', 'model2': 'Llama-2-7b-m2ft-q4.gguf', 'sent': 'The Australian swiftlet (Aerodramus terraereginae) is a small bird belonging to the genus Aerodramus in the swift family, Apodidae.', 'triples': []}\n",
      "====================================\n"
     ]
    },
    {
     "name": "stderr",
     "output_type": "stream",
     "text": [
      "\n",
      "llama_print_timings:        load time =    4202.89 ms\n",
      "llama_print_timings:      sample time =       3.79 ms /    23 runs   (    0.16 ms per token,  6067.00 tokens per second)\n",
      "llama_print_timings: prompt eval time =     272.04 ms /    22 tokens (   12.37 ms per token,    80.87 tokens per second)\n",
      "llama_print_timings:        eval time =     694.47 ms /    22 runs   (   31.57 ms per token,    31.68 tokens per second)\n",
      "llama_print_timings:       total time =    1003.41 ms /    44 tokens\n",
      "  4%|▍         | 6/157 [00:39<09:11,  3.65s/it]Llama.generate: prefix-match hit\n"
     ]
    },
    {
     "name": "stdout",
     "output_type": "stream",
     "text": [
      "Nesoluma is a genus of flowering plants in the family Sapotaceae.\n",
      "++++++++++++++++++++++++++++++++++++\n",
      "[{'taxon': 'Sapotaceae'}]\n",
      "++++++++++++++++++++++++++++++++++++\n",
      "{'triplets': []}\n",
      "====================================\n",
      "{'model1': 'Llama-2-7b-m1ft-q4.gguf', 'model2': 'Llama-2-7b-m2ft-q4.gguf', 'sent': 'Nesoluma is a genus of flowering plants in the family Sapotaceae.', 'triples': []}\n",
      "====================================\n"
     ]
    },
    {
     "name": "stderr",
     "output_type": "stream",
     "text": [
      "\n",
      "llama_print_timings:        load time =    4202.89 ms\n",
      "llama_print_timings:      sample time =       2.08 ms /    13 runs   (    0.16 ms per token,  6235.01 tokens per second)\n",
      "llama_print_timings: prompt eval time =     827.31 ms /    82 tokens (   10.09 ms per token,    99.12 tokens per second)\n",
      "llama_print_timings:        eval time =     381.86 ms /    12 runs   (   31.82 ms per token,    31.42 tokens per second)\n",
      "llama_print_timings:       total time =    1234.80 ms /    94 tokens\n",
      "  4%|▍         | 7/157 [00:40<07:09,  2.86s/it]Llama.generate: prefix-match hit\n"
     ]
    },
    {
     "name": "stdout",
     "output_type": "stream",
     "text": [
      "The race was won for the second time in three years by Olympic and European champion Anna van der Breggen (Boels-Dolmans) from the Netherlands, who took the leader's pink jersey after the second stage and maintained the lead for the remainder of the race, taking the overall lead of the UCI Women's World Tour standings in the process.\n",
      "++++++++++++++++++++++++++++++++++++\n",
      "[{}]\n",
      "++++++++++++++++++++++++++++++++++++\n",
      "{'triplets': []}\n",
      "====================================\n",
      "{'model1': 'Llama-2-7b-m1ft-q4.gguf', 'model2': 'Llama-2-7b-m2ft-q4.gguf', 'sent': \"The race was won for the second time in three years by Olympic and European champion Anna van der Breggen (Boels-Dolmans) from the Netherlands, who took the leader's pink jersey after the second stage and maintained the lead for the remainder of the race, taking the overall lead of the UCI Women's World Tour standings in the process.\", 'triples': []}\n",
      "====================================\n"
     ]
    },
    {
     "name": "stderr",
     "output_type": "stream",
     "text": [
      "\n",
      "llama_print_timings:        load time =    4202.89 ms\n",
      "llama_print_timings:      sample time =       3.56 ms /    22 runs   (    0.16 ms per token,  6184.99 tokens per second)\n",
      "llama_print_timings: prompt eval time =     553.84 ms /    55 tokens (   10.07 ms per token,    99.31 tokens per second)\n",
      "llama_print_timings:        eval time =     670.02 ms /    21 runs   (   31.91 ms per token,    31.34 tokens per second)\n",
      "llama_print_timings:       total time =    1259.39 ms /    76 tokens\n",
      "  5%|▌         | 8/157 [00:41<05:50,  2.35s/it]Llama.generate: prefix-match hit\n"
     ]
    },
    {
     "name": "stdout",
     "output_type": "stream",
     "text": [
      "The merged river is also known as Mouwen River (Chinese: ; pinyin: MouWÃ¨nHÃ©) which flows through Tai'an, Feicheng, empties into Dongping Lake which enters Yellow River.\n",
      "++++++++++++++++++++++++++++++++++++\n",
      "[{'watercourse': 'Yellow River'}]\n",
      "++++++++++++++++++++++++++++++++++++\n",
      "{'triplets': []}\n",
      "====================================\n",
      "{'model1': 'Llama-2-7b-m1ft-q4.gguf', 'model2': 'Llama-2-7b-m2ft-q4.gguf', 'sent': \"The merged river is also known as Mouwen River (Chinese: ; pinyin: MouWÃ¨nHÃ©) which flows through Tai'an, Feicheng, empties into Dongping Lake which enters Yellow River.\", 'triples': []}\n",
      "====================================\n"
     ]
    },
    {
     "name": "stderr",
     "output_type": "stream",
     "text": [
      "\n",
      "llama_print_timings:        load time =    4202.89 ms\n",
      "llama_print_timings:      sample time =       5.95 ms /    37 runs   (    0.16 ms per token,  6221.62 tokens per second)\n",
      "llama_print_timings: prompt eval time =     415.21 ms /    42 tokens (    9.89 ms per token,   101.15 tokens per second)\n",
      "llama_print_timings:        eval time =    1144.82 ms /    36 runs   (   31.80 ms per token,    31.45 tokens per second)\n",
      "llama_print_timings:       total time =    1616.55 ms /    78 tokens\n",
      "Llama.generate: prefix-match hit\n"
     ]
    },
    {
     "name": "stdout",
     "output_type": "stream",
     "text": [
      "The feature is located 1.5Â km (1Â mi) north of Istind Peak, on the east side of Ahlmann Ridge in Queen Maud Land.\n",
      "++++++++++++++++++++++++++++++++++++\n",
      "[{'mountain': 'Istind Peak', 'mountain_range': 'Ahlmann Ridge'}]\n",
      "++++++++++++++++++++++++++++++++++++\n"
     ]
    },
    {
     "name": "stderr",
     "output_type": "stream",
     "text": [
      "\n",
      "llama_print_timings:        load time =    4245.28 ms\n",
      "llama_print_timings:      sample time =       4.87 ms /    30 runs   (    0.16 ms per token,  6161.43 tokens per second)\n",
      "llama_print_timings: prompt eval time =    3478.71 ms /   191 tokens (   18.21 ms per token,    54.91 tokens per second)\n",
      "llama_print_timings:        eval time =     851.76 ms /    29 runs   (   29.37 ms per token,    34.05 tokens per second)\n",
      "llama_print_timings:       total time =    4387.22 ms /   220 tokens\n",
      "  6%|▌         | 9/157 [00:47<08:37,  3.50s/it]Llama.generate: prefix-match hit\n"
     ]
    },
    {
     "name": "stdout",
     "output_type": "stream",
     "text": [
      "[{'sub': 'Ahlmann Ridge', 'rel': 'peak', 'obj': 'Istind Peak'}]\n",
      "====================================\n",
      "{'model1': 'Llama-2-7b-m1ft-q4.gguf', 'model2': 'Llama-2-7b-m2ft-q4.gguf', 'sent': 'The feature is located 1.5Â\\xa0km (1Â\\xa0mi) north of Istind Peak, on the east side of Ahlmann Ridge in Queen Maud Land.', 'triples': [{'sub': 'Ahlmann Ridge', 'rel': 'peak', 'obj': 'Istind Peak'}]}\n",
      "====================================\n"
     ]
    },
    {
     "name": "stderr",
     "output_type": "stream",
     "text": [
      "\n",
      "llama_print_timings:        load time =    4202.89 ms\n",
      "llama_print_timings:      sample time =       5.48 ms /    34 runs   (    0.16 ms per token,  6200.98 tokens per second)\n",
      "llama_print_timings: prompt eval time =    2756.54 ms /    22 tokens (  125.30 ms per token,     7.98 tokens per second)\n",
      "llama_print_timings:        eval time =    1046.29 ms /    33 runs   (   31.71 ms per token,    31.54 tokens per second)\n",
      "llama_print_timings:       total time =    3853.99 ms /    55 tokens\n",
      "Llama.generate: prefix-match hit\n"
     ]
    },
    {
     "name": "stdout",
     "output_type": "stream",
     "text": [
      "Long-tailed duck is the only living member of its genus, Clangula.\n",
      "++++++++++++++++++++++++++++++++++++\n",
      "[{'taxon': 'Long-tailed duck', 'synonym': 'Clangula'}]\n",
      "++++++++++++++++++++++++++++++++++++\n"
     ]
    },
    {
     "name": "stderr",
     "output_type": "stream",
     "text": [
      "\n",
      "llama_print_timings:        load time =    4245.28 ms\n",
      "llama_print_timings:      sample time =       5.50 ms /    31 runs   (    0.18 ms per token,  5636.36 tokens per second)\n",
      "llama_print_timings: prompt eval time =    3144.81 ms /   167 tokens (   18.83 ms per token,    53.10 tokens per second)\n",
      "llama_print_timings:        eval time =     884.90 ms /    30 runs   (   29.50 ms per token,    33.90 tokens per second)\n",
      "llama_print_timings:       total time =    4093.11 ms /   197 tokens\n",
      "  6%|▋         | 10/157 [00:55<11:56,  4.88s/it]Llama.generate: prefix-match hit\n"
     ]
    },
    {
     "name": "stdout",
     "output_type": "stream",
     "text": [
      "[{'sub': 'Long-tailed duck', 'rel': 'taxon synonym', 'obj': 'Clangula'}]\n",
      "====================================\n",
      "{'model1': 'Llama-2-7b-m1ft-q4.gguf', 'model2': 'Llama-2-7b-m2ft-q4.gguf', 'sent': 'Long-tailed duck is the only living member of its genus, Clangula.', 'triples': [{'sub': 'Long-tailed duck', 'rel': 'taxon synonym', 'obj': 'Clangula'}]}\n",
      "====================================\n"
     ]
    },
    {
     "name": "stderr",
     "output_type": "stream",
     "text": [
      "\n",
      "llama_print_timings:        load time =    4202.89 ms\n",
      "llama_print_timings:      sample time =       5.66 ms /    35 runs   (    0.16 ms per token,  6184.84 tokens per second)\n",
      "llama_print_timings: prompt eval time =    2445.19 ms /    46 tokens (   53.16 ms per token,    18.81 tokens per second)\n",
      "llama_print_timings:        eval time =    1082.06 ms /    34 runs   (   31.83 ms per token,    31.42 tokens per second)\n",
      "llama_print_timings:       total time =    3583.57 ms /    80 tokens\n",
      "Llama.generate: prefix-match hit\n"
     ]
    },
    {
     "name": "stdout",
     "output_type": "stream",
     "text": [
      "Mount Sannosawa ( Sannosawa-dake) is amongst the Kiso Mountains, located in the Kiso District, Nagano Prefecture, in the Chūbu region of Japan.\n",
      "++++++++++++++++++++++++++++++++++++\n",
      "[{'mountain': 'Mount Sannosawa', 'mountain_range': 'Kiso Mountains'}]\n",
      "++++++++++++++++++++++++++++++++++++\n"
     ]
    },
    {
     "name": "stderr",
     "output_type": "stream",
     "text": [
      "\n",
      "llama_print_timings:        load time =    4245.28 ms\n",
      "llama_print_timings:      sample time =       5.42 ms /    29 runs   (    0.19 ms per token,  5348.58 tokens per second)\n",
      "llama_print_timings: prompt eval time =    3076.99 ms /   192 tokens (   16.03 ms per token,    62.40 tokens per second)\n",
      "llama_print_timings:        eval time =     828.08 ms /    28 runs   (   29.57 ms per token,    33.81 tokens per second)\n",
      "llama_print_timings:       total time =    3969.30 ms /   220 tokens\n",
      "  7%|▋         | 11/157 [01:03<13:52,  5.70s/it]Llama.generate: prefix-match hit\n"
     ]
    },
    {
     "name": "stdout",
     "output_type": "stream",
     "text": [
      "[{'sub': 'Mount Sannosawa', 'rel': 'mountain range', 'obj': 'Kiso Mountains'}]\n",
      "====================================\n",
      "{'model1': 'Llama-2-7b-m1ft-q4.gguf', 'model2': 'Llama-2-7b-m2ft-q4.gguf', 'sent': 'Mount Sannosawa ( Sannosawa-dake) is amongst the Kiso Mountains, located in the Kiso District, Nagano Prefecture, in the Chūbu region of Japan.', 'triples': [{'sub': 'Mount Sannosawa', 'rel': 'mountain range', 'obj': 'Kiso Mountains'}]}\n",
      "====================================\n"
     ]
    },
    {
     "name": "stderr",
     "output_type": "stream",
     "text": [
      "\n",
      "llama_print_timings:        load time =    4202.89 ms\n",
      "llama_print_timings:      sample time =       6.29 ms /    36 runs   (    0.17 ms per token,  5723.37 tokens per second)\n",
      "llama_print_timings: prompt eval time =    1662.26 ms /    55 tokens (   30.22 ms per token,    33.09 tokens per second)\n",
      "llama_print_timings:        eval time =    1123.61 ms /    35 runs   (   32.10 ms per token,    31.15 tokens per second)\n",
      "llama_print_timings:       total time =    2856.36 ms /    90 tokens\n",
      "Llama.generate: prefix-match hit\n"
     ]
    },
    {
     "name": "stdout",
     "output_type": "stream",
     "text": [
      "Ove Peak (72°11S 3°27W) is the northernmost peak in the group at the west side of Wilson Saddle, near the southwest end of Ahlmann Ridge in Queen Maud Land.\n",
      "++++++++++++++++++++++++++++++++++++\n",
      "[{'mountain': 'Ove Peak', 'mountain_range': 'Ahlmann Ridge'}]\n",
      "++++++++++++++++++++++++++++++++++++\n"
     ]
    },
    {
     "name": "stderr",
     "output_type": "stream",
     "text": [
      "\n",
      "llama_print_timings:        load time =    4245.28 ms\n",
      "llama_print_timings:      sample time =       5.14 ms /    30 runs   (    0.17 ms per token,  5832.04 tokens per second)\n",
      "llama_print_timings: prompt eval time =    1955.90 ms /   198 tokens (    9.88 ms per token,   101.23 tokens per second)\n",
      "llama_print_timings:        eval time =     856.17 ms /    29 runs   (   29.52 ms per token,    33.87 tokens per second)\n",
      "llama_print_timings:       total time =    2889.84 ms /   227 tokens\n",
      "  8%|▊         | 12/157 [01:09<13:49,  5.72s/it]Llama.generate: prefix-match hit\n"
     ]
    },
    {
     "name": "stdout",
     "output_type": "stream",
     "text": [
      "[{'sub': 'Ove Peak', 'rel': 'mountain range', 'obj': 'Ahlmann Ridge'}]\n",
      "====================================\n",
      "{'model1': 'Llama-2-7b-m1ft-q4.gguf', 'model2': 'Llama-2-7b-m2ft-q4.gguf', 'sent': 'Ove Peak (72°11S 3°27W) is the northernmost peak in the group at the west side of Wilson Saddle, near the southwest end of Ahlmann Ridge in Queen Maud Land.', 'triples': [{'sub': 'Ove Peak', 'rel': 'mountain range', 'obj': 'Ahlmann Ridge'}]}\n",
      "====================================\n"
     ]
    },
    {
     "name": "stderr",
     "output_type": "stream",
     "text": [
      "\n",
      "llama_print_timings:        load time =    4202.89 ms\n",
      "llama_print_timings:      sample time =       3.91 ms /    23 runs   (    0.17 ms per token,  5877.84 tokens per second)\n",
      "llama_print_timings: prompt eval time =    1371.36 ms /    69 tokens (   19.87 ms per token,    50.32 tokens per second)\n",
      "llama_print_timings:        eval time =     703.63 ms /    22 runs   (   31.98 ms per token,    31.27 tokens per second)\n",
      "llama_print_timings:       total time =    2125.97 ms /    91 tokens\n",
      "  8%|▊         | 13/157 [01:11<11:07,  4.64s/it]Llama.generate: prefix-match hit\n"
     ]
    },
    {
     "name": "stdout",
     "output_type": "stream",
     "text": [
      "Pannerdens Kanaal flows past the towns of Pannerden (right bank), which gives the canal its name, and Angeren (left bank) and so north to the point where the old Rhine bend flows into it and the river continues to the sea as Nederrijn (Lower Rhine).\n",
      "++++++++++++++++++++++++++++++++++++\n",
      "[{'watercourse': 'Nederrijn'}]\n",
      "++++++++++++++++++++++++++++++++++++\n",
      "{'triplets': []}\n",
      "====================================\n",
      "{'model1': 'Llama-2-7b-m1ft-q4.gguf', 'model2': 'Llama-2-7b-m2ft-q4.gguf', 'sent': 'Pannerdens Kanaal flows past the towns of Pannerden (right bank), which gives the canal its name, and Angeren (left bank) and so north to the point where the old Rhine bend flows into it and the river continues to the sea as Nederrijn (Lower Rhine).', 'triples': []}\n",
      "====================================\n"
     ]
    },
    {
     "name": "stderr",
     "output_type": "stream",
     "text": [
      "\n",
      "llama_print_timings:        load time =    4202.89 ms\n",
      "llama_print_timings:      sample time =       3.85 ms /    24 runs   (    0.16 ms per token,  6230.53 tokens per second)\n",
      "llama_print_timings: prompt eval time =     546.92 ms /    56 tokens (    9.77 ms per token,   102.39 tokens per second)\n",
      "llama_print_timings:        eval time =     731.66 ms /    23 runs   (   31.81 ms per token,    31.44 tokens per second)\n",
      "llama_print_timings:       total time =    1318.22 ms /    79 tokens\n",
      "  9%|▉         | 14/157 [01:12<08:39,  3.64s/it]Llama.generate: prefix-match hit\n"
     ]
    },
    {
     "name": "stdout",
     "output_type": "stream",
     "text": [
      "It is classed as a subsidiary summit of Fan Fawr and makes up half of the Craig Cerrig-gleisiad and Fan Frynych National Nature Reserve with its sister peak Craig Cerrig-gleisiad.\n",
      "++++++++++++++++++++++++++++++++++++\n",
      "[{'mountain': 'Fan Frynych'}]\n",
      "++++++++++++++++++++++++++++++++++++\n",
      "{'triplets': []}\n",
      "====================================\n",
      "{'model1': 'Llama-2-7b-m1ft-q4.gguf', 'model2': 'Llama-2-7b-m2ft-q4.gguf', 'sent': 'It is classed as a subsidiary summit of Fan Fawr and makes up half of the Craig Cerrig-gleisiad and Fan Frynych National Nature Reserve with its sister peak Craig Cerrig-gleisiad.', 'triples': []}\n",
      "====================================\n"
     ]
    },
    {
     "name": "stderr",
     "output_type": "stream",
     "text": [
      "\n",
      "llama_print_timings:        load time =    4202.89 ms\n",
      "llama_print_timings:      sample time =       6.94 ms /    41 runs   (    0.17 ms per token,  5909.48 tokens per second)\n",
      "llama_print_timings: prompt eval time =     276.78 ms /    28 tokens (    9.88 ms per token,   101.16 tokens per second)\n",
      "llama_print_timings:        eval time =    1268.52 ms /    40 runs   (   31.71 ms per token,    31.53 tokens per second)\n",
      "llama_print_timings:       total time =    1611.92 ms /    68 tokens\n",
      "Llama.generate: prefix-match hit\n"
     ]
    },
    {
     "name": "stdout",
     "output_type": "stream",
     "text": [
      "Asteriscus maritimus) is a herbaceous perennial in the family Asteraceae.\n",
      "++++++++++++++++++++++++++++++++++++\n",
      "[{'taxon': 'Asteriscus maritimus', 'synonym': 'Asteriscus maritimus'}]\n",
      "++++++++++++++++++++++++++++++++++++\n"
     ]
    },
    {
     "name": "stderr",
     "output_type": "stream",
     "text": [
      "\n",
      "llama_print_timings:        load time =    4245.28 ms\n",
      "llama_print_timings:      sample time =       6.23 ms /    38 runs   (    0.16 ms per token,  6099.52 tokens per second)\n",
      "llama_print_timings: prompt eval time =    1841.91 ms /   180 tokens (   10.23 ms per token,    97.72 tokens per second)\n",
      "llama_print_timings:        eval time =    1090.65 ms /    37 runs   (   29.48 ms per token,    33.92 tokens per second)\n",
      "llama_print_timings:       total time =    3009.13 ms /   217 tokens\n",
      " 10%|▉         | 15/157 [01:17<09:19,  3.94s/it]Llama.generate: prefix-match hit\n"
     ]
    },
    {
     "name": "stdout",
     "output_type": "stream",
     "text": [
      "[{'sub': 'Asteriscus maritimus', 'rel': 'taxon synonym', 'obj': 'Asteriscus maritimus'}]\n",
      "====================================\n",
      "{'model1': 'Llama-2-7b-m1ft-q4.gguf', 'model2': 'Llama-2-7b-m2ft-q4.gguf', 'sent': 'Asteriscus maritimus) is a herbaceous perennial in the family Asteraceae.', 'triples': [{'sub': 'Asteriscus maritimus', 'rel': 'taxon synonym', 'obj': 'Asteriscus maritimus'}]}\n",
      "====================================\n"
     ]
    },
    {
     "name": "stderr",
     "output_type": "stream",
     "text": [
      "\n",
      "llama_print_timings:        load time =    4202.89 ms\n",
      "llama_print_timings:      sample time =       2.08 ms /    13 runs   (    0.16 ms per token,  6250.00 tokens per second)\n",
      "llama_print_timings: prompt eval time =     237.29 ms /    16 tokens (   14.83 ms per token,    67.43 tokens per second)\n",
      "llama_print_timings:        eval time =     410.05 ms /    13 runs   (   31.54 ms per token,    31.70 tokens per second)\n",
      "llama_print_timings:       total time =     667.76 ms /    29 tokens\n",
      " 10%|█         | 16/157 [01:17<06:56,  2.96s/it]Llama.generate: prefix-match hit\n"
     ]
    },
    {
     "name": "stdout",
     "output_type": "stream",
     "text": [
      "The race was won by Rob Britton of Rally Cycling.\n",
      "++++++++++++++++++++++++++++++++++++\n",
      "[{}]\n",
      "++++++++++++++++++++++++++++++++++++\n",
      "{'triplets': []}\n",
      "====================================\n",
      "{'model1': 'Llama-2-7b-m1ft-q4.gguf', 'model2': 'Llama-2-7b-m2ft-q4.gguf', 'sent': 'The race was won by Rob Britton of Rally Cycling.', 'triples': []}\n",
      "====================================\n"
     ]
    },
    {
     "name": "stderr",
     "output_type": "stream",
     "text": [
      "\n",
      "llama_print_timings:        load time =    4202.89 ms\n",
      "llama_print_timings:      sample time =       5.88 ms /    36 runs   (    0.16 ms per token,  6119.33 tokens per second)\n",
      "llama_print_timings: prompt eval time =     555.68 ms /    64 tokens (    8.68 ms per token,   115.18 tokens per second)\n",
      "llama_print_timings:        eval time =    1149.95 ms /    36 runs   (   31.94 ms per token,    31.31 tokens per second)\n",
      "llama_print_timings:       total time =    1770.46 ms /   100 tokens\n",
      "Llama.generate: prefix-match hit\n"
     ]
    },
    {
     "name": "stdout",
     "output_type": "stream",
     "text": [
      "Jones Nunatak (69Â°47S 159Â°4E) is a nunatak at the head of Noll Glacier, 4 nautical miles (7Â km) west of Mount Schutz, in the Wilson Hills of Antarctica.\n",
      "++++++++++++++++++++++++++++++++++++\n",
      "[{'mountain': 'Jones Nunatak', 'mountain_range': 'Wilson Hills'}]\n",
      "++++++++++++++++++++++++++++++++++++\n"
     ]
    },
    {
     "name": "stderr",
     "output_type": "stream",
     "text": [
      "\n",
      "llama_print_timings:        load time =    4245.28 ms\n",
      "llama_print_timings:      sample time =       5.25 ms /    30 runs   (    0.17 ms per token,  5715.37 tokens per second)\n",
      "llama_print_timings: prompt eval time =    2025.22 ms /   212 tokens (    9.55 ms per token,   104.68 tokens per second)\n",
      "llama_print_timings:        eval time =     859.68 ms /    29 runs   (   29.64 ms per token,    33.73 tokens per second)\n",
      "llama_print_timings:       total time =    2953.45 ms /   241 tokens\n",
      " 11%|█         | 17/157 [01:22<08:08,  3.49s/it]Llama.generate: prefix-match hit\n"
     ]
    },
    {
     "name": "stdout",
     "output_type": "stream",
     "text": [
      "[{'sub': 'Jones Nunatak', 'rel': 'mountain range', 'obj': 'Wilson Hills'}]\n",
      "====================================\n",
      "{'model1': 'Llama-2-7b-m1ft-q4.gguf', 'model2': 'Llama-2-7b-m2ft-q4.gguf', 'sent': 'Jones Nunatak (69Â°47S 159Â°4E) is a nunatak at the head of Noll Glacier, 4 nautical miles (7Â\\xa0km) west of Mount Schutz, in the Wilson Hills of Antarctica.', 'triples': [{'sub': 'Jones Nunatak', 'rel': 'mountain range', 'obj': 'Wilson Hills'}]}\n",
      "====================================\n"
     ]
    },
    {
     "name": "stderr",
     "output_type": "stream",
     "text": [
      "\n",
      "llama_print_timings:        load time =    4202.89 ms\n",
      "llama_print_timings:      sample time =       5.72 ms /    35 runs   (    0.16 ms per token,  6122.09 tokens per second)\n",
      "llama_print_timings: prompt eval time =     514.64 ms /    41 tokens (   12.55 ms per token,    79.67 tokens per second)\n",
      "llama_print_timings:        eval time =    1086.83 ms /    34 runs   (   31.97 ms per token,    31.28 tokens per second)\n",
      "llama_print_timings:       total time =    1662.36 ms /    75 tokens\n",
      "Llama.generate: prefix-match hit\n"
     ]
    },
    {
     "name": "stdout",
     "output_type": "stream",
     "text": [
      "The Veitskopf is  hill, 428Â mÂ aboveÂ sea level (NHN), in the Eifel mountains of Germany.\n",
      "++++++++++++++++++++++++++++++++++++\n",
      "[{'mountain': 'Veitskopf', 'mountain_range': 'Eifel'}]\n",
      "++++++++++++++++++++++++++++++++++++\n"
     ]
    },
    {
     "name": "stderr",
     "output_type": "stream",
     "text": [
      "\n",
      "llama_print_timings:        load time =    4245.28 ms\n",
      "llama_print_timings:      sample time =       5.32 ms /    29 runs   (    0.18 ms per token,  5455.23 tokens per second)\n",
      "llama_print_timings: prompt eval time =    1685.85 ms /   183 tokens (    9.21 ms per token,   108.55 tokens per second)\n",
      "llama_print_timings:        eval time =     826.90 ms /    28 runs   (   29.53 ms per token,    33.86 tokens per second)\n",
      "llama_print_timings:       total time =    2575.31 ms /   211 tokens\n",
      " 11%|█▏        | 18/157 [01:26<08:36,  3.72s/it]Llama.generate: prefix-match hit\n"
     ]
    },
    {
     "name": "stdout",
     "output_type": "stream",
     "text": [
      "[{'sub': 'Veitskopf', 'rel': 'mountain range', 'obj': 'Eifel'}]\n",
      "====================================\n",
      "{'model1': 'Llama-2-7b-m1ft-q4.gguf', 'model2': 'Llama-2-7b-m2ft-q4.gguf', 'sent': 'The Veitskopf is  hill, 428Â\\xa0mÂ\\xa0aboveÂ\\xa0sea level (NHN), in the Eifel mountains of Germany.', 'triples': [{'sub': 'Veitskopf', 'rel': 'mountain range', 'obj': 'Eifel'}]}\n",
      "====================================\n"
     ]
    },
    {
     "name": "stderr",
     "output_type": "stream",
     "text": [
      "\n",
      "llama_print_timings:        load time =    4202.89 ms\n",
      "llama_print_timings:      sample time =       2.18 ms /    13 runs   (    0.17 ms per token,  5971.52 tokens per second)\n",
      "llama_print_timings: prompt eval time =     854.98 ms /    71 tokens (   12.04 ms per token,    83.04 tokens per second)\n",
      "llama_print_timings:        eval time =     383.58 ms /    12 runs   (   31.96 ms per token,    31.28 tokens per second)\n",
      "llama_print_timings:       total time =    1268.51 ms /    83 tokens\n",
      " 12%|█▏        | 19/157 [01:28<06:51,  2.99s/it]Llama.generate: prefix-match hit\n"
     ]
    },
    {
     "name": "stdout",
     "output_type": "stream",
     "text": [
      "As well as the victories recorded by Greipel, Vermote, Groenewegen, Dennis and Ewan; Team Sky pair Ian Stannard and Wout Poels, Cannondale-Drapac's Jack Bauer and Etixx-Quick-Step rider Tony Martin took stage wins.\n",
      "++++++++++++++++++++++++++++++++++++\n",
      "[{}]\n",
      "++++++++++++++++++++++++++++++++++++\n",
      "{'triplets': []}\n",
      "====================================\n",
      "{'model1': 'Llama-2-7b-m1ft-q4.gguf', 'model2': 'Llama-2-7b-m2ft-q4.gguf', 'sent': \"As well as the victories recorded by Greipel, Vermote, Groenewegen, Dennis and Ewan; Team Sky pair Ian Stannard and Wout Poels, Cannondale-Drapac's Jack Bauer and Etixx-Quick-Step rider Tony Martin took stage wins.\", 'triples': []}\n",
      "====================================\n"
     ]
    },
    {
     "name": "stderr",
     "output_type": "stream",
     "text": [
      "\n",
      "llama_print_timings:        load time =    4202.89 ms\n",
      "llama_print_timings:      sample time =       2.16 ms /    13 runs   (    0.17 ms per token,  6018.52 tokens per second)\n",
      "llama_print_timings: prompt eval time =     413.70 ms /    45 tokens (    9.19 ms per token,   108.77 tokens per second)\n",
      "llama_print_timings:        eval time =     381.94 ms /    12 runs   (   31.83 ms per token,    31.42 tokens per second)\n",
      "llama_print_timings:       total time =     820.03 ms /    57 tokens\n",
      " 13%|█▎        | 20/157 [01:29<05:20,  2.34s/it]Llama.generate: prefix-match hit\n"
     ]
    },
    {
     "name": "stdout",
     "output_type": "stream",
     "text": [
      "Van der Breggen triumphed in the race overall by 63 seconds from the highest-placed Italian rider Elisa Longo Borghini, of the Wiggle High5 team.\n",
      "++++++++++++++++++++++++++++++++++++\n",
      "[{}]\n",
      "++++++++++++++++++++++++++++++++++++\n",
      "{'triplets': []}\n",
      "====================================\n",
      "{'model1': 'Llama-2-7b-m1ft-q4.gguf', 'model2': 'Llama-2-7b-m2ft-q4.gguf', 'sent': 'Van der Breggen triumphed in the race overall by 63 seconds from the highest-placed Italian rider Elisa Longo Borghini, of the Wiggle High5 team.', 'triples': []}\n",
      "====================================\n"
     ]
    },
    {
     "name": "stderr",
     "output_type": "stream",
     "text": [
      "\n",
      "llama_print_timings:        load time =    4202.89 ms\n",
      "llama_print_timings:      sample time =       2.13 ms /    13 runs   (    0.16 ms per token,  6111.89 tokens per second)\n",
      "llama_print_timings: prompt eval time =     271.15 ms /    20 tokens (   13.56 ms per token,    73.76 tokens per second)\n",
      "llama_print_timings:        eval time =     379.39 ms /    12 runs   (   31.62 ms per token,    31.63 tokens per second)\n",
      "llama_print_timings:       total time =     671.82 ms /    32 tokens\n",
      " 13%|█▎        | 21/157 [01:29<04:10,  1.84s/it]Llama.generate: prefix-match hit\n"
     ]
    },
    {
     "name": "stdout",
     "output_type": "stream",
     "text": [
      "The 2015 race was won by Geraint Thomas of Team Sky.\n",
      "++++++++++++++++++++++++++++++++++++\n",
      "[{}]\n",
      "++++++++++++++++++++++++++++++++++++\n",
      "{'triplets': []}\n",
      "====================================\n",
      "{'model1': 'Llama-2-7b-m1ft-q4.gguf', 'model2': 'Llama-2-7b-m2ft-q4.gguf', 'sent': 'The 2015 race was won by Geraint Thomas of Team Sky.', 'triples': []}\n",
      "====================================\n"
     ]
    },
    {
     "name": "stderr",
     "output_type": "stream",
     "text": [
      "\n",
      "llama_print_timings:        load time =    4202.89 ms\n",
      "llama_print_timings:      sample time =       4.80 ms /    25 runs   (    0.19 ms per token,  5211.59 tokens per second)\n",
      "llama_print_timings: prompt eval time =     555.14 ms /    60 tokens (    9.25 ms per token,   108.08 tokens per second)\n",
      "llama_print_timings:        eval time =     763.65 ms /    24 runs   (   31.82 ms per token,    31.43 tokens per second)\n",
      "llama_print_timings:       total time =    1366.52 ms /    84 tokens\n",
      " 14%|█▍        | 22/157 [01:31<03:49,  1.70s/it]Llama.generate: prefix-match hit\n"
     ]
    },
    {
     "name": "stdout",
     "output_type": "stream",
     "text": [
      "The sacred kingfisher (Todiramphus sanctus) is a medium-sized woodland kingfisher that occurs in mangroves, woodlands, forests, and river valleys in Australia, New Zealand, and other parts of the western Pacific.\n",
      "++++++++++++++++++++++++++++++++++++\n",
      "[{'taxon': 'Todiramphus'}]\n",
      "++++++++++++++++++++++++++++++++++++\n",
      "{'triplets': []}\n",
      "====================================\n",
      "{'model1': 'Llama-2-7b-m1ft-q4.gguf', 'model2': 'Llama-2-7b-m2ft-q4.gguf', 'sent': 'The sacred kingfisher (Todiramphus sanctus) is a medium-sized woodland kingfisher that occurs in mangroves, woodlands, forests, and river valleys in Australia, New Zealand, and other parts of the western Pacific.', 'triples': []}\n",
      "====================================\n"
     ]
    },
    {
     "name": "stderr",
     "output_type": "stream",
     "text": [
      "\n",
      "llama_print_timings:        load time =    4202.89 ms\n",
      "llama_print_timings:      sample time =       4.36 ms /    26 runs   (    0.17 ms per token,  5968.78 tokens per second)\n",
      "llama_print_timings: prompt eval time =     685.64 ms /    71 tokens (    9.66 ms per token,   103.55 tokens per second)\n",
      "llama_print_timings:        eval time =     794.08 ms /    25 runs   (   31.76 ms per token,    31.48 tokens per second)\n",
      "llama_print_timings:       total time =    1526.41 ms /    96 tokens\n",
      " 15%|█▍        | 23/157 [01:32<03:40,  1.65s/it]Llama.generate: prefix-match hit\n"
     ]
    },
    {
     "name": "stdout",
     "output_type": "stream",
     "text": [
      "Shiawassee River flows in a generally northerly direction for about 110 miles (180Â km) from its source to its confluence with the Tittabawassee River creating the Saginaw River, which drains into the Saginaw Bay of Lake Huron.\n",
      "++++++++++++++++++++++++++++++++++++\n",
      "[{'watercourse': 'Tittabawassee River'}]\n",
      "++++++++++++++++++++++++++++++++++++\n",
      "{'triplets': []}\n",
      "====================================\n",
      "{'model1': 'Llama-2-7b-m1ft-q4.gguf', 'model2': 'Llama-2-7b-m2ft-q4.gguf', 'sent': 'Shiawassee River flows in a generally northerly direction for about 110 miles (180Â\\xa0km) from its source to its confluence with the Tittabawassee River creating the Saginaw River, which drains into the Saginaw Bay of Lake Huron.', 'triples': []}\n",
      "====================================\n"
     ]
    },
    {
     "name": "stderr",
     "output_type": "stream",
     "text": [
      "\n",
      "llama_print_timings:        load time =    4202.89 ms\n",
      "llama_print_timings:      sample time =       4.30 ms /    25 runs   (    0.17 ms per token,  5819.37 tokens per second)\n",
      "llama_print_timings: prompt eval time =     410.52 ms /    36 tokens (   11.40 ms per token,    87.69 tokens per second)\n",
      "llama_print_timings:        eval time =     760.21 ms /    24 runs   (   31.68 ms per token,    31.57 tokens per second)\n",
      "llama_print_timings:       total time =    1215.70 ms /    60 tokens\n",
      " 15%|█▌        | 24/157 [01:33<03:22,  1.52s/it]Llama.generate: prefix-match hit\n"
     ]
    },
    {
     "name": "stdout",
     "output_type": "stream",
     "text": [
      "The sombre hummingbird (Aphantochroa cirrochloris) is the only species in the genus Aphantochroa.\n",
      "++++++++++++++++++++++++++++++++++++\n",
      "[{'taxon': 'Aphantochroa'}]\n",
      "++++++++++++++++++++++++++++++++++++\n",
      "{'triplets': []}\n",
      "====================================\n",
      "{'model1': 'Llama-2-7b-m1ft-q4.gguf', 'model2': 'Llama-2-7b-m2ft-q4.gguf', 'sent': 'The sombre hummingbird (Aphantochroa cirrochloris) is the only species in the genus Aphantochroa.', 'triples': []}\n",
      "====================================\n"
     ]
    },
    {
     "name": "stderr",
     "output_type": "stream",
     "text": [
      "\n",
      "llama_print_timings:        load time =    4202.89 ms\n",
      "llama_print_timings:      sample time =       3.90 ms /    24 runs   (    0.16 ms per token,  6158.58 tokens per second)\n",
      "llama_print_timings: prompt eval time =     549.05 ms /    61 tokens (    9.00 ms per token,   111.10 tokens per second)\n",
      "llama_print_timings:        eval time =     735.23 ms /    23 runs   (   31.97 ms per token,    31.28 tokens per second)\n",
      "llama_print_timings:       total time =    1323.38 ms /    84 tokens\n",
      " 16%|█▌        | 25/157 [01:35<03:13,  1.46s/it]Llama.generate: prefix-match hit\n"
     ]
    },
    {
     "name": "stdout",
     "output_type": "stream",
     "text": [
      "The Ernstberg (also Erresberg) southeast of Hinterweiler is, at 698.8Â m, the highest of the west Eifel volcanoes and, after the Hohe Acht, the second highest mountain in the Eifel overall.\n",
      "++++++++++++++++++++++++++++++++++++\n",
      "[{'mountain': 'Hohe Acht'}]\n",
      "++++++++++++++++++++++++++++++++++++\n",
      "{'triplets': []}\n",
      "====================================\n",
      "{'model1': 'Llama-2-7b-m1ft-q4.gguf', 'model2': 'Llama-2-7b-m2ft-q4.gguf', 'sent': 'The Ernstberg (also Erresberg) southeast of Hinterweiler is, at 698.8Â\\xa0m, the highest of the west Eifel volcanoes and, after the Hohe Acht, the second highest mountain in the Eifel overall.', 'triples': []}\n",
      "====================================\n"
     ]
    },
    {
     "name": "stderr",
     "output_type": "stream",
     "text": [
      "\n",
      "llama_print_timings:        load time =    4202.89 ms\n",
      "llama_print_timings:      sample time =       4.29 ms /    23 runs   (    0.19 ms per token,  5355.06 tokens per second)\n",
      "llama_print_timings: prompt eval time =     272.39 ms /    24 tokens (   11.35 ms per token,    88.11 tokens per second)\n",
      "llama_print_timings:        eval time =     696.93 ms /    22 runs   (   31.68 ms per token,    31.57 tokens per second)\n",
      "llama_print_timings:       total time =    1010.76 ms /    46 tokens\n",
      " 17%|█▋        | 26/157 [01:36<02:54,  1.33s/it]Llama.generate: prefix-match hit\n"
     ]
    },
    {
     "name": "stdout",
     "output_type": "stream",
     "text": [
      "The royal tern (Thalasseus maximus) is a tern in the family Laridae.\n",
      "++++++++++++++++++++++++++++++++++++\n",
      "[{'taxon': 'Thalasseus'}]\n",
      "++++++++++++++++++++++++++++++++++++\n",
      "{'triplets': []}\n",
      "====================================\n",
      "{'model1': 'Llama-2-7b-m1ft-q4.gguf', 'model2': 'Llama-2-7b-m2ft-q4.gguf', 'sent': 'The royal tern (Thalasseus maximus) is a tern in the family Laridae.', 'triples': []}\n",
      "====================================\n"
     ]
    },
    {
     "name": "stderr",
     "output_type": "stream",
     "text": [
      "\n",
      "llama_print_timings:        load time =    4202.89 ms\n",
      "llama_print_timings:      sample time =       5.35 ms /    32 runs   (    0.17 ms per token,  5983.55 tokens per second)\n",
      "llama_print_timings: prompt eval time =     551.36 ms /    54 tokens (   10.21 ms per token,    97.94 tokens per second)\n",
      "llama_print_timings:        eval time =     989.33 ms /    31 runs   (   31.91 ms per token,    31.33 tokens per second)\n",
      "llama_print_timings:       total time =    1594.09 ms /    85 tokens\n",
      "Llama.generate: prefix-match hit\n"
     ]
    },
    {
     "name": "stdout",
     "output_type": "stream",
     "text": [
      "The dam forms Lake Kariba, which extends for 280 kilometres (170Â mi) and holds 185 cubic kilometres (150,000,000Â acreft) of water.\n",
      "++++++++++++++++++++++++++++++++++++\n",
      "[{'dam': 'Kariba Dam', 'reservoir': 'Lake Kariba'}]\n",
      "++++++++++++++++++++++++++++++++++++\n"
     ]
    },
    {
     "name": "stderr",
     "output_type": "stream",
     "text": [
      "\n",
      "llama_print_timings:        load time =    4245.28 ms\n",
      "llama_print_timings:      sample time =       5.15 ms /    29 runs   (    0.18 ms per token,  5633.26 tokens per second)\n",
      "llama_print_timings: prompt eval time =    2397.41 ms /   198 tokens (   12.11 ms per token,    82.59 tokens per second)\n",
      "llama_print_timings:        eval time =     829.06 ms /    28 runs   (   29.61 ms per token,    33.77 tokens per second)\n",
      "llama_print_timings:       total time =    3292.89 ms /   226 tokens\n",
      " 17%|█▋        | 27/157 [01:41<05:11,  2.40s/it]Llama.generate: prefix-match hit\n"
     ]
    },
    {
     "name": "stdout",
     "output_type": "stream",
     "text": [
      "[{'sub': 'Kariba Dam', 'rel': 'reservoir created', 'obj': 'Lake Kariba'}]\n",
      "====================================\n",
      "{'model1': 'Llama-2-7b-m1ft-q4.gguf', 'model2': 'Llama-2-7b-m2ft-q4.gguf', 'sent': 'The dam forms Lake Kariba, which extends for 280 kilometres (170Â\\xa0mi) and holds 185 cubic kilometres (150,000,000Â\\xa0acreft) of water.', 'triples': [{'sub': 'Kariba Dam', 'rel': 'reservoir created', 'obj': 'Lake Kariba'}]}\n",
      "====================================\n"
     ]
    },
    {
     "name": "stderr",
     "output_type": "stream",
     "text": [
      "\n",
      "llama_print_timings:        load time =    4202.89 ms\n",
      "llama_print_timings:      sample time =       6.37 ms /    35 runs   (    0.18 ms per token,  5491.92 tokens per second)\n",
      "llama_print_timings: prompt eval time =     658.06 ms /    47 tokens (   14.00 ms per token,    71.42 tokens per second)\n",
      "llama_print_timings:        eval time =    1088.82 ms /    34 runs   (   32.02 ms per token,    31.23 tokens per second)\n",
      "llama_print_timings:       total time =    1813.24 ms /    81 tokens\n",
      "Llama.generate: prefix-match hit\n"
     ]
    },
    {
     "name": "stdout",
     "output_type": "stream",
     "text": [
      "Approximately 4 miles (6.4Â km) long, Whatcom Creek drains Lake Whatcom through Whatcom Falls Park and through the city of Bellingham to Bellingham Bay.\n",
      "++++++++++++++++++++++++++++++++++++\n",
      "[{'watercourse': 'Whatcom Creek', 'body_of_water': 'Lake Whatcom'}]\n",
      "++++++++++++++++++++++++++++++++++++\n"
     ]
    },
    {
     "name": "stderr",
     "output_type": "stream",
     "text": [
      "\n",
      "llama_print_timings:        load time =    4245.28 ms\n",
      "llama_print_timings:      sample time =       5.00 ms /    30 runs   (    0.17 ms per token,  6000.00 tokens per second)\n",
      "llama_print_timings: prompt eval time =    1697.87 ms /   192 tokens (    8.84 ms per token,   113.08 tokens per second)\n",
      "llama_print_timings:        eval time =     886.21 ms /    30 runs   (   29.54 ms per token,    33.85 tokens per second)\n",
      "llama_print_timings:       total time =    2644.36 ms /   222 tokens\n",
      " 18%|█▊        | 28/157 [01:45<06:29,  3.02s/it]Llama.generate: prefix-match hit\n"
     ]
    },
    {
     "name": "stdout",
     "output_type": "stream",
     "text": [
      "[{'sub': 'Whatcom Creek', 'rel': 'origin of the watercourse', 'obj': 'Lake Whatcom'}]\n",
      "====================================\n",
      "{'model1': 'Llama-2-7b-m1ft-q4.gguf', 'model2': 'Llama-2-7b-m2ft-q4.gguf', 'sent': 'Approximately 4 miles (6.4Â\\xa0km) long, Whatcom Creek drains Lake Whatcom through Whatcom Falls Park and through the city of Bellingham to Bellingham Bay.', 'triples': [{'sub': 'Whatcom Creek', 'rel': 'origin of the watercourse', 'obj': 'Lake Whatcom'}]}\n",
      "====================================\n"
     ]
    },
    {
     "name": "stderr",
     "output_type": "stream",
     "text": [
      "\n",
      "llama_print_timings:        load time =    4202.89 ms\n",
      "llama_print_timings:      sample time =       5.28 ms /    32 runs   (    0.16 ms per token,  6065.20 tokens per second)\n",
      "llama_print_timings: prompt eval time =     924.07 ms /    92 tokens (   10.04 ms per token,    99.56 tokens per second)\n",
      "llama_print_timings:        eval time =     995.46 ms /    31 runs   (   32.11 ms per token,    31.14 tokens per second)\n",
      "llama_print_timings:       total time =    1976.32 ms /   123 tokens\n",
      "Llama.generate: prefix-match hit\n"
     ]
    },
    {
     "name": "stdout",
     "output_type": "stream",
     "text": [
      "The race was won by Omega Pharma-Quick-Step rider Michał Kwiatkowski - taking the first stage race win of 2014 Volta ao Algarve's career - after taking the race lead with a solo stage victory on the second stage; he further extended his lead in the following day's individual time trial, before holding his lead to the end of the race.\n",
      "++++++++++++++++++++++++++++++++++++\n",
      "[{'cycling_race': 'Volta ao Algarve', 'stage': 2}]\n",
      "++++++++++++++++++++++++++++++++++++\n"
     ]
    },
    {
     "name": "stderr",
     "output_type": "stream",
     "text": [
      "\n",
      "llama_print_timings:        load time =    4245.28 ms\n",
      "llama_print_timings:      sample time =       4.31 ms /    26 runs   (    0.17 ms per token,  6026.89 tokens per second)\n",
      "llama_print_timings: prompt eval time =    2100.51 ms /   235 tokens (    8.94 ms per token,   111.88 tokens per second)\n",
      "llama_print_timings:        eval time =     743.38 ms /    25 runs   (   29.74 ms per token,    33.63 tokens per second)\n",
      "llama_print_timings:       total time =    2897.24 ms /   260 tokens\n",
      " 18%|█▊        | 29/157 [01:50<07:38,  3.58s/it]Llama.generate: prefix-match hit\n"
     ]
    },
    {
     "name": "stdout",
     "output_type": "stream",
     "text": [
      "[{'sub': 'Volta ao Algarve', 'rel': 'stage', 'obj': '2'}]\n",
      "====================================\n",
      "{'model1': 'Llama-2-7b-m1ft-q4.gguf', 'model2': 'Llama-2-7b-m2ft-q4.gguf', 'sent': \"The race was won by Omega Pharma-Quick-Step rider Michał Kwiatkowski\\xa0- taking the first stage race win of 2014 Volta ao Algarve's career\\xa0- after taking the race lead with a solo stage victory on the second stage; he further extended his lead in the following day's individual time trial, before holding his lead to the end of the race.\", 'triples': [{'sub': 'Volta ao Algarve', 'rel': 'stage', 'obj': '2'}]}\n",
      "====================================\n"
     ]
    },
    {
     "name": "stderr",
     "output_type": "stream",
     "text": [
      "\n",
      "llama_print_timings:        load time =    4202.89 ms\n",
      "llama_print_timings:      sample time =       7.11 ms /    40 runs   (    0.18 ms per token,  5629.84 tokens per second)\n",
      "llama_print_timings: prompt eval time =     548.15 ms /    48 tokens (   11.42 ms per token,    87.57 tokens per second)\n",
      "llama_print_timings:        eval time =    1240.58 ms /    39 runs   (   31.81 ms per token,    31.44 tokens per second)\n",
      "llama_print_timings:       total time =    1859.09 ms /    87 tokens\n",
      "Llama.generate: prefix-match hit\n"
     ]
    },
    {
     "name": "stdout",
     "output_type": "stream",
     "text": [
      "Rivière des Envies (River of cravings, in a direct translation) is located in Canada, in the province of Quebec, in the Mauricie administrative region, in the Batiscanie.\n",
      "++++++++++++++++++++++++++++++++++++\n",
      "[{'watercourse': 'Rivière des Envies', 'body_of_water': 'Lake Saint-Pierre'}]\n",
      "++++++++++++++++++++++++++++++++++++\n"
     ]
    },
    {
     "name": "stderr",
     "output_type": "stream",
     "text": [
      "\n",
      "llama_print_timings:        load time =    4245.28 ms\n",
      "llama_print_timings:      sample time =       6.80 ms /    41 runs   (    0.17 ms per token,  6024.98 tokens per second)\n",
      "llama_print_timings: prompt eval time =    1825.92 ms /   199 tokens (    9.18 ms per token,   108.99 tokens per second)\n",
      "llama_print_timings:        eval time =    1184.21 ms /    40 runs   (   29.61 ms per token,    33.78 tokens per second)\n",
      "llama_print_timings:       total time =    3086.41 ms /   239 tokens\n",
      " 19%|█▉        | 30/157 [01:55<08:27,  3.99s/it]Llama.generate: prefix-match hit\n"
     ]
    },
    {
     "name": "stdout",
     "output_type": "stream",
     "text": [
      "[{'sub': 'Rivère des Envies', 'rel': 'origin of the watercourse', 'obj': 'Lake Saint-Pierre'}]\n",
      "====================================\n",
      "{'model1': 'Llama-2-7b-m1ft-q4.gguf', 'model2': 'Llama-2-7b-m2ft-q4.gguf', 'sent': 'Rivière des Envies (River of cravings, in a direct translation) is located in Canada, in the province of Quebec, in the Mauricie administrative region, in the Batiscanie.', 'triples': [{'sub': 'Rivère des Envies', 'rel': 'origin of the watercourse', 'obj': 'Lake Saint-Pierre'}]}\n",
      "====================================\n"
     ]
    },
    {
     "name": "stderr",
     "output_type": "stream",
     "text": [
      "\n",
      "llama_print_timings:        load time =    4202.89 ms\n",
      "llama_print_timings:      sample time =       7.04 ms /    35 runs   (    0.20 ms per token,  4969.47 tokens per second)\n",
      "llama_print_timings: prompt eval time =     509.63 ms /    38 tokens (   13.41 ms per token,    74.56 tokens per second)\n",
      "llama_print_timings:        eval time =    1089.54 ms /    34 runs   (   32.05 ms per token,    31.21 tokens per second)\n",
      "llama_print_timings:       total time =    1668.89 ms /    72 tokens\n",
      "Llama.generate: prefix-match hit\n"
     ]
    },
    {
     "name": "stdout",
     "output_type": "stream",
     "text": [
      "The Miami River is a river in the United States state of Florida that drains out of the Everglades and runs through the city of Miami, including Downtown.\n",
      "++++++++++++++++++++++++++++++++++++\n",
      "[{'watercourse': 'Miami River', 'body_of_water': 'Everglades'}]\n",
      "++++++++++++++++++++++++++++++++++++\n"
     ]
    },
    {
     "name": "stderr",
     "output_type": "stream",
     "text": [
      "\n",
      "llama_print_timings:        load time =    4245.28 ms\n",
      "llama_print_timings:      sample time =       5.02 ms /    30 runs   (    0.17 ms per token,  5973.72 tokens per second)\n",
      "llama_print_timings: prompt eval time =    1785.30 ms /   180 tokens (    9.92 ms per token,   100.82 tokens per second)\n",
      "llama_print_timings:        eval time =     855.32 ms /    29 runs   (   29.49 ms per token,    33.91 tokens per second)\n",
      "llama_print_timings:       total time =    2698.19 ms /   209 tokens\n",
      " 20%|█▉        | 31/157 [01:59<08:37,  4.11s/it]Llama.generate: prefix-match hit\n"
     ]
    },
    {
     "name": "stdout",
     "output_type": "stream",
     "text": [
      "[{'sub': 'Miami River', 'rel': 'origin of the watercourse', 'obj': 'Everglades'}]\n",
      "====================================\n",
      "{'model1': 'Llama-2-7b-m1ft-q4.gguf', 'model2': 'Llama-2-7b-m2ft-q4.gguf', 'sent': 'The Miami River is a river in the United States state of Florida that drains out of the Everglades and runs through the city of Miami, including Downtown.', 'triples': [{'sub': 'Miami River', 'rel': 'origin of the watercourse', 'obj': 'Everglades'}]}\n",
      "====================================\n"
     ]
    },
    {
     "name": "stderr",
     "output_type": "stream",
     "text": [
      "\n",
      "llama_print_timings:        load time =    4202.89 ms\n",
      "llama_print_timings:      sample time =       3.63 ms /    22 runs   (    0.16 ms per token,  6067.29 tokens per second)\n",
      "llama_print_timings: prompt eval time =     517.65 ms /    39 tokens (   13.27 ms per token,    75.34 tokens per second)\n",
      "llama_print_timings:        eval time =     666.40 ms /    21 runs   (   31.73 ms per token,    31.51 tokens per second)\n",
      "llama_print_timings:       total time =    1220.69 ms /    60 tokens\n",
      " 20%|██        | 32/157 [02:01<06:45,  3.24s/it]Llama.generate: prefix-match hit\n"
     ]
    },
    {
     "name": "stdout",
     "output_type": "stream",
     "text": [
      "The Niagara River and its tributaries, Tonawanda Creek and the Welland River, formed part of the last section of the Erie Canal and Welland Canal.\n",
      "++++++++++++++++++++++++++++++++++++\n",
      "[{'watercourse': 'Welland River'}]\n",
      "++++++++++++++++++++++++++++++++++++\n",
      "{'triplets': []}\n",
      "====================================\n",
      "{'model1': 'Llama-2-7b-m1ft-q4.gguf', 'model2': 'Llama-2-7b-m2ft-q4.gguf', 'sent': 'The Niagara River and its tributaries, Tonawanda Creek and the Welland River, formed part of the last section of the Erie Canal and Welland Canal.', 'triples': []}\n",
      "====================================\n"
     ]
    },
    {
     "name": "stderr",
     "output_type": "stream",
     "text": [
      "\n",
      "llama_print_timings:        load time =    4202.89 ms\n",
      "llama_print_timings:      sample time =       4.45 ms /    25 runs   (    0.18 ms per token,  5616.72 tokens per second)\n",
      "llama_print_timings: prompt eval time =     550.17 ms /    50 tokens (   11.00 ms per token,    90.88 tokens per second)\n",
      "llama_print_timings:        eval time =     764.43 ms /    24 runs   (   31.85 ms per token,    31.40 tokens per second)\n",
      "llama_print_timings:       total time =    1359.57 ms /    74 tokens\n",
      " 21%|██        | 33/157 [02:02<05:32,  2.68s/it]Llama.generate: prefix-match hit\n"
     ]
    },
    {
     "name": "stdout",
     "output_type": "stream",
     "text": [
      "Helvellyn is the third-highest point both in England and in the Lake District, and access to Helvellyn is easier than to the two higher peaks of Scafell Pike and Sca Fell.\n",
      "++++++++++++++++++++++++++++++++++++\n",
      "[{'mountain': 'Scafell Pike'}]\n",
      "++++++++++++++++++++++++++++++++++++\n",
      "{'triplets': []}\n",
      "====================================\n",
      "{'model1': 'Llama-2-7b-m1ft-q4.gguf', 'model2': 'Llama-2-7b-m2ft-q4.gguf', 'sent': 'Helvellyn is the third-highest point both in England and in the Lake District, and access to Helvellyn is easier than to the two higher peaks of Scafell Pike and Sca Fell.', 'triples': []}\n",
      "====================================\n"
     ]
    },
    {
     "name": "stderr",
     "output_type": "stream",
     "text": [
      "\n",
      "llama_print_timings:        load time =    4202.89 ms\n",
      "llama_print_timings:      sample time =       6.72 ms /    41 runs   (    0.16 ms per token,  6103.92 tokens per second)\n",
      "llama_print_timings: prompt eval time =     693.63 ms /    79 tokens (    8.78 ms per token,   113.89 tokens per second)\n",
      "llama_print_timings:        eval time =    1277.42 ms /    40 runs   (   31.94 ms per token,    31.31 tokens per second)\n",
      "llama_print_timings:       total time =    2039.11 ms /   119 tokens\n",
      "Llama.generate: prefix-match hit\n"
     ]
    },
    {
     "name": "stdout",
     "output_type": "stream",
     "text": [
      "Rayna Knyaginya Peak (Bulgarian:   , romanized:Â vrah Rayna Knyaginya, IPA:Â [vrx rajn ki]) is a peak of elevation 680 m in western Bowles Ridge, Livingston Island in the South Shetland Islands, Antarctica.\n",
      "++++++++++++++++++++++++++++++++++++\n",
      "[{'mountain': 'Rayna Knyaginya Peak', 'mountain_range': 'Bowles Ridge'}]\n",
      "++++++++++++++++++++++++++++++++++++\n"
     ]
    },
    {
     "name": "stderr",
     "output_type": "stream",
     "text": [
      "\n",
      "llama_print_timings:        load time =    4245.28 ms\n",
      "llama_print_timings:      sample time =       6.44 ms /    35 runs   (    0.18 ms per token,  5439.01 tokens per second)\n",
      "llama_print_timings: prompt eval time =    2106.41 ms /   231 tokens (    9.12 ms per token,   109.67 tokens per second)\n",
      "llama_print_timings:        eval time =    1012.46 ms /    34 runs   (   29.78 ms per token,    33.58 tokens per second)\n",
      "llama_print_timings:       total time =    3194.40 ms /   265 tokens\n",
      " 22%|██▏       | 34/157 [02:07<07:04,  3.45s/it]Llama.generate: prefix-match hit\n"
     ]
    },
    {
     "name": "stdout",
     "output_type": "stream",
     "text": [
      "[{'sub': 'Rayna Knyaginya Peak', 'rel': 'mountain range', 'obj': 'Bowles Ridge'}]\n",
      "====================================\n",
      "{'model1': 'Llama-2-7b-m1ft-q4.gguf', 'model2': 'Llama-2-7b-m2ft-q4.gguf', 'sent': 'Rayna Knyaginya Peak (Bulgarian:   , romanized:Â\\xa0vrah Rayna Knyaginya, IPA:Â\\xa0[vrx rajn ki]) is a peak of elevation 680 m in western Bowles Ridge, Livingston Island in the South Shetland Islands, Antarctica.', 'triples': [{'sub': 'Rayna Knyaginya Peak', 'rel': 'mountain range', 'obj': 'Bowles Ridge'}]}\n",
      "====================================\n"
     ]
    },
    {
     "name": "stderr",
     "output_type": "stream",
     "text": [
      "\n",
      "llama_print_timings:        load time =    4202.89 ms\n",
      "llama_print_timings:      sample time =       4.03 ms /    24 runs   (    0.17 ms per token,  5959.77 tokens per second)\n",
      "llama_print_timings: prompt eval time =     567.28 ms /    39 tokens (   14.55 ms per token,    68.75 tokens per second)\n",
      "llama_print_timings:        eval time =     728.47 ms /    23 runs   (   31.67 ms per token,    31.57 tokens per second)\n",
      "llama_print_timings:       total time =    1339.22 ms /    62 tokens\n",
      " 22%|██▏       | 35/157 [02:08<05:43,  2.82s/it]Llama.generate: prefix-match hit\n"
     ]
    },
    {
     "name": "stdout",
     "output_type": "stream",
     "text": [
      "Kidsty Pike is a subsidiary top of Rampsgill Head, but has long achieved the status of a separate fell, thanks to its classic peaked profile.\n",
      "++++++++++++++++++++++++++++++++++++\n",
      "[{'mountain': 'Rampsgill Head'}]\n",
      "++++++++++++++++++++++++++++++++++++\n",
      "{'triplets': []}\n",
      "====================================\n",
      "{'model1': 'Llama-2-7b-m1ft-q4.gguf', 'model2': 'Llama-2-7b-m2ft-q4.gguf', 'sent': 'Kidsty Pike is a subsidiary top of Rampsgill Head, but has long achieved the status of a separate fell, thanks to its classic peaked profile.', 'triples': []}\n",
      "====================================\n"
     ]
    },
    {
     "name": "stderr",
     "output_type": "stream",
     "text": [
      "\n",
      "llama_print_timings:        load time =    4202.89 ms\n",
      "llama_print_timings:      sample time =       3.64 ms /    22 runs   (    0.17 ms per token,  6045.62 tokens per second)\n",
      "llama_print_timings: prompt eval time =     274.54 ms /    27 tokens (   10.17 ms per token,    98.35 tokens per second)\n",
      "llama_print_timings:        eval time =     664.16 ms /    21 runs   (   31.63 ms per token,    31.62 tokens per second)\n",
      "llama_print_timings:       total time =     973.29 ms /    48 tokens\n",
      " 23%|██▎       | 36/157 [02:09<04:34,  2.27s/it]Llama.generate: prefix-match hit\n"
     ]
    },
    {
     "name": "stdout",
     "output_type": "stream",
     "text": [
      "The Arctic tern (Sterna paradisaea) is a tern in the family Laridae.\n",
      "++++++++++++++++++++++++++++++++++++\n",
      "[{'taxon': 'Sterna'}]\n",
      "++++++++++++++++++++++++++++++++++++\n",
      "{'triplets': []}\n",
      "====================================\n",
      "{'model1': 'Llama-2-7b-m1ft-q4.gguf', 'model2': 'Llama-2-7b-m2ft-q4.gguf', 'sent': 'The Arctic tern (Sterna paradisaea) is a tern in the family Laridae.', 'triples': []}\n",
      "====================================\n"
     ]
    },
    {
     "name": "stderr",
     "output_type": "stream",
     "text": [
      "\n",
      "llama_print_timings:        load time =    4202.89 ms\n",
      "llama_print_timings:      sample time =       5.38 ms /    33 runs   (    0.16 ms per token,  6138.39 tokens per second)\n",
      "llama_print_timings: prompt eval time =     691.41 ms /    71 tokens (    9.74 ms per token,   102.69 tokens per second)\n",
      "llama_print_timings:        eval time =    1022.09 ms /    32 runs   (   31.94 ms per token,    31.31 tokens per second)\n",
      "llama_print_timings:       total time =    1767.37 ms /   103 tokens\n",
      "Llama.generate: prefix-match hit\n"
     ]
    },
    {
     "name": "stdout",
     "output_type": "stream",
     "text": [
      "The family Penaeaceae was expanded under the APG III system of classification with the inclusion of the genera Olinia (formerly in the monogeneric Oliniaceae) and the single species from the genus Rhynchocalyx (formerly in the monogeneric Rhynchocalycaceae).\n",
      "++++++++++++++++++++++++++++++++++++\n",
      "[{'taxon': 'Penaeaceae', 'synonym': 'Oliniaceae'}]\n",
      "++++++++++++++++++++++++++++++++++++\n"
     ]
    },
    {
     "name": "stderr",
     "output_type": "stream",
     "text": [
      "\n",
      "llama_print_timings:        load time =    4245.28 ms\n",
      "llama_print_timings:      sample time =      10.04 ms /    60 runs   (    0.17 ms per token,  5975.50 tokens per second)\n",
      "llama_print_timings: prompt eval time =    1990.25 ms /   216 tokens (    9.21 ms per token,   108.53 tokens per second)\n",
      "llama_print_timings:        eval time =    1754.33 ms /    59 runs   (   29.73 ms per token,    33.63 tokens per second)\n",
      "llama_print_timings:       total time =    3851.61 ms /   275 tokens\n",
      " 24%|██▎       | 37/157 [02:15<06:33,  3.28s/it]Llama.generate: prefix-match hit\n"
     ]
    },
    {
     "name": "stdout",
     "output_type": "stream",
     "text": [
      "[{'sub': 'Penaeaceae', 'rel': 'taxon synonym', 'obj': 'Rhynchocalycaceae'}, {'sub': 'Penaeaceae', 'rel': 'taxon synonym', 'obj': 'Oliniaceae'}]\n",
      "====================================\n",
      "{'model1': 'Llama-2-7b-m1ft-q4.gguf', 'model2': 'Llama-2-7b-m2ft-q4.gguf', 'sent': 'The family Penaeaceae was expanded under the APG III system of classification with the inclusion of the genera Olinia (formerly in the monogeneric Oliniaceae) and the single species from the genus Rhynchocalyx (formerly in the monogeneric Rhynchocalycaceae).', 'triples': [{'sub': 'Penaeaceae', 'rel': 'taxon synonym', 'obj': 'Rhynchocalycaceae'}, {'sub': 'Penaeaceae', 'rel': 'taxon synonym', 'obj': 'Oliniaceae'}]}\n",
      "====================================\n"
     ]
    },
    {
     "name": "stderr",
     "output_type": "stream",
     "text": [
      "\n",
      "llama_print_timings:        load time =    4202.89 ms\n",
      "llama_print_timings:      sample time =       7.33 ms /    41 runs   (    0.18 ms per token,  5594.98 tokens per second)\n",
      "llama_print_timings: prompt eval time =     520.97 ms /    46 tokens (   11.33 ms per token,    88.30 tokens per second)\n",
      "llama_print_timings:        eval time =    1282.49 ms /    40 runs   (   32.06 ms per token,    31.19 tokens per second)\n",
      "llama_print_timings:       total time =    1876.74 ms /    86 tokens\n",
      "Llama.generate: prefix-match hit\n"
     ]
    },
    {
     "name": "stdout",
     "output_type": "stream",
     "text": [
      "The Schneefernerkopf is a 2,875-metre-high (9,432Â ft) peak in the Zugspitze massif in the Alps.\n",
      "++++++++++++++++++++++++++++++++++++\n",
      "[{'mountain': 'Schneefernerkopf', 'mountain_range': 'Zugspitze massif'}]\n",
      "++++++++++++++++++++++++++++++++++++\n"
     ]
    },
    {
     "name": "stderr",
     "output_type": "stream",
     "text": [
      "\n",
      "llama_print_timings:        load time =    4245.28 ms\n",
      "llama_print_timings:      sample time =       5.86 ms /    35 runs   (    0.17 ms per token,  5971.68 tokens per second)\n",
      "llama_print_timings: prompt eval time =    1869.94 ms /   199 tokens (    9.40 ms per token,   106.42 tokens per second)\n",
      "llama_print_timings:        eval time =    1004.44 ms /    34 runs   (   29.54 ms per token,    33.85 tokens per second)\n",
      "llama_print_timings:       total time =    2939.64 ms /   233 tokens\n",
      " 24%|██▍       | 38/157 [02:20<07:25,  3.74s/it]Llama.generate: prefix-match hit\n"
     ]
    },
    {
     "name": "stdout",
     "output_type": "stream",
     "text": [
      "[{'sub': 'Schneefernerkopf', 'rel': 'mountain range', 'obj': 'Zugspitze massif'}]\n",
      "====================================\n",
      "{'model1': 'Llama-2-7b-m1ft-q4.gguf', 'model2': 'Llama-2-7b-m2ft-q4.gguf', 'sent': 'The Schneefernerkopf is a 2,875-metre-high (9,432Â\\xa0ft) peak in the Zugspitze massif in the Alps.', 'triples': [{'sub': 'Schneefernerkopf', 'rel': 'mountain range', 'obj': 'Zugspitze massif'}]}\n",
      "====================================\n"
     ]
    },
    {
     "name": "stderr",
     "output_type": "stream",
     "text": [
      "\n",
      "llama_print_timings:        load time =    4202.89 ms\n",
      "llama_print_timings:      sample time =       6.02 ms /    36 runs   (    0.17 ms per token,  5981.06 tokens per second)\n",
      "llama_print_timings: prompt eval time =     374.51 ms /    27 tokens (   13.87 ms per token,    72.09 tokens per second)\n",
      "llama_print_timings:        eval time =    1111.63 ms /    35 runs   (   31.76 ms per token,    31.49 tokens per second)\n",
      "llama_print_timings:       total time =    1543.93 ms /    62 tokens\n",
      "Llama.generate: prefix-match hit\n"
     ]
    },
    {
     "name": "stdout",
     "output_type": "stream",
     "text": [
      "Il Madone is a mountain of the Lepontine Alps, located in the Swiss canton of Ticino.\n",
      "++++++++++++++++++++++++++++++++++++\n",
      "[{'mountain': 'Il Madone', 'mountain_range': 'Lepontine Alps'}]\n",
      "++++++++++++++++++++++++++++++++++++\n"
     ]
    },
    {
     "name": "stderr",
     "output_type": "stream",
     "text": [
      "\n",
      "llama_print_timings:        load time =    4245.28 ms\n",
      "llama_print_timings:      sample time =       4.98 ms /    30 runs   (    0.17 ms per token,  6024.10 tokens per second)\n",
      "llama_print_timings: prompt eval time =    1556.89 ms /   170 tokens (    9.16 ms per token,   109.19 tokens per second)\n",
      "llama_print_timings:        eval time =     853.26 ms /    29 runs   (   29.42 ms per token,    33.99 tokens per second)\n",
      "llama_print_timings:       total time =    2467.19 ms /   199 tokens\n",
      " 25%|██▍       | 39/157 [02:24<07:31,  3.82s/it]Llama.generate: prefix-match hit\n"
     ]
    },
    {
     "name": "stdout",
     "output_type": "stream",
     "text": [
      "[{'sub': 'Il Madone', 'rel': 'mountain range', 'obj': 'Lepontine Alps'}]\n",
      "====================================\n",
      "{'model1': 'Llama-2-7b-m1ft-q4.gguf', 'model2': 'Llama-2-7b-m2ft-q4.gguf', 'sent': 'Il Madone is a mountain of the Lepontine Alps, located in the Swiss canton of Ticino.', 'triples': [{'sub': 'Il Madone', 'rel': 'mountain range', 'obj': 'Lepontine Alps'}]}\n",
      "====================================\n"
     ]
    },
    {
     "name": "stderr",
     "output_type": "stream",
     "text": [
      "\n",
      "llama_print_timings:        load time =    4202.89 ms\n",
      "llama_print_timings:      sample time =       3.99 ms /    24 runs   (    0.17 ms per token,  6012.02 tokens per second)\n",
      "llama_print_timings: prompt eval time =     503.13 ms /    35 tokens (   14.38 ms per token,    69.56 tokens per second)\n",
      "llama_print_timings:        eval time =     729.32 ms /    23 runs   (   31.71 ms per token,    31.54 tokens per second)\n",
      "llama_print_timings:       total time =    1271.81 ms /    58 tokens\n",
      " 25%|██▌       | 40/157 [02:25<05:58,  3.06s/it]Llama.generate: prefix-match hit\n"
     ]
    },
    {
     "name": "stdout",
     "output_type": "stream",
     "text": [
      "Pizzo Pesciora lies north of Bedretto, on the ridge between the Witenwasserenstock and Pizzo Rotondo.\n",
      "++++++++++++++++++++++++++++++++++++\n",
      "[{'mountain': 'Pizzo Rotondo'}]\n",
      "++++++++++++++++++++++++++++++++++++\n",
      "{'triplets': []}\n",
      "====================================\n",
      "{'model1': 'Llama-2-7b-m1ft-q4.gguf', 'model2': 'Llama-2-7b-m2ft-q4.gguf', 'sent': 'Pizzo Pesciora lies north of Bedretto, on the ridge between the Witenwasserenstock and Pizzo Rotondo.', 'triples': []}\n",
      "====================================\n"
     ]
    },
    {
     "name": "stderr",
     "output_type": "stream",
     "text": [
      "\n",
      "llama_print_timings:        load time =    4202.89 ms\n",
      "llama_print_timings:      sample time =       6.07 ms /    34 runs   (    0.18 ms per token,  5605.01 tokens per second)\n",
      "llama_print_timings: prompt eval time =     552.41 ms /    54 tokens (   10.23 ms per token,    97.75 tokens per second)\n",
      "llama_print_timings:        eval time =    1049.74 ms /    33 runs   (   31.81 ms per token,    31.44 tokens per second)\n",
      "llama_print_timings:       total time =    1663.10 ms /    87 tokens\n",
      "Llama.generate: prefix-match hit\n"
     ]
    },
    {
     "name": "stdout",
     "output_type": "stream",
     "text": [
      "Silene undulata (Xhosa: iindlela zimhlophe-\"white ways/paths\", also known as Silene capensis, and African dream root) is a plant native to the Eastern Cape of South Africa.\n",
      "++++++++++++++++++++++++++++++++++++\n",
      "[{'taxon': 'Silene capensis', 'synonym': 'Silene undulata'}]\n",
      "++++++++++++++++++++++++++++++++++++\n"
     ]
    },
    {
     "name": "stderr",
     "output_type": "stream",
     "text": [
      "\n",
      "llama_print_timings:        load time =    4245.28 ms\n",
      "llama_print_timings:      sample time =       5.15 ms /    31 runs   (    0.17 ms per token,  6014.75 tokens per second)\n",
      "llama_print_timings: prompt eval time =    1842.32 ms /   199 tokens (    9.26 ms per token,   108.02 tokens per second)\n",
      "llama_print_timings:        eval time =     885.38 ms /    30 runs   (   29.51 ms per token,    33.88 tokens per second)\n",
      "llama_print_timings:       total time =    2786.56 ms /   229 tokens\n",
      " 26%|██▌       | 41/157 [02:30<06:43,  3.48s/it]Llama.generate: prefix-match hit\n"
     ]
    },
    {
     "name": "stdout",
     "output_type": "stream",
     "text": [
      "[{'sub': 'Silene capensis', 'rel': 'taxon synonym', 'obj': 'Silene undulata'}]\n",
      "====================================\n",
      "{'model1': 'Llama-2-7b-m1ft-q4.gguf', 'model2': 'Llama-2-7b-m2ft-q4.gguf', 'sent': 'Silene undulata (Xhosa: iindlela zimhlophe-\"white ways/paths\", also known as Silene capensis, and African dream root) is a plant native to the Eastern Cape of South Africa.', 'triples': [{'sub': 'Silene capensis', 'rel': 'taxon synonym', 'obj': 'Silene undulata'}]}\n",
      "====================================\n"
     ]
    },
    {
     "name": "stderr",
     "output_type": "stream",
     "text": [
      "\n",
      "llama_print_timings:        load time =    4202.89 ms\n",
      "llama_print_timings:      sample time =       3.76 ms /    23 runs   (    0.16 ms per token,  6123.54 tokens per second)\n",
      "llama_print_timings: prompt eval time =     226.34 ms /    16 tokens (   14.15 ms per token,    70.69 tokens per second)\n",
      "llama_print_timings:        eval time =     728.57 ms /    23 runs   (   31.68 ms per token,    31.57 tokens per second)\n",
      "llama_print_timings:       total time =     990.95 ms /    39 tokens\n",
      " 27%|██▋       | 42/157 [02:31<05:14,  2.74s/it]Llama.generate: prefix-match hit\n"
     ]
    },
    {
     "name": "stdout",
     "output_type": "stream",
     "text": [
      "Presumpscot River is the main outlet of Sebago Lake.\n",
      "++++++++++++++++++++++++++++++++++++\n",
      "[{'watercourse': 'Sebago Lake'}]\n",
      "++++++++++++++++++++++++++++++++++++\n",
      "{'triplets': []}\n",
      "====================================\n",
      "{'model1': 'Llama-2-7b-m1ft-q4.gguf', 'model2': 'Llama-2-7b-m2ft-q4.gguf', 'sent': 'Presumpscot River is the main outlet of Sebago Lake.', 'triples': []}\n",
      "====================================\n"
     ]
    },
    {
     "name": "stderr",
     "output_type": "stream",
     "text": [
      "\n",
      "llama_print_timings:        load time =    4202.89 ms\n",
      "llama_print_timings:      sample time =       3.45 ms /    21 runs   (    0.16 ms per token,  6090.49 tokens per second)\n",
      "llama_print_timings: prompt eval time =     276.89 ms /    29 tokens (    9.55 ms per token,   104.74 tokens per second)\n",
      "llama_print_timings:        eval time =     634.44 ms /    20 runs   (   31.72 ms per token,    31.52 tokens per second)\n",
      "llama_print_timings:       total time =     944.53 ms /    49 tokens\n",
      " 27%|██▋       | 43/157 [02:32<04:10,  2.20s/it]Llama.generate: prefix-match hit\n"
     ]
    },
    {
     "name": "stdout",
     "output_type": "stream",
     "text": [
      "Wagenfelder Aue is a river of Lower Saxony, Germany, a right tributary of the Hunte.\n",
      "++++++++++++++++++++++++++++++++++++\n",
      "[{'watercourse': 'Hunte'}]\n",
      "++++++++++++++++++++++++++++++++++++\n",
      "{'triplets': []}\n",
      "====================================\n",
      "{'model1': 'Llama-2-7b-m1ft-q4.gguf', 'model2': 'Llama-2-7b-m2ft-q4.gguf', 'sent': 'Wagenfelder Aue is a river of Lower Saxony, Germany, a right tributary of the Hunte.', 'triples': []}\n",
      "====================================\n"
     ]
    },
    {
     "name": "stderr",
     "output_type": "stream",
     "text": [
      "\n",
      "llama_print_timings:        load time =    4202.89 ms\n",
      "llama_print_timings:      sample time =       7.01 ms /    41 runs   (    0.17 ms per token,  5846.29 tokens per second)\n",
      "llama_print_timings: prompt eval time =     968.21 ms /   104 tokens (    9.31 ms per token,   107.41 tokens per second)\n",
      "llama_print_timings:        eval time =    1285.44 ms /    40 runs   (   32.14 ms per token,    31.12 tokens per second)\n",
      "llama_print_timings:       total time =    2327.92 ms /   144 tokens\n",
      "Llama.generate: prefix-match hit\n"
     ]
    },
    {
     "name": "stdout",
     "output_type": "stream",
     "text": [
      "Pilosella caespitosa (synonym Hieracium caespitosum, commonly known as meadow hawkweed, yellow hawkweed,field hawkweed, king devil, yellow paintbrush, devil's paintbrush, yellow devil, yellow fox-and-cubs, and yellow king-devil) is like several other Pilosella species and has a similar appearance to many of the hawkweeds.\n",
      "++++++++++++++++++++++++++++++++++++\n",
      "[{'taxon': 'Hieracium caespitosum', 'synonym': 'Hieracium caespitosum'}]\n",
      "++++++++++++++++++++++++++++++++++++\n"
     ]
    },
    {
     "name": "stderr",
     "output_type": "stream",
     "text": [
      "\n",
      "llama_print_timings:        load time =    4245.28 ms\n",
      "llama_print_timings:      sample time =      11.98 ms /    67 runs   (    0.18 ms per token,  5592.65 tokens per second)\n",
      "llama_print_timings: prompt eval time =    2272.47 ms /   252 tokens (    9.02 ms per token,   110.89 tokens per second)\n",
      "llama_print_timings:        eval time =    1977.12 ms /    66 runs   (   29.96 ms per token,    33.38 tokens per second)\n",
      "llama_print_timings:       total time =    4385.50 ms /   318 tokens\n",
      " 28%|██▊       | 44/157 [02:38<06:41,  3.56s/it]Llama.generate: prefix-match hit\n"
     ]
    },
    {
     "name": "stdout",
     "output_type": "stream",
     "text": [
      "[{'sub': 'Pilosella caespitosa', 'rel': 'parent taxon', 'obj': 'Hieracium'}, {'sub': 'Pilosella caespitosa', 'rel': 'parent taxon', 'obj': 'Hieracium caespitosum'}]\n",
      "====================================\n",
      "{'model1': 'Llama-2-7b-m1ft-q4.gguf', 'model2': 'Llama-2-7b-m2ft-q4.gguf', 'sent': \"Pilosella caespitosa (synonym Hieracium caespitosum, commonly known as meadow hawkweed, yellow hawkweed,field hawkweed, king devil, yellow paintbrush, devil's paintbrush, yellow devil, yellow fox-and-cubs, and yellow king-devil) is like several other Pilosella species and has a similar appearance to many of the hawkweeds.\", 'triples': [{'sub': 'Pilosella caespitosa', 'rel': 'parent taxon', 'obj': 'Hieracium'}, {'sub': 'Pilosella caespitosa', 'rel': 'parent taxon', 'obj': 'Hieracium caespitosum'}]}\n",
      "====================================\n"
     ]
    },
    {
     "name": "stderr",
     "output_type": "stream",
     "text": [
      "\n",
      "llama_print_timings:        load time =    4202.89 ms\n",
      "llama_print_timings:      sample time =       2.23 ms /    13 runs   (    0.17 ms per token,  5842.70 tokens per second)\n",
      "llama_print_timings: prompt eval time =     942.64 ms /    50 tokens (   18.85 ms per token,    53.04 tokens per second)\n",
      "llama_print_timings:        eval time =     384.61 ms /    12 runs   (   32.05 ms per token,    31.20 tokens per second)\n",
      "llama_print_timings:       total time =    1353.47 ms /    62 tokens\n",
      " 29%|██▊       | 45/157 [02:40<05:24,  2.90s/it]Llama.generate: prefix-match hit\n"
     ]
    },
    {
     "name": "stdout",
     "output_type": "stream",
     "text": [
      "The race was won by Polish rider Katarzyna Niewiadoma, riding for the WM3 Pro Cycling team, who as a result, took the lead of the overall Women's World Tour standings.\n",
      "++++++++++++++++++++++++++++++++++++\n",
      "[{}]\n",
      "++++++++++++++++++++++++++++++++++++\n",
      "{'triplets': []}\n",
      "====================================\n",
      "{'model1': 'Llama-2-7b-m1ft-q4.gguf', 'model2': 'Llama-2-7b-m2ft-q4.gguf', 'sent': \"The race was won by Polish rider Katarzyna Niewiadoma, riding for the WM3 Pro Cycling team, who as a result, took the lead of the overall Women's World Tour standings.\", 'triples': []}\n",
      "====================================\n"
     ]
    },
    {
     "name": "stderr",
     "output_type": "stream",
     "text": [
      "\n",
      "llama_print_timings:        load time =    4202.89 ms\n",
      "llama_print_timings:      sample time =       3.98 ms /    24 runs   (    0.17 ms per token,  6030.15 tokens per second)\n",
      "llama_print_timings: prompt eval time =     269.94 ms /    18 tokens (   15.00 ms per token,    66.68 tokens per second)\n",
      "llama_print_timings:        eval time =     727.40 ms /    23 runs   (   31.63 ms per token,    31.62 tokens per second)\n",
      "llama_print_timings:       total time =    1036.24 ms /    41 tokens\n",
      " 29%|██▉       | 46/157 [02:41<04:19,  2.34s/it]Llama.generate: prefix-match hit\n"
     ]
    },
    {
     "name": "stdout",
     "output_type": "stream",
     "text": [
      "Some authors still use the name Hexatominae for this subfamily.\n",
      "++++++++++++++++++++++++++++++++++++\n",
      "[{'taxon': 'Hexommatidae'}]\n",
      "++++++++++++++++++++++++++++++++++++\n",
      "{'triplets': []}\n",
      "====================================\n",
      "{'model1': 'Llama-2-7b-m1ft-q4.gguf', 'model2': 'Llama-2-7b-m2ft-q4.gguf', 'sent': 'Some authors still use the name Hexatominae for this subfamily.', 'triples': []}\n",
      "====================================\n"
     ]
    },
    {
     "name": "stderr",
     "output_type": "stream",
     "text": [
      "\n",
      "llama_print_timings:        load time =    4202.89 ms\n",
      "llama_print_timings:      sample time =       6.92 ms /    34 runs   (    0.20 ms per token,  4916.85 tokens per second)\n",
      "llama_print_timings: prompt eval time =     691.51 ms /    76 tokens (    9.10 ms per token,   109.90 tokens per second)\n",
      "llama_print_timings:        eval time =    1065.46 ms /    33 runs   (   32.29 ms per token,    30.97 tokens per second)\n",
      "llama_print_timings:       total time =    1830.24 ms /   109 tokens\n",
      "Llama.generate: prefix-match hit\n"
     ]
    },
    {
     "name": "stdout",
     "output_type": "stream",
     "text": [
      "The dam forms Abiquiu Lake, one of the largest lakes in New Mexico with a full storage capacity of 1,369,000 acre feet (1,689,000Â damÂ³) and 5,200 acres (2,100Â ha) of water.\n",
      "++++++++++++++++++++++++++++++++++++\n",
      "[{'dam': 'Dry Fork Dam', 'reservoir': 'Abiquiu Lake'}]\n",
      "++++++++++++++++++++++++++++++++++++\n"
     ]
    },
    {
     "name": "stderr",
     "output_type": "stream",
     "text": [
      "\n",
      "llama_print_timings:        load time =    4245.28 ms\n",
      "llama_print_timings:      sample time =       5.56 ms /    31 runs   (    0.18 ms per token,  5576.54 tokens per second)\n",
      "llama_print_timings: prompt eval time =    1989.33 ms /   221 tokens (    9.00 ms per token,   111.09 tokens per second)\n",
      "llama_print_timings:        eval time =     892.98 ms /    30 runs   (   29.77 ms per token,    33.60 tokens per second)\n",
      "llama_print_timings:       total time =    2946.12 ms /   251 tokens\n",
      " 30%|██▉       | 47/157 [02:46<05:38,  3.08s/it]Llama.generate: prefix-match hit\n"
     ]
    },
    {
     "name": "stdout",
     "output_type": "stream",
     "text": [
      "[{'sub': 'Dry Fork Dam', 'rel': 'reservoir created', 'obj': 'Abiquiu Lake'}]\n",
      "====================================\n",
      "{'model1': 'Llama-2-7b-m1ft-q4.gguf', 'model2': 'Llama-2-7b-m2ft-q4.gguf', 'sent': 'The dam forms Abiquiu Lake, one of the largest lakes in New Mexico with a full storage capacity of 1,369,000 acre feet (1,689,000Â\\xa0damÂ³) and 5,200 acres (2,100Â\\xa0ha) of water.', 'triples': [{'sub': 'Dry Fork Dam', 'rel': 'reservoir created', 'obj': 'Abiquiu Lake'}]}\n",
      "====================================\n"
     ]
    },
    {
     "name": "stderr",
     "output_type": "stream",
     "text": [
      "\n",
      "llama_print_timings:        load time =    4202.89 ms\n",
      "llama_print_timings:      sample time =       5.62 ms /    33 runs   (    0.17 ms per token,  5876.07 tokens per second)\n",
      "llama_print_timings: prompt eval time =     530.82 ms /    43 tokens (   12.34 ms per token,    81.01 tokens per second)\n",
      "llama_print_timings:        eval time =    1014.40 ms /    32 runs   (   31.70 ms per token,    31.55 tokens per second)\n",
      "llama_print_timings:       total time =    1601.00 ms /    75 tokens\n",
      "Llama.generate: prefix-match hit\n"
     ]
    },
    {
     "name": "stdout",
     "output_type": "stream",
     "text": [
      "The reservoir, Navajo Lake, is a popular recreation area and one of the largest bodies of water in New Mexico, with Navajo Dam's upper portion extending into Colorado.\n",
      "++++++++++++++++++++++++++++++++++++\n",
      "[{'dam': 'Navajo Dam', 'reservoir': 'Navajo Lake'}]\n",
      "++++++++++++++++++++++++++++++++++++\n"
     ]
    },
    {
     "name": "stderr",
     "output_type": "stream",
     "text": [
      "\n",
      "llama_print_timings:        load time =    4245.28 ms\n",
      "llama_print_timings:      sample time =       5.59 ms /    30 runs   (    0.19 ms per token,  5366.73 tokens per second)\n",
      "llama_print_timings: prompt eval time =    1699.95 ms /   185 tokens (    9.19 ms per token,   108.83 tokens per second)\n",
      "llama_print_timings:        eval time =     860.31 ms /    29 runs   (   29.67 ms per token,    33.71 tokens per second)\n",
      "llama_print_timings:       total time =    2623.33 ms /   214 tokens\n",
      " 31%|███       | 48/157 [02:50<06:13,  3.42s/it]Llama.generate: prefix-match hit\n"
     ]
    },
    {
     "name": "stdout",
     "output_type": "stream",
     "text": [
      "[{'sub': 'Navajo Dam', 'rel': 'reservoir created', 'obj': 'Navajo Lake'}]\n",
      "====================================\n",
      "{'model1': 'Llama-2-7b-m1ft-q4.gguf', 'model2': 'Llama-2-7b-m2ft-q4.gguf', 'sent': \"The reservoir, Navajo Lake, is a popular recreation area and one of the largest bodies of water in New Mexico, with Navajo Dam's upper portion extending into Colorado.\", 'triples': [{'sub': 'Navajo Dam', 'rel': 'reservoir created', 'obj': 'Navajo Lake'}]}\n",
      "====================================\n"
     ]
    },
    {
     "name": "stderr",
     "output_type": "stream",
     "text": [
      "\n",
      "llama_print_timings:        load time =    4202.89 ms\n",
      "llama_print_timings:      sample time =       5.31 ms /    32 runs   (    0.17 ms per token,  6027.50 tokens per second)\n",
      "llama_print_timings: prompt eval time =     652.43 ms /    63 tokens (   10.36 ms per token,    96.56 tokens per second)\n",
      "llama_print_timings:        eval time =     989.21 ms /    31 runs   (   31.91 ms per token,    31.34 tokens per second)\n",
      "llama_print_timings:       total time =    1695.02 ms /    94 tokens\n",
      "Llama.generate: prefix-match hit\n"
     ]
    },
    {
     "name": "stdout",
     "output_type": "stream",
     "text": [
      "Kahiltna Dome is a 12,411-foot (3,783Â m) mountain in the central Alaska Range, in Denali National Park, 7.3Â mi (12Â km) west of Denali.\n",
      "++++++++++++++++++++++++++++++++++++\n",
      "[{'mountain': 'Denali', 'mountain_range': 'Alaska Range'}]\n",
      "++++++++++++++++++++++++++++++++++++\n"
     ]
    },
    {
     "name": "stderr",
     "output_type": "stream",
     "text": [
      "\n",
      "llama_print_timings:        load time =    4245.28 ms\n",
      "llama_print_timings:      sample time =       9.62 ms /    55 runs   (    0.17 ms per token,  5719.04 tokens per second)\n",
      "llama_print_timings: prompt eval time =    1835.23 ms /   206 tokens (    8.91 ms per token,   112.25 tokens per second)\n",
      "llama_print_timings:        eval time =    1610.14 ms /    54 runs   (   29.82 ms per token,    33.54 tokens per second)\n",
      "llama_print_timings:       total time =    3547.34 ms /   260 tokens\n",
      " 31%|███       | 49/157 [02:55<07:09,  3.97s/it]Llama.generate: prefix-match hit\n"
     ]
    },
    {
     "name": "stdout",
     "output_type": "stream",
     "text": [
      "[{'sub': 'Kahiltna Dome', 'rel': 'mountain range', 'obj': 'Alaska Range'}, {'sub': 'Kahiltna Dome', 'rel': 'parent peak', 'obj': 'Denali'}]\n",
      "====================================\n",
      "{'model1': 'Llama-2-7b-m1ft-q4.gguf', 'model2': 'Llama-2-7b-m2ft-q4.gguf', 'sent': 'Kahiltna Dome is a 12,411-foot (3,783Â\\xa0m) mountain in the central Alaska Range, in Denali National Park, 7.3Â\\xa0mi (12Â\\xa0km) west of Denali.', 'triples': [{'sub': 'Kahiltna Dome', 'rel': 'mountain range', 'obj': 'Alaska Range'}, {'sub': 'Kahiltna Dome', 'rel': 'parent peak', 'obj': 'Denali'}]}\n",
      "====================================\n"
     ]
    },
    {
     "name": "stderr",
     "output_type": "stream",
     "text": [
      "\n",
      "llama_print_timings:        load time =    4202.89 ms\n",
      "llama_print_timings:      sample time =       5.44 ms /    31 runs   (    0.18 ms per token,  5702.72 tokens per second)\n",
      "llama_print_timings: prompt eval time =     703.32 ms /    58 tokens (   12.13 ms per token,    82.47 tokens per second)\n",
      "llama_print_timings:        eval time =     962.27 ms /    30 runs   (   32.08 ms per token,    31.18 tokens per second)\n",
      "llama_print_timings:       total time =    1725.54 ms /    88 tokens\n",
      "Llama.generate: prefix-match hit\n"
     ]
    },
    {
     "name": "stdout",
     "output_type": "stream",
     "text": [
      "The dam impounds the 10,230-acre (4,140Â ha) Fontana Lake, which spreads across a scenic stretch of the Little Tennessee along the southwestern boundary of the Great Smoky Mountains National Park.\n",
      "++++++++++++++++++++++++++++++++++++\n",
      "[{'dam': 'Fontana Dam', 'reservoir': 'Fontana Lake'}]\n",
      "++++++++++++++++++++++++++++++++++++\n"
     ]
    },
    {
     "name": "stderr",
     "output_type": "stream",
     "text": [
      "\n",
      "llama_print_timings:        load time =    4245.28 ms\n",
      "llama_print_timings:      sample time =       4.65 ms /    28 runs   (    0.17 ms per token,  6022.80 tokens per second)\n",
      "llama_print_timings: prompt eval time =    1821.96 ms /   200 tokens (    9.11 ms per token,   109.77 tokens per second)\n",
      "llama_print_timings:        eval time =     796.97 ms /    27 runs   (   29.52 ms per token,    33.88 tokens per second)\n",
      "llama_print_timings:       total time =    2677.92 ms /   227 tokens\n",
      " 32%|███▏      | 50/157 [02:59<07:19,  4.11s/it]Llama.generate: prefix-match hit\n"
     ]
    },
    {
     "name": "stdout",
     "output_type": "stream",
     "text": [
      "[{'sub': 'Fontana Dam', 'rel': 'reservoir created', 'obj': 'Fontana Lake'}]\n",
      "====================================\n",
      "{'model1': 'Llama-2-7b-m1ft-q4.gguf', 'model2': 'Llama-2-7b-m2ft-q4.gguf', 'sent': 'The dam impounds the 10,230-acre (4,140Â\\xa0ha) Fontana Lake, which spreads across a scenic stretch of the Little Tennessee along the southwestern boundary of the Great Smoky Mountains National Park.', 'triples': [{'sub': 'Fontana Dam', 'rel': 'reservoir created', 'obj': 'Fontana Lake'}]}\n",
      "====================================\n"
     ]
    },
    {
     "name": "stderr",
     "output_type": "stream",
     "text": [
      "\n",
      "llama_print_timings:        load time =    4202.89 ms\n",
      "llama_print_timings:      sample time =       3.77 ms /    23 runs   (    0.16 ms per token,  6100.80 tokens per second)\n",
      "llama_print_timings: prompt eval time =     382.05 ms /    32 tokens (   11.94 ms per token,    83.76 tokens per second)\n",
      "llama_print_timings:        eval time =     696.62 ms /    22 runs   (   31.66 ms per token,    31.58 tokens per second)\n",
      "llama_print_timings:       total time =    1115.61 ms /    54 tokens\n",
      " 32%|███▏      | 51/157 [03:01<05:40,  3.21s/it]Llama.generate: prefix-match hit\n"
     ]
    },
    {
     "name": "stdout",
     "output_type": "stream",
     "text": [
      "Fusilier Peak's line parent is Constable Peak, 2 kilometres (1.2Â mi) away.\n",
      "++++++++++++++++++++++++++++++++++++\n",
      "[{'mountain': 'Constable Peak'}]\n",
      "++++++++++++++++++++++++++++++++++++\n",
      "{'triplets': []}\n",
      "====================================\n",
      "{'model1': 'Llama-2-7b-m1ft-q4.gguf', 'model2': 'Llama-2-7b-m2ft-q4.gguf', 'sent': \"Fusilier Peak's line parent is Constable Peak, 2 kilometres (1.2Â\\xa0mi) away.\", 'triples': []}\n",
      "====================================\n"
     ]
    },
    {
     "name": "stderr",
     "output_type": "stream",
     "text": [
      "\n",
      "llama_print_timings:        load time =    4202.89 ms\n",
      "llama_print_timings:      sample time =       5.43 ms /    33 runs   (    0.16 ms per token,  6077.35 tokens per second)\n",
      "llama_print_timings: prompt eval time =     137.74 ms /    14 tokens (    9.84 ms per token,   101.64 tokens per second)\n",
      "llama_print_timings:        eval time =    1010.91 ms /    32 runs   (   31.59 ms per token,    31.65 tokens per second)\n",
      "llama_print_timings:       total time =    1199.66 ms /    46 tokens\n",
      "Llama.generate: prefix-match hit\n"
     ]
    },
    {
     "name": "stdout",
     "output_type": "stream",
     "text": [
      "Schwanberg is part of the Steigerwald.\n",
      "++++++++++++++++++++++++++++++++++++\n",
      "[{'mountain': 'Schwanberg', 'mountain_range': 'Steigerwald'}]\n",
      "++++++++++++++++++++++++++++++++++++\n"
     ]
    },
    {
     "name": "stderr",
     "output_type": "stream",
     "text": [
      "\n",
      "llama_print_timings:        load time =    4245.28 ms\n",
      "llama_print_timings:      sample time =       4.50 ms /    27 runs   (    0.17 ms per token,  6006.67 tokens per second)\n",
      "llama_print_timings: prompt eval time =    1430.85 ms /   158 tokens (    9.06 ms per token,   110.42 tokens per second)\n",
      "llama_print_timings:        eval time =     761.55 ms /    26 runs   (   29.29 ms per token,    34.14 tokens per second)\n",
      "llama_print_timings:       total time =    2244.00 ms /   184 tokens\n",
      " 33%|███▎      | 52/157 [03:04<05:44,  3.28s/it]Llama.generate: prefix-match hit\n"
     ]
    },
    {
     "name": "stdout",
     "output_type": "stream",
     "text": [
      "[{'sub': 'Schwanberg', 'rel': 'mountain range', 'obj': 'Steigerwald'}]\n",
      "====================================\n",
      "{'model1': 'Llama-2-7b-m1ft-q4.gguf', 'model2': 'Llama-2-7b-m2ft-q4.gguf', 'sent': 'Schwanberg is part of the Steigerwald.', 'triples': [{'sub': 'Schwanberg', 'rel': 'mountain range', 'obj': 'Steigerwald'}]}\n",
      "====================================\n"
     ]
    },
    {
     "name": "stderr",
     "output_type": "stream",
     "text": [
      "\n",
      "llama_print_timings:        load time =    4202.89 ms\n",
      "llama_print_timings:      sample time =       6.42 ms /    36 runs   (    0.18 ms per token,  5607.48 tokens per second)\n",
      "llama_print_timings: prompt eval time =     784.38 ms /    75 tokens (   10.46 ms per token,    95.62 tokens per second)\n",
      "llama_print_timings:        eval time =    1117.72 ms /    35 runs   (   31.93 ms per token,    31.31 tokens per second)\n",
      "llama_print_timings:       total time =    1968.40 ms /   110 tokens\n",
      "Llama.generate: prefix-match hit\n"
     ]
    },
    {
     "name": "stdout",
     "output_type": "stream",
     "text": [
      "Mount Moriya (Bulgarian:  , romanized:Â vrah Moriya, IPA:Â [vrx morij]) is the rounded, ice-covered peak rising to 1700 m in Lovech Heights on NordenskjÃ¶ld Coast in Graham Land, Antarctica.\n",
      "++++++++++++++++++++++++++++++++++++\n",
      "[{'mountain': 'Mount Moriya', 'mountain_range': 'Lovech Heights'}]\n",
      "++++++++++++++++++++++++++++++++++++\n"
     ]
    },
    {
     "name": "stderr",
     "output_type": "stream",
     "text": [
      "\n",
      "llama_print_timings:        load time =    4245.28 ms\n",
      "llama_print_timings:      sample time =       4.96 ms /    30 runs   (    0.17 ms per token,  6048.39 tokens per second)\n",
      "llama_print_timings: prompt eval time =    1974.72 ms /   218 tokens (    9.06 ms per token,   110.40 tokens per second)\n",
      "llama_print_timings:        eval time =     860.41 ms /    29 runs   (   29.67 ms per token,    33.70 tokens per second)\n",
      "llama_print_timings:       total time =    2897.30 ms /   247 tokens\n",
      " 34%|███▍      | 53/157 [03:09<06:31,  3.76s/it]Llama.generate: prefix-match hit\n"
     ]
    },
    {
     "name": "stdout",
     "output_type": "stream",
     "text": [
      "[{'sub': 'Mount Moriya', 'rel': 'mountain range', 'obj': 'Lovech Heights'}]\n",
      "====================================\n",
      "{'model1': 'Llama-2-7b-m1ft-q4.gguf', 'model2': 'Llama-2-7b-m2ft-q4.gguf', 'sent': 'Mount Moriya (Bulgarian:  , romanized:Â\\xa0vrah Moriya, IPA:Â\\xa0[vrx morij]) is the rounded, ice-covered peak rising to 1700 m in Lovech Heights on NordenskjÃ¶ld Coast in Graham Land, Antarctica.', 'triples': [{'sub': 'Mount Moriya', 'rel': 'mountain range', 'obj': 'Lovech Heights'}]}\n",
      "====================================\n"
     ]
    },
    {
     "name": "stderr",
     "output_type": "stream",
     "text": [
      "\n",
      "llama_print_timings:        load time =    4202.89 ms\n",
      "llama_print_timings:      sample time =       3.94 ms /    24 runs   (    0.16 ms per token,  6086.74 tokens per second)\n",
      "llama_print_timings: prompt eval time =     394.43 ms /    23 tokens (   17.15 ms per token,    58.31 tokens per second)\n",
      "llama_print_timings:        eval time =     729.57 ms /    23 runs   (   31.72 ms per token,    31.53 tokens per second)\n",
      "llama_print_timings:       total time =    1162.29 ms /    46 tokens\n",
      " 34%|███▍      | 54/157 [03:10<05:07,  2.98s/it]Llama.generate: prefix-match hit\n"
     ]
    },
    {
     "name": "stdout",
     "output_type": "stream",
     "text": [
      "In the centre of Kreuztal Littfe flows into the river Ferndorfbach.\n",
      "++++++++++++++++++++++++++++++++++++\n",
      "[{'watercourse': 'Ferndorfbach'}]\n",
      "++++++++++++++++++++++++++++++++++++\n",
      "{'triplets': []}\n",
      "====================================\n",
      "{'model1': 'Llama-2-7b-m1ft-q4.gguf', 'model2': 'Llama-2-7b-m2ft-q4.gguf', 'sent': 'In the centre of Kreuztal Littfe flows into the river Ferndorfbach.', 'triples': []}\n",
      "====================================\n"
     ]
    },
    {
     "name": "stderr",
     "output_type": "stream",
     "text": [
      "\n",
      "llama_print_timings:        load time =    4202.89 ms\n",
      "llama_print_timings:      sample time =       3.44 ms /    21 runs   (    0.16 ms per token,  6108.20 tokens per second)\n",
      "llama_print_timings: prompt eval time =     273.79 ms /    25 tokens (   10.95 ms per token,    91.31 tokens per second)\n",
      "llama_print_timings:        eval time =     632.29 ms /    20 runs   (   31.61 ms per token,    31.63 tokens per second)\n",
      "llama_print_timings:       total time =     938.48 ms /    45 tokens\n",
      " 35%|███▌      | 55/157 [03:11<04:01,  2.37s/it]Llama.generate: prefix-match hit\n"
     ]
    },
    {
     "name": "stdout",
     "output_type": "stream",
     "text": [
      "Tributaries are Ramme, Aue, Twiste, Bade, Bever and Mehe.\n",
      "++++++++++++++++++++++++++++++++++++\n",
      "[{'watercourse': 'Mehe'}]\n",
      "++++++++++++++++++++++++++++++++++++\n",
      "{'triplets': []}\n",
      "====================================\n",
      "{'model1': 'Llama-2-7b-m1ft-q4.gguf', 'model2': 'Llama-2-7b-m2ft-q4.gguf', 'sent': 'Tributaries are Ramme, Aue, Twiste, Bade, Bever and Mehe.', 'triples': []}\n",
      "====================================\n"
     ]
    },
    {
     "name": "stderr",
     "output_type": "stream",
     "text": [
      "\n",
      "llama_print_timings:        load time =    4202.89 ms\n",
      "llama_print_timings:      sample time =       7.78 ms /    41 runs   (    0.19 ms per token,  5269.92 tokens per second)\n",
      "llama_print_timings: prompt eval time =     411.78 ms /    35 tokens (   11.77 ms per token,    85.00 tokens per second)\n",
      "llama_print_timings:        eval time =    1277.14 ms /    40 runs   (   31.93 ms per token,    31.32 tokens per second)\n",
      "llama_print_timings:       total time =    1764.28 ms /    75 tokens\n",
      "Llama.generate: prefix-match hit\n"
     ]
    },
    {
     "name": "stdout",
     "output_type": "stream",
     "text": [
      "Chenopodium foliosum) is a species of flowering plant in the amaranth family known by the common name leafy goosefoot.\n",
      "++++++++++++++++++++++++++++++++++++\n",
      "[{'taxon': 'Chenopodium foliosum', 'synonym': 'Chenopodium foliosum'}]\n",
      "++++++++++++++++++++++++++++++++++++\n"
     ]
    },
    {
     "name": "stderr",
     "output_type": "stream",
     "text": [
      "\n",
      "llama_print_timings:        load time =    4245.28 ms\n",
      "llama_print_timings:      sample time =       6.30 ms /    38 runs   (    0.17 ms per token,  6027.92 tokens per second)\n",
      "llama_print_timings: prompt eval time =    1706.38 ms /   187 tokens (    9.13 ms per token,   109.59 tokens per second)\n",
      "llama_print_timings:        eval time =    1089.65 ms /    37 runs   (   29.45 ms per token,    33.96 tokens per second)\n",
      "llama_print_timings:       total time =    2864.90 ms /   224 tokens\n",
      " 36%|███▌      | 56/157 [03:16<05:08,  3.05s/it]Llama.generate: prefix-match hit\n"
     ]
    },
    {
     "name": "stdout",
     "output_type": "stream",
     "text": [
      "[{'sub': 'Chenopodium foliosum', 'rel': 'taxon synonym', 'obj': 'Chenopodium foliosum'}]\n",
      "====================================\n",
      "{'model1': 'Llama-2-7b-m1ft-q4.gguf', 'model2': 'Llama-2-7b-m2ft-q4.gguf', 'sent': 'Chenopodium foliosum) is a species of flowering plant in the amaranth family known by the common name leafy goosefoot.', 'triples': [{'sub': 'Chenopodium foliosum', 'rel': 'taxon synonym', 'obj': 'Chenopodium foliosum'}]}\n",
      "====================================\n"
     ]
    },
    {
     "name": "stderr",
     "output_type": "stream",
     "text": [
      "\n",
      "llama_print_timings:        load time =    4202.89 ms\n",
      "llama_print_timings:      sample time =       5.38 ms /    32 runs   (    0.17 ms per token,  5944.64 tokens per second)\n",
      "llama_print_timings: prompt eval time =     364.05 ms /    28 tokens (   13.00 ms per token,    76.91 tokens per second)\n",
      "llama_print_timings:        eval time =     981.85 ms /    31 runs   (   31.67 ms per token,    31.57 tokens per second)\n",
      "llama_print_timings:       total time =    1400.05 ms /    59 tokens\n",
      "Llama.generate: prefix-match hit\n"
     ]
    },
    {
     "name": "stdout",
     "output_type": "stream",
     "text": [
      "Longhorn Dam is a dam crossing the Colorado River in Austin, Texas, United States, where it creates Lady Bird Lake.\n",
      "++++++++++++++++++++++++++++++++++++\n",
      "[{'dam': 'Longhorn Dam', 'reservoir': 'Lady Bird Lake'}]\n",
      "++++++++++++++++++++++++++++++++++++\n"
     ]
    },
    {
     "name": "stderr",
     "output_type": "stream",
     "text": [
      "\n",
      "llama_print_timings:        load time =    4245.28 ms\n",
      "llama_print_timings:      sample time =       5.07 ms /    29 runs   (    0.17 ms per token,  5724.44 tokens per second)\n",
      "llama_print_timings: prompt eval time =    1560.01 ms /   171 tokens (    9.12 ms per token,   109.61 tokens per second)\n",
      "llama_print_timings:        eval time =     824.20 ms /    28 runs   (   29.44 ms per token,    33.97 tokens per second)\n",
      "llama_print_timings:       total time =    2445.60 ms /   199 tokens\n",
      " 36%|███▋      | 57/157 [03:19<05:29,  3.29s/it]Llama.generate: prefix-match hit\n"
     ]
    },
    {
     "name": "stdout",
     "output_type": "stream",
     "text": [
      "[{'sub': 'Longhorn Dam', 'rel': 'reservoir created', 'obj': 'Lady Bird Lake'}]\n",
      "====================================\n",
      "{'model1': 'Llama-2-7b-m1ft-q4.gguf', 'model2': 'Llama-2-7b-m2ft-q4.gguf', 'sent': 'Longhorn Dam is a dam crossing the Colorado River in Austin, Texas, United States, where it creates Lady Bird Lake.', 'triples': [{'sub': 'Longhorn Dam', 'rel': 'reservoir created', 'obj': 'Lady Bird Lake'}]}\n",
      "====================================\n"
     ]
    },
    {
     "name": "stderr",
     "output_type": "stream",
     "text": [
      "\n",
      "llama_print_timings:        load time =    4202.89 ms\n",
      "llama_print_timings:      sample time =       6.44 ms /    37 runs   (    0.17 ms per token,  5749.81 tokens per second)\n",
      "llama_print_timings: prompt eval time =     966.92 ms /    43 tokens (   22.49 ms per token,    44.47 tokens per second)\n",
      "llama_print_timings:        eval time =    1153.94 ms /    36 runs   (   32.05 ms per token,    31.20 tokens per second)\n",
      "llama_print_timings:       total time =    2191.27 ms /    79 tokens\n",
      "Llama.generate: prefix-match hit\n"
     ]
    },
    {
     "name": "stdout",
     "output_type": "stream",
     "text": [
      "At 674.9 metres (2,214Â ft) the Hochkelberg is one of the ten highest mountains in the Vulkan Eifel in Germany.\n",
      "++++++++++++++++++++++++++++++++++++\n",
      "[{'mountain': 'Hochkelberg', 'mountain_range': 'Vulkan Eifel'}]\n",
      "++++++++++++++++++++++++++++++++++++\n"
     ]
    },
    {
     "name": "stderr",
     "output_type": "stream",
     "text": [
      "\n",
      "llama_print_timings:        load time =    4245.28 ms\n",
      "llama_print_timings:      sample time =       6.26 ms /    31 runs   (    0.20 ms per token,  4948.91 tokens per second)\n",
      "llama_print_timings: prompt eval time =    1767.01 ms /   191 tokens (    9.25 ms per token,   108.09 tokens per second)\n",
      "llama_print_timings:        eval time =     888.51 ms /    30 runs   (   29.62 ms per token,    33.76 tokens per second)\n",
      "llama_print_timings:       total time =    2732.44 ms /   221 tokens\n",
      " 37%|███▋      | 58/157 [03:24<06:14,  3.79s/it]Llama.generate: prefix-match hit\n"
     ]
    },
    {
     "name": "stdout",
     "output_type": "stream",
     "text": [
      "[{'sub': 'Hochkelberg', 'rel': 'mountain range', 'obj': 'Vulkan Eifel'}]\n",
      "====================================\n",
      "{'model1': 'Llama-2-7b-m1ft-q4.gguf', 'model2': 'Llama-2-7b-m2ft-q4.gguf', 'sent': 'At 674.9 metres (2,214Â\\xa0ft) the Hochkelberg is one of the ten highest mountains in the Vulkan Eifel in Germany.', 'triples': [{'sub': 'Hochkelberg', 'rel': 'mountain range', 'obj': 'Vulkan Eifel'}]}\n",
      "====================================\n"
     ]
    },
    {
     "name": "stderr",
     "output_type": "stream",
     "text": [
      "\n",
      "llama_print_timings:        load time =    4202.89 ms\n",
      "llama_print_timings:      sample time =       3.81 ms /    22 runs   (    0.17 ms per token,  5766.71 tokens per second)\n",
      "llama_print_timings: prompt eval time =     681.63 ms /    51 tokens (   13.37 ms per token,    74.82 tokens per second)\n",
      "llama_print_timings:        eval time =     673.24 ms /    21 runs   (   32.06 ms per token,    31.19 tokens per second)\n",
      "llama_print_timings:       total time =    1400.49 ms /    72 tokens\n",
      " 38%|███▊      | 59/157 [03:26<05:01,  3.07s/it]Llama.generate: prefix-match hit\n"
     ]
    },
    {
     "name": "stdout",
     "output_type": "stream",
     "text": [
      "Zagyva flows through the towns of BÃ¡tonyterenye, PÃ¡sztÃ³, Hatvan and JÃ¡szberÃ©ny and flows into the Tisza at Szolnok.\n",
      "++++++++++++++++++++++++++++++++++++\n",
      "[{'watercourse': 'Tisza'}]\n",
      "++++++++++++++++++++++++++++++++++++\n",
      "{'triplets': []}\n",
      "====================================\n",
      "{'model1': 'Llama-2-7b-m1ft-q4.gguf', 'model2': 'Llama-2-7b-m2ft-q4.gguf', 'sent': 'Zagyva flows through the towns of BÃ¡tonyterenye, PÃ¡sztÃ³, Hatvan and JÃ¡szberÃ©ny and flows into the Tisza at Szolnok.', 'triples': []}\n",
      "====================================\n"
     ]
    },
    {
     "name": "stderr",
     "output_type": "stream",
     "text": [
      "\n",
      "llama_print_timings:        load time =    4202.89 ms\n",
      "llama_print_timings:      sample time =       4.01 ms /    24 runs   (    0.17 ms per token,  5979.07 tokens per second)\n",
      "llama_print_timings: prompt eval time =     688.75 ms /    73 tokens (    9.43 ms per token,   105.99 tokens per second)\n",
      "llama_print_timings:        eval time =     733.83 ms /    23 runs   (   31.91 ms per token,    31.34 tokens per second)\n",
      "llama_print_timings:       total time =    1467.38 ms /    96 tokens\n",
      " 38%|███▊      | 60/157 [03:27<04:11,  2.59s/it]Llama.generate: prefix-match hit\n"
     ]
    },
    {
     "name": "stdout",
     "output_type": "stream",
     "text": [
      "The second branch is formed by two main tributaries known as Kargyag river, with Zanskar River's source near the Shingo La 5,091Â m (16,703Â ft), and Tsarap river, with its source near the Baralacha-La.\n",
      "++++++++++++++++++++++++++++++++++++\n",
      "[{'watercourse': 'Tsarap River'}]\n",
      "++++++++++++++++++++++++++++++++++++\n",
      "{'triplets': []}\n",
      "====================================\n",
      "{'model1': 'Llama-2-7b-m1ft-q4.gguf', 'model2': 'Llama-2-7b-m2ft-q4.gguf', 'sent': \"The second branch is formed by two main tributaries known as Kargyag river, with Zanskar River's source near the Shingo La 5,091Â\\xa0m (16,703Â\\xa0ft), and Tsarap river, with its source near the Baralacha-La.\", 'triples': []}\n",
      "====================================\n"
     ]
    },
    {
     "name": "stderr",
     "output_type": "stream",
     "text": [
      "\n",
      "llama_print_timings:        load time =    4202.89 ms\n",
      "llama_print_timings:      sample time =       4.45 ms /    24 runs   (    0.19 ms per token,  5388.41 tokens per second)\n",
      "llama_print_timings: prompt eval time =     413.11 ms /    48 tokens (    8.61 ms per token,   116.19 tokens per second)\n",
      "llama_print_timings:        eval time =     734.32 ms /    23 runs   (   31.93 ms per token,    31.32 tokens per second)\n",
      "llama_print_timings:       total time =    1192.81 ms /    71 tokens\n",
      " 39%|███▉      | 61/157 [03:29<03:28,  2.18s/it]Llama.generate: prefix-match hit\n"
     ]
    },
    {
     "name": "stdout",
     "output_type": "stream",
     "text": [
      "\"White Nile\" may sometimes include the headwaters of Lake Victoria, the most remote of which being 2,300 miles (3,700Â km) from the Blue Nile.\n",
      "++++++++++++++++++++++++++++++++++++\n",
      "[{'watercourse': 'Victoria Nile'}]\n",
      "++++++++++++++++++++++++++++++++++++\n",
      "{'triplets': []}\n",
      "====================================\n",
      "{'model1': 'Llama-2-7b-m1ft-q4.gguf', 'model2': 'Llama-2-7b-m2ft-q4.gguf', 'sent': '\"White Nile\" may sometimes include the headwaters of Lake Victoria, the most remote of which being 2,300 miles (3,700Â\\xa0km) from the Blue Nile.', 'triples': []}\n",
      "====================================\n"
     ]
    },
    {
     "name": "stderr",
     "output_type": "stream",
     "text": [
      "\n",
      "llama_print_timings:        load time =    4202.89 ms\n",
      "llama_print_timings:      sample time =       6.07 ms /    37 runs   (    0.16 ms per token,  6096.56 tokens per second)\n",
      "llama_print_timings: prompt eval time =     416.14 ms /    48 tokens (    8.67 ms per token,   115.34 tokens per second)\n",
      "llama_print_timings:        eval time =    1177.68 ms /    37 runs   (   31.83 ms per token,    31.42 tokens per second)\n",
      "llama_print_timings:       total time =    1654.23 ms /    85 tokens\n",
      "Llama.generate: prefix-match hit\n"
     ]
    },
    {
     "name": "stdout",
     "output_type": "stream",
     "text": [
      "Malva acerifolia, also frequently known under the synonyms Lavatera acerifolia or Malva canariensis is a shrub endemic to the Canary Islands, belonging to the family Malvaceae.\n",
      "++++++++++++++++++++++++++++++++++++\n",
      "[{'taxon': 'Malva canariensis', 'synonym': 'Lavatera acerifolia'}]\n",
      "++++++++++++++++++++++++++++++++++++\n"
     ]
    },
    {
     "name": "stderr",
     "output_type": "stream",
     "text": [
      "\n",
      "llama_print_timings:        load time =    4245.28 ms\n",
      "llama_print_timings:      sample time =       6.02 ms /    32 runs   (    0.19 ms per token,  5312.08 tokens per second)\n",
      "llama_print_timings: prompt eval time =    2132.65 ms /   197 tokens (   10.83 ms per token,    92.37 tokens per second)\n",
      "llama_print_timings:        eval time =     919.99 ms /    31 runs   (   29.68 ms per token,    33.70 tokens per second)\n",
      "llama_print_timings:       total time =    3132.18 ms /   228 tokens\n",
      " 39%|███▉      | 62/157 [03:33<04:41,  2.96s/it]Llama.generate: prefix-match hit\n"
     ]
    },
    {
     "name": "stdout",
     "output_type": "stream",
     "text": [
      "[{'sub': 'Malva acerifolia', 'rel': 'taxon synonym', 'obj': 'Malva canariensis'}]\n",
      "====================================\n",
      "{'model1': 'Llama-2-7b-m1ft-q4.gguf', 'model2': 'Llama-2-7b-m2ft-q4.gguf', 'sent': 'Malva acerifolia, also frequently known under the synonyms Lavatera acerifolia or Malva canariensis is a shrub endemic to the Canary Islands, belonging to the family Malvaceae.', 'triples': [{'sub': 'Malva acerifolia', 'rel': 'taxon synonym', 'obj': 'Malva canariensis'}]}\n",
      "====================================\n"
     ]
    },
    {
     "name": "stderr",
     "output_type": "stream",
     "text": [
      "\n",
      "llama_print_timings:        load time =    4202.89 ms\n",
      "llama_print_timings:      sample time =       3.98 ms /    23 runs   (    0.17 ms per token,  5780.35 tokens per second)\n",
      "llama_print_timings: prompt eval time =     716.61 ms /    39 tokens (   18.37 ms per token,    54.42 tokens per second)\n",
      "llama_print_timings:        eval time =     699.75 ms /    22 runs   (   31.81 ms per token,    31.44 tokens per second)\n",
      "llama_print_timings:       total time =    1462.08 ms /    61 tokens\n",
      " 40%|████      | 63/157 [03:35<03:56,  2.52s/it]Llama.generate: prefix-match hit\n"
     ]
    },
    {
     "name": "stdout",
     "output_type": "stream",
     "text": [
      "Urubamba River flows north-north-west for 724 kilometers before coalescing with the Tambo River to form the Ucayali River.\n",
      "++++++++++++++++++++++++++++++++++++\n",
      "[{'watercourse': 'Tambo River'}]\n",
      "++++++++++++++++++++++++++++++++++++\n",
      "{'triplets': []}\n",
      "====================================\n",
      "{'model1': 'Llama-2-7b-m1ft-q4.gguf', 'model2': 'Llama-2-7b-m2ft-q4.gguf', 'sent': 'Urubamba River flows north-north-west for 724 kilometers before coalescing with the Tambo River to form the Ucayali River.', 'triples': []}\n",
      "====================================\n"
     ]
    },
    {
     "name": "stderr",
     "output_type": "stream",
     "text": [
      "\n",
      "llama_print_timings:        load time =    4202.89 ms\n",
      "llama_print_timings:      sample time =       3.72 ms /    22 runs   (    0.17 ms per token,  5918.75 tokens per second)\n",
      "llama_print_timings: prompt eval time =     409.15 ms /    42 tokens (    9.74 ms per token,   102.65 tokens per second)\n",
      "llama_print_timings:        eval time =     664.51 ms /    21 runs   (   31.64 ms per token,    31.60 tokens per second)\n",
      "llama_print_timings:       total time =    1111.01 ms /    63 tokens\n",
      " 41%|████      | 64/157 [03:36<03:14,  2.10s/it]Llama.generate: prefix-match hit\n"
     ]
    },
    {
     "name": "stdout",
     "output_type": "stream",
     "text": [
      "The Peace River joins the Athabasca River in the Peace-Athabasca Delta to form the Slave River, a tributary of the Mackenzie River.\n",
      "++++++++++++++++++++++++++++++++++++\n",
      "[{'watercourse': 'Slave River'}]\n",
      "++++++++++++++++++++++++++++++++++++\n",
      "{'triplets': []}\n",
      "====================================\n",
      "{'model1': 'Llama-2-7b-m1ft-q4.gguf', 'model2': 'Llama-2-7b-m2ft-q4.gguf', 'sent': 'The Peace River joins the Athabasca River in the Peace-Athabasca Delta to form the Slave River, a tributary of the Mackenzie River.', 'triples': []}\n",
      "====================================\n"
     ]
    },
    {
     "name": "stderr",
     "output_type": "stream",
     "text": [
      "\n",
      "llama_print_timings:        load time =    4202.89 ms\n",
      "llama_print_timings:      sample time =       3.96 ms /    23 runs   (    0.17 ms per token,  5805.15 tokens per second)\n",
      "llama_print_timings: prompt eval time =     698.70 ms /    75 tokens (    9.32 ms per token,   107.34 tokens per second)\n",
      "llama_print_timings:        eval time =     705.42 ms /    22 runs   (   32.06 ms per token,    31.19 tokens per second)\n",
      "llama_print_timings:       total time =    1449.48 ms /    97 tokens\n",
      " 41%|████▏     | 65/157 [03:37<02:55,  1.90s/it]Llama.generate: prefix-match hit\n"
     ]
    },
    {
     "name": "stdout",
     "output_type": "stream",
     "text": [
      "Hikers approach the mountain either from the New York side on the west via the South Taconic or from another trail following the Connecticut-Massachusetts state line on the east, a route that allows them to visit both the tristate marker and the highest point in Connecticut, near the summit of Mount Frissell, along the way.\n",
      "++++++++++++++++++++++++++++++++++++\n",
      "[{'mountain': 'Mount Frissell'}]\n",
      "++++++++++++++++++++++++++++++++++++\n",
      "{'triplets': []}\n",
      "====================================\n",
      "{'model1': 'Llama-2-7b-m1ft-q4.gguf', 'model2': 'Llama-2-7b-m2ft-q4.gguf', 'sent': 'Hikers approach the mountain either from the New York side on the west via the South Taconic or from another trail following the Connecticut-Massachusetts state line on the east, a route that allows them to visit both the tristate marker and the highest point in Connecticut, near the summit of Mount Frissell, along the way.', 'triples': []}\n",
      "====================================\n"
     ]
    },
    {
     "name": "stderr",
     "output_type": "stream",
     "text": [
      "\n",
      "llama_print_timings:        load time =    4202.89 ms\n",
      "llama_print_timings:      sample time =       4.94 ms /    26 runs   (    0.19 ms per token,  5265.29 tokens per second)\n",
      "llama_print_timings: prompt eval time =     550.96 ms /    64 tokens (    8.61 ms per token,   116.16 tokens per second)\n",
      "llama_print_timings:        eval time =     796.45 ms /    25 runs   (   31.86 ms per token,    31.39 tokens per second)\n",
      "llama_print_timings:       total time =    1400.26 ms /    89 tokens\n",
      " 42%|████▏     | 66/157 [03:39<02:39,  1.75s/it]Llama.generate: prefix-match hit\n"
     ]
    },
    {
     "name": "stdout",
     "output_type": "stream",
     "text": [
      "This high, boggy ground is really one great plateau which rarely drops much below 600Â m (2000Â ft) between Mallerstang Edge and Great Shunner Fell, 5.4Â km to the south-east.\n",
      "++++++++++++++++++++++++++++++++++++\n",
      "[{'mountain': 'Great Shunner Fell'}]\n",
      "++++++++++++++++++++++++++++++++++++\n",
      "{'triplets': []}\n",
      "====================================\n",
      "{'model1': 'Llama-2-7b-m1ft-q4.gguf', 'model2': 'Llama-2-7b-m2ft-q4.gguf', 'sent': 'This high, boggy ground is really one great plateau which rarely drops much below 600Â\\xa0m (2000Â\\xa0ft) between Mallerstang Edge and Great Shunner Fell, 5.4Â\\xa0km to the south-east.', 'triples': []}\n",
      "====================================\n"
     ]
    },
    {
     "name": "stderr",
     "output_type": "stream",
     "text": [
      "\n",
      "llama_print_timings:        load time =    4202.89 ms\n",
      "llama_print_timings:      sample time =       4.21 ms /    25 runs   (    0.17 ms per token,  5935.42 tokens per second)\n",
      "llama_print_timings: prompt eval time =     416.03 ms /    48 tokens (    8.67 ms per token,   115.38 tokens per second)\n",
      "llama_print_timings:        eval time =     763.82 ms /    24 runs   (   31.83 ms per token,    31.42 tokens per second)\n",
      "llama_print_timings:       total time =    1222.44 ms /    72 tokens\n",
      " 43%|████▎     | 67/157 [03:40<02:23,  1.60s/it]Llama.generate: prefix-match hit\n"
     ]
    },
    {
     "name": "stdout",
     "output_type": "stream",
     "text": [
      "About 83% of the pygmy marmoset population lives in stable troops of two to nine individuals, including a dominant male, a breeding female, and up to four successive litters of offspring.\n",
      "++++++++++++++++++++++++++++++++++++\n",
      "[{'taxon': 'Callithrix jacchus'}]\n",
      "++++++++++++++++++++++++++++++++++++\n",
      "{'triplets': []}\n",
      "====================================\n",
      "{'model1': 'Llama-2-7b-m1ft-q4.gguf', 'model2': 'Llama-2-7b-m2ft-q4.gguf', 'sent': 'About 83% of the pygmy marmoset population lives in stable troops of two to nine individuals, including a dominant male, a breeding female, and up to four successive litters of offspring.', 'triples': []}\n",
      "====================================\n"
     ]
    },
    {
     "name": "stderr",
     "output_type": "stream",
     "text": [
      "\n",
      "llama_print_timings:        load time =    4202.89 ms\n",
      "llama_print_timings:      sample time =       4.57 ms /    27 runs   (    0.17 ms per token,  5905.51 tokens per second)\n",
      "llama_print_timings: prompt eval time =     410.06 ms /    38 tokens (   10.79 ms per token,    92.67 tokens per second)\n",
      "llama_print_timings:        eval time =     824.45 ms /    26 runs   (   31.71 ms per token,    31.54 tokens per second)\n",
      "llama_print_timings:       total time =    1281.41 ms /    64 tokens\n",
      " 43%|████▎     | 68/157 [03:41<02:13,  1.50s/it]Llama.generate: prefix-match hit\n"
     ]
    },
    {
     "name": "stdout",
     "output_type": "stream",
     "text": [
      "However, geographically Foel y Geifr belongs to the Aran Fawddwy group, its parent peak being Esgeiriau Gwynion.\n",
      "++++++++++++++++++++++++++++++++++++\n",
      "[{'mountain': 'Esgeiriau Gwynion'}]\n",
      "++++++++++++++++++++++++++++++++++++\n",
      "{'triplets': []}\n",
      "====================================\n",
      "{'model1': 'Llama-2-7b-m1ft-q4.gguf', 'model2': 'Llama-2-7b-m2ft-q4.gguf', 'sent': 'However, geographically Foel y Geifr belongs to the Aran Fawddwy group, its parent peak being Esgeiriau Gwynion.', 'triples': []}\n",
      "====================================\n"
     ]
    },
    {
     "name": "stderr",
     "output_type": "stream",
     "text": [
      "\n",
      "llama_print_timings:        load time =    4202.89 ms\n",
      "llama_print_timings:      sample time =       5.73 ms /    34 runs   (    0.17 ms per token,  5931.61 tokens per second)\n",
      "llama_print_timings: prompt eval time =     136.59 ms /    16 tokens (    8.54 ms per token,   117.14 tokens per second)\n",
      "llama_print_timings:        eval time =    1075.77 ms /    34 runs   (   31.64 ms per token,    31.61 tokens per second)\n",
      "llama_print_timings:       total time =    1269.38 ms /    50 tokens\n",
      "Llama.generate: prefix-match hit\n"
     ]
    },
    {
     "name": "stdout",
     "output_type": "stream",
     "text": [
      "The Tennessee River is the largest tributary of the Ohio River.\n",
      "++++++++++++++++++++++++++++++++++++\n",
      "[{'watercourse': 'Tennessee River', 'body_of_water': 'Tennessee River'}]\n",
      "++++++++++++++++++++++++++++++++++++\n"
     ]
    },
    {
     "name": "stderr",
     "output_type": "stream",
     "text": [
      "\n",
      "llama_print_timings:        load time =    4245.28 ms\n",
      "llama_print_timings:      sample time =      47.32 ms /   256 runs   (    0.18 ms per token,  5409.52 tokens per second)\n",
      "llama_print_timings: prompt eval time =    2028.10 ms /   162 tokens (   12.52 ms per token,    79.88 tokens per second)\n",
      "llama_print_timings:        eval time =    7838.38 ms /   255 runs   (   30.74 ms per token,    32.53 tokens per second)\n",
      "llama_print_timings:       total time =   10367.38 ms /   417 tokens\n",
      " 44%|████▍     | 69/157 [03:53<06:40,  4.55s/it]Llama.generate: prefix-match hit\n"
     ]
    },
    {
     "name": "stdout",
     "output_type": "stream",
     "text": [
      "[{'sub': 'Tennessee River', 'rel': 'mouth of the watercourse', 'obj': 'Ohio River'}, {'sub': 'Tennessee River', 'rel': 'origin of the watercourse', 'obj': 'Ohio River'}, {'sub': 'Tennessee River', 'rel': 'origin of the watercourse', 'obj': 'Cumberland River'}, {'sub': 'Tennessee River', 'rel': 'origin of the watercourse', 'obj': 'Cumberland River'}, {'sub': 'Tennessee River', 'rel': 'origin of the watercourse', 'obj': 'Cumberland River'}, {'sub': 'Tennessee River', 'rel': 'origin of the watercourse', 'obj': 'Cumberland River'}, {'sub': 'Tennessee River', 'rel': 'origin of the watercourse', 'obj': 'Cumberland River'}, {'sub': 'Tennessee River', 'rel': 'origin of the watercourse', 'obj': 'Cumberland River'}, {'sub': 'Tennessee River', 'rel': 'origin of the watercourse', 'obj': 'Cumberland River'}, {'sub': 'Tennessee River', 'rel': 'origin of'}]\n",
      "====================================\n",
      "{'model1': 'Llama-2-7b-m1ft-q4.gguf', 'model2': 'Llama-2-7b-m2ft-q4.gguf', 'sent': 'The Tennessee River is the largest tributary of the Ohio River.', 'triples': [{'sub': 'Tennessee River', 'rel': 'mouth of the watercourse', 'obj': 'Ohio River'}, {'sub': 'Tennessee River', 'rel': 'origin of the watercourse', 'obj': 'Ohio River'}, {'sub': 'Tennessee River', 'rel': 'origin of the watercourse', 'obj': 'Cumberland River'}, {'sub': 'Tennessee River', 'rel': 'origin of the watercourse', 'obj': 'Cumberland River'}, {'sub': 'Tennessee River', 'rel': 'origin of the watercourse', 'obj': 'Cumberland River'}, {'sub': 'Tennessee River', 'rel': 'origin of the watercourse', 'obj': 'Cumberland River'}, {'sub': 'Tennessee River', 'rel': 'origin of the watercourse', 'obj': 'Cumberland River'}, {'sub': 'Tennessee River', 'rel': 'origin of the watercourse', 'obj': 'Cumberland River'}, {'sub': 'Tennessee River', 'rel': 'origin of the watercourse', 'obj': 'Cumberland River'}, {'sub': 'Tennessee River', 'rel': 'origin of'}]}\n",
      "====================================\n"
     ]
    },
    {
     "name": "stderr",
     "output_type": "stream",
     "text": [
      "\n",
      "llama_print_timings:        load time =    4202.89 ms\n",
      "llama_print_timings:      sample time =       8.73 ms /    39 runs   (    0.22 ms per token,  4466.84 tokens per second)\n",
      "llama_print_timings: prompt eval time =    2773.58 ms /   103 tokens (   26.93 ms per token,    37.14 tokens per second)\n",
      "llama_print_timings:        eval time =    1252.50 ms /    38 runs   (   32.96 ms per token,    30.34 tokens per second)\n",
      "llama_print_timings:       total time =    4129.80 ms /   141 tokens\n",
      "Llama.generate: prefix-match hit\n"
     ]
    },
    {
     "name": "stdout",
     "output_type": "stream",
     "text": [
      "The 14,048-foot (4,282Â m) fourteener is located on the Sierra Blanca Massif, 9.9 miles (16.0Â km) north by east (bearing 7Â°) of the Town of Blanca, Colorado, United States, on the drainage divide separating in Rio Grande National Forest and Alamosa County from San Isabel National Forest and Huerfano County.\n",
      "++++++++++++++++++++++++++++++++++++\n",
      "[{'mountain': 'Mt. Eolus', 'mountain_range': 'Sierra Blanca massif'}]\n",
      "++++++++++++++++++++++++++++++++++++\n"
     ]
    },
    {
     "name": "stderr",
     "output_type": "stream",
     "text": [
      "\n",
      "llama_print_timings:        load time =    4245.28 ms\n",
      "llama_print_timings:      sample time =       7.06 ms /    33 runs   (    0.21 ms per token,  4671.57 tokens per second)\n",
      "llama_print_timings: prompt eval time =    3531.32 ms /   254 tokens (   13.90 ms per token,    71.93 tokens per second)\n",
      "llama_print_timings:        eval time =     990.76 ms /    32 runs   (   30.96 ms per token,    32.30 tokens per second)\n",
      "llama_print_timings:       total time =    4623.39 ms /   286 tokens\n",
      " 45%|████▍     | 70/157 [04:02<08:25,  5.82s/it]Llama.generate: prefix-match hit\n"
     ]
    },
    {
     "name": "stdout",
     "output_type": "stream",
     "text": [
      "[{'sub': 'Mt. Eolus', 'rel': 'mountain range', 'obj': 'Sierra Blanca massif'}]\n",
      "====================================\n",
      "{'model1': 'Llama-2-7b-m1ft-q4.gguf', 'model2': 'Llama-2-7b-m2ft-q4.gguf', 'sent': 'The 14,048-foot (4,282Â\\xa0m) fourteener is located on the Sierra Blanca Massif, 9.9 miles (16.0Â\\xa0km) north by east (bearing 7Â°) of the Town of Blanca, Colorado, United States, on the drainage divide separating in Rio Grande National Forest and Alamosa County from San Isabel National Forest and Huerfano County.', 'triples': [{'sub': 'Mt. Eolus', 'rel': 'mountain range', 'obj': 'Sierra Blanca massif'}]}\n",
      "====================================\n"
     ]
    },
    {
     "name": "stderr",
     "output_type": "stream",
     "text": [
      "\n",
      "llama_print_timings:        load time =    4202.89 ms\n",
      "llama_print_timings:      sample time =       6.11 ms /    34 runs   (    0.18 ms per token,  5562.83 tokens per second)\n",
      "llama_print_timings: prompt eval time =    1844.80 ms /    40 tokens (   46.12 ms per token,    21.68 tokens per second)\n",
      "llama_print_timings:        eval time =    1055.86 ms /    33 runs   (   32.00 ms per token,    31.25 tokens per second)\n",
      "llama_print_timings:       total time =    2965.71 ms /    73 tokens\n",
      "Llama.generate: prefix-match hit\n"
     ]
    },
    {
     "name": "stdout",
     "output_type": "stream",
     "text": [
      "The superfamily Papilionoidea (from the genus Papilio, meaning \"butterfly\") contains all the butterflies except for the moth-like Hedyloidea.\n",
      "++++++++++++++++++++++++++++++++++++\n",
      "[{'taxon': 'Papilionoidea', 'synonym': 'Hedyloidea'}]\n",
      "++++++++++++++++++++++++++++++++++++\n"
     ]
    },
    {
     "name": "stderr",
     "output_type": "stream",
     "text": [
      "\n",
      "llama_print_timings:        load time =    4245.28 ms\n",
      "llama_print_timings:      sample time =       8.58 ms /    31 runs   (    0.28 ms per token,  3614.74 tokens per second)\n",
      "llama_print_timings: prompt eval time =    2394.48 ms /   186 tokens (   12.87 ms per token,    77.68 tokens per second)\n",
      "llama_print_timings:        eval time =     902.15 ms /    30 runs   (   30.07 ms per token,    33.25 tokens per second)\n",
      "llama_print_timings:       total time =    3409.39 ms /   216 tokens\n",
      " 45%|████▌     | 71/157 [04:08<08:35,  5.99s/it]Llama.generate: prefix-match hit\n"
     ]
    },
    {
     "name": "stdout",
     "output_type": "stream",
     "text": [
      "[{'sub': 'Papilionoidea', 'rel': 'taxon synonym', 'obj': 'Hedyloidea'}]\n",
      "====================================\n",
      "{'model1': 'Llama-2-7b-m1ft-q4.gguf', 'model2': 'Llama-2-7b-m2ft-q4.gguf', 'sent': 'The superfamily Papilionoidea (from the genus Papilio, meaning \"butterfly\") contains all the butterflies except for the moth-like Hedyloidea.', 'triples': [{'sub': 'Papilionoidea', 'rel': 'taxon synonym', 'obj': 'Hedyloidea'}]}\n",
      "====================================\n"
     ]
    },
    {
     "name": "stderr",
     "output_type": "stream",
     "text": [
      "\n",
      "llama_print_timings:        load time =    4202.89 ms\n",
      "llama_print_timings:      sample time =       8.95 ms /    35 runs   (    0.26 ms per token,  3909.30 tokens per second)\n",
      "llama_print_timings: prompt eval time =    1335.88 ms /    21 tokens (   63.61 ms per token,    15.72 tokens per second)\n",
      "llama_print_timings:        eval time =    1096.39 ms /    34 runs   (   32.25 ms per token,    31.01 tokens per second)\n",
      "llama_print_timings:       total time =    2529.05 ms /    55 tokens\n",
      "Llama.generate: prefix-match hit\n"
     ]
    },
    {
     "name": "stdout",
     "output_type": "stream",
     "text": [
      "Lac du Chevril flooded the town of Tignes which was relocated nearby.\n",
      "++++++++++++++++++++++++++++++++++++\n",
      "[{'body_of_water': 'Lac du Chevril', 'town': 'Tignes'}]\n",
      "++++++++++++++++++++++++++++++++++++\n"
     ]
    },
    {
     "name": "stderr",
     "output_type": "stream",
     "text": [
      "\n",
      "llama_print_timings:        load time =    4245.28 ms\n",
      "llama_print_timings:      sample time =      47.58 ms /   256 runs   (    0.19 ms per token,  5380.19 tokens per second)\n",
      "llama_print_timings: prompt eval time =    1955.64 ms /   167 tokens (   11.71 ms per token,    85.39 tokens per second)\n",
      "llama_print_timings:        eval time =    7737.32 ms /   255 runs   (   30.34 ms per token,    32.96 tokens per second)\n",
      "llama_print_timings:       total time =   10206.52 ms /   422 tokens\n",
      " 46%|████▌     | 72/157 [04:21<11:21,  8.02s/it]Llama.generate: prefix-match hit\n"
     ]
    },
    {
     "name": "stdout",
     "output_type": "stream",
     "text": [
      "[{'sub': 'Lac du Chevril', 'rel': 'origin of the watercourse', 'obj': 'Tignes'}, {'sub': 'Lac du Chevril', 'rel': 'mouth of the watercourse', 'obj': 'Vallée de Tignes'}, {'sub': 'Lac du Chevril', 'rel': 'mouth of the watercourse', 'obj': 'Vallée de Tignes'}, {'sub': 'Lac du Chevril', 'rel': 'mouth of the watercourse', 'obj': 'Vallée de Tignes'}, {'sub': 'Lac du Chevril', 'rel': 'mouth of the watercourse', 'obj': 'Vallée de Tignes'}, {'sub': 'Lac du Chevril', 'rel': 'mouth of the watercourse', 'obj': 'Vallée de Tignes'}, {'sub': 'Lac du Chevril', 'rel': 'mouth of the watercourse', 'obj': 'Vallée de Tignes'}]\n",
      "====================================\n",
      "{'model1': 'Llama-2-7b-m1ft-q4.gguf', 'model2': 'Llama-2-7b-m2ft-q4.gguf', 'sent': 'Lac du Chevril flooded the town of Tignes which was relocated nearby.', 'triples': [{'sub': 'Lac du Chevril', 'rel': 'origin of the watercourse', 'obj': 'Tignes'}, {'sub': 'Lac du Chevril', 'rel': 'mouth of the watercourse', 'obj': 'Vallée de Tignes'}, {'sub': 'Lac du Chevril', 'rel': 'mouth of the watercourse', 'obj': 'Vallée de Tignes'}, {'sub': 'Lac du Chevril', 'rel': 'mouth of the watercourse', 'obj': 'Vallée de Tignes'}, {'sub': 'Lac du Chevril', 'rel': 'mouth of the watercourse', 'obj': 'Vallée de Tignes'}, {'sub': 'Lac du Chevril', 'rel': 'mouth of the watercourse', 'obj': 'Vallée de Tignes'}, {'sub': 'Lac du Chevril', 'rel': 'mouth of the watercourse', 'obj': 'Vallée de Tignes'}]}\n",
      "====================================\n"
     ]
    },
    {
     "name": "stderr",
     "output_type": "stream",
     "text": [
      "\n",
      "llama_print_timings:        load time =    4202.89 ms\n",
      "llama_print_timings:      sample time =       6.41 ms /    38 runs   (    0.17 ms per token,  5924.54 tokens per second)\n",
      "llama_print_timings: prompt eval time =    1815.68 ms /    48 tokens (   37.83 ms per token,    26.44 tokens per second)\n",
      "llama_print_timings:        eval time =    1180.28 ms /    37 runs   (   31.90 ms per token,    31.35 tokens per second)\n",
      "llama_print_timings:       total time =    3067.50 ms /    85 tokens\n",
      "Llama.generate: prefix-match hit\n"
     ]
    },
    {
     "name": "stdout",
     "output_type": "stream",
     "text": [
      "The cobbler wobbegong, Sutorectus tentaculatus, is a carpet shark in the family Orectolobidae, the only member of the genus Sutorectus.\n",
      "++++++++++++++++++++++++++++++++++++\n",
      "[{'taxon': 'Wobbegong', 'synonym': 'Sutorectus tentaculatus'}]\n",
      "++++++++++++++++++++++++++++++++++++\n"
     ]
    },
    {
     "name": "stderr",
     "output_type": "stream",
     "text": [
      "\n",
      "llama_print_timings:        load time =    4245.28 ms\n",
      "llama_print_timings:      sample time =       8.16 ms /    35 runs   (    0.23 ms per token,  4288.69 tokens per second)\n",
      "llama_print_timings: prompt eval time =    2776.07 ms /   197 tokens (   14.09 ms per token,    70.96 tokens per second)\n",
      "llama_print_timings:        eval time =    1035.04 ms /    34 runs   (   30.44 ms per token,    32.85 tokens per second)\n",
      "llama_print_timings:       total time =    3921.58 ms /   231 tokens\n",
      " 46%|████▋     | 73/157 [04:28<10:48,  7.72s/it]Llama.generate: prefix-match hit\n"
     ]
    },
    {
     "name": "stdout",
     "output_type": "stream",
     "text": [
      "[{'sub': 'Wobbegong', 'rel': 'taxon synonym', 'obj': 'Sutorectus tentaculatus'}]\n",
      "====================================\n",
      "{'model1': 'Llama-2-7b-m1ft-q4.gguf', 'model2': 'Llama-2-7b-m2ft-q4.gguf', 'sent': 'The cobbler wobbegong, Sutorectus tentaculatus, is a carpet shark in the family Orectolobidae, the only member of the genus Sutorectus.', 'triples': [{'sub': 'Wobbegong', 'rel': 'taxon synonym', 'obj': 'Sutorectus tentaculatus'}]}\n",
      "====================================\n"
     ]
    },
    {
     "name": "stderr",
     "output_type": "stream",
     "text": [
      "\n",
      "llama_print_timings:        load time =    4202.89 ms\n",
      "llama_print_timings:      sample time =       2.34 ms /    13 runs   (    0.18 ms per token,  5565.07 tokens per second)\n",
      "llama_print_timings: prompt eval time =    1175.77 ms /    19 tokens (   61.88 ms per token,    16.16 tokens per second)\n",
      "llama_print_timings:        eval time =     387.01 ms /    12 runs   (   32.25 ms per token,    31.01 tokens per second)\n",
      "llama_print_timings:       total time =    1591.92 ms /    31 tokens\n",
      " 47%|████▋     | 74/157 [04:29<08:08,  5.88s/it]Llama.generate: prefix-match hit\n"
     ]
    },
    {
     "name": "stdout",
     "output_type": "stream",
     "text": [
      "The race was won by Attilio Moresi of the Carpano team.\n",
      "++++++++++++++++++++++++++++++++++++\n",
      "[{}]\n",
      "++++++++++++++++++++++++++++++++++++\n",
      "{'triplets': []}\n",
      "====================================\n",
      "{'model1': 'Llama-2-7b-m1ft-q4.gguf', 'model2': 'Llama-2-7b-m2ft-q4.gguf', 'sent': 'The race was won by Attilio Moresi of the Carpano team.', 'triples': []}\n",
      "====================================\n"
     ]
    },
    {
     "name": "stderr",
     "output_type": "stream",
     "text": [
      "\n",
      "llama_print_timings:        load time =    4202.89 ms\n",
      "llama_print_timings:      sample time =       5.82 ms /    32 runs   (    0.18 ms per token,  5496.39 tokens per second)\n",
      "llama_print_timings: prompt eval time =     269.14 ms /    19 tokens (   14.17 ms per token,    70.59 tokens per second)\n",
      "llama_print_timings:        eval time =     986.19 ms /    31 runs   (   31.81 ms per token,    31.43 tokens per second)\n",
      "llama_print_timings:       total time =    1315.25 ms /    50 tokens\n",
      "Llama.generate: prefix-match hit\n"
     ]
    },
    {
     "name": "stdout",
     "output_type": "stream",
     "text": [
      "Shadow Mountain Lake is connected by a short channel to the natural Grand Lake.\n",
      "++++++++++++++++++++++++++++++++++++\n",
      "[{'dam': 'Shadow Mountain Dam', 'reservoir': 'Grand Lake'}]\n",
      "++++++++++++++++++++++++++++++++++++\n"
     ]
    },
    {
     "name": "stderr",
     "output_type": "stream",
     "text": [
      "\n",
      "llama_print_timings:        load time =    4245.28 ms\n",
      "llama_print_timings:      sample time =       5.51 ms /    29 runs   (    0.19 ms per token,  5266.03 tokens per second)\n",
      "llama_print_timings: prompt eval time =    1649.13 ms /   162 tokens (   10.18 ms per token,    98.23 tokens per second)\n",
      "llama_print_timings:        eval time =     833.75 ms /    28 runs   (   29.78 ms per token,    33.58 tokens per second)\n",
      "llama_print_timings:       total time =    2551.21 ms /   190 tokens\n",
      " 48%|████▊     | 75/157 [04:33<07:13,  5.28s/it]Llama.generate: prefix-match hit\n"
     ]
    },
    {
     "name": "stdout",
     "output_type": "stream",
     "text": [
      "[{'sub': 'Shadow Mountain Dam', 'rel': 'reservoir created', 'obj': 'Grand Lake'}]\n",
      "====================================\n",
      "{'model1': 'Llama-2-7b-m1ft-q4.gguf', 'model2': 'Llama-2-7b-m2ft-q4.gguf', 'sent': 'Shadow Mountain Lake is connected by a short channel to the natural Grand Lake.', 'triples': [{'sub': 'Shadow Mountain Dam', 'rel': 'reservoir created', 'obj': 'Grand Lake'}]}\n",
      "====================================\n"
     ]
    },
    {
     "name": "stderr",
     "output_type": "stream",
     "text": [
      "\n",
      "llama_print_timings:        load time =    4202.89 ms\n",
      "llama_print_timings:      sample time =       5.04 ms /    24 runs   (    0.21 ms per token,  4764.74 tokens per second)\n",
      "llama_print_timings: prompt eval time =     751.48 ms /    20 tokens (   37.57 ms per token,    26.61 tokens per second)\n",
      "llama_print_timings:        eval time =     756.23 ms /    23 runs   (   32.88 ms per token,    30.41 tokens per second)\n",
      "llama_print_timings:       total time =    1582.50 ms /    43 tokens\n",
      " 48%|████▊     | 76/157 [04:35<05:38,  4.18s/it]Llama.generate: prefix-match hit\n"
     ]
    },
    {
     "name": "stdout",
     "output_type": "stream",
     "text": [
      "Henrica is a genus of fungi in the family Verrucariaceae.\n",
      "++++++++++++++++++++++++++++++++++++\n",
      "[{'taxon': 'Verrucariaceae'}]\n",
      "++++++++++++++++++++++++++++++++++++\n",
      "{'triplets': []}\n",
      "====================================\n",
      "{'model1': 'Llama-2-7b-m1ft-q4.gguf', 'model2': 'Llama-2-7b-m2ft-q4.gguf', 'sent': 'Henrica is a genus of fungi in the family Verrucariaceae.', 'triples': []}\n",
      "====================================\n"
     ]
    },
    {
     "name": "stderr",
     "output_type": "stream",
     "text": [
      "\n",
      "llama_print_timings:        load time =    4202.89 ms\n",
      "llama_print_timings:      sample time =       7.91 ms /    39 runs   (    0.20 ms per token,  4931.71 tokens per second)\n",
      "llama_print_timings: prompt eval time =     412.83 ms /    46 tokens (    8.97 ms per token,   111.43 tokens per second)\n",
      "llama_print_timings:        eval time =    1227.90 ms /    38 runs   (   32.31 ms per token,    30.95 tokens per second)\n",
      "llama_print_timings:       total time =    1725.27 ms /    84 tokens\n",
      "Llama.generate: prefix-match hit\n"
     ]
    },
    {
     "name": "stdout",
     "output_type": "stream",
     "text": [
      "The damages from the flood in Cerro Gordo county reached an estimated $3 million, while the total damage along the Cedar River and Iowa River basin reached over $495 million.\n",
      "++++++++++++++++++++++++++++++++++++\n",
      "[{'dam': 'Cedar Rapids Dam', 'damage': '$3,000,000'}]\n",
      "++++++++++++++++++++++++++++++++++++\n"
     ]
    },
    {
     "name": "stderr",
     "output_type": "stream",
     "text": [
      "\n",
      "llama_print_timings:        load time =    4245.28 ms\n",
      "llama_print_timings:      sample time =       7.62 ms /    35 runs   (    0.22 ms per token,  4591.97 tokens per second)\n",
      "llama_print_timings: prompt eval time =    2185.09 ms /   192 tokens (   11.38 ms per token,    87.87 tokens per second)\n",
      "llama_print_timings:        eval time =    1044.18 ms /    35 runs   (   29.83 ms per token,    33.52 tokens per second)\n",
      "llama_print_timings:       total time =    3329.63 ms /   227 tokens\n",
      " 49%|████▉     | 77/157 [04:40<05:55,  4.45s/it]Llama.generate: prefix-match hit\n"
     ]
    },
    {
     "name": "stdout",
     "output_type": "stream",
     "text": [
      "[{'sub': 'Cedar Rapids Dam', 'rel': 'damage', 'obj': '$3,000,000'}]\n",
      "====================================\n",
      "{'model1': 'Llama-2-7b-m1ft-q4.gguf', 'model2': 'Llama-2-7b-m2ft-q4.gguf', 'sent': 'The damages from the flood in Cerro Gordo county reached an estimated $3 million, while the total damage along the Cedar River and Iowa River basin reached over $495 million.', 'triples': [{'sub': 'Cedar Rapids Dam', 'rel': 'damage', 'obj': '$3,000,000'}]}\n",
      "====================================\n"
     ]
    },
    {
     "name": "stderr",
     "output_type": "stream",
     "text": [
      "\n",
      "llama_print_timings:        load time =    4202.89 ms\n",
      "llama_print_timings:      sample time =       7.65 ms /    33 runs   (    0.23 ms per token,  4313.73 tokens per second)\n",
      "llama_print_timings: prompt eval time =    1040.02 ms /    46 tokens (   22.61 ms per token,    44.23 tokens per second)\n",
      "llama_print_timings:        eval time =    1038.35 ms /    32 runs   (   32.45 ms per token,    30.82 tokens per second)\n",
      "llama_print_timings:       total time =    2170.87 ms /    78 tokens\n",
      "Llama.generate: prefix-match hit\n"
     ]
    },
    {
     "name": "stdout",
     "output_type": "stream",
     "text": [
      "The dam creates Lago di Vogorno 2Â km (1.2Â mi) upstream of Lake Maggiore and supports the 105 MW Verzasca hydroelectric power station.\n",
      "++++++++++++++++++++++++++++++++++++\n",
      "[{'dam': 'Vogorno Dam', 'reservoir': 'Lake Vogorno'}]\n",
      "++++++++++++++++++++++++++++++++++++\n"
     ]
    },
    {
     "name": "stderr",
     "output_type": "stream",
     "text": [
      "\n",
      "llama_print_timings:        load time =    4245.28 ms\n",
      "llama_print_timings:      sample time =       6.83 ms /    30 runs   (    0.23 ms per token,  4389.17 tokens per second)\n",
      "llama_print_timings: prompt eval time =    1725.95 ms /   189 tokens (    9.13 ms per token,   109.50 tokens per second)\n",
      "llama_print_timings:        eval time =     872.51 ms /    29 runs   (   30.09 ms per token,    33.24 tokens per second)\n",
      "llama_print_timings:       total time =    2689.56 ms /   218 tokens\n",
      " 50%|████▉     | 78/157 [04:45<06:01,  4.58s/it]Llama.generate: prefix-match hit\n"
     ]
    },
    {
     "name": "stdout",
     "output_type": "stream",
     "text": [
      "[{'sub': 'Vogorno Dam', 'rel': 'reservoir created', 'obj': 'Lake Vogorno'}]\n",
      "====================================\n",
      "{'model1': 'Llama-2-7b-m1ft-q4.gguf', 'model2': 'Llama-2-7b-m2ft-q4.gguf', 'sent': 'The dam creates Lago di Vogorno 2Â\\xa0km (1.2Â\\xa0mi) upstream of Lake Maggiore and supports the 105 MW Verzasca hydroelectric power station.', 'triples': [{'sub': 'Vogorno Dam', 'rel': 'reservoir created', 'obj': 'Lake Vogorno'}]}\n",
      "====================================\n"
     ]
    },
    {
     "name": "stderr",
     "output_type": "stream",
     "text": [
      "\n",
      "llama_print_timings:        load time =    4202.89 ms\n",
      "llama_print_timings:      sample time =       4.77 ms /    26 runs   (    0.18 ms per token,  5446.17 tokens per second)\n",
      "llama_print_timings: prompt eval time =    1240.43 ms /    69 tokens (   17.98 ms per token,    55.63 tokens per second)\n",
      "llama_print_timings:        eval time =     803.07 ms /    25 runs   (   32.12 ms per token,    31.13 tokens per second)\n",
      "llama_print_timings:       total time =    2102.24 ms /    94 tokens\n",
      " 50%|█████     | 79/157 [04:47<04:59,  3.84s/it]Llama.generate: prefix-match hit\n"
     ]
    },
    {
     "name": "stdout",
     "output_type": "stream",
     "text": [
      "Cress (Lepidium sativum), sometimes referred to as garden cress (or curly cress) to distinguish it from similar plants also referred to as cress (from old Germanic cresso which means sharp, spicy), is a rather fast-growing, edible herb.\n",
      "++++++++++++++++++++++++++++++++++++\n",
      "[{'taxon': 'Lepidium sativum'}]\n",
      "++++++++++++++++++++++++++++++++++++\n",
      "{'triplets': []}\n",
      "====================================\n",
      "{'model1': 'Llama-2-7b-m1ft-q4.gguf', 'model2': 'Llama-2-7b-m2ft-q4.gguf', 'sent': 'Cress (Lepidium sativum), sometimes referred to as garden cress (or curly cress) to distinguish it from similar plants also referred to as cress (from old Germanic cresso which means sharp, spicy), is a rather fast-growing, edible herb.', 'triples': []}\n",
      "====================================\n"
     ]
    },
    {
     "name": "stderr",
     "output_type": "stream",
     "text": [
      "\n",
      "llama_print_timings:        load time =    4202.89 ms\n",
      "llama_print_timings:      sample time =       2.53 ms /    13 runs   (    0.19 ms per token,  5132.25 tokens per second)\n",
      "llama_print_timings: prompt eval time =     271.36 ms /    19 tokens (   14.28 ms per token,    70.02 tokens per second)\n",
      "llama_print_timings:        eval time =     381.99 ms /    12 runs   (   31.83 ms per token,    31.41 tokens per second)\n",
      "llama_print_timings:       total time =     681.93 ms /    31 tokens\n",
      " 51%|█████     | 80/157 [04:48<03:42,  2.89s/it]Llama.generate: prefix-match hit\n"
     ]
    },
    {
     "name": "stdout",
     "output_type": "stream",
     "text": [
      "The race was won by Rolf Maurer of the Cynar team.\n",
      "++++++++++++++++++++++++++++++++++++\n",
      "[{}]\n",
      "++++++++++++++++++++++++++++++++++++\n",
      "{'triplets': []}\n",
      "====================================\n",
      "{'model1': 'Llama-2-7b-m1ft-q4.gguf', 'model2': 'Llama-2-7b-m2ft-q4.gguf', 'sent': 'The race was won by Rolf Maurer of the Cynar team.', 'triples': []}\n",
      "====================================\n"
     ]
    },
    {
     "name": "stderr",
     "output_type": "stream",
     "text": [
      "\n",
      "llama_print_timings:        load time =    4202.89 ms\n",
      "llama_print_timings:      sample time =       2.41 ms /    13 runs   (    0.19 ms per token,  5400.91 tokens per second)\n",
      "llama_print_timings: prompt eval time =     282.14 ms /    29 tokens (    9.73 ms per token,   102.79 tokens per second)\n",
      "llama_print_timings:        eval time =     406.87 ms /    12 runs   (   33.91 ms per token,    29.49 tokens per second)\n",
      "llama_print_timings:       total time =     717.14 ms /    41 tokens\n",
      " 52%|█████▏    | 81/157 [04:48<02:50,  2.24s/it]Llama.generate: prefix-match hit\n"
     ]
    },
    {
     "name": "stdout",
     "output_type": "stream",
     "text": [
      "2015 Ladies Tour of Norway was won by Megan Guarnier of Boels-Dolmans.\n",
      "++++++++++++++++++++++++++++++++++++\n",
      "[{}]\n",
      "++++++++++++++++++++++++++++++++++++\n",
      "{'triplets': []}\n",
      "====================================\n",
      "{'model1': 'Llama-2-7b-m1ft-q4.gguf', 'model2': 'Llama-2-7b-m2ft-q4.gguf', 'sent': '2015 Ladies Tour of Norway was won by Megan Guarnier of Boels-Dolmans.', 'triples': []}\n",
      "====================================\n"
     ]
    },
    {
     "name": "stderr",
     "output_type": "stream",
     "text": [
      "\n",
      "llama_print_timings:        load time =    4202.89 ms\n",
      "llama_print_timings:      sample time =       8.04 ms /    37 runs   (    0.22 ms per token,  4602.56 tokens per second)\n",
      "llama_print_timings: prompt eval time =     282.19 ms /    30 tokens (    9.41 ms per token,   106.31 tokens per second)\n",
      "llama_print_timings:        eval time =    1161.88 ms /    36 runs   (   32.27 ms per token,    30.98 tokens per second)\n",
      "llama_print_timings:       total time =    1527.30 ms /    66 tokens\n",
      "Llama.generate: prefix-match hit\n"
     ]
    },
    {
     "name": "stdout",
     "output_type": "stream",
     "text": [
      "Polygonum pensylvanicum) is a species of flowering plant in the buckwheat family, Polygonaceae.\n",
      "++++++++++++++++++++++++++++++++++++\n",
      "[{'taxon': 'Polygonum pensylvanicum', 'synonym': 'Polygonum pensylvanicum'}]\n",
      "++++++++++++++++++++++++++++++++++++\n"
     ]
    },
    {
     "name": "stderr",
     "output_type": "stream",
     "text": [
      "\n",
      "llama_print_timings:        load time =    4245.28 ms\n",
      "llama_print_timings:      sample time =       5.81 ms /    34 runs   (    0.17 ms per token,  5847.95 tokens per second)\n",
      "llama_print_timings: prompt eval time =    2130.35 ms /   178 tokens (   11.97 ms per token,    83.55 tokens per second)\n",
      "llama_print_timings:        eval time =     977.34 ms /    33 runs   (   29.62 ms per token,    33.77 tokens per second)\n",
      "llama_print_timings:       total time =    3184.68 ms /   211 tokens\n",
      " 52%|█████▏    | 82/157 [04:53<03:44,  2.99s/it]Llama.generate: prefix-match hit\n"
     ]
    },
    {
     "name": "stdout",
     "output_type": "stream",
     "text": [
      "[{'sub': 'Polygonum pensylvanicum', 'rel': 'taxon synonym', 'obj': 'Polygonum pensylvanicum'}]\n",
      "====================================\n",
      "{'model1': 'Llama-2-7b-m1ft-q4.gguf', 'model2': 'Llama-2-7b-m2ft-q4.gguf', 'sent': 'Polygonum pensylvanicum) is a species of flowering plant in the buckwheat family, Polygonaceae.', 'triples': [{'sub': 'Polygonum pensylvanicum', 'rel': 'taxon synonym', 'obj': 'Polygonum pensylvanicum'}]}\n",
      "====================================\n"
     ]
    },
    {
     "name": "stderr",
     "output_type": "stream",
     "text": [
      "\n",
      "llama_print_timings:        load time =    4202.89 ms\n",
      "llama_print_timings:      sample time =       6.03 ms /    35 runs   (    0.17 ms per token,  5809.13 tokens per second)\n",
      "llama_print_timings: prompt eval time =     692.30 ms /    59 tokens (   11.73 ms per token,    85.22 tokens per second)\n",
      "llama_print_timings:        eval time =    1093.05 ms /    34 runs   (   32.15 ms per token,    31.11 tokens per second)\n",
      "llama_print_timings:       total time =    1853.16 ms /    93 tokens\n",
      "Llama.generate: prefix-match hit\n"
     ]
    },
    {
     "name": "stdout",
     "output_type": "stream",
     "text": [
      "Mount Bowles is an ice-covered mountain 822 metres (2,697Â ft) high, the summit of Bowles Ridge in the central part of eastern Livingston Island in the South Shetland Islands, Antarctica.\n",
      "++++++++++++++++++++++++++++++++++++\n",
      "[{'mountain': 'Mount Bowles', 'mountain_range': 'Bowles Ridge'}]\n",
      "++++++++++++++++++++++++++++++++++++\n"
     ]
    },
    {
     "name": "stderr",
     "output_type": "stream",
     "text": [
      "\n",
      "llama_print_timings:        load time =    4245.28 ms\n",
      "llama_print_timings:      sample time =       5.01 ms /    29 runs   (    0.17 ms per token,  5787.27 tokens per second)\n",
      "llama_print_timings: prompt eval time =    1863.59 ms /   205 tokens (    9.09 ms per token,   110.00 tokens per second)\n",
      "llama_print_timings:        eval time =     834.39 ms /    28 runs   (   29.80 ms per token,    33.56 tokens per second)\n",
      "llama_print_timings:       total time =    2771.77 ms /   233 tokens\n",
      " 53%|█████▎    | 83/157 [04:58<04:17,  3.48s/it]Llama.generate: prefix-match hit\n"
     ]
    },
    {
     "name": "stdout",
     "output_type": "stream",
     "text": [
      "[{'sub': 'Mount Bowles', 'rel': 'mountain range', 'obj': 'Bowles Ridge'}]\n",
      "====================================\n",
      "{'model1': 'Llama-2-7b-m1ft-q4.gguf', 'model2': 'Llama-2-7b-m2ft-q4.gguf', 'sent': 'Mount Bowles is an ice-covered mountain 822 metres (2,697Â\\xa0ft) high, the summit of Bowles Ridge in the central part of eastern Livingston Island in the South Shetland Islands, Antarctica.', 'triples': [{'sub': 'Mount Bowles', 'rel': 'mountain range', 'obj': 'Bowles Ridge'}]}\n",
      "====================================\n"
     ]
    },
    {
     "name": "stderr",
     "output_type": "stream",
     "text": [
      "\n",
      "llama_print_timings:        load time =    4202.89 ms\n",
      "llama_print_timings:      sample time =       4.08 ms /    24 runs   (    0.17 ms per token,  5875.15 tokens per second)\n",
      "llama_print_timings: prompt eval time =     410.97 ms /    27 tokens (   15.22 ms per token,    65.70 tokens per second)\n",
      "llama_print_timings:        eval time =     731.17 ms /    23 runs   (   31.79 ms per token,    31.46 tokens per second)\n",
      "llama_print_timings:       total time =    1186.56 ms /    50 tokens\n",
      " 54%|█████▎    | 84/157 [04:59<03:24,  2.80s/it]Llama.generate: prefix-match hit\n"
     ]
    },
    {
     "name": "stdout",
     "output_type": "stream",
     "text": [
      "Mont Durand is located west of the Ober Gabelhorn between the valleys of Zinal and Zmutt.\n",
      "++++++++++++++++++++++++++++++++++++\n",
      "[{'mountain': 'Ober Gabelhorn'}]\n",
      "++++++++++++++++++++++++++++++++++++\n",
      "{'triplets': []}\n",
      "====================================\n",
      "{'model1': 'Llama-2-7b-m1ft-q4.gguf', 'model2': 'Llama-2-7b-m2ft-q4.gguf', 'sent': 'Mont Durand is located west of the Ober Gabelhorn between the valleys of Zinal and Zmutt.', 'triples': []}\n",
      "====================================\n"
     ]
    },
    {
     "name": "stderr",
     "output_type": "stream",
     "text": [
      "\n",
      "llama_print_timings:        load time =    4202.89 ms\n",
      "llama_print_timings:      sample time =       6.39 ms /    33 runs   (    0.19 ms per token,  5167.55 tokens per second)\n",
      "llama_print_timings: prompt eval time =     276.79 ms /    30 tokens (    9.23 ms per token,   108.38 tokens per second)\n",
      "llama_print_timings:        eval time =    1018.80 ms /    32 runs   (   31.84 ms per token,    31.41 tokens per second)\n",
      "llama_print_timings:       total time =    1361.22 ms /    62 tokens\n",
      "Llama.generate: prefix-match hit\n"
     ]
    },
    {
     "name": "stdout",
     "output_type": "stream",
     "text": [
      "Green Peter Reservoir, created by the dam, is a popular area for fishing, boating, and other water sports.\n",
      "++++++++++++++++++++++++++++++++++++\n",
      "[{'dam': 'Green Peter Dam', 'reservoir': 'Green Peter Reservoir'}]\n",
      "++++++++++++++++++++++++++++++++++++\n"
     ]
    },
    {
     "name": "stderr",
     "output_type": "stream",
     "text": [
      "\n",
      "llama_print_timings:        load time =    4245.28 ms\n",
      "llama_print_timings:      sample time =       5.19 ms /    30 runs   (    0.17 ms per token,  5779.23 tokens per second)\n",
      "llama_print_timings: prompt eval time =    1593.25 ms /   174 tokens (    9.16 ms per token,   109.21 tokens per second)\n",
      "llama_print_timings:        eval time =     856.52 ms /    29 runs   (   29.54 ms per token,    33.86 tokens per second)\n",
      "llama_print_timings:       total time =    2513.80 ms /   203 tokens\n",
      " 54%|█████▍    | 85/157 [05:03<03:44,  3.12s/it]Llama.generate: prefix-match hit\n"
     ]
    },
    {
     "name": "stdout",
     "output_type": "stream",
     "text": [
      "[{'sub': 'Green Peter Dam', 'rel': 'reservoir created', 'obj': 'Green Peter Reservoir'}]\n",
      "====================================\n",
      "{'model1': 'Llama-2-7b-m1ft-q4.gguf', 'model2': 'Llama-2-7b-m2ft-q4.gguf', 'sent': 'Green Peter Reservoir, created by the dam, is a popular area for fishing, boating, and other water sports.', 'triples': [{'sub': 'Green Peter Dam', 'rel': 'reservoir created', 'obj': 'Green Peter Reservoir'}]}\n",
      "====================================\n"
     ]
    },
    {
     "name": "stderr",
     "output_type": "stream",
     "text": [
      "\n",
      "llama_print_timings:        load time =    4202.89 ms\n",
      "llama_print_timings:      sample time =       4.90 ms /    23 runs   (    0.21 ms per token,  4692.92 tokens per second)\n",
      "llama_print_timings: prompt eval time =     531.95 ms /    38 tokens (   14.00 ms per token,    71.43 tokens per second)\n",
      "llama_print_timings:        eval time =     701.99 ms /    22 runs   (   31.91 ms per token,    31.34 tokens per second)\n",
      "llama_print_timings:       total time =    1286.52 ms /    60 tokens\n",
      " 55%|█████▍    | 86/157 [05:04<03:02,  2.57s/it]Llama.generate: prefix-match hit\n"
     ]
    },
    {
     "name": "stdout",
     "output_type": "stream",
     "text": [
      "The white-browed purpletuft (Iodopleura isabellae) is a small South American species of bird in the family Tityridae.\n",
      "++++++++++++++++++++++++++++++++++++\n",
      "[{'taxon': 'Iodopleura'}]\n",
      "++++++++++++++++++++++++++++++++++++\n",
      "{'triplets': []}\n",
      "====================================\n",
      "{'model1': 'Llama-2-7b-m1ft-q4.gguf', 'model2': 'Llama-2-7b-m2ft-q4.gguf', 'sent': 'The white-browed purpletuft (Iodopleura isabellae) is a small South American species of bird in the family Tityridae.', 'triples': []}\n",
      "====================================\n"
     ]
    },
    {
     "name": "stderr",
     "output_type": "stream",
     "text": [
      "\n",
      "llama_print_timings:        load time =    4202.89 ms\n",
      "llama_print_timings:      sample time =       6.67 ms /    36 runs   (    0.19 ms per token,  5394.87 tokens per second)\n",
      "llama_print_timings: prompt eval time =     273.35 ms /    30 tokens (    9.11 ms per token,   109.75 tokens per second)\n",
      "llama_print_timings:        eval time =    1123.49 ms /    35 runs   (   32.10 ms per token,    31.15 tokens per second)\n",
      "llama_print_timings:       total time =    1469.70 ms /    65 tokens\n",
      "Llama.generate: prefix-match hit\n"
     ]
    },
    {
     "name": "stdout",
     "output_type": "stream",
     "text": [
      "The upper Shire River issues from Lake Malawi and runs approximately 12 miles before it enters shallow Lake Malombe.\n",
      "++++++++++++++++++++++++++++++++++++\n",
      "[{'watercourse': 'Shire River', 'body_of_water': 'Lake Malawi'}]\n",
      "++++++++++++++++++++++++++++++++++++\n"
     ]
    },
    {
     "name": "stderr",
     "output_type": "stream",
     "text": [
      "\n",
      "llama_print_timings:        load time =    4245.28 ms\n",
      "llama_print_timings:      sample time =       8.18 ms /    31 runs   (    0.26 ms per token,  3789.27 tokens per second)\n",
      "llama_print_timings: prompt eval time =    2070.46 ms /   178 tokens (   11.63 ms per token,    85.97 tokens per second)\n",
      "llama_print_timings:        eval time =     908.07 ms /    30 runs   (   30.27 ms per token,    33.04 tokens per second)\n",
      "llama_print_timings:       total time =    3091.29 ms /   208 tokens\n",
      " 55%|█████▌    | 87/157 [05:09<03:42,  3.18s/it]Llama.generate: prefix-match hit\n"
     ]
    },
    {
     "name": "stdout",
     "output_type": "stream",
     "text": [
      "[{'sub': 'Shire River', 'rel': 'origin of the watercourse', 'obj': 'Lake Malawi'}]\n",
      "====================================\n",
      "{'model1': 'Llama-2-7b-m1ft-q4.gguf', 'model2': 'Llama-2-7b-m2ft-q4.gguf', 'sent': 'The upper Shire River issues from Lake Malawi and runs approximately 12 miles before it enters shallow Lake Malombe.', 'triples': [{'sub': 'Shire River', 'rel': 'origin of the watercourse', 'obj': 'Lake Malawi'}]}\n",
      "====================================\n"
     ]
    },
    {
     "name": "stderr",
     "output_type": "stream",
     "text": [
      "\n",
      "llama_print_timings:        load time =    4202.89 ms\n",
      "llama_print_timings:      sample time =       7.60 ms /    33 runs   (    0.23 ms per token,  4340.39 tokens per second)\n",
      "llama_print_timings: prompt eval time =     972.22 ms /    44 tokens (   22.10 ms per token,    45.26 tokens per second)\n",
      "llama_print_timings:        eval time =    1052.82 ms /    32 runs   (   32.90 ms per token,    30.39 tokens per second)\n",
      "llama_print_timings:       total time =    2114.88 ms /    76 tokens\n",
      "Llama.generate: prefix-match hit\n"
     ]
    },
    {
     "name": "stdout",
     "output_type": "stream",
     "text": [
      "The dam impounds the 7,000-acre (2,800Â ha) Chatuge Lake, which straddles the North Carolina-Georgia state line.\n",
      "++++++++++++++++++++++++++++++++++++\n",
      "[{'dam': 'Chatuge Dam', 'reservoir': 'Chatuge Lake'}]\n",
      "++++++++++++++++++++++++++++++++++++\n"
     ]
    },
    {
     "name": "stderr",
     "output_type": "stream",
     "text": [
      "\n",
      "llama_print_timings:        load time =    4245.28 ms\n",
      "llama_print_timings:      sample time =       6.77 ms /    30 runs   (    0.23 ms per token,  4430.66 tokens per second)\n",
      "llama_print_timings: prompt eval time =    1989.26 ms /   189 tokens (   10.53 ms per token,    95.01 tokens per second)\n",
      "llama_print_timings:        eval time =     886.53 ms /    29 runs   (   30.57 ms per token,    32.71 tokens per second)\n",
      "llama_print_timings:       total time =    2968.43 ms /   218 tokens\n",
      " 56%|█████▌    | 88/157 [05:14<04:19,  3.76s/it]Llama.generate: prefix-match hit\n"
     ]
    },
    {
     "name": "stdout",
     "output_type": "stream",
     "text": [
      "[{'sub': 'Chatuge Dam', 'rel': 'reservoir created', 'obj': 'Chatuge Lake'}]\n",
      "====================================\n",
      "{'model1': 'Llama-2-7b-m1ft-q4.gguf', 'model2': 'Llama-2-7b-m2ft-q4.gguf', 'sent': 'The dam impounds the 7,000-acre (2,800Â\\xa0ha) Chatuge Lake, which straddles the North Carolina-Georgia state line.', 'triples': [{'sub': 'Chatuge Dam', 'rel': 'reservoir created', 'obj': 'Chatuge Lake'}]}\n",
      "====================================\n"
     ]
    },
    {
     "name": "stderr",
     "output_type": "stream",
     "text": [
      "\n",
      "llama_print_timings:        load time =    4202.89 ms\n",
      "llama_print_timings:      sample time =       7.66 ms /    23 runs   (    0.33 ms per token,  3001.83 tokens per second)\n",
      "llama_print_timings: prompt eval time =     798.12 ms /    34 tokens (   23.47 ms per token,    42.60 tokens per second)\n",
      "llama_print_timings:        eval time =     727.79 ms /    22 runs   (   33.08 ms per token,    30.23 tokens per second)\n",
      "llama_print_timings:       total time =    1607.77 ms /    56 tokens\n",
      " 57%|█████▋    | 89/157 [05:15<03:32,  3.12s/it]Llama.generate: prefix-match hit\n"
     ]
    },
    {
     "name": "stdout",
     "output_type": "stream",
     "text": [
      "Le Linleu offers a beautiful circular panorama featuring the Diablerets, Dents du Midi and Cornettes de Bise.\n",
      "++++++++++++++++++++++++++++++++++++\n",
      "[{'mountain': 'Diablerets'}]\n",
      "++++++++++++++++++++++++++++++++++++\n",
      "{'triplets': []}\n",
      "====================================\n",
      "{'model1': 'Llama-2-7b-m1ft-q4.gguf', 'model2': 'Llama-2-7b-m2ft-q4.gguf', 'sent': 'Le Linleu offers a beautiful circular panorama featuring the Diablerets, Dents du Midi and Cornettes de Bise.', 'triples': []}\n",
      "====================================\n"
     ]
    },
    {
     "name": "stderr",
     "output_type": "stream",
     "text": [
      "\n",
      "llama_print_timings:        load time =    4202.89 ms\n",
      "llama_print_timings:      sample time =       4.24 ms /    21 runs   (    0.20 ms per token,  4951.66 tokens per second)\n",
      "llama_print_timings: prompt eval time =     138.17 ms /    12 tokens (   11.51 ms per token,    86.85 tokens per second)\n",
      "llama_print_timings:        eval time =     650.75 ms /    20 runs   (   32.54 ms per token,    30.73 tokens per second)\n",
      "llama_print_timings:       total time =     833.83 ms /    32 tokens\n",
      " 57%|█████▋    | 90/157 [05:16<02:43,  2.44s/it]Llama.generate: prefix-match hit\n"
     ]
    },
    {
     "name": "stdout",
     "output_type": "stream",
     "text": [
      "Balistes is a genus of triggerfish.\n",
      "++++++++++++++++++++++++++++++++++++\n",
      "[{'taxon': 'Balistes'}]\n",
      "++++++++++++++++++++++++++++++++++++\n",
      "{'triplets': []}\n",
      "====================================\n",
      "{'model1': 'Llama-2-7b-m1ft-q4.gguf', 'model2': 'Llama-2-7b-m2ft-q4.gguf', 'sent': 'Balistes is a genus of triggerfish.', 'triples': []}\n",
      "====================================\n"
     ]
    },
    {
     "name": "stderr",
     "output_type": "stream",
     "text": [
      "\n",
      "llama_print_timings:        load time =    4202.89 ms\n",
      "llama_print_timings:      sample time =       6.26 ms /    23 runs   (    0.27 ms per token,  3675.30 tokens per second)\n",
      "llama_print_timings: prompt eval time =     838.41 ms /    86 tokens (    9.75 ms per token,   102.57 tokens per second)\n",
      "llama_print_timings:        eval time =     733.58 ms /    22 runs   (   33.34 ms per token,    29.99 tokens per second)\n",
      "llama_print_timings:       total time =    1648.54 ms /   108 tokens\n",
      " 58%|█████▊    | 91/157 [05:18<02:25,  2.20s/it]Llama.generate: prefix-match hit\n"
     ]
    },
    {
     "name": "stdout",
     "output_type": "stream",
     "text": [
      "Beyond that point the Yamuna is joined only by the Somb, a seasonal rivulet from Haryana, and by the highly polluted Hindon River near Noida, so that it continues only as a trickling sewage-bearing drain before joining the Chambal at Pachnada in the Etawah District of Uttar Pradesh.\n",
      "++++++++++++++++++++++++++++++++++++\n",
      "[{'watercourse': 'Hindon River'}]\n",
      "++++++++++++++++++++++++++++++++++++\n",
      "{'triplets': []}\n",
      "====================================\n",
      "{'model1': 'Llama-2-7b-m1ft-q4.gguf', 'model2': 'Llama-2-7b-m2ft-q4.gguf', 'sent': 'Beyond that point the Yamuna is joined only by the Somb, a seasonal rivulet from Haryana, and by the highly polluted Hindon River near Noida, so that it continues only as a trickling sewage-bearing drain before joining the Chambal at Pachnada in the Etawah District of Uttar Pradesh.', 'triples': []}\n",
      "====================================\n"
     ]
    },
    {
     "name": "stderr",
     "output_type": "stream",
     "text": [
      "\n",
      "llama_print_timings:        load time =    4202.89 ms\n",
      "llama_print_timings:      sample time =       4.48 ms /    24 runs   (    0.19 ms per token,  5360.73 tokens per second)\n",
      "llama_print_timings: prompt eval time =     414.68 ms /    48 tokens (    8.64 ms per token,   115.75 tokens per second)\n",
      "llama_print_timings:        eval time =     734.23 ms /    23 runs   (   31.92 ms per token,    31.33 tokens per second)\n",
      "llama_print_timings:       total time =    1198.66 ms /    71 tokens\n",
      " 59%|█████▊    | 92/157 [05:19<02:03,  1.90s/it]Llama.generate: prefix-match hit\n"
     ]
    },
    {
     "name": "stdout",
     "output_type": "stream",
     "text": [
      "Highest mountain between Lake Geneva and the Mont Blanc Massif, Dents du Midi dominate the Val-d'Illiez and the RhÃ´ne Valley, from Martigny down to the lake.\n",
      "++++++++++++++++++++++++++++++++++++\n",
      "[{'mountain': 'Dent du Midi'}]\n",
      "++++++++++++++++++++++++++++++++++++\n",
      "{'triplets': []}\n",
      "====================================\n",
      "{'model1': 'Llama-2-7b-m1ft-q4.gguf', 'model2': 'Llama-2-7b-m2ft-q4.gguf', 'sent': \"Highest mountain between Lake Geneva and the Mont Blanc Massif, Dents du Midi dominate the Val-d'Illiez and the RhÃ´ne Valley, from Martigny down to the lake.\", 'triples': []}\n",
      "====================================\n"
     ]
    },
    {
     "name": "stderr",
     "output_type": "stream",
     "text": [
      "\n",
      "llama_print_timings:        load time =    4202.89 ms\n",
      "llama_print_timings:      sample time =       6.35 ms /    23 runs   (    0.28 ms per token,  3623.76 tokens per second)\n",
      "llama_print_timings: prompt eval time =     411.58 ms /    38 tokens (   10.83 ms per token,    92.33 tokens per second)\n",
      "llama_print_timings:        eval time =     711.20 ms /    22 runs   (   32.33 ms per token,    30.93 tokens per second)\n",
      "llama_print_timings:       total time =    1190.86 ms /    60 tokens\n",
      " 59%|█████▉    | 93/157 [05:20<01:48,  1.69s/it]Llama.generate: prefix-match hit\n"
     ]
    },
    {
     "name": "stdout",
     "output_type": "stream",
     "text": [
      "Kootenay River is one of the uppermost major tributaries of the Columbia River, the largest North American river that empties into the Pacific Ocean.\n",
      "++++++++++++++++++++++++++++++++++++\n",
      "[{'watercourse': 'Columbia River'}]\n",
      "++++++++++++++++++++++++++++++++++++\n",
      "{'triplets': []}\n",
      "====================================\n",
      "{'model1': 'Llama-2-7b-m1ft-q4.gguf', 'model2': 'Llama-2-7b-m2ft-q4.gguf', 'sent': 'Kootenay River is one of the uppermost major tributaries of the Columbia River, the largest North American river that empties into the Pacific Ocean.', 'triples': []}\n",
      "====================================\n"
     ]
    },
    {
     "name": "stderr",
     "output_type": "stream",
     "text": [
      "\n",
      "llama_print_timings:        load time =    4202.89 ms\n",
      "llama_print_timings:      sample time =       4.65 ms /    21 runs   (    0.22 ms per token,  4514.19 tokens per second)\n",
      "llama_print_timings: prompt eval time =     409.42 ms /    39 tokens (   10.50 ms per token,    95.26 tokens per second)\n",
      "llama_print_timings:        eval time =     639.35 ms /    20 runs   (   31.97 ms per token,    31.28 tokens per second)\n",
      "llama_print_timings:       total time =    1097.67 ms /    59 tokens\n",
      " 60%|█████▉    | 94/157 [05:22<01:35,  1.52s/it]Llama.generate: prefix-match hit\n"
     ]
    },
    {
     "name": "stdout",
     "output_type": "stream",
     "text": [
      "Salzach's largest tributaries are Lammer, Berchtesgadener Ache, Saalach, Sur and GÃ¶tzinger Achen.\n",
      "++++++++++++++++++++++++++++++++++++\n",
      "[{'watercourse': 'Lammer'}]\n",
      "++++++++++++++++++++++++++++++++++++\n",
      "{'triplets': []}\n",
      "====================================\n",
      "{'model1': 'Llama-2-7b-m1ft-q4.gguf', 'model2': 'Llama-2-7b-m2ft-q4.gguf', 'sent': \"Salzach's largest tributaries are Lammer, Berchtesgadener Ache, Saalach, Sur and GÃ¶tzinger Achen.\", 'triples': []}\n",
      "====================================\n"
     ]
    },
    {
     "name": "stderr",
     "output_type": "stream",
     "text": [
      "\n",
      "llama_print_timings:        load time =    4202.89 ms\n",
      "llama_print_timings:      sample time =       5.04 ms /    23 runs   (    0.22 ms per token,  4561.68 tokens per second)\n",
      "llama_print_timings: prompt eval time =     413.16 ms /    48 tokens (    8.61 ms per token,   116.18 tokens per second)\n",
      "llama_print_timings:        eval time =     760.97 ms /    23 runs   (   33.09 ms per token,    30.22 tokens per second)\n",
      "llama_print_timings:       total time =    1231.63 ms /    71 tokens\n",
      " 61%|██████    | 95/157 [05:23<01:28,  1.43s/it]Llama.generate: prefix-match hit\n"
     ]
    },
    {
     "name": "stdout",
     "output_type": "stream",
     "text": [
      "Edward River, or Kyalite River, an anabranch of the Murray River and part of the Murray-Darling basin, is located in the western Riverina region of south western New South Wales, Australia.\n",
      "++++++++++++++++++++++++++++++++++++\n",
      "[{'watercourse': 'Murray River'}]\n",
      "++++++++++++++++++++++++++++++++++++\n",
      "{'triplets': []}\n",
      "====================================\n",
      "{'model1': 'Llama-2-7b-m1ft-q4.gguf', 'model2': 'Llama-2-7b-m2ft-q4.gguf', 'sent': 'Edward River, or Kyalite River, an anabranch of the Murray River and part of the Murray-Darling basin, is located in the western Riverina region of south western New South Wales, Australia.', 'triples': []}\n",
      "====================================\n"
     ]
    },
    {
     "name": "stderr",
     "output_type": "stream",
     "text": [
      "\n",
      "llama_print_timings:        load time =    4202.89 ms\n",
      "llama_print_timings:      sample time =       4.44 ms /    23 runs   (    0.19 ms per token,  5182.51 tokens per second)\n",
      "llama_print_timings: prompt eval time =     141.49 ms /    15 tokens (    9.43 ms per token,   106.02 tokens per second)\n",
      "llama_print_timings:        eval time =     707.93 ms /    22 runs   (   32.18 ms per token,    31.08 tokens per second)\n",
      "llama_print_timings:       total time =     895.62 ms /    37 tokens\n",
      " 61%|██████    | 96/157 [05:24<01:17,  1.27s/it]Llama.generate: prefix-match hit\n"
     ]
    },
    {
     "name": "stdout",
     "output_type": "stream",
     "text": [
      "It is located near the slightly higher Hoh Brisen.\n",
      "++++++++++++++++++++++++++++++++++++\n",
      "[{'mountain': 'Hoh Brisen'}]\n",
      "++++++++++++++++++++++++++++++++++++\n",
      "{'triplets': []}\n",
      "====================================\n",
      "{'model1': 'Llama-2-7b-m1ft-q4.gguf', 'model2': 'Llama-2-7b-m2ft-q4.gguf', 'sent': 'It is located near the slightly higher Hoh Brisen.', 'triples': []}\n",
      "====================================\n"
     ]
    },
    {
     "name": "stderr",
     "output_type": "stream",
     "text": [
      "\n",
      "llama_print_timings:        load time =    4202.89 ms\n",
      "llama_print_timings:      sample time =       2.83 ms /    13 runs   (    0.22 ms per token,  4592.02 tokens per second)\n",
      "llama_print_timings: prompt eval time =     410.66 ms /    40 tokens (   10.27 ms per token,    97.40 tokens per second)\n",
      "llama_print_timings:        eval time =     395.38 ms /    12 runs   (   32.95 ms per token,    30.35 tokens per second)\n",
      "llama_print_timings:       total time =     837.68 ms /    52 tokens\n",
      " 62%|██████▏   | 97/157 [05:24<01:08,  1.14s/it]Llama.generate: prefix-match hit\n"
     ]
    },
    {
     "name": "stdout",
     "output_type": "stream",
     "text": [
      "The race was won by home rider Stefan Denifl (Aqua Blue Sport), who took the first victory of 2017 Tour of Austria's professional career.\n",
      "++++++++++++++++++++++++++++++++++++\n",
      "[{}]\n",
      "++++++++++++++++++++++++++++++++++++\n",
      "{'triplets': []}\n",
      "====================================\n",
      "{'model1': 'Llama-2-7b-m1ft-q4.gguf', 'model2': 'Llama-2-7b-m2ft-q4.gguf', 'sent': \"The race was won by home rider Stefan Denifl (Aqua Blue Sport), who took the first victory of 2017 Tour of Austria's professional career.\", 'triples': []}\n",
      "====================================\n"
     ]
    },
    {
     "name": "stderr",
     "output_type": "stream",
     "text": [
      "\n",
      "llama_print_timings:        load time =    4202.89 ms\n",
      "llama_print_timings:      sample time =       7.58 ms /    24 runs   (    0.32 ms per token,  3166.23 tokens per second)\n",
      "llama_print_timings: prompt eval time =     694.00 ms /    70 tokens (    9.91 ms per token,   100.87 tokens per second)\n",
      "llama_print_timings:        eval time =     753.58 ms /    23 runs   (   32.76 ms per token,    30.52 tokens per second)\n",
      "llama_print_timings:       total time =    1538.58 ms /    93 tokens\n",
      " 62%|██████▏   | 98/157 [05:26<01:14,  1.26s/it]Llama.generate: prefix-match hit\n"
     ]
    },
    {
     "name": "stdout",
     "output_type": "stream",
     "text": [
      "The Japanese wobbegong (Orectolobus japonicus) is a carpet shark in the family Orectolobidae of the wobbegong family, found in the tropical western Pacific Ocean from Japan and Korea to Viet Nam and the Philippines, between latitudes 43 and 6Â°N.\n",
      "++++++++++++++++++++++++++++++++++++\n",
      "[{'taxon': 'Orectolobus'}]\n",
      "++++++++++++++++++++++++++++++++++++\n",
      "{'triplets': []}\n",
      "====================================\n",
      "{'model1': 'Llama-2-7b-m1ft-q4.gguf', 'model2': 'Llama-2-7b-m2ft-q4.gguf', 'sent': 'The Japanese wobbegong (Orectolobus japonicus) is a carpet shark in the family Orectolobidae of the wobbegong family, found in the tropical western Pacific Ocean from Japan and Korea to Viet Nam and the Philippines, between latitudes 43 and 6Â°N.', 'triples': []}\n",
      "====================================\n"
     ]
    },
    {
     "name": "stderr",
     "output_type": "stream",
     "text": [
      "\n",
      "llama_print_timings:        load time =    4202.89 ms\n",
      "llama_print_timings:      sample time =       7.77 ms /    24 runs   (    0.32 ms per token,  3087.21 tokens per second)\n",
      "llama_print_timings: prompt eval time =     408.21 ms /    37 tokens (   11.03 ms per token,    90.64 tokens per second)\n",
      "llama_print_timings:        eval time =     742.94 ms /    23 runs   (   32.30 ms per token,    30.96 tokens per second)\n",
      "llama_print_timings:       total time =    1231.40 ms /    60 tokens\n",
      " 63%|██████▎   | 99/157 [05:27<01:12,  1.26s/it]Llama.generate: prefix-match hit\n"
     ]
    },
    {
     "name": "stdout",
     "output_type": "stream",
     "text": [
      "Canal through Zuid-Beveland connects the Western Scheldt (to the south of the canal) and the Eastern Scheldt (to the north).\n",
      "++++++++++++++++++++++++++++++++++++\n",
      "[{'watercourse': 'Western Scheldt'}]\n",
      "++++++++++++++++++++++++++++++++++++\n",
      "{'triplets': []}\n",
      "====================================\n",
      "{'model1': 'Llama-2-7b-m1ft-q4.gguf', 'model2': 'Llama-2-7b-m2ft-q4.gguf', 'sent': 'Canal through Zuid-Beveland connects the Western Scheldt (to the south of the canal) and the Eastern Scheldt (to the north).', 'triples': []}\n",
      "====================================\n"
     ]
    },
    {
     "name": "stderr",
     "output_type": "stream",
     "text": [
      "\n",
      "llama_print_timings:        load time =    4202.89 ms\n",
      "llama_print_timings:      sample time =       6.51 ms /    23 runs   (    0.28 ms per token,  3535.20 tokens per second)\n",
      "llama_print_timings: prompt eval time =     408.98 ms /    37 tokens (   11.05 ms per token,    90.47 tokens per second)\n",
      "llama_print_timings:        eval time =     713.90 ms /    22 runs   (   32.45 ms per token,    30.82 tokens per second)\n",
      "llama_print_timings:       total time =    1191.96 ms /    59 tokens\n",
      " 64%|██████▎   | 100/157 [05:28<01:10,  1.24s/it]Llama.generate: prefix-match hit\n"
     ]
    },
    {
     "name": "stdout",
     "output_type": "stream",
     "text": [
      "Cricotopus is a genus of non-biting midges in the subfamily Orthocladiinae of the bloodworm family Chironomidae.\n",
      "++++++++++++++++++++++++++++++++++++\n",
      "[{'taxon': 'Chironomidae'}]\n",
      "++++++++++++++++++++++++++++++++++++\n",
      "{'triplets': []}\n",
      "====================================\n",
      "{'model1': 'Llama-2-7b-m1ft-q4.gguf', 'model2': 'Llama-2-7b-m2ft-q4.gguf', 'sent': 'Cricotopus is a genus of non-biting midges in the subfamily Orthocladiinae of the bloodworm family Chironomidae.', 'triples': []}\n",
      "====================================\n"
     ]
    },
    {
     "name": "stderr",
     "output_type": "stream",
     "text": [
      "\n",
      "llama_print_timings:        load time =    4202.89 ms\n",
      "llama_print_timings:      sample time =       9.08 ms /    39 runs   (    0.23 ms per token,  4296.10 tokens per second)\n",
      "llama_print_timings: prompt eval time =     407.75 ms /    36 tokens (   11.33 ms per token,    88.29 tokens per second)\n",
      "llama_print_timings:        eval time =    1225.59 ms /    38 runs   (   32.25 ms per token,    31.01 tokens per second)\n",
      "llama_print_timings:       total time =    1728.46 ms /    74 tokens\n",
      "Llama.generate: prefix-match hit\n"
     ]
    },
    {
     "name": "stdout",
     "output_type": "stream",
     "text": [
      "The Cima di Broglio is a mountain of the Swiss Lepontine Alps, located east of Cevio in the canton of Ticino.\n",
      "++++++++++++++++++++++++++++++++++++\n",
      "[{'mountain': 'Cima di Broglio', 'mountain_range': 'Lepontine Alps'}]\n",
      "++++++++++++++++++++++++++++++++++++\n"
     ]
    },
    {
     "name": "stderr",
     "output_type": "stream",
     "text": [
      "\n",
      "llama_print_timings:        load time =    4245.28 ms\n",
      "llama_print_timings:      sample time =       7.95 ms /    33 runs   (    0.24 ms per token,  4149.38 tokens per second)\n",
      "llama_print_timings: prompt eval time =    3006.24 ms /   186 tokens (   16.16 ms per token,    61.87 tokens per second)\n",
      "llama_print_timings:        eval time =     972.78 ms /    32 runs   (   30.40 ms per token,    32.90 tokens per second)\n",
      "llama_print_timings:       total time =    4082.70 ms /   218 tokens\n",
      " 64%|██████▍   | 101/157 [05:34<02:26,  2.62s/it]Llama.generate: prefix-match hit\n"
     ]
    },
    {
     "name": "stdout",
     "output_type": "stream",
     "text": [
      "[{'sub': 'Cima di Broglio', 'rel': 'mountain range', 'obj': 'Lepontine Alps'}]\n",
      "====================================\n",
      "{'model1': 'Llama-2-7b-m1ft-q4.gguf', 'model2': 'Llama-2-7b-m2ft-q4.gguf', 'sent': 'The Cima di Broglio is a mountain of the Swiss Lepontine Alps, located east of Cevio in the canton of Ticino.', 'triples': [{'sub': 'Cima di Broglio', 'rel': 'mountain range', 'obj': 'Lepontine Alps'}]}\n",
      "====================================\n"
     ]
    },
    {
     "name": "stderr",
     "output_type": "stream",
     "text": [
      "\n",
      "llama_print_timings:        load time =    4202.89 ms\n",
      "llama_print_timings:      sample time =       6.10 ms /    32 runs   (    0.19 ms per token,  5246.76 tokens per second)\n",
      "llama_print_timings: prompt eval time =    1489.85 ms /    34 tokens (   43.82 ms per token,    22.82 tokens per second)\n",
      "llama_print_timings:        eval time =     998.24 ms /    31 runs   (   32.20 ms per token,    31.05 tokens per second)\n",
      "llama_print_timings:       total time =    2562.75 ms /    65 tokens\n",
      "Llama.generate: prefix-match hit\n"
     ]
    },
    {
     "name": "stdout",
     "output_type": "stream",
     "text": [
      "Denison Dam, also known as Lake Texoma Dam, is a dam located on the Red River between Texas and Oklahoma that impounds Lake Texoma.\n",
      "++++++++++++++++++++++++++++++++++++\n",
      "[{'dam': 'Denison Dam', 'reservoir': 'Lake Texoma'}]\n",
      "++++++++++++++++++++++++++++++++++++\n"
     ]
    },
    {
     "name": "stderr",
     "output_type": "stream",
     "text": [
      "\n",
      "llama_print_timings:        load time =    4245.28 ms\n",
      "llama_print_timings:      sample time =       6.97 ms /    29 runs   (    0.24 ms per token,  4161.88 tokens per second)\n",
      "llama_print_timings: prompt eval time =    1722.70 ms /   176 tokens (    9.79 ms per token,   102.16 tokens per second)\n",
      "llama_print_timings:        eval time =     884.16 ms /    29 runs   (   30.49 ms per token,    32.80 tokens per second)\n",
      "llama_print_timings:       total time =    2709.58 ms /   205 tokens\n",
      " 65%|██████▍   | 102/157 [05:40<03:08,  3.42s/it]Llama.generate: prefix-match hit\n"
     ]
    },
    {
     "name": "stdout",
     "output_type": "stream",
     "text": [
      "[{'sub': 'Denison Dam', 'rel': 'reservoir created', 'obj': 'Lake Texoma'}]\n",
      "====================================\n",
      "{'model1': 'Llama-2-7b-m1ft-q4.gguf', 'model2': 'Llama-2-7b-m2ft-q4.gguf', 'sent': 'Denison Dam, also known as Lake Texoma Dam, is a dam located on the Red River between Texas and Oklahoma that impounds Lake Texoma.', 'triples': [{'sub': 'Denison Dam', 'rel': 'reservoir created', 'obj': 'Lake Texoma'}]}\n",
      "====================================\n"
     ]
    },
    {
     "name": "stderr",
     "output_type": "stream",
     "text": [
      "\n",
      "llama_print_timings:        load time =    4202.89 ms\n",
      "llama_print_timings:      sample time =       5.89 ms /    33 runs   (    0.18 ms per token,  5603.67 tokens per second)\n",
      "llama_print_timings: prompt eval time =    1096.15 ms /    32 tokens (   34.25 ms per token,    29.19 tokens per second)\n",
      "llama_print_timings:        eval time =    1025.79 ms /    32 runs   (   32.06 ms per token,    31.20 tokens per second)\n",
      "llama_print_timings:       total time =    2191.31 ms /    64 tokens\n",
      "Llama.generate: prefix-match hit\n"
     ]
    },
    {
     "name": "stdout",
     "output_type": "stream",
     "text": [
      "The dam lies east of Rancho Calaveras and impounds New Hogan Lake in the foothills of the Sierra Nevada.\n",
      "++++++++++++++++++++++++++++++++++++\n",
      "[{'dam': 'New Hogan Dam', 'reservoir': 'New Hogan Lake'}]\n",
      "++++++++++++++++++++++++++++++++++++\n"
     ]
    },
    {
     "name": "stderr",
     "output_type": "stream",
     "text": [
      "\n",
      "llama_print_timings:        load time =    4245.28 ms\n",
      "llama_print_timings:      sample time =       7.07 ms /    30 runs   (    0.24 ms per token,  4243.28 tokens per second)\n",
      "llama_print_timings: prompt eval time =    1699.07 ms /   173 tokens (    9.82 ms per token,   101.82 tokens per second)\n",
      "llama_print_timings:        eval time =     892.85 ms /    29 runs   (   30.79 ms per token,    32.48 tokens per second)\n",
      "llama_print_timings:       total time =    2704.03 ms /   202 tokens\n",
      " 66%|██████▌   | 103/157 [05:45<03:28,  3.87s/it]Llama.generate: prefix-match hit\n"
     ]
    },
    {
     "name": "stdout",
     "output_type": "stream",
     "text": [
      "[{'sub': 'New Hogan Dam', 'rel': 'reservoir created', 'obj': 'New Hogan Lake'}]\n",
      "====================================\n",
      "{'model1': 'Llama-2-7b-m1ft-q4.gguf', 'model2': 'Llama-2-7b-m2ft-q4.gguf', 'sent': 'The dam lies east of Rancho Calaveras and impounds New Hogan Lake in the foothills of the Sierra Nevada.', 'triples': [{'sub': 'New Hogan Dam', 'rel': 'reservoir created', 'obj': 'New Hogan Lake'}]}\n",
      "====================================\n"
     ]
    },
    {
     "name": "stderr",
     "output_type": "stream",
     "text": [
      "\n",
      "llama_print_timings:        load time =    4202.89 ms\n",
      "llama_print_timings:      sample time =       8.93 ms /    36 runs   (    0.25 ms per token,  4033.16 tokens per second)\n",
      "llama_print_timings: prompt eval time =    1694.66 ms /    60 tokens (   28.24 ms per token,    35.41 tokens per second)\n",
      "llama_print_timings:        eval time =    1180.24 ms /    35 runs   (   33.72 ms per token,    29.65 tokens per second)\n",
      "llama_print_timings:       total time =    2977.78 ms /    95 tokens\n",
      "Llama.generate: prefix-match hit\n"
     ]
    },
    {
     "name": "stdout",
     "output_type": "stream",
     "text": [
      "Steinkjerelva forms at the confluence between the rivers Byaelva and Ogna at Guldbergaunet and flows through the town of Steinkjer before flowing into Beitstadfjorden, the inner part of the Trondheimsfjord.\n",
      "++++++++++++++++++++++++++++++++++++\n",
      "[{'watercourse': 'Steinkjerelva', 'body_of_water': 'Byaelva'}]\n",
      "++++++++++++++++++++++++++++++++++++\n"
     ]
    },
    {
     "name": "stderr",
     "output_type": "stream",
     "text": [
      "\n",
      "llama_print_timings:        load time =    4245.28 ms\n",
      "llama_print_timings:      sample time =       7.00 ms /    31 runs   (    0.23 ms per token,  4429.84 tokens per second)\n",
      "llama_print_timings: prompt eval time =    2954.18 ms /   207 tokens (   14.27 ms per token,    70.07 tokens per second)\n",
      "llama_print_timings:        eval time =     973.96 ms /    30 runs   (   32.47 ms per token,    30.80 tokens per second)\n",
      "llama_print_timings:       total time =    4050.73 ms /   237 tokens\n",
      " 66%|██████▌   | 104/157 [05:52<04:15,  4.82s/it]Llama.generate: prefix-match hit\n"
     ]
    },
    {
     "name": "stdout",
     "output_type": "stream",
     "text": [
      "[{'sub': 'Steinkjerelva', 'rel': 'origin of the watercourse', 'obj': 'Byaelva'}]\n",
      "====================================\n",
      "{'model1': 'Llama-2-7b-m1ft-q4.gguf', 'model2': 'Llama-2-7b-m2ft-q4.gguf', 'sent': 'Steinkjerelva forms at the confluence between the rivers Byaelva and Ogna at Guldbergaunet and flows through the town of Steinkjer before flowing into Beitstadfjorden, the inner part of the Trondheimsfjord.', 'triples': [{'sub': 'Steinkjerelva', 'rel': 'origin of the watercourse', 'obj': 'Byaelva'}]}\n",
      "====================================\n"
     ]
    },
    {
     "name": "stderr",
     "output_type": "stream",
     "text": [
      "\n",
      "llama_print_timings:        load time =    4202.89 ms\n",
      "llama_print_timings:      sample time =       5.13 ms /    23 runs   (    0.22 ms per token,  4479.07 tokens per second)\n",
      "llama_print_timings: prompt eval time =    1775.33 ms /    29 tokens (   61.22 ms per token,    16.34 tokens per second)\n",
      "llama_print_timings:        eval time =     729.18 ms /    22 runs   (   33.14 ms per token,    30.17 tokens per second)\n",
      "llama_print_timings:       total time =    2564.57 ms /    51 tokens\n",
      " 67%|██████▋   | 105/157 [05:54<03:35,  4.15s/it]Llama.generate: prefix-match hit\n"
     ]
    },
    {
     "name": "stdout",
     "output_type": "stream",
     "text": [
      "Tridesmostemon is a genus of the plant family Sapotaceae described as a genus in 1905.\n",
      "++++++++++++++++++++++++++++++++++++\n",
      "[{'taxon': 'Sapotaceae'}]\n",
      "++++++++++++++++++++++++++++++++++++\n",
      "{'triplets': []}\n",
      "====================================\n",
      "{'model1': 'Llama-2-7b-m1ft-q4.gguf', 'model2': 'Llama-2-7b-m2ft-q4.gguf', 'sent': 'Tridesmostemon is a genus of the plant family Sapotaceae described as a genus in 1905.', 'triples': []}\n",
      "====================================\n"
     ]
    },
    {
     "name": "stderr",
     "output_type": "stream",
     "text": [
      "\n",
      "llama_print_timings:        load time =    4202.89 ms\n",
      "llama_print_timings:      sample time =       2.26 ms /    13 runs   (    0.17 ms per token,  5744.59 tokens per second)\n",
      "llama_print_timings: prompt eval time =     554.97 ms /    64 tokens (    8.67 ms per token,   115.32 tokens per second)\n",
      "llama_print_timings:        eval time =     412.26 ms /    13 runs   (   31.71 ms per token,    31.53 tokens per second)\n",
      "llama_print_timings:       total time =     999.72 ms /    77 tokens\n",
      " 68%|██████▊   | 106/157 [05:55<02:43,  3.21s/it]Llama.generate: prefix-match hit\n"
     ]
    },
    {
     "name": "stdout",
     "output_type": "stream",
     "text": [
      "Carter Jones (Bissell) prevailed in the mountains classification thanks to 2013 Tour of California's participation in numerous breakaways, and Lawson Craddock of Bontrager Cycling Team earned the youth classification jersey at 21 years of age.\n",
      "++++++++++++++++++++++++++++++++++++\n",
      "[{}]\n",
      "++++++++++++++++++++++++++++++++++++\n",
      "{'triplets': []}\n",
      "====================================\n",
      "{'model1': 'Llama-2-7b-m1ft-q4.gguf', 'model2': 'Llama-2-7b-m2ft-q4.gguf', 'sent': \"Carter Jones (Bissell) prevailed in the mountains classification thanks to 2013 Tour of California's participation in numerous breakaways, and Lawson Craddock of Bontrager Cycling Team earned the youth classification jersey at 21 years of age.\", 'triples': []}\n",
      "====================================\n"
     ]
    },
    {
     "name": "stderr",
     "output_type": "stream",
     "text": [
      "\n",
      "llama_print_timings:        load time =    4202.89 ms\n",
      "llama_print_timings:      sample time =       3.02 ms /    13 runs   (    0.23 ms per token,  4306.06 tokens per second)\n",
      "llama_print_timings: prompt eval time =     418.31 ms /    46 tokens (    9.09 ms per token,   109.97 tokens per second)\n",
      "llama_print_timings:        eval time =     388.03 ms /    12 runs   (   32.34 ms per token,    30.93 tokens per second)\n",
      "llama_print_timings:       total time =     840.54 ms /    58 tokens\n",
      " 68%|██████▊   | 107/157 [05:56<02:04,  2.50s/it]Llama.generate: prefix-match hit\n"
     ]
    },
    {
     "name": "stdout",
     "output_type": "stream",
     "text": [
      "The mountains classification jersey went to Italian Daniel Oss of BMC Racing Team, while Julian Alaphilippe took the best young rider's jersey and the queen stage 7.\n",
      "++++++++++++++++++++++++++++++++++++\n",
      "[{}]\n",
      "++++++++++++++++++++++++++++++++++++\n",
      "{'triplets': []}\n",
      "====================================\n",
      "{'model1': 'Llama-2-7b-m1ft-q4.gguf', 'model2': 'Llama-2-7b-m2ft-q4.gguf', 'sent': \"The mountains classification jersey went to Italian Daniel Oss of BMC Racing Team, while Julian Alaphilippe took the best young rider's jersey and the queen stage 7.\", 'triples': []}\n",
      "====================================\n"
     ]
    },
    {
     "name": "stderr",
     "output_type": "stream",
     "text": [
      "\n",
      "llama_print_timings:        load time =    4202.89 ms\n",
      "llama_print_timings:      sample time =       6.36 ms /    36 runs   (    0.18 ms per token,  5657.71 tokens per second)\n",
      "llama_print_timings: prompt eval time =     139.05 ms /    16 tokens (    8.69 ms per token,   115.07 tokens per second)\n",
      "llama_print_timings:        eval time =    1148.16 ms /    36 runs   (   31.89 ms per token,    31.35 tokens per second)\n",
      "llama_print_timings:       total time =    1356.79 ms /    52 tokens\n",
      "Llama.generate: prefix-match hit\n"
     ]
    },
    {
     "name": "stdout",
     "output_type": "stream",
     "text": [
      "The reservoir behind the dam is named Lake Revelstoke.\n",
      "++++++++++++++++++++++++++++++++++++\n",
      "[{'dam': 'Revelstoke Dam', 'reservoir': 'Lake Revelstoke'}]\n",
      "++++++++++++++++++++++++++++++++++++\n"
     ]
    },
    {
     "name": "stderr",
     "output_type": "stream",
     "text": [
      "\n",
      "llama_print_timings:        load time =    4245.28 ms\n",
      "llama_print_timings:      sample time =       6.67 ms /    33 runs   (    0.20 ms per token,  4948.27 tokens per second)\n",
      "llama_print_timings: prompt eval time =    2337.39 ms /   165 tokens (   14.17 ms per token,    70.59 tokens per second)\n",
      "llama_print_timings:        eval time =     971.18 ms /    32 runs   (   30.35 ms per token,    32.95 tokens per second)\n",
      "llama_print_timings:       total time =    3394.80 ms /   197 tokens\n",
      " 69%|██████▉   | 108/157 [06:01<02:35,  3.18s/it]Llama.generate: prefix-match hit\n"
     ]
    },
    {
     "name": "stdout",
     "output_type": "stream",
     "text": [
      "[{'sub': 'Revelstoke Dam', 'rel': 'reservoir created', 'obj': 'Lake Revelstoke'}]\n",
      "====================================\n",
      "{'model1': 'Llama-2-7b-m1ft-q4.gguf', 'model2': 'Llama-2-7b-m2ft-q4.gguf', 'sent': 'The reservoir behind the dam is named Lake Revelstoke.', 'triples': [{'sub': 'Revelstoke Dam', 'rel': 'reservoir created', 'obj': 'Lake Revelstoke'}]}\n",
      "====================================\n"
     ]
    },
    {
     "name": "stderr",
     "output_type": "stream",
     "text": [
      "\n",
      "llama_print_timings:        load time =    4202.89 ms\n",
      "llama_print_timings:      sample time =       5.16 ms /    25 runs   (    0.21 ms per token,  4846.84 tokens per second)\n",
      "llama_print_timings: prompt eval time =    1690.23 ms /    39 tokens (   43.34 ms per token,    23.07 tokens per second)\n",
      "llama_print_timings:        eval time =     770.40 ms /    24 runs   (   32.10 ms per token,    31.15 tokens per second)\n",
      "llama_print_timings:       total time =    2519.01 ms /    63 tokens\n",
      " 69%|██████▉   | 109/157 [06:03<02:23,  2.98s/it]Llama.generate: prefix-match hit\n"
     ]
    },
    {
     "name": "stdout",
     "output_type": "stream",
     "text": [
      "Bhut jolokia is a hybrid of Capsicum chinense and Capsicum frutescens and is closely related to the Naga Morich.\n",
      "++++++++++++++++++++++++++++++++++++\n",
      "[{'taxon': 'Capsicum chinense'}]\n",
      "++++++++++++++++++++++++++++++++++++\n",
      "{'triplets': []}\n",
      "====================================\n",
      "{'model1': 'Llama-2-7b-m1ft-q4.gguf', 'model2': 'Llama-2-7b-m2ft-q4.gguf', 'sent': 'Bhut jolokia is a hybrid of Capsicum chinense and Capsicum frutescens and is closely related to the Naga Morich.', 'triples': []}\n",
      "====================================\n"
     ]
    },
    {
     "name": "stderr",
     "output_type": "stream",
     "text": [
      "\n",
      "llama_print_timings:        load time =    4202.89 ms\n",
      "llama_print_timings:      sample time =      12.20 ms /    35 runs   (    0.35 ms per token,  2868.38 tokens per second)\n",
      "llama_print_timings: prompt eval time =     419.57 ms /    39 tokens (   10.76 ms per token,    92.95 tokens per second)\n",
      "llama_print_timings:        eval time =    1129.88 ms /    34 runs   (   33.23 ms per token,    30.09 tokens per second)\n",
      "llama_print_timings:       total time =    1678.44 ms /    73 tokens\n",
      "Llama.generate: prefix-match hit\n"
     ]
    },
    {
     "name": "stdout",
     "output_type": "stream",
     "text": [
      "The rough-legged buzzard (Buteo lagopus), also called the rough-legged hawk, is a medium-large bird of prey.\n",
      "++++++++++++++++++++++++++++++++++++\n",
      "[{'taxon': 'Buteo lagopus', 'synonym': 'Buteo lagopus'}]\n",
      "++++++++++++++++++++++++++++++++++++\n"
     ]
    },
    {
     "name": "stderr",
     "output_type": "stream",
     "text": [
      "\n",
      "llama_print_timings:        load time =    4245.28 ms\n",
      "llama_print_timings:      sample time =       6.81 ms /    32 runs   (    0.21 ms per token,  4696.90 tokens per second)\n",
      "llama_print_timings: prompt eval time =    2718.36 ms /   185 tokens (   14.69 ms per token,    68.06 tokens per second)\n",
      "llama_print_timings:        eval time =     932.07 ms /    31 runs   (   30.07 ms per token,    33.26 tokens per second)\n",
      "llama_print_timings:       total time =    3742.33 ms /   216 tokens\n",
      " 70%|███████   | 110/157 [06:09<02:54,  3.72s/it]Llama.generate: prefix-match hit\n"
     ]
    },
    {
     "name": "stdout",
     "output_type": "stream",
     "text": [
      "[{'sub': 'Buteo lagopus', 'rel': 'taxon synonym', 'obj': 'Buteo lagopus'}]\n",
      "====================================\n",
      "{'model1': 'Llama-2-7b-m1ft-q4.gguf', 'model2': 'Llama-2-7b-m2ft-q4.gguf', 'sent': 'The rough-legged buzzard (Buteo lagopus), also called the rough-legged hawk, is a medium-large bird of prey.', 'triples': [{'sub': 'Buteo lagopus', 'rel': 'taxon synonym', 'obj': 'Buteo lagopus'}]}\n",
      "====================================\n"
     ]
    },
    {
     "name": "stderr",
     "output_type": "stream",
     "text": [
      "\n",
      "llama_print_timings:        load time =    4202.89 ms\n",
      "llama_print_timings:      sample time =       7.09 ms /    36 runs   (    0.20 ms per token,  5080.44 tokens per second)\n",
      "llama_print_timings: prompt eval time =    1285.42 ms /    74 tokens (   17.37 ms per token,    57.57 tokens per second)\n",
      "llama_print_timings:        eval time =    1169.27 ms /    35 runs   (   33.41 ms per token,    29.93 tokens per second)\n",
      "llama_print_timings:       total time =    2546.57 ms /   109 tokens\n",
      "Llama.generate: prefix-match hit\n"
     ]
    },
    {
     "name": "stdout",
     "output_type": "stream",
     "text": [
      "Celestial Peak (69Â°33S 158Â°3E) is a granite peak, 1,280 metres (4,200Â ft) high, 8 nautical miles (15Â km) north of Mount Blowaway in the Wilson Hills.\n",
      "++++++++++++++++++++++++++++++++++++\n",
      "[{'mountain': 'Celestial Peak', 'mountain_range': 'Wilson Hills'}]\n",
      "++++++++++++++++++++++++++++++++++++\n"
     ]
    },
    {
     "name": "stderr",
     "output_type": "stream",
     "text": [
      "\n",
      "llama_print_timings:        load time =    4245.28 ms\n",
      "llama_print_timings:      sample time =       7.46 ms /    30 runs   (    0.25 ms per token,  4024.14 tokens per second)\n",
      "llama_print_timings: prompt eval time =    2546.08 ms /   221 tokens (   11.52 ms per token,    86.80 tokens per second)\n",
      "llama_print_timings:        eval time =     904.06 ms /    29 runs   (   31.17 ms per token,    32.08 tokens per second)\n",
      "llama_print_timings:       total time =    3576.25 ms /   250 tokens\n",
      " 71%|███████   | 111/157 [06:15<03:24,  4.45s/it]Llama.generate: prefix-match hit\n"
     ]
    },
    {
     "name": "stdout",
     "output_type": "stream",
     "text": [
      "[{'sub': 'Celestial Peak', 'rel': 'mountain range', 'obj': 'Wilson Hills'}]\n",
      "====================================\n",
      "{'model1': 'Llama-2-7b-m1ft-q4.gguf', 'model2': 'Llama-2-7b-m2ft-q4.gguf', 'sent': 'Celestial Peak (69Â°33S 158Â°3E) is a granite peak, 1,280 metres (4,200Â\\xa0ft) high, 8 nautical miles (15Â\\xa0km) north of Mount Blowaway in the Wilson Hills.', 'triples': [{'sub': 'Celestial Peak', 'rel': 'mountain range', 'obj': 'Wilson Hills'}]}\n",
      "====================================\n"
     ]
    },
    {
     "name": "stderr",
     "output_type": "stream",
     "text": [
      "\n",
      "llama_print_timings:        load time =    4202.89 ms\n",
      "llama_print_timings:      sample time =       4.51 ms /    21 runs   (    0.21 ms per token,  4656.32 tokens per second)\n",
      "llama_print_timings: prompt eval time =    1140.06 ms /    45 tokens (   25.33 ms per token,    39.47 tokens per second)\n",
      "llama_print_timings:        eval time =     671.29 ms /    20 runs   (   33.56 ms per token,    29.79 tokens per second)\n",
      "llama_print_timings:       total time =    1865.64 ms /    65 tokens\n",
      " 71%|███████▏  | 112/157 [06:17<02:45,  3.68s/it]Llama.generate: prefix-match hit\n"
     ]
    },
    {
     "name": "stdout",
     "output_type": "stream",
     "text": [
      "Ben Loyal is a Corbett located south of the Kyle of Tongue and offers good views of the Kyle, Loch Loyal to the east, and Ben Hope to the west.\n",
      "++++++++++++++++++++++++++++++++++++\n",
      "[{'mountain': 'Ben Hope'}]\n",
      "++++++++++++++++++++++++++++++++++++\n",
      "{'triplets': []}\n",
      "====================================\n",
      "{'model1': 'Llama-2-7b-m1ft-q4.gguf', 'model2': 'Llama-2-7b-m2ft-q4.gguf', 'sent': 'Ben Loyal is a Corbett located south of the Kyle of Tongue and offers good views of the Kyle, Loch Loyal to the east, and Ben Hope to the west.', 'triples': []}\n",
      "====================================\n"
     ]
    },
    {
     "name": "stderr",
     "output_type": "stream",
     "text": [
      "\n",
      "llama_print_timings:        load time =    4202.89 ms\n",
      "llama_print_timings:      sample time =       5.56 ms /    24 runs   (    0.23 ms per token,  4315.77 tokens per second)\n",
      "llama_print_timings: prompt eval time =     558.30 ms /    53 tokens (   10.53 ms per token,    94.93 tokens per second)\n",
      "llama_print_timings:        eval time =     770.15 ms /    23 runs   (   33.48 ms per token,    29.86 tokens per second)\n",
      "llama_print_timings:       total time =    1384.06 ms /    76 tokens\n",
      " 72%|███████▏  | 113/157 [06:18<02:11,  2.99s/it]Llama.generate: prefix-match hit\n"
     ]
    },
    {
     "name": "stdout",
     "output_type": "stream",
     "text": [
      "Nichols Rock (75Â°23S 139Â°13W) is a rock on the west side of Kinsey Ridge, which lies in the middle of Strauss Glacier in Marie Byrd Land.\n",
      "++++++++++++++++++++++++++++++++++++\n",
      "[{'mountain': 'Kinsey Ridge'}]\n",
      "++++++++++++++++++++++++++++++++++++\n",
      "{'triplets': []}\n",
      "====================================\n",
      "{'model1': 'Llama-2-7b-m1ft-q4.gguf', 'model2': 'Llama-2-7b-m2ft-q4.gguf', 'sent': 'Nichols Rock (75Â°23S 139Â°13W) is a rock on the west side of Kinsey Ridge, which lies in the middle of Strauss Glacier in Marie Byrd Land.', 'triples': []}\n",
      "====================================\n"
     ]
    },
    {
     "name": "stderr",
     "output_type": "stream",
     "text": [
      "\n",
      "llama_print_timings:        load time =    4202.89 ms\n",
      "llama_print_timings:      sample time =       5.39 ms /    25 runs   (    0.22 ms per token,  4639.08 tokens per second)\n",
      "llama_print_timings: prompt eval time =     555.84 ms /    61 tokens (    9.11 ms per token,   109.74 tokens per second)\n",
      "llama_print_timings:        eval time =     804.54 ms /    24 runs   (   33.52 ms per token,    29.83 tokens per second)\n",
      "llama_print_timings:       total time =    1420.85 ms /    85 tokens\n",
      " 73%|███████▎  | 114/157 [06:20<01:48,  2.52s/it]Llama.generate: prefix-match hit\n"
     ]
    },
    {
     "name": "stdout",
     "output_type": "stream",
     "text": [
      "Aerides, known commonly as cat's-tail orchids and fox brush orchids,  is a genus belonging to the orchid family (Orchidaceae, subfamily Epidendroideae, tribe Vandeae, subtribe Aeridinae).\n",
      "++++++++++++++++++++++++++++++++++++\n",
      "[{'taxon': 'Epidendroideae'}]\n",
      "++++++++++++++++++++++++++++++++++++\n",
      "{'triplets': []}\n",
      "====================================\n",
      "{'model1': 'Llama-2-7b-m1ft-q4.gguf', 'model2': 'Llama-2-7b-m2ft-q4.gguf', 'sent': \"Aerides, known commonly as cat's-tail orchids and fox brush orchids,  is a genus belonging to the orchid family (Orchidaceae, subfamily Epidendroideae, tribe Vandeae, subtribe Aeridinae).\", 'triples': []}\n",
      "====================================\n"
     ]
    },
    {
     "name": "stderr",
     "output_type": "stream",
     "text": [
      "\n",
      "llama_print_timings:        load time =    4202.89 ms\n",
      "llama_print_timings:      sample time =       8.76 ms /    38 runs   (    0.23 ms per token,  4337.40 tokens per second)\n",
      "llama_print_timings: prompt eval time =     832.07 ms /    93 tokens (    8.95 ms per token,   111.77 tokens per second)\n",
      "llama_print_timings:        eval time =    1216.65 ms /    37 runs   (   32.88 ms per token,    30.41 tokens per second)\n",
      "llama_print_timings:       total time =    2150.85 ms /   130 tokens\n",
      "Llama.generate: prefix-match hit\n"
     ]
    },
    {
     "name": "stdout",
     "output_type": "stream",
     "text": [
      "Mureno Peak (Bulgarian:  , romanized:Â vrah Mureno, IPA:Â [vrx morno]) is the rocky, mostly ice-free peak rising to 1100 m in the north part of Aldomir Ridge on southern Trinity Peninsula in Graham Land, Antarctica, between SjÃ¶gren and Boydell Glaciers.\n",
      "++++++++++++++++++++++++++++++++++++\n",
      "[{'mountain': 'Mureno Peak', 'mountain_range': 'Aldomir Ridge'}]\n",
      "++++++++++++++++++++++++++++++++++++\n"
     ]
    },
    {
     "name": "stderr",
     "output_type": "stream",
     "text": [
      "\n",
      "llama_print_timings:        load time =    4245.28 ms\n",
      "llama_print_timings:      sample time =       8.87 ms /    32 runs   (    0.28 ms per token,  3606.45 tokens per second)\n",
      "llama_print_timings: prompt eval time =    2983.81 ms /   238 tokens (   12.54 ms per token,    79.76 tokens per second)\n",
      "llama_print_timings:        eval time =     946.72 ms /    31 runs   (   30.54 ms per token,    32.74 tokens per second)\n",
      "llama_print_timings:       total time =    4068.52 ms /   269 tokens\n",
      " 73%|███████▎  | 115/157 [06:26<02:32,  3.63s/it]Llama.generate: prefix-match hit\n"
     ]
    },
    {
     "name": "stdout",
     "output_type": "stream",
     "text": [
      "[{'sub': 'Mureno Peak', 'rel': 'mountain range', 'obj': 'Aldomir Ridge'}]\n",
      "====================================\n",
      "{'model1': 'Llama-2-7b-m1ft-q4.gguf', 'model2': 'Llama-2-7b-m2ft-q4.gguf', 'sent': 'Mureno Peak (Bulgarian:  , romanized:Â\\xa0vrah Mureno, IPA:Â\\xa0[vrx morno]) is the rocky, mostly ice-free peak rising to 1100 m in the north part of Aldomir Ridge on southern Trinity Peninsula in Graham Land, Antarctica, between SjÃ¶gren and Boydell Glaciers.', 'triples': [{'sub': 'Mureno Peak', 'rel': 'mountain range', 'obj': 'Aldomir Ridge'}]}\n",
      "====================================\n"
     ]
    },
    {
     "name": "stderr",
     "output_type": "stream",
     "text": [
      "\n",
      "llama_print_timings:        load time =    4202.89 ms\n",
      "llama_print_timings:      sample time =       9.98 ms /    39 runs   (    0.26 ms per token,  3907.82 tokens per second)\n",
      "llama_print_timings: prompt eval time =     816.28 ms /    23 tokens (   35.49 ms per token,    28.18 tokens per second)\n",
      "llama_print_timings:        eval time =    1253.72 ms /    38 runs   (   32.99 ms per token,    30.31 tokens per second)\n",
      "llama_print_timings:       total time =    2172.70 ms /    61 tokens\n",
      "Llama.generate: prefix-match hit\n"
     ]
    },
    {
     "name": "stdout",
     "output_type": "stream",
     "text": [
      "The dam creates Lake Burley Griffin, that was established for recreational and ornamental purposes.\n",
      "++++++++++++++++++++++++++++++++++++\n",
      "[{'dam': 'Warren-Whitlock Dam', 'reservoir': 'Lake Burley Griffin'}]\n",
      "++++++++++++++++++++++++++++++++++++\n"
     ]
    },
    {
     "name": "stderr",
     "output_type": "stream",
     "text": [
      "\n",
      "llama_print_timings:        load time =    4245.28 ms\n",
      "llama_print_timings:      sample time =      15.18 ms /    36 runs   (    0.42 ms per token,  2371.39 tokens per second)\n",
      "llama_print_timings: prompt eval time =    1646.14 ms /   173 tokens (    9.52 ms per token,   105.09 tokens per second)\n",
      "llama_print_timings:        eval time =    1059.09 ms /    35 runs   (   30.26 ms per token,    33.05 tokens per second)\n",
      "llama_print_timings:       total time =    2890.69 ms /   208 tokens\n",
      " 74%|███████▍  | 116/157 [06:31<02:46,  4.07s/it]Llama.generate: prefix-match hit\n"
     ]
    },
    {
     "name": "stdout",
     "output_type": "stream",
     "text": [
      "[{'sub': 'Warren-Whitlock Dam', 'rel': 'reservoir created', 'obj': 'Lake Burley Griffin'}]\n",
      "====================================\n",
      "{'model1': 'Llama-2-7b-m1ft-q4.gguf', 'model2': 'Llama-2-7b-m2ft-q4.gguf', 'sent': 'The dam creates Lake Burley Griffin, that was established for recreational and ornamental purposes.', 'triples': [{'sub': 'Warren-Whitlock Dam', 'rel': 'reservoir created', 'obj': 'Lake Burley Griffin'}]}\n",
      "====================================\n"
     ]
    },
    {
     "name": "stderr",
     "output_type": "stream",
     "text": [
      "\n",
      "llama_print_timings:        load time =    4202.89 ms\n",
      "llama_print_timings:      sample time =       6.80 ms /    38 runs   (    0.18 ms per token,  5591.52 tokens per second)\n",
      "llama_print_timings: prompt eval time =     728.69 ms /    37 tokens (   19.69 ms per token,    50.78 tokens per second)\n",
      "llama_print_timings:        eval time =    1194.17 ms /    37 runs   (   32.27 ms per token,    30.98 tokens per second)\n",
      "llama_print_timings:       total time =    2001.03 ms /    74 tokens\n",
      "Llama.generate: prefix-match hit\n"
     ]
    },
    {
     "name": "stdout",
     "output_type": "stream",
     "text": [
      "Kretania sephirus, previously known as Plebejus sephirus, is a species of butterfly that belongs to the family Lycaenidae.\n",
      "++++++++++++++++++++++++++++++++++++\n",
      "[{'taxon': 'Plebejus sephirus', 'synonym': 'Kretania sephirus'}]\n",
      "++++++++++++++++++++++++++++++++++++\n"
     ]
    },
    {
     "name": "stderr",
     "output_type": "stream",
     "text": [
      "\n",
      "llama_print_timings:        load time =    4245.28 ms\n",
      "llama_print_timings:      sample time =       7.82 ms /    35 runs   (    0.22 ms per token,  4475.70 tokens per second)\n",
      "llama_print_timings: prompt eval time =    1812.41 ms /   186 tokens (    9.74 ms per token,   102.63 tokens per second)\n",
      "llama_print_timings:        eval time =    1014.50 ms /    34 runs   (   29.84 ms per token,    33.51 tokens per second)\n",
      "llama_print_timings:       total time =    2931.56 ms /   220 tokens\n",
      " 75%|███████▍  | 117/157 [06:36<02:53,  4.33s/it]Llama.generate: prefix-match hit\n"
     ]
    },
    {
     "name": "stdout",
     "output_type": "stream",
     "text": [
      "[{'sub': 'Kretania sephirus', 'rel': 'taxon synonym', 'obj': 'Plebejus sephirus'}]\n",
      "====================================\n",
      "{'model1': 'Llama-2-7b-m1ft-q4.gguf', 'model2': 'Llama-2-7b-m2ft-q4.gguf', 'sent': 'Kretania sephirus, previously known as Plebejus sephirus, is a species of butterfly that belongs to the family Lycaenidae.', 'triples': [{'sub': 'Kretania sephirus', 'rel': 'taxon synonym', 'obj': 'Plebejus sephirus'}]}\n",
      "====================================\n"
     ]
    },
    {
     "name": "stderr",
     "output_type": "stream",
     "text": [
      "\n",
      "llama_print_timings:        load time =    4202.89 ms\n",
      "llama_print_timings:      sample time =       4.91 ms /    24 runs   (    0.20 ms per token,  4887.98 tokens per second)\n",
      "llama_print_timings: prompt eval time =     759.00 ms /    34 tokens (   22.32 ms per token,    44.80 tokens per second)\n",
      "llama_print_timings:        eval time =     737.64 ms /    23 runs   (   32.07 ms per token,    31.18 tokens per second)\n",
      "llama_print_timings:       total time =    1551.53 ms /    57 tokens\n",
      " 75%|███████▌  | 118/157 [06:37<02:16,  3.50s/it]Llama.generate: prefix-match hit\n"
     ]
    },
    {
     "name": "stdout",
     "output_type": "stream",
     "text": [
      "North Wabassie River is in the James Bay drainage basin and is a right tributary of the Atikameg River.\n",
      "++++++++++++++++++++++++++++++++++++\n",
      "[{'watercourse': 'Atikameg River'}]\n",
      "++++++++++++++++++++++++++++++++++++\n",
      "{'triplets': []}\n",
      "====================================\n",
      "{'model1': 'Llama-2-7b-m1ft-q4.gguf', 'model2': 'Llama-2-7b-m2ft-q4.gguf', 'sent': 'North Wabassie River is in the James Bay drainage basin and is a right tributary of the Atikameg River.', 'triples': []}\n",
      "====================================\n"
     ]
    },
    {
     "name": "stderr",
     "output_type": "stream",
     "text": [
      "\n",
      "llama_print_timings:        load time =    4202.89 ms\n",
      "llama_print_timings:      sample time =       4.70 ms /    22 runs   (    0.21 ms per token,  4679.86 tokens per second)\n",
      "llama_print_timings: prompt eval time =     409.27 ms /    34 tokens (   12.04 ms per token,    83.07 tokens per second)\n",
      "llama_print_timings:        eval time =     676.52 ms /    21 runs   (   32.22 ms per token,    31.04 tokens per second)\n",
      "llama_print_timings:       total time =    1135.72 ms /    55 tokens\n",
      " 76%|███████▌  | 119/157 [06:39<01:46,  2.79s/it]Llama.generate: prefix-match hit\n"
     ]
    },
    {
     "name": "stdout",
     "output_type": "stream",
     "text": [
      "Volp is a right tributary of the Garonne, which it joins upstream of Cazères, Haute-Garonne.\n",
      "++++++++++++++++++++++++++++++++++++\n",
      "[{'watercourse': 'Garonne'}]\n",
      "++++++++++++++++++++++++++++++++++++\n",
      "{'triplets': []}\n",
      "====================================\n",
      "{'model1': 'Llama-2-7b-m1ft-q4.gguf', 'model2': 'Llama-2-7b-m2ft-q4.gguf', 'sent': 'Volp is a right tributary of the Garonne, which it joins upstream of Cazères, Haute-Garonne.', 'triples': []}\n",
      "====================================\n"
     ]
    },
    {
     "name": "stderr",
     "output_type": "stream",
     "text": [
      "\n",
      "llama_print_timings:        load time =    4202.89 ms\n",
      "llama_print_timings:      sample time =       5.43 ms /    22 runs   (    0.25 ms per token,  4049.33 tokens per second)\n",
      "llama_print_timings: prompt eval time =     409.61 ms /    34 tokens (   12.05 ms per token,    83.01 tokens per second)\n",
      "llama_print_timings:        eval time =     675.68 ms /    21 runs   (   32.18 ms per token,    31.08 tokens per second)\n",
      "llama_print_timings:       total time =    1141.09 ms /    55 tokens\n",
      " 76%|███████▋  | 120/157 [06:40<01:25,  2.30s/it]Llama.generate: prefix-match hit\n"
     ]
    },
    {
     "name": "stdout",
     "output_type": "stream",
     "text": [
      "Barguelonne is a right tributary of the Garonne into which it flows between Golfech and LamagistÃ¨re.\n",
      "++++++++++++++++++++++++++++++++++++\n",
      "[{'watercourse': 'Garonne'}]\n",
      "++++++++++++++++++++++++++++++++++++\n",
      "{'triplets': []}\n",
      "====================================\n",
      "{'model1': 'Llama-2-7b-m1ft-q4.gguf', 'model2': 'Llama-2-7b-m2ft-q4.gguf', 'sent': 'Barguelonne is a right tributary of the Garonne into which it flows between Golfech and LamagistÃ¨re.', 'triples': []}\n",
      "====================================\n"
     ]
    },
    {
     "name": "stderr",
     "output_type": "stream",
     "text": [
      "\n",
      "llama_print_timings:        load time =    4202.89 ms\n",
      "llama_print_timings:      sample time =       6.05 ms /    33 runs   (    0.18 ms per token,  5453.64 tokens per second)\n",
      "llama_print_timings: prompt eval time =     276.84 ms /    27 tokens (   10.25 ms per token,    97.53 tokens per second)\n",
      "llama_print_timings:        eval time =    1027.26 ms /    32 runs   (   32.10 ms per token,    31.15 tokens per second)\n",
      "llama_print_timings:       total time =    1370.24 ms /    59 tokens\n",
      "Llama.generate: prefix-match hit\n"
     ]
    },
    {
     "name": "stdout",
     "output_type": "stream",
     "text": [
      "Mount Foraker is the second highest peak in the Alaska Range, and the third highest peak in the United States.\n",
      "++++++++++++++++++++++++++++++++++++\n",
      "[{'mountain': 'Mount Foraker', 'mountain_range': 'Alaska Range'}]\n",
      "++++++++++++++++++++++++++++++++++++\n"
     ]
    },
    {
     "name": "stderr",
     "output_type": "stream",
     "text": [
      "\n",
      "llama_print_timings:        load time =    4245.28 ms\n",
      "llama_print_timings:      sample time =       5.52 ms /    27 runs   (    0.20 ms per token,  4887.76 tokens per second)\n",
      "llama_print_timings: prompt eval time =    1966.60 ms /   171 tokens (   11.50 ms per token,    86.95 tokens per second)\n",
      "llama_print_timings:        eval time =     815.19 ms /    26 runs   (   31.35 ms per token,    31.89 tokens per second)\n",
      "llama_print_timings:       total time =    2859.44 ms /   197 tokens\n",
      " 77%|███████▋  | 121/157 [06:44<01:43,  2.88s/it]Llama.generate: prefix-match hit\n"
     ]
    },
    {
     "name": "stdout",
     "output_type": "stream",
     "text": [
      "[{'sub': 'Mount Foraker', 'rel': 'mountain range', 'obj': 'Alaska Range'}]\n",
      "====================================\n",
      "{'model1': 'Llama-2-7b-m1ft-q4.gguf', 'model2': 'Llama-2-7b-m2ft-q4.gguf', 'sent': 'Mount Foraker is the second highest peak in the Alaska Range, and the third highest peak in the United States.', 'triples': [{'sub': 'Mount Foraker', 'rel': 'mountain range', 'obj': 'Alaska Range'}]}\n",
      "====================================\n"
     ]
    },
    {
     "name": "stderr",
     "output_type": "stream",
     "text": [
      "\n",
      "llama_print_timings:        load time =    4202.89 ms\n",
      "llama_print_timings:      sample time =       5.70 ms /    21 runs   (    0.27 ms per token,  3683.56 tokens per second)\n",
      "llama_print_timings: prompt eval time =     561.08 ms /    40 tokens (   14.03 ms per token,    71.29 tokens per second)\n",
      "llama_print_timings:        eval time =     662.31 ms /    20 runs   (   33.12 ms per token,    30.20 tokens per second)\n",
      "llama_print_timings:       total time =    1289.35 ms /    60 tokens\n",
      " 78%|███████▊  | 122/157 [06:45<01:24,  2.41s/it]Llama.generate: prefix-match hit\n"
     ]
    },
    {
     "name": "stdout",
     "output_type": "stream",
     "text": [
      "Schwabinger Bach starts in the centre of Munich, flows through the Englischer Garten and flows into the Isar near Garching bei MÃ¼nchen.\n",
      "++++++++++++++++++++++++++++++++++++\n",
      "[{'watercourse': 'Isar'}]\n",
      "++++++++++++++++++++++++++++++++++++\n",
      "{'triplets': []}\n",
      "====================================\n",
      "{'model1': 'Llama-2-7b-m1ft-q4.gguf', 'model2': 'Llama-2-7b-m2ft-q4.gguf', 'sent': 'Schwabinger Bach starts in the centre of Munich, flows through the Englischer Garten and flows into the Isar near Garching bei MÃ¼nchen.', 'triples': []}\n",
      "====================================\n"
     ]
    },
    {
     "name": "stderr",
     "output_type": "stream",
     "text": [
      "\n",
      "llama_print_timings:        load time =    4202.89 ms\n",
      "llama_print_timings:      sample time =       5.40 ms /    23 runs   (    0.23 ms per token,  4259.26 tokens per second)\n",
      "llama_print_timings: prompt eval time =     417.61 ms /    34 tokens (   12.28 ms per token,    81.42 tokens per second)\n",
      "llama_print_timings:        eval time =     716.15 ms /    22 runs   (   32.55 ms per token,    30.72 tokens per second)\n",
      "llama_print_timings:       total time =    1192.56 ms /    56 tokens\n",
      " 78%|███████▊  | 123/157 [06:46<01:09,  2.05s/it]Llama.generate: prefix-match hit\n"
     ]
    },
    {
     "name": "stdout",
     "output_type": "stream",
     "text": [
      "Pointe de Zinal is situated east of the Dent Blanche, between the valleys of Zinal and Zmutt (Zermatt).\n",
      "++++++++++++++++++++++++++++++++++++\n",
      "[{'mountain': 'Dent Blanche'}]\n",
      "++++++++++++++++++++++++++++++++++++\n",
      "{'triplets': []}\n",
      "====================================\n",
      "{'model1': 'Llama-2-7b-m1ft-q4.gguf', 'model2': 'Llama-2-7b-m2ft-q4.gguf', 'sent': 'Pointe de Zinal is situated east of the Dent Blanche, between the valleys of Zinal and Zmutt (Zermatt).', 'triples': []}\n",
      "====================================\n"
     ]
    },
    {
     "name": "stderr",
     "output_type": "stream",
     "text": [
      "\n",
      "llama_print_timings:        load time =    4202.89 ms\n",
      "llama_print_timings:      sample time =       4.34 ms /    22 runs   (    0.20 ms per token,  5070.29 tokens per second)\n",
      "llama_print_timings: prompt eval time =     277.20 ms /    32 tokens (    8.66 ms per token,   115.44 tokens per second)\n",
      "llama_print_timings:        eval time =     703.87 ms /    22 runs   (   31.99 ms per token,    31.26 tokens per second)\n",
      "llama_print_timings:       total time =    1028.89 ms /    54 tokens\n",
      " 79%|███████▉  | 124/157 [06:47<00:57,  1.74s/it]Llama.generate: prefix-match hit\n"
     ]
    },
    {
     "name": "stdout",
     "output_type": "stream",
     "text": [
      "The rivers Wiltz, Alzette, White Ernz, Black Ernz, Our, and PrÃ¼m are tributaries.\n",
      "++++++++++++++++++++++++++++++++++++\n",
      "[{'watercourse': 'Alzette'}]\n",
      "++++++++++++++++++++++++++++++++++++\n",
      "{'triplets': []}\n",
      "====================================\n",
      "{'model1': 'Llama-2-7b-m1ft-q4.gguf', 'model2': 'Llama-2-7b-m2ft-q4.gguf', 'sent': 'The rivers Wiltz, Alzette, White Ernz, Black Ernz, Our, and PrÃ¼m are tributaries.', 'triples': []}\n",
      "====================================\n"
     ]
    },
    {
     "name": "stderr",
     "output_type": "stream",
     "text": [
      "\n",
      "llama_print_timings:        load time =    4202.89 ms\n",
      "llama_print_timings:      sample time =       4.72 ms /    23 runs   (    0.21 ms per token,  4874.95 tokens per second)\n",
      "llama_print_timings: prompt eval time =     413.43 ms /    38 tokens (   10.88 ms per token,    91.91 tokens per second)\n",
      "llama_print_timings:        eval time =     713.61 ms /    22 runs   (   32.44 ms per token,    30.83 tokens per second)\n",
      "llama_print_timings:       total time =    1178.66 ms /    60 tokens\n",
      " 80%|███████▉  | 125/157 [06:49<00:50,  1.57s/it]Llama.generate: prefix-match hit\n"
     ]
    },
    {
     "name": "stdout",
     "output_type": "stream",
     "text": [
      "Piz Fliana is a mountain of the Silvretta Alps, located south of Piz Buin in the Swiss canton of GraubÃ¼nden.\n",
      "++++++++++++++++++++++++++++++++++++\n",
      "[{'mountain': 'Piz Buin'}]\n",
      "++++++++++++++++++++++++++++++++++++\n",
      "{'triplets': []}\n",
      "====================================\n",
      "{'model1': 'Llama-2-7b-m1ft-q4.gguf', 'model2': 'Llama-2-7b-m2ft-q4.gguf', 'sent': 'Piz Fliana is a mountain of the Silvretta Alps, located south of Piz Buin in the Swiss canton of GraubÃ¼nden.', 'triples': []}\n",
      "====================================\n"
     ]
    },
    {
     "name": "stderr",
     "output_type": "stream",
     "text": [
      "\n",
      "llama_print_timings:        load time =    4202.89 ms\n",
      "llama_print_timings:      sample time =       4.83 ms /    23 runs   (    0.21 ms per token,  4766.84 tokens per second)\n",
      "llama_print_timings: prompt eval time =     418.91 ms /    39 tokens (   10.74 ms per token,    93.10 tokens per second)\n",
      "llama_print_timings:        eval time =     701.98 ms /    22 runs   (   31.91 ms per token,    31.34 tokens per second)\n",
      "llama_print_timings:       total time =    1172.97 ms /    61 tokens\n",
      " 80%|████████  | 126/157 [06:50<00:45,  1.46s/it]Llama.generate: prefix-match hit\n"
     ]
    },
    {
     "name": "stdout",
     "output_type": "stream",
     "text": [
      "The Bhaga river transverses through narrow gorges a distance of 60 km (37 mi) before the confluence at Tandi.\n",
      "++++++++++++++++++++++++++++++++++++\n",
      "[{'watercourse': 'Bhaga River'}]\n",
      "++++++++++++++++++++++++++++++++++++\n",
      "{'triplets': []}\n",
      "====================================\n",
      "{'model1': 'Llama-2-7b-m1ft-q4.gguf', 'model2': 'Llama-2-7b-m2ft-q4.gguf', 'sent': 'The Bhaga river transverses through narrow gorges a distance of 60\\xa0km (37\\xa0mi) before the confluence at Tandi.', 'triples': []}\n",
      "====================================\n"
     ]
    },
    {
     "name": "stderr",
     "output_type": "stream",
     "text": [
      "\n",
      "llama_print_timings:        load time =    4202.89 ms\n",
      "llama_print_timings:      sample time =       4.42 ms /    22 runs   (    0.20 ms per token,  4979.63 tokens per second)\n",
      "llama_print_timings: prompt eval time =     138.58 ms /    16 tokens (    8.66 ms per token,   115.46 tokens per second)\n",
      "llama_print_timings:        eval time =     705.01 ms /    22 runs   (   32.05 ms per token,    31.21 tokens per second)\n",
      "llama_print_timings:       total time =     891.66 ms /    38 tokens\n",
      " 81%|████████  | 127/157 [06:51<00:38,  1.29s/it]Llama.generate: prefix-match hit\n"
     ]
    },
    {
     "name": "stdout",
     "output_type": "stream",
     "text": [
      "Niger River's main tributary is the Benue River.\n",
      "++++++++++++++++++++++++++++++++++++\n",
      "[{'watercourse': 'Benue River'}]\n",
      "++++++++++++++++++++++++++++++++++++\n",
      "{'triplets': []}\n",
      "====================================\n",
      "{'model1': 'Llama-2-7b-m1ft-q4.gguf', 'model2': 'Llama-2-7b-m2ft-q4.gguf', 'sent': \"Niger River's main tributary is the Benue River.\", 'triples': []}\n",
      "====================================\n"
     ]
    },
    {
     "name": "stderr",
     "output_type": "stream",
     "text": [
      "\n",
      "llama_print_timings:        load time =    4202.89 ms\n",
      "llama_print_timings:      sample time =      11.97 ms /    38 runs   (    0.31 ms per token,  3174.87 tokens per second)\n",
      "llama_print_timings: prompt eval time =     689.78 ms /    67 tokens (   10.30 ms per token,    97.13 tokens per second)\n",
      "llama_print_timings:        eval time =    1223.21 ms /    37 runs   (   33.06 ms per token,    30.25 tokens per second)\n",
      "llama_print_timings:       total time =    2042.18 ms /   104 tokens\n",
      "Llama.generate: prefix-match hit\n"
     ]
    },
    {
     "name": "stdout",
     "output_type": "stream",
     "text": [
      "Brautnuten Peak (71Â°46S 1Â°21W) is a low peak 5 nautical miles (9Â km) southeast of SnÃ¸kallen Hill, on the east side of Ahlmann Ridge in Queen Maud Land.\n",
      "++++++++++++++++++++++++++++++++++++\n",
      "[{'mountain': 'Brautnuten Peak', 'mountain_range': 'Ahlmann Ridge'}]\n",
      "++++++++++++++++++++++++++++++++++++\n"
     ]
    },
    {
     "name": "stderr",
     "output_type": "stream",
     "text": [
      "\n",
      "llama_print_timings:        load time =    4245.28 ms\n",
      "llama_print_timings:      sample time =       9.29 ms /    32 runs   (    0.29 ms per token,  3443.45 tokens per second)\n",
      "llama_print_timings: prompt eval time =    2438.00 ms /   212 tokens (   11.50 ms per token,    86.96 tokens per second)\n",
      "llama_print_timings:        eval time =     948.18 ms /    31 runs   (   30.59 ms per token,    32.69 tokens per second)\n",
      "llama_print_timings:       total time =    3504.56 ms /   243 tokens\n",
      " 82%|████████▏ | 128/157 [06:56<01:14,  2.57s/it]Llama.generate: prefix-match hit\n"
     ]
    },
    {
     "name": "stdout",
     "output_type": "stream",
     "text": [
      "[{'sub': 'Brautnuten Peak', 'rel': 'mountain range', 'obj': 'Ahlmann Ridge'}]\n",
      "====================================\n",
      "{'model1': 'Llama-2-7b-m1ft-q4.gguf', 'model2': 'Llama-2-7b-m2ft-q4.gguf', 'sent': 'Brautnuten Peak (71Â°46S 1Â°21W) is a low peak 5 nautical miles (9Â\\xa0km) southeast of SnÃ¸kallen Hill, on the east side of Ahlmann Ridge in Queen Maud Land.', 'triples': [{'sub': 'Brautnuten Peak', 'rel': 'mountain range', 'obj': 'Ahlmann Ridge'}]}\n",
      "====================================\n"
     ]
    },
    {
     "name": "stderr",
     "output_type": "stream",
     "text": [
      "\n",
      "llama_print_timings:        load time =    4202.89 ms\n",
      "llama_print_timings:      sample time =       8.85 ms /    39 runs   (    0.23 ms per token,  4409.27 tokens per second)\n",
      "llama_print_timings: prompt eval time =    1037.50 ms /    52 tokens (   19.95 ms per token,    50.12 tokens per second)\n",
      "llama_print_timings:        eval time =    1283.10 ms /    38 runs   (   33.77 ms per token,    29.62 tokens per second)\n",
      "llama_print_timings:       total time =    2438.34 ms /    90 tokens\n",
      "Llama.generate: prefix-match hit\n"
     ]
    },
    {
     "name": "stdout",
     "output_type": "stream",
     "text": [
      "River Artro is about 4.5 miles (7.2Â km) long and has its source at Llyn Cwm Bychan below Rhinog Fawr and Moel Ysgyfarnogod.\n",
      "++++++++++++++++++++++++++++++++++++\n",
      "[{'watercourse': 'River Artro', 'body_of_water': 'Llyn Cwm Bychan'}]\n",
      "++++++++++++++++++++++++++++++++++++\n"
     ]
    },
    {
     "name": "stderr",
     "output_type": "stream",
     "text": [
      "\n",
      "llama_print_timings:        load time =    4245.28 ms\n",
      "llama_print_timings:      sample time =       7.43 ms /    34 runs   (    0.22 ms per token,  4575.43 tokens per second)\n",
      "llama_print_timings: prompt eval time =    2286.25 ms /   202 tokens (   11.32 ms per token,    88.35 tokens per second)\n",
      "llama_print_timings:        eval time =    1034.49 ms /    33 runs   (   31.35 ms per token,    31.90 tokens per second)\n",
      "llama_print_timings:       total time =    3420.93 ms /   235 tokens\n",
      " 82%|████████▏ | 129/157 [07:02<01:39,  3.57s/it]Llama.generate: prefix-match hit\n"
     ]
    },
    {
     "name": "stdout",
     "output_type": "stream",
     "text": [
      "[{'sub': 'River Artro', 'rel': 'origin of the watercourse', 'obj': 'Llyn Cwm Bychan'}]\n",
      "====================================\n",
      "{'model1': 'Llama-2-7b-m1ft-q4.gguf', 'model2': 'Llama-2-7b-m2ft-q4.gguf', 'sent': 'River Artro is about 4.5 miles (7.2Â\\xa0km) long and has its source at Llyn Cwm Bychan below Rhinog Fawr and Moel Ysgyfarnogod.', 'triples': [{'sub': 'River Artro', 'rel': 'origin of the watercourse', 'obj': 'Llyn Cwm Bychan'}]}\n",
      "====================================\n"
     ]
    },
    {
     "name": "stderr",
     "output_type": "stream",
     "text": [
      "\n",
      "llama_print_timings:        load time =    4202.89 ms\n",
      "llama_print_timings:      sample time =       7.15 ms /    38 runs   (    0.19 ms per token,  5316.92 tokens per second)\n",
      "llama_print_timings: prompt eval time =     783.30 ms /    32 tokens (   24.48 ms per token,    40.85 tokens per second)\n",
      "llama_print_timings:        eval time =    1231.05 ms /    37 runs   (   33.27 ms per token,    30.06 tokens per second)\n",
      "llama_print_timings:       total time =    2096.90 ms /    69 tokens\n",
      "Llama.generate: prefix-match hit\n"
     ]
    },
    {
     "name": "stdout",
     "output_type": "stream",
     "text": [
      "Nemegosenda River is in the James Bay drainage basin, and is a right tributary of the Kapuskasing River.\n",
      "++++++++++++++++++++++++++++++++++++\n",
      "[{'watercourse': 'Nemegosenda River', 'drainage_basin': 'James Bay Basin'}]\n",
      "++++++++++++++++++++++++++++++++++++\n"
     ]
    },
    {
     "name": "stderr",
     "output_type": "stream",
     "text": [
      "\n",
      "llama_print_timings:        load time =    4245.28 ms\n",
      "llama_print_timings:      sample time =      14.28 ms /    62 runs   (    0.23 ms per token,  4341.74 tokens per second)\n",
      "llama_print_timings: prompt eval time =    1786.35 ms /   176 tokens (   10.15 ms per token,    98.53 tokens per second)\n",
      "llama_print_timings:        eval time =    1927.94 ms /    62 runs   (   31.10 ms per token,    32.16 tokens per second)\n",
      "llama_print_timings:       total time =    3893.70 ms /   238 tokens\n",
      " 83%|████████▎ | 130/157 [07:08<01:56,  4.30s/it]Llama.generate: prefix-match hit\n"
     ]
    },
    {
     "name": "stdout",
     "output_type": "stream",
     "text": [
      "[{'sub': 'Nemegosenda River', 'rel': 'mouth of the watercourse', 'obj': 'Kapuskasing River'}, {'sub': 'Nemegosenda River', 'rel': 'drainage basin', 'obj': 'James Bay Basin'}]\n",
      "====================================\n",
      "{'model1': 'Llama-2-7b-m1ft-q4.gguf', 'model2': 'Llama-2-7b-m2ft-q4.gguf', 'sent': 'Nemegosenda River is in the James Bay drainage basin, and is a right tributary of the Kapuskasing River.', 'triples': [{'sub': 'Nemegosenda River', 'rel': 'mouth of the watercourse', 'obj': 'Kapuskasing River'}, {'sub': 'Nemegosenda River', 'rel': 'drainage basin', 'obj': 'James Bay Basin'}]}\n",
      "====================================\n"
     ]
    },
    {
     "name": "stderr",
     "output_type": "stream",
     "text": [
      "\n",
      "llama_print_timings:        load time =    4202.89 ms\n",
      "llama_print_timings:      sample time =       4.41 ms /    23 runs   (    0.19 ms per token,  5211.87 tokens per second)\n",
      "llama_print_timings: prompt eval time =    1466.60 ms /    39 tokens (   37.61 ms per token,    26.59 tokens per second)\n",
      "llama_print_timings:        eval time =     708.21 ms /    22 runs   (   32.19 ms per token,    31.06 tokens per second)\n",
      "llama_print_timings:       total time =    2230.61 ms /    61 tokens\n",
      " 83%|████████▎ | 131/157 [07:10<01:35,  3.68s/it]Llama.generate: prefix-match hit\n"
     ]
    },
    {
     "name": "stdout",
     "output_type": "stream",
     "text": [
      "The family belongs to the ostariophysian order Cypriniformes, of whose genera and species the cyprinids make up more than two-thirds.\n",
      "++++++++++++++++++++++++++++++++++++\n",
      "[{'taxon': 'Cypriniformes'}]\n",
      "++++++++++++++++++++++++++++++++++++\n",
      "{'triplets': []}\n",
      "====================================\n",
      "{'model1': 'Llama-2-7b-m1ft-q4.gguf', 'model2': 'Llama-2-7b-m2ft-q4.gguf', 'sent': 'The family belongs to the ostariophysian order Cypriniformes, of whose genera and species the cyprinids make up more than two-thirds.', 'triples': []}\n",
      "====================================\n"
     ]
    },
    {
     "name": "stderr",
     "output_type": "stream",
     "text": [
      "\n",
      "llama_print_timings:        load time =    4202.89 ms\n",
      "llama_print_timings:      sample time =      11.21 ms /    40 runs   (    0.28 ms per token,  3567.92 tokens per second)\n",
      "llama_print_timings: prompt eval time =     414.62 ms /    48 tokens (    8.64 ms per token,   115.77 tokens per second)\n",
      "llama_print_timings:        eval time =    1293.90 ms /    40 runs   (   32.35 ms per token,    30.91 tokens per second)\n",
      "llama_print_timings:       total time =    1827.18 ms /    88 tokens\n",
      "Llama.generate: prefix-match hit\n"
     ]
    },
    {
     "name": "stdout",
     "output_type": "stream",
     "text": [
      "Pizzo Pesciora (or Poncione di Pesciora) is a mountain in the Lepontine Alps, located on the border between the Swiss cantons of Valais and Ticino.\n",
      "++++++++++++++++++++++++++++++++++++\n",
      "[{'mountain': 'Pizzo Pesciora', 'mountain_range': 'Lepontine Alps'}]\n",
      "++++++++++++++++++++++++++++++++++++\n"
     ]
    },
    {
     "name": "stderr",
     "output_type": "stream",
     "text": [
      "\n",
      "llama_print_timings:        load time =    4245.28 ms\n",
      "llama_print_timings:      sample time =       6.54 ms /    34 runs   (    0.19 ms per token,  5201.96 tokens per second)\n",
      "llama_print_timings: prompt eval time =    2373.61 ms /   200 tokens (   11.87 ms per token,    84.26 tokens per second)\n",
      "llama_print_timings:        eval time =     990.96 ms /    33 runs   (   30.03 ms per token,    33.30 tokens per second)\n",
      "llama_print_timings:       total time =    3455.94 ms /   233 tokens\n",
      " 84%|████████▍ | 132/157 [07:16<01:44,  4.17s/it]Llama.generate: prefix-match hit\n"
     ]
    },
    {
     "name": "stdout",
     "output_type": "stream",
     "text": [
      "[{'sub': 'Pizzo Pesciora', 'rel': 'mountain range', 'obj': 'Lepontine Alps'}]\n",
      "====================================\n",
      "{'model1': 'Llama-2-7b-m1ft-q4.gguf', 'model2': 'Llama-2-7b-m2ft-q4.gguf', 'sent': 'Pizzo Pesciora (or Poncione di Pesciora) is a mountain in the Lepontine Alps, located on the border between the Swiss cantons of Valais and Ticino.', 'triples': [{'sub': 'Pizzo Pesciora', 'rel': 'mountain range', 'obj': 'Lepontine Alps'}]}\n",
      "====================================\n"
     ]
    },
    {
     "name": "stderr",
     "output_type": "stream",
     "text": [
      "\n",
      "llama_print_timings:        load time =    4202.89 ms\n",
      "llama_print_timings:      sample time =       4.98 ms /    27 runs   (    0.18 ms per token,  5421.69 tokens per second)\n",
      "llama_print_timings: prompt eval time =    1647.76 ms /    34 tokens (   48.46 ms per token,    20.63 tokens per second)\n",
      "llama_print_timings:        eval time =     842.21 ms /    26 runs   (   32.39 ms per token,    30.87 tokens per second)\n",
      "llama_print_timings:       total time =    2547.98 ms /    60 tokens\n",
      " 85%|████████▍ | 133/157 [07:18<01:28,  3.69s/it]Llama.generate: prefix-match hit\n"
     ]
    },
    {
     "name": "stdout",
     "output_type": "stream",
     "text": [
      "The black scoter (M. americana) of North America and eastern Siberia is sometimes considered a subspecies of M. nigra.\n",
      "++++++++++++++++++++++++++++++++++++\n",
      "[{'taxon': 'Melanitta nigra'}]\n",
      "++++++++++++++++++++++++++++++++++++\n",
      "{'triplets': []}\n",
      "====================================\n",
      "{'model1': 'Llama-2-7b-m1ft-q4.gguf', 'model2': 'Llama-2-7b-m2ft-q4.gguf', 'sent': 'The black scoter (M. americana) of North America and eastern Siberia is sometimes considered a subspecies of M. nigra.', 'triples': []}\n",
      "====================================\n"
     ]
    },
    {
     "name": "stderr",
     "output_type": "stream",
     "text": [
      "\n",
      "llama_print_timings:        load time =    4202.89 ms\n",
      "llama_print_timings:      sample time =       8.04 ms /    37 runs   (    0.22 ms per token,  4604.28 tokens per second)\n",
      "llama_print_timings: prompt eval time =     275.86 ms /    29 tokens (    9.51 ms per token,   105.13 tokens per second)\n",
      "llama_print_timings:        eval time =    1186.43 ms /    36 runs   (   32.96 ms per token,    30.34 tokens per second)\n",
      "llama_print_timings:       total time =    1546.98 ms /    65 tokens\n",
      "Llama.generate: prefix-match hit\n"
     ]
    },
    {
     "name": "stdout",
     "output_type": "stream",
     "text": [
      "Arthurs galaxias (Paragalaxias mesotes) is a species of fish in the family Galaxiidae.\n",
      "++++++++++++++++++++++++++++++++++++\n",
      "[{'taxon': 'Arthurs galaxias', 'synonym': 'Paragalaxias mesotes'}]\n",
      "++++++++++++++++++++++++++++++++++++\n"
     ]
    },
    {
     "name": "stderr",
     "output_type": "stream",
     "text": [
      "\n",
      "llama_print_timings:        load time =    4245.28 ms\n",
      "llama_print_timings:      sample time =       5.81 ms /    34 runs   (    0.17 ms per token,  5849.97 tokens per second)\n",
      "llama_print_timings: prompt eval time =    2961.11 ms /   176 tokens (   16.82 ms per token,    59.44 tokens per second)\n",
      "llama_print_timings:        eval time =    1006.47 ms /    34 runs   (   29.60 ms per token,    33.78 tokens per second)\n",
      "llama_print_timings:       total time =    4041.40 ms /   210 tokens\n",
      " 85%|████████▌ | 134/157 [07:24<01:37,  4.26s/it]Llama.generate: prefix-match hit\n"
     ]
    },
    {
     "name": "stdout",
     "output_type": "stream",
     "text": [
      "[{'sub': 'Arthurs galaxias', 'rel': 'taxon synonym', 'obj': 'Paragalaxias mesotes'}]\n",
      "====================================\n",
      "{'model1': 'Llama-2-7b-m1ft-q4.gguf', 'model2': 'Llama-2-7b-m2ft-q4.gguf', 'sent': 'Arthurs galaxias (Paragalaxias mesotes) is a species of fish in the family Galaxiidae.', 'triples': [{'sub': 'Arthurs galaxias', 'rel': 'taxon synonym', 'obj': 'Paragalaxias mesotes'}]}\n",
      "====================================\n"
     ]
    },
    {
     "name": "stderr",
     "output_type": "stream",
     "text": [
      "\n",
      "llama_print_timings:        load time =    4202.89 ms\n",
      "llama_print_timings:      sample time =       2.80 ms /    13 runs   (    0.22 ms per token,  4647.84 tokens per second)\n",
      "llama_print_timings: prompt eval time =    1473.82 ms /    18 tokens (   81.88 ms per token,    12.21 tokens per second)\n",
      "llama_print_timings:        eval time =     388.92 ms /    12 runs   (   32.41 ms per token,    30.85 tokens per second)\n",
      "llama_print_timings:       total time =    1895.57 ms /    30 tokens\n",
      " 86%|████████▌ | 135/157 [07:26<01:18,  3.55s/it]Llama.generate: prefix-match hit\n"
     ]
    },
    {
     "name": "stdout",
     "output_type": "stream",
     "text": [
      "The race was won by Luis León Sánchez of the Astana team.\n",
      "++++++++++++++++++++++++++++++++++++\n",
      "[{}]\n",
      "++++++++++++++++++++++++++++++++++++\n",
      "{'triplets': []}\n",
      "====================================\n",
      "{'model1': 'Llama-2-7b-m1ft-q4.gguf', 'model2': 'Llama-2-7b-m2ft-q4.gguf', 'sent': 'The race was won by Luis León Sánchez of the Astana team.', 'triples': []}\n",
      "====================================\n"
     ]
    },
    {
     "name": "stderr",
     "output_type": "stream",
     "text": [
      "\n",
      "llama_print_timings:        load time =    4202.89 ms\n",
      "llama_print_timings:      sample time =       7.39 ms /    39 runs   (    0.19 ms per token,  5275.97 tokens per second)\n",
      "llama_print_timings: prompt eval time =     277.55 ms /    32 tokens (    8.67 ms per token,   115.29 tokens per second)\n",
      "llama_print_timings:        eval time =    1217.59 ms /    38 runs   (   32.04 ms per token,    31.21 tokens per second)\n",
      "llama_print_timings:       total time =    1576.32 ms /    70 tokens\n",
      "Llama.generate: prefix-match hit\n"
     ]
    },
    {
     "name": "stdout",
     "output_type": "stream",
     "text": [
      "The Dubăsari Dam creates the Dubăsari reservoir (Romanian: Rezervuarul Dubăsari).\n",
      "++++++++++++++++++++++++++++++++++++\n",
      "[{'dam': 'Dubăsari Dam', 'reservoir': 'Dubăsari reservoir'}]\n",
      "++++++++++++++++++++++++++++++++++++\n"
     ]
    },
    {
     "name": "stderr",
     "output_type": "stream",
     "text": [
      "\n",
      "llama_print_timings:        load time =    4245.28 ms\n",
      "llama_print_timings:      sample time =       8.41 ms /    46 runs   (    0.18 ms per token,  5467.08 tokens per second)\n",
      "llama_print_timings: prompt eval time =    2055.32 ms /   183 tokens (   11.23 ms per token,    89.04 tokens per second)\n",
      "llama_print_timings:        eval time =    1338.25 ms /    45 runs   (   29.74 ms per token,    33.63 tokens per second)\n",
      "llama_print_timings:       total time =    3496.73 ms /   228 tokens\n",
      " 87%|████████▋ | 136/157 [07:31<01:24,  4.01s/it]Llama.generate: prefix-match hit\n"
     ]
    },
    {
     "name": "stdout",
     "output_type": "stream",
     "text": [
      "[{'sub': 'Dubâsari Dam', 'rel': 'reservoir created', 'obj': 'Dubâsari reservoir'}]\n",
      "====================================\n",
      "{'model1': 'Llama-2-7b-m1ft-q4.gguf', 'model2': 'Llama-2-7b-m2ft-q4.gguf', 'sent': 'The Dubăsari Dam creates the Dubăsari reservoir (Romanian: Rezervuarul Dubăsari).', 'triples': [{'sub': 'Dubâsari Dam', 'rel': 'reservoir created', 'obj': 'Dubâsari reservoir'}]}\n",
      "====================================\n"
     ]
    },
    {
     "name": "stderr",
     "output_type": "stream",
     "text": [
      "\n",
      "llama_print_timings:        load time =    4202.89 ms\n",
      "llama_print_timings:      sample time =       4.39 ms /    23 runs   (    0.19 ms per token,  5234.41 tokens per second)\n",
      "llama_print_timings: prompt eval time =     581.05 ms /    25 tokens (   23.24 ms per token,    43.03 tokens per second)\n",
      "llama_print_timings:        eval time =     703.96 ms /    22 runs   (   32.00 ms per token,    31.25 tokens per second)\n",
      "llama_print_timings:       total time =    1335.56 ms /    47 tokens\n",
      " 87%|████████▋ | 137/157 [07:32<01:04,  3.21s/it]Llama.generate: prefix-match hit\n"
     ]
    },
    {
     "name": "stdout",
     "output_type": "stream",
     "text": [
      "Sesamum is a genus of about 20 species in the flowering plant family Pedaliaceae.\n",
      "++++++++++++++++++++++++++++++++++++\n",
      "[{'taxon': 'Pedaliaceae'}]\n",
      "++++++++++++++++++++++++++++++++++++\n",
      "{'triplets': []}\n",
      "====================================\n",
      "{'model1': 'Llama-2-7b-m1ft-q4.gguf', 'model2': 'Llama-2-7b-m2ft-q4.gguf', 'sent': 'Sesamum is a genus of about 20 species in the flowering plant family Pedaliaceae.', 'triples': []}\n",
      "====================================\n"
     ]
    },
    {
     "name": "stderr",
     "output_type": "stream",
     "text": [
      "\n",
      "llama_print_timings:        load time =    4202.89 ms\n",
      "llama_print_timings:      sample time =       5.09 ms /    25 runs   (    0.20 ms per token,  4907.73 tokens per second)\n",
      "llama_print_timings: prompt eval time =     412.29 ms /    38 tokens (   10.85 ms per token,    92.17 tokens per second)\n",
      "llama_print_timings:        eval time =     769.99 ms /    24 runs   (   32.08 ms per token,    31.17 tokens per second)\n",
      "llama_print_timings:       total time =    1237.81 ms /    62 tokens\n",
      " 88%|████████▊ | 138/157 [07:33<00:49,  2.62s/it]Llama.generate: prefix-match hit\n"
     ]
    },
    {
     "name": "stdout",
     "output_type": "stream",
     "text": [
      "In the APG III system, the genus Pelliciera, previously treated as its own family, Pellicieraceae, is included in Tetrameristaceae.\n",
      "++++++++++++++++++++++++++++++++++++\n",
      "[{'taxon': 'Tetrameristaceae'}]\n",
      "++++++++++++++++++++++++++++++++++++\n",
      "{'triplets': []}\n",
      "====================================\n",
      "{'model1': 'Llama-2-7b-m1ft-q4.gguf', 'model2': 'Llama-2-7b-m2ft-q4.gguf', 'sent': 'In the APG III system, the genus Pelliciera, previously treated as its own family, Pellicieraceae, is included in Tetrameristaceae.', 'triples': []}\n",
      "====================================\n"
     ]
    },
    {
     "name": "stderr",
     "output_type": "stream",
     "text": [
      "\n",
      "llama_print_timings:        load time =    4202.89 ms\n",
      "llama_print_timings:      sample time =       6.57 ms /    35 runs   (    0.19 ms per token,  5331.30 tokens per second)\n",
      "llama_print_timings: prompt eval time =     558.42 ms /    52 tokens (   10.74 ms per token,    93.12 tokens per second)\n",
      "llama_print_timings:        eval time =    1085.63 ms /    34 runs   (   31.93 ms per token,    31.32 tokens per second)\n",
      "llama_print_timings:       total time =    1718.62 ms /    86 tokens\n",
      "Llama.generate: prefix-match hit\n"
     ]
    },
    {
     "name": "stdout",
     "output_type": "stream",
     "text": [
      "Mount Eisenhower (formerly Mount Pleasant) is a mountain in the Presidential Range in the White Mountains of New Hampshire approximately 4,760Â ft (1,450Â m) high.\n",
      "++++++++++++++++++++++++++++++++++++\n",
      "[{'mountain': 'Mount Eisenhower', 'mountain_range': 'Presidential Range'}]\n",
      "++++++++++++++++++++++++++++++++++++\n"
     ]
    },
    {
     "name": "stderr",
     "output_type": "stream",
     "text": [
      "\n",
      "llama_print_timings:        load time =    4245.28 ms\n",
      "llama_print_timings:      sample time =       7.75 ms /    29 runs   (    0.27 ms per token,  3744.35 tokens per second)\n",
      "llama_print_timings: prompt eval time =    2085.62 ms /   198 tokens (   10.53 ms per token,    94.94 tokens per second)\n",
      "llama_print_timings:        eval time =     844.59 ms /    28 runs   (   30.16 ms per token,    33.15 tokens per second)\n",
      "llama_print_timings:       total time =    3048.77 ms /   226 tokens\n",
      " 89%|████████▊ | 139/157 [07:38<00:58,  3.27s/it]Llama.generate: prefix-match hit\n"
     ]
    },
    {
     "name": "stdout",
     "output_type": "stream",
     "text": [
      "[{'sub': 'Mount Eisenhower', 'rel': 'mountain range', 'obj': 'Presidential Range'}]\n",
      "====================================\n",
      "{'model1': 'Llama-2-7b-m1ft-q4.gguf', 'model2': 'Llama-2-7b-m2ft-q4.gguf', 'sent': 'Mount Eisenhower (formerly Mount Pleasant) is a mountain in the Presidential Range in the White Mountains of New Hampshire approximately 4,760Â\\xa0ft (1,450Â\\xa0m) high.', 'triples': [{'sub': 'Mount Eisenhower', 'rel': 'mountain range', 'obj': 'Presidential Range'}]}\n",
      "====================================\n"
     ]
    },
    {
     "name": "stderr",
     "output_type": "stream",
     "text": [
      "\n",
      "llama_print_timings:        load time =    4202.89 ms\n",
      "llama_print_timings:      sample time =       6.19 ms /    33 runs   (    0.19 ms per token,  5332.90 tokens per second)\n",
      "llama_print_timings: prompt eval time =     986.02 ms /    38 tokens (   25.95 ms per token,    38.54 tokens per second)\n",
      "llama_print_timings:        eval time =    1029.22 ms /    32 runs   (   32.16 ms per token,    31.09 tokens per second)\n",
      "llama_print_timings:       total time =    2085.88 ms /    70 tokens\n",
      "Llama.generate: prefix-match hit\n"
     ]
    },
    {
     "name": "stdout",
     "output_type": "stream",
     "text": [
      "The Daumberg is an extinct volcano in the Odenwald mountain range with an altitude of 462 m (1,516 ft).\n",
      "++++++++++++++++++++++++++++++++++++\n",
      "[{'mountain': 'Daumberg', 'mountain_range': 'Odenwald'}]\n",
      "++++++++++++++++++++++++++++++++++++\n"
     ]
    },
    {
     "name": "stderr",
     "output_type": "stream",
     "text": [
      "\n",
      "llama_print_timings:        load time =    4245.28 ms\n",
      "llama_print_timings:      sample time =       5.61 ms /    27 runs   (    0.21 ms per token,  4809.41 tokens per second)\n",
      "llama_print_timings: prompt eval time =    1922.37 ms /   178 tokens (   10.80 ms per token,    92.59 tokens per second)\n",
      "llama_print_timings:        eval time =     841.32 ms /    26 runs   (   32.36 ms per token,    30.90 tokens per second)\n",
      "llama_print_timings:       total time =    2857.15 ms /   204 tokens\n",
      " 89%|████████▉ | 140/157 [07:43<01:04,  3.78s/it]Llama.generate: prefix-match hit\n"
     ]
    },
    {
     "name": "stdout",
     "output_type": "stream",
     "text": [
      "[{'sub': 'Daumberg', 'rel': 'mountain range', 'obj': 'Odenwald'}]\n",
      "====================================\n",
      "{'model1': 'Llama-2-7b-m1ft-q4.gguf', 'model2': 'Llama-2-7b-m2ft-q4.gguf', 'sent': 'The Daumberg is an extinct volcano in the Odenwald mountain range with an altitude of 462 m (1,516 ft).', 'triples': [{'sub': 'Daumberg', 'rel': 'mountain range', 'obj': 'Odenwald'}]}\n",
      "====================================\n"
     ]
    },
    {
     "name": "stderr",
     "output_type": "stream",
     "text": [
      "\n",
      "llama_print_timings:        load time =    4202.89 ms\n",
      "llama_print_timings:      sample time =       6.94 ms /    38 runs   (    0.18 ms per token,  5479.45 tokens per second)\n",
      "llama_print_timings: prompt eval time =    1706.67 ms /    39 tokens (   43.76 ms per token,    22.85 tokens per second)\n",
      "llama_print_timings:        eval time =    1191.21 ms /    37 runs   (   32.19 ms per token,    31.06 tokens per second)\n",
      "llama_print_timings:       total time =    2974.20 ms /    76 tokens\n",
      "Llama.generate: prefix-match hit\n"
     ]
    },
    {
     "name": "stdout",
     "output_type": "stream",
     "text": [
      "The Kurshab (Kyrgyz: ) flows into Andijan Reservoir (drained by the Kara Darya) in Kyrgyzstan.\n",
      "++++++++++++++++++++++++++++++++++++\n",
      "[{'watercourse': 'Kurshab', 'body_of_water': 'Andijan Reservoir'}]\n",
      "++++++++++++++++++++++++++++++++++++\n"
     ]
    },
    {
     "name": "stderr",
     "output_type": "stream",
     "text": [
      "\n",
      "llama_print_timings:        load time =    4245.28 ms\n",
      "llama_print_timings:      sample time =       6.24 ms /    33 runs   (    0.19 ms per token,  5292.70 tokens per second)\n",
      "llama_print_timings: prompt eval time =    1756.27 ms /   189 tokens (    9.29 ms per token,   107.61 tokens per second)\n",
      "llama_print_timings:        eval time =     951.03 ms /    32 runs   (   29.72 ms per token,    33.65 tokens per second)\n",
      "llama_print_timings:       total time =    2795.36 ms /   221 tokens\n",
      " 90%|████████▉ | 141/157 [07:49<01:10,  4.38s/it]Llama.generate: prefix-match hit\n"
     ]
    },
    {
     "name": "stdout",
     "output_type": "stream",
     "text": [
      "[{'sub': 'Kurshab', 'rel': 'origin of the watercourse', 'obj': 'Andijan Reservoir'}]\n",
      "====================================\n",
      "{'model1': 'Llama-2-7b-m1ft-q4.gguf', 'model2': 'Llama-2-7b-m2ft-q4.gguf', 'sent': 'The Kurshab (Kyrgyz: ) flows into Andijan Reservoir (drained by the Kara Darya) in Kyrgyzstan.', 'triples': [{'sub': 'Kurshab', 'rel': 'origin of the watercourse', 'obj': 'Andijan Reservoir'}]}\n",
      "====================================\n"
     ]
    },
    {
     "name": "stderr",
     "output_type": "stream",
     "text": [
      "\n",
      "llama_print_timings:        load time =    4202.89 ms\n",
      "llama_print_timings:      sample time =       6.72 ms /    35 runs   (    0.19 ms per token,  5211.44 tokens per second)\n",
      "llama_print_timings: prompt eval time =     512.56 ms /    12 tokens (   42.71 ms per token,    23.41 tokens per second)\n",
      "llama_print_timings:        eval time =    1090.72 ms /    34 runs   (   32.08 ms per token,    31.17 tokens per second)\n",
      "llama_print_timings:       total time =    1675.81 ms /    46 tokens\n",
      "Llama.generate: prefix-match hit\n"
     ]
    },
    {
     "name": "stdout",
     "output_type": "stream",
     "text": [
      "The dam impounds Crystal Reservoir.\n",
      "++++++++++++++++++++++++++++++++++++\n",
      "[{'dam': 'Crystal Dam', 'reservoir': 'Crystal Reservoir'}]\n",
      "++++++++++++++++++++++++++++++++++++\n"
     ]
    },
    {
     "name": "stderr",
     "output_type": "stream",
     "text": [
      "\n",
      "llama_print_timings:        load time =    4245.28 ms\n",
      "llama_print_timings:      sample time =       5.50 ms /    32 runs   (    0.17 ms per token,  5818.18 tokens per second)\n",
      "llama_print_timings: prompt eval time =    1466.43 ms /   159 tokens (    9.22 ms per token,   108.43 tokens per second)\n",
      "llama_print_timings:        eval time =     914.01 ms /    31 runs   (   29.48 ms per token,    33.92 tokens per second)\n",
      "llama_print_timings:       total time =    2452.59 ms /   190 tokens\n",
      " 90%|█████████ | 142/157 [07:53<01:04,  4.31s/it]Llama.generate: prefix-match hit\n"
     ]
    },
    {
     "name": "stdout",
     "output_type": "stream",
     "text": [
      "[{'sub': 'Crystal Dam', 'rel': 'reservoir created', 'obj': 'Crystal Reservoir'}]\n",
      "====================================\n",
      "{'model1': 'Llama-2-7b-m1ft-q4.gguf', 'model2': 'Llama-2-7b-m2ft-q4.gguf', 'sent': 'The dam impounds Crystal Reservoir.', 'triples': [{'sub': 'Crystal Dam', 'rel': 'reservoir created', 'obj': 'Crystal Reservoir'}]}\n",
      "====================================\n"
     ]
    },
    {
     "name": "stderr",
     "output_type": "stream",
     "text": [
      "\n",
      "llama_print_timings:        load time =    4202.89 ms\n",
      "llama_print_timings:      sample time =       5.31 ms /    24 runs   (    0.22 ms per token,  4520.63 tokens per second)\n",
      "llama_print_timings: prompt eval time =     706.54 ms /    62 tokens (   11.40 ms per token,    87.75 tokens per second)\n",
      "llama_print_timings:        eval time =     752.57 ms /    23 runs   (   32.72 ms per token,    30.56 tokens per second)\n",
      "llama_print_timings:       total time =    1522.31 ms /    85 tokens\n",
      " 91%|█████████ | 143/157 [07:55<00:48,  3.48s/it]Llama.generate: prefix-match hit\n"
     ]
    },
    {
     "name": "stdout",
     "output_type": "stream",
     "text": [
      "The consensus on placement of the family is with the Dasyuromorphia order, with agreement on the divergence this family and the Dasyuridae, represented by the extant quolls and Tasmanian devil Sarcophilus harrisii, remaining under consideration.\n",
      "++++++++++++++++++++++++++++++++++++\n",
      "[{'taxon': 'Dasyuromorphia'}]\n",
      "++++++++++++++++++++++++++++++++++++\n",
      "{'triplets': []}\n",
      "====================================\n",
      "{'model1': 'Llama-2-7b-m1ft-q4.gguf', 'model2': 'Llama-2-7b-m2ft-q4.gguf', 'sent': 'The consensus on placement of the family is with the Dasyuromorphia order, with agreement on the divergence this family and the Dasyuridae, represented by the extant quolls and Tasmanian devil Sarcophilus harrisii, remaining under consideration.', 'triples': []}\n",
      "====================================\n"
     ]
    },
    {
     "name": "stderr",
     "output_type": "stream",
     "text": [
      "\n",
      "llama_print_timings:        load time =    4202.89 ms\n",
      "llama_print_timings:      sample time =       7.00 ms /    34 runs   (    0.21 ms per token,  4856.45 tokens per second)\n",
      "llama_print_timings: prompt eval time =     275.49 ms /    23 tokens (   11.98 ms per token,    83.49 tokens per second)\n",
      "llama_print_timings:        eval time =    1053.96 ms /    33 runs   (   31.94 ms per token,    31.31 tokens per second)\n",
      "llama_print_timings:       total time =    1404.96 ms /    56 tokens\n",
      "Llama.generate: prefix-match hit\n"
     ]
    },
    {
     "name": "stdout",
     "output_type": "stream",
     "text": [
      "Starcke Dam impounds Lake Marble Falls, one of the Texas Highland Lakes.\n",
      "++++++++++++++++++++++++++++++++++++\n",
      "[{'dam': 'Starcke Dam', 'reservoir': 'Lake Marble Falls'}]\n",
      "++++++++++++++++++++++++++++++++++++\n"
     ]
    },
    {
     "name": "stderr",
     "output_type": "stream",
     "text": [
      "\n",
      "llama_print_timings:        load time =    4245.28 ms\n",
      "llama_print_timings:      sample time =       5.53 ms /    31 runs   (    0.18 ms per token,  5607.81 tokens per second)\n",
      "llama_print_timings: prompt eval time =    1772.31 ms /   165 tokens (   10.74 ms per token,    93.10 tokens per second)\n",
      "llama_print_timings:        eval time =     888.80 ms /    30 runs   (   29.63 ms per token,    33.75 tokens per second)\n",
      "llama_print_timings:       total time =    2736.78 ms /   195 tokens\n",
      " 92%|█████████▏| 144/157 [07:59<00:47,  3.68s/it]Llama.generate: prefix-match hit\n"
     ]
    },
    {
     "name": "stdout",
     "output_type": "stream",
     "text": [
      "[{'sub': 'Starcke Dam', 'rel': 'reservoir created', 'obj': 'Lake Marble Falls'}]\n",
      "====================================\n",
      "{'model1': 'Llama-2-7b-m1ft-q4.gguf', 'model2': 'Llama-2-7b-m2ft-q4.gguf', 'sent': 'Starcke Dam impounds Lake Marble Falls, one of the Texas Highland Lakes.', 'triples': [{'sub': 'Starcke Dam', 'rel': 'reservoir created', 'obj': 'Lake Marble Falls'}]}\n",
      "====================================\n"
     ]
    },
    {
     "name": "stderr",
     "output_type": "stream",
     "text": [
      "\n",
      "llama_print_timings:        load time =    4202.89 ms\n",
      "llama_print_timings:      sample time =       7.35 ms /    40 runs   (    0.18 ms per token,  5439.96 tokens per second)\n",
      "llama_print_timings: prompt eval time =     665.04 ms /    27 tokens (   24.63 ms per token,    40.60 tokens per second)\n",
      "llama_print_timings:        eval time =    1254.13 ms /    39 runs   (   32.16 ms per token,    31.10 tokens per second)\n",
      "llama_print_timings:       total time =    2000.92 ms /    66 tokens\n",
      "Llama.generate: prefix-match hit\n"
     ]
    },
    {
     "name": "stdout",
     "output_type": "stream",
     "text": [
      "The broad-billed sandpiper (Calidris falcinellus) is a small wading bird.\n",
      "++++++++++++++++++++++++++++++++++++\n",
      "[{'taxon': 'Broad-billed sandpiper', 'synonym': 'Calidris falcinellus'}]\n",
      "++++++++++++++++++++++++++++++++++++\n"
     ]
    },
    {
     "name": "stderr",
     "output_type": "stream",
     "text": [
      "\n",
      "llama_print_timings:        load time =    4245.28 ms\n",
      "llama_print_timings:      sample time =       6.49 ms /    37 runs   (    0.18 ms per token,  5699.32 tokens per second)\n",
      "llama_print_timings: prompt eval time =    1763.57 ms /   178 tokens (    9.91 ms per token,   100.93 tokens per second)\n",
      "llama_print_timings:        eval time =    1070.99 ms /    36 runs   (   29.75 ms per token,    33.61 tokens per second)\n",
      "llama_print_timings:       total time =    2922.42 ms /   214 tokens\n",
      " 92%|█████████▏| 145/157 [08:04<00:48,  4.06s/it]Llama.generate: prefix-match hit\n"
     ]
    },
    {
     "name": "stdout",
     "output_type": "stream",
     "text": [
      "[{'sub': 'Broad-billed sandpiper', 'rel': 'taxon synonym', 'obj': 'Calidris falcinellus'}]\n",
      "====================================\n",
      "{'model1': 'Llama-2-7b-m1ft-q4.gguf', 'model2': 'Llama-2-7b-m2ft-q4.gguf', 'sent': 'The broad-billed sandpiper (Calidris falcinellus) is a small wading bird.', 'triples': [{'sub': 'Broad-billed sandpiper', 'rel': 'taxon synonym', 'obj': 'Calidris falcinellus'}]}\n",
      "====================================\n"
     ]
    },
    {
     "name": "stderr",
     "output_type": "stream",
     "text": [
      "\n",
      "llama_print_timings:        load time =    4202.89 ms\n",
      "llama_print_timings:      sample time =       5.12 ms /    24 runs   (    0.21 ms per token,  4692.08 tokens per second)\n",
      "llama_print_timings: prompt eval time =     785.71 ms /    32 tokens (   24.55 ms per token,    40.73 tokens per second)\n",
      "llama_print_timings:        eval time =     816.13 ms /    23 runs   (   35.48 ms per token,    28.18 tokens per second)\n",
      "llama_print_timings:       total time =    1669.61 ms /    55 tokens\n",
      " 93%|█████████▎| 146/157 [08:05<00:36,  3.35s/it]Llama.generate: prefix-match hit\n"
     ]
    },
    {
     "name": "stdout",
     "output_type": "stream",
     "text": [
      "Cinnamomum is a genus of evergreen aromatic trees and shrubs belonging to the laurel family, Lauraceae.\n",
      "++++++++++++++++++++++++++++++++++++\n",
      "[{'taxon': 'Cinnamomum'}]\n",
      "++++++++++++++++++++++++++++++++++++\n",
      "{'triplets': []}\n",
      "====================================\n",
      "{'model1': 'Llama-2-7b-m1ft-q4.gguf', 'model2': 'Llama-2-7b-m2ft-q4.gguf', 'sent': 'Cinnamomum is a genus of evergreen aromatic trees and shrubs belonging to the laurel family, Lauraceae.', 'triples': []}\n",
      "====================================\n"
     ]
    },
    {
     "name": "stderr",
     "output_type": "stream",
     "text": [
      "\n",
      "llama_print_timings:        load time =    4202.89 ms\n",
      "llama_print_timings:      sample time =       6.92 ms /    32 runs   (    0.22 ms per token,  4622.94 tokens per second)\n",
      "llama_print_timings: prompt eval time =     291.29 ms /    29 tokens (   10.04 ms per token,    99.56 tokens per second)\n",
      "llama_print_timings:        eval time =    1040.16 ms /    31 runs   (   33.55 ms per token,    29.80 tokens per second)\n",
      "llama_print_timings:       total time =    1402.47 ms /    60 tokens\n",
      "Llama.generate: prefix-match hit\n"
     ]
    },
    {
     "name": "stdout",
     "output_type": "stream",
     "text": [
      "The little auk or dovekie (Alle alle) is a small auk, the only member of the genus Alle.\n",
      "++++++++++++++++++++++++++++++++++++\n",
      "[{'taxon': 'Little auk', 'synonym': 'Alle alle'}]\n",
      "++++++++++++++++++++++++++++++++++++\n"
     ]
    },
    {
     "name": "stderr",
     "output_type": "stream",
     "text": [
      "\n",
      "llama_print_timings:        load time =    4245.28 ms\n",
      "llama_print_timings:      sample time =       5.00 ms /    29 runs   (    0.17 ms per token,  5801.16 tokens per second)\n",
      "llama_print_timings: prompt eval time =    2395.70 ms /   168 tokens (   14.26 ms per token,    70.13 tokens per second)\n",
      "llama_print_timings:        eval time =     829.94 ms /    28 runs   (   29.64 ms per token,    33.74 tokens per second)\n",
      "llama_print_timings:       total time =    3296.00 ms /   196 tokens\n",
      " 94%|█████████▎| 147/157 [08:10<00:37,  3.76s/it]Llama.generate: prefix-match hit\n"
     ]
    },
    {
     "name": "stdout",
     "output_type": "stream",
     "text": [
      "[{'sub': 'Little auk', 'rel': 'taxon synonym', 'obj': 'Alle alle'}]\n",
      "====================================\n",
      "{'model1': 'Llama-2-7b-m1ft-q4.gguf', 'model2': 'Llama-2-7b-m2ft-q4.gguf', 'sent': 'The little auk or dovekie (Alle alle) is a small auk, the only member of the genus Alle.', 'triples': [{'sub': 'Little auk', 'rel': 'taxon synonym', 'obj': 'Alle alle'}]}\n",
      "====================================\n"
     ]
    },
    {
     "name": "stderr",
     "output_type": "stream",
     "text": [
      "\n",
      "llama_print_timings:        load time =    4202.89 ms\n",
      "llama_print_timings:      sample time =       8.27 ms /    37 runs   (    0.22 ms per token,  4473.46 tokens per second)\n",
      "llama_print_timings: prompt eval time =     417.29 ms /    31 tokens (   13.46 ms per token,    74.29 tokens per second)\n",
      "llama_print_timings:        eval time =    1222.98 ms /    36 runs   (   33.97 ms per token,    29.44 tokens per second)\n",
      "llama_print_timings:       total time =    1732.17 ms /    67 tokens\n",
      "Llama.generate: prefix-match hit\n"
     ]
    },
    {
     "name": "stdout",
     "output_type": "stream",
     "text": [
      "Gardiner River is in the James Bay drainage basin, and is a left tributary of the Mattagami River.\n",
      "++++++++++++++++++++++++++++++++++++\n",
      "[{'watercourse': 'Gardiner River', 'drainage_basin': 'James Bay Basin'}]\n",
      "++++++++++++++++++++++++++++++++++++\n"
     ]
    },
    {
     "name": "stderr",
     "output_type": "stream",
     "text": [
      "\n",
      "llama_print_timings:        load time =    4245.28 ms\n",
      "llama_print_timings:      sample time =      10.39 ms /    60 runs   (    0.17 ms per token,  5777.01 tokens per second)\n",
      "llama_print_timings: prompt eval time =    2022.98 ms /   179 tokens (   11.30 ms per token,    88.48 tokens per second)\n",
      "llama_print_timings:        eval time =    1755.42 ms /    59 runs   (   29.75 ms per token,    33.61 tokens per second)\n",
      "llama_print_timings:       total time =    3909.86 ms /   238 tokens\n",
      " 94%|█████████▍| 148/157 [08:16<00:38,  4.33s/it]Llama.generate: prefix-match hit\n"
     ]
    },
    {
     "name": "stdout",
     "output_type": "stream",
     "text": [
      "[{'sub': 'Gardiner River', 'rel': 'mouth of the watercourse', 'obj': 'Mattagami River'}, {'sub': 'Gardiner River', 'rel': 'drainage basin', 'obj': 'James Bay Basin'}]\n",
      "====================================\n",
      "{'model1': 'Llama-2-7b-m1ft-q4.gguf', 'model2': 'Llama-2-7b-m2ft-q4.gguf', 'sent': 'Gardiner River is in the James Bay drainage basin, and is a left tributary of the Mattagami River.', 'triples': [{'sub': 'Gardiner River', 'rel': 'mouth of the watercourse', 'obj': 'Mattagami River'}, {'sub': 'Gardiner River', 'rel': 'drainage basin', 'obj': 'James Bay Basin'}]}\n",
      "====================================\n"
     ]
    },
    {
     "name": "stderr",
     "output_type": "stream",
     "text": [
      "\n",
      "llama_print_timings:        load time =    4202.89 ms\n",
      "llama_print_timings:      sample time =       6.48 ms /    38 runs   (    0.17 ms per token,  5863.29 tokens per second)\n",
      "llama_print_timings: prompt eval time =    1238.69 ms /    93 tokens (   13.32 ms per token,    75.08 tokens per second)\n",
      "llama_print_timings:        eval time =    1195.91 ms /    37 runs   (   32.32 ms per token,    30.94 tokens per second)\n",
      "llama_print_timings:       total time =    2512.34 ms /   130 tokens\n",
      "Llama.generate: prefix-match hit\n"
     ]
    },
    {
     "name": "stdout",
     "output_type": "stream",
     "text": [
      "Jekselen Peak (72Â°0S 2Â°33W) is, at 1,405 metres (4,610Â ft), the highest peak in a small ridge 7 nautical miles (13Â km) east-southeast of Mount Schumacher, in the Ahlmann Ridge of Queen Maud Land, Antarctica.\n",
      "++++++++++++++++++++++++++++++++++++\n",
      "[{'mountain': 'Jekselen Peak', 'mountain_range': 'Ahlmann Ridge'}]\n",
      "++++++++++++++++++++++++++++++++++++\n"
     ]
    },
    {
     "name": "stderr",
     "output_type": "stream",
     "text": [
      "\n",
      "llama_print_timings:        load time =    4245.28 ms\n",
      "llama_print_timings:      sample time =       6.03 ms /    32 runs   (    0.19 ms per token,  5310.32 tokens per second)\n",
      "llama_print_timings: prompt eval time =    2288.90 ms /   242 tokens (    9.46 ms per token,   105.73 tokens per second)\n",
      "llama_print_timings:        eval time =     929.06 ms /    31 runs   (   29.97 ms per token,    33.37 tokens per second)\n",
      "llama_print_timings:       total time =    3300.04 ms /   273 tokens\n",
      " 95%|█████████▍| 149/157 [08:22<00:38,  4.78s/it]Llama.generate: prefix-match hit\n"
     ]
    },
    {
     "name": "stdout",
     "output_type": "stream",
     "text": [
      "[{'sub': 'Jekselen Peak', 'rel': 'mountain range', 'obj': 'Ahlmann Ridge'}]\n",
      "====================================\n",
      "{'model1': 'Llama-2-7b-m1ft-q4.gguf', 'model2': 'Llama-2-7b-m2ft-q4.gguf', 'sent': 'Jekselen Peak (72Â°0S 2Â°33W) is, at 1,405 metres (4,610Â\\xa0ft), the highest peak in a small ridge 7 nautical miles (13Â\\xa0km) east-southeast of Mount Schumacher, in the Ahlmann Ridge of Queen Maud Land, Antarctica.', 'triples': [{'sub': 'Jekselen Peak', 'rel': 'mountain range', 'obj': 'Ahlmann Ridge'}]}\n",
      "====================================\n"
     ]
    },
    {
     "name": "stderr",
     "output_type": "stream",
     "text": [
      "\n",
      "llama_print_timings:        load time =    4202.89 ms\n",
      "llama_print_timings:      sample time =       4.21 ms /    22 runs   (    0.19 ms per token,  5220.69 tokens per second)\n",
      "llama_print_timings: prompt eval time =     570.37 ms /    47 tokens (   12.14 ms per token,    82.40 tokens per second)\n",
      "llama_print_timings:        eval time =     674.62 ms /    21 runs   (   32.12 ms per token,    31.13 tokens per second)\n",
      "llama_print_timings:       total time =    1295.53 ms /    68 tokens\n",
      " 96%|█████████▌| 150/157 [08:23<00:26,  3.74s/it]Llama.generate: prefix-match hit\n"
     ]
    },
    {
     "name": "stdout",
     "output_type": "stream",
     "text": [
      "The Miami Canal, or C-6 Canal, flows from Lake Okeechobee in the U.S. state of Florida to its terminus at the Miami River, which flows through downtown Miami.\n",
      "++++++++++++++++++++++++++++++++++++\n",
      "[{'watercourse': 'Miami River'}]\n",
      "++++++++++++++++++++++++++++++++++++\n",
      "{'triplets': []}\n",
      "====================================\n",
      "{'model1': 'Llama-2-7b-m1ft-q4.gguf', 'model2': 'Llama-2-7b-m2ft-q4.gguf', 'sent': 'The Miami Canal, or C-6 Canal, flows from Lake Okeechobee in the U.S. state of Florida to its terminus at the Miami River, which flows through downtown Miami.', 'triples': []}\n",
      "====================================\n"
     ]
    },
    {
     "name": "stderr",
     "output_type": "stream",
     "text": [
      "\n",
      "llama_print_timings:        load time =    4202.89 ms\n",
      "llama_print_timings:      sample time =       2.64 ms /    13 runs   (    0.20 ms per token,  4916.79 tokens per second)\n",
      "llama_print_timings: prompt eval time =     554.26 ms /    64 tokens (    8.66 ms per token,   115.47 tokens per second)\n",
      "llama_print_timings:        eval time =     419.45 ms /    13 runs   (   32.27 ms per token,    30.99 tokens per second)\n",
      "llama_print_timings:       total time =    1007.87 ms /    77 tokens\n",
      " 96%|█████████▌| 151/157 [08:24<00:17,  2.92s/it]Llama.generate: prefix-match hit\n"
     ]
    },
    {
     "name": "stdout",
     "output_type": "stream",
     "text": [
      "The other jersey on offer for the sprints classification was claimed by LluÃ­s Mas (Caja Rural-Seguros RGA), while the Movistar Team won the teams classification, after placing a third rider - Marc Soler - in the top-five overall.\n",
      "++++++++++++++++++++++++++++++++++++\n",
      "[{}]\n",
      "++++++++++++++++++++++++++++++++++++\n",
      "{'triplets': []}\n",
      "====================================\n",
      "{'model1': 'Llama-2-7b-m1ft-q4.gguf', 'model2': 'Llama-2-7b-m2ft-q4.gguf', 'sent': 'The other jersey on offer for the sprints classification was claimed by LluÃ\\xads Mas (Caja Rural-Seguros RGA), while the Movistar Team won the teams classification, after placing a third rider - Marc Soler - in the top-five overall.', 'triples': []}\n",
      "====================================\n"
     ]
    },
    {
     "name": "stderr",
     "output_type": "stream",
     "text": [
      "\n",
      "llama_print_timings:        load time =    4202.89 ms\n",
      "llama_print_timings:      sample time =       8.49 ms /    39 runs   (    0.22 ms per token,  4592.02 tokens per second)\n",
      "llama_print_timings: prompt eval time =     410.43 ms /    39 tokens (   10.52 ms per token,    95.02 tokens per second)\n",
      "llama_print_timings:        eval time =    1249.86 ms /    38 runs   (   32.89 ms per token,    30.40 tokens per second)\n",
      "llama_print_timings:       total time =    1751.50 ms /    77 tokens\n",
      "Llama.generate: prefix-match hit\n"
     ]
    },
    {
     "name": "stdout",
     "output_type": "stream",
     "text": [
      "San Emigdio Mountain is in the San Emigdio Mountains, located in Kern County, a few miles north of the Ventura County border in Southern California.\n",
      "++++++++++++++++++++++++++++++++++++\n",
      "[{'mountain': 'San Emigdio Mountain', 'mountain_range': 'San Emigdio Mountains'}]\n",
      "++++++++++++++++++++++++++++++++++++\n"
     ]
    },
    {
     "name": "stderr",
     "output_type": "stream",
     "text": [
      "\n",
      "llama_print_timings:        load time =    4245.28 ms\n",
      "llama_print_timings:      sample time =       5.59 ms /    33 runs   (    0.17 ms per token,  5905.51 tokens per second)\n",
      "llama_print_timings: prompt eval time =    2061.85 ms /   185 tokens (   11.15 ms per token,    89.73 tokens per second)\n",
      "llama_print_timings:        eval time =     949.53 ms /    32 runs   (   29.67 ms per token,    33.70 tokens per second)\n",
      "llama_print_timings:       total time =    3089.25 ms /   217 tokens\n",
      " 97%|█████████▋| 152/157 [08:29<00:17,  3.50s/it]Llama.generate: prefix-match hit\n"
     ]
    },
    {
     "name": "stdout",
     "output_type": "stream",
     "text": [
      "[{'sub': 'San Emigdio Mountain', 'rel': 'mountain range', 'obj': 'San Emigdio Mountains'}]\n",
      "====================================\n",
      "{'model1': 'Llama-2-7b-m1ft-q4.gguf', 'model2': 'Llama-2-7b-m2ft-q4.gguf', 'sent': 'San Emigdio Mountain is in the San Emigdio Mountains, located in Kern County, a few miles north of the Ventura County border in Southern California.', 'triples': [{'sub': 'San Emigdio Mountain', 'rel': 'mountain range', 'obj': 'San Emigdio Mountains'}]}\n",
      "====================================\n"
     ]
    },
    {
     "name": "stderr",
     "output_type": "stream",
     "text": [
      "\n",
      "llama_print_timings:        load time =    4202.89 ms\n",
      "llama_print_timings:      sample time =       5.98 ms /    25 runs   (    0.24 ms per token,  4182.00 tokens per second)\n",
      "llama_print_timings: prompt eval time =     618.80 ms /    46 tokens (   13.45 ms per token,    74.34 tokens per second)\n",
      "llama_print_timings:        eval time =     814.39 ms /    24 runs   (   33.93 ms per token,    29.47 tokens per second)\n",
      "llama_print_timings:       total time =    1503.63 ms /    70 tokens\n",
      " 97%|█████████▋| 153/157 [08:30<00:11,  2.91s/it]Llama.generate: prefix-match hit\n"
     ]
    },
    {
     "name": "stdout",
     "output_type": "stream",
     "text": [
      "The Chuya Steppe (Russian:  ) in the Siberian Altai Mountains is a depression formed by tectonic movement of major faults in the Earth's crust.\n",
      "++++++++++++++++++++++++++++++++++++\n",
      "[{'mountain_range': 'Altai Mountains'}]\n",
      "++++++++++++++++++++++++++++++++++++\n",
      "{'triplets': []}\n",
      "====================================\n",
      "{'model1': 'Llama-2-7b-m1ft-q4.gguf', 'model2': 'Llama-2-7b-m2ft-q4.gguf', 'sent': \"The Chuya Steppe (Russian:  ) in the Siberian Altai Mountains is a depression formed by tectonic movement of major faults in the Earth's crust.\", 'triples': []}\n",
      "====================================\n"
     ]
    },
    {
     "name": "stderr",
     "output_type": "stream",
     "text": [
      "\n",
      "llama_print_timings:        load time =    4202.89 ms\n",
      "llama_print_timings:      sample time =       6.36 ms /    33 runs   (    0.19 ms per token,  5185.42 tokens per second)\n",
      "llama_print_timings: prompt eval time =     547.82 ms /    54 tokens (   10.14 ms per token,    98.57 tokens per second)\n",
      "llama_print_timings:        eval time =    1030.65 ms /    32 runs   (   32.21 ms per token,    31.05 tokens per second)\n",
      "llama_print_timings:       total time =    1649.94 ms /    86 tokens\n",
      "Llama.generate: prefix-match hit\n"
     ]
    },
    {
     "name": "stdout",
     "output_type": "stream",
     "text": [
      "Crest elevation of both dams is 1,580 feet (480Â m), and the maximum water level in Banks Lake is elevation 1,570 feet (480Â m).\n",
      "++++++++++++++++++++++++++++++++++++\n",
      "[{'dam': 'Dry Falls Dam', 'reservoir': 'Banks Lake'}]\n",
      "++++++++++++++++++++++++++++++++++++\n"
     ]
    },
    {
     "name": "stderr",
     "output_type": "stream",
     "text": [
      "\n",
      "llama_print_timings:        load time =    4245.28 ms\n",
      "llama_print_timings:      sample time =       5.11 ms /    30 runs   (    0.17 ms per token,  5866.25 tokens per second)\n",
      "llama_print_timings: prompt eval time =    3076.04 ms /   198 tokens (   15.54 ms per token,    64.37 tokens per second)\n",
      "llama_print_timings:        eval time =     860.44 ms /    29 runs   (   29.67 ms per token,    33.70 tokens per second)\n",
      "llama_print_timings:       total time =    4006.05 ms /   227 tokens\n",
      " 98%|█████████▊| 154/157 [08:36<00:11,  3.74s/it]Llama.generate: prefix-match hit\n"
     ]
    },
    {
     "name": "stdout",
     "output_type": "stream",
     "text": [
      "[{'sub': 'Dry Falls Dam', 'rel': 'reservoir created', 'obj': 'Banks Lake'}]\n",
      "====================================\n",
      "{'model1': 'Llama-2-7b-m1ft-q4.gguf', 'model2': 'Llama-2-7b-m2ft-q4.gguf', 'sent': 'Crest elevation of both dams is 1,580 feet (480Â\\xa0m), and the maximum water level in Banks Lake is elevation 1,570 feet (480Â\\xa0m).', 'triples': [{'sub': 'Dry Falls Dam', 'rel': 'reservoir created', 'obj': 'Banks Lake'}]}\n",
      "====================================\n"
     ]
    },
    {
     "name": "stderr",
     "output_type": "stream",
     "text": [
      "\n",
      "llama_print_timings:        load time =    4202.89 ms\n",
      "llama_print_timings:      sample time =       9.53 ms /    42 runs   (    0.23 ms per token,  4408.06 tokens per second)\n",
      "llama_print_timings: prompt eval time =    1260.48 ms /    39 tokens (   32.32 ms per token,    30.94 tokens per second)\n",
      "llama_print_timings:        eval time =    1339.22 ms /    41 runs   (   32.66 ms per token,    30.61 tokens per second)\n",
      "llama_print_timings:       total time =    2714.88 ms /    80 tokens\n",
      "Llama.generate: prefix-match hit\n"
     ]
    },
    {
     "name": "stdout",
     "output_type": "stream",
     "text": [
      "Lugenda River flows in a south-north direction from Lake Amaramba/Lake Chiuta and is the largest tributary of the Ruvuma River.\n",
      "++++++++++++++++++++++++++++++++++++\n",
      "[{'watercourse': 'Lugenda River', 'body_of_water': 'Lake Amaramba/Lake Chiuta'}]\n",
      "++++++++++++++++++++++++++++++++++++\n"
     ]
    },
    {
     "name": "stderr",
     "output_type": "stream",
     "text": [
      "\n",
      "llama_print_timings:        load time =    4245.28 ms\n",
      "llama_print_timings:      sample time =       6.93 ms /    37 runs   (    0.19 ms per token,  5339.88 tokens per second)\n",
      "llama_print_timings: prompt eval time =    2257.16 ms /   192 tokens (   11.76 ms per token,    85.06 tokens per second)\n",
      "llama_print_timings:        eval time =    1076.08 ms /    36 runs   (   29.89 ms per token,    33.45 tokens per second)\n",
      "llama_print_timings:       total time =    3425.19 ms /   228 tokens\n",
      " 99%|█████████▊| 155/157 [08:42<00:08,  4.46s/it]Llama.generate: prefix-match hit\n"
     ]
    },
    {
     "name": "stdout",
     "output_type": "stream",
     "text": [
      "[{'sub': 'Lugenda River', 'rel': 'origin of the watercourse', 'obj': 'Lake Amaramba/Lake Chiuta'}]\n",
      "====================================\n",
      "{'model1': 'Llama-2-7b-m1ft-q4.gguf', 'model2': 'Llama-2-7b-m2ft-q4.gguf', 'sent': 'Lugenda River flows in a south-north direction from Lake Amaramba/Lake Chiuta and is the largest tributary of the Ruvuma River.', 'triples': [{'sub': 'Lugenda River', 'rel': 'origin of the watercourse', 'obj': 'Lake Amaramba/Lake Chiuta'}]}\n",
      "====================================\n"
     ]
    },
    {
     "name": "stderr",
     "output_type": "stream",
     "text": [
      "\n",
      "llama_print_timings:        load time =    4202.89 ms\n",
      "llama_print_timings:      sample time =       4.31 ms /    24 runs   (    0.18 ms per token,  5565.86 tokens per second)\n",
      "llama_print_timings: prompt eval time =    1214.97 ms /    72 tokens (   16.87 ms per token,    59.26 tokens per second)\n",
      "llama_print_timings:        eval time =     741.94 ms /    23 runs   (   32.26 ms per token,    31.00 tokens per second)\n",
      "llama_print_timings:       total time =    2010.21 ms /    95 tokens\n",
      " 99%|█████████▉| 156/157 [08:44<00:03,  3.73s/it]Llama.generate: prefix-match hit\n"
     ]
    },
    {
     "name": "stdout",
     "output_type": "stream",
     "text": [
      "The Sandanska Bistritsa takes its source from the south-eastern corner of the Tevnoto Lake in Northern Pirin at an altitude of 2,512Â m. It flows in southern direction through another four lakes of the Malokamenishki Lakes group and then turns westwards.\n",
      "++++++++++++++++++++++++++++++++++++\n",
      "[{'watercourse': 'Tevnoto Lake'}]\n",
      "++++++++++++++++++++++++++++++++++++\n",
      "{'triplets': []}\n",
      "====================================\n",
      "{'model1': 'Llama-2-7b-m1ft-q4.gguf', 'model2': 'Llama-2-7b-m2ft-q4.gguf', 'sent': 'The Sandanska Bistritsa takes its source from the south-eastern corner of the Tevnoto Lake in Northern Pirin at an altitude of 2,512Â\\xa0m. It flows in southern direction through another four lakes of the Malokamenishki Lakes group and then turns westwards.', 'triples': []}\n",
      "====================================\n"
     ]
    },
    {
     "name": "stderr",
     "output_type": "stream",
     "text": [
      "\n",
      "llama_print_timings:        load time =    4202.89 ms\n",
      "llama_print_timings:      sample time =       7.39 ms /    36 runs   (    0.21 ms per token,  4872.77 tokens per second)\n",
      "llama_print_timings: prompt eval time =     546.41 ms /    51 tokens (   10.71 ms per token,    93.34 tokens per second)\n",
      "llama_print_timings:        eval time =    1145.04 ms /    35 runs   (   32.72 ms per token,    30.57 tokens per second)\n",
      "llama_print_timings:       total time =    1774.83 ms /    86 tokens\n",
      "Llama.generate: prefix-match hit\n"
     ]
    },
    {
     "name": "stdout",
     "output_type": "stream",
     "text": [
      "The willet (Tringa semipalmata), formerly in the monotypic genus Catoptrophorus as Catoptrophorus semipalmatus, is a large shorebird in the family Scolopacidae.\n",
      "++++++++++++++++++++++++++++++++++++\n",
      "[{'taxon': 'Willet', 'synonym': 'Catoptrophorus semipalmatus'}]\n",
      "++++++++++++++++++++++++++++++++++++\n"
     ]
    },
    {
     "name": "stderr",
     "output_type": "stream",
     "text": [
      "\n",
      "llama_print_timings:        load time =    4245.28 ms\n",
      "llama_print_timings:      sample time =       5.74 ms /    33 runs   (    0.17 ms per token,  5753.14 tokens per second)\n",
      "llama_print_timings: prompt eval time =    1979.98 ms /   199 tokens (    9.95 ms per token,   100.51 tokens per second)\n",
      "llama_print_timings:        eval time =     956.60 ms /    32 runs   (   29.89 ms per token,    33.45 tokens per second)\n",
      "llama_print_timings:       total time =    3022.69 ms /   231 tokens\n",
      "100%|██████████| 157/157 [08:49<00:00,  3.37s/it]"
     ]
    },
    {
     "name": "stdout",
     "output_type": "stream",
     "text": [
      "[{'sub': 'Willet', 'rel': 'taxon synonym', 'obj': 'Catoptrophorus semipalmatus'}]\n",
      "====================================\n",
      "{'model1': 'Llama-2-7b-m1ft-q4.gguf', 'model2': 'Llama-2-7b-m2ft-q4.gguf', 'sent': 'The willet (Tringa semipalmata), formerly in the monotypic genus Catoptrophorus as Catoptrophorus semipalmatus, is a large shorebird in the family Scolopacidae.', 'triples': [{'sub': 'Willet', 'rel': 'taxon synonym', 'obj': 'Catoptrophorus semipalmatus'}]}\n",
      "====================================\n"
     ]
    },
    {
     "name": "stderr",
     "output_type": "stream",
     "text": [
      "\n"
     ]
    }
   ],
   "source": [
    "builder = TripletBuilder(relations_schema,\n",
    "                         model1_path=os.path.join('artifacts', DOMAIN, 'model_1/Llama-2-7b-m1ft-q4.gguf'),\n",
    "                         model2_path=os.path.join('artifacts', DOMAIN, 'model_2/Llama-2-7b-m2ft-q4.gguf'),\n",
    "                         n_runs=1000)\n",
    "\n",
    "builder.load_data(GROUND_TRUTH_PATH, test_index)\n",
    "\n",
    "generated_triples = builder.get_triplets()\n",
    "\n",
    "with open(os.path.join('artifacts', DOMAIN, 'triples_ft.jsonl'), 'w', encoding='utf-8') as f:\n",
    "    for entry in generated_triples:\n",
    "        json_record = json.dumps(entry, ensure_ascii=False)\n",
    "        f.write(json_record + '\\n')"
   ]
  },
  {
   "cell_type": "markdown",
   "metadata": {},
   "source": [
    "## Создание файла по триплетам Ground Truth"
   ]
  },
  {
   "cell_type": "code",
   "execution_count": 13,
   "metadata": {},
   "outputs": [],
   "source": [
    "with open(GROUND_TRUTH_PATH, 'r') as f:\n",
    "    data = f.readlines()\n",
    "\n",
    "data = [data[i] for i in test_index]\n",
    "\n",
    "with open(os.path.join('artifacts', DOMAIN, 'triples_gt.jsonl'), 'w', encoding='utf-8') as f:\n",
    "    for x in data:\n",
    "        f.write(x)"
   ]
  },
  {
   "cell_type": "code",
   "execution_count": 14,
   "metadata": {},
   "outputs": [],
   "source": [
    "# Конвертация старого запуска \n",
    "\n",
    "# with open('artifacts/movie/mixtral_movie_full_ft.jsonl', 'r') as f:\n",
    "#     data = f.readlines()\n",
    "\n",
    "# data = [data[i] for i in test_index]\n",
    "\n",
    "# with open(os.path.join('artifacts', DOMAIN, 'triples_ft.jsonl'), 'w', encoding='utf-8') as f:\n",
    "#     for x in data:\n",
    "#         f.write(x)"
   ]
  },
  {
   "cell_type": "markdown",
   "metadata": {},
   "source": [
    "# Получение метрик по триплетам"
   ]
  },
  {
   "cell_type": "markdown",
   "metadata": {},
   "source": [
    "Метрика Жаккарда - отношение пересечения и объединению множеств триплетов первой и второй модели. Триплеты считваются одинаковыми только при полном совпадении всех трех полей"
   ]
  },
  {
   "cell_type": "code",
   "execution_count": 15,
   "metadata": {},
   "outputs": [],
   "source": [
    "class Jaccard_metric:\n",
    "\n",
    "    def clean_list(self, A):\n",
    "        AA = []\n",
    "        if A is not None:\n",
    "            for a in A:\n",
    "                if isinstance(a, dict) and 'sub' in a.keys() and 'rel' in a.keys() and 'obj' in a.keys():\n",
    "                    AA.append(a)\n",
    "\n",
    "        return AA\n",
    "\n",
    "\n",
    "    def count_matching(self, A, B):\n",
    "        \"\"\"\n",
    "        Функция подсчитывает количество одинаковых триплетов\n",
    "        \"\"\"\n",
    "\n",
    "        count = 0\n",
    "        A = self.clean_list(A)\n",
    "        B = self.clean_list(B)\n",
    "\n",
    "        for i in range(len(A)):\n",
    "            a = A[i]\n",
    "            for j in range(len(B)):\n",
    "                b = B[j]\n",
    "                if a['sub'] == b['sub'] and a['rel'] == b['rel'] and a['obj'] == b['obj']:\n",
    "                    count += 1\n",
    "                    continue\n",
    "\n",
    "        return count\n",
    "\n",
    "\n",
    "    def count_unique(self, A, B):\n",
    "        \"\"\"\n",
    "        Функция, которая подсчитывает количество уникальных триплетов\n",
    "        \"\"\"\n",
    "\n",
    "        A = self.clean_list(A)\n",
    "        B = self.clean_list(B)\n",
    "\n",
    "        return len(A) + len(B) - self.count_matching(A, B)\n",
    "\n",
    "\n",
    "    def get_metric(self, expected: List[Set], predicted: List[Set]) -> float:\n",
    "\n",
    "        try:\n",
    "            X = expected\n",
    "            Y = predicted\n",
    "            return self.count_matching(X, Y) / self.count_unique(X, Y)\n",
    "        except:\n",
    "            return 0\n",
    "        \n",
    "    \n",
    "    def read_triples(self, path: str) -> List[List[Set]]:\n",
    "        with open(path, 'r') as f:\n",
    "            data = f.readlines()\n",
    "\n",
    "        result = []\n",
    "        for i_text in data:\n",
    "            i_text = json.loads(i_text)\n",
    "\n",
    "            triples = i_text['triples']\n",
    "            result.append(triples)\n",
    "\n",
    "        return result\n",
    "    \n",
    "\n",
    "    def model_metric(self, expected_path: str, predicted_path: str) -> float:\n",
    "        \"\"\"Возвращает среднее значение меры Жаккара по двум наборам триплетов. \n",
    "        Триплеты считаются одинаковыми при полном совпадении\"\"\"\n",
    "\n",
    "        expected_list = self.read_triples(expected_path)\n",
    "        predicted_list = self.read_triples(predicted_path)\n",
    "        metric_arr = []\n",
    "\n",
    "        for expected, predicted in zip(expected_list, predicted_list):\n",
    "            metric = self.get_metric(expected, predicted)\n",
    "            metric_arr.append(metric)\n",
    "\n",
    "        return np.array(metric_arr).mean()\n"
   ]
  },
  {
   "cell_type": "code",
   "execution_count": 16,
   "metadata": {},
   "outputs": [
    {
     "data": {
      "text/plain": [
       "(0.0, 0.24699221514508135)"
      ]
     },
     "execution_count": 16,
     "metadata": {},
     "output_type": "execute_result"
    }
   ],
   "source": [
    "jaccard_metric = Jaccard_metric()\n",
    "jaccard_metric_base = jaccard_metric.model_metric(\n",
    "    os.path.join('artifacts', DOMAIN, 'triples_gt.jsonl'),\n",
    "    os.path.join('artifacts', DOMAIN, 'triples_base.jsonl'),\n",
    ")\n",
    "jaccard_metric_ft = jaccard_metric.model_metric(\n",
    "    os.path.join('artifacts', DOMAIN, 'triples_gt.jsonl'),\n",
    "    os.path.join('artifacts', DOMAIN, 'triples_ft.jsonl'),\n",
    ")\n",
    "\n",
    "jaccard_metric_base, jaccard_metric_ft"
   ]
  },
  {
   "cell_type": "code",
   "execution_count": null,
   "metadata": {},
   "outputs": [],
   "source": []
  },
  {
   "cell_type": "markdown",
   "metadata": {},
   "source": [
    "Адаптированные классические метрики точности, полноты и f1"
   ]
  },
  {
   "cell_type": "code",
   "execution_count": null,
   "metadata": {},
   "outputs": [],
   "source": [
    "class GraphEvaluator:\n",
    "    def __init__(self):\n",
    "        pass\n",
    "\n",
    "    def get_metrics(self, gold: Set, pred: Set) -> float:\n",
    "        \"\"\"\n",
    "        Method to calculate precision, recall and f1:\n",
    "            Precision is calculated as correct_triples/predicted_triples and\n",
    "            Recall as correct_triples/gold_triples\n",
    "            F1 as the harmonic mean of precision and recall.\n",
    "        :param gold: items in the gold standard\n",
    "        :param pred: items in the system prediction\n",
    "        :return:\n",
    "            p: float - precision\n",
    "            r: float - recall\n",
    "            f1: float - F1\n",
    "        \"\"\"\n",
    "        if len(pred) == 0:\n",
    "            return 0, 0, 0\n",
    "        p = len(gold.intersection(pred)) / len(pred)\n",
    "        r = len(gold.intersection(pred)) / len(gold)\n",
    "        if p + r > 0:\n",
    "            f1 = 2 * ((p * r) / (p + r))\n",
    "        else:\n",
    "            f1 = 0\n",
    "        return p, r, f1\n",
    "    \n",
    "\n",
    "    def normalize_triple(self, sub_label: str, rel_label: str, obj_label: str) -> str:\n",
    "        \"\"\"\n",
    "        Normalize triples for comparison in precision, recall calculations\n",
    "        :param sub_label: subject string\n",
    "        :param rel_label: relation string\n",
    "        :param obj_label: object string\n",
    "        :return: a normalized triple as a single concatenated string\n",
    "        \"\"\"\n",
    "        # remove spaces and underscores and make lower case\n",
    "        sub_label = re.sub(r\"(_|\\s+)\", '', sub_label).lower()\n",
    "        rel_label = re.sub(r\"(_|\\s+)\", '', rel_label).lower()\n",
    "        obj_label = re.sub(r\"(_|\\s+)\", '', obj_label).lower()\n",
    "        # concatenate them to a single string\n",
    "        tr_key = f\"{sub_label}{rel_label}{obj_label}\"\n",
    "        return tr_key\n",
    "    \n",
    "    def filter_triplets(self, file_path, pred=False) -> List[str]:\n",
    "        \"\"\"\n",
    "        Filter triplets from a file.\n",
    "        :param file_path: path to the file containing triplets\n",
    "        :param pred: flag indicating whether the file contains predictions or gold standard triplets\n",
    "        :return: filtered triplets as a list, or filtered triplets and model name as a tuple if pred=True\n",
    "        \"\"\"\n",
    "        with open(file_path, 'r') as f:\n",
    "            data = f.readlines()\n",
    "        filtered_triplets = []\n",
    "        ############################################\n",
    "        # здесь можно указать срез по данным\n",
    "        ############################################\n",
    "        for i_line in data:  #[:10]: # срез по данным. Кол-во n_run из тетрадки по генерации триплетов\n",
    "            json_data = json.loads(i_line)\n",
    "            for i_triple in json_data['triples']:\n",
    "                try:\n",
    "                    if i_triple['rel'] not in [\"cost\", \"main subject\", \"publication date\"]:\n",
    "                        if i_triple['obj'] != \"\":\n",
    "                            filtered_triplets.append(i_triple)\n",
    "                except:\n",
    "                    continue\n",
    "\n",
    "        if pred:\n",
    "            model = json_data.get('model', f\"{json_data.get('model1', '')}+{json_data.get('model2', '')}\")\n",
    "            return [filtered_triplets, model]\n",
    "        \n",
    "        return [filtered_triplets]\n",
    "\n",
    "\n",
    "    def evaluate(self, pred_file_path: str, gold_file_path: str) -> Dict:\n",
    "        \"\"\"\n",
    "        Evaluate the performance of a prediction file against a gold standard file.\n",
    "        :param pred_file_path: path to the prediction file\n",
    "        :param gold_file_path: path to the gold standard file\n",
    "        :return: a dictionary containing the model name, precision, recall, and F1 score\n",
    "        \"\"\"\n",
    "        pred_temp = self.filter_triplets(pred_file_path, pred=True)\n",
    "        pred = pred_temp[0]\n",
    "        model = pred_temp[1]\n",
    "        gold = self.filter_triplets(gold_file_path)[0]\n",
    "        pred_ready = {self.normalize_triple(tr['sub'], tr['rel'], tr['obj']) for tr in pred}\n",
    "        gold_ready = {self.normalize_triple(tr['sub'], tr['rel'], tr['obj']) for tr in gold}\n",
    "        p, r, f1 = self.get_metrics(gold_ready, pred_ready)\n",
    "        return {\"model\": model, \"precision\": p, \"recall\": r, \"f1\": f1}"
   ]
  },
  {
   "cell_type": "code",
   "execution_count": 18,
   "metadata": {},
   "outputs": [
    {
     "data": {
      "text/plain": [
       "({'model': 'llama-2-7b.Q4_0.gguf+llama-2-7b.Q4_0.gguf',\n",
       "  'precision': 0.0,\n",
       "  'recall': 0.0,\n",
       "  'f1': 0},\n",
       " {'model': 'Llama-2-7b-m1ft-q4.gguf+Llama-2-7b-m2ft-q4.gguf',\n",
       "  'precision': 0.5555555555555556,\n",
       "  'recall': 0.28125,\n",
       "  'f1': 0.37344398340248963})"
      ]
     },
     "execution_count": 18,
     "metadata": {},
     "output_type": "execute_result"
    }
   ],
   "source": [
    "evaluator = GraphEvaluator()\n",
    "\n",
    "metrics_base = evaluator.evaluate(\n",
    "    os.path.join('artifacts', DOMAIN, 'triples_base.jsonl'), \n",
    "    os.path.join('artifacts', DOMAIN, 'triples_gt.jsonl'))\n",
    "\n",
    "metrics_ft = evaluator.evaluate(\n",
    "    os.path.join('artifacts', DOMAIN, 'triples_ft.jsonl'), \n",
    "    os.path.join('artifacts', DOMAIN, 'triples_gt.jsonl'))\n",
    "\n",
    "metrics_base, metrics_ft"
   ]
  },
  {
   "cell_type": "markdown",
   "metadata": {},
   "source": [
    "Сохранение"
   ]
  },
  {
   "cell_type": "code",
   "execution_count": 19,
   "metadata": {},
   "outputs": [
    {
     "data": {
      "text/html": [
       "<div>\n",
       "<style scoped>\n",
       "    .dataframe tbody tr th:only-of-type {\n",
       "        vertical-align: middle;\n",
       "    }\n",
       "\n",
       "    .dataframe tbody tr th {\n",
       "        vertical-align: top;\n",
       "    }\n",
       "\n",
       "    .dataframe thead th {\n",
       "        text-align: right;\n",
       "    }\n",
       "</style>\n",
       "<table border=\"1\" class=\"dataframe\">\n",
       "  <thead>\n",
       "    <tr style=\"text-align: right;\">\n",
       "      <th></th>\n",
       "      <th>domain</th>\n",
       "      <th>knowknowledge_graph</th>\n",
       "      <th>jaccard</th>\n",
       "      <th>precision</th>\n",
       "      <th>recall</th>\n",
       "      <th>f1</th>\n",
       "    </tr>\n",
       "  </thead>\n",
       "  <tbody>\n",
       "    <tr>\n",
       "      <th>0</th>\n",
       "      <td>nature</td>\n",
       "      <td>ground truth</td>\n",
       "      <td>1.000000</td>\n",
       "      <td>1.000000</td>\n",
       "      <td>1.00000</td>\n",
       "      <td>1.000000</td>\n",
       "    </tr>\n",
       "    <tr>\n",
       "      <th>1</th>\n",
       "      <td>nature</td>\n",
       "      <td>base</td>\n",
       "      <td>0.000000</td>\n",
       "      <td>0.000000</td>\n",
       "      <td>0.00000</td>\n",
       "      <td>0.000000</td>\n",
       "    </tr>\n",
       "    <tr>\n",
       "      <th>2</th>\n",
       "      <td>nature</td>\n",
       "      <td>finetuned</td>\n",
       "      <td>0.246992</td>\n",
       "      <td>0.555556</td>\n",
       "      <td>0.28125</td>\n",
       "      <td>0.373444</td>\n",
       "    </tr>\n",
       "  </tbody>\n",
       "</table>\n",
       "</div>"
      ],
      "text/plain": [
       "   domain knowknowledge_graph   jaccard  precision   recall        f1\n",
       "0  nature        ground truth  1.000000   1.000000  1.00000  1.000000\n",
       "1  nature                base  0.000000   0.000000  0.00000  0.000000\n",
       "2  nature           finetuned  0.246992   0.555556  0.28125  0.373444"
      ]
     },
     "execution_count": 19,
     "metadata": {},
     "output_type": "execute_result"
    }
   ],
   "source": [
    "metrics_df = pd.DataFrame({\n",
    "    'domain': [DOMAIN, DOMAIN, DOMAIN],\n",
    "    'knowknowledge_graph': ['ground truth','base', 'finetuned'],\n",
    "    'jaccard': [1.0, jaccard_metric_base, jaccard_metric_ft],\n",
    "    'precision': [1.0, metrics_base['precision'], metrics_ft['precision']],\n",
    "    'recall': [1.0, metrics_base['recall'], metrics_ft['recall']],\n",
    "    'f1': [1.0, metrics_base['f1'], metrics_ft['f1']],\n",
    "    })\n",
    "\n",
    "fn = os.path.join('artifacts', DOMAIN, 'kg_metrics.csv')\n",
    "metrics_df.to_csv(fn, index=False)\n",
    "\n",
    "pd.read_csv(fn)\n"
   ]
  },
  {
   "cell_type": "code",
   "execution_count": null,
   "metadata": {},
   "outputs": [],
   "source": []
  }
 ],
 "metadata": {
  "kernelspec": {
   "display_name": "Python 3 (ipykernel)",
   "language": "python",
   "name": "python3"
  },
  "language_info": {
   "codemirror_mode": {
    "name": "ipython",
    "version": 3
   },
   "file_extension": ".py",
   "mimetype": "text/x-python",
   "name": "python",
   "nbconvert_exporter": "python",
   "pygments_lexer": "ipython3",
   "version": "3.9.13"
  }
 },
 "nbformat": 4,
 "nbformat_minor": 2
}
